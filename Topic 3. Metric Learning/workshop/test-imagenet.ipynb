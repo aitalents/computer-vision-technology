{
 "cells": [
  {
   "cell_type": "code",
   "execution_count": null,
   "metadata": {},
   "outputs": [],
   "source": [
    "import os\n",
    "from PIL import Image\n",
    "from pathlib import Path\n",
    "\n",
    "import torch\n",
    "import torchvision.models as models\n",
    "import torchvision.transforms as transforms\n",
    "\n",
    "\n",
    "# Загрузка предварительно обученной модели\n",
    "resnet18 = models.resnet18(pretrained=True)\n",
    "\n",
    "# Удаление последнего слоя классификации\n",
    "resnet18_without_fc = torch.nn.Sequential(*list(resnet18.children())[:-1])\n",
    "\n",
    "# Пример входного тензора\n",
    "example_input = torch.rand(4, 3, 224, 224)\n",
    "\n",
    "# Инференс\n",
    "output = resnet18_without_fc(example_input)\n",
    "\n",
    "# Вывод размерности выхода\n",
    "print(output.shape)\n",
    "\n",
    "model = resnet18_without_fc"
   ]
  },
  {
   "cell_type": "code",
   "execution_count": null,
   "metadata": {},
   "outputs": [],
   "source": [
    "# Преобразование изображений к размеру и формату, необходимым для модели\n",
    "preprocess = transforms.Compose(\n",
    "    [\n",
    "        transforms.Resize(256),\n",
    "        transforms.CenterCrop(224),\n",
    "        transforms.ToTensor(),\n",
    "        transforms.Normalize(mean=[0.485, 0.456, 0.406], std=[0.229, 0.224, 0.225]),\n",
    "    ]\n",
    ")\n",
    "\n",
    "# Функция получения эмбеддингов изображений\n",
    "def get_images_embeddings(images_path, model):\n",
    "    images = []\n",
    "    for image_path in images_path:\n",
    "        images.append(preprocess(Image.open(image_path)))\n",
    "    image_tensor = torch.stack(images)\n",
    "\n",
    "    with torch.no_grad():\n",
    "        embeddings = model(image_tensor)\n",
    "\n",
    "    return embeddings.squeeze()"
   ]
  },
  {
   "cell_type": "code",
   "execution_count": null,
   "metadata": {},
   "outputs": [],
   "source": [
    "# Пути к изображениям\n",
    "image_paths = sorted(Path(\"images\").iterdir())\n",
    "\n",
    "# Получение эмбеддингов для каждого изображения\n",
    "embeddings = get_images_embeddings(image_paths, model)\n",
    "print(embeddings.shape)"
   ]
  },
  {
   "cell_type": "code",
   "execution_count": null,
   "metadata": {},
   "outputs": [],
   "source": [
    "from scipy.spatial.distance import euclidean\n",
    "\n",
    "ind_0, ind_1 = 8, 4  # 4 / 8, 7 / 8\n",
    "\n",
    "image_names = [image_path.name for image_path in image_paths]\n",
    "# Получение евклидова расстояния между эмбеддингами\n",
    "euclidean_distance = euclidean(embeddings[ind_0], embeddings[ind_1])\n",
    "print(f\"Евклидово между ембеддингами {image_names[ind_0]} {image_names[ind_1]}: {euclidean_distance}\")"
   ]
  },
  {
   "cell_type": "code",
   "execution_count": null,
   "metadata": {},
   "outputs": [],
   "source": [
    "normalized_embeddings = torch.nn.functional.normalize(embeddings, p=2, dim=1)\n",
    "\n",
    "# Получение евклидова расстояния между нормализованными эмбеддингами\n",
    "euclidean_distance = euclidean(normalized_embeddings[ind_0], normalized_embeddings[ind_1])\n",
    "print(f\"Евклидово между нормализованными ембеддингами {image_names[ind_0]} {image_names[ind_1]}: {euclidean_distance}\")"
   ]
  },
  {
   "cell_type": "code",
   "execution_count": null,
   "metadata": {},
   "outputs": [],
   "source": [
    "from scipy.spatial.distance import cosine\n",
    "\n",
    "ind_0, ind_1 = 0, 2\n",
    "\n",
    "image_names = [os.path.basename(image_path) for image_path in image_paths]\n",
    "# Получение косинусного расстояния между эмбеддингами\n",
    "cosine_distance = cosine(embeddings[ind_0], embeddings[ind_1])\n",
    "print(f\"Косинусное между ембеддингами {image_names[ind_0]} {image_names[ind_1]}: {cosine_distance}\")"
   ]
  },
  {
   "cell_type": "code",
   "execution_count": null,
   "metadata": {},
   "outputs": [],
   "source": [
    "# Получение косинусного расстояния между нормализованными эмбеддингами\n",
    "cosine_distance = cosine(normalized_embeddings[ind_0], normalized_embeddings[ind_1])\n",
    "print(f\"Косинусное между нормализованными ембеддингами {image_names[ind_0]} {image_names[ind_1]}: {cosine_distance}\")"
   ]
  }
 ],
 "metadata": {
  "kernelspec": {
   "display_name": "py-3-8-15",
   "language": "python",
   "name": "python3"
  },
  "language_info": {
   "codemirror_mode": {
    "name": "ipython",
    "version": 3
   },
   "file_extension": ".py",
   "mimetype": "text/x-python",
   "name": "python",
   "nbconvert_exporter": "python",
   "pygments_lexer": "ipython3",
   "version": "3.8.15"
  }
 },
 "nbformat": 4,
 "nbformat_minor": 2
}
