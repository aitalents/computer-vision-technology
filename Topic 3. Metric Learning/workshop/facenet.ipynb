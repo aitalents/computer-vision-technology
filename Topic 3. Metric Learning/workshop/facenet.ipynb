{
 "cells": [
  {
   "cell_type": "code",
   "execution_count": null,
   "metadata": {},
   "outputs": [],
   "source": [
    "import face_recognition\n",
    "\n",
    "image_query = face_recognition.load_image_file(\"images/volochkova_0.jpg\")\n",
    "image_positive = face_recognition.load_image_file(\"images/volochkova_1.jpeg\")\n",
    "image_negative = face_recognition.load_image_file(\"images/dzigurda.jpeg\")\n",
    "\n",
    "encodings_query = face_recognition.face_encodings(image_query)\n",
    "encodings_positive = face_recognition.face_encodings(image_positive)\n",
    "encodings_negative = face_recognition.face_encodings(image_negative)"
   ]
  },
  {
   "cell_type": "code",
   "execution_count": null,
   "metadata": {},
   "outputs": [],
   "source": [
    "import matplotlib.pyplot as plt\n",
    "\n",
    "fig, axes = plt.subplots(1, 3, figsize=(15, 5))\n",
    "\n",
    "axes[0].imshow(image_query)\n",
    "axes[0].axis('off')\n",
    "axes[0].set_title('Query')\n",
    "\n",
    "axes[1].imshow(image_positive)\n",
    "axes[1].axis('off')\n",
    "axes[1].set_title('Positive')\n",
    "\n",
    "axes[2].imshow(image_negative)\n",
    "axes[2].axis('off')\n",
    "axes[2].set_title('Negative')\n",
    "\n",
    "plt.show()"
   ]
  },
  {
   "cell_type": "code",
   "execution_count": null,
   "metadata": {},
   "outputs": [],
   "source": [
    "# from scipy.spatial.distance import cosine\n",
    "\n",
    "# cosine_distance = cosine(encodings_query[0], encodings_positive[0])\n",
    "# print(cosine_distance)\n",
    "\n",
    "# cosine_distance = cosine(encodings_query[0], encodings_negative[0])\n",
    "# print(cosine_distance)"
   ]
  },
  {
   "cell_type": "code",
   "execution_count": null,
   "metadata": {},
   "outputs": [],
   "source": [
    "dist = face_recognition.face_distance([encodings_query[0]], encodings_negative[0])\n",
    "print(dist)"
   ]
  }
 ],
 "metadata": {
  "kernelspec": {
   "display_name": "py-3-8-15",
   "language": "python",
   "name": "python3"
  },
  "language_info": {
   "codemirror_mode": {
    "name": "ipython",
    "version": 3
   },
   "file_extension": ".py",
   "mimetype": "text/x-python",
   "name": "python",
   "nbconvert_exporter": "python",
   "pygments_lexer": "ipython3",
   "version": "3.8.15"
  }
 },
 "nbformat": 4,
 "nbformat_minor": 2
}
