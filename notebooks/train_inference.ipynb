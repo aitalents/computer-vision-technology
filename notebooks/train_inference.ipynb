{
 "cells": [
  {
   "cell_type": "code",
   "execution_count": null,
   "id": "initial_id",
   "metadata": {
    "collapsed": true
   },
   "outputs": [],
   "source": [
    "import torch\n",
    "import torch.optim as optim\n",
    "import torchvision.transforms as transforms\n",
    "from torch.utils.data import DataLoader\n",
    "from tqdm.auto import tqdm\n",
    "\n",
    "from src.dataset import CocoDataset\n",
    "from src.dataset.preprocessing import Compose\n",
    "from src.models.loss import YoloLoss, mean_average_precision\n",
    "from src.models.loss_utils import get_bboxes\n",
    "from src.models.utils import load_checkpoint, save_checkpoint\n",
    "from src.models.yolo import YoloV1"
   ]
  },
  {
   "cell_type": "code",
   "outputs": [],
   "source": [
    "LEARNING_RATE = 2e-5\n",
    "DEVICE = \"cuda\" if torch.cuda.is_available() else \"cpu\"\n",
    "BATCH_SIZE = 32  # 64 in original paper but resource exhausted error otherwise.\n",
    "WEIGHT_DECAY = 0\n",
    "EPOCHS = 20\n",
    "NUM_WORKERS = 2\n",
    "PIN_MEMORY = True\n",
    "LOAD_MODEL = False\n",
    "LOAD_MODEL_FILE = \"model.pth\""
   ],
   "metadata": {
    "collapsed": false
   },
   "id": "5f67d6bf160426c9"
  },
  {
   "cell_type": "markdown",
   "source": [
    "# Training Pipeline"
   ],
   "metadata": {
    "collapsed": false
   },
   "id": "ca013965d1ecf627"
  },
  {
   "cell_type": "code",
   "outputs": [],
   "source": [
    "def train_fn(train_loader, model, optimizer, loss_fn):\n",
    "    loop = tqdm(train_loader, leave=True)\n",
    "    mean_loss = []\n",
    "\n",
    "    for batch_idx, (x, y) in enumerate(loop):\n",
    "        x, y = x.to(DEVICE), y.to(DEVICE)\n",
    "        out = model(x)\n",
    "        loss = loss_fn(out, y)\n",
    "        mean_loss.append(loss.item())\n",
    "        optimizer.zero_grad()\n",
    "        loss.backward()\n",
    "        optimizer.step()\n",
    "\n",
    "        loop.set_postfix(loss=loss.item())\n",
    "\n",
    "    print(f\"Mean loss was {sum(mean_loss) / len(mean_loss)}\")\n",
    "\n",
    "\n",
    "model = YoloV1(split_size=7, num_boxes=2, num_classes=80).to(DEVICE)\n",
    "optimizer = optim.Adam(model.parameters(), lr=LEARNING_RATE, weight_decay=WEIGHT_DECAY)\n",
    "scheduler = optim.lr_scheduler.ReduceLROnPlateau(optimizer=optimizer, factor=0.1, patience=3, mode=\"max\", verbose=True)\n",
    "loss_fn = YoloLoss()\n",
    "transform = Compose([transforms.Resize((448, 448)), transforms.ToTensor()])\n",
    "\n",
    "if LOAD_MODEL:\n",
    "    load_checkpoint(torch.load(LOAD_MODEL_FILE), model, optimizer)"
   ],
   "metadata": {
    "collapsed": false
   },
   "id": "3063a5cd7d6c0869"
  },
  {
   "cell_type": "code",
   "outputs": [],
   "source": [
    "train_dataset = CocoDataset(\n",
    "    transform=transform,\n",
    "    files_dir=\"./train2017\",\n",
    "    ann_path=\"./annotations/instances_train2017.json\",\n",
    ")\n",
    "\n",
    "test_dataset = CocoDataset(\n",
    "    transform=transform,\n",
    "    files_dir=\"./val2017\",\n",
    "    ann_path=\"./annotations/instances_val2017.json\",\n",
    ")\n",
    "\n",
    "train_loader = DataLoader(\n",
    "    dataset=train_dataset,\n",
    "    batch_size=BATCH_SIZE,\n",
    "    shuffle=True,\n",
    "    drop_last=False,\n",
    ")\n",
    "\n",
    "test_loader = DataLoader(\n",
    "    dataset=test_dataset,\n",
    "    batch_size=BATCH_SIZE,\n",
    "    shuffle=True,\n",
    "    drop_last=False,\n",
    ")"
   ],
   "metadata": {
    "collapsed": false
   },
   "id": "51c1fdc26b6e5066"
  },
  {
   "cell_type": "code",
   "outputs": [],
   "source": [
    "for epoch in range(EPOCHS):\n",
    "    train_fn(train_loader, model, optimizer, loss_fn)\n",
    "\n",
    "    pred_boxes, target_boxes = get_bboxes(train_loader, model, iou_threshold=0.5, threshold=0.4)\n",
    "\n",
    "    mean_avg_prec = mean_average_precision(pred_boxes, target_boxes, iou_threshold=0.5, box_format=\"midpoint\")\n",
    "    print(f\"Train mAP: {mean_avg_prec}\")\n",
    "\n",
    "    scheduler.step(mean_avg_prec)"
   ],
   "metadata": {
    "collapsed": false
   },
   "id": "91e4fb1f28e67f2e"
  },
  {
   "cell_type": "code",
   "outputs": [],
   "source": [
    "checkpoint = {\n",
    "    \"state_dict\": model.state_dict(),\n",
    "    \"optimizer\": optimizer.state_dict(),\n",
    "}\n",
    "save_checkpoint(checkpoint, filename=LOAD_MODEL_FILE)"
   ],
   "metadata": {
    "collapsed": false
   },
   "id": "462acb7a12346fcb"
  },
  {
   "cell_type": "markdown",
   "source": [
    "# Inference Pipeline"
   ],
   "metadata": {
    "collapsed": false
   },
   "id": "a07ca6e4e795e7d3"
  },
  {
   "cell_type": "code",
   "outputs": [],
   "source": [
    "model.eval()\n",
    "train_fn(test_loader, model, optimizer, loss_fn)\n",
    "\n",
    "pred_boxes, target_boxes = get_bboxes(\n",
    "    test_loader, model, iou_threshold=0.5, threshold=0.4\n",
    ")\n",
    "\n",
    "mean_avg_prec = mean_average_precision(\n",
    "    pred_boxes, target_boxes, iou_threshold=0.5, box_format=\"midpoint\"\n",
    ")\n",
    "print(f\"Test MAP: {mean_avg_prec}\")"
   ],
   "metadata": {
    "collapsed": false
   },
   "id": "d3217f0f65c786a5"
  }
 ],
 "metadata": {
  "kernelspec": {
   "display_name": "Python 3",
   "language": "python",
   "name": "python3"
  },
  "language_info": {
   "codemirror_mode": {
    "name": "ipython",
    "version": 2
   },
   "file_extension": ".py",
   "mimetype": "text/x-python",
   "name": "python",
   "nbconvert_exporter": "python",
   "pygments_lexer": "ipython2",
   "version": "2.7.6"
  }
 },
 "nbformat": 4,
 "nbformat_minor": 5
}
