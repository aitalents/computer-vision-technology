{
 "cells": [
  {
   "cell_type": "code",
   "execution_count": 1,
   "id": "2b25bdaa",
   "metadata": {},
   "outputs": [],
   "source": [
    "import uuid\n",
    "import json\n",
    "\n",
    "import requests\n",
    "from time import time"
   ]
  },
  {
   "cell_type": "code",
   "execution_count": 3,
   "id": "76a86bdc",
   "metadata": {},
   "outputs": [
    {
     "name": "stdout",
     "output_type": "stream",
     "text": [
      "0.7082006931304932 sec for request\n"
     ]
    }
   ],
   "source": [
    "# api-endpoint\n",
    "URL = \"http://10.10.66.25:5001/recognize\"\n",
    "  \n",
    "# defining a params dict for the parameters to be sent to the API\n",
    "body = {\n",
    "    \"task_id\": str(uuid.uuid4()), \n",
    "    \"image_url\": \"https://github.com/ultralytics/yolov5/blob/master/data/images/zidane.jpg?raw=true\"\n",
    "}\n",
    "\n",
    "start = time()\n",
    "# sending get request and saving the response as response object\n",
    "r = requests.post(url=URL, json=body)\n",
    "finish = time()\n",
    "\n",
    "print(f\"{finish-start} sec for request\")\n",
    "# extracting data in json format\n",
    "data = r.json()"
   ]
  },
  {
   "cell_type": "code",
   "execution_count": 4,
   "id": "40135099",
   "metadata": {},
   "outputs": [
    {
     "data": {
      "text/plain": [
       "[{'recognitions': {'width': 398,\n",
       "   'x_min': 742,\n",
       "   'y_min': 48,\n",
       "   'predicted_class': 'Human',\n",
       "   'contour_probability': 0.8811126351356506,\n",
       "   'height': 671,\n",
       "   'class_probability': 0.99},\n",
       "  'task_id': 'e5687baa-fe66-493f-a261-b71539719c35'},\n",
       " {'recognitions': {'width': 592,\n",
       "   'x_min': 123,\n",
       "   'y_min': 193,\n",
       "   'predicted_class': 'Human',\n",
       "   'contour_probability': 0.6659209132194519,\n",
       "   'height': 526,\n",
       "   'class_probability': 0.99},\n",
       "  'task_id': 'e5687baa-fe66-493f-a261-b71539719c35'}]"
      ]
     },
     "execution_count": 4,
     "metadata": {},
     "output_type": "execute_result"
    }
   ],
   "source": [
    "data"
   ]
  },
  {
   "cell_type": "markdown",
   "id": "aa77ce26",
   "metadata": {},
   "source": [
    "### Parallel requests"
   ]
  },
  {
   "cell_type": "code",
   "execution_count": 5,
   "id": "d8d37aae",
   "metadata": {},
   "outputs": [
    {
     "name": "stdout",
     "output_type": "stream",
     "text": [
      "1.788412094116211 sec for 10 request\n"
     ]
    }
   ],
   "source": [
    "import multiprocessing\n",
    "\n",
    "# Список URL-адресов, которые вы хотите запросить.\n",
    "URLS = [\"http://10.10.66.25:5001/recognize\"] * 10\n",
    "  \n",
    "# defining a params dict for the parameters to be sent to the API\n",
    "body = {\n",
    "    \"task_id\": str(uuid.uuid4()), \n",
    "    \"image_url\": \"https://github.com/ultralytics/yolov5/blob/master/data/images/zidane.jpg?raw=true\"\n",
    "    }\n",
    "\n",
    "\n",
    "# Функция, которая будет выполнена в каждом процессе.\n",
    "def post_url(url):\n",
    "    response = requests.post(url, json=body)\n",
    "    return response.text\n",
    "\n",
    "\n",
    "start = time()\n",
    "# Создание пула процессов с использованием `multiprocessing.Pool()`.\n",
    "with multiprocessing.Pool(processes=6) as pool:\n",
    "    # Применение `get_url` ко всем URL-адресам, используя `map`.\n",
    "    results = pool.map(post_url, URLS)\n",
    "    \n",
    "finish = time()\n",
    "\n",
    "print(f\"{finish-start} sec for 10 request\")"
   ]
  },
  {
   "cell_type": "code",
   "execution_count": null,
   "id": "ab37d4c1",
   "metadata": {},
   "outputs": [],
   "source": []
  }
 ],
 "metadata": {
  "kernelspec": {
   "display_name": "Python 3 (ipykernel)",
   "language": "python",
   "name": "python3"
  },
  "language_info": {
   "codemirror_mode": {
    "name": "ipython",
    "version": 3
   },
   "file_extension": ".py",
   "mimetype": "text/x-python",
   "name": "python",
   "nbconvert_exporter": "python",
   "pygments_lexer": "ipython3",
   "version": "3.7.13"
  }
 },
 "nbformat": 4,
 "nbformat_minor": 5
}
