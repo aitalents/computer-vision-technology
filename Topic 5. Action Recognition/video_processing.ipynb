{
 "cells": [
  {
   "cell_type": "code",
   "execution_count": 1,
   "id": "cb3d9fa3-1538-4f9d-baee-7c38868637f0",
   "metadata": {},
   "outputs": [],
   "source": [
    "import os\n",
    "\n",
    "import av\n",
    "import cv2\n",
    "import numpy as np\n",
    "import pandas as pd\n",
    "\n",
    "import albumentations as A\n",
    "\n",
    "from IPython.display import Video"
   ]
  },
  {
   "cell_type": "code",
   "execution_count": 2,
   "id": "981b6576-5aad-4cc3-b82b-52e571f6d70c",
   "metadata": {},
   "outputs": [],
   "source": [
    "def read_video_pyav(container, indices):\n",
    "    frames = []\n",
    "    container.seek(0)\n",
    "    start_index = indices[0]\n",
    "    end_index = indices[-1]\n",
    "    for i, frame in enumerate(container.decode(video=0)):\n",
    "        if i > end_index:\n",
    "            break\n",
    "        if i >= start_index and i in indices:\n",
    "            frames.append(frame)\n",
    "    return np.stack([x.to_ndarray(format=\"rgb24\") for x in frames])\n",
    "\n",
    "def write_video(name, video, frame_sample_rate):\n",
    "    video_writer = cv2.VideoWriter(\n",
    "        name, \n",
    "        cv2.VideoWriter_fourcc(*'MJPG'), \n",
    "        int(25 / frame_sample_rate), \n",
    "        (video.shape[2], video.shape[1])\n",
    "    )\n",
    "    for frame in video:\n",
    "        video_writer.write(cv2.cvtColor(frame, cv2.COLOR_RGB2BGR))\n",
    "    video_writer.release()\n",
    "\n",
    "def sample_frame_indices(clip_len, frame_sample_rate, seg_len):\n",
    "    converted_len = int(clip_len * frame_sample_rate)\n",
    "    while converted_len >= seg_len and clip_len > 1:\n",
    "        clip_len -= 1\n",
    "        converted_len = int(clip_len * frame_sample_rate)\n",
    "    end_idx = converted_len\n",
    "    start_idx = 0\n",
    "    indices = np.linspace(start_idx, end_idx, num=clip_len)\n",
    "    indices = np.clip(indices, start_idx, end_idx - 1).astype(np.int64)\n",
    "    return indices"
   ]
  },
  {
   "cell_type": "code",
   "execution_count": 3,
   "id": "6543e609-4827-44f0-85e1-9331f76736d5",
   "metadata": {},
   "outputs": [],
   "source": [
    "file_path = 'UCF-101/ApplyEyeMakeup/v_ApplyEyeMakeup_g01_c01.avi'\n",
    "container = av.open(file_path)"
   ]
  },
  {
   "cell_type": "code",
   "execution_count": 4,
   "id": "bb0106b9-3b6f-4433-be5d-ecc7af2f602d",
   "metadata": {},
   "outputs": [
    {
     "data": {
      "text/html": [
       "<video src=\"UCF-101/ApplyEyeMakeup/v_ApplyEyeMakeup_g01_c01.avi\" controls  >\n",
       "      Your browser does not support the <code>video</code> element.\n",
       "    </video>"
      ],
      "text/plain": [
       "<IPython.core.display.Video object>"
      ]
     },
     "execution_count": 4,
     "metadata": {},
     "output_type": "execute_result"
    }
   ],
   "source": [
    "Video(file_path)"
   ]
  },
  {
   "cell_type": "code",
   "execution_count": 5,
   "id": "74b3c726-d112-4aa5-9955-7024f31592d5",
   "metadata": {},
   "outputs": [
    {
     "name": "stdout",
     "output_type": "stream",
     "text": [
      "ffmpeg version 4.4.2-0ubuntu0.22.04.1 Copyright (c) 2000-2021 the FFmpeg developers\n",
      "  built with gcc 11 (Ubuntu 11.2.0-19ubuntu1)\n",
      "  configuration: --prefix=/usr --extra-version=0ubuntu0.22.04.1 --toolchain=hardened --libdir=/usr/lib/x86_64-linux-gnu --incdir=/usr/include/x86_64-linux-gnu --arch=amd64 --enable-gpl --disable-stripping --enable-gnutls --enable-ladspa --enable-libaom --enable-libass --enable-libbluray --enable-libbs2b --enable-libcaca --enable-libcdio --enable-libcodec2 --enable-libdav1d --enable-libflite --enable-libfontconfig --enable-libfreetype --enable-libfribidi --enable-libgme --enable-libgsm --enable-libjack --enable-libmp3lame --enable-libmysofa --enable-libopenjpeg --enable-libopenmpt --enable-libopus --enable-libpulse --enable-librabbitmq --enable-librubberband --enable-libshine --enable-libsnappy --enable-libsoxr --enable-libspeex --enable-libsrt --enable-libssh --enable-libtheora --enable-libtwolame --enable-libvidstab --enable-libvorbis --enable-libvpx --enable-libwebp --enable-libx265 --enable-libxml2 --enable-libxvid --enable-libzimg --enable-libzmq --enable-libzvbi --enable-lv2 --enable-omx --enable-openal --enable-opencl --enable-opengl --enable-sdl2 --enable-pocketsphinx --enable-librsvg --enable-libmfx --enable-libdc1394 --enable-libdrm --enable-libiec61883 --enable-chromaprint --enable-frei0r --enable-libx264 --enable-shared\n",
      "  libavutil      56. 70.100 / 56. 70.100\n",
      "  libavcodec     58.134.100 / 58.134.100\n",
      "  libavformat    58. 76.100 / 58. 76.100\n",
      "  libavdevice    58. 13.100 / 58. 13.100\n",
      "  libavfilter     7.110.100 /  7.110.100\n",
      "  libswscale      5.  9.100 /  5.  9.100\n",
      "  libswresample   3.  9.100 /  3.  9.100\n",
      "  libpostproc    55.  9.100 / 55.  9.100\n",
      "Input #0, avi, from 'UCF-101/ApplyEyeMakeup/v_ApplyEyeMakeup_g01_c01.avi':\n",
      "  Metadata:\n",
      "    software        : MEncoder r33883\n",
      "  Duration: 00:00:06.56, start: 0.000000, bitrate: 359 kb/s\n",
      "  Stream #0:0: Video: mpeg4 (Advanced Simple Profile) (XVID / 0x44495658), yuv420p, 320x240 [SAR 1:1 DAR 4:3], 209 kb/s, 25 fps, 25 tbr, 25 tbn, 25 tbc\n",
      "  Stream #0:1: Audio: mp3 (U[0][0][0] / 0x0055), 44100 Hz, stereo, fltp, 125 kb/s\n",
      "Stream mapping:\n",
      "  Stream #0:0 -> #0:0 (mpeg4 (native) -> h264 (libx264))\n",
      "  Stream #0:1 -> #0:1 (mp3 (mp3float) -> aac (native))\n",
      "Press [q] to stop, [?] for help\n",
      "\u001b[0;36m[mpeg4 @ 0x563838c5ff80] \u001b[0mVideo uses a non-standard and wasteful way to store B-frames ('packed B-frames'). Consider using the mpeg4_unpack_bframes bitstream filter without encoding but stream copy to fix it.\n",
      "\u001b[1;36m[libx264 @ 0x563838c62500] \u001b[0musing SAR=1/1\n",
      "\u001b[1;36m[libx264 @ 0x563838c62500] \u001b[0musing cpu capabilities: MMX2 SSE2Fast SSSE3 SSE4.2 AVX FMA3 BMI2 AVX2\n",
      "\u001b[1;36m[libx264 @ 0x563838c62500] \u001b[0mprofile High, level 1.3, 4:2:0, 8-bit\n",
      "\u001b[1;36m[libx264 @ 0x563838c62500] \u001b[0m264 - core 163 r3060 5db6aa6 - H.264/MPEG-4 AVC codec - Copyleft 2003-2021 - http://www.videolan.org/x264.html - options: cabac=1 ref=3 deblock=1:0:0 analyse=0x3:0x113 me=hex subme=7 psy=1 psy_rd=1.00:0.00 mixed_ref=1 me_range=16 chroma_me=1 trellis=1 8x8dct=1 cqm=0 deadzone=21,11 fast_pskip=1 chroma_qp_offset=-2 threads=7 lookahead_threads=1 sliced_threads=0 nr=0 decimate=1 interlaced=0 bluray_compat=0 constrained_intra=0 bframes=3 b_pyramid=2 b_adapt=1 b_bias=0 direct=1 weightb=1 open_gop=0 weightp=2 keyint=250 keyint_min=25 scenecut=40 intra_refresh=0 rc_lookahead=40 rc=crf mbtree=1 crf=23.0 qcomp=0.60 qpmin=0 qpmax=69 qpstep=4 ip_ratio=1.40 aq=1:1.00\n",
      "Output #0, mp4, to 'video.mp4':\n",
      "  Metadata:\n",
      "    software        : MEncoder r33883\n",
      "    encoder         : Lavf58.76.100\n",
      "  Stream #0:0: Video: h264 (avc1 / 0x31637661), yuv420p(progressive), 320x240 [SAR 1:1 DAR 4:3], q=2-31, 25 fps, 12800 tbn\n",
      "    Metadata:\n",
      "      encoder         : Lavc58.134.100 libx264\n",
      "    Side data:\n",
      "      cpb: bitrate max/min/avg: 0/0/0 buffer size: 0 vbv_delay: N/A\n",
      "  Stream #0:1: Audio: aac (LC) (mp4a / 0x6134706D), 44100 Hz, stereo, fltp, 128 kb/s\n",
      "    Metadata:\n",
      "      encoder         : Lavc58.134.100 aac\n",
      "frame=  165 fps=0.0 q=-1.0 Lsize=     228kB time=00:00:06.54 bitrate= 284.9kbits/s dup=1 drop=0 speed=34.4x    \n",
      "video:116kB audio:105kB subtitle:0kB other streams:0kB global headers:0kB muxing overhead: 3.049384%\n",
      "\u001b[1;36m[libx264 @ 0x563838c62500] \u001b[0mframe I:1     Avg QP:20.01  size:  8508\n",
      "\u001b[1;36m[libx264 @ 0x563838c62500] \u001b[0mframe P:47    Avg QP:23.03  size:  1874\n",
      "\u001b[1;36m[libx264 @ 0x563838c62500] \u001b[0mframe B:117   Avg QP:27.38  size:   184\n",
      "\u001b[1;36m[libx264 @ 0x563838c62500] \u001b[0mconsecutive B-frames:  1.2%  8.5% 12.7% 77.6%\n",
      "\u001b[1;36m[libx264 @ 0x563838c62500] \u001b[0mmb I  I16..4: 10.7% 80.7%  8.7%\n",
      "\u001b[1;36m[libx264 @ 0x563838c62500] \u001b[0mmb P  I16..4:  0.3%  1.9%  0.3%  P16..4: 37.4% 18.5% 13.1%  0.0%  0.0%    skip:28.5%\n",
      "\u001b[1;36m[libx264 @ 0x563838c62500] \u001b[0mmb B  I16..4:  0.0%  0.3%  0.0%  B16..8: 27.9%  1.7%  0.3%  direct: 0.3%  skip:69.5%  L0:45.9% L1:45.4% BI: 8.7%\n",
      "\u001b[1;36m[libx264 @ 0x563838c62500] \u001b[0m8x8 transform intra:78.6% inter:70.7%\n",
      "\u001b[1;36m[libx264 @ 0x563838c62500] \u001b[0mcoded y,uvDC,uvAC intra: 61.6% 71.0% 21.0% inter: 9.0% 8.1% 0.1%\n",
      "\u001b[1;36m[libx264 @ 0x563838c62500] \u001b[0mi16 v,h,dc,p: 43% 22% 22% 13%\n",
      "\u001b[1;36m[libx264 @ 0x563838c62500] \u001b[0mi8 v,h,dc,ddl,ddr,vr,hd,vl,hu: 22% 14% 40%  3%  3%  4%  3%  6%  5%\n",
      "\u001b[1;36m[libx264 @ 0x563838c62500] \u001b[0mi4 v,h,dc,ddl,ddr,vr,hd,vl,hu: 25% 15% 19%  9%  5%  6%  5% 10%  7%\n",
      "\u001b[1;36m[libx264 @ 0x563838c62500] \u001b[0mi8c dc,h,v,p: 44% 24% 27%  6%\n",
      "\u001b[1;36m[libx264 @ 0x563838c62500] \u001b[0mWeighted P-Frames: Y:12.8% UV:0.0%\n",
      "\u001b[1;36m[libx264 @ 0x563838c62500] \u001b[0mref P L0: 62.4% 17.6% 14.5%  5.1%  0.5%\n",
      "\u001b[1;36m[libx264 @ 0x563838c62500] \u001b[0mref B L0: 86.0% 11.4%  2.6%\n",
      "\u001b[1;36m[libx264 @ 0x563838c62500] \u001b[0mref B L1: 96.1%  3.9%\n",
      "\u001b[1;36m[libx264 @ 0x563838c62500] \u001b[0mkb/s:143.07\n",
      "\u001b[1;36m[aac @ 0x563838c69940] \u001b[0mQavg: 718.774\n"
     ]
    }
   ],
   "source": [
    "!rm video.mp4\n",
    "!ffmpeg -y -i UCF-101/ApplyEyeMakeup/v_ApplyEyeMakeup_g01_c01.avi video.mp4"
   ]
  },
  {
   "cell_type": "code",
   "execution_count": 6,
   "id": "c049cf02-df8c-4999-ab03-f061f6d95426",
   "metadata": {},
   "outputs": [
    {
     "data": {
      "text/html": [
       "<video src=\"video.mp4\" controls  >\n",
       "      Your browser does not support the <code>video</code> element.\n",
       "    </video>"
      ],
      "text/plain": [
       "<IPython.core.display.Video object>"
      ]
     },
     "execution_count": 6,
     "metadata": {},
     "output_type": "execute_result"
    }
   ],
   "source": [
    "Video('video.mp4')"
   ]
  },
  {
   "cell_type": "code",
   "execution_count": 7,
   "id": "3c09c2f3-6f1a-4d3d-b055-dd83d8296006",
   "metadata": {},
   "outputs": [
    {
     "name": "stdout",
     "output_type": "stream",
     "text": [
      "ffmpeg version 4.4.2-0ubuntu0.22.04.1 Copyright (c) 2000-2021 the FFmpeg developers\n",
      "  built with gcc 11 (Ubuntu 11.2.0-19ubuntu1)\n",
      "  configuration: --prefix=/usr --extra-version=0ubuntu0.22.04.1 --toolchain=hardened --libdir=/usr/lib/x86_64-linux-gnu --incdir=/usr/include/x86_64-linux-gnu --arch=amd64 --enable-gpl --disable-stripping --enable-gnutls --enable-ladspa --enable-libaom --enable-libass --enable-libbluray --enable-libbs2b --enable-libcaca --enable-libcdio --enable-libcodec2 --enable-libdav1d --enable-libflite --enable-libfontconfig --enable-libfreetype --enable-libfribidi --enable-libgme --enable-libgsm --enable-libjack --enable-libmp3lame --enable-libmysofa --enable-libopenjpeg --enable-libopenmpt --enable-libopus --enable-libpulse --enable-librabbitmq --enable-librubberband --enable-libshine --enable-libsnappy --enable-libsoxr --enable-libspeex --enable-libsrt --enable-libssh --enable-libtheora --enable-libtwolame --enable-libvidstab --enable-libvorbis --enable-libvpx --enable-libwebp --enable-libx265 --enable-libxml2 --enable-libxvid --enable-libzimg --enable-libzmq --enable-libzvbi --enable-lv2 --enable-omx --enable-openal --enable-opencl --enable-opengl --enable-sdl2 --enable-pocketsphinx --enable-librsvg --enable-libmfx --enable-libdc1394 --enable-libdrm --enable-libiec61883 --enable-chromaprint --enable-frei0r --enable-libx264 --enable-shared\n",
      "  libavutil      56. 70.100 / 56. 70.100\n",
      "  libavcodec     58.134.100 / 58.134.100\n",
      "  libavformat    58. 76.100 / 58. 76.100\n",
      "  libavdevice    58. 13.100 / 58. 13.100\n",
      "  libavfilter     7.110.100 /  7.110.100\n",
      "  libswscale      5.  9.100 /  5.  9.100\n",
      "  libswresample   3.  9.100 /  3.  9.100\n",
      "  libpostproc    55.  9.100 / 55.  9.100\n",
      "Input #0, avi, from 'UCF-101/ApplyEyeMakeup/v_ApplyEyeMakeup_g01_c01.avi':\n",
      "  Metadata:\n",
      "    software        : MEncoder r33883\n",
      "  Duration: 00:00:06.56, start: 0.000000, bitrate: 359 kb/s\n",
      "  Stream #0:0: Video: mpeg4 (Advanced Simple Profile) (XVID / 0x44495658), yuv420p, 320x240 [SAR 1:1 DAR 4:3], 209 kb/s, 25 fps, 25 tbr, 25 tbn, 25 tbc\n",
      "  Stream #0:1: Audio: mp3 (U[0][0][0] / 0x0055), 44100 Hz, stereo, fltp, 125 kb/s\n",
      "\u001b[4;31mAt least one output file must be specified\n",
      "\u001b[0m"
     ]
    }
   ],
   "source": [
    "!ffmpeg -y -i UCF-101/ApplyEyeMakeup/v_ApplyEyeMakeup_g01_c01.avi"
   ]
  },
  {
   "cell_type": "code",
   "execution_count": 19,
   "id": "97f02609-136c-48b8-a194-32abdde0e4ad",
   "metadata": {},
   "outputs": [],
   "source": [
    "frame_sample_rate = 5\n",
    "indices = sample_frame_indices(\n",
    "    clip_len=int(container.streams.video[0].frames/frame_sample_rate), \n",
    "    frame_sample_rate=frame_sample_rate, \n",
    "    seg_len=container.streams.video[0].frames\n",
    ")\n",
    "video = read_video_pyav(container, indices)"
   ]
  },
  {
   "cell_type": "code",
   "execution_count": 20,
   "id": "c7a107ec-dde2-4265-a7d7-b27051be8667",
   "metadata": {},
   "outputs": [
    {
     "name": "stderr",
     "output_type": "stream",
     "text": [
      "OpenCV: FFMPEG: tag 0x47504a4d/'MJPG' is not supported with codec id 7 and format 'mp4 / MP4 (MPEG-4 Part 14)'\n",
      "OpenCV: FFMPEG: fallback to use tag 0x7634706d/'mp4v'\n"
     ]
    }
   ],
   "source": [
    "!rm video1.mp4\n",
    "write_video('video1.mp4', video, frame_sample_rate)"
   ]
  },
  {
   "cell_type": "code",
   "execution_count": 21,
   "id": "03b92a09-faad-4687-b056-85f939b8f030",
   "metadata": {},
   "outputs": [
    {
     "data": {
      "text/html": [
       "<video src=\"video1.mp4\" controls  >\n",
       "      Your browser does not support the <code>video</code> element.\n",
       "    </video>"
      ],
      "text/plain": [
       "<IPython.core.display.Video object>"
      ]
     },
     "execution_count": 21,
     "metadata": {},
     "output_type": "execute_result"
    }
   ],
   "source": [
    "Video('video1.mp4')"
   ]
  },
  {
   "cell_type": "code",
   "execution_count": 22,
   "id": "632e4945-95f2-4831-a507-2d8969ad1266",
   "metadata": {},
   "outputs": [
    {
     "name": "stdout",
     "output_type": "stream",
     "text": [
      "ffmpeg version 4.4.2-0ubuntu0.22.04.1 Copyright (c) 2000-2021 the FFmpeg developers\n",
      "  built with gcc 11 (Ubuntu 11.2.0-19ubuntu1)\n",
      "  configuration: --prefix=/usr --extra-version=0ubuntu0.22.04.1 --toolchain=hardened --libdir=/usr/lib/x86_64-linux-gnu --incdir=/usr/include/x86_64-linux-gnu --arch=amd64 --enable-gpl --disable-stripping --enable-gnutls --enable-ladspa --enable-libaom --enable-libass --enable-libbluray --enable-libbs2b --enable-libcaca --enable-libcdio --enable-libcodec2 --enable-libdav1d --enable-libflite --enable-libfontconfig --enable-libfreetype --enable-libfribidi --enable-libgme --enable-libgsm --enable-libjack --enable-libmp3lame --enable-libmysofa --enable-libopenjpeg --enable-libopenmpt --enable-libopus --enable-libpulse --enable-librabbitmq --enable-librubberband --enable-libshine --enable-libsnappy --enable-libsoxr --enable-libspeex --enable-libsrt --enable-libssh --enable-libtheora --enable-libtwolame --enable-libvidstab --enable-libvorbis --enable-libvpx --enable-libwebp --enable-libx265 --enable-libxml2 --enable-libxvid --enable-libzimg --enable-libzmq --enable-libzvbi --enable-lv2 --enable-omx --enable-openal --enable-opencl --enable-opengl --enable-sdl2 --enable-pocketsphinx --enable-librsvg --enable-libmfx --enable-libdc1394 --enable-libdrm --enable-libiec61883 --enable-chromaprint --enable-frei0r --enable-libx264 --enable-shared\n",
      "  libavutil      56. 70.100 / 56. 70.100\n",
      "  libavcodec     58.134.100 / 58.134.100\n",
      "  libavformat    58. 76.100 / 58. 76.100\n",
      "  libavdevice    58. 13.100 / 58. 13.100\n",
      "  libavfilter     7.110.100 /  7.110.100\n",
      "  libswscale      5.  9.100 /  5.  9.100\n",
      "  libswresample   3.  9.100 /  3.  9.100\n",
      "  libpostproc    55.  9.100 / 55.  9.100\n",
      "Input #0, mov,mp4,m4a,3gp,3g2,mj2, from 'video1.mp4':\n",
      "  Metadata:\n",
      "    major_brand     : isom\n",
      "    minor_version   : 512\n",
      "    compatible_brands: isomiso2mp41\n",
      "    encoder         : Lavf58.76.100\n",
      "  Duration: 00:00:06.40, start: 0.000000, bitrate: 434 kb/s\n",
      "  Stream #0:0(und): Video: mjpeg (Baseline) (mp4v / 0x7634706D), yuvj420p(pc, bt470bg/unknown/unknown), 320x240, 433 kb/s, 5 fps, 5 tbr, 10240 tbn, 10240 tbc (default)\n",
      "    Metadata:\n",
      "      handler_name    : VideoHandler\n",
      "      vendor_id       : [0][0][0][0]\n",
      "Stream mapping:\n",
      "  Stream #0:0 -> #0:0 (mjpeg (native) -> h264 (libx264))\n",
      "Press [q] to stop, [?] for help\n",
      "\u001b[1;36m[libx264 @ 0x55d99f8d6800] \u001b[0musing cpu capabilities: MMX2 SSE2Fast SSSE3 SSE4.2 AVX FMA3 BMI2 AVX2\n",
      "\u001b[1;36m[libx264 @ 0x55d99f8d6800] \u001b[0mprofile High, level 1.2, 4:2:0, 8-bit\n",
      "\u001b[1;36m[libx264 @ 0x55d99f8d6800] \u001b[0m264 - core 163 r3060 5db6aa6 - H.264/MPEG-4 AVC codec - Copyleft 2003-2021 - http://www.videolan.org/x264.html - options: cabac=1 ref=3 deblock=1:0:0 analyse=0x3:0x113 me=hex subme=7 psy=1 psy_rd=1.00:0.00 mixed_ref=1 me_range=16 chroma_me=1 trellis=1 8x8dct=1 cqm=0 deadzone=21,11 fast_pskip=1 chroma_qp_offset=-2 threads=7 lookahead_threads=1 sliced_threads=0 nr=0 decimate=1 interlaced=0 bluray_compat=0 constrained_intra=0 bframes=3 b_pyramid=2 b_adapt=1 b_bias=0 direct=1 weightb=1 open_gop=0 weightp=2 keyint=250 keyint_min=5 scenecut=40 intra_refresh=0 rc_lookahead=40 rc=crf mbtree=1 crf=23.0 qcomp=0.60 qpmin=0 qpmax=69 qpstep=4 ip_ratio=1.40 aq=1:1.00\n",
      "Output #0, mp4, to 'video2.mp4':\n",
      "  Metadata:\n",
      "    major_brand     : isom\n",
      "    minor_version   : 512\n",
      "    compatible_brands: isomiso2mp41\n",
      "    encoder         : Lavf58.76.100\n",
      "  Stream #0:0(und): Video: h264 (avc1 / 0x31637661), yuvj420p(pc, bt470bg/unknown/unknown, progressive), 320x240, q=2-31, 5 fps, 10240 tbn (default)\n",
      "    Metadata:\n",
      "      handler_name    : VideoHandler\n",
      "      vendor_id       : [0][0][0][0]\n",
      "      encoder         : Lavc58.134.100 libx264\n",
      "    Side data:\n",
      "      cpb: bitrate max/min/avg: 0/0/0 buffer size: 0 vbv_delay: N/A\n",
      "frame=   32 fps=0.0 q=-1.0 Lsize=     112kB time=00:00:05.80 bitrate= 158.3kbits/s speed=75.5x    \n",
      "video:111kB audio:0kB subtitle:0kB other streams:0kB global headers:0kB muxing overhead: 1.089618%\n",
      "\u001b[1;36m[libx264 @ 0x55d99f8d6800] \u001b[0mframe I:1     Avg QP:17.45  size: 10287\n",
      "\u001b[1;36m[libx264 @ 0x55d99f8d6800] \u001b[0mframe P:10    Avg QP:20.58  size:  5720\n",
      "\u001b[1;36m[libx264 @ 0x55d99f8d6800] \u001b[0mframe B:21    Avg QP:23.55  size:  2160\n",
      "\u001b[1;36m[libx264 @ 0x55d99f8d6800] \u001b[0mconsecutive B-frames:  9.4%  6.2%  9.4% 75.0%\n",
      "\u001b[1;36m[libx264 @ 0x55d99f8d6800] \u001b[0mmb I  I16..4: 10.7% 85.7%  3.7%\n",
      "\u001b[1;36m[libx264 @ 0x55d99f8d6800] \u001b[0mmb P  I16..4:  2.1% 20.6%  2.1%  P16..4: 26.3% 23.3% 17.1%  0.0%  0.0%    skip: 8.5%\n",
      "\u001b[1;36m[libx264 @ 0x55d99f8d6800] \u001b[0mmb B  I16..4:  0.5%  3.9%  0.4%  B16..8: 36.9% 19.1%  7.1%  direct: 9.7%  skip:22.5%  L0:33.9% L1:33.1% BI:33.1%\n",
      "\u001b[1;36m[libx264 @ 0x55d99f8d6800] \u001b[0m8x8 transform intra:83.1% inter:66.4%\n",
      "\u001b[1;36m[libx264 @ 0x55d99f8d6800] \u001b[0mcoded y,uvDC,uvAC intra: 80.0% 89.0% 37.1% inter: 39.9% 41.3% 2.0%\n",
      "\u001b[1;36m[libx264 @ 0x55d99f8d6800] \u001b[0mi16 v,h,dc,p: 45% 22% 13% 19%\n",
      "\u001b[1;36m[libx264 @ 0x55d99f8d6800] \u001b[0mi8 v,h,dc,ddl,ddr,vr,hd,vl,hu: 27% 20% 24%  4%  3%  4%  4%  9%  5%\n",
      "\u001b[1;36m[libx264 @ 0x55d99f8d6800] \u001b[0mi4 v,h,dc,ddl,ddr,vr,hd,vl,hu: 30% 12% 11%  9%  5%  6%  5% 14%  7%\n",
      "\u001b[1;36m[libx264 @ 0x55d99f8d6800] \u001b[0mi8c dc,h,v,p: 39% 23% 27% 11%\n",
      "\u001b[1;36m[libx264 @ 0x55d99f8d6800] \u001b[0mWeighted P-Frames: Y:50.0% UV:40.0%\n",
      "\u001b[1;36m[libx264 @ 0x55d99f8d6800] \u001b[0mref P L0: 56.5% 20.7% 13.7%  6.2%  3.1%\n",
      "\u001b[1;36m[libx264 @ 0x55d99f8d6800] \u001b[0mref B L0: 89.8%  8.5%  1.8%\n",
      "\u001b[1;36m[libx264 @ 0x55d99f8d6800] \u001b[0mref B L1: 97.3%  2.7%\n",
      "\u001b[1;36m[libx264 @ 0x55d99f8d6800] \u001b[0mkb/s:141.05\n"
     ]
    }
   ],
   "source": [
    "!rm video2.mp4\n",
    "!ffmpeg -y -i video1.mp4 video2.mp4"
   ]
  },
  {
   "cell_type": "code",
   "execution_count": 23,
   "id": "ff257038-93cd-4b38-b8e3-d7ba3db8b898",
   "metadata": {},
   "outputs": [
    {
     "data": {
      "text/html": [
       "<video src=\"video2.mp4\" controls  >\n",
       "      Your browser does not support the <code>video</code> element.\n",
       "    </video>"
      ],
      "text/plain": [
       "<IPython.core.display.Video object>"
      ]
     },
     "execution_count": 23,
     "metadata": {},
     "output_type": "execute_result"
    }
   ],
   "source": [
    "Video('video2.mp4')"
   ]
  },
  {
   "cell_type": "code",
   "execution_count": 13,
   "id": "bb4c6398-f3c3-4173-9768-c1df5a115002",
   "metadata": {},
   "outputs": [],
   "source": [
    "transform = A.Compose([\n",
    "    A.HorizontalFlip(p=0.5),\n",
    "    A.RandomBrightnessContrast(brightness_limit=0.5, contrast_limit=0.5, p=0.5)\n",
    "], additional_targets={\n",
    "    f'image{i}': 'image'\n",
    "    for i in range(1, video.shape[0])\n",
    "})"
   ]
  },
  {
   "cell_type": "code",
   "execution_count": 14,
   "id": "fee6c64b-b5f6-4a61-9430-329ad63a1eea",
   "metadata": {},
   "outputs": [],
   "source": [
    "!rm transformed_video.mp4\n",
    "!rm transformed_video1.mp4"
   ]
  },
  {
   "cell_type": "code",
   "execution_count": 15,
   "id": "f37250db-74f9-4ca6-80ef-981ba5151dd9",
   "metadata": {},
   "outputs": [],
   "source": [
    "def apply_video_augmentations(video, transform):\n",
    "    targets={'image': video[0]}\n",
    "    for i in range(1, video.shape[0]):\n",
    "        targets[f'image{i}'] = video[i]\n",
    "    transformed = transform(**targets)\n",
    "    transformed = np.concatenate(\n",
    "        [np.expand_dims(transformed['image'], axis=0)] \n",
    "        + [np.expand_dims(transformed[f'image{i}'], axis=0) for i in range(1, video.shape[0])]\n",
    "    )\n",
    "    return transformed"
   ]
  },
  {
   "cell_type": "code",
   "execution_count": 24,
   "id": "848967cd-cc0c-4702-a966-9ab9bc6dbdb5",
   "metadata": {},
   "outputs": [],
   "source": [
    "transformed = apply_video_augmentations(video, transform)"
   ]
  },
  {
   "cell_type": "code",
   "execution_count": 25,
   "id": "3ef072fd-6407-4d52-a11d-223ba9e23813",
   "metadata": {},
   "outputs": [
    {
     "name": "stdout",
     "output_type": "stream",
     "text": [
      "ffmpeg version 4.4.2-0ubuntu0.22.04.1 Copyright (c) 2000-2021 the FFmpeg developers\n",
      "  built with gcc 11 (Ubuntu 11.2.0-19ubuntu1)\n",
      "  configuration: --prefix=/usr --extra-version=0ubuntu0.22.04.1 --toolchain=hardened --libdir=/usr/lib/x86_64-linux-gnu --incdir=/usr/include/x86_64-linux-gnu --arch=amd64 --enable-gpl --disable-stripping --enable-gnutls --enable-ladspa --enable-libaom --enable-libass --enable-libbluray --enable-libbs2b --enable-libcaca --enable-libcdio --enable-libcodec2 --enable-libdav1d --enable-libflite --enable-libfontconfig --enable-libfreetype --enable-libfribidi --enable-libgme --enable-libgsm --enable-libjack --enable-libmp3lame --enable-libmysofa --enable-libopenjpeg --enable-libopenmpt --enable-libopus --enable-libpulse --enable-librabbitmq --enable-librubberband --enable-libshine --enable-libsnappy --enable-libsoxr --enable-libspeex --enable-libsrt --enable-libssh --enable-libtheora --enable-libtwolame --enable-libvidstab --enable-libvorbis --enable-libvpx --enable-libwebp --enable-libx265 --enable-libxml2 --enable-libxvid --enable-libzimg --enable-libzmq --enable-libzvbi --enable-lv2 --enable-omx --enable-openal --enable-opencl --enable-opengl --enable-sdl2 --enable-pocketsphinx --enable-librsvg --enable-libmfx --enable-libdc1394 --enable-libdrm --enable-libiec61883 --enable-chromaprint --enable-frei0r --enable-libx264 --enable-shared\n",
      "  libavutil      56. 70.100 / 56. 70.100\n",
      "  libavcodec     58.134.100 / 58.134.100\n",
      "  libavformat    58. 76.100 / 58. 76.100\n",
      "  libavdevice    58. 13.100 / 58. 13.100\n",
      "  libavfilter     7.110.100 /  7.110.100\n",
      "  libswscale      5.  9.100 /  5.  9.100\n",
      "  libswresample   3.  9.100 /  3.  9.100\n",
      "  libpostproc    55.  9.100 / 55.  9.100\n",
      "Input #0, mov,mp4,m4a,3gp,3g2,mj2, from 'transformed_video.mp4':\n",
      "  Metadata:\n",
      "    major_brand     : isom\n",
      "    minor_version   : 512\n",
      "    compatible_brands: isomiso2mp41\n",
      "    encoder         : Lavf58.76.100\n",
      "  Duration: 00:00:06.40, start: 0.000000, bitrate: 434 kb/s\n",
      "  Stream #0:0(und): Video: mjpeg (Baseline) (mp4v / 0x7634706D), yuvj420p(pc, bt470bg/unknown/unknown), 320x240, 433 kb/s, 5 fps, 5 tbr, 10240 tbn, 10240 tbc (default)\n",
      "    Metadata:\n",
      "      handler_name    : VideoHandler\n",
      "      vendor_id       : [0][0][0][0]\n",
      "Stream mapping:\n",
      "  Stream #0:0 -> #0:0 (mjpeg (native) -> h264 (libx264))\n",
      "Press [q] to stop, [?] for help\n",
      "\u001b[1;36m[libx264 @ 0x55c3364bd800] \u001b[0musing cpu capabilities: MMX2 SSE2Fast SSSE3 SSE4.2 AVX FMA3 BMI2 AVX2\n",
      "\u001b[1;36m[libx264 @ 0x55c3364bd800] \u001b[0mprofile High, level 1.2, 4:2:0, 8-bit\n",
      "\u001b[1;36m[libx264 @ 0x55c3364bd800] \u001b[0m264 - core 163 r3060 5db6aa6 - H.264/MPEG-4 AVC codec - Copyleft 2003-2021 - http://www.videolan.org/x264.html - options: cabac=1 ref=3 deblock=1:0:0 analyse=0x3:0x113 me=hex subme=7 psy=1 psy_rd=1.00:0.00 mixed_ref=1 me_range=16 chroma_me=1 trellis=1 8x8dct=1 cqm=0 deadzone=21,11 fast_pskip=1 chroma_qp_offset=-2 threads=7 lookahead_threads=1 sliced_threads=0 nr=0 decimate=1 interlaced=0 bluray_compat=0 constrained_intra=0 bframes=3 b_pyramid=2 b_adapt=1 b_bias=0 direct=1 weightb=1 open_gop=0 weightp=2 keyint=250 keyint_min=5 scenecut=40 intra_refresh=0 rc_lookahead=40 rc=crf mbtree=1 crf=23.0 qcomp=0.60 qpmin=0 qpmax=69 qpstep=4 ip_ratio=1.40 aq=1:1.00\n",
      "Output #0, mp4, to 'transformed_video1.mp4':\n",
      "  Metadata:\n",
      "    major_brand     : isom\n",
      "    minor_version   : 512\n",
      "    compatible_brands: isomiso2mp41\n",
      "    encoder         : Lavf58.76.100\n",
      "  Stream #0:0(und): Video: h264 (avc1 / 0x31637661), yuvj420p(pc, bt470bg/unknown/unknown, progressive), 320x240, q=2-31, 5 fps, 10240 tbn (default)\n",
      "    Metadata:\n",
      "      handler_name    : VideoHandler\n",
      "      vendor_id       : [0][0][0][0]\n",
      "      encoder         : Lavc58.134.100 libx264\n",
      "    Side data:\n",
      "      cpb: bitrate max/min/avg: 0/0/0 buffer size: 0 vbv_delay: N/A\n",
      "frame=   32 fps=0.0 q=-1.0 Lsize=     111kB time=00:00:05.80 bitrate= 156.6kbits/s speed=73.8x    \n",
      "video:110kB audio:0kB subtitle:0kB other streams:0kB global headers:0kB muxing overhead: 1.094351%\n",
      "\u001b[1;36m[libx264 @ 0x55c3364bd800] \u001b[0mframe I:1     Avg QP:17.56  size: 10182\n",
      "\u001b[1;36m[libx264 @ 0x55c3364bd800] \u001b[0mframe P:9     Avg QP:20.46  size:  5911\n",
      "\u001b[1;36m[libx264 @ 0x55c3364bd800] \u001b[0mframe B:22    Avg QP:23.76  size:  2192\n",
      "\u001b[1;36m[libx264 @ 0x55c3364bd800] \u001b[0mconsecutive B-frames:  6.2%  0.0% 18.8% 75.0%\n",
      "\u001b[1;36m[libx264 @ 0x55c3364bd800] \u001b[0mmb I  I16..4: 10.7% 83.0%  6.3%\n",
      "\u001b[1;36m[libx264 @ 0x55c3364bd800] \u001b[0mmb P  I16..4:  1.8% 22.9%  3.1%  P16..4: 26.7% 23.1% 15.5%  0.0%  0.0%    skip: 6.9%\n",
      "\u001b[1;36m[libx264 @ 0x55c3364bd800] \u001b[0mmb B  I16..4:  0.3%  4.7%  0.3%  B16..8: 36.0% 18.8%  7.2%  direct: 9.4%  skip:23.2%  L0:34.6% L1:32.6% BI:32.8%\n",
      "\u001b[1;36m[libx264 @ 0x55c3364bd800] \u001b[0m8x8 transform intra:84.0% inter:66.8%\n",
      "\u001b[1;36m[libx264 @ 0x55c3364bd800] \u001b[0mcoded y,uvDC,uvAC intra: 80.7% 89.0% 36.0% inter: 39.7% 41.0% 2.3%\n",
      "\u001b[1;36m[libx264 @ 0x55c3364bd800] \u001b[0mi16 v,h,dc,p: 43% 24% 16% 16%\n",
      "\u001b[1;36m[libx264 @ 0x55c3364bd800] \u001b[0mi8 v,h,dc,ddl,ddr,vr,hd,vl,hu: 28% 20% 24%  2%  5%  7%  5%  4%  4%\n",
      "\u001b[1;36m[libx264 @ 0x55c3364bd800] \u001b[0mi4 v,h,dc,ddl,ddr,vr,hd,vl,hu: 31% 13% 11%  3% 11% 16%  6%  5%  4%\n",
      "\u001b[1;36m[libx264 @ 0x55c3364bd800] \u001b[0mi8c dc,h,v,p: 40% 22% 29%  9%\n",
      "\u001b[1;36m[libx264 @ 0x55c3364bd800] \u001b[0mWeighted P-Frames: Y:55.6% UV:44.4%\n",
      "\u001b[1;36m[libx264 @ 0x55c3364bd800] \u001b[0mref P L0: 54.0% 20.6% 15.0%  7.0%  3.3%\n",
      "\u001b[1;36m[libx264 @ 0x55c3364bd800] \u001b[0mref B L0: 90.7%  8.2%  1.1%\n",
      "\u001b[1;36m[libx264 @ 0x55c3364bd800] \u001b[0mref B L1: 97.9%  2.1%\n",
      "\u001b[1;36m[libx264 @ 0x55c3364bd800] \u001b[0mkb/s:139.52\n"
     ]
    },
    {
     "name": "stderr",
     "output_type": "stream",
     "text": [
      "OpenCV: FFMPEG: tag 0x47504a4d/'MJPG' is not supported with codec id 7 and format 'mp4 / MP4 (MPEG-4 Part 14)'\n",
      "OpenCV: FFMPEG: fallback to use tag 0x7634706d/'mp4v'\n"
     ]
    }
   ],
   "source": [
    "write_video('transformed_video.mp4', transformed, frame_sample_rate)\n",
    "!ffmpeg -y -i transformed_video.mp4 transformed_video1.mp4"
   ]
  },
  {
   "cell_type": "code",
   "execution_count": 26,
   "id": "2640fa00-e1cf-4484-a9ca-2ca4b985ec8c",
   "metadata": {},
   "outputs": [
    {
     "data": {
      "text/html": [
       "<video src=\"transformed_video1.mp4\" controls  >\n",
       "      Your browser does not support the <code>video</code> element.\n",
       "    </video>"
      ],
      "text/plain": [
       "<IPython.core.display.Video object>"
      ]
     },
     "execution_count": 26,
     "metadata": {},
     "output_type": "execute_result"
    }
   ],
   "source": [
    "Video('transformed_video1.mp4')"
   ]
  },
  {
   "cell_type": "code",
   "execution_count": null,
   "id": "f080d84e-e341-4537-9fb7-a7a672f70c15",
   "metadata": {},
   "outputs": [],
   "source": []
  }
 ],
 "metadata": {
  "kernelspec": {
   "display_name": "Python 3 (ipykernel)",
   "language": "python",
   "name": "python3"
  },
  "language_info": {
   "codemirror_mode": {
    "name": "ipython",
    "version": 3
   },
   "file_extension": ".py",
   "mimetype": "text/x-python",
   "name": "python",
   "nbconvert_exporter": "python",
   "pygments_lexer": "ipython3",
   "version": "3.10.12"
  }
 },
 "nbformat": 4,
 "nbformat_minor": 5
}
