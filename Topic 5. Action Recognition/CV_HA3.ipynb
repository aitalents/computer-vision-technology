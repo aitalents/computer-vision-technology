{
  "nbformat": 4,
  "nbformat_minor": 0,
  "metadata": {
    "colab": {
      "provenance": [],
      "gpuType": "T4"
    },
    "kernelspec": {
      "name": "python3",
      "display_name": "Python 3"
    },
    "language_info": {
      "name": "python"
    },
    "accelerator": "GPU",
    "widgets": {
      "application/vnd.jupyter.widget-state+json": {
        "72cad8f7df204116b16499eae7404e73": {
          "model_module": "@jupyter-widgets/controls",
          "model_name": "HBoxModel",
          "model_module_version": "1.5.0",
          "state": {
            "_dom_classes": [],
            "_model_module": "@jupyter-widgets/controls",
            "_model_module_version": "1.5.0",
            "_model_name": "HBoxModel",
            "_view_count": null,
            "_view_module": "@jupyter-widgets/controls",
            "_view_module_version": "1.5.0",
            "_view_name": "HBoxView",
            "box_style": "",
            "children": [
              "IPY_MODEL_20a172e53eb9464b9ff3a63baea397ab",
              "IPY_MODEL_be3506641ca44017b5e221d3db49df28",
              "IPY_MODEL_33e80af995074717a11dab53a4302299"
            ],
            "layout": "IPY_MODEL_a11ca6455580451fb7940847a493b8f2"
          }
        },
        "20a172e53eb9464b9ff3a63baea397ab": {
          "model_module": "@jupyter-widgets/controls",
          "model_name": "HTMLModel",
          "model_module_version": "1.5.0",
          "state": {
            "_dom_classes": [],
            "_model_module": "@jupyter-widgets/controls",
            "_model_module_version": "1.5.0",
            "_model_name": "HTMLModel",
            "_view_count": null,
            "_view_module": "@jupyter-widgets/controls",
            "_view_module_version": "1.5.0",
            "_view_name": "HTMLView",
            "description": "",
            "description_tooltip": null,
            "layout": "IPY_MODEL_48083e0278874a87b1bd7615b6a00ba8",
            "placeholder": "​",
            "style": "IPY_MODEL_c79c35d4276044c6937ee39b7616a6d3",
            "value": "model.safetensors: 100%"
          }
        },
        "be3506641ca44017b5e221d3db49df28": {
          "model_module": "@jupyter-widgets/controls",
          "model_name": "FloatProgressModel",
          "model_module_version": "1.5.0",
          "state": {
            "_dom_classes": [],
            "_model_module": "@jupyter-widgets/controls",
            "_model_module_version": "1.5.0",
            "_model_name": "FloatProgressModel",
            "_view_count": null,
            "_view_module": "@jupyter-widgets/controls",
            "_view_module_version": "1.5.0",
            "_view_name": "ProgressView",
            "bar_style": "success",
            "description": "",
            "description_tooltip": null,
            "layout": "IPY_MODEL_2f89b8c814714ed6993f525a427deed4",
            "max": 21355344,
            "min": 0,
            "orientation": "horizontal",
            "style": "IPY_MODEL_c8d328dcf4c94b4d9329ab221f9669ee",
            "value": 21355344
          }
        },
        "33e80af995074717a11dab53a4302299": {
          "model_module": "@jupyter-widgets/controls",
          "model_name": "HTMLModel",
          "model_module_version": "1.5.0",
          "state": {
            "_dom_classes": [],
            "_model_module": "@jupyter-widgets/controls",
            "_model_module_version": "1.5.0",
            "_model_name": "HTMLModel",
            "_view_count": null,
            "_view_module": "@jupyter-widgets/controls",
            "_view_module_version": "1.5.0",
            "_view_name": "HTMLView",
            "description": "",
            "description_tooltip": null,
            "layout": "IPY_MODEL_9a5f77713dcc4f1fbc23afbd76db7ee6",
            "placeholder": "​",
            "style": "IPY_MODEL_9ff05bd489c545a1947c64f9c312c490",
            "value": " 21.4M/21.4M [00:00&lt;00:00, 85.8MB/s]"
          }
        },
        "a11ca6455580451fb7940847a493b8f2": {
          "model_module": "@jupyter-widgets/base",
          "model_name": "LayoutModel",
          "model_module_version": "1.2.0",
          "state": {
            "_model_module": "@jupyter-widgets/base",
            "_model_module_version": "1.2.0",
            "_model_name": "LayoutModel",
            "_view_count": null,
            "_view_module": "@jupyter-widgets/base",
            "_view_module_version": "1.2.0",
            "_view_name": "LayoutView",
            "align_content": null,
            "align_items": null,
            "align_self": null,
            "border": null,
            "bottom": null,
            "display": null,
            "flex": null,
            "flex_flow": null,
            "grid_area": null,
            "grid_auto_columns": null,
            "grid_auto_flow": null,
            "grid_auto_rows": null,
            "grid_column": null,
            "grid_gap": null,
            "grid_row": null,
            "grid_template_areas": null,
            "grid_template_columns": null,
            "grid_template_rows": null,
            "height": null,
            "justify_content": null,
            "justify_items": null,
            "left": null,
            "margin": null,
            "max_height": null,
            "max_width": null,
            "min_height": null,
            "min_width": null,
            "object_fit": null,
            "object_position": null,
            "order": null,
            "overflow": null,
            "overflow_x": null,
            "overflow_y": null,
            "padding": null,
            "right": null,
            "top": null,
            "visibility": null,
            "width": null
          }
        },
        "48083e0278874a87b1bd7615b6a00ba8": {
          "model_module": "@jupyter-widgets/base",
          "model_name": "LayoutModel",
          "model_module_version": "1.2.0",
          "state": {
            "_model_module": "@jupyter-widgets/base",
            "_model_module_version": "1.2.0",
            "_model_name": "LayoutModel",
            "_view_count": null,
            "_view_module": "@jupyter-widgets/base",
            "_view_module_version": "1.2.0",
            "_view_name": "LayoutView",
            "align_content": null,
            "align_items": null,
            "align_self": null,
            "border": null,
            "bottom": null,
            "display": null,
            "flex": null,
            "flex_flow": null,
            "grid_area": null,
            "grid_auto_columns": null,
            "grid_auto_flow": null,
            "grid_auto_rows": null,
            "grid_column": null,
            "grid_gap": null,
            "grid_row": null,
            "grid_template_areas": null,
            "grid_template_columns": null,
            "grid_template_rows": null,
            "height": null,
            "justify_content": null,
            "justify_items": null,
            "left": null,
            "margin": null,
            "max_height": null,
            "max_width": null,
            "min_height": null,
            "min_width": null,
            "object_fit": null,
            "object_position": null,
            "order": null,
            "overflow": null,
            "overflow_x": null,
            "overflow_y": null,
            "padding": null,
            "right": null,
            "top": null,
            "visibility": null,
            "width": null
          }
        },
        "c79c35d4276044c6937ee39b7616a6d3": {
          "model_module": "@jupyter-widgets/controls",
          "model_name": "DescriptionStyleModel",
          "model_module_version": "1.5.0",
          "state": {
            "_model_module": "@jupyter-widgets/controls",
            "_model_module_version": "1.5.0",
            "_model_name": "DescriptionStyleModel",
            "_view_count": null,
            "_view_module": "@jupyter-widgets/base",
            "_view_module_version": "1.2.0",
            "_view_name": "StyleView",
            "description_width": ""
          }
        },
        "2f89b8c814714ed6993f525a427deed4": {
          "model_module": "@jupyter-widgets/base",
          "model_name": "LayoutModel",
          "model_module_version": "1.2.0",
          "state": {
            "_model_module": "@jupyter-widgets/base",
            "_model_module_version": "1.2.0",
            "_model_name": "LayoutModel",
            "_view_count": null,
            "_view_module": "@jupyter-widgets/base",
            "_view_module_version": "1.2.0",
            "_view_name": "LayoutView",
            "align_content": null,
            "align_items": null,
            "align_self": null,
            "border": null,
            "bottom": null,
            "display": null,
            "flex": null,
            "flex_flow": null,
            "grid_area": null,
            "grid_auto_columns": null,
            "grid_auto_flow": null,
            "grid_auto_rows": null,
            "grid_column": null,
            "grid_gap": null,
            "grid_row": null,
            "grid_template_areas": null,
            "grid_template_columns": null,
            "grid_template_rows": null,
            "height": null,
            "justify_content": null,
            "justify_items": null,
            "left": null,
            "margin": null,
            "max_height": null,
            "max_width": null,
            "min_height": null,
            "min_width": null,
            "object_fit": null,
            "object_position": null,
            "order": null,
            "overflow": null,
            "overflow_x": null,
            "overflow_y": null,
            "padding": null,
            "right": null,
            "top": null,
            "visibility": null,
            "width": null
          }
        },
        "c8d328dcf4c94b4d9329ab221f9669ee": {
          "model_module": "@jupyter-widgets/controls",
          "model_name": "ProgressStyleModel",
          "model_module_version": "1.5.0",
          "state": {
            "_model_module": "@jupyter-widgets/controls",
            "_model_module_version": "1.5.0",
            "_model_name": "ProgressStyleModel",
            "_view_count": null,
            "_view_module": "@jupyter-widgets/base",
            "_view_module_version": "1.2.0",
            "_view_name": "StyleView",
            "bar_color": null,
            "description_width": ""
          }
        },
        "9a5f77713dcc4f1fbc23afbd76db7ee6": {
          "model_module": "@jupyter-widgets/base",
          "model_name": "LayoutModel",
          "model_module_version": "1.2.0",
          "state": {
            "_model_module": "@jupyter-widgets/base",
            "_model_module_version": "1.2.0",
            "_model_name": "LayoutModel",
            "_view_count": null,
            "_view_module": "@jupyter-widgets/base",
            "_view_module_version": "1.2.0",
            "_view_name": "LayoutView",
            "align_content": null,
            "align_items": null,
            "align_self": null,
            "border": null,
            "bottom": null,
            "display": null,
            "flex": null,
            "flex_flow": null,
            "grid_area": null,
            "grid_auto_columns": null,
            "grid_auto_flow": null,
            "grid_auto_rows": null,
            "grid_column": null,
            "grid_gap": null,
            "grid_row": null,
            "grid_template_areas": null,
            "grid_template_columns": null,
            "grid_template_rows": null,
            "height": null,
            "justify_content": null,
            "justify_items": null,
            "left": null,
            "margin": null,
            "max_height": null,
            "max_width": null,
            "min_height": null,
            "min_width": null,
            "object_fit": null,
            "object_position": null,
            "order": null,
            "overflow": null,
            "overflow_x": null,
            "overflow_y": null,
            "padding": null,
            "right": null,
            "top": null,
            "visibility": null,
            "width": null
          }
        },
        "9ff05bd489c545a1947c64f9c312c490": {
          "model_module": "@jupyter-widgets/controls",
          "model_name": "DescriptionStyleModel",
          "model_module_version": "1.5.0",
          "state": {
            "_model_module": "@jupyter-widgets/controls",
            "_model_module_version": "1.5.0",
            "_model_name": "DescriptionStyleModel",
            "_view_count": null,
            "_view_module": "@jupyter-widgets/base",
            "_view_module_version": "1.2.0",
            "_view_name": "StyleView",
            "description_width": ""
          }
        }
      }
    }
  },
  "cells": [
    {
      "cell_type": "code",
      "source": [
        "!pip install timm\n",
        "!pip install av"
      ],
      "metadata": {
        "colab": {
          "base_uri": "https://localhost:8080/"
        },
        "id": "k8fEPo8p7kGt",
        "outputId": "ca1398d6-6f55-45cf-965f-a82e32ed94d0"
      },
      "execution_count": 1,
      "outputs": [
        {
          "output_type": "stream",
          "name": "stdout",
          "text": [
            "Collecting timm\n",
            "  Downloading timm-0.9.16-py3-none-any.whl (2.2 MB)\n",
            "\u001b[?25l     \u001b[90m━━━━━━━━━━━━━━━━━━━━━━━━━━━━━━━━━━━━━━━━\u001b[0m \u001b[32m0.0/2.2 MB\u001b[0m \u001b[31m?\u001b[0m eta \u001b[36m-:--:--\u001b[0m\r\u001b[2K     \u001b[91m━━━━━\u001b[0m\u001b[91m╸\u001b[0m\u001b[90m━━━━━━━━━━━━━━━━━━━━━━━━━━━━━━━━━━\u001b[0m \u001b[32m0.3/2.2 MB\u001b[0m \u001b[31m9.5 MB/s\u001b[0m eta \u001b[36m0:00:01\u001b[0m\r\u001b[2K     \u001b[91m━━━━━━━━━━━━━━━━━━━\u001b[0m\u001b[90m╺\u001b[0m\u001b[90m━━━━━━━━━━━━━━━━━━━━\u001b[0m \u001b[32m1.1/2.2 MB\u001b[0m \u001b[31m15.7 MB/s\u001b[0m eta \u001b[36m0:00:01\u001b[0m\r\u001b[2K     \u001b[91m━━━━━━━━━━━━━━━━━━━━━━━━━━━━━━━━━━━━━━\u001b[0m\u001b[91m╸\u001b[0m\u001b[90m━\u001b[0m \u001b[32m2.2/2.2 MB\u001b[0m \u001b[31m21.2 MB/s\u001b[0m eta \u001b[36m0:00:01\u001b[0m\r\u001b[2K     \u001b[90m━━━━━━━━━━━━━━━━━━━━━━━━━━━━━━━━━━━━━━━━\u001b[0m \u001b[32m2.2/2.2 MB\u001b[0m \u001b[31m18.1 MB/s\u001b[0m eta \u001b[36m0:00:00\u001b[0m\n",
            "\u001b[?25hRequirement already satisfied: torch in /usr/local/lib/python3.10/dist-packages (from timm) (2.2.1+cu121)\n",
            "Requirement already satisfied: torchvision in /usr/local/lib/python3.10/dist-packages (from timm) (0.17.1+cu121)\n",
            "Requirement already satisfied: pyyaml in /usr/local/lib/python3.10/dist-packages (from timm) (6.0.1)\n",
            "Requirement already satisfied: huggingface_hub in /usr/local/lib/python3.10/dist-packages (from timm) (0.20.3)\n",
            "Requirement already satisfied: safetensors in /usr/local/lib/python3.10/dist-packages (from timm) (0.4.3)\n",
            "Requirement already satisfied: filelock in /usr/local/lib/python3.10/dist-packages (from huggingface_hub->timm) (3.14.0)\n",
            "Requirement already satisfied: fsspec>=2023.5.0 in /usr/local/lib/python3.10/dist-packages (from huggingface_hub->timm) (2023.6.0)\n",
            "Requirement already satisfied: requests in /usr/local/lib/python3.10/dist-packages (from huggingface_hub->timm) (2.31.0)\n",
            "Requirement already satisfied: tqdm>=4.42.1 in /usr/local/lib/python3.10/dist-packages (from huggingface_hub->timm) (4.66.2)\n",
            "Requirement already satisfied: typing-extensions>=3.7.4.3 in /usr/local/lib/python3.10/dist-packages (from huggingface_hub->timm) (4.11.0)\n",
            "Requirement already satisfied: packaging>=20.9 in /usr/local/lib/python3.10/dist-packages (from huggingface_hub->timm) (24.0)\n",
            "Requirement already satisfied: sympy in /usr/local/lib/python3.10/dist-packages (from torch->timm) (1.12)\n",
            "Requirement already satisfied: networkx in /usr/local/lib/python3.10/dist-packages (from torch->timm) (3.3)\n",
            "Requirement already satisfied: jinja2 in /usr/local/lib/python3.10/dist-packages (from torch->timm) (3.1.3)\n",
            "Collecting nvidia-cuda-nvrtc-cu12==12.1.105 (from torch->timm)\n",
            "  Using cached nvidia_cuda_nvrtc_cu12-12.1.105-py3-none-manylinux1_x86_64.whl (23.7 MB)\n",
            "Collecting nvidia-cuda-runtime-cu12==12.1.105 (from torch->timm)\n",
            "  Using cached nvidia_cuda_runtime_cu12-12.1.105-py3-none-manylinux1_x86_64.whl (823 kB)\n",
            "Collecting nvidia-cuda-cupti-cu12==12.1.105 (from torch->timm)\n",
            "  Using cached nvidia_cuda_cupti_cu12-12.1.105-py3-none-manylinux1_x86_64.whl (14.1 MB)\n",
            "Collecting nvidia-cudnn-cu12==8.9.2.26 (from torch->timm)\n",
            "  Using cached nvidia_cudnn_cu12-8.9.2.26-py3-none-manylinux1_x86_64.whl (731.7 MB)\n",
            "Collecting nvidia-cublas-cu12==12.1.3.1 (from torch->timm)\n",
            "  Using cached nvidia_cublas_cu12-12.1.3.1-py3-none-manylinux1_x86_64.whl (410.6 MB)\n",
            "Collecting nvidia-cufft-cu12==11.0.2.54 (from torch->timm)\n",
            "  Using cached nvidia_cufft_cu12-11.0.2.54-py3-none-manylinux1_x86_64.whl (121.6 MB)\n",
            "Collecting nvidia-curand-cu12==10.3.2.106 (from torch->timm)\n",
            "  Using cached nvidia_curand_cu12-10.3.2.106-py3-none-manylinux1_x86_64.whl (56.5 MB)\n",
            "Collecting nvidia-cusolver-cu12==11.4.5.107 (from torch->timm)\n",
            "  Using cached nvidia_cusolver_cu12-11.4.5.107-py3-none-manylinux1_x86_64.whl (124.2 MB)\n",
            "Collecting nvidia-cusparse-cu12==12.1.0.106 (from torch->timm)\n",
            "  Using cached nvidia_cusparse_cu12-12.1.0.106-py3-none-manylinux1_x86_64.whl (196.0 MB)\n",
            "Collecting nvidia-nccl-cu12==2.19.3 (from torch->timm)\n",
            "  Using cached nvidia_nccl_cu12-2.19.3-py3-none-manylinux1_x86_64.whl (166.0 MB)\n",
            "Collecting nvidia-nvtx-cu12==12.1.105 (from torch->timm)\n",
            "  Using cached nvidia_nvtx_cu12-12.1.105-py3-none-manylinux1_x86_64.whl (99 kB)\n",
            "Requirement already satisfied: triton==2.2.0 in /usr/local/lib/python3.10/dist-packages (from torch->timm) (2.2.0)\n",
            "Collecting nvidia-nvjitlink-cu12 (from nvidia-cusolver-cu12==11.4.5.107->torch->timm)\n",
            "  Using cached nvidia_nvjitlink_cu12-12.4.127-py3-none-manylinux2014_x86_64.whl (21.1 MB)\n",
            "Requirement already satisfied: numpy in /usr/local/lib/python3.10/dist-packages (from torchvision->timm) (1.25.2)\n",
            "Requirement already satisfied: pillow!=8.3.*,>=5.3.0 in /usr/local/lib/python3.10/dist-packages (from torchvision->timm) (9.4.0)\n",
            "Requirement already satisfied: MarkupSafe>=2.0 in /usr/local/lib/python3.10/dist-packages (from jinja2->torch->timm) (2.1.5)\n",
            "Requirement already satisfied: charset-normalizer<4,>=2 in /usr/local/lib/python3.10/dist-packages (from requests->huggingface_hub->timm) (3.3.2)\n",
            "Requirement already satisfied: idna<4,>=2.5 in /usr/local/lib/python3.10/dist-packages (from requests->huggingface_hub->timm) (3.7)\n",
            "Requirement already satisfied: urllib3<3,>=1.21.1 in /usr/local/lib/python3.10/dist-packages (from requests->huggingface_hub->timm) (2.0.7)\n",
            "Requirement already satisfied: certifi>=2017.4.17 in /usr/local/lib/python3.10/dist-packages (from requests->huggingface_hub->timm) (2024.2.2)\n",
            "Requirement already satisfied: mpmath>=0.19 in /usr/local/lib/python3.10/dist-packages (from sympy->torch->timm) (1.3.0)\n",
            "Installing collected packages: nvidia-nvtx-cu12, nvidia-nvjitlink-cu12, nvidia-nccl-cu12, nvidia-curand-cu12, nvidia-cufft-cu12, nvidia-cuda-runtime-cu12, nvidia-cuda-nvrtc-cu12, nvidia-cuda-cupti-cu12, nvidia-cublas-cu12, nvidia-cusparse-cu12, nvidia-cudnn-cu12, nvidia-cusolver-cu12, timm\n",
            "Successfully installed nvidia-cublas-cu12-12.1.3.1 nvidia-cuda-cupti-cu12-12.1.105 nvidia-cuda-nvrtc-cu12-12.1.105 nvidia-cuda-runtime-cu12-12.1.105 nvidia-cudnn-cu12-8.9.2.26 nvidia-cufft-cu12-11.0.2.54 nvidia-curand-cu12-10.3.2.106 nvidia-cusolver-cu12-11.4.5.107 nvidia-cusparse-cu12-12.1.0.106 nvidia-nccl-cu12-2.19.3 nvidia-nvjitlink-cu12-12.4.127 nvidia-nvtx-cu12-12.1.105 timm-0.9.16\n",
            "Collecting av\n",
            "  Downloading av-12.0.0-cp310-cp310-manylinux_2_17_x86_64.manylinux2014_x86_64.whl (33.8 MB)\n",
            "\u001b[2K     \u001b[90m━━━━━━━━━━━━━━━━━━━━━━━━━━━━━━━━━━━━━━━━\u001b[0m \u001b[32m33.8/33.8 MB\u001b[0m \u001b[31m11.1 MB/s\u001b[0m eta \u001b[36m0:00:00\u001b[0m\n",
            "\u001b[?25hInstalling collected packages: av\n",
            "Successfully installed av-12.0.0\n"
          ]
        }
      ]
    },
    {
      "cell_type": "code",
      "source": [
        "import json\n",
        "\n",
        "import pandas as pd\n",
        "import plotly.express as px\n",
        "import matplotlib.pyplot as plt"
      ],
      "metadata": {
        "id": "Aj_DhA6KoKEy"
      },
      "execution_count": 2,
      "outputs": []
    },
    {
      "cell_type": "code",
      "source": [
        "from google.colab import drive\n",
        "drive.mount('/content/drive')"
      ],
      "metadata": {
        "colab": {
          "base_uri": "https://localhost:8080/"
        },
        "id": "NLbs3CWEP-_x",
        "outputId": "fa0df9c8-b609-414f-d3e7-eb6b5f6979c6"
      },
      "execution_count": 2,
      "outputs": [
        {
          "output_type": "stream",
          "name": "stdout",
          "text": [
            "Drive already mounted at /content/drive; to attempt to forcibly remount, call drive.mount(\"/content/drive\", force_remount=True).\n"
          ]
        }
      ]
    },
    {
      "cell_type": "code",
      "source": [
        "%cd /content/drive/My Drive/Colab Notebooks/"
      ],
      "metadata": {
        "colab": {
          "base_uri": "https://localhost:8080/"
        },
        "id": "rIvugt6XVJvl",
        "outputId": "7507881b-1ee2-4dd0-b727-e0026bbdde73"
      },
      "execution_count": 3,
      "outputs": [
        {
          "output_type": "stream",
          "name": "stdout",
          "text": [
            "/content/drive/My Drive/Colab Notebooks\n"
          ]
        }
      ]
    },
    {
      "cell_type": "code",
      "source": [
        "# !ls"
      ],
      "metadata": {
        "id": "qgkUTz5aVQn1"
      },
      "execution_count": null,
      "outputs": []
    },
    {
      "cell_type": "code",
      "source": [
        "!tar -xf videos.tar --directory videos/"
      ],
      "metadata": {
        "id": "a9u2zCsoVVWs"
      },
      "execution_count": null,
      "outputs": []
    },
    {
      "cell_type": "code",
      "source": [
        "data.head()"
      ],
      "metadata": {
        "colab": {
          "base_uri": "https://localhost:8080/",
          "height": 206
        },
        "id": "Fvb018UWsaOI",
        "outputId": "04963550-a1c6-414c-c963-076ecdbfe46f"
      },
      "execution_count": null,
      "outputs": [
        {
          "output_type": "execute_result",
          "data": {
            "text/plain": [
              "       label   youtube_id  time_start  time_end  split\n",
              "0  abseiling  Z9CQYckIIls          57        67  train\n",
              "1  abseiling  BZiuKJ0b4sQ         337       347  train\n",
              "2  abseiling  dQwfb1l-3dM         182       192  train\n",
              "3  abseiling  WwPL6OqNqB0         133       143  train\n",
              "4  abseiling  ztuc7tVNUDo           3        13  train"
            ],
            "text/html": [
              "\n",
              "  <div id=\"df-446be1ac-e47a-4056-ac21-6959f102f90a\" class=\"colab-df-container\">\n",
              "    <div>\n",
              "<style scoped>\n",
              "    .dataframe tbody tr th:only-of-type {\n",
              "        vertical-align: middle;\n",
              "    }\n",
              "\n",
              "    .dataframe tbody tr th {\n",
              "        vertical-align: top;\n",
              "    }\n",
              "\n",
              "    .dataframe thead th {\n",
              "        text-align: right;\n",
              "    }\n",
              "</style>\n",
              "<table border=\"1\" class=\"dataframe\">\n",
              "  <thead>\n",
              "    <tr style=\"text-align: right;\">\n",
              "      <th></th>\n",
              "      <th>label</th>\n",
              "      <th>youtube_id</th>\n",
              "      <th>time_start</th>\n",
              "      <th>time_end</th>\n",
              "      <th>split</th>\n",
              "    </tr>\n",
              "  </thead>\n",
              "  <tbody>\n",
              "    <tr>\n",
              "      <th>0</th>\n",
              "      <td>abseiling</td>\n",
              "      <td>Z9CQYckIIls</td>\n",
              "      <td>57</td>\n",
              "      <td>67</td>\n",
              "      <td>train</td>\n",
              "    </tr>\n",
              "    <tr>\n",
              "      <th>1</th>\n",
              "      <td>abseiling</td>\n",
              "      <td>BZiuKJ0b4sQ</td>\n",
              "      <td>337</td>\n",
              "      <td>347</td>\n",
              "      <td>train</td>\n",
              "    </tr>\n",
              "    <tr>\n",
              "      <th>2</th>\n",
              "      <td>abseiling</td>\n",
              "      <td>dQwfb1l-3dM</td>\n",
              "      <td>182</td>\n",
              "      <td>192</td>\n",
              "      <td>train</td>\n",
              "    </tr>\n",
              "    <tr>\n",
              "      <th>3</th>\n",
              "      <td>abseiling</td>\n",
              "      <td>WwPL6OqNqB0</td>\n",
              "      <td>133</td>\n",
              "      <td>143</td>\n",
              "      <td>train</td>\n",
              "    </tr>\n",
              "    <tr>\n",
              "      <th>4</th>\n",
              "      <td>abseiling</td>\n",
              "      <td>ztuc7tVNUDo</td>\n",
              "      <td>3</td>\n",
              "      <td>13</td>\n",
              "      <td>train</td>\n",
              "    </tr>\n",
              "  </tbody>\n",
              "</table>\n",
              "</div>\n",
              "    <div class=\"colab-df-buttons\">\n",
              "\n",
              "  <div class=\"colab-df-container\">\n",
              "    <button class=\"colab-df-convert\" onclick=\"convertToInteractive('df-446be1ac-e47a-4056-ac21-6959f102f90a')\"\n",
              "            title=\"Convert this dataframe to an interactive table.\"\n",
              "            style=\"display:none;\">\n",
              "\n",
              "  <svg xmlns=\"http://www.w3.org/2000/svg\" height=\"24px\" viewBox=\"0 -960 960 960\">\n",
              "    <path d=\"M120-120v-720h720v720H120Zm60-500h600v-160H180v160Zm220 220h160v-160H400v160Zm0 220h160v-160H400v160ZM180-400h160v-160H180v160Zm440 0h160v-160H620v160ZM180-180h160v-160H180v160Zm440 0h160v-160H620v160Z\"/>\n",
              "  </svg>\n",
              "    </button>\n",
              "\n",
              "  <style>\n",
              "    .colab-df-container {\n",
              "      display:flex;\n",
              "      gap: 12px;\n",
              "    }\n",
              "\n",
              "    .colab-df-convert {\n",
              "      background-color: #E8F0FE;\n",
              "      border: none;\n",
              "      border-radius: 50%;\n",
              "      cursor: pointer;\n",
              "      display: none;\n",
              "      fill: #1967D2;\n",
              "      height: 32px;\n",
              "      padding: 0 0 0 0;\n",
              "      width: 32px;\n",
              "    }\n",
              "\n",
              "    .colab-df-convert:hover {\n",
              "      background-color: #E2EBFA;\n",
              "      box-shadow: 0px 1px 2px rgba(60, 64, 67, 0.3), 0px 1px 3px 1px rgba(60, 64, 67, 0.15);\n",
              "      fill: #174EA6;\n",
              "    }\n",
              "\n",
              "    .colab-df-buttons div {\n",
              "      margin-bottom: 4px;\n",
              "    }\n",
              "\n",
              "    [theme=dark] .colab-df-convert {\n",
              "      background-color: #3B4455;\n",
              "      fill: #D2E3FC;\n",
              "    }\n",
              "\n",
              "    [theme=dark] .colab-df-convert:hover {\n",
              "      background-color: #434B5C;\n",
              "      box-shadow: 0px 1px 3px 1px rgba(0, 0, 0, 0.15);\n",
              "      filter: drop-shadow(0px 1px 2px rgba(0, 0, 0, 0.3));\n",
              "      fill: #FFFFFF;\n",
              "    }\n",
              "  </style>\n",
              "\n",
              "    <script>\n",
              "      const buttonEl =\n",
              "        document.querySelector('#df-446be1ac-e47a-4056-ac21-6959f102f90a button.colab-df-convert');\n",
              "      buttonEl.style.display =\n",
              "        google.colab.kernel.accessAllowed ? 'block' : 'none';\n",
              "\n",
              "      async function convertToInteractive(key) {\n",
              "        const element = document.querySelector('#df-446be1ac-e47a-4056-ac21-6959f102f90a');\n",
              "        const dataTable =\n",
              "          await google.colab.kernel.invokeFunction('convertToInteractive',\n",
              "                                                    [key], {});\n",
              "        if (!dataTable) return;\n",
              "\n",
              "        const docLinkHtml = 'Like what you see? Visit the ' +\n",
              "          '<a target=\"_blank\" href=https://colab.research.google.com/notebooks/data_table.ipynb>data table notebook</a>'\n",
              "          + ' to learn more about interactive tables.';\n",
              "        element.innerHTML = '';\n",
              "        dataTable['output_type'] = 'display_data';\n",
              "        await google.colab.output.renderOutput(dataTable, element);\n",
              "        const docLink = document.createElement('div');\n",
              "        docLink.innerHTML = docLinkHtml;\n",
              "        element.appendChild(docLink);\n",
              "      }\n",
              "    </script>\n",
              "  </div>\n",
              "\n",
              "\n",
              "<div id=\"df-a05ebabc-b389-4ff3-b7fa-73d68f1f9d21\">\n",
              "  <button class=\"colab-df-quickchart\" onclick=\"quickchart('df-a05ebabc-b389-4ff3-b7fa-73d68f1f9d21')\"\n",
              "            title=\"Suggest charts\"\n",
              "            style=\"display:none;\">\n",
              "\n",
              "<svg xmlns=\"http://www.w3.org/2000/svg\" height=\"24px\"viewBox=\"0 0 24 24\"\n",
              "     width=\"24px\">\n",
              "    <g>\n",
              "        <path d=\"M19 3H5c-1.1 0-2 .9-2 2v14c0 1.1.9 2 2 2h14c1.1 0 2-.9 2-2V5c0-1.1-.9-2-2-2zM9 17H7v-7h2v7zm4 0h-2V7h2v10zm4 0h-2v-4h2v4z\"/>\n",
              "    </g>\n",
              "</svg>\n",
              "  </button>\n",
              "\n",
              "<style>\n",
              "  .colab-df-quickchart {\n",
              "      --bg-color: #E8F0FE;\n",
              "      --fill-color: #1967D2;\n",
              "      --hover-bg-color: #E2EBFA;\n",
              "      --hover-fill-color: #174EA6;\n",
              "      --disabled-fill-color: #AAA;\n",
              "      --disabled-bg-color: #DDD;\n",
              "  }\n",
              "\n",
              "  [theme=dark] .colab-df-quickchart {\n",
              "      --bg-color: #3B4455;\n",
              "      --fill-color: #D2E3FC;\n",
              "      --hover-bg-color: #434B5C;\n",
              "      --hover-fill-color: #FFFFFF;\n",
              "      --disabled-bg-color: #3B4455;\n",
              "      --disabled-fill-color: #666;\n",
              "  }\n",
              "\n",
              "  .colab-df-quickchart {\n",
              "    background-color: var(--bg-color);\n",
              "    border: none;\n",
              "    border-radius: 50%;\n",
              "    cursor: pointer;\n",
              "    display: none;\n",
              "    fill: var(--fill-color);\n",
              "    height: 32px;\n",
              "    padding: 0;\n",
              "    width: 32px;\n",
              "  }\n",
              "\n",
              "  .colab-df-quickchart:hover {\n",
              "    background-color: var(--hover-bg-color);\n",
              "    box-shadow: 0 1px 2px rgba(60, 64, 67, 0.3), 0 1px 3px 1px rgba(60, 64, 67, 0.15);\n",
              "    fill: var(--button-hover-fill-color);\n",
              "  }\n",
              "\n",
              "  .colab-df-quickchart-complete:disabled,\n",
              "  .colab-df-quickchart-complete:disabled:hover {\n",
              "    background-color: var(--disabled-bg-color);\n",
              "    fill: var(--disabled-fill-color);\n",
              "    box-shadow: none;\n",
              "  }\n",
              "\n",
              "  .colab-df-spinner {\n",
              "    border: 2px solid var(--fill-color);\n",
              "    border-color: transparent;\n",
              "    border-bottom-color: var(--fill-color);\n",
              "    animation:\n",
              "      spin 1s steps(1) infinite;\n",
              "  }\n",
              "\n",
              "  @keyframes spin {\n",
              "    0% {\n",
              "      border-color: transparent;\n",
              "      border-bottom-color: var(--fill-color);\n",
              "      border-left-color: var(--fill-color);\n",
              "    }\n",
              "    20% {\n",
              "      border-color: transparent;\n",
              "      border-left-color: var(--fill-color);\n",
              "      border-top-color: var(--fill-color);\n",
              "    }\n",
              "    30% {\n",
              "      border-color: transparent;\n",
              "      border-left-color: var(--fill-color);\n",
              "      border-top-color: var(--fill-color);\n",
              "      border-right-color: var(--fill-color);\n",
              "    }\n",
              "    40% {\n",
              "      border-color: transparent;\n",
              "      border-right-color: var(--fill-color);\n",
              "      border-top-color: var(--fill-color);\n",
              "    }\n",
              "    60% {\n",
              "      border-color: transparent;\n",
              "      border-right-color: var(--fill-color);\n",
              "    }\n",
              "    80% {\n",
              "      border-color: transparent;\n",
              "      border-right-color: var(--fill-color);\n",
              "      border-bottom-color: var(--fill-color);\n",
              "    }\n",
              "    90% {\n",
              "      border-color: transparent;\n",
              "      border-bottom-color: var(--fill-color);\n",
              "    }\n",
              "  }\n",
              "</style>\n",
              "\n",
              "  <script>\n",
              "    async function quickchart(key) {\n",
              "      const quickchartButtonEl =\n",
              "        document.querySelector('#' + key + ' button');\n",
              "      quickchartButtonEl.disabled = true;  // To prevent multiple clicks.\n",
              "      quickchartButtonEl.classList.add('colab-df-spinner');\n",
              "      try {\n",
              "        const charts = await google.colab.kernel.invokeFunction(\n",
              "            'suggestCharts', [key], {});\n",
              "      } catch (error) {\n",
              "        console.error('Error during call to suggestCharts:', error);\n",
              "      }\n",
              "      quickchartButtonEl.classList.remove('colab-df-spinner');\n",
              "      quickchartButtonEl.classList.add('colab-df-quickchart-complete');\n",
              "    }\n",
              "    (() => {\n",
              "      let quickchartButtonEl =\n",
              "        document.querySelector('#df-a05ebabc-b389-4ff3-b7fa-73d68f1f9d21 button');\n",
              "      quickchartButtonEl.style.display =\n",
              "        google.colab.kernel.accessAllowed ? 'block' : 'none';\n",
              "    })();\n",
              "  </script>\n",
              "</div>\n",
              "    </div>\n",
              "  </div>\n"
            ],
            "application/vnd.google.colaboratory.intrinsic+json": {
              "type": "dataframe",
              "variable_name": "data"
            }
          },
          "metadata": {},
          "execution_count": 6
        }
      ]
    },
    {
      "cell_type": "code",
      "source": [
        "# Выберем сэмплы, в которых встречается слово \"dancing\"\n",
        "\n",
        "df = data[data.label.str.contains('dancing')]\n",
        "\n",
        "print(data.shape, df.shape)"
      ],
      "metadata": {
        "colab": {
          "base_uri": "https://localhost:8080/"
        },
        "id": "bLSibC0msjUM",
        "outputId": "07720c15-c1da-4bc4-f4d8-41138d76f42b"
      },
      "execution_count": null,
      "outputs": [
        {
          "output_type": "stream",
          "name": "stdout",
          "text": [
            "(536699, 5) (13404, 5)\n"
          ]
        }
      ]
    },
    {
      "cell_type": "code",
      "source": [
        "# Посмотрим сколько уникальных классов у нас осталось\n",
        "df.label.nunique()"
      ],
      "metadata": {
        "colab": {
          "base_uri": "https://localhost:8080/"
        },
        "id": "ZqP5v172slol",
        "outputId": "cf687850-4483-4be9-90cc-1ca02205e282"
      },
      "execution_count": null,
      "outputs": [
        {
          "output_type": "execute_result",
          "data": {
            "text/plain": [
              "15"
            ]
          },
          "metadata": {},
          "execution_count": 8
        }
      ]
    },
    {
      "cell_type": "code",
      "source": [
        "# Посмотрим на балансировку классов\n",
        "fig = px.histogram(df, x=\"label\", nbins=len(df[\"label\"].unique()))\n",
        "fig = fig.update_xaxes(categoryorder='total descending')\n",
        "fig.update_traces(marker=dict(color='green'))\n",
        "fig.update_layout(title_text=\"Distribution of Labels\")\n",
        "\n",
        "fig.show()"
      ],
      "metadata": {
        "colab": {
          "base_uri": "https://localhost:8080/",
          "height": 542
        },
        "id": "iX26prXctD49",
        "outputId": "904bfd10-d6dc-4b1b-8cce-71201563e418"
      },
      "execution_count": null,
      "outputs": [
        {
          "output_type": "display_data",
          "data": {
            "text/html": [
              "<html>\n",
              "<head><meta charset=\"utf-8\" /></head>\n",
              "<body>\n",
              "    <div>            <script src=\"https://cdnjs.cloudflare.com/ajax/libs/mathjax/2.7.5/MathJax.js?config=TeX-AMS-MML_SVG\"></script><script type=\"text/javascript\">if (window.MathJax && window.MathJax.Hub && window.MathJax.Hub.Config) {window.MathJax.Hub.Config({SVG: {font: \"STIX-Web\"}});}</script>                <script type=\"text/javascript\">window.PlotlyConfig = {MathJaxConfig: 'local'};</script>\n",
              "        <script charset=\"utf-8\" src=\"https://cdn.plot.ly/plotly-2.24.1.min.js\"></script>                <div id=\"e0db65f0-c5df-4c28-82c6-c3e92685a303\" class=\"plotly-graph-div\" style=\"height:525px; width:100%;\"></div>            <script type=\"text/javascript\">                                    window.PLOTLYENV=window.PLOTLYENV || {};                                    if (document.getElementById(\"e0db65f0-c5df-4c28-82c6-c3e92685a303\")) {                    Plotly.newPlot(                        \"e0db65f0-c5df-4c28-82c6-c3e92685a303\",                        [{\"alignmentgroup\":\"True\",\"bingroup\":\"x\",\"hovertemplate\":\"label=%{x}\\u003cbr\\u003ecount=%{y}\\u003cextra\\u003e\\u003c\\u002fextra\\u003e\",\"legendgroup\":\"\",\"marker\":{\"color\":\"green\",\"pattern\":{\"shape\":\"\"}},\"name\":\"\",\"nbinsx\":15,\"offsetgroup\":\"\",\"orientation\":\"v\",\"showlegend\":false,\"x\":[\"belly dancing\",\"belly dancing\",\"belly dancing\",\"belly dancing\",\"belly dancing\",\"belly dancing\",\"belly dancing\",\"belly dancing\",\"belly dancing\",\"belly dancing\",\"belly dancing\",\"belly dancing\",\"belly dancing\",\"belly dancing\",\"belly dancing\",\"belly dancing\",\"belly dancing\",\"belly dancing\",\"belly dancing\",\"belly dancing\",\"belly dancing\",\"belly dancing\",\"belly dancing\",\"belly dancing\",\"belly dancing\",\"belly dancing\",\"belly dancing\",\"belly dancing\",\"belly dancing\",\"belly dancing\",\"belly dancing\",\"belly dancing\",\"belly dancing\",\"belly dancing\",\"belly dancing\",\"belly dancing\",\"belly dancing\",\"belly dancing\",\"belly dancing\",\"belly dancing\",\"belly dancing\",\"belly dancing\",\"belly dancing\",\"belly dancing\",\"belly dancing\",\"belly dancing\",\"belly dancing\",\"belly dancing\",\"belly dancing\",\"belly dancing\",\"belly dancing\",\"belly dancing\",\"belly dancing\",\"belly dancing\",\"belly dancing\",\"belly dancing\",\"belly dancing\",\"belly dancing\",\"belly dancing\",\"belly dancing\",\"belly dancing\",\"belly dancing\",\"belly dancing\",\"belly dancing\",\"belly dancing\",\"belly dancing\",\"belly dancing\",\"belly dancing\",\"belly dancing\",\"belly dancing\",\"belly dancing\",\"belly dancing\",\"belly dancing\",\"belly dancing\",\"belly dancing\",\"belly dancing\",\"belly dancing\",\"belly dancing\",\"belly dancing\",\"belly dancing\",\"belly dancing\",\"belly dancing\",\"belly dancing\",\"belly dancing\",\"belly dancing\",\"belly dancing\",\"belly dancing\",\"belly dancing\",\"belly dancing\",\"belly dancing\",\"belly dancing\",\"belly dancing\",\"belly dancing\",\"belly dancing\",\"belly dancing\",\"belly dancing\",\"belly dancing\",\"belly dancing\",\"belly dancing\",\"belly dancing\",\"belly dancing\",\"belly dancing\",\"belly dancing\",\"belly dancing\",\"belly dancing\",\"belly dancing\",\"belly dancing\",\"belly dancing\",\"belly dancing\",\"belly dancing\",\"belly dancing\",\"belly dancing\",\"belly dancing\",\"belly dancing\",\"belly dancing\",\"belly dancing\",\"belly dancing\",\"belly dancing\",\"belly dancing\",\"belly dancing\",\"belly dancing\",\"belly dancing\",\"belly dancing\",\"belly dancing\",\"belly dancing\",\"belly dancing\",\"belly dancing\",\"belly dancing\",\"belly dancing\",\"belly dancing\",\"belly dancing\",\"belly dancing\",\"belly dancing\",\"belly dancing\",\"belly dancing\",\"belly dancing\",\"belly dancing\",\"belly dancing\",\"belly dancing\",\"belly dancing\",\"belly dancing\",\"belly dancing\",\"belly dancing\",\"belly dancing\",\"belly dancing\",\"belly dancing\",\"belly dancing\",\"belly dancing\",\"belly dancing\",\"belly dancing\",\"belly dancing\",\"belly dancing\",\"belly dancing\",\"belly dancing\",\"belly dancing\",\"belly dancing\",\"belly dancing\",\"belly dancing\",\"belly dancing\",\"belly dancing\",\"belly dancing\",\"belly dancing\",\"belly dancing\",\"belly dancing\",\"belly dancing\",\"belly dancing\",\"belly dancing\",\"belly dancing\",\"belly dancing\",\"belly dancing\",\"belly dancing\",\"belly dancing\",\"belly dancing\",\"belly dancing\",\"belly dancing\",\"belly dancing\",\"belly dancing\",\"belly dancing\",\"belly dancing\",\"belly dancing\",\"belly dancing\",\"belly dancing\",\"belly dancing\",\"belly dancing\",\"belly dancing\",\"belly dancing\",\"belly dancing\",\"belly dancing\",\"belly dancing\",\"belly dancing\",\"belly dancing\",\"belly dancing\",\"belly dancing\",\"belly dancing\",\"belly dancing\",\"belly dancing\",\"belly dancing\",\"belly dancing\",\"belly dancing\",\"belly dancing\",\"belly dancing\",\"belly dancing\",\"belly dancing\",\"belly dancing\",\"belly dancing\",\"belly dancing\",\"belly dancing\",\"belly dancing\",\"belly dancing\",\"belly dancing\",\"belly dancing\",\"belly dancing\",\"belly dancing\",\"belly dancing\",\"belly dancing\",\"belly dancing\",\"belly dancing\",\"belly dancing\",\"belly dancing\",\"belly dancing\",\"belly dancing\",\"belly dancing\",\"belly dancing\",\"belly dancing\",\"belly dancing\",\"belly dancing\",\"belly dancing\",\"belly dancing\",\"belly dancing\",\"belly dancing\",\"belly dancing\",\"belly dancing\",\"belly dancing\",\"belly dancing\",\"belly dancing\",\"belly dancing\",\"belly dancing\",\"belly dancing\",\"belly dancing\",\"belly dancing\",\"belly dancing\",\"belly dancing\",\"belly dancing\",\"belly dancing\",\"belly dancing\",\"belly dancing\",\"belly dancing\",\"belly dancing\",\"belly dancing\",\"belly dancing\",\"belly dancing\",\"belly dancing\",\"belly dancing\",\"belly dancing\",\"belly dancing\",\"belly dancing\",\"belly dancing\",\"belly dancing\",\"belly dancing\",\"belly dancing\",\"belly dancing\",\"belly dancing\",\"belly dancing\",\"belly dancing\",\"belly dancing\",\"belly dancing\",\"belly dancing\",\"belly dancing\",\"belly dancing\",\"belly dancing\",\"belly dancing\",\"belly dancing\",\"belly dancing\",\"belly dancing\",\"belly dancing\",\"belly dancing\",\"belly dancing\",\"belly dancing\",\"belly dancing\",\"belly dancing\",\"belly dancing\",\"belly dancing\",\"belly dancing\",\"belly dancing\",\"belly dancing\",\"belly dancing\",\"belly dancing\",\"belly dancing\",\"belly dancing\",\"belly dancing\",\"belly dancing\",\"belly dancing\",\"belly dancing\",\"belly dancing\",\"belly dancing\",\"belly dancing\",\"belly dancing\",\"belly dancing\",\"belly dancing\",\"belly dancing\",\"belly dancing\",\"belly dancing\",\"belly dancing\",\"belly dancing\",\"belly dancing\",\"belly dancing\",\"belly dancing\",\"belly dancing\",\"belly dancing\",\"belly dancing\",\"belly dancing\",\"belly dancing\",\"belly dancing\",\"belly dancing\",\"belly dancing\",\"belly dancing\",\"belly dancing\",\"belly dancing\",\"belly dancing\",\"belly dancing\",\"belly dancing\",\"belly dancing\",\"belly dancing\",\"belly dancing\",\"belly dancing\",\"belly dancing\",\"belly dancing\",\"belly dancing\",\"belly dancing\",\"belly dancing\",\"belly dancing\",\"belly dancing\",\"belly dancing\",\"belly dancing\",\"belly dancing\",\"belly dancing\",\"belly dancing\",\"belly dancing\",\"belly dancing\",\"belly dancing\",\"belly dancing\",\"belly dancing\",\"belly dancing\",\"belly dancing\",\"belly dancing\",\"belly dancing\",\"belly dancing\",\"belly dancing\",\"belly dancing\",\"belly dancing\",\"belly dancing\",\"belly dancing\",\"belly dancing\",\"belly dancing\",\"belly dancing\",\"belly dancing\",\"belly dancing\",\"belly dancing\",\"belly dancing\",\"belly dancing\",\"belly dancing\",\"belly dancing\",\"belly dancing\",\"belly dancing\",\"belly dancing\",\"belly dancing\",\"belly dancing\",\"belly dancing\",\"belly dancing\",\"belly dancing\",\"belly dancing\",\"belly dancing\",\"belly dancing\",\"belly dancing\",\"belly dancing\",\"belly dancing\",\"belly dancing\",\"belly dancing\",\"belly dancing\",\"belly dancing\",\"belly dancing\",\"belly dancing\",\"belly dancing\",\"belly dancing\",\"belly dancing\",\"belly dancing\",\"belly dancing\",\"belly dancing\",\"belly dancing\",\"belly dancing\",\"belly dancing\",\"belly dancing\",\"belly dancing\",\"belly dancing\",\"belly dancing\",\"belly dancing\",\"belly dancing\",\"belly dancing\",\"belly dancing\",\"belly dancing\",\"belly dancing\",\"belly dancing\",\"belly dancing\",\"belly dancing\",\"belly dancing\",\"belly dancing\",\"belly dancing\",\"belly dancing\",\"belly dancing\",\"belly dancing\",\"belly dancing\",\"belly dancing\",\"belly dancing\",\"belly dancing\",\"belly dancing\",\"belly dancing\",\"belly dancing\",\"belly dancing\",\"belly dancing\",\"belly dancing\",\"belly dancing\",\"belly dancing\",\"belly dancing\",\"belly dancing\",\"belly dancing\",\"belly dancing\",\"belly dancing\",\"belly dancing\",\"belly dancing\",\"belly dancing\",\"belly dancing\",\"belly dancing\",\"belly dancing\",\"belly dancing\",\"belly dancing\",\"belly dancing\",\"belly dancing\",\"belly dancing\",\"belly dancing\",\"belly dancing\",\"belly dancing\",\"belly dancing\",\"belly dancing\",\"belly dancing\",\"belly dancing\",\"belly dancing\",\"belly dancing\",\"belly dancing\",\"belly dancing\",\"belly dancing\",\"belly dancing\",\"belly dancing\",\"belly dancing\",\"belly dancing\",\"belly dancing\",\"belly dancing\",\"belly dancing\",\"belly dancing\",\"belly dancing\",\"belly dancing\",\"belly dancing\",\"belly dancing\",\"belly dancing\",\"belly dancing\",\"belly dancing\",\"belly dancing\",\"belly dancing\",\"belly dancing\",\"belly dancing\",\"belly dancing\",\"belly dancing\",\"belly dancing\",\"belly dancing\",\"belly dancing\",\"belly dancing\",\"belly dancing\",\"belly dancing\",\"belly dancing\",\"belly dancing\",\"belly dancing\",\"belly dancing\",\"belly dancing\",\"belly dancing\",\"belly dancing\",\"belly dancing\",\"belly dancing\",\"belly dancing\",\"belly dancing\",\"belly dancing\",\"belly dancing\",\"belly dancing\",\"belly dancing\",\"belly dancing\",\"belly dancing\",\"belly dancing\",\"belly dancing\",\"belly dancing\",\"belly dancing\",\"belly dancing\",\"belly dancing\",\"belly dancing\",\"belly dancing\",\"belly dancing\",\"belly dancing\",\"belly dancing\",\"belly dancing\",\"belly dancing\",\"belly dancing\",\"belly dancing\",\"belly dancing\",\"belly dancing\",\"belly dancing\",\"belly dancing\",\"belly dancing\",\"belly dancing\",\"belly dancing\",\"belly dancing\",\"belly dancing\",\"belly dancing\",\"belly dancing\",\"belly dancing\",\"belly dancing\",\"belly dancing\",\"belly dancing\",\"belly dancing\",\"belly dancing\",\"belly dancing\",\"belly dancing\",\"belly dancing\",\"belly dancing\",\"belly dancing\",\"belly dancing\",\"belly dancing\",\"belly dancing\",\"belly dancing\",\"belly dancing\",\"belly dancing\",\"belly dancing\",\"belly dancing\",\"belly dancing\",\"belly dancing\",\"belly dancing\",\"belly dancing\",\"belly dancing\",\"belly dancing\",\"belly dancing\",\"belly dancing\",\"belly dancing\",\"belly dancing\",\"belly dancing\",\"belly dancing\",\"belly dancing\",\"belly dancing\",\"belly dancing\",\"belly dancing\",\"belly dancing\",\"belly dancing\",\"belly dancing\",\"belly dancing\",\"belly dancing\",\"belly dancing\",\"belly dancing\",\"belly dancing\",\"belly dancing\",\"belly dancing\",\"belly dancing\",\"belly dancing\",\"belly dancing\",\"belly dancing\",\"belly dancing\",\"belly dancing\",\"belly dancing\",\"belly dancing\",\"belly dancing\",\"belly dancing\",\"belly dancing\",\"belly dancing\",\"belly dancing\",\"belly dancing\",\"belly dancing\",\"belly dancing\",\"belly dancing\",\"belly dancing\",\"belly dancing\",\"belly dancing\",\"belly dancing\",\"belly dancing\",\"belly dancing\",\"belly dancing\",\"belly dancing\",\"belly dancing\",\"belly dancing\",\"belly dancing\",\"belly dancing\",\"belly dancing\",\"belly dancing\",\"belly dancing\",\"belly dancing\",\"belly dancing\",\"belly dancing\",\"belly dancing\",\"belly dancing\",\"belly dancing\",\"belly dancing\",\"belly dancing\",\"belly dancing\",\"belly dancing\",\"belly dancing\",\"belly dancing\",\"belly dancing\",\"belly dancing\",\"belly dancing\",\"belly dancing\",\"belly dancing\",\"belly dancing\",\"belly dancing\",\"belly dancing\",\"belly dancing\",\"belly dancing\",\"belly dancing\",\"belly dancing\",\"belly dancing\",\"belly dancing\",\"belly dancing\",\"belly dancing\",\"belly dancing\",\"belly dancing\",\"belly dancing\",\"belly dancing\",\"belly dancing\",\"belly dancing\",\"belly dancing\",\"belly dancing\",\"belly dancing\",\"belly dancing\",\"belly dancing\",\"belly dancing\",\"belly dancing\",\"belly dancing\",\"belly dancing\",\"belly dancing\",\"belly dancing\",\"belly dancing\",\"belly dancing\",\"belly dancing\",\"belly dancing\",\"belly dancing\",\"belly dancing\",\"belly dancing\",\"belly dancing\",\"belly dancing\",\"belly dancing\",\"belly dancing\",\"belly dancing\",\"belly dancing\",\"belly dancing\",\"belly dancing\",\"belly dancing\",\"belly dancing\",\"belly dancing\",\"belly dancing\",\"belly dancing\",\"belly dancing\",\"belly dancing\",\"belly dancing\",\"belly dancing\",\"belly dancing\",\"belly dancing\",\"belly dancing\",\"belly dancing\",\"belly dancing\",\"belly dancing\",\"belly dancing\",\"belly dancing\",\"belly dancing\",\"belly dancing\",\"belly dancing\",\"belly dancing\",\"belly dancing\",\"belly dancing\",\"belly dancing\",\"belly dancing\",\"belly dancing\",\"belly dancing\",\"belly dancing\",\"belly dancing\",\"belly dancing\",\"belly dancing\",\"belly dancing\",\"belly dancing\",\"belly dancing\",\"belly dancing\",\"belly dancing\",\"belly dancing\",\"belly dancing\",\"belly dancing\",\"belly dancing\",\"belly dancing\",\"belly dancing\",\"belly dancing\",\"belly dancing\",\"belly dancing\",\"belly dancing\",\"belly dancing\",\"belly dancing\",\"belly dancing\",\"belly dancing\",\"belly dancing\",\"belly dancing\",\"belly dancing\",\"belly dancing\",\"belly dancing\",\"belly dancing\",\"belly dancing\",\"belly dancing\",\"belly dancing\",\"belly dancing\",\"belly dancing\",\"belly dancing\",\"belly dancing\",\"belly dancing\",\"belly dancing\",\"belly dancing\",\"belly dancing\",\"belly dancing\",\"belly dancing\",\"belly dancing\",\"belly dancing\",\"belly dancing\",\"belly dancing\",\"belly dancing\",\"belly dancing\",\"belly dancing\",\"belly dancing\",\"belly dancing\",\"belly dancing\",\"belly dancing\",\"belly dancing\",\"belly dancing\",\"belly dancing\",\"belly dancing\",\"belly dancing\",\"belly dancing\",\"belly dancing\",\"belly dancing\",\"belly dancing\",\"belly dancing\",\"belly dancing\",\"belly dancing\",\"belly dancing\",\"belly dancing\",\"belly dancing\",\"belly dancing\",\"belly dancing\",\"belly dancing\",\"belly dancing\",\"belly dancing\",\"belly dancing\",\"belly dancing\",\"belly dancing\",\"belly dancing\",\"belly dancing\",\"belly dancing\",\"belly dancing\",\"belly dancing\",\"belly dancing\",\"belly dancing\",\"belly dancing\",\"belly dancing\",\"belly dancing\",\"belly dancing\",\"belly dancing\",\"belly dancing\",\"belly dancing\",\"belly dancing\",\"belly dancing\",\"belly dancing\",\"belly dancing\",\"belly dancing\",\"breakdancing\",\"breakdancing\",\"breakdancing\",\"breakdancing\",\"breakdancing\",\"breakdancing\",\"breakdancing\",\"breakdancing\",\"breakdancing\",\"breakdancing\",\"breakdancing\",\"breakdancing\",\"breakdancing\",\"breakdancing\",\"breakdancing\",\"breakdancing\",\"breakdancing\",\"breakdancing\",\"breakdancing\",\"breakdancing\",\"breakdancing\",\"breakdancing\",\"breakdancing\",\"breakdancing\",\"breakdancing\",\"breakdancing\",\"breakdancing\",\"breakdancing\",\"breakdancing\",\"breakdancing\",\"breakdancing\",\"breakdancing\",\"breakdancing\",\"breakdancing\",\"breakdancing\",\"breakdancing\",\"breakdancing\",\"breakdancing\",\"breakdancing\",\"breakdancing\",\"breakdancing\",\"breakdancing\",\"breakdancing\",\"breakdancing\",\"breakdancing\",\"breakdancing\",\"breakdancing\",\"breakdancing\",\"breakdancing\",\"breakdancing\",\"breakdancing\",\"breakdancing\",\"breakdancing\",\"breakdancing\",\"breakdancing\",\"breakdancing\",\"breakdancing\",\"breakdancing\",\"breakdancing\",\"breakdancing\",\"breakdancing\",\"breakdancing\",\"breakdancing\",\"breakdancing\",\"breakdancing\",\"breakdancing\",\"breakdancing\",\"breakdancing\",\"breakdancing\",\"breakdancing\",\"breakdancing\",\"breakdancing\",\"breakdancing\",\"breakdancing\",\"breakdancing\",\"breakdancing\",\"breakdancing\",\"breakdancing\",\"breakdancing\",\"breakdancing\",\"breakdancing\",\"breakdancing\",\"breakdancing\",\"breakdancing\",\"breakdancing\",\"breakdancing\",\"breakdancing\",\"breakdancing\",\"breakdancing\",\"breakdancing\",\"breakdancing\",\"breakdancing\",\"breakdancing\",\"breakdancing\",\"breakdancing\",\"breakdancing\",\"breakdancing\",\"breakdancing\",\"breakdancing\",\"breakdancing\",\"breakdancing\",\"breakdancing\",\"breakdancing\",\"breakdancing\",\"breakdancing\",\"breakdancing\",\"breakdancing\",\"breakdancing\",\"breakdancing\",\"breakdancing\",\"breakdancing\",\"breakdancing\",\"breakdancing\",\"breakdancing\",\"breakdancing\",\"breakdancing\",\"breakdancing\",\"breakdancing\",\"breakdancing\",\"breakdancing\",\"breakdancing\",\"breakdancing\",\"breakdancing\",\"breakdancing\",\"breakdancing\",\"breakdancing\",\"breakdancing\",\"breakdancing\",\"breakdancing\",\"breakdancing\",\"breakdancing\",\"breakdancing\",\"breakdancing\",\"breakdancing\",\"breakdancing\",\"breakdancing\",\"breakdancing\",\"breakdancing\",\"breakdancing\",\"breakdancing\",\"breakdancing\",\"breakdancing\",\"breakdancing\",\"breakdancing\",\"breakdancing\",\"breakdancing\",\"breakdancing\",\"breakdancing\",\"breakdancing\",\"breakdancing\",\"breakdancing\",\"breakdancing\",\"breakdancing\",\"breakdancing\",\"breakdancing\",\"breakdancing\",\"breakdancing\",\"breakdancing\",\"breakdancing\",\"breakdancing\",\"breakdancing\",\"breakdancing\",\"breakdancing\",\"breakdancing\",\"breakdancing\",\"breakdancing\",\"breakdancing\",\"breakdancing\",\"breakdancing\",\"breakdancing\",\"breakdancing\",\"breakdancing\",\"breakdancing\",\"breakdancing\",\"breakdancing\",\"breakdancing\",\"breakdancing\",\"breakdancing\",\"breakdancing\",\"breakdancing\",\"breakdancing\",\"breakdancing\",\"breakdancing\",\"breakdancing\",\"breakdancing\",\"breakdancing\",\"breakdancing\",\"breakdancing\",\"breakdancing\",\"breakdancing\",\"breakdancing\",\"breakdancing\",\"breakdancing\",\"breakdancing\",\"breakdancing\",\"breakdancing\",\"breakdancing\",\"breakdancing\",\"breakdancing\",\"breakdancing\",\"breakdancing\",\"breakdancing\",\"breakdancing\",\"breakdancing\",\"breakdancing\",\"breakdancing\",\"breakdancing\",\"breakdancing\",\"breakdancing\",\"breakdancing\",\"breakdancing\",\"breakdancing\",\"breakdancing\",\"breakdancing\",\"breakdancing\",\"breakdancing\",\"breakdancing\",\"breakdancing\",\"breakdancing\",\"breakdancing\",\"breakdancing\",\"breakdancing\",\"breakdancing\",\"breakdancing\",\"breakdancing\",\"breakdancing\",\"breakdancing\",\"breakdancing\",\"breakdancing\",\"breakdancing\",\"breakdancing\",\"breakdancing\",\"breakdancing\",\"breakdancing\",\"breakdancing\",\"breakdancing\",\"breakdancing\",\"breakdancing\",\"breakdancing\",\"breakdancing\",\"breakdancing\",\"breakdancing\",\"breakdancing\",\"breakdancing\",\"breakdancing\",\"breakdancing\",\"breakdancing\",\"breakdancing\",\"breakdancing\",\"breakdancing\",\"breakdancing\",\"breakdancing\",\"breakdancing\",\"breakdancing\",\"breakdancing\",\"breakdancing\",\"breakdancing\",\"breakdancing\",\"breakdancing\",\"breakdancing\",\"breakdancing\",\"breakdancing\",\"breakdancing\",\"breakdancing\",\"breakdancing\",\"breakdancing\",\"breakdancing\",\"breakdancing\",\"breakdancing\",\"breakdancing\",\"breakdancing\",\"breakdancing\",\"breakdancing\",\"breakdancing\",\"breakdancing\",\"breakdancing\",\"breakdancing\",\"breakdancing\",\"breakdancing\",\"breakdancing\",\"breakdancing\",\"breakdancing\",\"breakdancing\",\"breakdancing\",\"breakdancing\",\"breakdancing\",\"breakdancing\",\"breakdancing\",\"breakdancing\",\"breakdancing\",\"breakdancing\",\"breakdancing\",\"breakdancing\",\"breakdancing\",\"breakdancing\",\"breakdancing\",\"breakdancing\",\"breakdancing\",\"breakdancing\",\"breakdancing\",\"breakdancing\",\"breakdancing\",\"breakdancing\",\"breakdancing\",\"breakdancing\",\"breakdancing\",\"breakdancing\",\"breakdancing\",\"breakdancing\",\"breakdancing\",\"breakdancing\",\"breakdancing\",\"breakdancing\",\"breakdancing\",\"breakdancing\",\"breakdancing\",\"breakdancing\",\"breakdancing\",\"breakdancing\",\"breakdancing\",\"breakdancing\",\"breakdancing\",\"breakdancing\",\"breakdancing\",\"breakdancing\",\"breakdancing\",\"breakdancing\",\"breakdancing\",\"breakdancing\",\"breakdancing\",\"breakdancing\",\"breakdancing\",\"breakdancing\",\"breakdancing\",\"breakdancing\",\"breakdancing\",\"breakdancing\",\"breakdancing\",\"breakdancing\",\"breakdancing\",\"breakdancing\",\"breakdancing\",\"breakdancing\",\"breakdancing\",\"breakdancing\",\"breakdancing\",\"breakdancing\",\"breakdancing\",\"breakdancing\",\"breakdancing\",\"breakdancing\",\"breakdancing\",\"breakdancing\",\"breakdancing\",\"breakdancing\",\"breakdancing\",\"breakdancing\",\"breakdancing\",\"breakdancing\",\"breakdancing\",\"breakdancing\",\"breakdancing\",\"breakdancing\",\"breakdancing\",\"breakdancing\",\"breakdancing\",\"breakdancing\",\"breakdancing\",\"breakdancing\",\"breakdancing\",\"breakdancing\",\"breakdancing\",\"breakdancing\",\"breakdancing\",\"breakdancing\",\"breakdancing\",\"breakdancing\",\"breakdancing\",\"breakdancing\",\"breakdancing\",\"breakdancing\",\"breakdancing\",\"breakdancing\",\"breakdancing\",\"breakdancing\",\"breakdancing\",\"breakdancing\",\"breakdancing\",\"breakdancing\",\"breakdancing\",\"breakdancing\",\"breakdancing\",\"breakdancing\",\"breakdancing\",\"breakdancing\",\"breakdancing\",\"breakdancing\",\"breakdancing\",\"breakdancing\",\"breakdancing\",\"breakdancing\",\"breakdancing\",\"breakdancing\",\"breakdancing\",\"breakdancing\",\"breakdancing\",\"breakdancing\",\"breakdancing\",\"breakdancing\",\"breakdancing\",\"breakdancing\",\"breakdancing\",\"breakdancing\",\"breakdancing\",\"breakdancing\",\"breakdancing\",\"breakdancing\",\"breakdancing\",\"breakdancing\",\"breakdancing\",\"breakdancing\",\"breakdancing\",\"breakdancing\",\"breakdancing\",\"breakdancing\",\"breakdancing\",\"breakdancing\",\"breakdancing\",\"breakdancing\",\"breakdancing\",\"breakdancing\",\"breakdancing\",\"breakdancing\",\"breakdancing\",\"breakdancing\",\"breakdancing\",\"breakdancing\",\"breakdancing\",\"breakdancing\",\"breakdancing\",\"breakdancing\",\"breakdancing\",\"breakdancing\",\"breakdancing\",\"breakdancing\",\"breakdancing\",\"breakdancing\",\"breakdancing\",\"breakdancing\",\"breakdancing\",\"breakdancing\",\"breakdancing\",\"breakdancing\",\"breakdancing\",\"breakdancing\",\"breakdancing\",\"breakdancing\",\"breakdancing\",\"breakdancing\",\"breakdancing\",\"breakdancing\",\"breakdancing\",\"breakdancing\",\"breakdancing\",\"breakdancing\",\"breakdancing\",\"breakdancing\",\"breakdancing\",\"breakdancing\",\"breakdancing\",\"breakdancing\",\"breakdancing\",\"breakdancing\",\"breakdancing\",\"breakdancing\",\"breakdancing\",\"breakdancing\",\"breakdancing\",\"breakdancing\",\"breakdancing\",\"breakdancing\",\"breakdancing\",\"breakdancing\",\"breakdancing\",\"breakdancing\",\"breakdancing\",\"breakdancing\",\"breakdancing\",\"breakdancing\",\"breakdancing\",\"breakdancing\",\"breakdancing\",\"breakdancing\",\"breakdancing\",\"breakdancing\",\"breakdancing\",\"breakdancing\",\"breakdancing\",\"breakdancing\",\"breakdancing\",\"breakdancing\",\"breakdancing\",\"breakdancing\",\"breakdancing\",\"breakdancing\",\"breakdancing\",\"breakdancing\",\"breakdancing\",\"breakdancing\",\"breakdancing\",\"breakdancing\",\"breakdancing\",\"breakdancing\",\"breakdancing\",\"breakdancing\",\"breakdancing\",\"breakdancing\",\"breakdancing\",\"breakdancing\",\"breakdancing\",\"breakdancing\",\"breakdancing\",\"breakdancing\",\"breakdancing\",\"breakdancing\",\"breakdancing\",\"breakdancing\",\"breakdancing\",\"breakdancing\",\"breakdancing\",\"breakdancing\",\"breakdancing\",\"breakdancing\",\"breakdancing\",\"breakdancing\",\"breakdancing\",\"breakdancing\",\"breakdancing\",\"breakdancing\",\"breakdancing\",\"breakdancing\",\"breakdancing\",\"breakdancing\",\"breakdancing\",\"breakdancing\",\"breakdancing\",\"breakdancing\",\"breakdancing\",\"breakdancing\",\"breakdancing\",\"breakdancing\",\"breakdancing\",\"breakdancing\",\"breakdancing\",\"breakdancing\",\"breakdancing\",\"breakdancing\",\"breakdancing\",\"breakdancing\",\"breakdancing\",\"breakdancing\",\"breakdancing\",\"breakdancing\",\"breakdancing\",\"breakdancing\",\"breakdancing\",\"breakdancing\",\"breakdancing\",\"breakdancing\",\"breakdancing\",\"breakdancing\",\"breakdancing\",\"breakdancing\",\"breakdancing\",\"breakdancing\",\"breakdancing\",\"breakdancing\",\"breakdancing\",\"breakdancing\",\"breakdancing\",\"breakdancing\",\"breakdancing\",\"breakdancing\",\"breakdancing\",\"breakdancing\",\"breakdancing\",\"breakdancing\",\"breakdancing\",\"breakdancing\",\"breakdancing\",\"breakdancing\",\"breakdancing\",\"breakdancing\",\"breakdancing\",\"breakdancing\",\"breakdancing\",\"breakdancing\",\"breakdancing\",\"breakdancing\",\"breakdancing\",\"breakdancing\",\"breakdancing\",\"breakdancing\",\"breakdancing\",\"breakdancing\",\"breakdancing\",\"breakdancing\",\"breakdancing\",\"breakdancing\",\"breakdancing\",\"breakdancing\",\"breakdancing\",\"breakdancing\",\"breakdancing\",\"breakdancing\",\"breakdancing\",\"breakdancing\",\"breakdancing\",\"breakdancing\",\"breakdancing\",\"breakdancing\",\"breakdancing\",\"breakdancing\",\"breakdancing\",\"breakdancing\",\"breakdancing\",\"breakdancing\",\"breakdancing\",\"breakdancing\",\"breakdancing\",\"breakdancing\",\"breakdancing\",\"breakdancing\",\"breakdancing\",\"breakdancing\",\"breakdancing\",\"breakdancing\",\"breakdancing\",\"breakdancing\",\"breakdancing\",\"breakdancing\",\"breakdancing\",\"breakdancing\",\"breakdancing\",\"breakdancing\",\"breakdancing\",\"breakdancing\",\"breakdancing\",\"breakdancing\",\"breakdancing\",\"breakdancing\",\"breakdancing\",\"breakdancing\",\"breakdancing\",\"breakdancing\",\"breakdancing\",\"breakdancing\",\"breakdancing\",\"breakdancing\",\"breakdancing\",\"breakdancing\",\"breakdancing\",\"breakdancing\",\"breakdancing\",\"breakdancing\",\"breakdancing\",\"breakdancing\",\"breakdancing\",\"breakdancing\",\"breakdancing\",\"breakdancing\",\"breakdancing\",\"breakdancing\",\"breakdancing\",\"breakdancing\",\"breakdancing\",\"breakdancing\",\"breakdancing\",\"breakdancing\",\"breakdancing\",\"breakdancing\",\"breakdancing\",\"breakdancing\",\"breakdancing\",\"breakdancing\",\"breakdancing\",\"breakdancing\",\"breakdancing\",\"breakdancing\",\"breakdancing\",\"breakdancing\",\"breakdancing\",\"breakdancing\",\"breakdancing\",\"breakdancing\",\"breakdancing\",\"breakdancing\",\"breakdancing\",\"breakdancing\",\"breakdancing\",\"breakdancing\",\"breakdancing\",\"breakdancing\",\"breakdancing\",\"breakdancing\",\"breakdancing\",\"breakdancing\",\"breakdancing\",\"breakdancing\",\"breakdancing\",\"breakdancing\",\"breakdancing\",\"breakdancing\",\"breakdancing\",\"breakdancing\",\"breakdancing\",\"breakdancing\",\"breakdancing\",\"breakdancing\",\"breakdancing\",\"breakdancing\",\"breakdancing\",\"breakdancing\",\"breakdancing\",\"breakdancing\",\"breakdancing\",\"breakdancing\",\"breakdancing\",\"breakdancing\",\"breakdancing\",\"breakdancing\",\"breakdancing\",\"breakdancing\",\"breakdancing\",\"breakdancing\",\"breakdancing\",\"breakdancing\",\"breakdancing\",\"breakdancing\",\"breakdancing\",\"breakdancing\",\"breakdancing\",\"breakdancing\",\"breakdancing\",\"breakdancing\",\"breakdancing\",\"breakdancing\",\"breakdancing\",\"breakdancing\",\"breakdancing\",\"breakdancing\",\"breakdancing\",\"breakdancing\",\"breakdancing\",\"breakdancing\",\"breakdancing\",\"breakdancing\",\"breakdancing\",\"breakdancing\",\"breakdancing\",\"breakdancing\",\"breakdancing\",\"breakdancing\",\"breakdancing\",\"breakdancing\",\"breakdancing\",\"breakdancing\",\"breakdancing\",\"breakdancing\",\"breakdancing\",\"breakdancing\",\"breakdancing\",\"breakdancing\",\"breakdancing\",\"breakdancing\",\"breakdancing\",\"breakdancing\",\"breakdancing\",\"breakdancing\",\"breakdancing\",\"breakdancing\",\"breakdancing\",\"breakdancing\",\"breakdancing\",\"breakdancing\",\"breakdancing\",\"breakdancing\",\"breakdancing\",\"breakdancing\",\"breakdancing\",\"breakdancing\",\"breakdancing\",\"breakdancing\",\"breakdancing\",\"breakdancing\",\"breakdancing\",\"breakdancing\",\"breakdancing\",\"breakdancing\",\"breakdancing\",\"breakdancing\",\"breakdancing\",\"breakdancing\",\"breakdancing\",\"breakdancing\",\"breakdancing\",\"breakdancing\",\"breakdancing\",\"breakdancing\",\"breakdancing\",\"breakdancing\",\"breakdancing\",\"breakdancing\",\"breakdancing\",\"breakdancing\",\"breakdancing\",\"breakdancing\",\"breakdancing\",\"breakdancing\",\"breakdancing\",\"breakdancing\",\"breakdancing\",\"breakdancing\",\"breakdancing\",\"breakdancing\",\"breakdancing\",\"breakdancing\",\"breakdancing\",\"breakdancing\",\"breakdancing\",\"breakdancing\",\"breakdancing\",\"breakdancing\",\"breakdancing\",\"breakdancing\",\"breakdancing\",\"breakdancing\",\"breakdancing\",\"breakdancing\",\"breakdancing\",\"breakdancing\",\"breakdancing\",\"breakdancing\",\"breakdancing\",\"breakdancing\",\"breakdancing\",\"breakdancing\",\"breakdancing\",\"breakdancing\",\"breakdancing\",\"breakdancing\",\"breakdancing\",\"breakdancing\",\"breakdancing\",\"breakdancing\",\"breakdancing\",\"breakdancing\",\"breakdancing\",\"breakdancing\",\"breakdancing\",\"breakdancing\",\"breakdancing\",\"breakdancing\",\"breakdancing\",\"breakdancing\",\"breakdancing\",\"breakdancing\",\"breakdancing\",\"breakdancing\",\"breakdancing\",\"breakdancing\",\"breakdancing\",\"breakdancing\",\"breakdancing\",\"breakdancing\",\"breakdancing\",\"breakdancing\",\"breakdancing\",\"breakdancing\",\"breakdancing\",\"breakdancing\",\"breakdancing\",\"breakdancing\",\"breakdancing\",\"breakdancing\",\"breakdancing\",\"breakdancing\",\"breakdancing\",\"breakdancing\",\"breakdancing\",\"breakdancing\",\"breakdancing\",\"breakdancing\",\"breakdancing\",\"breakdancing\",\"breakdancing\",\"breakdancing\",\"breakdancing\",\"breakdancing\",\"breakdancing\",\"breakdancing\",\"breakdancing\",\"breakdancing\",\"breakdancing\",\"breakdancing\",\"breakdancing\",\"breakdancing\",\"breakdancing\",\"breakdancing\",\"breakdancing\",\"breakdancing\",\"breakdancing\",\"breakdancing\",\"breakdancing\",\"breakdancing\",\"breakdancing\",\"breakdancing\",\"breakdancing\",\"breakdancing\",\"breakdancing\",\"breakdancing\",\"breakdancing\",\"breakdancing\",\"breakdancing\",\"breakdancing\",\"breakdancing\",\"breakdancing\",\"breakdancing\",\"breakdancing\",\"breakdancing\",\"breakdancing\",\"breakdancing\",\"breakdancing\",\"breakdancing\",\"breakdancing\",\"breakdancing\",\"breakdancing\",\"breakdancing\",\"breakdancing\",\"breakdancing\",\"breakdancing\",\"breakdancing\",\"breakdancing\",\"breakdancing\",\"breakdancing\",\"breakdancing\",\"breakdancing\",\"breakdancing\",\"breakdancing\",\"breakdancing\",\"breakdancing\",\"breakdancing\",\"breakdancing\",\"breakdancing\",\"breakdancing\",\"breakdancing\",\"breakdancing\",\"breakdancing\",\"breakdancing\",\"breakdancing\",\"breakdancing\",\"breakdancing\",\"breakdancing\",\"breakdancing\",\"breakdancing\",\"breakdancing\",\"breakdancing\",\"breakdancing\",\"breakdancing\",\"breakdancing\",\"breakdancing\",\"breakdancing\",\"breakdancing\",\"breakdancing\",\"breakdancing\",\"breakdancing\",\"breakdancing\",\"breakdancing\",\"breakdancing\",\"breakdancing\",\"breakdancing\",\"breakdancing\",\"breakdancing\",\"country line dancing\",\"country line dancing\",\"country line dancing\",\"country line dancing\",\"country line dancing\",\"country line dancing\",\"country line dancing\",\"country line dancing\",\"country line dancing\",\"country line dancing\",\"country line dancing\",\"country line dancing\",\"country line dancing\",\"country line dancing\",\"country line dancing\",\"country line dancing\",\"country line dancing\",\"country line dancing\",\"country line dancing\",\"country line dancing\",\"country line dancing\",\"country line dancing\",\"country line dancing\",\"country line dancing\",\"country line dancing\",\"country line dancing\",\"country line dancing\",\"country line dancing\",\"country line dancing\",\"country line dancing\",\"country line dancing\",\"country line dancing\",\"country line dancing\",\"country line dancing\",\"country line dancing\",\"country line dancing\",\"country line dancing\",\"country line dancing\",\"country line dancing\",\"country line dancing\",\"country line dancing\",\"country line dancing\",\"country line dancing\",\"country line dancing\",\"country line dancing\",\"country line dancing\",\"country line dancing\",\"country line dancing\",\"country line dancing\",\"country line dancing\",\"country line dancing\",\"country line dancing\",\"country line dancing\",\"country line dancing\",\"country line dancing\",\"country line dancing\",\"country line dancing\",\"country line dancing\",\"country line dancing\",\"country line dancing\",\"country line dancing\",\"country line dancing\",\"country line dancing\",\"country line dancing\",\"country line dancing\",\"country line dancing\",\"country line dancing\",\"country line dancing\",\"country line dancing\",\"country line dancing\",\"country line dancing\",\"country line dancing\",\"country line dancing\",\"country line dancing\",\"country line dancing\",\"country line dancing\",\"country line dancing\",\"country line dancing\",\"country line dancing\",\"country line dancing\",\"country line dancing\",\"country line dancing\",\"country line dancing\",\"country line dancing\",\"country line dancing\",\"country line dancing\",\"country line dancing\",\"country line dancing\",\"country line dancing\",\"country line dancing\",\"country line dancing\",\"country line dancing\",\"country line dancing\",\"country line dancing\",\"country line dancing\",\"country line dancing\",\"country line dancing\",\"country line dancing\",\"country line dancing\",\"country line dancing\",\"country line dancing\",\"country line dancing\",\"country line dancing\",\"country line dancing\",\"country line dancing\",\"country line dancing\",\"country line dancing\",\"country line dancing\",\"country line dancing\",\"country line dancing\",\"country line dancing\",\"country line dancing\",\"country line dancing\",\"country line dancing\",\"country line dancing\",\"country line dancing\",\"country line dancing\",\"country line dancing\",\"country line dancing\",\"country line dancing\",\"country line dancing\",\"country line dancing\",\"country line dancing\",\"country line dancing\",\"country line dancing\",\"country line dancing\",\"country line dancing\",\"country line dancing\",\"country line dancing\",\"country line dancing\",\"country line dancing\",\"country line dancing\",\"country line dancing\",\"country line dancing\",\"country line dancing\",\"country line dancing\",\"country line dancing\",\"country line dancing\",\"country line dancing\",\"country line dancing\",\"country line dancing\",\"country line dancing\",\"country line dancing\",\"country line dancing\",\"country line dancing\",\"country line dancing\",\"country line dancing\",\"country line dancing\",\"country line dancing\",\"country line dancing\",\"country line dancing\",\"country line dancing\",\"country line dancing\",\"country line dancing\",\"country line dancing\",\"country line dancing\",\"country line dancing\",\"country line dancing\",\"country line dancing\",\"country line dancing\",\"country line dancing\",\"country line dancing\",\"country line dancing\",\"country line dancing\",\"country line dancing\",\"country line dancing\",\"country line dancing\",\"country line dancing\",\"country line dancing\",\"country line dancing\",\"country line dancing\",\"country line dancing\",\"country line dancing\",\"country line dancing\",\"country line dancing\",\"country line dancing\",\"country line dancing\",\"country line dancing\",\"country line dancing\",\"country line dancing\",\"country line dancing\",\"country line dancing\",\"country line dancing\",\"country line dancing\",\"country line dancing\",\"country line dancing\",\"country line dancing\",\"country line dancing\",\"country line dancing\",\"country line dancing\",\"country line dancing\",\"country line dancing\",\"country line dancing\",\"country line dancing\",\"country line dancing\",\"country line dancing\",\"country line dancing\",\"country line dancing\",\"country line dancing\",\"country line dancing\",\"country line dancing\",\"country line dancing\",\"country line dancing\",\"country line dancing\",\"country line dancing\",\"country line dancing\",\"country line dancing\",\"country line dancing\",\"country line dancing\",\"country line dancing\",\"country line dancing\",\"country line dancing\",\"country line dancing\",\"country line dancing\",\"country line dancing\",\"country line dancing\",\"country line dancing\",\"country line dancing\",\"country line dancing\",\"country line dancing\",\"country line dancing\",\"country line dancing\",\"country line dancing\",\"country line dancing\",\"country line dancing\",\"country line dancing\",\"country line dancing\",\"country line dancing\",\"country line dancing\",\"country line dancing\",\"country line dancing\",\"country line dancing\",\"country line dancing\",\"country line dancing\",\"country line dancing\",\"country line dancing\",\"country line dancing\",\"country line dancing\",\"country line dancing\",\"country line dancing\",\"country line dancing\",\"country line dancing\",\"country line dancing\",\"country line dancing\",\"country line dancing\",\"country line dancing\",\"country line dancing\",\"country line dancing\",\"country line dancing\",\"country line dancing\",\"country line dancing\",\"country line dancing\",\"country line dancing\",\"country line dancing\",\"country line dancing\",\"country line dancing\",\"country line dancing\",\"country line dancing\",\"country line dancing\",\"country line dancing\",\"country line dancing\",\"country line dancing\",\"country line dancing\",\"country line dancing\",\"country line dancing\",\"country line dancing\",\"country line dancing\",\"country line dancing\",\"country line dancing\",\"country line dancing\",\"country line dancing\",\"country line dancing\",\"country line dancing\",\"country line dancing\",\"country line dancing\",\"country line dancing\",\"country line dancing\",\"country line dancing\",\"country line dancing\",\"country line dancing\",\"country line dancing\",\"country line dancing\",\"country line dancing\",\"country line dancing\",\"country line dancing\",\"country line dancing\",\"country line dancing\",\"country line dancing\",\"country line dancing\",\"country line dancing\",\"country line dancing\",\"country line dancing\",\"country line dancing\",\"country line dancing\",\"country line dancing\",\"country line dancing\",\"country line dancing\",\"country line dancing\",\"country line dancing\",\"country line dancing\",\"country line dancing\",\"country line dancing\",\"country line dancing\",\"country line dancing\",\"country line dancing\",\"country line dancing\",\"country line dancing\",\"country line dancing\",\"country line dancing\",\"country line dancing\",\"country line dancing\",\"country line dancing\",\"country line dancing\",\"country line dancing\",\"country line dancing\",\"country line dancing\",\"country line dancing\",\"country line dancing\",\"country line dancing\",\"country line dancing\",\"country line dancing\",\"country line dancing\",\"country line dancing\",\"country line dancing\",\"country line dancing\",\"country line dancing\",\"country line dancing\",\"country line dancing\",\"country line dancing\",\"country line dancing\",\"country line dancing\",\"country line dancing\",\"country line dancing\",\"country line dancing\",\"country line dancing\",\"country line dancing\",\"country line dancing\",\"country line dancing\",\"country line dancing\",\"country line dancing\",\"country line dancing\",\"country line dancing\",\"country line dancing\",\"country line dancing\",\"country line dancing\",\"country line dancing\",\"country line dancing\",\"country line dancing\",\"country line dancing\",\"country line dancing\",\"country line dancing\",\"country line dancing\",\"country line dancing\",\"country line dancing\",\"country line dancing\",\"country line dancing\",\"country line dancing\",\"country line dancing\",\"country line dancing\",\"country line dancing\",\"country line dancing\",\"country line dancing\",\"country line dancing\",\"country line dancing\",\"country line dancing\",\"country line dancing\",\"country line dancing\",\"country line dancing\",\"country line dancing\",\"country line dancing\",\"country line dancing\",\"country line dancing\",\"country line dancing\",\"country line dancing\",\"country line dancing\",\"country line dancing\",\"country line dancing\",\"country line dancing\",\"country line dancing\",\"country line dancing\",\"country line dancing\",\"country line dancing\",\"country line dancing\",\"country line dancing\",\"country line dancing\",\"country line dancing\",\"country line dancing\",\"country line dancing\",\"country line dancing\",\"country line dancing\",\"country line dancing\",\"country line dancing\",\"country line dancing\",\"country line dancing\",\"country line dancing\",\"country line dancing\",\"country line dancing\",\"country line dancing\",\"country line dancing\",\"country line dancing\",\"country line dancing\",\"country line dancing\",\"country line dancing\",\"country line dancing\",\"country line dancing\",\"country line dancing\",\"country line dancing\",\"country line dancing\",\"country line dancing\",\"country line dancing\",\"country line dancing\",\"country line dancing\",\"country line dancing\",\"country line dancing\",\"country line dancing\",\"country line dancing\",\"country line dancing\",\"country line dancing\",\"country line dancing\",\"country line dancing\",\"country line dancing\",\"country line dancing\",\"country line dancing\",\"country line dancing\",\"country line dancing\",\"country line dancing\",\"country line dancing\",\"country line dancing\",\"country line dancing\",\"country line dancing\",\"country line dancing\",\"country line dancing\",\"country line dancing\",\"country line dancing\",\"country line dancing\",\"country line dancing\",\"country line dancing\",\"country line dancing\",\"country line dancing\",\"country line dancing\",\"country line dancing\",\"country line dancing\",\"country line dancing\",\"country line dancing\",\"country line dancing\",\"country line dancing\",\"country line dancing\",\"country line dancing\",\"country line dancing\",\"country line dancing\",\"country line dancing\",\"country line dancing\",\"country line dancing\",\"country line dancing\",\"country line dancing\",\"country line dancing\",\"country line dancing\",\"country line dancing\",\"country line dancing\",\"country line dancing\",\"country line dancing\",\"country line dancing\",\"country line dancing\",\"country line dancing\",\"country line dancing\",\"country line dancing\",\"country line dancing\",\"country line dancing\",\"country line dancing\",\"country line dancing\",\"country line dancing\",\"country line dancing\",\"country line dancing\",\"country line dancing\",\"country line dancing\",\"country line dancing\",\"country line dancing\",\"country line dancing\",\"country line dancing\",\"country line dancing\",\"country line dancing\",\"country line dancing\",\"country line dancing\",\"country line dancing\",\"country line dancing\",\"country line dancing\",\"country line dancing\",\"country line dancing\",\"country line dancing\",\"country line dancing\",\"country line dancing\",\"country line dancing\",\"country line dancing\",\"country line dancing\",\"country line dancing\",\"country line dancing\",\"country line dancing\",\"country line dancing\",\"country line dancing\",\"country line dancing\",\"country line dancing\",\"country line dancing\",\"country line dancing\",\"country line dancing\",\"country line dancing\",\"country line dancing\",\"country line dancing\",\"country line dancing\",\"country line dancing\",\"country line dancing\",\"country line dancing\",\"country line dancing\",\"country line dancing\",\"country line dancing\",\"country line dancing\",\"country line dancing\",\"country line dancing\",\"country line dancing\",\"country line dancing\",\"country line dancing\",\"country line dancing\",\"country line dancing\",\"country line dancing\",\"country line dancing\",\"country line dancing\",\"country line dancing\",\"country line dancing\",\"country line dancing\",\"country line dancing\",\"country line dancing\",\"country line dancing\",\"country line dancing\",\"country line dancing\",\"country line dancing\",\"country line dancing\",\"country line dancing\",\"country line dancing\",\"country line dancing\",\"country line dancing\",\"country line dancing\",\"country line dancing\",\"country line dancing\",\"country line dancing\",\"country line dancing\",\"country line dancing\",\"country line dancing\",\"country line dancing\",\"country line dancing\",\"country line dancing\",\"country line dancing\",\"country line dancing\",\"country line dancing\",\"country line dancing\",\"country line dancing\",\"country line dancing\",\"country line dancing\",\"country line dancing\",\"country line dancing\",\"country line dancing\",\"country line dancing\",\"country line dancing\",\"country line dancing\",\"country line dancing\",\"country line dancing\",\"country line dancing\",\"country line dancing\",\"country line dancing\",\"country line dancing\",\"country line dancing\",\"country line dancing\",\"country line dancing\",\"country line dancing\",\"country line dancing\",\"country line dancing\",\"country line dancing\",\"country line dancing\",\"country line dancing\",\"country line dancing\",\"country line dancing\",\"country line dancing\",\"country line dancing\",\"country line dancing\",\"country line dancing\",\"country line dancing\",\"country line dancing\",\"country line dancing\",\"country line dancing\",\"country line dancing\",\"country line dancing\",\"country line dancing\",\"country line dancing\",\"country line dancing\",\"country line dancing\",\"country line dancing\",\"country line dancing\",\"country line dancing\",\"country line dancing\",\"country line dancing\",\"country line dancing\",\"country line dancing\",\"country line dancing\",\"country line dancing\",\"country line dancing\",\"country line dancing\",\"country line dancing\",\"country line dancing\",\"country line dancing\",\"country line dancing\",\"country line dancing\",\"country line dancing\",\"country line dancing\",\"country line dancing\",\"country line dancing\",\"country line dancing\",\"country line dancing\",\"country line dancing\",\"country line dancing\",\"country line dancing\",\"country line dancing\",\"country line dancing\",\"country line dancing\",\"country line dancing\",\"country line dancing\",\"country line dancing\",\"country line dancing\",\"country line dancing\",\"country line dancing\",\"country line dancing\",\"country line dancing\",\"country line dancing\",\"country line dancing\",\"country line dancing\",\"country line dancing\",\"country line dancing\",\"country line dancing\",\"country line dancing\",\"country line dancing\",\"country line dancing\",\"country line dancing\",\"country line dancing\",\"country line dancing\",\"country line dancing\",\"country line dancing\",\"country line dancing\",\"country line dancing\",\"country line dancing\",\"country line dancing\",\"country line dancing\",\"country line dancing\",\"country line dancing\",\"country line dancing\",\"country line dancing\",\"country line dancing\",\"country line dancing\",\"country line dancing\",\"country line dancing\",\"country line dancing\",\"country line dancing\",\"country line dancing\",\"country line dancing\",\"country line dancing\",\"country line dancing\",\"country line dancing\",\"country line dancing\",\"country line dancing\",\"country line dancing\",\"country line dancing\",\"country line dancing\",\"country line dancing\",\"country line dancing\",\"country line dancing\",\"country line dancing\",\"country line dancing\",\"country line dancing\",\"country line dancing\",\"country line dancing\",\"country line dancing\",\"country line dancing\",\"country line dancing\",\"country line dancing\",\"country line dancing\",\"country line dancing\",\"country line dancing\",\"country line dancing\",\"country line dancing\",\"country line dancing\",\"country line dancing\",\"country line dancing\",\"country line dancing\",\"country line dancing\",\"country line dancing\",\"country line dancing\",\"country line dancing\",\"country line dancing\",\"country line dancing\",\"country line dancing\",\"country line dancing\",\"country line dancing\",\"country line dancing\",\"country line dancing\",\"country line dancing\",\"country line dancing\",\"country line dancing\",\"country line dancing\",\"country line dancing\",\"country line dancing\",\"country line dancing\",\"country line dancing\",\"country line dancing\",\"country line dancing\",\"country line dancing\",\"country line dancing\",\"country line dancing\",\"country line dancing\",\"country line dancing\",\"country line dancing\",\"country line dancing\",\"country line dancing\",\"country line dancing\",\"country line dancing\",\"country line dancing\",\"country line dancing\",\"country line dancing\",\"country line dancing\",\"country line dancing\",\"country line dancing\",\"country line dancing\",\"country line dancing\",\"country line dancing\",\"country line dancing\",\"country line dancing\",\"country line dancing\",\"country line dancing\",\"country line dancing\",\"country line dancing\",\"country line dancing\",\"country line dancing\",\"country line dancing\",\"country line dancing\",\"country line dancing\",\"country line dancing\",\"country line dancing\",\"country line dancing\",\"country line dancing\",\"country line dancing\",\"country line dancing\",\"country line dancing\",\"country line dancing\",\"country line dancing\",\"country line dancing\",\"country line dancing\",\"country line dancing\",\"country line dancing\",\"country line dancing\",\"country line dancing\",\"country line dancing\",\"country line dancing\",\"country line dancing\",\"country line dancing\",\"country line dancing\",\"country line dancing\",\"country line dancing\",\"country line dancing\",\"country line dancing\",\"country line dancing\",\"country line dancing\",\"country line dancing\",\"country line dancing\",\"country line dancing\",\"country line dancing\",\"country line dancing\",\"country line dancing\",\"country line dancing\",\"country line dancing\",\"country line dancing\",\"country line dancing\",\"country line dancing\",\"country line dancing\",\"country line dancing\",\"country line dancing\",\"country line dancing\",\"country line dancing\",\"country line dancing\",\"country line dancing\",\"country line dancing\",\"country line dancing\",\"country line dancing\",\"country line dancing\",\"country line dancing\",\"country line dancing\",\"country line dancing\",\"country line dancing\",\"country line dancing\",\"country line dancing\",\"country line dancing\",\"country line dancing\",\"country line dancing\",\"country line dancing\",\"country line dancing\",\"country line dancing\",\"country line dancing\",\"country line dancing\",\"country line dancing\",\"country line dancing\",\"country line dancing\",\"country line dancing\",\"country line dancing\",\"country line dancing\",\"country line dancing\",\"country line dancing\",\"country line dancing\",\"country line dancing\",\"country line dancing\",\"country line dancing\",\"country line dancing\",\"country line dancing\",\"country line dancing\",\"country line dancing\",\"country line dancing\",\"country line dancing\",\"country line dancing\",\"country line dancing\",\"country line dancing\",\"country line dancing\",\"country line dancing\",\"country line dancing\",\"country line dancing\",\"country line dancing\",\"country line dancing\",\"country line dancing\",\"country line dancing\",\"country line dancing\",\"country line dancing\",\"country line dancing\",\"country line dancing\",\"country line dancing\",\"country line dancing\",\"country line dancing\",\"country line dancing\",\"country line dancing\",\"country line dancing\",\"dancing ballet\",\"dancing ballet\",\"dancing ballet\",\"dancing ballet\",\"dancing ballet\",\"dancing ballet\",\"dancing ballet\",\"dancing ballet\",\"dancing ballet\",\"dancing ballet\",\"dancing ballet\",\"dancing ballet\",\"dancing ballet\",\"dancing ballet\",\"dancing ballet\",\"dancing ballet\",\"dancing ballet\",\"dancing ballet\",\"dancing ballet\",\"dancing ballet\",\"dancing ballet\",\"dancing ballet\",\"dancing ballet\",\"dancing ballet\",\"dancing ballet\",\"dancing ballet\",\"dancing ballet\",\"dancing ballet\",\"dancing ballet\",\"dancing ballet\",\"dancing ballet\",\"dancing ballet\",\"dancing ballet\",\"dancing ballet\",\"dancing ballet\",\"dancing ballet\",\"dancing ballet\",\"dancing ballet\",\"dancing ballet\",\"dancing ballet\",\"dancing ballet\",\"dancing ballet\",\"dancing ballet\",\"dancing ballet\",\"dancing ballet\",\"dancing ballet\",\"dancing ballet\",\"dancing ballet\",\"dancing ballet\",\"dancing ballet\",\"dancing ballet\",\"dancing ballet\",\"dancing ballet\",\"dancing ballet\",\"dancing ballet\",\"dancing ballet\",\"dancing ballet\",\"dancing ballet\",\"dancing ballet\",\"dancing ballet\",\"dancing ballet\",\"dancing ballet\",\"dancing ballet\",\"dancing ballet\",\"dancing ballet\",\"dancing ballet\",\"dancing ballet\",\"dancing ballet\",\"dancing ballet\",\"dancing ballet\",\"dancing ballet\",\"dancing ballet\",\"dancing ballet\",\"dancing ballet\",\"dancing ballet\",\"dancing ballet\",\"dancing ballet\",\"dancing ballet\",\"dancing ballet\",\"dancing ballet\",\"dancing ballet\",\"dancing ballet\",\"dancing ballet\",\"dancing ballet\",\"dancing ballet\",\"dancing ballet\",\"dancing ballet\",\"dancing ballet\",\"dancing ballet\",\"dancing ballet\",\"dancing ballet\",\"dancing ballet\",\"dancing ballet\",\"dancing ballet\",\"dancing ballet\",\"dancing ballet\",\"dancing ballet\",\"dancing ballet\",\"dancing ballet\",\"dancing ballet\",\"dancing ballet\",\"dancing ballet\",\"dancing ballet\",\"dancing ballet\",\"dancing ballet\",\"dancing ballet\",\"dancing ballet\",\"dancing ballet\",\"dancing ballet\",\"dancing ballet\",\"dancing ballet\",\"dancing ballet\",\"dancing ballet\",\"dancing ballet\",\"dancing ballet\",\"dancing ballet\",\"dancing ballet\",\"dancing ballet\",\"dancing ballet\",\"dancing ballet\",\"dancing ballet\",\"dancing ballet\",\"dancing ballet\",\"dancing ballet\",\"dancing ballet\",\"dancing ballet\",\"dancing ballet\",\"dancing ballet\",\"dancing ballet\",\"dancing ballet\",\"dancing ballet\",\"dancing ballet\",\"dancing ballet\",\"dancing ballet\",\"dancing ballet\",\"dancing ballet\",\"dancing ballet\",\"dancing ballet\",\"dancing ballet\",\"dancing ballet\",\"dancing ballet\",\"dancing ballet\",\"dancing ballet\",\"dancing ballet\",\"dancing ballet\",\"dancing ballet\",\"dancing ballet\",\"dancing ballet\",\"dancing ballet\",\"dancing ballet\",\"dancing ballet\",\"dancing ballet\",\"dancing ballet\",\"dancing ballet\",\"dancing ballet\",\"dancing ballet\",\"dancing ballet\",\"dancing ballet\",\"dancing ballet\",\"dancing ballet\",\"dancing ballet\",\"dancing ballet\",\"dancing ballet\",\"dancing ballet\",\"dancing ballet\",\"dancing ballet\",\"dancing ballet\",\"dancing ballet\",\"dancing ballet\",\"dancing ballet\",\"dancing ballet\",\"dancing ballet\",\"dancing ballet\",\"dancing ballet\",\"dancing ballet\",\"dancing ballet\",\"dancing ballet\",\"dancing ballet\",\"dancing ballet\",\"dancing ballet\",\"dancing ballet\",\"dancing ballet\",\"dancing ballet\",\"dancing ballet\",\"dancing ballet\",\"dancing ballet\",\"dancing ballet\",\"dancing ballet\",\"dancing ballet\",\"dancing ballet\",\"dancing ballet\",\"dancing ballet\",\"dancing ballet\",\"dancing ballet\",\"dancing ballet\",\"dancing ballet\",\"dancing ballet\",\"dancing ballet\",\"dancing ballet\",\"dancing ballet\",\"dancing ballet\",\"dancing ballet\",\"dancing ballet\",\"dancing ballet\",\"dancing ballet\",\"dancing ballet\",\"dancing ballet\",\"dancing ballet\",\"dancing ballet\",\"dancing ballet\",\"dancing ballet\",\"dancing ballet\",\"dancing ballet\",\"dancing ballet\",\"dancing ballet\",\"dancing ballet\",\"dancing ballet\",\"dancing ballet\",\"dancing ballet\",\"dancing ballet\",\"dancing ballet\",\"dancing ballet\",\"dancing ballet\",\"dancing ballet\",\"dancing ballet\",\"dancing ballet\",\"dancing ballet\",\"dancing ballet\",\"dancing ballet\",\"dancing ballet\",\"dancing ballet\",\"dancing ballet\",\"dancing ballet\",\"dancing ballet\",\"dancing ballet\",\"dancing ballet\",\"dancing ballet\",\"dancing ballet\",\"dancing ballet\",\"dancing ballet\",\"dancing ballet\",\"dancing ballet\",\"dancing ballet\",\"dancing ballet\",\"dancing ballet\",\"dancing ballet\",\"dancing ballet\",\"dancing ballet\",\"dancing ballet\",\"dancing ballet\",\"dancing ballet\",\"dancing ballet\",\"dancing ballet\",\"dancing ballet\",\"dancing ballet\",\"dancing ballet\",\"dancing ballet\",\"dancing ballet\",\"dancing ballet\",\"dancing ballet\",\"dancing ballet\",\"dancing ballet\",\"dancing ballet\",\"dancing ballet\",\"dancing ballet\",\"dancing ballet\",\"dancing ballet\",\"dancing ballet\",\"dancing ballet\",\"dancing ballet\",\"dancing ballet\",\"dancing ballet\",\"dancing ballet\",\"dancing ballet\",\"dancing ballet\",\"dancing ballet\",\"dancing ballet\",\"dancing ballet\",\"dancing ballet\",\"dancing ballet\",\"dancing ballet\",\"dancing ballet\",\"dancing ballet\",\"dancing ballet\",\"dancing ballet\",\"dancing ballet\",\"dancing ballet\",\"dancing ballet\",\"dancing ballet\",\"dancing ballet\",\"dancing ballet\",\"dancing ballet\",\"dancing ballet\",\"dancing ballet\",\"dancing ballet\",\"dancing ballet\",\"dancing ballet\",\"dancing ballet\",\"dancing ballet\",\"dancing ballet\",\"dancing ballet\",\"dancing ballet\",\"dancing ballet\",\"dancing ballet\",\"dancing ballet\",\"dancing ballet\",\"dancing ballet\",\"dancing ballet\",\"dancing ballet\",\"dancing ballet\",\"dancing ballet\",\"dancing ballet\",\"dancing ballet\",\"dancing ballet\",\"dancing ballet\",\"dancing ballet\",\"dancing ballet\",\"dancing ballet\",\"dancing ballet\",\"dancing ballet\",\"dancing ballet\",\"dancing ballet\",\"dancing ballet\",\"dancing ballet\",\"dancing ballet\",\"dancing ballet\",\"dancing ballet\",\"dancing ballet\",\"dancing ballet\",\"dancing ballet\",\"dancing ballet\",\"dancing ballet\",\"dancing ballet\",\"dancing ballet\",\"dancing ballet\",\"dancing ballet\",\"dancing ballet\",\"dancing ballet\",\"dancing ballet\",\"dancing ballet\",\"dancing ballet\",\"dancing ballet\",\"dancing ballet\",\"dancing ballet\",\"dancing ballet\",\"dancing ballet\",\"dancing ballet\",\"dancing ballet\",\"dancing ballet\",\"dancing ballet\",\"dancing ballet\",\"dancing ballet\",\"dancing ballet\",\"dancing ballet\",\"dancing ballet\",\"dancing ballet\",\"dancing ballet\",\"dancing ballet\",\"dancing ballet\",\"dancing ballet\",\"dancing ballet\",\"dancing ballet\",\"dancing ballet\",\"dancing ballet\",\"dancing ballet\",\"dancing ballet\",\"dancing ballet\",\"dancing ballet\",\"dancing ballet\",\"dancing ballet\",\"dancing ballet\",\"dancing ballet\",\"dancing ballet\",\"dancing ballet\",\"dancing ballet\",\"dancing ballet\",\"dancing ballet\",\"dancing ballet\",\"dancing ballet\",\"dancing ballet\",\"dancing ballet\",\"dancing ballet\",\"dancing ballet\",\"dancing ballet\",\"dancing ballet\",\"dancing ballet\",\"dancing ballet\",\"dancing ballet\",\"dancing ballet\",\"dancing ballet\",\"dancing ballet\",\"dancing ballet\",\"dancing ballet\",\"dancing ballet\",\"dancing ballet\",\"dancing ballet\",\"dancing ballet\",\"dancing ballet\",\"dancing ballet\",\"dancing ballet\",\"dancing ballet\",\"dancing ballet\",\"dancing ballet\",\"dancing ballet\",\"dancing ballet\",\"dancing ballet\",\"dancing ballet\",\"dancing ballet\",\"dancing ballet\",\"dancing ballet\",\"dancing ballet\",\"dancing ballet\",\"dancing ballet\",\"dancing ballet\",\"dancing ballet\",\"dancing ballet\",\"dancing ballet\",\"dancing ballet\",\"dancing ballet\",\"dancing ballet\",\"dancing ballet\",\"dancing ballet\",\"dancing ballet\",\"dancing ballet\",\"dancing ballet\",\"dancing ballet\",\"dancing ballet\",\"dancing ballet\",\"dancing ballet\",\"dancing ballet\",\"dancing ballet\",\"dancing ballet\",\"dancing ballet\",\"dancing ballet\",\"dancing ballet\",\"dancing ballet\",\"dancing ballet\",\"dancing ballet\",\"dancing ballet\",\"dancing ballet\",\"dancing ballet\",\"dancing ballet\",\"dancing ballet\",\"dancing ballet\",\"dancing ballet\",\"dancing ballet\",\"dancing ballet\",\"dancing ballet\",\"dancing ballet\",\"dancing ballet\",\"dancing ballet\",\"dancing ballet\",\"dancing ballet\",\"dancing ballet\",\"dancing ballet\",\"dancing ballet\",\"dancing ballet\",\"dancing ballet\",\"dancing ballet\",\"dancing ballet\",\"dancing ballet\",\"dancing ballet\",\"dancing ballet\",\"dancing ballet\",\"dancing ballet\",\"dancing ballet\",\"dancing ballet\",\"dancing ballet\",\"dancing ballet\",\"dancing ballet\",\"dancing ballet\",\"dancing ballet\",\"dancing ballet\",\"dancing ballet\",\"dancing ballet\",\"dancing ballet\",\"dancing ballet\",\"dancing ballet\",\"dancing ballet\",\"dancing ballet\",\"dancing ballet\",\"dancing ballet\",\"dancing ballet\",\"dancing ballet\",\"dancing ballet\",\"dancing ballet\",\"dancing ballet\",\"dancing ballet\",\"dancing ballet\",\"dancing ballet\",\"dancing ballet\",\"dancing ballet\",\"dancing ballet\",\"dancing ballet\",\"dancing ballet\",\"dancing ballet\",\"dancing ballet\",\"dancing ballet\",\"dancing ballet\",\"dancing ballet\",\"dancing ballet\",\"dancing ballet\",\"dancing ballet\",\"dancing ballet\",\"dancing ballet\",\"dancing ballet\",\"dancing ballet\",\"dancing ballet\",\"dancing ballet\",\"dancing ballet\",\"dancing ballet\",\"dancing ballet\",\"dancing ballet\",\"dancing ballet\",\"dancing ballet\",\"dancing ballet\",\"dancing ballet\",\"dancing ballet\",\"dancing ballet\",\"dancing ballet\",\"dancing ballet\",\"dancing ballet\",\"dancing ballet\",\"dancing ballet\",\"dancing ballet\",\"dancing ballet\",\"dancing ballet\",\"dancing ballet\",\"dancing ballet\",\"dancing ballet\",\"dancing ballet\",\"dancing ballet\",\"dancing ballet\",\"dancing ballet\",\"dancing ballet\",\"dancing ballet\",\"dancing ballet\",\"dancing ballet\",\"dancing ballet\",\"dancing ballet\",\"dancing ballet\",\"dancing ballet\",\"dancing ballet\",\"dancing ballet\",\"dancing ballet\",\"dancing ballet\",\"dancing ballet\",\"dancing ballet\",\"dancing ballet\",\"dancing ballet\",\"dancing ballet\",\"dancing ballet\",\"dancing ballet\",\"dancing ballet\",\"dancing ballet\",\"dancing ballet\",\"dancing ballet\",\"dancing ballet\",\"dancing ballet\",\"dancing ballet\",\"dancing ballet\",\"dancing ballet\",\"dancing ballet\",\"dancing ballet\",\"dancing ballet\",\"dancing ballet\",\"dancing ballet\",\"dancing ballet\",\"dancing ballet\",\"dancing ballet\",\"dancing ballet\",\"dancing ballet\",\"dancing ballet\",\"dancing ballet\",\"dancing ballet\",\"dancing ballet\",\"dancing ballet\",\"dancing ballet\",\"dancing ballet\",\"dancing ballet\",\"dancing ballet\",\"dancing ballet\",\"dancing ballet\",\"dancing ballet\",\"dancing ballet\",\"dancing ballet\",\"dancing ballet\",\"dancing ballet\",\"dancing ballet\",\"dancing ballet\",\"dancing ballet\",\"dancing ballet\",\"dancing ballet\",\"dancing ballet\",\"dancing ballet\",\"dancing ballet\",\"dancing ballet\",\"dancing ballet\",\"dancing ballet\",\"dancing ballet\",\"dancing ballet\",\"dancing ballet\",\"dancing ballet\",\"dancing ballet\",\"dancing ballet\",\"dancing ballet\",\"dancing ballet\",\"dancing ballet\",\"dancing ballet\",\"dancing ballet\",\"dancing ballet\",\"dancing ballet\",\"dancing ballet\",\"dancing ballet\",\"dancing ballet\",\"dancing ballet\",\"dancing ballet\",\"dancing ballet\",\"dancing ballet\",\"dancing ballet\",\"dancing ballet\",\"dancing ballet\",\"dancing ballet\",\"dancing ballet\",\"dancing ballet\",\"dancing ballet\",\"dancing ballet\",\"dancing ballet\",\"dancing ballet\",\"dancing ballet\",\"dancing ballet\",\"dancing ballet\",\"dancing ballet\",\"dancing ballet\",\"dancing ballet\",\"dancing ballet\",\"dancing ballet\",\"dancing ballet\",\"dancing ballet\",\"dancing ballet\",\"dancing ballet\",\"dancing ballet\",\"dancing ballet\",\"dancing ballet\",\"dancing ballet\",\"dancing ballet\",\"dancing ballet\",\"dancing ballet\",\"dancing ballet\",\"dancing ballet\",\"dancing ballet\",\"dancing ballet\",\"dancing ballet\",\"dancing ballet\",\"dancing ballet\",\"dancing ballet\",\"dancing ballet\",\"dancing ballet\",\"dancing ballet\",\"dancing ballet\",\"dancing ballet\",\"dancing ballet\",\"dancing ballet\",\"dancing ballet\",\"dancing ballet\",\"dancing ballet\",\"dancing ballet\",\"dancing ballet\",\"dancing ballet\",\"dancing ballet\",\"dancing ballet\",\"dancing ballet\",\"dancing ballet\",\"dancing ballet\",\"dancing ballet\",\"dancing ballet\",\"dancing ballet\",\"dancing ballet\",\"dancing ballet\",\"dancing ballet\",\"dancing ballet\",\"dancing ballet\",\"dancing ballet\",\"dancing ballet\",\"dancing ballet\",\"dancing ballet\",\"dancing ballet\",\"dancing ballet\",\"dancing ballet\",\"dancing ballet\",\"dancing ballet\",\"dancing ballet\",\"dancing ballet\",\"dancing ballet\",\"dancing ballet\",\"dancing ballet\",\"dancing ballet\",\"dancing ballet\",\"dancing ballet\",\"dancing ballet\",\"dancing ballet\",\"dancing ballet\",\"dancing ballet\",\"dancing ballet\",\"dancing ballet\",\"dancing ballet\",\"dancing ballet\",\"dancing ballet\",\"dancing ballet\",\"dancing ballet\",\"dancing ballet\",\"dancing ballet\",\"dancing ballet\",\"dancing ballet\",\"dancing ballet\",\"dancing ballet\",\"dancing ballet\",\"dancing ballet\",\"dancing ballet\",\"dancing ballet\",\"dancing ballet\",\"dancing ballet\",\"dancing ballet\",\"dancing ballet\",\"dancing ballet\",\"dancing ballet\",\"dancing ballet\",\"dancing ballet\",\"dancing ballet\",\"dancing ballet\",\"dancing ballet\",\"dancing ballet\",\"dancing ballet\",\"dancing ballet\",\"dancing ballet\",\"dancing ballet\",\"dancing ballet\",\"dancing ballet\",\"dancing ballet\",\"dancing ballet\",\"dancing ballet\",\"dancing ballet\",\"dancing ballet\",\"dancing ballet\",\"dancing ballet\",\"dancing ballet\",\"dancing ballet\",\"dancing ballet\",\"dancing ballet\",\"dancing ballet\",\"dancing ballet\",\"dancing ballet\",\"dancing ballet\",\"dancing ballet\",\"dancing ballet\",\"dancing ballet\",\"dancing ballet\",\"dancing ballet\",\"dancing ballet\",\"dancing ballet\",\"dancing ballet\",\"dancing ballet\",\"dancing ballet\",\"dancing ballet\",\"dancing ballet\",\"dancing ballet\",\"dancing ballet\",\"dancing ballet\",\"dancing ballet\",\"dancing ballet\",\"dancing ballet\",\"dancing ballet\",\"dancing ballet\",\"dancing ballet\",\"dancing ballet\",\"dancing ballet\",\"dancing ballet\",\"dancing ballet\",\"dancing ballet\",\"dancing ballet\",\"dancing ballet\",\"dancing ballet\",\"dancing ballet\",\"dancing ballet\",\"dancing ballet\",\"dancing ballet\",\"dancing ballet\",\"dancing ballet\",\"dancing ballet\",\"dancing ballet\",\"dancing ballet\",\"dancing ballet\",\"dancing ballet\",\"dancing ballet\",\"dancing ballet\",\"dancing ballet\",\"dancing ballet\",\"dancing ballet\",\"dancing ballet\",\"dancing ballet\",\"dancing ballet\",\"dancing ballet\",\"dancing ballet\",\"dancing ballet\",\"dancing ballet\",\"dancing ballet\",\"dancing ballet\",\"dancing ballet\",\"dancing ballet\",\"dancing ballet\",\"dancing ballet\",\"dancing ballet\",\"dancing ballet\",\"dancing ballet\",\"dancing ballet\",\"dancing ballet\",\"dancing ballet\",\"dancing ballet\",\"dancing ballet\",\"dancing ballet\",\"dancing ballet\",\"dancing ballet\",\"dancing ballet\",\"dancing ballet\",\"dancing ballet\",\"dancing ballet\",\"dancing ballet\",\"dancing ballet\",\"dancing ballet\",\"dancing ballet\",\"dancing ballet\",\"dancing ballet\",\"dancing ballet\",\"dancing ballet\",\"dancing ballet\",\"dancing ballet\",\"dancing ballet\",\"dancing ballet\",\"dancing ballet\",\"dancing ballet\",\"dancing ballet\",\"dancing ballet\",\"dancing ballet\",\"dancing ballet\",\"dancing ballet\",\"dancing ballet\",\"dancing ballet\",\"dancing ballet\",\"dancing ballet\",\"dancing ballet\",\"dancing ballet\",\"dancing ballet\",\"dancing ballet\",\"dancing ballet\",\"dancing ballet\",\"dancing ballet\",\"dancing ballet\",\"dancing ballet\",\"dancing ballet\",\"dancing ballet\",\"dancing ballet\",\"dancing ballet\",\"dancing ballet\",\"dancing ballet\",\"dancing ballet\",\"dancing ballet\",\"dancing ballet\",\"dancing ballet\",\"dancing ballet\",\"dancing ballet\",\"dancing ballet\",\"dancing ballet\",\"dancing ballet\",\"dancing ballet\",\"dancing ballet\",\"dancing ballet\",\"dancing ballet\",\"dancing ballet\",\"dancing ballet\",\"dancing ballet\",\"dancing ballet\",\"dancing ballet\",\"dancing ballet\",\"dancing ballet\",\"dancing ballet\",\"dancing ballet\",\"dancing ballet\",\"dancing ballet\",\"dancing ballet\",\"dancing ballet\",\"dancing ballet\",\"dancing ballet\",\"dancing ballet\",\"dancing ballet\",\"dancing ballet\",\"dancing ballet\",\"dancing ballet\",\"dancing ballet\",\"dancing ballet\",\"dancing ballet\",\"dancing ballet\",\"dancing ballet\",\"dancing ballet\",\"dancing ballet\",\"dancing ballet\",\"dancing ballet\",\"dancing ballet\",\"dancing ballet\",\"dancing ballet\",\"dancing ballet\",\"dancing ballet\",\"dancing ballet\",\"dancing ballet\",\"dancing ballet\",\"dancing ballet\",\"dancing ballet\",\"dancing ballet\",\"dancing ballet\",\"dancing ballet\",\"dancing ballet\",\"dancing ballet\",\"dancing ballet\",\"dancing ballet\",\"dancing ballet\",\"dancing ballet\",\"dancing ballet\",\"dancing ballet\",\"dancing ballet\",\"dancing ballet\",\"dancing ballet\",\"dancing ballet\",\"dancing ballet\",\"dancing ballet\",\"dancing ballet\",\"dancing charleston\",\"dancing charleston\",\"dancing charleston\",\"dancing charleston\",\"dancing charleston\",\"dancing charleston\",\"dancing charleston\",\"dancing charleston\",\"dancing charleston\",\"dancing charleston\",\"dancing charleston\",\"dancing charleston\",\"dancing charleston\",\"dancing charleston\",\"dancing charleston\",\"dancing charleston\",\"dancing charleston\",\"dancing charleston\",\"dancing charleston\",\"dancing charleston\",\"dancing charleston\",\"dancing charleston\",\"dancing charleston\",\"dancing charleston\",\"dancing charleston\",\"dancing charleston\",\"dancing charleston\",\"dancing charleston\",\"dancing charleston\",\"dancing charleston\",\"dancing charleston\",\"dancing charleston\",\"dancing charleston\",\"dancing charleston\",\"dancing charleston\",\"dancing charleston\",\"dancing charleston\",\"dancing charleston\",\"dancing charleston\",\"dancing charleston\",\"dancing charleston\",\"dancing charleston\",\"dancing charleston\",\"dancing charleston\",\"dancing charleston\",\"dancing charleston\",\"dancing charleston\",\"dancing charleston\",\"dancing charleston\",\"dancing charleston\",\"dancing charleston\",\"dancing charleston\",\"dancing charleston\",\"dancing charleston\",\"dancing charleston\",\"dancing charleston\",\"dancing charleston\",\"dancing charleston\",\"dancing charleston\",\"dancing charleston\",\"dancing charleston\",\"dancing charleston\",\"dancing charleston\",\"dancing charleston\",\"dancing charleston\",\"dancing charleston\",\"dancing charleston\",\"dancing charleston\",\"dancing charleston\",\"dancing charleston\",\"dancing charleston\",\"dancing charleston\",\"dancing charleston\",\"dancing charleston\",\"dancing charleston\",\"dancing charleston\",\"dancing charleston\",\"dancing charleston\",\"dancing charleston\",\"dancing charleston\",\"dancing charleston\",\"dancing charleston\",\"dancing charleston\",\"dancing charleston\",\"dancing charleston\",\"dancing charleston\",\"dancing charleston\",\"dancing charleston\",\"dancing charleston\",\"dancing charleston\",\"dancing charleston\",\"dancing charleston\",\"dancing charleston\",\"dancing charleston\",\"dancing charleston\",\"dancing charleston\",\"dancing charleston\",\"dancing charleston\",\"dancing charleston\",\"dancing charleston\",\"dancing charleston\",\"dancing charleston\",\"dancing charleston\",\"dancing charleston\",\"dancing charleston\",\"dancing charleston\",\"dancing charleston\",\"dancing charleston\",\"dancing charleston\",\"dancing charleston\",\"dancing charleston\",\"dancing charleston\",\"dancing charleston\",\"dancing charleston\",\"dancing charleston\",\"dancing charleston\",\"dancing charleston\",\"dancing charleston\",\"dancing charleston\",\"dancing charleston\",\"dancing charleston\",\"dancing charleston\",\"dancing charleston\",\"dancing charleston\",\"dancing charleston\",\"dancing charleston\",\"dancing charleston\",\"dancing charleston\",\"dancing charleston\",\"dancing charleston\",\"dancing charleston\",\"dancing charleston\",\"dancing charleston\",\"dancing charleston\",\"dancing charleston\",\"dancing charleston\",\"dancing charleston\",\"dancing charleston\",\"dancing charleston\",\"dancing charleston\",\"dancing charleston\",\"dancing charleston\",\"dancing charleston\",\"dancing charleston\",\"dancing charleston\",\"dancing charleston\",\"dancing charleston\",\"dancing charleston\",\"dancing charleston\",\"dancing charleston\",\"dancing charleston\",\"dancing charleston\",\"dancing charleston\",\"dancing charleston\",\"dancing charleston\",\"dancing charleston\",\"dancing charleston\",\"dancing charleston\",\"dancing charleston\",\"dancing charleston\",\"dancing charleston\",\"dancing charleston\",\"dancing charleston\",\"dancing charleston\",\"dancing charleston\",\"dancing charleston\",\"dancing charleston\",\"dancing charleston\",\"dancing charleston\",\"dancing charleston\",\"dancing charleston\",\"dancing charleston\",\"dancing charleston\",\"dancing charleston\",\"dancing charleston\",\"dancing charleston\",\"dancing charleston\",\"dancing charleston\",\"dancing charleston\",\"dancing charleston\",\"dancing charleston\",\"dancing charleston\",\"dancing charleston\",\"dancing charleston\",\"dancing charleston\",\"dancing charleston\",\"dancing charleston\",\"dancing charleston\",\"dancing charleston\",\"dancing charleston\",\"dancing charleston\",\"dancing charleston\",\"dancing charleston\",\"dancing charleston\",\"dancing charleston\",\"dancing charleston\",\"dancing charleston\",\"dancing charleston\",\"dancing charleston\",\"dancing charleston\",\"dancing charleston\",\"dancing charleston\",\"dancing charleston\",\"dancing charleston\",\"dancing charleston\",\"dancing charleston\",\"dancing charleston\",\"dancing charleston\",\"dancing charleston\",\"dancing charleston\",\"dancing charleston\",\"dancing charleston\",\"dancing charleston\",\"dancing charleston\",\"dancing charleston\",\"dancing charleston\",\"dancing charleston\",\"dancing charleston\",\"dancing charleston\",\"dancing charleston\",\"dancing charleston\",\"dancing charleston\",\"dancing charleston\",\"dancing charleston\",\"dancing charleston\",\"dancing charleston\",\"dancing charleston\",\"dancing charleston\",\"dancing charleston\",\"dancing charleston\",\"dancing charleston\",\"dancing charleston\",\"dancing charleston\",\"dancing charleston\",\"dancing charleston\",\"dancing charleston\",\"dancing charleston\",\"dancing charleston\",\"dancing charleston\",\"dancing charleston\",\"dancing charleston\",\"dancing charleston\",\"dancing charleston\",\"dancing charleston\",\"dancing charleston\",\"dancing charleston\",\"dancing charleston\",\"dancing charleston\",\"dancing charleston\",\"dancing charleston\",\"dancing charleston\",\"dancing charleston\",\"dancing charleston\",\"dancing charleston\",\"dancing charleston\",\"dancing charleston\",\"dancing charleston\",\"dancing charleston\",\"dancing charleston\",\"dancing charleston\",\"dancing charleston\",\"dancing charleston\",\"dancing charleston\",\"dancing charleston\",\"dancing charleston\",\"dancing charleston\",\"dancing charleston\",\"dancing charleston\",\"dancing charleston\",\"dancing charleston\",\"dancing charleston\",\"dancing charleston\",\"dancing charleston\",\"dancing charleston\",\"dancing charleston\",\"dancing charleston\",\"dancing charleston\",\"dancing charleston\",\"dancing charleston\",\"dancing charleston\",\"dancing charleston\",\"dancing charleston\",\"dancing charleston\",\"dancing charleston\",\"dancing charleston\",\"dancing charleston\",\"dancing charleston\",\"dancing charleston\",\"dancing charleston\",\"dancing charleston\",\"dancing charleston\",\"dancing charleston\",\"dancing charleston\",\"dancing charleston\",\"dancing charleston\",\"dancing charleston\",\"dancing charleston\",\"dancing charleston\",\"dancing charleston\",\"dancing charleston\",\"dancing charleston\",\"dancing charleston\",\"dancing charleston\",\"dancing charleston\",\"dancing charleston\",\"dancing charleston\",\"dancing charleston\",\"dancing charleston\",\"dancing charleston\",\"dancing charleston\",\"dancing charleston\",\"dancing charleston\",\"dancing charleston\",\"dancing charleston\",\"dancing charleston\",\"dancing charleston\",\"dancing charleston\",\"dancing charleston\",\"dancing charleston\",\"dancing charleston\",\"dancing charleston\",\"dancing charleston\",\"dancing charleston\",\"dancing charleston\",\"dancing charleston\",\"dancing charleston\",\"dancing charleston\",\"dancing charleston\",\"dancing charleston\",\"dancing charleston\",\"dancing charleston\",\"dancing charleston\",\"dancing charleston\",\"dancing charleston\",\"dancing charleston\",\"dancing charleston\",\"dancing charleston\",\"dancing charleston\",\"dancing charleston\",\"dancing charleston\",\"dancing charleston\",\"dancing charleston\",\"dancing charleston\",\"dancing charleston\",\"dancing charleston\",\"dancing charleston\",\"dancing charleston\",\"dancing charleston\",\"dancing charleston\",\"dancing charleston\",\"dancing charleston\",\"dancing charleston\",\"dancing charleston\",\"dancing charleston\",\"dancing charleston\",\"dancing charleston\",\"dancing charleston\",\"dancing charleston\",\"dancing charleston\",\"dancing charleston\",\"dancing charleston\",\"dancing charleston\",\"dancing charleston\",\"dancing charleston\",\"dancing charleston\",\"dancing charleston\",\"dancing charleston\",\"dancing charleston\",\"dancing charleston\",\"dancing charleston\",\"dancing charleston\",\"dancing charleston\",\"dancing charleston\",\"dancing charleston\",\"dancing charleston\",\"dancing charleston\",\"dancing charleston\",\"dancing charleston\",\"dancing charleston\",\"dancing charleston\",\"dancing charleston\",\"dancing charleston\",\"dancing charleston\",\"dancing charleston\",\"dancing charleston\",\"dancing charleston\",\"dancing charleston\",\"dancing charleston\",\"dancing charleston\",\"dancing charleston\",\"dancing charleston\",\"dancing charleston\",\"dancing charleston\",\"dancing charleston\",\"dancing charleston\",\"dancing charleston\",\"dancing charleston\",\"dancing charleston\",\"dancing charleston\",\"dancing charleston\",\"dancing charleston\",\"dancing charleston\",\"dancing charleston\",\"dancing charleston\",\"dancing charleston\",\"dancing charleston\",\"dancing charleston\",\"dancing charleston\",\"dancing charleston\",\"dancing charleston\",\"dancing charleston\",\"dancing charleston\",\"dancing charleston\",\"dancing charleston\",\"dancing charleston\",\"dancing charleston\",\"dancing charleston\",\"dancing charleston\",\"dancing charleston\",\"dancing charleston\",\"dancing charleston\",\"dancing charleston\",\"dancing charleston\",\"dancing charleston\",\"dancing charleston\",\"dancing charleston\",\"dancing charleston\",\"dancing charleston\",\"dancing charleston\",\"dancing charleston\",\"dancing charleston\",\"dancing charleston\",\"dancing charleston\",\"dancing charleston\",\"dancing charleston\",\"dancing charleston\",\"dancing charleston\",\"dancing charleston\",\"dancing charleston\",\"dancing charleston\",\"dancing charleston\",\"dancing charleston\",\"dancing charleston\",\"dancing charleston\",\"dancing charleston\",\"dancing charleston\",\"dancing charleston\",\"dancing charleston\",\"dancing charleston\",\"dancing charleston\",\"dancing charleston\",\"dancing charleston\",\"dancing charleston\",\"dancing charleston\",\"dancing charleston\",\"dancing charleston\",\"dancing charleston\",\"dancing charleston\",\"dancing charleston\",\"dancing charleston\",\"dancing charleston\",\"dancing charleston\",\"dancing charleston\",\"dancing charleston\",\"dancing charleston\",\"dancing charleston\",\"dancing charleston\",\"dancing charleston\",\"dancing charleston\",\"dancing charleston\",\"dancing charleston\",\"dancing charleston\",\"dancing charleston\",\"dancing charleston\",\"dancing charleston\",\"dancing charleston\",\"dancing charleston\",\"dancing charleston\",\"dancing charleston\",\"dancing charleston\",\"dancing charleston\",\"dancing charleston\",\"dancing charleston\",\"dancing charleston\",\"dancing charleston\",\"dancing charleston\",\"dancing charleston\",\"dancing charleston\",\"dancing charleston\",\"dancing charleston\",\"dancing charleston\",\"dancing charleston\",\"dancing charleston\",\"dancing charleston\",\"dancing charleston\",\"dancing charleston\",\"dancing charleston\",\"dancing charleston\",\"dancing charleston\",\"dancing charleston\",\"dancing charleston\",\"dancing charleston\",\"dancing charleston\",\"dancing charleston\",\"dancing charleston\",\"dancing charleston\",\"dancing charleston\",\"dancing charleston\",\"dancing charleston\",\"dancing charleston\",\"dancing charleston\",\"dancing charleston\",\"dancing charleston\",\"dancing charleston\",\"dancing charleston\",\"dancing charleston\",\"dancing charleston\",\"dancing charleston\",\"dancing charleston\",\"dancing charleston\",\"dancing charleston\",\"dancing charleston\",\"dancing charleston\",\"dancing charleston\",\"dancing charleston\",\"dancing charleston\",\"dancing charleston\",\"dancing charleston\",\"dancing charleston\",\"dancing charleston\",\"dancing charleston\",\"dancing charleston\",\"dancing charleston\",\"dancing charleston\",\"dancing charleston\",\"dancing charleston\",\"dancing charleston\",\"dancing charleston\",\"dancing charleston\",\"dancing charleston\",\"dancing charleston\",\"dancing charleston\",\"dancing charleston\",\"dancing charleston\",\"dancing charleston\",\"dancing charleston\",\"dancing charleston\",\"dancing charleston\",\"dancing charleston\",\"dancing charleston\",\"dancing charleston\",\"dancing charleston\",\"dancing charleston\",\"dancing charleston\",\"dancing charleston\",\"dancing charleston\",\"dancing charleston\",\"dancing charleston\",\"dancing charleston\",\"dancing charleston\",\"dancing charleston\",\"dancing charleston\",\"dancing charleston\",\"dancing charleston\",\"dancing charleston\",\"dancing charleston\",\"dancing charleston\",\"dancing charleston\",\"dancing charleston\",\"dancing charleston\",\"dancing charleston\",\"dancing charleston\",\"dancing charleston\",\"dancing charleston\",\"dancing charleston\",\"dancing charleston\",\"dancing charleston\",\"dancing charleston\",\"dancing charleston\",\"dancing charleston\",\"dancing charleston\",\"dancing charleston\",\"dancing charleston\",\"dancing charleston\",\"dancing charleston\",\"dancing charleston\",\"dancing charleston\",\"dancing charleston\",\"dancing charleston\",\"dancing charleston\",\"dancing charleston\",\"dancing charleston\",\"dancing charleston\",\"dancing charleston\",\"dancing charleston\",\"dancing charleston\",\"dancing charleston\",\"dancing charleston\",\"dancing charleston\",\"dancing charleston\",\"dancing charleston\",\"dancing charleston\",\"dancing charleston\",\"dancing charleston\",\"dancing charleston\",\"dancing charleston\",\"dancing charleston\",\"dancing charleston\",\"dancing charleston\",\"dancing charleston\",\"dancing charleston\",\"dancing charleston\",\"dancing charleston\",\"dancing charleston\",\"dancing charleston\",\"dancing charleston\",\"dancing charleston\",\"dancing charleston\",\"dancing charleston\",\"dancing charleston\",\"dancing charleston\",\"dancing charleston\",\"dancing charleston\",\"dancing charleston\",\"dancing charleston\",\"dancing charleston\",\"dancing charleston\",\"dancing charleston\",\"dancing charleston\",\"dancing charleston\",\"dancing charleston\",\"dancing charleston\",\"dancing charleston\",\"dancing charleston\",\"dancing charleston\",\"dancing charleston\",\"dancing charleston\",\"dancing charleston\",\"dancing charleston\",\"dancing charleston\",\"dancing charleston\",\"dancing charleston\",\"dancing charleston\",\"dancing charleston\",\"dancing charleston\",\"dancing charleston\",\"dancing charleston\",\"dancing charleston\",\"dancing charleston\",\"dancing charleston\",\"dancing charleston\",\"dancing charleston\",\"dancing charleston\",\"dancing charleston\",\"dancing charleston\",\"dancing charleston\",\"dancing charleston\",\"dancing charleston\",\"dancing charleston\",\"dancing charleston\",\"dancing charleston\",\"dancing charleston\",\"dancing charleston\",\"dancing charleston\",\"dancing charleston\",\"dancing charleston\",\"dancing charleston\",\"dancing charleston\",\"dancing charleston\",\"dancing charleston\",\"dancing charleston\",\"dancing charleston\",\"dancing charleston\",\"dancing charleston\",\"dancing charleston\",\"dancing charleston\",\"dancing charleston\",\"dancing charleston\",\"dancing charleston\",\"dancing charleston\",\"dancing charleston\",\"dancing charleston\",\"dancing charleston\",\"dancing charleston\",\"dancing charleston\",\"dancing charleston\",\"dancing charleston\",\"dancing charleston\",\"dancing charleston\",\"dancing charleston\",\"dancing charleston\",\"dancing charleston\",\"dancing charleston\",\"dancing charleston\",\"dancing charleston\",\"dancing charleston\",\"dancing charleston\",\"dancing charleston\",\"dancing charleston\",\"dancing charleston\",\"dancing charleston\",\"dancing charleston\",\"dancing charleston\",\"dancing charleston\",\"dancing charleston\",\"dancing charleston\",\"dancing charleston\",\"dancing charleston\",\"dancing charleston\",\"dancing charleston\",\"dancing charleston\",\"dancing charleston\",\"dancing charleston\",\"dancing charleston\",\"dancing charleston\",\"dancing charleston\",\"dancing charleston\",\"dancing charleston\",\"dancing charleston\",\"dancing charleston\",\"dancing charleston\",\"dancing charleston\",\"dancing charleston\",\"dancing charleston\",\"dancing charleston\",\"dancing charleston\",\"dancing charleston\",\"dancing charleston\",\"dancing charleston\",\"dancing charleston\",\"dancing charleston\",\"dancing charleston\",\"dancing charleston\",\"dancing charleston\",\"dancing charleston\",\"dancing charleston\",\"dancing charleston\",\"dancing charleston\",\"dancing charleston\",\"dancing charleston\",\"dancing charleston\",\"dancing charleston\",\"dancing charleston\",\"dancing charleston\",\"dancing charleston\",\"dancing charleston\",\"dancing charleston\",\"dancing charleston\",\"dancing charleston\",\"dancing charleston\",\"dancing charleston\",\"dancing charleston\",\"dancing charleston\",\"dancing charleston\",\"dancing charleston\",\"dancing charleston\",\"dancing charleston\",\"dancing charleston\",\"dancing charleston\",\"dancing charleston\",\"dancing charleston\",\"dancing charleston\",\"dancing charleston\",\"dancing charleston\",\"dancing charleston\",\"dancing charleston\",\"dancing charleston\",\"dancing charleston\",\"dancing charleston\",\"dancing charleston\",\"dancing charleston\",\"dancing charleston\",\"dancing charleston\",\"dancing charleston\",\"dancing charleston\",\"dancing charleston\",\"dancing charleston\",\"dancing charleston\",\"dancing charleston\",\"dancing charleston\",\"dancing charleston\",\"dancing charleston\",\"dancing charleston\",\"dancing charleston\",\"dancing charleston\",\"dancing charleston\",\"dancing charleston\",\"dancing charleston\",\"dancing charleston\",\"dancing charleston\",\"dancing charleston\",\"dancing charleston\",\"dancing charleston\",\"dancing charleston\",\"dancing charleston\",\"dancing charleston\",\"dancing charleston\",\"dancing charleston\",\"dancing charleston\",\"dancing charleston\",\"dancing charleston\",\"dancing charleston\",\"dancing charleston\",\"dancing charleston\",\"dancing charleston\",\"dancing charleston\",\"dancing charleston\",\"dancing charleston\",\"dancing charleston\",\"dancing charleston\",\"dancing charleston\",\"dancing charleston\",\"dancing charleston\",\"dancing charleston\",\"dancing charleston\",\"dancing charleston\",\"dancing charleston\",\"dancing charleston\",\"dancing charleston\",\"dancing charleston\",\"dancing charleston\",\"dancing charleston\",\"dancing charleston\",\"dancing charleston\",\"dancing charleston\",\"dancing charleston\",\"dancing charleston\",\"dancing charleston\",\"dancing charleston\",\"dancing charleston\",\"dancing charleston\",\"dancing charleston\",\"dancing charleston\",\"dancing charleston\",\"dancing charleston\",\"dancing charleston\",\"dancing charleston\",\"dancing charleston\",\"dancing charleston\",\"dancing charleston\",\"dancing charleston\",\"dancing charleston\",\"dancing charleston\",\"dancing charleston\",\"dancing charleston\",\"dancing charleston\",\"dancing charleston\",\"dancing charleston\",\"dancing charleston\",\"dancing charleston\",\"dancing charleston\",\"dancing charleston\",\"dancing charleston\",\"dancing charleston\",\"dancing charleston\",\"dancing charleston\",\"dancing charleston\",\"dancing charleston\",\"dancing charleston\",\"dancing charleston\",\"dancing charleston\",\"dancing charleston\",\"dancing charleston\",\"dancing charleston\",\"dancing charleston\",\"dancing charleston\",\"dancing charleston\",\"dancing charleston\",\"dancing charleston\",\"dancing charleston\",\"dancing charleston\",\"dancing charleston\",\"dancing charleston\",\"dancing charleston\",\"dancing charleston\",\"dancing charleston\",\"dancing charleston\",\"dancing charleston\",\"dancing charleston\",\"dancing charleston\",\"dancing charleston\",\"dancing charleston\",\"dancing charleston\",\"dancing charleston\",\"dancing charleston\",\"dancing charleston\",\"dancing charleston\",\"dancing charleston\",\"dancing charleston\",\"dancing charleston\",\"dancing charleston\",\"dancing charleston\",\"dancing charleston\",\"dancing charleston\",\"dancing charleston\",\"dancing charleston\",\"dancing charleston\",\"dancing charleston\",\"dancing charleston\",\"dancing charleston\",\"dancing charleston\",\"dancing charleston\",\"dancing charleston\",\"dancing charleston\",\"dancing charleston\",\"dancing charleston\",\"dancing charleston\",\"dancing charleston\",\"dancing charleston\",\"dancing charleston\",\"dancing charleston\",\"dancing charleston\",\"dancing charleston\",\"dancing charleston\",\"dancing charleston\",\"dancing charleston\",\"dancing charleston\",\"dancing charleston\",\"dancing charleston\",\"dancing charleston\",\"dancing charleston\",\"dancing charleston\",\"dancing charleston\",\"dancing charleston\",\"dancing charleston\",\"dancing charleston\",\"dancing charleston\",\"dancing charleston\",\"dancing charleston\",\"dancing charleston\",\"dancing charleston\",\"dancing charleston\",\"dancing charleston\",\"dancing charleston\",\"dancing charleston\",\"dancing charleston\",\"dancing charleston\",\"dancing gangnam style\",\"dancing gangnam style\",\"dancing gangnam style\",\"dancing gangnam style\",\"dancing gangnam style\",\"dancing gangnam style\",\"dancing gangnam style\",\"dancing gangnam style\",\"dancing gangnam style\",\"dancing gangnam style\",\"dancing gangnam style\",\"dancing gangnam style\",\"dancing gangnam style\",\"dancing gangnam style\",\"dancing gangnam style\",\"dancing gangnam style\",\"dancing gangnam style\",\"dancing gangnam style\",\"dancing gangnam style\",\"dancing gangnam style\",\"dancing gangnam style\",\"dancing gangnam style\",\"dancing gangnam style\",\"dancing gangnam style\",\"dancing gangnam style\",\"dancing gangnam style\",\"dancing gangnam style\",\"dancing gangnam style\",\"dancing gangnam style\",\"dancing gangnam style\",\"dancing gangnam style\",\"dancing gangnam style\",\"dancing gangnam style\",\"dancing gangnam style\",\"dancing gangnam style\",\"dancing gangnam style\",\"dancing gangnam style\",\"dancing gangnam style\",\"dancing gangnam style\",\"dancing gangnam style\",\"dancing gangnam style\",\"dancing gangnam style\",\"dancing gangnam style\",\"dancing gangnam style\",\"dancing gangnam style\",\"dancing gangnam style\",\"dancing gangnam style\",\"dancing gangnam style\",\"dancing gangnam style\",\"dancing gangnam style\",\"dancing gangnam style\",\"dancing gangnam style\",\"dancing gangnam style\",\"dancing gangnam style\",\"dancing gangnam style\",\"dancing gangnam style\",\"dancing gangnam style\",\"dancing gangnam style\",\"dancing gangnam style\",\"dancing gangnam style\",\"dancing gangnam style\",\"dancing gangnam style\",\"dancing gangnam style\",\"dancing gangnam style\",\"dancing gangnam style\",\"dancing gangnam style\",\"dancing gangnam style\",\"dancing gangnam style\",\"dancing gangnam style\",\"dancing gangnam style\",\"dancing gangnam style\",\"dancing gangnam style\",\"dancing gangnam style\",\"dancing gangnam style\",\"dancing gangnam style\",\"dancing gangnam style\",\"dancing gangnam style\",\"dancing gangnam style\",\"dancing gangnam style\",\"dancing gangnam style\",\"dancing gangnam style\",\"dancing gangnam style\",\"dancing gangnam style\",\"dancing gangnam style\",\"dancing gangnam style\",\"dancing gangnam style\",\"dancing gangnam style\",\"dancing gangnam style\",\"dancing gangnam style\",\"dancing gangnam style\",\"dancing gangnam style\",\"dancing gangnam style\",\"dancing gangnam style\",\"dancing gangnam style\",\"dancing gangnam style\",\"dancing gangnam style\",\"dancing gangnam style\",\"dancing gangnam style\",\"dancing gangnam style\",\"dancing gangnam style\",\"dancing gangnam style\",\"dancing gangnam style\",\"dancing gangnam style\",\"dancing gangnam style\",\"dancing gangnam style\",\"dancing gangnam style\",\"dancing gangnam style\",\"dancing gangnam style\",\"dancing gangnam style\",\"dancing gangnam style\",\"dancing gangnam style\",\"dancing gangnam style\",\"dancing gangnam style\",\"dancing gangnam style\",\"dancing gangnam style\",\"dancing gangnam style\",\"dancing gangnam style\",\"dancing gangnam style\",\"dancing gangnam style\",\"dancing gangnam style\",\"dancing gangnam style\",\"dancing gangnam style\",\"dancing gangnam style\",\"dancing gangnam style\",\"dancing gangnam style\",\"dancing gangnam style\",\"dancing gangnam style\",\"dancing gangnam style\",\"dancing gangnam style\",\"dancing gangnam style\",\"dancing gangnam style\",\"dancing gangnam style\",\"dancing gangnam style\",\"dancing gangnam style\",\"dancing gangnam style\",\"dancing gangnam style\",\"dancing gangnam style\",\"dancing gangnam style\",\"dancing gangnam style\",\"dancing gangnam style\",\"dancing gangnam style\",\"dancing gangnam style\",\"dancing gangnam style\",\"dancing gangnam style\",\"dancing gangnam style\",\"dancing gangnam style\",\"dancing gangnam style\",\"dancing gangnam style\",\"dancing gangnam style\",\"dancing gangnam style\",\"dancing gangnam style\",\"dancing gangnam style\",\"dancing gangnam style\",\"dancing gangnam style\",\"dancing gangnam style\",\"dancing gangnam style\",\"dancing gangnam style\",\"dancing gangnam style\",\"dancing gangnam style\",\"dancing gangnam style\",\"dancing gangnam style\",\"dancing gangnam style\",\"dancing gangnam style\",\"dancing gangnam style\",\"dancing gangnam style\",\"dancing gangnam style\",\"dancing gangnam style\",\"dancing gangnam style\",\"dancing gangnam style\",\"dancing gangnam style\",\"dancing gangnam style\",\"dancing gangnam style\",\"dancing gangnam style\",\"dancing gangnam style\",\"dancing gangnam style\",\"dancing gangnam style\",\"dancing gangnam style\",\"dancing gangnam style\",\"dancing gangnam style\",\"dancing gangnam style\",\"dancing gangnam style\",\"dancing gangnam style\",\"dancing gangnam style\",\"dancing gangnam style\",\"dancing gangnam style\",\"dancing gangnam style\",\"dancing gangnam style\",\"dancing gangnam style\",\"dancing gangnam style\",\"dancing gangnam style\",\"dancing gangnam style\",\"dancing gangnam style\",\"dancing gangnam style\",\"dancing gangnam style\",\"dancing gangnam style\",\"dancing gangnam style\",\"dancing gangnam style\",\"dancing gangnam style\",\"dancing gangnam style\",\"dancing gangnam style\",\"dancing gangnam style\",\"dancing gangnam style\",\"dancing gangnam style\",\"dancing gangnam style\",\"dancing gangnam style\",\"dancing gangnam style\",\"dancing gangnam style\",\"dancing gangnam style\",\"dancing gangnam style\",\"dancing gangnam style\",\"dancing gangnam style\",\"dancing gangnam style\",\"dancing gangnam style\",\"dancing gangnam style\",\"dancing gangnam style\",\"dancing gangnam style\",\"dancing gangnam style\",\"dancing gangnam style\",\"dancing gangnam style\",\"dancing gangnam style\",\"dancing gangnam style\",\"dancing gangnam style\",\"dancing gangnam style\",\"dancing gangnam style\",\"dancing gangnam style\",\"dancing gangnam style\",\"dancing gangnam style\",\"dancing gangnam style\",\"dancing gangnam style\",\"dancing gangnam style\",\"dancing gangnam style\",\"dancing gangnam style\",\"dancing gangnam style\",\"dancing gangnam style\",\"dancing gangnam style\",\"dancing gangnam style\",\"dancing gangnam style\",\"dancing gangnam style\",\"dancing gangnam style\",\"dancing gangnam style\",\"dancing gangnam style\",\"dancing gangnam style\",\"dancing gangnam style\",\"dancing gangnam style\",\"dancing gangnam style\",\"dancing gangnam style\",\"dancing gangnam style\",\"dancing gangnam style\",\"dancing gangnam style\",\"dancing gangnam style\",\"dancing gangnam style\",\"dancing gangnam style\",\"dancing gangnam style\",\"dancing gangnam style\",\"dancing gangnam style\",\"dancing gangnam style\",\"dancing gangnam style\",\"dancing gangnam style\",\"dancing gangnam style\",\"dancing gangnam style\",\"dancing gangnam style\",\"dancing gangnam style\",\"dancing gangnam style\",\"dancing gangnam style\",\"dancing gangnam style\",\"dancing gangnam style\",\"dancing gangnam style\",\"dancing gangnam style\",\"dancing gangnam style\",\"dancing gangnam style\",\"dancing gangnam style\",\"dancing gangnam style\",\"dancing gangnam style\",\"dancing gangnam style\",\"dancing gangnam style\",\"dancing gangnam style\",\"dancing gangnam style\",\"dancing gangnam style\",\"dancing gangnam style\",\"dancing gangnam style\",\"dancing gangnam style\",\"dancing gangnam style\",\"dancing gangnam style\",\"dancing gangnam style\",\"dancing gangnam style\",\"dancing gangnam style\",\"dancing gangnam style\",\"dancing gangnam style\",\"dancing gangnam style\",\"dancing gangnam style\",\"dancing gangnam style\",\"dancing gangnam style\",\"dancing gangnam style\",\"dancing gangnam style\",\"dancing gangnam style\",\"dancing gangnam style\",\"dancing gangnam style\",\"dancing gangnam style\",\"dancing gangnam style\",\"dancing gangnam style\",\"dancing gangnam style\",\"dancing gangnam style\",\"dancing gangnam style\",\"dancing gangnam style\",\"dancing gangnam style\",\"dancing gangnam style\",\"dancing gangnam style\",\"dancing gangnam style\",\"dancing gangnam style\",\"dancing gangnam style\",\"dancing gangnam style\",\"dancing gangnam style\",\"dancing gangnam style\",\"dancing gangnam style\",\"dancing gangnam style\",\"dancing gangnam style\",\"dancing gangnam style\",\"dancing gangnam style\",\"dancing gangnam style\",\"dancing gangnam style\",\"dancing gangnam style\",\"dancing gangnam style\",\"dancing gangnam style\",\"dancing gangnam style\",\"dancing gangnam style\",\"dancing gangnam style\",\"dancing gangnam style\",\"dancing gangnam style\",\"dancing gangnam style\",\"dancing gangnam style\",\"dancing gangnam style\",\"dancing gangnam style\",\"dancing gangnam style\",\"dancing gangnam style\",\"dancing gangnam style\",\"dancing gangnam style\",\"dancing gangnam style\",\"dancing gangnam style\",\"dancing gangnam style\",\"dancing gangnam style\",\"dancing gangnam style\",\"dancing gangnam style\",\"dancing gangnam style\",\"dancing gangnam style\",\"dancing gangnam style\",\"dancing gangnam style\",\"dancing gangnam style\",\"dancing gangnam style\",\"dancing gangnam style\",\"dancing gangnam style\",\"dancing gangnam style\",\"dancing gangnam style\",\"dancing gangnam style\",\"dancing gangnam style\",\"dancing gangnam style\",\"dancing gangnam style\",\"dancing gangnam style\",\"dancing gangnam style\",\"dancing gangnam style\",\"dancing gangnam style\",\"dancing gangnam style\",\"dancing gangnam style\",\"dancing gangnam style\",\"dancing gangnam style\",\"dancing gangnam style\",\"dancing gangnam style\",\"dancing gangnam style\",\"dancing gangnam style\",\"dancing gangnam style\",\"dancing gangnam style\",\"dancing gangnam style\",\"dancing gangnam style\",\"dancing gangnam style\",\"dancing gangnam style\",\"dancing gangnam style\",\"dancing gangnam style\",\"dancing gangnam style\",\"dancing gangnam style\",\"dancing gangnam style\",\"dancing gangnam style\",\"dancing gangnam style\",\"dancing gangnam style\",\"dancing gangnam style\",\"dancing gangnam style\",\"dancing gangnam style\",\"dancing gangnam style\",\"dancing gangnam style\",\"dancing gangnam style\",\"dancing gangnam style\",\"dancing gangnam style\",\"dancing gangnam style\",\"dancing gangnam style\",\"dancing gangnam style\",\"dancing gangnam style\",\"dancing gangnam style\",\"dancing gangnam style\",\"dancing gangnam style\",\"dancing gangnam style\",\"dancing gangnam style\",\"dancing gangnam style\",\"dancing gangnam style\",\"dancing gangnam style\",\"dancing gangnam style\",\"dancing gangnam style\",\"dancing gangnam style\",\"dancing gangnam style\",\"dancing gangnam style\",\"dancing gangnam style\",\"dancing gangnam style\",\"dancing gangnam style\",\"dancing gangnam style\",\"dancing gangnam style\",\"dancing gangnam style\",\"dancing gangnam style\",\"dancing gangnam style\",\"dancing gangnam style\",\"dancing gangnam style\",\"dancing gangnam style\",\"dancing gangnam style\",\"dancing gangnam style\",\"dancing gangnam style\",\"dancing gangnam style\",\"dancing gangnam style\",\"dancing gangnam style\",\"dancing gangnam style\",\"dancing gangnam style\",\"dancing gangnam style\",\"dancing gangnam style\",\"dancing gangnam style\",\"dancing gangnam style\",\"dancing gangnam style\",\"dancing gangnam style\",\"dancing gangnam style\",\"dancing gangnam style\",\"dancing gangnam style\",\"dancing gangnam style\",\"dancing gangnam style\",\"dancing gangnam style\",\"dancing gangnam style\",\"dancing gangnam style\",\"dancing gangnam style\",\"dancing gangnam style\",\"dancing gangnam style\",\"dancing gangnam style\",\"dancing gangnam style\",\"dancing gangnam style\",\"dancing gangnam style\",\"dancing gangnam style\",\"dancing gangnam style\",\"dancing gangnam style\",\"dancing gangnam style\",\"dancing gangnam style\",\"dancing gangnam style\",\"dancing gangnam style\",\"dancing gangnam style\",\"dancing gangnam style\",\"dancing gangnam style\",\"dancing gangnam style\",\"dancing gangnam style\",\"dancing gangnam style\",\"dancing gangnam style\",\"dancing gangnam style\",\"dancing gangnam style\",\"dancing gangnam style\",\"dancing gangnam style\",\"dancing gangnam style\",\"dancing gangnam style\",\"dancing gangnam style\",\"dancing gangnam style\",\"dancing gangnam style\",\"dancing gangnam style\",\"dancing gangnam style\",\"dancing gangnam style\",\"dancing gangnam style\",\"dancing gangnam style\",\"dancing gangnam style\",\"dancing gangnam style\",\"dancing gangnam style\",\"dancing gangnam style\",\"dancing gangnam style\",\"dancing gangnam style\",\"dancing gangnam style\",\"dancing gangnam style\",\"dancing gangnam style\",\"dancing gangnam style\",\"dancing gangnam style\",\"dancing gangnam style\",\"dancing gangnam style\",\"dancing gangnam style\",\"dancing gangnam style\",\"dancing gangnam style\",\"dancing gangnam style\",\"dancing gangnam style\",\"dancing gangnam style\",\"dancing gangnam style\",\"dancing gangnam style\",\"dancing gangnam style\",\"dancing gangnam style\",\"dancing gangnam style\",\"dancing gangnam style\",\"dancing gangnam style\",\"dancing gangnam style\",\"dancing gangnam style\",\"dancing gangnam style\",\"dancing gangnam style\",\"dancing gangnam style\",\"dancing gangnam style\",\"dancing gangnam style\",\"dancing gangnam style\",\"dancing gangnam style\",\"dancing gangnam style\",\"dancing gangnam style\",\"dancing gangnam style\",\"dancing gangnam style\",\"dancing gangnam style\",\"dancing gangnam style\",\"dancing gangnam style\",\"dancing gangnam style\",\"dancing gangnam style\",\"dancing gangnam style\",\"dancing gangnam style\",\"dancing gangnam style\",\"dancing gangnam style\",\"dancing gangnam style\",\"dancing gangnam style\",\"dancing gangnam style\",\"dancing gangnam style\",\"dancing gangnam style\",\"dancing gangnam style\",\"dancing gangnam style\",\"dancing gangnam style\",\"dancing gangnam style\",\"dancing gangnam style\",\"dancing gangnam style\",\"dancing gangnam style\",\"dancing gangnam style\",\"dancing gangnam style\",\"dancing gangnam style\",\"dancing gangnam style\",\"dancing gangnam style\",\"dancing gangnam style\",\"dancing gangnam style\",\"dancing gangnam style\",\"dancing gangnam style\",\"dancing gangnam style\",\"dancing gangnam style\",\"dancing gangnam style\",\"dancing gangnam style\",\"dancing gangnam style\",\"dancing gangnam style\",\"dancing gangnam style\",\"dancing gangnam style\",\"dancing gangnam style\",\"dancing gangnam style\",\"dancing gangnam style\",\"dancing gangnam style\",\"dancing gangnam style\",\"dancing gangnam style\",\"dancing gangnam style\",\"dancing gangnam style\",\"dancing gangnam style\",\"dancing gangnam style\",\"dancing gangnam style\",\"dancing gangnam style\",\"dancing gangnam style\",\"dancing gangnam style\",\"dancing gangnam style\",\"dancing gangnam style\",\"dancing gangnam style\",\"dancing gangnam style\",\"dancing gangnam style\",\"dancing gangnam style\",\"dancing gangnam style\",\"dancing gangnam style\",\"dancing gangnam style\",\"dancing gangnam style\",\"dancing gangnam style\",\"dancing gangnam style\",\"dancing gangnam style\",\"dancing gangnam style\",\"dancing gangnam style\",\"dancing gangnam style\",\"dancing gangnam style\",\"dancing gangnam style\",\"dancing gangnam style\",\"dancing gangnam style\",\"dancing gangnam style\",\"dancing gangnam style\",\"dancing gangnam style\",\"dancing gangnam style\",\"dancing gangnam style\",\"dancing gangnam style\",\"dancing gangnam style\",\"dancing gangnam style\",\"dancing gangnam style\",\"dancing gangnam style\",\"dancing gangnam style\",\"dancing gangnam style\",\"dancing gangnam style\",\"dancing gangnam style\",\"dancing gangnam style\",\"dancing gangnam style\",\"dancing gangnam style\",\"dancing gangnam style\",\"dancing gangnam style\",\"dancing gangnam style\",\"dancing gangnam style\",\"dancing gangnam style\",\"dancing gangnam style\",\"dancing gangnam style\",\"dancing gangnam style\",\"dancing gangnam style\",\"dancing gangnam style\",\"dancing gangnam style\",\"dancing gangnam style\",\"dancing gangnam style\",\"dancing gangnam style\",\"dancing gangnam style\",\"dancing gangnam style\",\"dancing gangnam style\",\"dancing gangnam style\",\"dancing gangnam style\",\"dancing gangnam style\",\"dancing gangnam style\",\"dancing gangnam style\",\"dancing gangnam style\",\"dancing gangnam style\",\"dancing gangnam style\",\"dancing gangnam style\",\"dancing gangnam style\",\"dancing gangnam style\",\"dancing gangnam style\",\"dancing gangnam style\",\"dancing gangnam style\",\"dancing gangnam style\",\"dancing gangnam style\",\"dancing gangnam style\",\"dancing gangnam style\",\"dancing gangnam style\",\"dancing gangnam style\",\"dancing gangnam style\",\"dancing gangnam style\",\"dancing gangnam style\",\"dancing gangnam style\",\"dancing gangnam style\",\"dancing gangnam style\",\"dancing gangnam style\",\"dancing gangnam style\",\"dancing gangnam style\",\"dancing gangnam style\",\"dancing gangnam style\",\"dancing gangnam style\",\"dancing gangnam style\",\"dancing gangnam style\",\"dancing gangnam style\",\"dancing gangnam style\",\"dancing gangnam style\",\"dancing gangnam style\",\"dancing gangnam style\",\"dancing gangnam style\",\"dancing gangnam style\",\"dancing gangnam style\",\"dancing gangnam style\",\"dancing gangnam style\",\"dancing gangnam style\",\"dancing gangnam style\",\"dancing gangnam style\",\"dancing gangnam style\",\"dancing gangnam style\",\"dancing gangnam style\",\"dancing gangnam style\",\"dancing gangnam style\",\"dancing gangnam style\",\"dancing gangnam style\",\"dancing gangnam style\",\"dancing gangnam style\",\"dancing gangnam style\",\"dancing gangnam style\",\"dancing gangnam style\",\"dancing gangnam style\",\"dancing gangnam style\",\"dancing gangnam style\",\"dancing gangnam style\",\"dancing gangnam style\",\"dancing gangnam style\",\"dancing gangnam style\",\"dancing gangnam style\",\"dancing gangnam style\",\"dancing gangnam style\",\"dancing gangnam style\",\"dancing gangnam style\",\"dancing gangnam style\",\"dancing gangnam style\",\"dancing gangnam style\",\"dancing gangnam style\",\"dancing gangnam style\",\"dancing gangnam style\",\"dancing gangnam style\",\"dancing gangnam style\",\"dancing gangnam style\",\"dancing gangnam style\",\"dancing gangnam style\",\"dancing gangnam style\",\"dancing gangnam style\",\"dancing gangnam style\",\"dancing gangnam style\",\"dancing gangnam style\",\"dancing gangnam style\",\"dancing gangnam style\",\"dancing gangnam style\",\"dancing gangnam style\",\"dancing gangnam style\",\"dancing gangnam style\",\"dancing gangnam style\",\"dancing gangnam style\",\"dancing gangnam style\",\"dancing gangnam style\",\"dancing gangnam style\",\"dancing gangnam style\",\"dancing gangnam style\",\"dancing gangnam style\",\"dancing gangnam style\",\"dancing gangnam style\",\"dancing gangnam style\",\"dancing gangnam style\",\"dancing gangnam style\",\"dancing gangnam style\",\"dancing gangnam style\",\"dancing gangnam style\",\"dancing gangnam style\",\"dancing gangnam style\",\"dancing gangnam style\",\"dancing gangnam style\",\"dancing gangnam style\",\"dancing gangnam style\",\"dancing gangnam style\",\"dancing gangnam style\",\"dancing gangnam style\",\"dancing gangnam style\",\"dancing gangnam style\",\"dancing gangnam style\",\"dancing gangnam style\",\"dancing gangnam style\",\"dancing gangnam style\",\"dancing gangnam style\",\"dancing gangnam style\",\"dancing gangnam style\",\"dancing gangnam style\",\"dancing gangnam style\",\"dancing gangnam style\",\"dancing gangnam style\",\"dancing gangnam style\",\"dancing gangnam style\",\"dancing gangnam style\",\"dancing gangnam style\",\"dancing gangnam style\",\"dancing gangnam style\",\"dancing gangnam style\",\"dancing gangnam style\",\"dancing gangnam style\",\"dancing gangnam style\",\"dancing gangnam style\",\"dancing gangnam style\",\"dancing gangnam style\",\"dancing gangnam style\",\"dancing gangnam style\",\"dancing gangnam style\",\"dancing gangnam style\",\"dancing gangnam style\",\"dancing gangnam style\",\"dancing gangnam style\",\"dancing gangnam style\",\"dancing gangnam style\",\"dancing gangnam style\",\"dancing gangnam style\",\"dancing gangnam style\",\"dancing gangnam style\",\"dancing gangnam style\",\"dancing gangnam style\",\"dancing gangnam style\",\"dancing gangnam style\",\"dancing gangnam style\",\"dancing gangnam style\",\"dancing gangnam style\",\"dancing gangnam style\",\"dancing gangnam style\",\"dancing gangnam style\",\"dancing gangnam style\",\"dancing gangnam style\",\"dancing gangnam style\",\"dancing gangnam style\",\"dancing gangnam style\",\"dancing gangnam style\",\"dancing gangnam style\",\"dancing gangnam style\",\"dancing gangnam style\",\"dancing gangnam style\",\"dancing gangnam style\",\"dancing gangnam style\",\"dancing gangnam style\",\"dancing gangnam style\",\"dancing gangnam style\",\"dancing gangnam style\",\"dancing gangnam style\",\"dancing gangnam style\",\"dancing gangnam style\",\"dancing gangnam style\",\"dancing gangnam style\",\"dancing gangnam style\",\"dancing gangnam style\",\"dancing gangnam style\",\"dancing gangnam style\",\"dancing gangnam style\",\"dancing gangnam style\",\"dancing gangnam style\",\"dancing gangnam style\",\"dancing gangnam style\",\"dancing gangnam style\",\"dancing gangnam style\",\"dancing gangnam style\",\"dancing gangnam style\",\"dancing gangnam style\",\"dancing gangnam style\",\"dancing gangnam style\",\"dancing gangnam style\",\"dancing gangnam style\",\"dancing gangnam style\",\"dancing gangnam style\",\"dancing gangnam style\",\"dancing gangnam style\",\"dancing gangnam style\",\"dancing gangnam style\",\"dancing gangnam style\",\"dancing gangnam style\",\"dancing gangnam style\",\"dancing gangnam style\",\"dancing gangnam style\",\"dancing gangnam style\",\"dancing gangnam style\",\"dancing gangnam style\",\"dancing gangnam style\",\"dancing gangnam style\",\"dancing gangnam style\",\"dancing gangnam style\",\"dancing gangnam style\",\"dancing gangnam style\",\"dancing gangnam style\",\"dancing gangnam style\",\"dancing gangnam style\",\"dancing gangnam style\",\"dancing gangnam style\",\"dancing gangnam style\",\"dancing gangnam style\",\"dancing gangnam style\",\"dancing gangnam style\",\"dancing gangnam style\",\"dancing gangnam style\",\"dancing gangnam style\",\"dancing gangnam style\",\"dancing gangnam style\",\"dancing gangnam style\",\"dancing gangnam style\",\"dancing gangnam style\",\"dancing gangnam style\",\"dancing gangnam style\",\"dancing gangnam style\",\"dancing gangnam style\",\"dancing gangnam style\",\"dancing gangnam style\",\"dancing gangnam style\",\"dancing gangnam style\",\"dancing gangnam style\",\"dancing gangnam style\",\"dancing gangnam style\",\"dancing gangnam style\",\"dancing gangnam style\",\"dancing gangnam style\",\"dancing gangnam style\",\"dancing gangnam style\",\"dancing gangnam style\",\"dancing gangnam style\",\"dancing gangnam style\",\"dancing gangnam style\",\"dancing gangnam style\",\"dancing gangnam style\",\"dancing gangnam style\",\"dancing gangnam style\",\"dancing gangnam style\",\"dancing gangnam style\",\"dancing gangnam style\",\"dancing gangnam style\",\"dancing gangnam style\",\"dancing gangnam style\",\"dancing gangnam style\",\"dancing gangnam style\",\"dancing gangnam style\",\"dancing gangnam style\",\"dancing gangnam style\",\"dancing gangnam style\",\"dancing gangnam style\",\"dancing gangnam style\",\"dancing gangnam style\",\"dancing gangnam style\",\"dancing gangnam style\",\"dancing gangnam style\",\"dancing gangnam style\",\"dancing gangnam style\",\"dancing gangnam style\",\"dancing gangnam style\",\"dancing gangnam style\",\"dancing gangnam style\",\"dancing gangnam style\",\"dancing gangnam style\",\"dancing gangnam style\",\"dancing gangnam style\",\"dancing gangnam style\",\"dancing gangnam style\",\"dancing gangnam style\",\"dancing gangnam style\",\"dancing gangnam style\",\"dancing gangnam style\",\"dancing gangnam style\",\"dancing gangnam style\",\"dancing gangnam style\",\"dancing gangnam style\",\"dancing gangnam style\",\"dancing gangnam style\",\"dancing gangnam style\",\"dancing gangnam style\",\"dancing gangnam style\",\"dancing gangnam style\",\"dancing gangnam style\",\"dancing gangnam style\",\"dancing gangnam style\",\"dancing gangnam style\",\"dancing gangnam style\",\"dancing gangnam style\",\"dancing gangnam style\",\"dancing gangnam style\",\"dancing gangnam style\",\"dancing gangnam style\",\"dancing gangnam style\",\"dancing gangnam style\",\"dancing gangnam style\",\"dancing gangnam style\",\"dancing gangnam style\",\"dancing gangnam style\",\"dancing gangnam style\",\"dancing gangnam style\",\"dancing gangnam style\",\"dancing gangnam style\",\"dancing gangnam style\",\"dancing gangnam style\",\"dancing gangnam style\",\"dancing gangnam style\",\"dancing gangnam style\",\"dancing gangnam style\",\"dancing gangnam style\",\"dancing gangnam style\",\"dancing gangnam style\",\"dancing gangnam style\",\"dancing gangnam style\",\"dancing gangnam style\",\"dancing gangnam style\",\"dancing gangnam style\",\"dancing gangnam style\",\"dancing gangnam style\",\"dancing gangnam style\",\"dancing gangnam style\",\"dancing macarena\",\"dancing macarena\",\"dancing macarena\",\"dancing macarena\",\"dancing macarena\",\"dancing macarena\",\"dancing macarena\",\"dancing macarena\",\"dancing macarena\",\"dancing macarena\",\"dancing macarena\",\"dancing macarena\",\"dancing macarena\",\"dancing macarena\",\"dancing macarena\",\"dancing macarena\",\"dancing macarena\",\"dancing macarena\",\"dancing macarena\",\"dancing macarena\",\"dancing macarena\",\"dancing macarena\",\"dancing macarena\",\"dancing macarena\",\"dancing macarena\",\"dancing macarena\",\"dancing macarena\",\"dancing macarena\",\"dancing macarena\",\"dancing macarena\",\"dancing macarena\",\"dancing macarena\",\"dancing macarena\",\"dancing macarena\",\"dancing macarena\",\"dancing macarena\",\"dancing macarena\",\"dancing macarena\",\"dancing macarena\",\"dancing macarena\",\"dancing macarena\",\"dancing macarena\",\"dancing macarena\",\"dancing macarena\",\"dancing macarena\",\"dancing macarena\",\"dancing macarena\",\"dancing macarena\",\"dancing macarena\",\"dancing macarena\",\"dancing macarena\",\"dancing macarena\",\"dancing macarena\",\"dancing macarena\",\"dancing macarena\",\"dancing macarena\",\"dancing macarena\",\"dancing macarena\",\"dancing macarena\",\"dancing macarena\",\"dancing macarena\",\"dancing macarena\",\"dancing macarena\",\"dancing macarena\",\"dancing macarena\",\"dancing macarena\",\"dancing macarena\",\"dancing macarena\",\"dancing macarena\",\"dancing macarena\",\"dancing macarena\",\"dancing macarena\",\"dancing macarena\",\"dancing macarena\",\"dancing macarena\",\"dancing macarena\",\"dancing macarena\",\"dancing macarena\",\"dancing macarena\",\"dancing macarena\",\"dancing macarena\",\"dancing macarena\",\"dancing macarena\",\"dancing macarena\",\"dancing macarena\",\"dancing macarena\",\"dancing macarena\",\"dancing macarena\",\"dancing macarena\",\"dancing macarena\",\"dancing macarena\",\"dancing macarena\",\"dancing macarena\",\"dancing macarena\",\"dancing macarena\",\"dancing macarena\",\"dancing macarena\",\"dancing macarena\",\"dancing macarena\",\"dancing macarena\",\"dancing macarena\",\"dancing macarena\",\"dancing macarena\",\"dancing macarena\",\"dancing macarena\",\"dancing macarena\",\"dancing macarena\",\"dancing macarena\",\"dancing macarena\",\"dancing macarena\",\"dancing macarena\",\"dancing macarena\",\"dancing macarena\",\"dancing macarena\",\"dancing macarena\",\"dancing macarena\",\"dancing macarena\",\"dancing macarena\",\"dancing macarena\",\"dancing macarena\",\"dancing macarena\",\"dancing macarena\",\"dancing macarena\",\"dancing macarena\",\"dancing macarena\",\"dancing macarena\",\"dancing macarena\",\"dancing macarena\",\"dancing macarena\",\"dancing macarena\",\"dancing macarena\",\"dancing macarena\",\"dancing macarena\",\"dancing macarena\",\"dancing macarena\",\"dancing macarena\",\"dancing macarena\",\"dancing macarena\",\"dancing macarena\",\"dancing macarena\",\"dancing macarena\",\"dancing macarena\",\"dancing macarena\",\"dancing macarena\",\"dancing macarena\",\"dancing macarena\",\"dancing macarena\",\"dancing macarena\",\"dancing macarena\",\"dancing macarena\",\"dancing macarena\",\"dancing macarena\",\"dancing macarena\",\"dancing macarena\",\"dancing macarena\",\"dancing macarena\",\"dancing macarena\",\"dancing macarena\",\"dancing macarena\",\"dancing macarena\",\"dancing macarena\",\"dancing macarena\",\"dancing macarena\",\"dancing macarena\",\"dancing macarena\",\"dancing macarena\",\"dancing macarena\",\"dancing macarena\",\"dancing macarena\",\"dancing macarena\",\"dancing macarena\",\"dancing macarena\",\"dancing macarena\",\"dancing macarena\",\"dancing macarena\",\"dancing macarena\",\"dancing macarena\",\"dancing macarena\",\"dancing macarena\",\"dancing macarena\",\"dancing macarena\",\"dancing macarena\",\"dancing macarena\",\"dancing macarena\",\"dancing macarena\",\"dancing macarena\",\"dancing macarena\",\"dancing macarena\",\"dancing macarena\",\"dancing macarena\",\"dancing macarena\",\"dancing macarena\",\"dancing macarena\",\"dancing macarena\",\"dancing macarena\",\"dancing macarena\",\"dancing macarena\",\"dancing macarena\",\"dancing macarena\",\"dancing macarena\",\"dancing macarena\",\"dancing macarena\",\"dancing macarena\",\"dancing macarena\",\"dancing macarena\",\"dancing macarena\",\"dancing macarena\",\"dancing macarena\",\"dancing macarena\",\"dancing macarena\",\"dancing macarena\",\"dancing macarena\",\"dancing macarena\",\"dancing macarena\",\"dancing macarena\",\"dancing macarena\",\"dancing macarena\",\"dancing macarena\",\"dancing macarena\",\"dancing macarena\",\"dancing macarena\",\"dancing macarena\",\"dancing macarena\",\"dancing macarena\",\"dancing macarena\",\"dancing macarena\",\"dancing macarena\",\"dancing macarena\",\"dancing macarena\",\"dancing macarena\",\"dancing macarena\",\"dancing macarena\",\"dancing macarena\",\"dancing macarena\",\"dancing macarena\",\"dancing macarena\",\"dancing macarena\",\"dancing macarena\",\"dancing macarena\",\"dancing macarena\",\"dancing macarena\",\"dancing macarena\",\"dancing macarena\",\"dancing macarena\",\"dancing macarena\",\"dancing macarena\",\"dancing macarena\",\"dancing macarena\",\"dancing macarena\",\"dancing macarena\",\"dancing macarena\",\"dancing macarena\",\"dancing macarena\",\"dancing macarena\",\"dancing macarena\",\"dancing macarena\",\"dancing macarena\",\"dancing macarena\",\"dancing macarena\",\"dancing macarena\",\"dancing macarena\",\"dancing macarena\",\"dancing macarena\",\"dancing macarena\",\"dancing macarena\",\"dancing macarena\",\"dancing macarena\",\"dancing macarena\",\"dancing macarena\",\"dancing macarena\",\"dancing macarena\",\"dancing macarena\",\"dancing macarena\",\"dancing macarena\",\"dancing macarena\",\"dancing macarena\",\"dancing macarena\",\"dancing macarena\",\"dancing macarena\",\"dancing macarena\",\"dancing macarena\",\"dancing macarena\",\"dancing macarena\",\"dancing macarena\",\"dancing macarena\",\"dancing macarena\",\"dancing macarena\",\"dancing macarena\",\"dancing macarena\",\"dancing macarena\",\"dancing macarena\",\"dancing macarena\",\"dancing macarena\",\"dancing macarena\",\"dancing macarena\",\"dancing macarena\",\"dancing macarena\",\"dancing macarena\",\"dancing macarena\",\"dancing macarena\",\"dancing macarena\",\"dancing macarena\",\"dancing macarena\",\"dancing macarena\",\"dancing macarena\",\"dancing macarena\",\"dancing macarena\",\"dancing macarena\",\"dancing macarena\",\"dancing macarena\",\"dancing macarena\",\"dancing macarena\",\"dancing macarena\",\"dancing macarena\",\"dancing macarena\",\"dancing macarena\",\"dancing macarena\",\"dancing macarena\",\"dancing macarena\",\"dancing macarena\",\"dancing macarena\",\"dancing macarena\",\"dancing macarena\",\"dancing macarena\",\"dancing macarena\",\"dancing macarena\",\"dancing macarena\",\"dancing macarena\",\"dancing macarena\",\"dancing macarena\",\"dancing macarena\",\"dancing macarena\",\"dancing macarena\",\"dancing macarena\",\"dancing macarena\",\"dancing macarena\",\"dancing macarena\",\"dancing macarena\",\"dancing macarena\",\"dancing macarena\",\"dancing macarena\",\"dancing macarena\",\"dancing macarena\",\"dancing macarena\",\"dancing macarena\",\"dancing macarena\",\"dancing macarena\",\"dancing macarena\",\"dancing macarena\",\"dancing macarena\",\"dancing macarena\",\"dancing macarena\",\"dancing macarena\",\"dancing macarena\",\"dancing macarena\",\"dancing macarena\",\"dancing macarena\",\"dancing macarena\",\"dancing macarena\",\"dancing macarena\",\"dancing macarena\",\"dancing macarena\",\"dancing macarena\",\"dancing macarena\",\"dancing macarena\",\"dancing macarena\",\"dancing macarena\",\"dancing macarena\",\"dancing macarena\",\"dancing macarena\",\"dancing macarena\",\"dancing macarena\",\"dancing macarena\",\"dancing macarena\",\"dancing macarena\",\"dancing macarena\",\"dancing macarena\",\"dancing macarena\",\"dancing macarena\",\"dancing macarena\",\"dancing macarena\",\"dancing macarena\",\"dancing macarena\",\"dancing macarena\",\"dancing macarena\",\"dancing macarena\",\"dancing macarena\",\"dancing macarena\",\"dancing macarena\",\"dancing macarena\",\"dancing macarena\",\"dancing macarena\",\"dancing macarena\",\"dancing macarena\",\"dancing macarena\",\"dancing macarena\",\"dancing macarena\",\"dancing macarena\",\"dancing macarena\",\"dancing macarena\",\"dancing macarena\",\"dancing macarena\",\"dancing macarena\",\"dancing macarena\",\"dancing macarena\",\"dancing macarena\",\"dancing macarena\",\"dancing macarena\",\"dancing macarena\",\"dancing macarena\",\"dancing macarena\",\"dancing macarena\",\"dancing macarena\",\"dancing macarena\",\"dancing macarena\",\"dancing macarena\",\"dancing macarena\",\"dancing macarena\",\"dancing macarena\",\"dancing macarena\",\"dancing macarena\",\"dancing macarena\",\"dancing macarena\",\"dancing macarena\",\"dancing macarena\",\"dancing macarena\",\"dancing macarena\",\"dancing macarena\",\"dancing macarena\",\"dancing macarena\",\"dancing macarena\",\"dancing macarena\",\"dancing macarena\",\"dancing macarena\",\"dancing macarena\",\"dancing macarena\",\"dancing macarena\",\"dancing macarena\",\"dancing macarena\",\"dancing macarena\",\"dancing macarena\",\"dancing macarena\",\"dancing macarena\",\"dancing macarena\",\"dancing macarena\",\"dancing macarena\",\"dancing macarena\",\"dancing macarena\",\"dancing macarena\",\"dancing macarena\",\"dancing macarena\",\"dancing macarena\",\"dancing macarena\",\"dancing macarena\",\"dancing macarena\",\"dancing macarena\",\"dancing macarena\",\"dancing macarena\",\"dancing macarena\",\"dancing macarena\",\"dancing macarena\",\"dancing macarena\",\"dancing macarena\",\"dancing macarena\",\"dancing macarena\",\"dancing macarena\",\"dancing macarena\",\"dancing macarena\",\"dancing macarena\",\"dancing macarena\",\"dancing macarena\",\"dancing macarena\",\"dancing macarena\",\"dancing macarena\",\"dancing macarena\",\"dancing macarena\",\"dancing macarena\",\"dancing macarena\",\"dancing macarena\",\"dancing macarena\",\"dancing macarena\",\"dancing macarena\",\"dancing macarena\",\"dancing macarena\",\"dancing macarena\",\"dancing macarena\",\"dancing macarena\",\"dancing macarena\",\"dancing macarena\",\"dancing macarena\",\"dancing macarena\",\"dancing macarena\",\"dancing macarena\",\"dancing macarena\",\"dancing macarena\",\"dancing macarena\",\"dancing macarena\",\"dancing macarena\",\"dancing macarena\",\"dancing macarena\",\"dancing macarena\",\"dancing macarena\",\"dancing macarena\",\"dancing macarena\",\"dancing macarena\",\"dancing macarena\",\"dancing macarena\",\"dancing macarena\",\"dancing macarena\",\"dancing macarena\",\"dancing macarena\",\"dancing macarena\",\"dancing macarena\",\"dancing macarena\",\"dancing macarena\",\"dancing macarena\",\"dancing macarena\",\"dancing macarena\",\"dancing macarena\",\"dancing macarena\",\"dancing macarena\",\"dancing macarena\",\"dancing macarena\",\"dancing macarena\",\"dancing macarena\",\"dancing macarena\",\"dancing macarena\",\"dancing macarena\",\"dancing macarena\",\"dancing macarena\",\"dancing macarena\",\"dancing macarena\",\"dancing macarena\",\"dancing macarena\",\"dancing macarena\",\"dancing macarena\",\"dancing macarena\",\"dancing macarena\",\"dancing macarena\",\"dancing macarena\",\"dancing macarena\",\"dancing macarena\",\"dancing macarena\",\"dancing macarena\",\"dancing macarena\",\"dancing macarena\",\"dancing macarena\",\"dancing macarena\",\"dancing macarena\",\"dancing macarena\",\"dancing macarena\",\"dancing macarena\",\"dancing macarena\",\"dancing macarena\",\"dancing macarena\",\"dancing macarena\",\"dancing macarena\",\"dancing macarena\",\"dancing macarena\",\"dancing macarena\",\"dancing macarena\",\"dancing macarena\",\"dancing macarena\",\"dancing macarena\",\"dancing macarena\",\"dancing macarena\",\"dancing macarena\",\"dancing macarena\",\"dancing macarena\",\"dancing macarena\",\"dancing macarena\",\"dancing macarena\",\"dancing macarena\",\"dancing macarena\",\"dancing macarena\",\"dancing macarena\",\"dancing macarena\",\"dancing macarena\",\"dancing macarena\",\"dancing macarena\",\"dancing macarena\",\"dancing macarena\",\"dancing macarena\",\"dancing macarena\",\"dancing macarena\",\"dancing macarena\",\"dancing macarena\",\"dancing macarena\",\"dancing macarena\",\"dancing macarena\",\"dancing macarena\",\"dancing macarena\",\"dancing macarena\",\"dancing macarena\",\"dancing macarena\",\"dancing macarena\",\"dancing macarena\",\"dancing macarena\",\"dancing macarena\",\"dancing macarena\",\"dancing macarena\",\"dancing macarena\",\"dancing macarena\",\"dancing macarena\",\"dancing macarena\",\"dancing macarena\",\"dancing macarena\",\"dancing macarena\",\"dancing macarena\",\"dancing macarena\",\"dancing macarena\",\"dancing macarena\",\"dancing macarena\",\"dancing macarena\",\"dancing macarena\",\"dancing macarena\",\"dancing macarena\",\"dancing macarena\",\"dancing macarena\",\"dancing macarena\",\"dancing macarena\",\"dancing macarena\",\"dancing macarena\",\"dancing macarena\",\"dancing macarena\",\"dancing macarena\",\"dancing macarena\",\"dancing macarena\",\"dancing macarena\",\"dancing macarena\",\"dancing macarena\",\"dancing macarena\",\"dancing macarena\",\"dancing macarena\",\"dancing macarena\",\"dancing macarena\",\"dancing macarena\",\"dancing macarena\",\"dancing macarena\",\"dancing macarena\",\"dancing macarena\",\"dancing macarena\",\"dancing macarena\",\"dancing macarena\",\"dancing macarena\",\"dancing macarena\",\"dancing macarena\",\"dancing macarena\",\"dancing macarena\",\"dancing macarena\",\"dancing macarena\",\"dancing macarena\",\"dancing macarena\",\"dancing macarena\",\"dancing macarena\",\"dancing macarena\",\"dancing macarena\",\"dancing macarena\",\"dancing macarena\",\"dancing macarena\",\"dancing macarena\",\"dancing macarena\",\"dancing macarena\",\"dancing macarena\",\"dancing macarena\",\"dancing macarena\",\"dancing macarena\",\"dancing macarena\",\"dancing macarena\",\"dancing macarena\",\"dancing macarena\",\"dancing macarena\",\"dancing macarena\",\"dancing macarena\",\"dancing macarena\",\"dancing macarena\",\"dancing macarena\",\"dancing macarena\",\"dancing macarena\",\"dancing macarena\",\"dancing macarena\",\"dancing macarena\",\"dancing macarena\",\"dancing macarena\",\"dancing macarena\",\"dancing macarena\",\"dancing macarena\",\"dancing macarena\",\"dancing macarena\",\"dancing macarena\",\"dancing macarena\",\"dancing macarena\",\"dancing macarena\",\"dancing macarena\",\"dancing macarena\",\"dancing macarena\",\"dancing macarena\",\"dancing macarena\",\"dancing macarena\",\"dancing macarena\",\"dancing macarena\",\"dancing macarena\",\"dancing macarena\",\"dancing macarena\",\"dancing macarena\",\"dancing macarena\",\"dancing macarena\",\"dancing macarena\",\"dancing macarena\",\"dancing macarena\",\"dancing macarena\",\"dancing macarena\",\"dancing macarena\",\"dancing macarena\",\"dancing macarena\",\"dancing macarena\",\"dancing macarena\",\"dancing macarena\",\"dancing macarena\",\"dancing macarena\",\"dancing macarena\",\"dancing macarena\",\"dancing macarena\",\"dancing macarena\",\"dancing macarena\",\"dancing macarena\",\"dancing macarena\",\"dancing macarena\",\"dancing macarena\",\"dancing macarena\",\"dancing macarena\",\"dancing macarena\",\"dancing macarena\",\"dancing macarena\",\"dancing macarena\",\"dancing macarena\",\"dancing macarena\",\"dancing macarena\",\"dancing macarena\",\"dancing macarena\",\"dancing macarena\",\"dancing macarena\",\"dancing macarena\",\"dancing macarena\",\"dancing macarena\",\"dancing macarena\",\"dancing macarena\",\"dancing macarena\",\"dancing macarena\",\"dancing macarena\",\"dancing macarena\",\"dancing macarena\",\"dancing macarena\",\"dancing macarena\",\"dancing macarena\",\"dancing macarena\",\"dancing macarena\",\"dancing macarena\",\"dancing macarena\",\"dancing macarena\",\"dancing macarena\",\"dancing macarena\",\"dancing macarena\",\"dancing macarena\",\"dancing macarena\",\"dancing macarena\",\"dancing macarena\",\"dancing macarena\",\"dancing macarena\",\"dancing macarena\",\"dancing macarena\",\"dancing macarena\",\"dancing macarena\",\"dancing macarena\",\"dancing macarena\",\"dancing macarena\",\"dancing macarena\",\"dancing macarena\",\"dancing macarena\",\"dancing macarena\",\"dancing macarena\",\"dancing macarena\",\"dancing macarena\",\"dancing macarena\",\"dancing macarena\",\"dancing macarena\",\"dancing macarena\",\"dancing macarena\",\"dancing macarena\",\"dancing macarena\",\"dancing macarena\",\"dancing macarena\",\"dancing macarena\",\"dancing macarena\",\"dancing macarena\",\"dancing macarena\",\"dancing macarena\",\"dancing macarena\",\"dancing macarena\",\"dancing macarena\",\"dancing macarena\",\"dancing macarena\",\"dancing macarena\",\"dancing macarena\",\"dancing macarena\",\"dancing macarena\",\"dancing macarena\",\"dancing macarena\",\"dancing macarena\",\"dancing macarena\",\"dancing macarena\",\"dancing macarena\",\"dancing macarena\",\"dancing macarena\",\"dancing macarena\",\"dancing macarena\",\"dancing macarena\",\"dancing macarena\",\"dancing macarena\",\"dancing macarena\",\"dancing macarena\",\"dancing macarena\",\"dancing macarena\",\"dancing macarena\",\"dancing macarena\",\"dancing macarena\",\"dancing macarena\",\"dancing macarena\",\"dancing macarena\",\"dancing macarena\",\"dancing macarena\",\"dancing macarena\",\"dancing macarena\",\"dancing macarena\",\"dancing macarena\",\"dancing macarena\",\"dancing macarena\",\"dancing macarena\",\"dancing macarena\",\"dancing macarena\",\"dancing macarena\",\"dancing macarena\",\"dancing macarena\",\"dancing macarena\",\"dancing macarena\",\"dancing macarena\",\"dancing macarena\",\"dancing macarena\",\"dancing macarena\",\"dancing macarena\",\"dancing macarena\",\"dancing macarena\",\"dancing macarena\",\"dancing macarena\",\"dancing macarena\",\"dancing macarena\",\"dancing macarena\",\"dancing macarena\",\"dancing macarena\",\"dancing macarena\",\"dancing macarena\",\"dancing macarena\",\"dancing macarena\",\"dancing macarena\",\"dancing macarena\",\"dancing macarena\",\"dancing macarena\",\"dancing macarena\",\"dancing macarena\",\"dancing macarena\",\"dancing macarena\",\"dancing macarena\",\"dancing macarena\",\"dancing macarena\",\"dancing macarena\",\"dancing macarena\",\"dancing macarena\",\"dancing macarena\",\"dancing macarena\",\"dancing macarena\",\"dancing macarena\",\"dancing macarena\",\"dancing macarena\",\"dancing macarena\",\"dancing macarena\",\"dancing macarena\",\"dancing macarena\",\"dancing macarena\",\"dancing macarena\",\"dancing macarena\",\"dancing macarena\",\"dancing macarena\",\"dancing macarena\",\"dancing macarena\",\"dancing macarena\",\"dancing macarena\",\"dancing macarena\",\"dancing macarena\",\"dancing macarena\",\"dancing macarena\",\"dancing macarena\",\"dancing macarena\",\"dancing macarena\",\"dancing macarena\",\"dancing macarena\",\"dancing macarena\",\"dancing macarena\",\"dancing macarena\",\"dancing macarena\",\"dancing macarena\",\"dancing macarena\",\"dancing macarena\",\"dancing macarena\",\"dancing macarena\",\"dancing macarena\",\"dancing macarena\",\"dancing macarena\",\"dancing macarena\",\"dancing macarena\",\"dancing macarena\",\"dancing macarena\",\"dancing macarena\",\"dancing macarena\",\"dancing macarena\",\"dancing macarena\",\"dancing macarena\",\"dancing macarena\",\"dancing macarena\",\"dancing macarena\",\"dancing macarena\",\"dancing macarena\",\"dancing macarena\",\"dancing macarena\",\"dancing macarena\",\"dancing macarena\",\"dancing macarena\",\"dancing macarena\",\"dancing macarena\",\"dancing macarena\",\"dancing macarena\",\"dancing macarena\",\"dancing macarena\",\"dancing macarena\",\"dancing macarena\",\"dancing macarena\",\"dancing macarena\",\"dancing macarena\",\"dancing macarena\",\"dancing macarena\",\"dancing macarena\",\"dancing macarena\",\"dancing macarena\",\"dancing macarena\",\"dancing macarena\",\"dancing macarena\",\"dancing macarena\",\"dancing macarena\",\"dancing macarena\",\"dancing macarena\",\"dancing macarena\",\"dancing macarena\",\"dancing macarena\",\"dancing macarena\",\"dancing macarena\",\"dancing macarena\",\"dancing macarena\",\"dancing macarena\",\"dancing macarena\",\"dancing macarena\",\"dancing macarena\",\"dancing macarena\",\"dancing macarena\",\"dancing macarena\",\"jumpstyle dancing\",\"jumpstyle dancing\",\"jumpstyle dancing\",\"jumpstyle dancing\",\"jumpstyle dancing\",\"jumpstyle dancing\",\"jumpstyle dancing\",\"jumpstyle dancing\",\"jumpstyle dancing\",\"jumpstyle dancing\",\"jumpstyle dancing\",\"jumpstyle dancing\",\"jumpstyle dancing\",\"jumpstyle dancing\",\"jumpstyle dancing\",\"jumpstyle dancing\",\"jumpstyle dancing\",\"jumpstyle dancing\",\"jumpstyle dancing\",\"jumpstyle dancing\",\"jumpstyle dancing\",\"jumpstyle dancing\",\"jumpstyle dancing\",\"jumpstyle dancing\",\"jumpstyle dancing\",\"jumpstyle dancing\",\"jumpstyle dancing\",\"jumpstyle dancing\",\"jumpstyle dancing\",\"jumpstyle dancing\",\"jumpstyle dancing\",\"jumpstyle dancing\",\"jumpstyle dancing\",\"jumpstyle dancing\",\"jumpstyle dancing\",\"jumpstyle dancing\",\"jumpstyle dancing\",\"jumpstyle dancing\",\"jumpstyle dancing\",\"jumpstyle dancing\",\"jumpstyle dancing\",\"jumpstyle dancing\",\"jumpstyle dancing\",\"jumpstyle dancing\",\"jumpstyle dancing\",\"jumpstyle dancing\",\"jumpstyle dancing\",\"jumpstyle dancing\",\"jumpstyle dancing\",\"jumpstyle dancing\",\"jumpstyle dancing\",\"jumpstyle dancing\",\"jumpstyle dancing\",\"jumpstyle dancing\",\"jumpstyle dancing\",\"jumpstyle dancing\",\"jumpstyle dancing\",\"jumpstyle dancing\",\"jumpstyle dancing\",\"jumpstyle dancing\",\"jumpstyle dancing\",\"jumpstyle dancing\",\"jumpstyle dancing\",\"jumpstyle dancing\",\"jumpstyle dancing\",\"jumpstyle dancing\",\"jumpstyle dancing\",\"jumpstyle dancing\",\"jumpstyle dancing\",\"jumpstyle dancing\",\"jumpstyle dancing\",\"jumpstyle dancing\",\"jumpstyle dancing\",\"jumpstyle dancing\",\"jumpstyle dancing\",\"jumpstyle dancing\",\"jumpstyle dancing\",\"jumpstyle dancing\",\"jumpstyle dancing\",\"jumpstyle dancing\",\"jumpstyle dancing\",\"jumpstyle dancing\",\"jumpstyle dancing\",\"jumpstyle dancing\",\"jumpstyle dancing\",\"jumpstyle dancing\",\"jumpstyle dancing\",\"jumpstyle dancing\",\"jumpstyle dancing\",\"jumpstyle dancing\",\"jumpstyle dancing\",\"jumpstyle dancing\",\"jumpstyle dancing\",\"jumpstyle dancing\",\"jumpstyle dancing\",\"jumpstyle dancing\",\"jumpstyle dancing\",\"jumpstyle dancing\",\"jumpstyle dancing\",\"jumpstyle dancing\",\"jumpstyle dancing\",\"jumpstyle dancing\",\"jumpstyle dancing\",\"jumpstyle dancing\",\"jumpstyle dancing\",\"jumpstyle dancing\",\"jumpstyle dancing\",\"jumpstyle dancing\",\"jumpstyle dancing\",\"jumpstyle dancing\",\"jumpstyle dancing\",\"jumpstyle dancing\",\"jumpstyle dancing\",\"jumpstyle dancing\",\"jumpstyle dancing\",\"jumpstyle dancing\",\"jumpstyle dancing\",\"jumpstyle dancing\",\"jumpstyle dancing\",\"jumpstyle dancing\",\"jumpstyle dancing\",\"jumpstyle dancing\",\"jumpstyle dancing\",\"jumpstyle dancing\",\"jumpstyle dancing\",\"jumpstyle dancing\",\"jumpstyle dancing\",\"jumpstyle dancing\",\"jumpstyle dancing\",\"jumpstyle dancing\",\"jumpstyle dancing\",\"jumpstyle dancing\",\"jumpstyle dancing\",\"jumpstyle dancing\",\"jumpstyle dancing\",\"jumpstyle dancing\",\"jumpstyle dancing\",\"jumpstyle dancing\",\"jumpstyle dancing\",\"jumpstyle dancing\",\"jumpstyle dancing\",\"jumpstyle dancing\",\"jumpstyle dancing\",\"jumpstyle dancing\",\"jumpstyle dancing\",\"jumpstyle dancing\",\"jumpstyle dancing\",\"jumpstyle dancing\",\"jumpstyle dancing\",\"jumpstyle dancing\",\"jumpstyle dancing\",\"jumpstyle dancing\",\"jumpstyle dancing\",\"jumpstyle dancing\",\"jumpstyle dancing\",\"jumpstyle dancing\",\"jumpstyle dancing\",\"jumpstyle dancing\",\"jumpstyle dancing\",\"jumpstyle dancing\",\"jumpstyle dancing\",\"jumpstyle dancing\",\"jumpstyle dancing\",\"jumpstyle dancing\",\"jumpstyle dancing\",\"jumpstyle dancing\",\"jumpstyle dancing\",\"jumpstyle dancing\",\"jumpstyle dancing\",\"jumpstyle dancing\",\"jumpstyle dancing\",\"jumpstyle dancing\",\"jumpstyle dancing\",\"jumpstyle dancing\",\"jumpstyle dancing\",\"jumpstyle dancing\",\"jumpstyle dancing\",\"jumpstyle dancing\",\"jumpstyle dancing\",\"jumpstyle dancing\",\"jumpstyle dancing\",\"jumpstyle dancing\",\"jumpstyle dancing\",\"jumpstyle dancing\",\"jumpstyle dancing\",\"jumpstyle dancing\",\"jumpstyle dancing\",\"jumpstyle dancing\",\"jumpstyle dancing\",\"jumpstyle dancing\",\"jumpstyle dancing\",\"jumpstyle dancing\",\"jumpstyle dancing\",\"jumpstyle dancing\",\"jumpstyle dancing\",\"jumpstyle dancing\",\"jumpstyle dancing\",\"jumpstyle dancing\",\"jumpstyle dancing\",\"jumpstyle dancing\",\"jumpstyle dancing\",\"jumpstyle dancing\",\"jumpstyle dancing\",\"jumpstyle dancing\",\"jumpstyle dancing\",\"jumpstyle dancing\",\"jumpstyle dancing\",\"jumpstyle dancing\",\"jumpstyle dancing\",\"jumpstyle dancing\",\"jumpstyle dancing\",\"jumpstyle dancing\",\"jumpstyle dancing\",\"jumpstyle dancing\",\"jumpstyle dancing\",\"jumpstyle dancing\",\"jumpstyle dancing\",\"jumpstyle dancing\",\"jumpstyle dancing\",\"jumpstyle dancing\",\"jumpstyle dancing\",\"jumpstyle dancing\",\"jumpstyle dancing\",\"jumpstyle dancing\",\"jumpstyle dancing\",\"jumpstyle dancing\",\"jumpstyle dancing\",\"jumpstyle dancing\",\"jumpstyle dancing\",\"jumpstyle dancing\",\"jumpstyle dancing\",\"jumpstyle dancing\",\"jumpstyle dancing\",\"jumpstyle dancing\",\"jumpstyle dancing\",\"jumpstyle dancing\",\"jumpstyle dancing\",\"jumpstyle dancing\",\"jumpstyle dancing\",\"jumpstyle dancing\",\"jumpstyle dancing\",\"jumpstyle dancing\",\"jumpstyle dancing\",\"jumpstyle dancing\",\"jumpstyle dancing\",\"jumpstyle dancing\",\"jumpstyle dancing\",\"jumpstyle dancing\",\"jumpstyle dancing\",\"jumpstyle dancing\",\"jumpstyle dancing\",\"jumpstyle dancing\",\"jumpstyle dancing\",\"jumpstyle dancing\",\"jumpstyle dancing\",\"jumpstyle dancing\",\"jumpstyle dancing\",\"jumpstyle dancing\",\"jumpstyle dancing\",\"jumpstyle dancing\",\"jumpstyle dancing\",\"jumpstyle dancing\",\"jumpstyle dancing\",\"jumpstyle dancing\",\"jumpstyle dancing\",\"jumpstyle dancing\",\"jumpstyle dancing\",\"jumpstyle dancing\",\"jumpstyle dancing\",\"jumpstyle dancing\",\"jumpstyle dancing\",\"jumpstyle dancing\",\"jumpstyle dancing\",\"jumpstyle dancing\",\"jumpstyle dancing\",\"jumpstyle dancing\",\"jumpstyle dancing\",\"jumpstyle dancing\",\"jumpstyle dancing\",\"jumpstyle dancing\",\"jumpstyle dancing\",\"jumpstyle dancing\",\"jumpstyle dancing\",\"jumpstyle dancing\",\"jumpstyle dancing\",\"jumpstyle dancing\",\"jumpstyle dancing\",\"jumpstyle dancing\",\"jumpstyle dancing\",\"jumpstyle dancing\",\"jumpstyle dancing\",\"jumpstyle dancing\",\"jumpstyle dancing\",\"jumpstyle dancing\",\"jumpstyle dancing\",\"jumpstyle dancing\",\"jumpstyle dancing\",\"jumpstyle dancing\",\"jumpstyle dancing\",\"jumpstyle dancing\",\"jumpstyle dancing\",\"jumpstyle dancing\",\"jumpstyle dancing\",\"jumpstyle dancing\",\"jumpstyle dancing\",\"jumpstyle dancing\",\"jumpstyle dancing\",\"jumpstyle dancing\",\"jumpstyle dancing\",\"jumpstyle dancing\",\"jumpstyle dancing\",\"jumpstyle dancing\",\"jumpstyle dancing\",\"jumpstyle dancing\",\"jumpstyle dancing\",\"jumpstyle dancing\",\"jumpstyle dancing\",\"jumpstyle dancing\",\"jumpstyle dancing\",\"jumpstyle dancing\",\"jumpstyle dancing\",\"jumpstyle dancing\",\"jumpstyle dancing\",\"jumpstyle dancing\",\"jumpstyle dancing\",\"jumpstyle dancing\",\"jumpstyle dancing\",\"jumpstyle dancing\",\"jumpstyle dancing\",\"jumpstyle dancing\",\"jumpstyle dancing\",\"jumpstyle dancing\",\"jumpstyle dancing\",\"jumpstyle dancing\",\"jumpstyle dancing\",\"jumpstyle dancing\",\"jumpstyle dancing\",\"jumpstyle dancing\",\"jumpstyle dancing\",\"jumpstyle dancing\",\"jumpstyle dancing\",\"jumpstyle dancing\",\"jumpstyle dancing\",\"jumpstyle dancing\",\"jumpstyle dancing\",\"jumpstyle dancing\",\"jumpstyle dancing\",\"jumpstyle dancing\",\"jumpstyle dancing\",\"jumpstyle dancing\",\"jumpstyle dancing\",\"jumpstyle dancing\",\"jumpstyle dancing\",\"jumpstyle dancing\",\"jumpstyle dancing\",\"jumpstyle dancing\",\"jumpstyle dancing\",\"jumpstyle dancing\",\"jumpstyle dancing\",\"jumpstyle dancing\",\"jumpstyle dancing\",\"jumpstyle dancing\",\"jumpstyle dancing\",\"jumpstyle dancing\",\"jumpstyle dancing\",\"jumpstyle dancing\",\"jumpstyle dancing\",\"jumpstyle dancing\",\"jumpstyle dancing\",\"jumpstyle dancing\",\"jumpstyle dancing\",\"jumpstyle dancing\",\"jumpstyle dancing\",\"jumpstyle dancing\",\"jumpstyle dancing\",\"jumpstyle dancing\",\"jumpstyle dancing\",\"jumpstyle dancing\",\"jumpstyle dancing\",\"jumpstyle dancing\",\"jumpstyle dancing\",\"jumpstyle dancing\",\"jumpstyle dancing\",\"jumpstyle dancing\",\"jumpstyle dancing\",\"jumpstyle dancing\",\"jumpstyle dancing\",\"jumpstyle dancing\",\"jumpstyle dancing\",\"jumpstyle dancing\",\"jumpstyle dancing\",\"jumpstyle dancing\",\"jumpstyle dancing\",\"jumpstyle dancing\",\"jumpstyle dancing\",\"jumpstyle dancing\",\"jumpstyle dancing\",\"jumpstyle dancing\",\"jumpstyle dancing\",\"jumpstyle dancing\",\"jumpstyle dancing\",\"jumpstyle dancing\",\"jumpstyle dancing\",\"jumpstyle dancing\",\"jumpstyle dancing\",\"jumpstyle dancing\",\"jumpstyle dancing\",\"jumpstyle dancing\",\"jumpstyle dancing\",\"jumpstyle dancing\",\"jumpstyle dancing\",\"jumpstyle dancing\",\"jumpstyle dancing\",\"jumpstyle dancing\",\"jumpstyle dancing\",\"jumpstyle dancing\",\"jumpstyle dancing\",\"jumpstyle dancing\",\"jumpstyle dancing\",\"jumpstyle dancing\",\"jumpstyle dancing\",\"jumpstyle dancing\",\"jumpstyle dancing\",\"jumpstyle dancing\",\"jumpstyle dancing\",\"jumpstyle dancing\",\"jumpstyle dancing\",\"jumpstyle dancing\",\"jumpstyle dancing\",\"jumpstyle dancing\",\"jumpstyle dancing\",\"jumpstyle dancing\",\"jumpstyle dancing\",\"jumpstyle dancing\",\"jumpstyle dancing\",\"jumpstyle dancing\",\"jumpstyle dancing\",\"jumpstyle dancing\",\"jumpstyle dancing\",\"jumpstyle dancing\",\"jumpstyle dancing\",\"jumpstyle dancing\",\"jumpstyle dancing\",\"jumpstyle dancing\",\"jumpstyle dancing\",\"jumpstyle dancing\",\"jumpstyle dancing\",\"jumpstyle dancing\",\"jumpstyle dancing\",\"jumpstyle dancing\",\"jumpstyle dancing\",\"jumpstyle dancing\",\"jumpstyle dancing\",\"jumpstyle dancing\",\"jumpstyle dancing\",\"jumpstyle dancing\",\"jumpstyle dancing\",\"jumpstyle dancing\",\"jumpstyle dancing\",\"jumpstyle dancing\",\"jumpstyle dancing\",\"jumpstyle dancing\",\"jumpstyle dancing\",\"jumpstyle dancing\",\"jumpstyle dancing\",\"jumpstyle dancing\",\"jumpstyle dancing\",\"jumpstyle dancing\",\"jumpstyle dancing\",\"jumpstyle dancing\",\"jumpstyle dancing\",\"jumpstyle dancing\",\"jumpstyle dancing\",\"jumpstyle dancing\",\"jumpstyle dancing\",\"jumpstyle dancing\",\"jumpstyle dancing\",\"jumpstyle dancing\",\"jumpstyle dancing\",\"jumpstyle dancing\",\"jumpstyle dancing\",\"jumpstyle dancing\",\"jumpstyle dancing\",\"jumpstyle dancing\",\"jumpstyle dancing\",\"jumpstyle dancing\",\"jumpstyle dancing\",\"jumpstyle dancing\",\"jumpstyle dancing\",\"jumpstyle dancing\",\"jumpstyle dancing\",\"jumpstyle dancing\",\"jumpstyle dancing\",\"jumpstyle dancing\",\"jumpstyle dancing\",\"jumpstyle dancing\",\"jumpstyle dancing\",\"jumpstyle dancing\",\"jumpstyle dancing\",\"jumpstyle dancing\",\"jumpstyle dancing\",\"jumpstyle dancing\",\"jumpstyle dancing\",\"jumpstyle dancing\",\"jumpstyle dancing\",\"jumpstyle dancing\",\"jumpstyle dancing\",\"jumpstyle dancing\",\"jumpstyle dancing\",\"jumpstyle dancing\",\"jumpstyle dancing\",\"jumpstyle dancing\",\"jumpstyle dancing\",\"jumpstyle dancing\",\"jumpstyle dancing\",\"jumpstyle dancing\",\"jumpstyle dancing\",\"jumpstyle dancing\",\"jumpstyle dancing\",\"jumpstyle dancing\",\"jumpstyle dancing\",\"jumpstyle dancing\",\"jumpstyle dancing\",\"jumpstyle dancing\",\"jumpstyle dancing\",\"jumpstyle dancing\",\"jumpstyle dancing\",\"jumpstyle dancing\",\"jumpstyle dancing\",\"jumpstyle dancing\",\"jumpstyle dancing\",\"jumpstyle dancing\",\"jumpstyle dancing\",\"jumpstyle dancing\",\"jumpstyle dancing\",\"jumpstyle dancing\",\"jumpstyle dancing\",\"jumpstyle dancing\",\"jumpstyle dancing\",\"jumpstyle dancing\",\"jumpstyle dancing\",\"jumpstyle dancing\",\"jumpstyle dancing\",\"jumpstyle dancing\",\"jumpstyle dancing\",\"jumpstyle dancing\",\"jumpstyle dancing\",\"jumpstyle dancing\",\"jumpstyle dancing\",\"jumpstyle dancing\",\"jumpstyle dancing\",\"jumpstyle dancing\",\"jumpstyle dancing\",\"jumpstyle dancing\",\"jumpstyle dancing\",\"jumpstyle dancing\",\"jumpstyle dancing\",\"jumpstyle dancing\",\"jumpstyle dancing\",\"jumpstyle dancing\",\"jumpstyle dancing\",\"jumpstyle dancing\",\"jumpstyle dancing\",\"jumpstyle dancing\",\"jumpstyle dancing\",\"jumpstyle dancing\",\"jumpstyle dancing\",\"jumpstyle dancing\",\"jumpstyle dancing\",\"jumpstyle dancing\",\"jumpstyle dancing\",\"jumpstyle dancing\",\"jumpstyle dancing\",\"jumpstyle dancing\",\"jumpstyle dancing\",\"jumpstyle dancing\",\"jumpstyle dancing\",\"jumpstyle dancing\",\"jumpstyle dancing\",\"jumpstyle dancing\",\"jumpstyle dancing\",\"jumpstyle dancing\",\"jumpstyle dancing\",\"jumpstyle dancing\",\"jumpstyle dancing\",\"jumpstyle dancing\",\"jumpstyle dancing\",\"jumpstyle dancing\",\"jumpstyle dancing\",\"jumpstyle dancing\",\"jumpstyle dancing\",\"jumpstyle dancing\",\"jumpstyle dancing\",\"jumpstyle dancing\",\"jumpstyle dancing\",\"jumpstyle dancing\",\"jumpstyle dancing\",\"jumpstyle dancing\",\"jumpstyle dancing\",\"jumpstyle dancing\",\"jumpstyle dancing\",\"jumpstyle dancing\",\"jumpstyle dancing\",\"jumpstyle dancing\",\"jumpstyle dancing\",\"jumpstyle dancing\",\"jumpstyle dancing\",\"jumpstyle dancing\",\"jumpstyle dancing\",\"jumpstyle dancing\",\"jumpstyle dancing\",\"jumpstyle dancing\",\"jumpstyle dancing\",\"jumpstyle dancing\",\"jumpstyle dancing\",\"jumpstyle dancing\",\"jumpstyle dancing\",\"jumpstyle dancing\",\"jumpstyle dancing\",\"jumpstyle dancing\",\"jumpstyle dancing\",\"jumpstyle dancing\",\"jumpstyle dancing\",\"jumpstyle dancing\",\"jumpstyle dancing\",\"jumpstyle dancing\",\"jumpstyle dancing\",\"jumpstyle dancing\",\"jumpstyle dancing\",\"jumpstyle dancing\",\"jumpstyle dancing\",\"jumpstyle dancing\",\"jumpstyle dancing\",\"jumpstyle dancing\",\"jumpstyle dancing\",\"jumpstyle dancing\",\"jumpstyle dancing\",\"jumpstyle dancing\",\"jumpstyle dancing\",\"jumpstyle dancing\",\"jumpstyle dancing\",\"jumpstyle dancing\",\"jumpstyle dancing\",\"jumpstyle dancing\",\"jumpstyle dancing\",\"jumpstyle dancing\",\"jumpstyle dancing\",\"jumpstyle dancing\",\"jumpstyle dancing\",\"jumpstyle dancing\",\"jumpstyle dancing\",\"jumpstyle dancing\",\"jumpstyle dancing\",\"jumpstyle dancing\",\"jumpstyle dancing\",\"jumpstyle dancing\",\"jumpstyle dancing\",\"jumpstyle dancing\",\"jumpstyle dancing\",\"jumpstyle dancing\",\"jumpstyle dancing\",\"jumpstyle dancing\",\"jumpstyle dancing\",\"jumpstyle dancing\",\"jumpstyle dancing\",\"jumpstyle dancing\",\"jumpstyle dancing\",\"jumpstyle dancing\",\"jumpstyle dancing\",\"jumpstyle dancing\",\"jumpstyle dancing\",\"jumpstyle dancing\",\"jumpstyle dancing\",\"jumpstyle dancing\",\"jumpstyle dancing\",\"jumpstyle dancing\",\"jumpstyle dancing\",\"jumpstyle dancing\",\"jumpstyle dancing\",\"jumpstyle dancing\",\"jumpstyle dancing\",\"jumpstyle dancing\",\"jumpstyle dancing\",\"jumpstyle dancing\",\"jumpstyle dancing\",\"jumpstyle dancing\",\"jumpstyle dancing\",\"jumpstyle dancing\",\"jumpstyle dancing\",\"jumpstyle dancing\",\"jumpstyle dancing\",\"jumpstyle dancing\",\"jumpstyle dancing\",\"jumpstyle dancing\",\"jumpstyle dancing\",\"jumpstyle dancing\",\"jumpstyle dancing\",\"jumpstyle dancing\",\"jumpstyle dancing\",\"jumpstyle dancing\",\"jumpstyle dancing\",\"jumpstyle dancing\",\"jumpstyle dancing\",\"jumpstyle dancing\",\"jumpstyle dancing\",\"jumpstyle dancing\",\"jumpstyle dancing\",\"jumpstyle dancing\",\"jumpstyle dancing\",\"jumpstyle dancing\",\"jumpstyle dancing\",\"jumpstyle dancing\",\"jumpstyle dancing\",\"jumpstyle dancing\",\"jumpstyle dancing\",\"jumpstyle dancing\",\"jumpstyle dancing\",\"jumpstyle dancing\",\"jumpstyle dancing\",\"jumpstyle dancing\",\"jumpstyle dancing\",\"jumpstyle dancing\",\"jumpstyle dancing\",\"jumpstyle dancing\",\"jumpstyle dancing\",\"jumpstyle dancing\",\"jumpstyle dancing\",\"jumpstyle dancing\",\"jumpstyle dancing\",\"jumpstyle dancing\",\"jumpstyle dancing\",\"jumpstyle dancing\",\"jumpstyle dancing\",\"jumpstyle dancing\",\"jumpstyle dancing\",\"jumpstyle dancing\",\"jumpstyle dancing\",\"jumpstyle dancing\",\"jumpstyle dancing\",\"jumpstyle dancing\",\"jumpstyle dancing\",\"jumpstyle dancing\",\"jumpstyle dancing\",\"jumpstyle dancing\",\"jumpstyle dancing\",\"jumpstyle dancing\",\"jumpstyle dancing\",\"jumpstyle dancing\",\"jumpstyle dancing\",\"jumpstyle dancing\",\"jumpstyle dancing\",\"jumpstyle dancing\",\"jumpstyle dancing\",\"jumpstyle dancing\",\"jumpstyle dancing\",\"jumpstyle dancing\",\"jumpstyle dancing\",\"jumpstyle dancing\",\"jumpstyle dancing\",\"jumpstyle dancing\",\"jumpstyle dancing\",\"jumpstyle dancing\",\"jumpstyle dancing\",\"jumpstyle dancing\",\"jumpstyle dancing\",\"jumpstyle dancing\",\"jumpstyle dancing\",\"jumpstyle dancing\",\"jumpstyle dancing\",\"jumpstyle dancing\",\"jumpstyle dancing\",\"jumpstyle dancing\",\"jumpstyle dancing\",\"jumpstyle dancing\",\"jumpstyle dancing\",\"jumpstyle dancing\",\"jumpstyle dancing\",\"jumpstyle dancing\",\"jumpstyle dancing\",\"jumpstyle dancing\",\"jumpstyle dancing\",\"jumpstyle dancing\",\"jumpstyle dancing\",\"jumpstyle dancing\",\"jumpstyle dancing\",\"jumpstyle dancing\",\"jumpstyle dancing\",\"jumpstyle dancing\",\"jumpstyle dancing\",\"jumpstyle dancing\",\"jumpstyle dancing\",\"jumpstyle dancing\",\"jumpstyle dancing\",\"jumpstyle dancing\",\"jumpstyle dancing\",\"jumpstyle dancing\",\"jumpstyle dancing\",\"jumpstyle dancing\",\"jumpstyle dancing\",\"jumpstyle dancing\",\"jumpstyle dancing\",\"jumpstyle dancing\",\"jumpstyle dancing\",\"jumpstyle dancing\",\"jumpstyle dancing\",\"jumpstyle dancing\",\"jumpstyle dancing\",\"jumpstyle dancing\",\"jumpstyle dancing\",\"jumpstyle dancing\",\"jumpstyle dancing\",\"jumpstyle dancing\",\"jumpstyle dancing\",\"jumpstyle dancing\",\"jumpstyle dancing\",\"jumpstyle dancing\",\"jumpstyle dancing\",\"jumpstyle dancing\",\"jumpstyle dancing\",\"jumpstyle dancing\",\"jumpstyle dancing\",\"jumpstyle dancing\",\"jumpstyle dancing\",\"jumpstyle dancing\",\"jumpstyle dancing\",\"jumpstyle dancing\",\"jumpstyle dancing\",\"jumpstyle dancing\",\"jumpstyle dancing\",\"jumpstyle dancing\",\"jumpstyle dancing\",\"jumpstyle dancing\",\"jumpstyle dancing\",\"jumpstyle dancing\",\"jumpstyle dancing\",\"jumpstyle dancing\",\"jumpstyle dancing\",\"jumpstyle dancing\",\"jumpstyle dancing\",\"jumpstyle dancing\",\"jumpstyle dancing\",\"jumpstyle dancing\",\"jumpstyle dancing\",\"jumpstyle dancing\",\"jumpstyle dancing\",\"jumpstyle dancing\",\"jumpstyle dancing\",\"jumpstyle dancing\",\"jumpstyle dancing\",\"jumpstyle dancing\",\"jumpstyle dancing\",\"jumpstyle dancing\",\"jumpstyle dancing\",\"jumpstyle dancing\",\"jumpstyle dancing\",\"jumpstyle dancing\",\"jumpstyle dancing\",\"jumpstyle dancing\",\"jumpstyle dancing\",\"jumpstyle dancing\",\"jumpstyle dancing\",\"jumpstyle dancing\",\"jumpstyle dancing\",\"jumpstyle dancing\",\"jumpstyle dancing\",\"jumpstyle dancing\",\"jumpstyle dancing\",\"jumpstyle dancing\",\"jumpstyle dancing\",\"jumpstyle dancing\",\"jumpstyle dancing\",\"jumpstyle dancing\",\"jumpstyle dancing\",\"jumpstyle dancing\",\"jumpstyle dancing\",\"jumpstyle dancing\",\"jumpstyle dancing\",\"jumpstyle dancing\",\"jumpstyle dancing\",\"jumpstyle dancing\",\"jumpstyle dancing\",\"jumpstyle dancing\",\"jumpstyle dancing\",\"jumpstyle dancing\",\"jumpstyle dancing\",\"jumpstyle dancing\",\"jumpstyle dancing\",\"jumpstyle dancing\",\"jumpstyle dancing\",\"jumpstyle dancing\",\"jumpstyle dancing\",\"jumpstyle dancing\",\"jumpstyle dancing\",\"jumpstyle dancing\",\"jumpstyle dancing\",\"jumpstyle dancing\",\"jumpstyle dancing\",\"jumpstyle dancing\",\"jumpstyle dancing\",\"jumpstyle dancing\",\"jumpstyle dancing\",\"jumpstyle dancing\",\"jumpstyle dancing\",\"jumpstyle dancing\",\"jumpstyle dancing\",\"jumpstyle dancing\",\"jumpstyle dancing\",\"jumpstyle dancing\",\"jumpstyle dancing\",\"jumpstyle dancing\",\"jumpstyle dancing\",\"jumpstyle dancing\",\"jumpstyle dancing\",\"jumpstyle dancing\",\"jumpstyle dancing\",\"jumpstyle dancing\",\"jumpstyle dancing\",\"jumpstyle dancing\",\"jumpstyle dancing\",\"jumpstyle dancing\",\"jumpstyle dancing\",\"jumpstyle dancing\",\"jumpstyle dancing\",\"jumpstyle dancing\",\"jumpstyle dancing\",\"jumpstyle dancing\",\"jumpstyle dancing\",\"jumpstyle dancing\",\"jumpstyle dancing\",\"jumpstyle dancing\",\"jumpstyle dancing\",\"jumpstyle dancing\",\"jumpstyle dancing\",\"jumpstyle dancing\",\"jumpstyle dancing\",\"jumpstyle dancing\",\"jumpstyle dancing\",\"jumpstyle dancing\",\"jumpstyle dancing\",\"jumpstyle dancing\",\"jumpstyle dancing\",\"jumpstyle dancing\",\"jumpstyle dancing\",\"jumpstyle dancing\",\"jumpstyle dancing\",\"jumpstyle dancing\",\"jumpstyle dancing\",\"jumpstyle dancing\",\"jumpstyle dancing\",\"jumpstyle dancing\",\"jumpstyle dancing\",\"jumpstyle dancing\",\"jumpstyle dancing\",\"jumpstyle dancing\",\"jumpstyle dancing\",\"jumpstyle dancing\",\"jumpstyle dancing\",\"jumpstyle dancing\",\"jumpstyle dancing\",\"jumpstyle dancing\",\"jumpstyle dancing\",\"jumpstyle dancing\",\"jumpstyle dancing\",\"jumpstyle dancing\",\"jumpstyle dancing\",\"jumpstyle dancing\",\"jumpstyle dancing\",\"jumpstyle dancing\",\"jumpstyle dancing\",\"jumpstyle dancing\",\"jumpstyle dancing\",\"jumpstyle dancing\",\"jumpstyle dancing\",\"jumpstyle dancing\",\"jumpstyle dancing\",\"jumpstyle dancing\",\"jumpstyle dancing\",\"mosh pit dancing\",\"mosh pit dancing\",\"mosh pit dancing\",\"mosh pit dancing\",\"mosh pit dancing\",\"mosh pit dancing\",\"mosh pit dancing\",\"mosh pit dancing\",\"mosh pit dancing\",\"mosh pit dancing\",\"mosh pit dancing\",\"mosh pit dancing\",\"mosh pit dancing\",\"mosh pit dancing\",\"mosh pit dancing\",\"mosh pit dancing\",\"mosh pit dancing\",\"mosh pit dancing\",\"mosh pit dancing\",\"mosh pit dancing\",\"mosh pit dancing\",\"mosh pit dancing\",\"mosh pit dancing\",\"mosh pit dancing\",\"mosh pit dancing\",\"mosh pit dancing\",\"mosh pit dancing\",\"mosh pit dancing\",\"mosh pit dancing\",\"mosh pit dancing\",\"mosh pit dancing\",\"mosh pit dancing\",\"mosh pit dancing\",\"mosh pit dancing\",\"mosh pit dancing\",\"mosh pit dancing\",\"mosh pit dancing\",\"mosh pit dancing\",\"mosh pit dancing\",\"mosh pit dancing\",\"mosh pit dancing\",\"mosh pit dancing\",\"mosh pit dancing\",\"mosh pit dancing\",\"mosh pit dancing\",\"mosh pit dancing\",\"mosh pit dancing\",\"mosh pit dancing\",\"mosh pit dancing\",\"mosh pit dancing\",\"mosh pit dancing\",\"mosh pit dancing\",\"mosh pit dancing\",\"mosh pit dancing\",\"mosh pit dancing\",\"mosh pit dancing\",\"mosh pit dancing\",\"mosh pit dancing\",\"mosh pit dancing\",\"mosh pit dancing\",\"mosh pit dancing\",\"mosh pit dancing\",\"mosh pit dancing\",\"mosh pit dancing\",\"mosh pit dancing\",\"mosh pit dancing\",\"mosh pit dancing\",\"mosh pit dancing\",\"mosh pit dancing\",\"mosh pit dancing\",\"mosh pit dancing\",\"mosh pit dancing\",\"mosh pit dancing\",\"mosh pit dancing\",\"mosh pit dancing\",\"mosh pit dancing\",\"mosh pit dancing\",\"mosh pit dancing\",\"mosh pit dancing\",\"mosh pit dancing\",\"mosh pit dancing\",\"mosh pit dancing\",\"mosh pit dancing\",\"mosh pit dancing\",\"mosh pit dancing\",\"mosh pit dancing\",\"mosh pit dancing\",\"mosh pit dancing\",\"mosh pit dancing\",\"mosh pit dancing\",\"mosh pit dancing\",\"mosh pit dancing\",\"mosh pit dancing\",\"mosh pit dancing\",\"mosh pit dancing\",\"mosh pit dancing\",\"mosh pit dancing\",\"mosh pit dancing\",\"mosh pit dancing\",\"mosh pit dancing\",\"mosh pit dancing\",\"mosh pit dancing\",\"mosh pit dancing\",\"mosh pit dancing\",\"mosh pit dancing\",\"mosh pit dancing\",\"mosh pit dancing\",\"mosh pit dancing\",\"mosh pit dancing\",\"mosh pit dancing\",\"mosh pit dancing\",\"mosh pit dancing\",\"mosh pit dancing\",\"mosh pit dancing\",\"mosh pit dancing\",\"mosh pit dancing\",\"mosh pit dancing\",\"mosh pit dancing\",\"mosh pit dancing\",\"mosh pit dancing\",\"mosh pit dancing\",\"mosh pit dancing\",\"mosh pit dancing\",\"mosh pit dancing\",\"mosh pit dancing\",\"mosh pit dancing\",\"mosh pit dancing\",\"mosh pit dancing\",\"mosh pit dancing\",\"mosh pit dancing\",\"mosh pit dancing\",\"mosh pit dancing\",\"mosh pit dancing\",\"mosh pit dancing\",\"mosh pit dancing\",\"mosh pit dancing\",\"mosh pit dancing\",\"mosh pit dancing\",\"mosh pit dancing\",\"mosh pit dancing\",\"mosh pit dancing\",\"mosh pit dancing\",\"mosh pit dancing\",\"mosh pit dancing\",\"mosh pit dancing\",\"mosh pit dancing\",\"mosh pit dancing\",\"mosh pit dancing\",\"mosh pit dancing\",\"mosh pit dancing\",\"mosh pit dancing\",\"mosh pit dancing\",\"mosh pit dancing\",\"mosh pit dancing\",\"mosh pit dancing\",\"mosh pit dancing\",\"mosh pit dancing\",\"mosh pit dancing\",\"mosh pit dancing\",\"mosh pit dancing\",\"mosh pit dancing\",\"mosh pit dancing\",\"mosh pit dancing\",\"mosh pit dancing\",\"mosh pit dancing\",\"mosh pit dancing\",\"mosh pit dancing\",\"mosh pit dancing\",\"mosh pit dancing\",\"mosh pit dancing\",\"mosh pit dancing\",\"mosh pit dancing\",\"mosh pit dancing\",\"mosh pit dancing\",\"mosh pit dancing\",\"mosh pit dancing\",\"mosh pit dancing\",\"mosh pit dancing\",\"mosh pit dancing\",\"mosh pit dancing\",\"mosh pit dancing\",\"mosh pit dancing\",\"mosh pit dancing\",\"mosh pit dancing\",\"mosh pit dancing\",\"mosh pit dancing\",\"mosh pit dancing\",\"mosh pit dancing\",\"mosh pit dancing\",\"mosh pit dancing\",\"mosh pit dancing\",\"mosh pit dancing\",\"mosh pit dancing\",\"mosh pit dancing\",\"mosh pit dancing\",\"mosh pit dancing\",\"mosh pit dancing\",\"mosh pit dancing\",\"mosh pit dancing\",\"mosh pit dancing\",\"mosh pit dancing\",\"mosh pit dancing\",\"mosh pit dancing\",\"mosh pit dancing\",\"mosh pit dancing\",\"mosh pit dancing\",\"mosh pit dancing\",\"mosh pit dancing\",\"mosh pit dancing\",\"mosh pit dancing\",\"mosh pit dancing\",\"mosh pit dancing\",\"mosh pit dancing\",\"mosh pit dancing\",\"mosh pit dancing\",\"mosh pit dancing\",\"mosh pit dancing\",\"mosh pit dancing\",\"mosh pit dancing\",\"mosh pit dancing\",\"mosh pit dancing\",\"mosh pit dancing\",\"mosh pit dancing\",\"mosh pit dancing\",\"mosh pit dancing\",\"mosh pit dancing\",\"mosh pit dancing\",\"mosh pit dancing\",\"mosh pit dancing\",\"mosh pit dancing\",\"mosh pit dancing\",\"mosh pit dancing\",\"mosh pit dancing\",\"mosh pit dancing\",\"mosh pit dancing\",\"mosh pit dancing\",\"mosh pit dancing\",\"mosh pit dancing\",\"mosh pit dancing\",\"mosh pit dancing\",\"mosh pit dancing\",\"mosh pit dancing\",\"mosh pit dancing\",\"mosh pit dancing\",\"mosh pit dancing\",\"mosh pit dancing\",\"mosh pit dancing\",\"mosh pit dancing\",\"mosh pit dancing\",\"mosh pit dancing\",\"mosh pit dancing\",\"mosh pit dancing\",\"mosh pit dancing\",\"mosh pit dancing\",\"mosh pit dancing\",\"mosh pit dancing\",\"mosh pit dancing\",\"mosh pit dancing\",\"mosh pit dancing\",\"mosh pit dancing\",\"mosh pit dancing\",\"mosh pit dancing\",\"mosh pit dancing\",\"mosh pit dancing\",\"mosh pit dancing\",\"mosh pit dancing\",\"mosh pit dancing\",\"mosh pit dancing\",\"mosh pit dancing\",\"mosh pit dancing\",\"mosh pit dancing\",\"mosh pit dancing\",\"mosh pit dancing\",\"mosh pit dancing\",\"mosh pit dancing\",\"mosh pit dancing\",\"mosh pit dancing\",\"mosh pit dancing\",\"mosh pit dancing\",\"mosh pit dancing\",\"mosh pit dancing\",\"mosh pit dancing\",\"mosh pit dancing\",\"mosh pit dancing\",\"mosh pit dancing\",\"mosh pit dancing\",\"mosh pit dancing\",\"mosh pit dancing\",\"mosh pit dancing\",\"mosh pit dancing\",\"mosh pit dancing\",\"mosh pit dancing\",\"mosh pit dancing\",\"mosh pit dancing\",\"mosh pit dancing\",\"mosh pit dancing\",\"mosh pit dancing\",\"mosh pit dancing\",\"mosh pit dancing\",\"mosh pit dancing\",\"mosh pit dancing\",\"mosh pit dancing\",\"mosh pit dancing\",\"mosh pit dancing\",\"mosh pit dancing\",\"mosh pit dancing\",\"mosh pit dancing\",\"mosh pit dancing\",\"mosh pit dancing\",\"mosh pit dancing\",\"mosh pit dancing\",\"mosh pit dancing\",\"mosh pit dancing\",\"mosh pit dancing\",\"mosh pit dancing\",\"mosh pit dancing\",\"mosh pit dancing\",\"mosh pit dancing\",\"mosh pit dancing\",\"mosh pit dancing\",\"mosh pit dancing\",\"mosh pit dancing\",\"mosh pit dancing\",\"mosh pit dancing\",\"mosh pit dancing\",\"mosh pit dancing\",\"mosh pit dancing\",\"mosh pit dancing\",\"mosh pit dancing\",\"mosh pit dancing\",\"mosh pit dancing\",\"mosh pit dancing\",\"mosh pit dancing\",\"mosh pit dancing\",\"mosh pit dancing\",\"mosh pit dancing\",\"mosh pit dancing\",\"mosh pit dancing\",\"mosh pit dancing\",\"mosh pit dancing\",\"mosh pit dancing\",\"mosh pit dancing\",\"mosh pit dancing\",\"mosh pit dancing\",\"mosh pit dancing\",\"mosh pit dancing\",\"mosh pit dancing\",\"mosh pit dancing\",\"mosh pit dancing\",\"mosh pit dancing\",\"mosh pit dancing\",\"mosh pit dancing\",\"mosh pit dancing\",\"mosh pit dancing\",\"mosh pit dancing\",\"mosh pit dancing\",\"mosh pit dancing\",\"mosh pit dancing\",\"mosh pit dancing\",\"mosh pit dancing\",\"mosh pit dancing\",\"mosh pit dancing\",\"mosh pit dancing\",\"mosh pit dancing\",\"mosh pit dancing\",\"mosh pit dancing\",\"mosh pit dancing\",\"mosh pit dancing\",\"mosh pit dancing\",\"mosh pit dancing\",\"mosh pit dancing\",\"mosh pit dancing\",\"mosh pit dancing\",\"mosh pit dancing\",\"mosh pit dancing\",\"mosh pit dancing\",\"mosh pit dancing\",\"mosh pit dancing\",\"mosh pit dancing\",\"mosh pit dancing\",\"mosh pit dancing\",\"mosh pit dancing\",\"mosh pit dancing\",\"mosh pit dancing\",\"mosh pit dancing\",\"mosh pit dancing\",\"mosh pit dancing\",\"mosh pit dancing\",\"mosh pit dancing\",\"mosh pit dancing\",\"mosh pit dancing\",\"mosh pit dancing\",\"mosh pit dancing\",\"mosh pit dancing\",\"mosh pit dancing\",\"mosh pit dancing\",\"mosh pit dancing\",\"mosh pit dancing\",\"mosh pit dancing\",\"mosh pit dancing\",\"mosh pit dancing\",\"mosh pit dancing\",\"mosh pit dancing\",\"mosh pit dancing\",\"mosh pit dancing\",\"mosh pit dancing\",\"mosh pit dancing\",\"mosh pit dancing\",\"mosh pit dancing\",\"mosh pit dancing\",\"mosh pit dancing\",\"mosh pit dancing\",\"mosh pit dancing\",\"mosh pit dancing\",\"mosh pit dancing\",\"mosh pit dancing\",\"mosh pit dancing\",\"mosh pit dancing\",\"mosh pit dancing\",\"mosh pit dancing\",\"mosh pit dancing\",\"mosh pit dancing\",\"mosh pit dancing\",\"mosh pit dancing\",\"mosh pit dancing\",\"mosh pit dancing\",\"mosh pit dancing\",\"mosh pit dancing\",\"mosh pit dancing\",\"mosh pit dancing\",\"mosh pit dancing\",\"mosh pit dancing\",\"mosh pit dancing\",\"mosh pit dancing\",\"mosh pit dancing\",\"mosh pit dancing\",\"mosh pit dancing\",\"mosh pit dancing\",\"mosh pit dancing\",\"mosh pit dancing\",\"mosh pit dancing\",\"mosh pit dancing\",\"mosh pit dancing\",\"mosh pit dancing\",\"mosh pit dancing\",\"mosh pit dancing\",\"mosh pit dancing\",\"mosh pit dancing\",\"mosh pit dancing\",\"mosh pit dancing\",\"mosh pit dancing\",\"mosh pit dancing\",\"mosh pit dancing\",\"mosh pit dancing\",\"mosh pit dancing\",\"mosh pit dancing\",\"mosh pit dancing\",\"mosh pit dancing\",\"mosh pit dancing\",\"mosh pit dancing\",\"mosh pit dancing\",\"mosh pit dancing\",\"mosh pit dancing\",\"mosh pit dancing\",\"mosh pit dancing\",\"mosh pit dancing\",\"mosh pit dancing\",\"mosh pit dancing\",\"mosh pit dancing\",\"mosh pit dancing\",\"mosh pit dancing\",\"mosh pit dancing\",\"mosh pit dancing\",\"mosh pit dancing\",\"mosh pit dancing\",\"mosh pit dancing\",\"mosh pit dancing\",\"mosh pit dancing\",\"mosh pit dancing\",\"mosh pit dancing\",\"mosh pit dancing\",\"mosh pit dancing\",\"mosh pit dancing\",\"mosh pit dancing\",\"mosh pit dancing\",\"mosh pit dancing\",\"mosh pit dancing\",\"mosh pit dancing\",\"mosh pit dancing\",\"mosh pit dancing\",\"mosh pit dancing\",\"mosh pit dancing\",\"mosh pit dancing\",\"mosh pit dancing\",\"mosh pit dancing\",\"mosh pit dancing\",\"mosh pit dancing\",\"mosh pit dancing\",\"mosh pit dancing\",\"mosh pit dancing\",\"mosh pit dancing\",\"mosh pit dancing\",\"mosh pit dancing\",\"mosh pit dancing\",\"mosh pit dancing\",\"mosh pit dancing\",\"mosh pit dancing\",\"mosh pit dancing\",\"mosh pit dancing\",\"mosh pit dancing\",\"mosh pit dancing\",\"mosh pit dancing\",\"mosh pit dancing\",\"mosh pit dancing\",\"mosh pit dancing\",\"mosh pit dancing\",\"mosh pit dancing\",\"mosh pit dancing\",\"mosh pit dancing\",\"mosh pit dancing\",\"mosh pit dancing\",\"mosh pit dancing\",\"mosh pit dancing\",\"mosh pit dancing\",\"mosh pit dancing\",\"mosh pit dancing\",\"mosh pit dancing\",\"mosh pit dancing\",\"mosh pit dancing\",\"mosh pit dancing\",\"mosh pit dancing\",\"mosh pit dancing\",\"mosh pit dancing\",\"mosh pit dancing\",\"mosh pit dancing\",\"mosh pit dancing\",\"mosh pit dancing\",\"mosh pit dancing\",\"mosh pit dancing\",\"mosh pit dancing\",\"mosh pit dancing\",\"mosh pit dancing\",\"mosh pit dancing\",\"mosh pit dancing\",\"mosh pit dancing\",\"mosh pit dancing\",\"mosh pit dancing\",\"mosh pit dancing\",\"mosh pit dancing\",\"mosh pit dancing\",\"mosh pit dancing\",\"mosh pit dancing\",\"mosh pit dancing\",\"mosh pit dancing\",\"mosh pit dancing\",\"mosh pit dancing\",\"mosh pit dancing\",\"mosh pit dancing\",\"mosh pit dancing\",\"mosh pit dancing\",\"mosh pit dancing\",\"mosh pit dancing\",\"mosh pit dancing\",\"mosh pit dancing\",\"mosh pit dancing\",\"mosh pit dancing\",\"mosh pit dancing\",\"mosh pit dancing\",\"mosh pit dancing\",\"mosh pit dancing\",\"mosh pit dancing\",\"mosh pit dancing\",\"mosh pit dancing\",\"mosh pit dancing\",\"mosh pit dancing\",\"mosh pit dancing\",\"mosh pit dancing\",\"mosh pit dancing\",\"mosh pit dancing\",\"mosh pit dancing\",\"mosh pit dancing\",\"mosh pit dancing\",\"mosh pit dancing\",\"mosh pit dancing\",\"mosh pit dancing\",\"mosh pit dancing\",\"mosh pit dancing\",\"mosh pit dancing\",\"mosh pit dancing\",\"mosh pit dancing\",\"mosh pit dancing\",\"mosh pit dancing\",\"mosh pit dancing\",\"mosh pit dancing\",\"mosh pit dancing\",\"mosh pit dancing\",\"mosh pit dancing\",\"mosh pit dancing\",\"mosh pit dancing\",\"mosh pit dancing\",\"mosh pit dancing\",\"mosh pit dancing\",\"mosh pit dancing\",\"mosh pit dancing\",\"mosh pit dancing\",\"mosh pit dancing\",\"mosh pit dancing\",\"mosh pit dancing\",\"mosh pit dancing\",\"mosh pit dancing\",\"mosh pit dancing\",\"mosh pit dancing\",\"mosh pit dancing\",\"mosh pit dancing\",\"mosh pit dancing\",\"mosh pit dancing\",\"mosh pit dancing\",\"mosh pit dancing\",\"mosh pit dancing\",\"mosh pit dancing\",\"mosh pit dancing\",\"mosh pit dancing\",\"robot dancing\",\"robot dancing\",\"robot dancing\",\"robot dancing\",\"robot dancing\",\"robot dancing\",\"robot dancing\",\"robot dancing\",\"robot dancing\",\"robot dancing\",\"robot dancing\",\"robot dancing\",\"robot dancing\",\"robot dancing\",\"robot dancing\",\"robot dancing\",\"robot dancing\",\"robot dancing\",\"robot dancing\",\"robot dancing\",\"robot dancing\",\"robot dancing\",\"robot dancing\",\"robot dancing\",\"robot dancing\",\"robot dancing\",\"robot dancing\",\"robot dancing\",\"robot dancing\",\"robot dancing\",\"robot dancing\",\"robot dancing\",\"robot dancing\",\"robot dancing\",\"robot dancing\",\"robot dancing\",\"robot dancing\",\"robot dancing\",\"robot dancing\",\"robot dancing\",\"robot dancing\",\"robot dancing\",\"robot dancing\",\"robot dancing\",\"robot dancing\",\"robot dancing\",\"robot dancing\",\"robot dancing\",\"robot dancing\",\"robot dancing\",\"robot dancing\",\"robot dancing\",\"robot dancing\",\"robot dancing\",\"robot dancing\",\"robot dancing\",\"robot dancing\",\"robot dancing\",\"robot dancing\",\"robot dancing\",\"robot dancing\",\"robot dancing\",\"robot dancing\",\"robot dancing\",\"robot dancing\",\"robot dancing\",\"robot dancing\",\"robot dancing\",\"robot dancing\",\"robot dancing\",\"robot dancing\",\"robot dancing\",\"robot dancing\",\"robot dancing\",\"robot dancing\",\"robot dancing\",\"robot dancing\",\"robot dancing\",\"robot dancing\",\"robot dancing\",\"robot dancing\",\"robot dancing\",\"robot dancing\",\"robot dancing\",\"robot dancing\",\"robot dancing\",\"robot dancing\",\"robot dancing\",\"robot dancing\",\"robot dancing\",\"robot dancing\",\"robot dancing\",\"robot dancing\",\"robot dancing\",\"robot dancing\",\"robot dancing\",\"robot dancing\",\"robot dancing\",\"robot dancing\",\"robot dancing\",\"robot dancing\",\"robot dancing\",\"robot dancing\",\"robot dancing\",\"robot dancing\",\"robot dancing\",\"robot dancing\",\"robot dancing\",\"robot dancing\",\"robot dancing\",\"robot dancing\",\"robot dancing\",\"robot dancing\",\"robot dancing\",\"robot dancing\",\"robot dancing\",\"robot dancing\",\"robot dancing\",\"robot dancing\",\"robot dancing\",\"robot dancing\",\"robot dancing\",\"robot dancing\",\"robot dancing\",\"robot dancing\",\"robot dancing\",\"robot dancing\",\"robot dancing\",\"robot dancing\",\"robot dancing\",\"robot dancing\",\"robot dancing\",\"robot dancing\",\"robot dancing\",\"robot dancing\",\"robot dancing\",\"robot dancing\",\"robot dancing\",\"robot dancing\",\"robot dancing\",\"robot dancing\",\"robot dancing\",\"robot dancing\",\"robot dancing\",\"robot dancing\",\"robot dancing\",\"robot dancing\",\"robot dancing\",\"robot dancing\",\"robot dancing\",\"robot dancing\",\"robot dancing\",\"robot dancing\",\"robot dancing\",\"robot dancing\",\"robot dancing\",\"robot dancing\",\"robot dancing\",\"robot dancing\",\"robot dancing\",\"robot dancing\",\"robot dancing\",\"robot dancing\",\"robot dancing\",\"robot dancing\",\"robot dancing\",\"robot dancing\",\"robot dancing\",\"robot dancing\",\"robot dancing\",\"robot dancing\",\"robot dancing\",\"robot dancing\",\"robot dancing\",\"robot dancing\",\"robot dancing\",\"robot dancing\",\"robot dancing\",\"robot dancing\",\"robot dancing\",\"robot dancing\",\"robot dancing\",\"robot dancing\",\"robot dancing\",\"robot dancing\",\"robot dancing\",\"robot dancing\",\"robot dancing\",\"robot dancing\",\"robot dancing\",\"robot dancing\",\"robot dancing\",\"robot dancing\",\"robot dancing\",\"robot dancing\",\"robot dancing\",\"robot dancing\",\"robot dancing\",\"robot dancing\",\"robot dancing\",\"robot dancing\",\"robot dancing\",\"robot dancing\",\"robot dancing\",\"robot dancing\",\"robot dancing\",\"robot dancing\",\"robot dancing\",\"robot dancing\",\"robot dancing\",\"robot dancing\",\"robot dancing\",\"robot dancing\",\"robot dancing\",\"robot dancing\",\"robot dancing\",\"robot dancing\",\"robot dancing\",\"robot dancing\",\"robot dancing\",\"robot dancing\",\"robot dancing\",\"robot dancing\",\"robot dancing\",\"robot dancing\",\"robot dancing\",\"robot dancing\",\"robot dancing\",\"robot dancing\",\"robot dancing\",\"robot dancing\",\"robot dancing\",\"robot dancing\",\"robot dancing\",\"robot dancing\",\"robot dancing\",\"robot dancing\",\"robot dancing\",\"robot dancing\",\"robot dancing\",\"robot dancing\",\"robot dancing\",\"robot dancing\",\"robot dancing\",\"robot dancing\",\"robot dancing\",\"robot dancing\",\"robot dancing\",\"robot dancing\",\"robot dancing\",\"robot dancing\",\"robot dancing\",\"robot dancing\",\"robot dancing\",\"robot dancing\",\"robot dancing\",\"robot dancing\",\"robot dancing\",\"robot dancing\",\"robot dancing\",\"robot dancing\",\"robot dancing\",\"robot dancing\",\"robot dancing\",\"robot dancing\",\"robot dancing\",\"robot dancing\",\"robot dancing\",\"robot dancing\",\"robot dancing\",\"robot dancing\",\"robot dancing\",\"robot dancing\",\"robot dancing\",\"robot dancing\",\"robot dancing\",\"robot dancing\",\"robot dancing\",\"robot dancing\",\"robot dancing\",\"robot dancing\",\"robot dancing\",\"robot dancing\",\"robot dancing\",\"robot dancing\",\"robot dancing\",\"robot dancing\",\"robot dancing\",\"robot dancing\",\"robot dancing\",\"robot dancing\",\"robot dancing\",\"robot dancing\",\"robot dancing\",\"robot dancing\",\"robot dancing\",\"robot dancing\",\"robot dancing\",\"robot dancing\",\"robot dancing\",\"robot dancing\",\"robot dancing\",\"robot dancing\",\"robot dancing\",\"robot dancing\",\"robot dancing\",\"robot dancing\",\"robot dancing\",\"robot dancing\",\"robot dancing\",\"robot dancing\",\"robot dancing\",\"robot dancing\",\"robot dancing\",\"robot dancing\",\"robot dancing\",\"robot dancing\",\"robot dancing\",\"robot dancing\",\"robot dancing\",\"robot dancing\",\"robot dancing\",\"robot dancing\",\"robot dancing\",\"robot dancing\",\"robot dancing\",\"robot dancing\",\"robot dancing\",\"robot dancing\",\"robot dancing\",\"robot dancing\",\"robot dancing\",\"robot dancing\",\"robot dancing\",\"robot dancing\",\"robot dancing\",\"robot dancing\",\"robot dancing\",\"robot dancing\",\"robot dancing\",\"robot dancing\",\"robot dancing\",\"robot dancing\",\"robot dancing\",\"robot dancing\",\"robot dancing\",\"robot dancing\",\"robot dancing\",\"robot dancing\",\"robot dancing\",\"robot dancing\",\"robot dancing\",\"robot dancing\",\"robot dancing\",\"robot dancing\",\"robot dancing\",\"robot dancing\",\"robot dancing\",\"robot dancing\",\"robot dancing\",\"robot dancing\",\"robot dancing\",\"robot dancing\",\"robot dancing\",\"robot dancing\",\"robot dancing\",\"robot dancing\",\"robot dancing\",\"robot dancing\",\"robot dancing\",\"robot dancing\",\"robot dancing\",\"robot dancing\",\"robot dancing\",\"robot dancing\",\"robot dancing\",\"robot dancing\",\"robot dancing\",\"robot dancing\",\"robot dancing\",\"robot dancing\",\"robot dancing\",\"robot dancing\",\"robot dancing\",\"robot dancing\",\"robot dancing\",\"robot dancing\",\"robot dancing\",\"robot dancing\",\"robot dancing\",\"robot dancing\",\"robot dancing\",\"robot dancing\",\"robot dancing\",\"robot dancing\",\"robot dancing\",\"robot dancing\",\"robot dancing\",\"robot dancing\",\"robot dancing\",\"robot dancing\",\"robot dancing\",\"robot dancing\",\"robot dancing\",\"robot dancing\",\"robot dancing\",\"robot dancing\",\"robot dancing\",\"robot dancing\",\"robot dancing\",\"robot dancing\",\"robot dancing\",\"robot dancing\",\"robot dancing\",\"robot dancing\",\"robot dancing\",\"robot dancing\",\"robot dancing\",\"robot dancing\",\"robot dancing\",\"robot dancing\",\"robot dancing\",\"robot dancing\",\"robot dancing\",\"robot dancing\",\"robot dancing\",\"robot dancing\",\"robot dancing\",\"robot dancing\",\"robot dancing\",\"robot dancing\",\"robot dancing\",\"robot dancing\",\"robot dancing\",\"robot dancing\",\"robot dancing\",\"robot dancing\",\"robot dancing\",\"robot dancing\",\"robot dancing\",\"robot dancing\",\"robot dancing\",\"robot dancing\",\"robot dancing\",\"robot dancing\",\"robot dancing\",\"robot dancing\",\"robot dancing\",\"robot dancing\",\"robot dancing\",\"robot dancing\",\"robot dancing\",\"robot dancing\",\"robot dancing\",\"robot dancing\",\"robot dancing\",\"robot dancing\",\"robot dancing\",\"robot dancing\",\"robot dancing\",\"robot dancing\",\"robot dancing\",\"robot dancing\",\"robot dancing\",\"robot dancing\",\"robot dancing\",\"robot dancing\",\"robot dancing\",\"robot dancing\",\"robot dancing\",\"robot dancing\",\"robot dancing\",\"robot dancing\",\"robot dancing\",\"robot dancing\",\"robot dancing\",\"robot dancing\",\"robot dancing\",\"robot dancing\",\"robot dancing\",\"robot dancing\",\"robot dancing\",\"robot dancing\",\"robot dancing\",\"robot dancing\",\"robot dancing\",\"robot dancing\",\"robot dancing\",\"robot dancing\",\"robot dancing\",\"robot dancing\",\"robot dancing\",\"robot dancing\",\"robot dancing\",\"robot dancing\",\"robot dancing\",\"robot dancing\",\"robot dancing\",\"robot dancing\",\"robot dancing\",\"robot dancing\",\"robot dancing\",\"robot dancing\",\"robot dancing\",\"robot dancing\",\"robot dancing\",\"robot dancing\",\"robot dancing\",\"robot dancing\",\"robot dancing\",\"robot dancing\",\"robot dancing\",\"robot dancing\",\"robot dancing\",\"robot dancing\",\"robot dancing\",\"robot dancing\",\"robot dancing\",\"robot dancing\",\"robot dancing\",\"robot dancing\",\"robot dancing\",\"robot dancing\",\"robot dancing\",\"robot dancing\",\"robot dancing\",\"robot dancing\",\"robot dancing\",\"robot dancing\",\"robot dancing\",\"robot dancing\",\"robot dancing\",\"robot dancing\",\"robot dancing\",\"robot dancing\",\"robot dancing\",\"robot dancing\",\"robot dancing\",\"robot dancing\",\"robot dancing\",\"robot dancing\",\"robot dancing\",\"robot dancing\",\"robot dancing\",\"robot dancing\",\"robot dancing\",\"robot dancing\",\"robot dancing\",\"robot dancing\",\"robot dancing\",\"robot dancing\",\"robot dancing\",\"robot dancing\",\"robot dancing\",\"robot dancing\",\"robot dancing\",\"robot dancing\",\"robot dancing\",\"robot dancing\",\"robot dancing\",\"robot dancing\",\"robot dancing\",\"robot dancing\",\"robot dancing\",\"robot dancing\",\"robot dancing\",\"robot dancing\",\"robot dancing\",\"robot dancing\",\"robot dancing\",\"robot dancing\",\"robot dancing\",\"robot dancing\",\"robot dancing\",\"robot dancing\",\"robot dancing\",\"robot dancing\",\"robot dancing\",\"robot dancing\",\"robot dancing\",\"robot dancing\",\"robot dancing\",\"robot dancing\",\"robot dancing\",\"robot dancing\",\"robot dancing\",\"robot dancing\",\"robot dancing\",\"robot dancing\",\"robot dancing\",\"robot dancing\",\"robot dancing\",\"robot dancing\",\"robot dancing\",\"robot dancing\",\"robot dancing\",\"robot dancing\",\"robot dancing\",\"robot dancing\",\"robot dancing\",\"robot dancing\",\"robot dancing\",\"robot dancing\",\"robot dancing\",\"robot dancing\",\"robot dancing\",\"robot dancing\",\"robot dancing\",\"robot dancing\",\"robot dancing\",\"robot dancing\",\"robot dancing\",\"robot dancing\",\"robot dancing\",\"robot dancing\",\"robot dancing\",\"robot dancing\",\"robot dancing\",\"robot dancing\",\"robot dancing\",\"robot dancing\",\"robot dancing\",\"robot dancing\",\"robot dancing\",\"robot dancing\",\"robot dancing\",\"robot dancing\",\"robot dancing\",\"robot dancing\",\"robot dancing\",\"robot dancing\",\"robot dancing\",\"robot dancing\",\"robot dancing\",\"robot dancing\",\"robot dancing\",\"robot dancing\",\"robot dancing\",\"robot dancing\",\"robot dancing\",\"robot dancing\",\"robot dancing\",\"robot dancing\",\"robot dancing\",\"robot dancing\",\"robot dancing\",\"robot dancing\",\"robot dancing\",\"robot dancing\",\"robot dancing\",\"robot dancing\",\"robot dancing\",\"robot dancing\",\"robot dancing\",\"robot dancing\",\"robot dancing\",\"robot dancing\",\"robot dancing\",\"robot dancing\",\"robot dancing\",\"robot dancing\",\"robot dancing\",\"robot dancing\",\"robot dancing\",\"robot dancing\",\"robot dancing\",\"robot dancing\",\"robot dancing\",\"robot dancing\",\"robot dancing\",\"robot dancing\",\"robot dancing\",\"robot dancing\",\"robot dancing\",\"robot dancing\",\"robot dancing\",\"robot dancing\",\"robot dancing\",\"robot dancing\",\"robot dancing\",\"robot dancing\",\"robot dancing\",\"robot dancing\",\"robot dancing\",\"robot dancing\",\"robot dancing\",\"robot dancing\",\"robot dancing\",\"robot dancing\",\"robot dancing\",\"robot dancing\",\"robot dancing\",\"robot dancing\",\"robot dancing\",\"robot dancing\",\"robot dancing\",\"robot dancing\",\"robot dancing\",\"robot dancing\",\"robot dancing\",\"robot dancing\",\"robot dancing\",\"robot dancing\",\"robot dancing\",\"robot dancing\",\"robot dancing\",\"robot dancing\",\"robot dancing\",\"robot dancing\",\"robot dancing\",\"robot dancing\",\"robot dancing\",\"robot dancing\",\"robot dancing\",\"robot dancing\",\"robot dancing\",\"robot dancing\",\"robot dancing\",\"robot dancing\",\"robot dancing\",\"robot dancing\",\"robot dancing\",\"robot dancing\",\"robot dancing\",\"robot dancing\",\"robot dancing\",\"robot dancing\",\"robot dancing\",\"robot dancing\",\"robot dancing\",\"robot dancing\",\"robot dancing\",\"robot dancing\",\"robot dancing\",\"robot dancing\",\"robot dancing\",\"robot dancing\",\"robot dancing\",\"robot dancing\",\"robot dancing\",\"robot dancing\",\"robot dancing\",\"robot dancing\",\"robot dancing\",\"robot dancing\",\"robot dancing\",\"robot dancing\",\"robot dancing\",\"robot dancing\",\"robot dancing\",\"robot dancing\",\"robot dancing\",\"robot dancing\",\"robot dancing\",\"robot dancing\",\"robot dancing\",\"robot dancing\",\"robot dancing\",\"robot dancing\",\"robot dancing\",\"robot dancing\",\"robot dancing\",\"robot dancing\",\"robot dancing\",\"robot dancing\",\"robot dancing\",\"robot dancing\",\"robot dancing\",\"robot dancing\",\"robot dancing\",\"robot dancing\",\"robot dancing\",\"robot dancing\",\"robot dancing\",\"robot dancing\",\"robot dancing\",\"robot dancing\",\"robot dancing\",\"robot dancing\",\"robot dancing\",\"robot dancing\",\"robot dancing\",\"robot dancing\",\"robot dancing\",\"robot dancing\",\"robot dancing\",\"robot dancing\",\"robot dancing\",\"robot dancing\",\"robot dancing\",\"robot dancing\",\"robot dancing\",\"robot dancing\",\"robot dancing\",\"robot dancing\",\"robot dancing\",\"robot dancing\",\"robot dancing\",\"robot dancing\",\"robot dancing\",\"robot dancing\",\"robot dancing\",\"robot dancing\",\"robot dancing\",\"robot dancing\",\"robot dancing\",\"robot dancing\",\"robot dancing\",\"robot dancing\",\"robot dancing\",\"robot dancing\",\"robot dancing\",\"robot dancing\",\"robot dancing\",\"robot dancing\",\"robot dancing\",\"robot dancing\",\"robot dancing\",\"robot dancing\",\"robot dancing\",\"robot dancing\",\"robot dancing\",\"robot dancing\",\"robot dancing\",\"robot dancing\",\"robot dancing\",\"robot dancing\",\"robot dancing\",\"robot dancing\",\"robot dancing\",\"robot dancing\",\"robot dancing\",\"robot dancing\",\"robot dancing\",\"robot dancing\",\"robot dancing\",\"robot dancing\",\"robot dancing\",\"robot dancing\",\"robot dancing\",\"robot dancing\",\"robot dancing\",\"robot dancing\",\"robot dancing\",\"robot dancing\",\"robot dancing\",\"robot dancing\",\"robot dancing\",\"robot dancing\",\"robot dancing\",\"robot dancing\",\"robot dancing\",\"robot dancing\",\"robot dancing\",\"robot dancing\",\"robot dancing\",\"robot dancing\",\"robot dancing\",\"robot dancing\",\"robot dancing\",\"robot dancing\",\"robot dancing\",\"robot dancing\",\"robot dancing\",\"robot dancing\",\"robot dancing\",\"robot dancing\",\"robot dancing\",\"robot dancing\",\"robot dancing\",\"robot dancing\",\"robot dancing\",\"robot dancing\",\"robot dancing\",\"robot dancing\",\"robot dancing\",\"robot dancing\",\"robot dancing\",\"robot dancing\",\"robot dancing\",\"robot dancing\",\"robot dancing\",\"robot dancing\",\"robot dancing\",\"robot dancing\",\"robot dancing\",\"robot dancing\",\"robot dancing\",\"robot dancing\",\"robot dancing\",\"robot dancing\",\"robot dancing\",\"robot dancing\",\"robot dancing\",\"robot dancing\",\"robot dancing\",\"robot dancing\",\"robot dancing\",\"robot dancing\",\"robot dancing\",\"robot dancing\",\"robot dancing\",\"robot dancing\",\"robot dancing\",\"robot dancing\",\"robot dancing\",\"robot dancing\",\"robot dancing\",\"robot dancing\",\"robot dancing\",\"robot dancing\",\"robot dancing\",\"robot dancing\",\"robot dancing\",\"salsa dancing\",\"salsa dancing\",\"salsa dancing\",\"salsa dancing\",\"salsa dancing\",\"salsa dancing\",\"salsa dancing\",\"salsa dancing\",\"salsa dancing\",\"salsa dancing\",\"salsa dancing\",\"salsa dancing\",\"salsa dancing\",\"salsa dancing\",\"salsa dancing\",\"salsa dancing\",\"salsa dancing\",\"salsa dancing\",\"salsa dancing\",\"salsa dancing\",\"salsa dancing\",\"salsa dancing\",\"salsa dancing\",\"salsa dancing\",\"salsa dancing\",\"salsa dancing\",\"salsa dancing\",\"salsa dancing\",\"salsa dancing\",\"salsa dancing\",\"salsa dancing\",\"salsa dancing\",\"salsa dancing\",\"salsa dancing\",\"salsa dancing\",\"salsa dancing\",\"salsa dancing\",\"salsa dancing\",\"salsa dancing\",\"salsa dancing\",\"salsa dancing\",\"salsa dancing\",\"salsa dancing\",\"salsa dancing\",\"salsa dancing\",\"salsa dancing\",\"salsa dancing\",\"salsa dancing\",\"salsa dancing\",\"salsa dancing\",\"salsa dancing\",\"salsa dancing\",\"salsa dancing\",\"salsa dancing\",\"salsa dancing\",\"salsa dancing\",\"salsa dancing\",\"salsa dancing\",\"salsa dancing\",\"salsa dancing\",\"salsa dancing\",\"salsa dancing\",\"salsa dancing\",\"salsa dancing\",\"salsa dancing\",\"salsa dancing\",\"salsa dancing\",\"salsa dancing\",\"salsa dancing\",\"salsa dancing\",\"salsa dancing\",\"salsa dancing\",\"salsa dancing\",\"salsa dancing\",\"salsa dancing\",\"salsa dancing\",\"salsa dancing\",\"salsa dancing\",\"salsa dancing\",\"salsa dancing\",\"salsa dancing\",\"salsa dancing\",\"salsa dancing\",\"salsa dancing\",\"salsa dancing\",\"salsa dancing\",\"salsa dancing\",\"salsa dancing\",\"salsa dancing\",\"salsa dancing\",\"salsa dancing\",\"salsa dancing\",\"salsa dancing\",\"salsa dancing\",\"salsa dancing\",\"salsa dancing\",\"salsa dancing\",\"salsa dancing\",\"salsa dancing\",\"salsa dancing\",\"salsa dancing\",\"salsa dancing\",\"salsa dancing\",\"salsa dancing\",\"salsa dancing\",\"salsa dancing\",\"salsa dancing\",\"salsa dancing\",\"salsa dancing\",\"salsa dancing\",\"salsa dancing\",\"salsa dancing\",\"salsa dancing\",\"salsa dancing\",\"salsa dancing\",\"salsa dancing\",\"salsa dancing\",\"salsa dancing\",\"salsa dancing\",\"salsa dancing\",\"salsa dancing\",\"salsa dancing\",\"salsa dancing\",\"salsa dancing\",\"salsa dancing\",\"salsa dancing\",\"salsa dancing\",\"salsa dancing\",\"salsa dancing\",\"salsa dancing\",\"salsa dancing\",\"salsa dancing\",\"salsa dancing\",\"salsa dancing\",\"salsa dancing\",\"salsa dancing\",\"salsa dancing\",\"salsa dancing\",\"salsa dancing\",\"salsa dancing\",\"salsa dancing\",\"salsa dancing\",\"salsa dancing\",\"salsa dancing\",\"salsa dancing\",\"salsa dancing\",\"salsa dancing\",\"salsa dancing\",\"salsa dancing\",\"salsa dancing\",\"salsa dancing\",\"salsa dancing\",\"salsa dancing\",\"salsa dancing\",\"salsa dancing\",\"salsa dancing\",\"salsa dancing\",\"salsa dancing\",\"salsa dancing\",\"salsa dancing\",\"salsa dancing\",\"salsa dancing\",\"salsa dancing\",\"salsa dancing\",\"salsa dancing\",\"salsa dancing\",\"salsa dancing\",\"salsa dancing\",\"salsa dancing\",\"salsa dancing\",\"salsa dancing\",\"salsa dancing\",\"salsa dancing\",\"salsa dancing\",\"salsa dancing\",\"salsa dancing\",\"salsa dancing\",\"salsa dancing\",\"salsa dancing\",\"salsa dancing\",\"salsa dancing\",\"salsa dancing\",\"salsa dancing\",\"salsa dancing\",\"salsa dancing\",\"salsa dancing\",\"salsa dancing\",\"salsa dancing\",\"salsa dancing\",\"salsa dancing\",\"salsa dancing\",\"salsa dancing\",\"salsa dancing\",\"salsa dancing\",\"salsa dancing\",\"salsa dancing\",\"salsa dancing\",\"salsa dancing\",\"salsa dancing\",\"salsa dancing\",\"salsa dancing\",\"salsa dancing\",\"salsa dancing\",\"salsa dancing\",\"salsa dancing\",\"salsa dancing\",\"salsa dancing\",\"salsa dancing\",\"salsa dancing\",\"salsa dancing\",\"salsa dancing\",\"salsa dancing\",\"salsa dancing\",\"salsa dancing\",\"salsa dancing\",\"salsa dancing\",\"salsa dancing\",\"salsa dancing\",\"salsa dancing\",\"salsa dancing\",\"salsa dancing\",\"salsa dancing\",\"salsa dancing\",\"salsa dancing\",\"salsa dancing\",\"salsa dancing\",\"salsa dancing\",\"salsa dancing\",\"salsa dancing\",\"salsa dancing\",\"salsa dancing\",\"salsa dancing\",\"salsa dancing\",\"salsa dancing\",\"salsa dancing\",\"salsa dancing\",\"salsa dancing\",\"salsa dancing\",\"salsa dancing\",\"salsa dancing\",\"salsa dancing\",\"salsa dancing\",\"salsa dancing\",\"salsa dancing\",\"salsa dancing\",\"salsa dancing\",\"salsa dancing\",\"salsa dancing\",\"salsa dancing\",\"salsa dancing\",\"salsa dancing\",\"salsa dancing\",\"salsa dancing\",\"salsa dancing\",\"salsa dancing\",\"salsa dancing\",\"salsa dancing\",\"salsa dancing\",\"salsa dancing\",\"salsa dancing\",\"salsa dancing\",\"salsa dancing\",\"salsa dancing\",\"salsa dancing\",\"salsa dancing\",\"salsa dancing\",\"salsa dancing\",\"salsa dancing\",\"salsa dancing\",\"salsa dancing\",\"salsa dancing\",\"salsa dancing\",\"salsa dancing\",\"salsa dancing\",\"salsa dancing\",\"salsa dancing\",\"salsa dancing\",\"salsa dancing\",\"salsa dancing\",\"salsa dancing\",\"salsa dancing\",\"salsa dancing\",\"salsa dancing\",\"salsa dancing\",\"salsa dancing\",\"salsa dancing\",\"salsa dancing\",\"salsa dancing\",\"salsa dancing\",\"salsa dancing\",\"salsa dancing\",\"salsa dancing\",\"salsa dancing\",\"salsa dancing\",\"salsa dancing\",\"salsa dancing\",\"salsa dancing\",\"salsa dancing\",\"salsa dancing\",\"salsa dancing\",\"salsa dancing\",\"salsa dancing\",\"salsa dancing\",\"salsa dancing\",\"salsa dancing\",\"salsa dancing\",\"salsa dancing\",\"salsa dancing\",\"salsa dancing\",\"salsa dancing\",\"salsa dancing\",\"salsa dancing\",\"salsa dancing\",\"salsa dancing\",\"salsa dancing\",\"salsa dancing\",\"salsa dancing\",\"salsa dancing\",\"salsa dancing\",\"salsa dancing\",\"salsa dancing\",\"salsa dancing\",\"salsa dancing\",\"salsa dancing\",\"salsa dancing\",\"salsa dancing\",\"salsa dancing\",\"salsa dancing\",\"salsa dancing\",\"salsa dancing\",\"salsa dancing\",\"salsa dancing\",\"salsa dancing\",\"salsa dancing\",\"salsa dancing\",\"salsa dancing\",\"salsa dancing\",\"salsa dancing\",\"salsa dancing\",\"salsa dancing\",\"salsa dancing\",\"salsa dancing\",\"salsa dancing\",\"salsa dancing\",\"salsa dancing\",\"salsa dancing\",\"salsa dancing\",\"salsa dancing\",\"salsa dancing\",\"salsa dancing\",\"salsa dancing\",\"salsa dancing\",\"salsa dancing\",\"salsa dancing\",\"salsa dancing\",\"salsa dancing\",\"salsa dancing\",\"salsa dancing\",\"salsa dancing\",\"salsa dancing\",\"salsa dancing\",\"salsa dancing\",\"salsa dancing\",\"salsa dancing\",\"salsa dancing\",\"salsa dancing\",\"salsa dancing\",\"salsa dancing\",\"salsa dancing\",\"salsa dancing\",\"salsa dancing\",\"salsa dancing\",\"salsa dancing\",\"salsa dancing\",\"salsa dancing\",\"salsa dancing\",\"salsa dancing\",\"salsa dancing\",\"salsa dancing\",\"salsa dancing\",\"salsa dancing\",\"salsa dancing\",\"salsa dancing\",\"salsa dancing\",\"salsa dancing\",\"salsa dancing\",\"salsa dancing\",\"salsa dancing\",\"salsa dancing\",\"salsa dancing\",\"salsa dancing\",\"salsa dancing\",\"salsa dancing\",\"salsa dancing\",\"salsa dancing\",\"salsa dancing\",\"salsa dancing\",\"salsa dancing\",\"salsa dancing\",\"salsa dancing\",\"salsa dancing\",\"salsa dancing\",\"salsa dancing\",\"salsa dancing\",\"salsa dancing\",\"salsa dancing\",\"salsa dancing\",\"salsa dancing\",\"salsa dancing\",\"salsa dancing\",\"salsa dancing\",\"salsa dancing\",\"salsa dancing\",\"salsa dancing\",\"salsa dancing\",\"salsa dancing\",\"salsa dancing\",\"salsa dancing\",\"salsa dancing\",\"salsa dancing\",\"salsa dancing\",\"salsa dancing\",\"salsa dancing\",\"salsa dancing\",\"salsa dancing\",\"salsa dancing\",\"salsa dancing\",\"salsa dancing\",\"salsa dancing\",\"salsa dancing\",\"salsa dancing\",\"salsa dancing\",\"salsa dancing\",\"salsa dancing\",\"salsa dancing\",\"salsa dancing\",\"salsa dancing\",\"salsa dancing\",\"salsa dancing\",\"salsa dancing\",\"salsa dancing\",\"salsa dancing\",\"salsa dancing\",\"salsa dancing\",\"salsa dancing\",\"salsa dancing\",\"salsa dancing\",\"salsa dancing\",\"salsa dancing\",\"salsa dancing\",\"salsa dancing\",\"salsa dancing\",\"salsa dancing\",\"salsa dancing\",\"salsa dancing\",\"salsa dancing\",\"salsa dancing\",\"salsa dancing\",\"salsa dancing\",\"salsa dancing\",\"salsa dancing\",\"salsa dancing\",\"salsa dancing\",\"salsa dancing\",\"salsa dancing\",\"salsa dancing\",\"salsa dancing\",\"salsa dancing\",\"salsa dancing\",\"salsa dancing\",\"salsa dancing\",\"salsa dancing\",\"salsa dancing\",\"salsa dancing\",\"salsa dancing\",\"salsa dancing\",\"salsa dancing\",\"salsa dancing\",\"salsa dancing\",\"salsa dancing\",\"salsa dancing\",\"salsa dancing\",\"salsa dancing\",\"salsa dancing\",\"salsa dancing\",\"salsa dancing\",\"salsa dancing\",\"salsa dancing\",\"salsa dancing\",\"salsa dancing\",\"salsa dancing\",\"salsa dancing\",\"salsa dancing\",\"salsa dancing\",\"salsa dancing\",\"salsa dancing\",\"salsa dancing\",\"salsa dancing\",\"salsa dancing\",\"salsa dancing\",\"salsa dancing\",\"salsa dancing\",\"salsa dancing\",\"salsa dancing\",\"salsa dancing\",\"salsa dancing\",\"salsa dancing\",\"salsa dancing\",\"salsa dancing\",\"salsa dancing\",\"salsa dancing\",\"salsa dancing\",\"salsa dancing\",\"salsa dancing\",\"salsa dancing\",\"salsa dancing\",\"salsa dancing\",\"salsa dancing\",\"salsa dancing\",\"salsa dancing\",\"salsa dancing\",\"salsa dancing\",\"salsa dancing\",\"salsa dancing\",\"salsa dancing\",\"salsa dancing\",\"salsa dancing\",\"salsa dancing\",\"salsa dancing\",\"salsa dancing\",\"salsa dancing\",\"salsa dancing\",\"salsa dancing\",\"salsa dancing\",\"salsa dancing\",\"salsa dancing\",\"salsa dancing\",\"salsa dancing\",\"salsa dancing\",\"salsa dancing\",\"salsa dancing\",\"salsa dancing\",\"salsa dancing\",\"salsa dancing\",\"salsa dancing\",\"salsa dancing\",\"salsa dancing\",\"salsa dancing\",\"salsa dancing\",\"salsa dancing\",\"salsa dancing\",\"salsa dancing\",\"salsa dancing\",\"salsa dancing\",\"salsa dancing\",\"salsa dancing\",\"salsa dancing\",\"salsa dancing\",\"salsa dancing\",\"salsa dancing\",\"salsa dancing\",\"salsa dancing\",\"salsa dancing\",\"salsa dancing\",\"salsa dancing\",\"salsa dancing\",\"salsa dancing\",\"salsa dancing\",\"salsa dancing\",\"salsa dancing\",\"salsa dancing\",\"salsa dancing\",\"salsa dancing\",\"salsa dancing\",\"salsa dancing\",\"salsa dancing\",\"salsa dancing\",\"salsa dancing\",\"salsa dancing\",\"salsa dancing\",\"salsa dancing\",\"salsa dancing\",\"salsa dancing\",\"salsa dancing\",\"salsa dancing\",\"salsa dancing\",\"salsa dancing\",\"salsa dancing\",\"salsa dancing\",\"salsa dancing\",\"salsa dancing\",\"salsa dancing\",\"salsa dancing\",\"salsa dancing\",\"salsa dancing\",\"salsa dancing\",\"salsa dancing\",\"salsa dancing\",\"salsa dancing\",\"salsa dancing\",\"salsa dancing\",\"salsa dancing\",\"salsa dancing\",\"salsa dancing\",\"salsa dancing\",\"salsa dancing\",\"salsa dancing\",\"salsa dancing\",\"salsa dancing\",\"salsa dancing\",\"salsa dancing\",\"salsa dancing\",\"salsa dancing\",\"salsa dancing\",\"salsa dancing\",\"salsa dancing\",\"salsa dancing\",\"salsa dancing\",\"salsa dancing\",\"salsa dancing\",\"salsa dancing\",\"salsa dancing\",\"salsa dancing\",\"salsa dancing\",\"salsa dancing\",\"salsa dancing\",\"salsa dancing\",\"salsa dancing\",\"salsa dancing\",\"salsa dancing\",\"salsa dancing\",\"salsa dancing\",\"salsa dancing\",\"salsa dancing\",\"salsa dancing\",\"salsa dancing\",\"salsa dancing\",\"salsa dancing\",\"salsa dancing\",\"salsa dancing\",\"salsa dancing\",\"salsa dancing\",\"salsa dancing\",\"salsa dancing\",\"salsa dancing\",\"salsa dancing\",\"salsa dancing\",\"salsa dancing\",\"salsa dancing\",\"salsa dancing\",\"salsa dancing\",\"salsa dancing\",\"salsa dancing\",\"salsa dancing\",\"salsa dancing\",\"salsa dancing\",\"salsa dancing\",\"salsa dancing\",\"salsa dancing\",\"salsa dancing\",\"salsa dancing\",\"salsa dancing\",\"salsa dancing\",\"salsa dancing\",\"salsa dancing\",\"salsa dancing\",\"salsa dancing\",\"salsa dancing\",\"salsa dancing\",\"salsa dancing\",\"salsa dancing\",\"salsa dancing\",\"salsa dancing\",\"salsa dancing\",\"salsa dancing\",\"salsa dancing\",\"salsa dancing\",\"salsa dancing\",\"salsa dancing\",\"salsa dancing\",\"salsa dancing\",\"salsa dancing\",\"salsa dancing\",\"salsa dancing\",\"salsa dancing\",\"salsa dancing\",\"salsa dancing\",\"salsa dancing\",\"salsa dancing\",\"salsa dancing\",\"salsa dancing\",\"salsa dancing\",\"salsa dancing\",\"salsa dancing\",\"salsa dancing\",\"salsa dancing\",\"salsa dancing\",\"salsa dancing\",\"salsa dancing\",\"salsa dancing\",\"salsa dancing\",\"salsa dancing\",\"salsa dancing\",\"salsa dancing\",\"salsa dancing\",\"salsa dancing\",\"salsa dancing\",\"salsa dancing\",\"salsa dancing\",\"salsa dancing\",\"salsa dancing\",\"salsa dancing\",\"salsa dancing\",\"salsa dancing\",\"salsa dancing\",\"salsa dancing\",\"salsa dancing\",\"salsa dancing\",\"salsa dancing\",\"salsa dancing\",\"salsa dancing\",\"salsa dancing\",\"salsa dancing\",\"salsa dancing\",\"salsa dancing\",\"salsa dancing\",\"salsa dancing\",\"salsa dancing\",\"salsa dancing\",\"salsa dancing\",\"salsa dancing\",\"salsa dancing\",\"salsa dancing\",\"salsa dancing\",\"salsa dancing\",\"salsa dancing\",\"salsa dancing\",\"salsa dancing\",\"salsa dancing\",\"salsa dancing\",\"salsa dancing\",\"salsa dancing\",\"salsa dancing\",\"salsa dancing\",\"salsa dancing\",\"salsa dancing\",\"salsa dancing\",\"salsa dancing\",\"salsa dancing\",\"salsa dancing\",\"salsa dancing\",\"salsa dancing\",\"salsa dancing\",\"salsa dancing\",\"salsa dancing\",\"salsa dancing\",\"salsa dancing\",\"salsa dancing\",\"salsa dancing\",\"salsa dancing\",\"salsa dancing\",\"salsa dancing\",\"salsa dancing\",\"salsa dancing\",\"salsa dancing\",\"salsa dancing\",\"salsa dancing\",\"salsa dancing\",\"salsa dancing\",\"salsa dancing\",\"salsa dancing\",\"salsa dancing\",\"salsa dancing\",\"salsa dancing\",\"salsa dancing\",\"salsa dancing\",\"salsa dancing\",\"salsa dancing\",\"salsa dancing\",\"salsa dancing\",\"salsa dancing\",\"salsa dancing\",\"salsa dancing\",\"salsa dancing\",\"salsa dancing\",\"salsa dancing\",\"salsa dancing\",\"salsa dancing\",\"salsa dancing\",\"salsa dancing\",\"salsa dancing\",\"salsa dancing\",\"salsa dancing\",\"salsa dancing\",\"salsa dancing\",\"salsa dancing\",\"salsa dancing\",\"salsa dancing\",\"salsa dancing\",\"salsa dancing\",\"salsa dancing\",\"salsa dancing\",\"salsa dancing\",\"salsa dancing\",\"salsa dancing\",\"salsa dancing\",\"salsa dancing\",\"salsa dancing\",\"salsa dancing\",\"salsa dancing\",\"salsa dancing\",\"salsa dancing\",\"salsa dancing\",\"salsa dancing\",\"salsa dancing\",\"salsa dancing\",\"salsa dancing\",\"salsa dancing\",\"salsa dancing\",\"salsa dancing\",\"salsa dancing\",\"salsa dancing\",\"salsa dancing\",\"salsa dancing\",\"salsa dancing\",\"salsa dancing\",\"salsa dancing\",\"salsa dancing\",\"salsa dancing\",\"salsa dancing\",\"salsa dancing\",\"salsa dancing\",\"salsa dancing\",\"salsa dancing\",\"salsa dancing\",\"salsa dancing\",\"salsa dancing\",\"salsa dancing\",\"salsa dancing\",\"salsa dancing\",\"salsa dancing\",\"salsa dancing\",\"salsa dancing\",\"salsa dancing\",\"salsa dancing\",\"salsa dancing\",\"salsa dancing\",\"salsa dancing\",\"salsa dancing\",\"salsa dancing\",\"salsa dancing\",\"salsa dancing\",\"salsa dancing\",\"salsa dancing\",\"salsa dancing\",\"salsa dancing\",\"salsa dancing\",\"salsa dancing\",\"salsa dancing\",\"salsa dancing\",\"salsa dancing\",\"salsa dancing\",\"salsa dancing\",\"salsa dancing\",\"salsa dancing\",\"salsa dancing\",\"salsa dancing\",\"salsa dancing\",\"salsa dancing\",\"salsa dancing\",\"salsa dancing\",\"salsa dancing\",\"salsa dancing\",\"salsa dancing\",\"salsa dancing\",\"salsa dancing\",\"salsa dancing\",\"salsa dancing\",\"salsa dancing\",\"salsa dancing\",\"salsa dancing\",\"salsa dancing\",\"salsa dancing\",\"salsa dancing\",\"salsa dancing\",\"salsa dancing\",\"salsa dancing\",\"salsa dancing\",\"salsa dancing\",\"salsa dancing\",\"salsa dancing\",\"salsa dancing\",\"salsa dancing\",\"salsa dancing\",\"salsa dancing\",\"salsa dancing\",\"salsa dancing\",\"salsa dancing\",\"salsa dancing\",\"salsa dancing\",\"salsa dancing\",\"salsa dancing\",\"salsa dancing\",\"salsa dancing\",\"salsa dancing\",\"salsa dancing\",\"salsa dancing\",\"salsa dancing\",\"salsa dancing\",\"salsa dancing\",\"salsa dancing\",\"salsa dancing\",\"salsa dancing\",\"salsa dancing\",\"salsa dancing\",\"salsa dancing\",\"salsa dancing\",\"salsa dancing\",\"salsa dancing\",\"salsa dancing\",\"salsa dancing\",\"salsa dancing\",\"salsa dancing\",\"salsa dancing\",\"salsa dancing\",\"salsa dancing\",\"salsa dancing\",\"salsa dancing\",\"salsa dancing\",\"salsa dancing\",\"salsa dancing\",\"salsa dancing\",\"salsa dancing\",\"salsa dancing\",\"salsa dancing\",\"salsa dancing\",\"salsa dancing\",\"salsa dancing\",\"salsa dancing\",\"salsa dancing\",\"salsa dancing\",\"salsa dancing\",\"salsa dancing\",\"salsa dancing\",\"salsa dancing\",\"salsa dancing\",\"salsa dancing\",\"salsa dancing\",\"salsa dancing\",\"salsa dancing\",\"salsa dancing\",\"salsa dancing\",\"salsa dancing\",\"salsa dancing\",\"salsa dancing\",\"salsa dancing\",\"salsa dancing\",\"salsa dancing\",\"salsa dancing\",\"salsa dancing\",\"salsa dancing\",\"salsa dancing\",\"salsa dancing\",\"salsa dancing\",\"salsa dancing\",\"salsa dancing\",\"salsa dancing\",\"salsa dancing\",\"salsa dancing\",\"salsa dancing\",\"salsa dancing\",\"salsa dancing\",\"salsa dancing\",\"square dancing\",\"square dancing\",\"square dancing\",\"square dancing\",\"square dancing\",\"square dancing\",\"square dancing\",\"square dancing\",\"square dancing\",\"square dancing\",\"square dancing\",\"square dancing\",\"square dancing\",\"square dancing\",\"square dancing\",\"square dancing\",\"square dancing\",\"square dancing\",\"square dancing\",\"square dancing\",\"square dancing\",\"square dancing\",\"square dancing\",\"square dancing\",\"square dancing\",\"square dancing\",\"square dancing\",\"square dancing\",\"square dancing\",\"square dancing\",\"square dancing\",\"square dancing\",\"square dancing\",\"square dancing\",\"square dancing\",\"square dancing\",\"square dancing\",\"square dancing\",\"square dancing\",\"square dancing\",\"square dancing\",\"square dancing\",\"square dancing\",\"square dancing\",\"square dancing\",\"square dancing\",\"square dancing\",\"square dancing\",\"square dancing\",\"square dancing\",\"square dancing\",\"square dancing\",\"square dancing\",\"square dancing\",\"square dancing\",\"square dancing\",\"square dancing\",\"square dancing\",\"square dancing\",\"square dancing\",\"square dancing\",\"square dancing\",\"square dancing\",\"square dancing\",\"square dancing\",\"square dancing\",\"square dancing\",\"square dancing\",\"square dancing\",\"square dancing\",\"square dancing\",\"square dancing\",\"square dancing\",\"square dancing\",\"square dancing\",\"square dancing\",\"square dancing\",\"square dancing\",\"square dancing\",\"square dancing\",\"square dancing\",\"square dancing\",\"square dancing\",\"square dancing\",\"square dancing\",\"square dancing\",\"square dancing\",\"square dancing\",\"square dancing\",\"square dancing\",\"square dancing\",\"square dancing\",\"square dancing\",\"square dancing\",\"square dancing\",\"square dancing\",\"square dancing\",\"square dancing\",\"square dancing\",\"square dancing\",\"square dancing\",\"square dancing\",\"square dancing\",\"square dancing\",\"square dancing\",\"square dancing\",\"square dancing\",\"square dancing\",\"square dancing\",\"square dancing\",\"square dancing\",\"square dancing\",\"square dancing\",\"square dancing\",\"square dancing\",\"square dancing\",\"square dancing\",\"square dancing\",\"square dancing\",\"square dancing\",\"square dancing\",\"square dancing\",\"square dancing\",\"square dancing\",\"square dancing\",\"square dancing\",\"square dancing\",\"square dancing\",\"square dancing\",\"square dancing\",\"square dancing\",\"square dancing\",\"square dancing\",\"square dancing\",\"square dancing\",\"square dancing\",\"square dancing\",\"square dancing\",\"square dancing\",\"square dancing\",\"square dancing\",\"square dancing\",\"square dancing\",\"square dancing\",\"square dancing\",\"square dancing\",\"square dancing\",\"square dancing\",\"square dancing\",\"square dancing\",\"square dancing\",\"square dancing\",\"square dancing\",\"square dancing\",\"square dancing\",\"square dancing\",\"square dancing\",\"square dancing\",\"square dancing\",\"square dancing\",\"square dancing\",\"square dancing\",\"square dancing\",\"square dancing\",\"square dancing\",\"square dancing\",\"square dancing\",\"square dancing\",\"square dancing\",\"square dancing\",\"square dancing\",\"square dancing\",\"square dancing\",\"square dancing\",\"square dancing\",\"square dancing\",\"square dancing\",\"square dancing\",\"square dancing\",\"square dancing\",\"square dancing\",\"square dancing\",\"square dancing\",\"square dancing\",\"square dancing\",\"square dancing\",\"square dancing\",\"square dancing\",\"square dancing\",\"square dancing\",\"square dancing\",\"square dancing\",\"square dancing\",\"square dancing\",\"square dancing\",\"square dancing\",\"square dancing\",\"square dancing\",\"square dancing\",\"square dancing\",\"square dancing\",\"square dancing\",\"square dancing\",\"square dancing\",\"square dancing\",\"square dancing\",\"square dancing\",\"square dancing\",\"square dancing\",\"square dancing\",\"square dancing\",\"square dancing\",\"square dancing\",\"square dancing\",\"square dancing\",\"square dancing\",\"square dancing\",\"square dancing\",\"square dancing\",\"square dancing\",\"square dancing\",\"square dancing\",\"square dancing\",\"square dancing\",\"square dancing\",\"square dancing\",\"square dancing\",\"square dancing\",\"square dancing\",\"square dancing\",\"square dancing\",\"square dancing\",\"square dancing\",\"square dancing\",\"square dancing\",\"square dancing\",\"square dancing\",\"square dancing\",\"square dancing\",\"square dancing\",\"square dancing\",\"square dancing\",\"square dancing\",\"square dancing\",\"square dancing\",\"square dancing\",\"square dancing\",\"square dancing\",\"square dancing\",\"square dancing\",\"square dancing\",\"square dancing\",\"square dancing\",\"square dancing\",\"square dancing\",\"square dancing\",\"square dancing\",\"square dancing\",\"square dancing\",\"square dancing\",\"square dancing\",\"square dancing\",\"square dancing\",\"square dancing\",\"square dancing\",\"square dancing\",\"square dancing\",\"square dancing\",\"square dancing\",\"square dancing\",\"square dancing\",\"square dancing\",\"square dancing\",\"square dancing\",\"square dancing\",\"square dancing\",\"square dancing\",\"square dancing\",\"square dancing\",\"square dancing\",\"square dancing\",\"square dancing\",\"square dancing\",\"square dancing\",\"square dancing\",\"square dancing\",\"square dancing\",\"square dancing\",\"square dancing\",\"square dancing\",\"square dancing\",\"square dancing\",\"square dancing\",\"square dancing\",\"square dancing\",\"square dancing\",\"square dancing\",\"square dancing\",\"square dancing\",\"square dancing\",\"square dancing\",\"square dancing\",\"square dancing\",\"square dancing\",\"square dancing\",\"square dancing\",\"square dancing\",\"square dancing\",\"square dancing\",\"square dancing\",\"square dancing\",\"square dancing\",\"square dancing\",\"square dancing\",\"square dancing\",\"square dancing\",\"square dancing\",\"square dancing\",\"square dancing\",\"square dancing\",\"square dancing\",\"square dancing\",\"square dancing\",\"square dancing\",\"square dancing\",\"square dancing\",\"square dancing\",\"square dancing\",\"square dancing\",\"square dancing\",\"square dancing\",\"square dancing\",\"square dancing\",\"square dancing\",\"square dancing\",\"square dancing\",\"square dancing\",\"square dancing\",\"square dancing\",\"square dancing\",\"square dancing\",\"square dancing\",\"square dancing\",\"square dancing\",\"square dancing\",\"square dancing\",\"square dancing\",\"square dancing\",\"square dancing\",\"square dancing\",\"square dancing\",\"square dancing\",\"square dancing\",\"square dancing\",\"square dancing\",\"square dancing\",\"square dancing\",\"square dancing\",\"square dancing\",\"square dancing\",\"square dancing\",\"square dancing\",\"square dancing\",\"square dancing\",\"square dancing\",\"square dancing\",\"square dancing\",\"square dancing\",\"square dancing\",\"square dancing\",\"square dancing\",\"square dancing\",\"square dancing\",\"square dancing\",\"square dancing\",\"square dancing\",\"square dancing\",\"square dancing\",\"square dancing\",\"square dancing\",\"square dancing\",\"square dancing\",\"square dancing\",\"square dancing\",\"square dancing\",\"square dancing\",\"square dancing\",\"square dancing\",\"square dancing\",\"square dancing\",\"square dancing\",\"square dancing\",\"square dancing\",\"square dancing\",\"square dancing\",\"square dancing\",\"square dancing\",\"square dancing\",\"square dancing\",\"square dancing\",\"square dancing\",\"square dancing\",\"square dancing\",\"square dancing\",\"square dancing\",\"square dancing\",\"square dancing\",\"square dancing\",\"square dancing\",\"square dancing\",\"square dancing\",\"square dancing\",\"square dancing\",\"square dancing\",\"square dancing\",\"square dancing\",\"square dancing\",\"square dancing\",\"square dancing\",\"square dancing\",\"square dancing\",\"square dancing\",\"square dancing\",\"square dancing\",\"square dancing\",\"square dancing\",\"square dancing\",\"square dancing\",\"square dancing\",\"square dancing\",\"square dancing\",\"square dancing\",\"square dancing\",\"square dancing\",\"square dancing\",\"square dancing\",\"square dancing\",\"square dancing\",\"square dancing\",\"square dancing\",\"square dancing\",\"square dancing\",\"square dancing\",\"square dancing\",\"square dancing\",\"square dancing\",\"square dancing\",\"square dancing\",\"square dancing\",\"square dancing\",\"square dancing\",\"square dancing\",\"square dancing\",\"square dancing\",\"square dancing\",\"square dancing\",\"square dancing\",\"square dancing\",\"square dancing\",\"square dancing\",\"square dancing\",\"square dancing\",\"square dancing\",\"square dancing\",\"square dancing\",\"square dancing\",\"square dancing\",\"square dancing\",\"square dancing\",\"square dancing\",\"square dancing\",\"square dancing\",\"square dancing\",\"square dancing\",\"square dancing\",\"square dancing\",\"square dancing\",\"square dancing\",\"square dancing\",\"square dancing\",\"square dancing\",\"square dancing\",\"square dancing\",\"square dancing\",\"square dancing\",\"square dancing\",\"square dancing\",\"square dancing\",\"square dancing\",\"square dancing\",\"square dancing\",\"square dancing\",\"square dancing\",\"square dancing\",\"square dancing\",\"square dancing\",\"square dancing\",\"square dancing\",\"square dancing\",\"square dancing\",\"square dancing\",\"square dancing\",\"square dancing\",\"square dancing\",\"square dancing\",\"square dancing\",\"square dancing\",\"square dancing\",\"square dancing\",\"square dancing\",\"square dancing\",\"square dancing\",\"square dancing\",\"square dancing\",\"square dancing\",\"square dancing\",\"square dancing\",\"square dancing\",\"square dancing\",\"square dancing\",\"square dancing\",\"square dancing\",\"square dancing\",\"square dancing\",\"square dancing\",\"square dancing\",\"square dancing\",\"square dancing\",\"square dancing\",\"square dancing\",\"square dancing\",\"square dancing\",\"square dancing\",\"square dancing\",\"square dancing\",\"square dancing\",\"square dancing\",\"square dancing\",\"square dancing\",\"square dancing\",\"square dancing\",\"square dancing\",\"square dancing\",\"square dancing\",\"square dancing\",\"square dancing\",\"square dancing\",\"square dancing\",\"square dancing\",\"square dancing\",\"square dancing\",\"square dancing\",\"square dancing\",\"square dancing\",\"square dancing\",\"square dancing\",\"square dancing\",\"square dancing\",\"square dancing\",\"square dancing\",\"square dancing\",\"square dancing\",\"square dancing\",\"square dancing\",\"square dancing\",\"square dancing\",\"square dancing\",\"square dancing\",\"square dancing\",\"square dancing\",\"square dancing\",\"square dancing\",\"square dancing\",\"square dancing\",\"square dancing\",\"square dancing\",\"square dancing\",\"square dancing\",\"square dancing\",\"square dancing\",\"square dancing\",\"square dancing\",\"square dancing\",\"square dancing\",\"square dancing\",\"square dancing\",\"square dancing\",\"square dancing\",\"square dancing\",\"square dancing\",\"square dancing\",\"square dancing\",\"square dancing\",\"square dancing\",\"square dancing\",\"square dancing\",\"square dancing\",\"square dancing\",\"square dancing\",\"square dancing\",\"square dancing\",\"square dancing\",\"square dancing\",\"square dancing\",\"square dancing\",\"square dancing\",\"square dancing\",\"square dancing\",\"square dancing\",\"square dancing\",\"square dancing\",\"square dancing\",\"square dancing\",\"square dancing\",\"square dancing\",\"square dancing\",\"square dancing\",\"square dancing\",\"square dancing\",\"square dancing\",\"square dancing\",\"square dancing\",\"square dancing\",\"square dancing\",\"square dancing\",\"square dancing\",\"square dancing\",\"square dancing\",\"square dancing\",\"square dancing\",\"square dancing\",\"square dancing\",\"swing dancing\",\"swing dancing\",\"swing dancing\",\"swing dancing\",\"swing dancing\",\"swing dancing\",\"swing dancing\",\"swing dancing\",\"swing dancing\",\"swing dancing\",\"swing dancing\",\"swing dancing\",\"swing dancing\",\"swing dancing\",\"swing dancing\",\"swing dancing\",\"swing dancing\",\"swing dancing\",\"swing dancing\",\"swing dancing\",\"swing dancing\",\"swing dancing\",\"swing dancing\",\"swing dancing\",\"swing dancing\",\"swing dancing\",\"swing dancing\",\"swing dancing\",\"swing dancing\",\"swing dancing\",\"swing dancing\",\"swing dancing\",\"swing dancing\",\"swing dancing\",\"swing dancing\",\"swing dancing\",\"swing dancing\",\"swing dancing\",\"swing dancing\",\"swing dancing\",\"swing dancing\",\"swing dancing\",\"swing dancing\",\"swing dancing\",\"swing dancing\",\"swing dancing\",\"swing dancing\",\"swing dancing\",\"swing dancing\",\"swing dancing\",\"swing dancing\",\"swing dancing\",\"swing dancing\",\"swing dancing\",\"swing dancing\",\"swing dancing\",\"swing dancing\",\"swing dancing\",\"swing dancing\",\"swing dancing\",\"swing dancing\",\"swing dancing\",\"swing dancing\",\"swing dancing\",\"swing dancing\",\"swing dancing\",\"swing dancing\",\"swing dancing\",\"swing dancing\",\"swing dancing\",\"swing dancing\",\"swing dancing\",\"swing dancing\",\"swing dancing\",\"swing dancing\",\"swing dancing\",\"swing dancing\",\"swing dancing\",\"swing dancing\",\"swing dancing\",\"swing dancing\",\"swing dancing\",\"swing dancing\",\"swing dancing\",\"swing dancing\",\"swing dancing\",\"swing dancing\",\"swing dancing\",\"swing dancing\",\"swing dancing\",\"swing dancing\",\"swing dancing\",\"swing dancing\",\"swing dancing\",\"swing dancing\",\"swing dancing\",\"swing dancing\",\"swing dancing\",\"swing dancing\",\"swing dancing\",\"swing dancing\",\"swing dancing\",\"swing dancing\",\"swing dancing\",\"swing dancing\",\"swing dancing\",\"swing dancing\",\"swing dancing\",\"swing dancing\",\"swing dancing\",\"swing dancing\",\"swing dancing\",\"swing dancing\",\"swing dancing\",\"swing dancing\",\"swing dancing\",\"swing dancing\",\"swing dancing\",\"swing dancing\",\"swing dancing\",\"swing dancing\",\"swing dancing\",\"swing dancing\",\"swing dancing\",\"swing dancing\",\"swing dancing\",\"swing dancing\",\"swing dancing\",\"swing dancing\",\"swing dancing\",\"swing dancing\",\"swing dancing\",\"swing dancing\",\"swing dancing\",\"swing dancing\",\"swing dancing\",\"swing dancing\",\"swing dancing\",\"swing dancing\",\"swing dancing\",\"swing dancing\",\"swing dancing\",\"swing dancing\",\"swing dancing\",\"swing dancing\",\"swing dancing\",\"swing dancing\",\"swing dancing\",\"swing dancing\",\"swing dancing\",\"swing dancing\",\"swing dancing\",\"swing dancing\",\"swing dancing\",\"swing dancing\",\"swing dancing\",\"swing dancing\",\"swing dancing\",\"swing dancing\",\"swing dancing\",\"swing dancing\",\"swing dancing\",\"swing dancing\",\"swing dancing\",\"swing dancing\",\"swing dancing\",\"swing dancing\",\"swing dancing\",\"swing dancing\",\"swing dancing\",\"swing dancing\",\"swing dancing\",\"swing dancing\",\"swing dancing\",\"swing dancing\",\"swing dancing\",\"swing dancing\",\"swing dancing\",\"swing dancing\",\"swing dancing\",\"swing dancing\",\"swing dancing\",\"swing dancing\",\"swing dancing\",\"swing dancing\",\"swing dancing\",\"swing dancing\",\"swing dancing\",\"swing dancing\",\"swing dancing\",\"swing dancing\",\"swing dancing\",\"swing dancing\",\"swing dancing\",\"swing dancing\",\"swing dancing\",\"swing dancing\",\"swing dancing\",\"swing dancing\",\"swing dancing\",\"swing dancing\",\"swing dancing\",\"swing dancing\",\"swing dancing\",\"swing dancing\",\"swing dancing\",\"swing dancing\",\"swing dancing\",\"swing dancing\",\"swing dancing\",\"swing dancing\",\"swing dancing\",\"swing dancing\",\"swing dancing\",\"swing dancing\",\"swing dancing\",\"swing dancing\",\"swing dancing\",\"swing dancing\",\"swing dancing\",\"swing dancing\",\"swing dancing\",\"swing dancing\",\"swing dancing\",\"swing dancing\",\"swing dancing\",\"swing dancing\",\"swing dancing\",\"swing dancing\",\"swing dancing\",\"swing dancing\",\"swing dancing\",\"swing dancing\",\"swing dancing\",\"swing dancing\",\"swing dancing\",\"swing dancing\",\"swing dancing\",\"swing dancing\",\"swing dancing\",\"swing dancing\",\"swing dancing\",\"swing dancing\",\"swing dancing\",\"swing dancing\",\"swing dancing\",\"swing dancing\",\"swing dancing\",\"swing dancing\",\"swing dancing\",\"swing dancing\",\"swing dancing\",\"swing dancing\",\"swing dancing\",\"swing dancing\",\"swing dancing\",\"swing dancing\",\"swing dancing\",\"swing dancing\",\"swing dancing\",\"swing dancing\",\"swing dancing\",\"swing dancing\",\"swing dancing\",\"swing dancing\",\"swing dancing\",\"swing dancing\",\"swing dancing\",\"swing dancing\",\"swing dancing\",\"swing dancing\",\"swing dancing\",\"swing dancing\",\"swing dancing\",\"swing dancing\",\"swing dancing\",\"swing dancing\",\"swing dancing\",\"swing dancing\",\"swing dancing\",\"swing dancing\",\"swing dancing\",\"swing dancing\",\"swing dancing\",\"swing dancing\",\"swing dancing\",\"swing dancing\",\"swing dancing\",\"swing dancing\",\"swing dancing\",\"swing dancing\",\"swing dancing\",\"swing dancing\",\"swing dancing\",\"swing dancing\",\"swing dancing\",\"swing dancing\",\"swing dancing\",\"swing dancing\",\"swing dancing\",\"swing dancing\",\"swing dancing\",\"swing dancing\",\"swing dancing\",\"swing dancing\",\"swing dancing\",\"swing dancing\",\"swing dancing\",\"swing dancing\",\"swing dancing\",\"swing dancing\",\"swing dancing\",\"swing dancing\",\"swing dancing\",\"swing dancing\",\"swing dancing\",\"swing dancing\",\"swing dancing\",\"swing dancing\",\"swing dancing\",\"swing dancing\",\"swing dancing\",\"swing dancing\",\"swing dancing\",\"swing dancing\",\"swing dancing\",\"swing dancing\",\"swing dancing\",\"swing dancing\",\"swing dancing\",\"swing dancing\",\"swing dancing\",\"swing dancing\",\"swing dancing\",\"swing dancing\",\"swing dancing\",\"swing dancing\",\"swing dancing\",\"swing dancing\",\"swing dancing\",\"swing dancing\",\"swing dancing\",\"swing dancing\",\"swing dancing\",\"swing dancing\",\"swing dancing\",\"swing dancing\",\"swing dancing\",\"swing dancing\",\"swing dancing\",\"swing dancing\",\"swing dancing\",\"swing dancing\",\"swing dancing\",\"swing dancing\",\"swing dancing\",\"swing dancing\",\"swing dancing\",\"swing dancing\",\"swing dancing\",\"swing dancing\",\"swing dancing\",\"swing dancing\",\"swing dancing\",\"swing dancing\",\"swing dancing\",\"swing dancing\",\"swing dancing\",\"swing dancing\",\"swing dancing\",\"swing dancing\",\"swing dancing\",\"swing dancing\",\"swing dancing\",\"swing dancing\",\"swing dancing\",\"swing dancing\",\"swing dancing\",\"swing dancing\",\"swing dancing\",\"swing dancing\",\"swing dancing\",\"swing dancing\",\"swing dancing\",\"swing dancing\",\"swing dancing\",\"swing dancing\",\"swing dancing\",\"swing dancing\",\"swing dancing\",\"swing dancing\",\"swing dancing\",\"swing dancing\",\"swing dancing\",\"swing dancing\",\"swing dancing\",\"swing dancing\",\"swing dancing\",\"swing dancing\",\"swing dancing\",\"swing dancing\",\"swing dancing\",\"swing dancing\",\"swing dancing\",\"swing dancing\",\"swing dancing\",\"swing dancing\",\"swing dancing\",\"swing dancing\",\"swing dancing\",\"swing dancing\",\"swing dancing\",\"swing dancing\",\"swing dancing\",\"swing dancing\",\"swing dancing\",\"swing dancing\",\"swing dancing\",\"swing dancing\",\"swing dancing\",\"swing dancing\",\"swing dancing\",\"swing dancing\",\"swing dancing\",\"swing dancing\",\"swing dancing\",\"swing dancing\",\"swing dancing\",\"swing dancing\",\"swing dancing\",\"swing dancing\",\"swing dancing\",\"swing dancing\",\"swing dancing\",\"swing dancing\",\"swing dancing\",\"swing dancing\",\"swing dancing\",\"swing dancing\",\"swing dancing\",\"swing dancing\",\"swing dancing\",\"swing dancing\",\"swing dancing\",\"swing dancing\",\"swing dancing\",\"swing dancing\",\"swing dancing\",\"swing dancing\",\"swing dancing\",\"swing dancing\",\"swing dancing\",\"swing dancing\",\"swing dancing\",\"swing dancing\",\"swing dancing\",\"swing dancing\",\"swing dancing\",\"swing dancing\",\"swing dancing\",\"swing dancing\",\"swing dancing\",\"swing dancing\",\"swing dancing\",\"swing dancing\",\"swing dancing\",\"swing dancing\",\"swing dancing\",\"swing dancing\",\"swing dancing\",\"swing dancing\",\"swing dancing\",\"swing dancing\",\"swing dancing\",\"swing dancing\",\"swing dancing\",\"swing dancing\",\"swing dancing\",\"swing dancing\",\"swing dancing\",\"swing dancing\",\"swing dancing\",\"swing dancing\",\"swing dancing\",\"swing dancing\",\"swing dancing\",\"swing dancing\",\"swing dancing\",\"swing dancing\",\"swing dancing\",\"swing dancing\",\"swing dancing\",\"swing dancing\",\"swing dancing\",\"swing dancing\",\"swing dancing\",\"swing dancing\",\"swing dancing\",\"swing dancing\",\"swing dancing\",\"swing dancing\",\"swing dancing\",\"swing dancing\",\"swing dancing\",\"swing dancing\",\"swing dancing\",\"swing dancing\",\"swing dancing\",\"swing dancing\",\"swing dancing\",\"swing dancing\",\"swing dancing\",\"swing dancing\",\"swing dancing\",\"swing dancing\",\"swing dancing\",\"swing dancing\",\"swing dancing\",\"swing dancing\",\"swing dancing\",\"swing dancing\",\"swing dancing\",\"swing dancing\",\"swing dancing\",\"swing dancing\",\"swing dancing\",\"swing dancing\",\"swing dancing\",\"swing dancing\",\"swing dancing\",\"swing dancing\",\"swing dancing\",\"swing dancing\",\"swing dancing\",\"swing dancing\",\"swing dancing\",\"swing dancing\",\"swing dancing\",\"swing dancing\",\"swing dancing\",\"swing dancing\",\"swing dancing\",\"swing dancing\",\"swing dancing\",\"swing dancing\",\"swing dancing\",\"swing dancing\",\"swing dancing\",\"swing dancing\",\"swing dancing\",\"swing dancing\",\"swing dancing\",\"swing dancing\",\"swing dancing\",\"swing dancing\",\"swing dancing\",\"swing dancing\",\"swing dancing\",\"swing dancing\",\"swing dancing\",\"swing dancing\",\"swing dancing\",\"swing dancing\",\"swing dancing\",\"swing dancing\",\"swing dancing\",\"swing dancing\",\"swing dancing\",\"swing dancing\",\"swing dancing\",\"swing dancing\",\"swing dancing\",\"swing dancing\",\"swing dancing\",\"swing dancing\",\"swing dancing\",\"swing dancing\",\"swing dancing\",\"swing dancing\",\"swing dancing\",\"swing dancing\",\"swing dancing\",\"swing dancing\",\"swing dancing\",\"swing dancing\",\"swing dancing\",\"swing dancing\",\"swing dancing\",\"swing dancing\",\"swing dancing\",\"swing dancing\",\"swing dancing\",\"swing dancing\",\"swing dancing\",\"swing dancing\",\"swing dancing\",\"swing dancing\",\"swing dancing\",\"swing dancing\",\"swing dancing\",\"swing dancing\",\"swing dancing\",\"swing dancing\",\"swing dancing\",\"swing dancing\",\"swing dancing\",\"swing dancing\",\"swing dancing\",\"swing dancing\",\"swing dancing\",\"swing dancing\",\"swing dancing\",\"swing dancing\",\"swing dancing\",\"swing dancing\",\"swing dancing\",\"swing dancing\",\"swing dancing\",\"swing dancing\",\"swing dancing\",\"swing dancing\",\"swing dancing\",\"swing dancing\",\"swing dancing\",\"swing dancing\",\"swing dancing\",\"swing dancing\",\"swing dancing\",\"swing dancing\",\"swing dancing\",\"swing dancing\",\"swing dancing\",\"swing dancing\",\"swing dancing\",\"swing dancing\",\"swing dancing\",\"swing dancing\",\"swing dancing\",\"swing dancing\",\"swing dancing\",\"swing dancing\",\"swing dancing\",\"swing dancing\",\"swing dancing\",\"swing dancing\",\"swing dancing\",\"swing dancing\",\"swing dancing\",\"swing dancing\",\"swing dancing\",\"swing dancing\",\"swing dancing\",\"swing dancing\",\"swing dancing\",\"swing dancing\",\"swing dancing\",\"swing dancing\",\"swing dancing\",\"swing dancing\",\"swing dancing\",\"swing dancing\",\"swing dancing\",\"swing dancing\",\"swing dancing\",\"swing dancing\",\"swing dancing\",\"swing dancing\",\"swing dancing\",\"swing dancing\",\"swing dancing\",\"swing dancing\",\"swing dancing\",\"swing dancing\",\"swing dancing\",\"swing dancing\",\"swing dancing\",\"swing dancing\",\"swing dancing\",\"swing dancing\",\"swing dancing\",\"swing dancing\",\"swing dancing\",\"swing dancing\",\"swing dancing\",\"swing dancing\",\"swing dancing\",\"swing dancing\",\"swing dancing\",\"swing dancing\",\"swing dancing\",\"swing dancing\",\"swing dancing\",\"swing dancing\",\"swing dancing\",\"swing dancing\",\"swing dancing\",\"swing dancing\",\"swing dancing\",\"swing dancing\",\"swing dancing\",\"swing dancing\",\"swing dancing\",\"swing dancing\",\"swing dancing\",\"swing dancing\",\"swing dancing\",\"swing dancing\",\"swing dancing\",\"swing dancing\",\"swing dancing\",\"swing dancing\",\"swing dancing\",\"swing dancing\",\"swing dancing\",\"swing dancing\",\"swing dancing\",\"swing dancing\",\"swing dancing\",\"swing dancing\",\"swing dancing\",\"swing dancing\",\"swing dancing\",\"swing dancing\",\"swing dancing\",\"swing dancing\",\"swing dancing\",\"swing dancing\",\"swing dancing\",\"swing dancing\",\"swing dancing\",\"swing dancing\",\"swing dancing\",\"swing dancing\",\"swing dancing\",\"swing dancing\",\"swing dancing\",\"swing dancing\",\"swing dancing\",\"swing dancing\",\"swing dancing\",\"swing dancing\",\"swing dancing\",\"swing dancing\",\"swing dancing\",\"swing dancing\",\"swing dancing\",\"swing dancing\",\"swing dancing\",\"swing dancing\",\"swing dancing\",\"swing dancing\",\"swing dancing\",\"swing dancing\",\"swing dancing\",\"swing dancing\",\"swing dancing\",\"swing dancing\",\"swing dancing\",\"swing dancing\",\"swing dancing\",\"swing dancing\",\"swing dancing\",\"swing dancing\",\"swing dancing\",\"swing dancing\",\"swing dancing\",\"swing dancing\",\"swing dancing\",\"swing dancing\",\"swing dancing\",\"swing dancing\",\"swing dancing\",\"swing dancing\",\"swing dancing\",\"swing dancing\",\"swing dancing\",\"swing dancing\",\"swing dancing\",\"swing dancing\",\"swing dancing\",\"swing dancing\",\"swing dancing\",\"swing dancing\",\"swing dancing\",\"swing dancing\",\"swing dancing\",\"swing dancing\",\"swing dancing\",\"swing dancing\",\"swing dancing\",\"swing dancing\",\"swing dancing\",\"swing dancing\",\"swing dancing\",\"swing dancing\",\"swing dancing\",\"swing dancing\",\"swing dancing\",\"swing dancing\",\"swing dancing\",\"swing dancing\",\"swing dancing\",\"swing dancing\",\"swing dancing\",\"swing dancing\",\"swing dancing\",\"swing dancing\",\"swing dancing\",\"swing dancing\",\"swing dancing\",\"swing dancing\",\"swing dancing\",\"swing dancing\",\"swing dancing\",\"swing dancing\",\"swing dancing\",\"swing dancing\",\"swing dancing\",\"swing dancing\",\"swing dancing\",\"swing dancing\",\"swing dancing\",\"swing dancing\",\"swing dancing\",\"swing dancing\",\"swing dancing\",\"swing dancing\",\"swing dancing\",\"swing dancing\",\"swing dancing\",\"swing dancing\",\"swing dancing\",\"swing dancing\",\"swing dancing\",\"swing dancing\",\"swing dancing\",\"swing dancing\",\"swing dancing\",\"swing dancing\",\"swing dancing\",\"swing dancing\",\"swing dancing\",\"swing dancing\",\"swing dancing\",\"swing dancing\",\"swing dancing\",\"swing dancing\",\"swing dancing\",\"swing dancing\",\"swing dancing\",\"swing dancing\",\"swing dancing\",\"swing dancing\",\"swing dancing\",\"swing dancing\",\"swing dancing\",\"swing dancing\",\"swing dancing\",\"swing dancing\",\"swing dancing\",\"swing dancing\",\"swing dancing\",\"swing dancing\",\"swing dancing\",\"swing dancing\",\"swing dancing\",\"swing dancing\",\"swing dancing\",\"swing dancing\",\"swing dancing\",\"swing dancing\",\"swing dancing\",\"swing dancing\",\"swing dancing\",\"swing dancing\",\"swing dancing\",\"swing dancing\",\"swing dancing\",\"swing dancing\",\"swing dancing\",\"swing dancing\",\"swing dancing\",\"swing dancing\",\"swing dancing\",\"swing dancing\",\"swing dancing\",\"swing dancing\",\"swing dancing\",\"swing dancing\",\"swing dancing\",\"swing dancing\",\"swing dancing\",\"swing dancing\",\"swing dancing\",\"swing dancing\",\"swing dancing\",\"swing dancing\",\"swing dancing\",\"swing dancing\",\"swing dancing\",\"swing dancing\",\"swing dancing\",\"swing dancing\",\"swing dancing\",\"swing dancing\",\"swing dancing\",\"swing dancing\",\"swing dancing\",\"swing dancing\",\"swing dancing\",\"swing dancing\",\"swing dancing\",\"swing dancing\",\"swing dancing\",\"swing dancing\",\"swing dancing\",\"swing dancing\",\"swing dancing\",\"swing dancing\",\"swing dancing\",\"swing dancing\",\"swing dancing\",\"swing dancing\",\"swing dancing\",\"swing dancing\",\"swing dancing\",\"swing dancing\",\"swing dancing\",\"swing dancing\",\"swing dancing\",\"swing dancing\",\"swing dancing\",\"swing dancing\",\"swing dancing\",\"swing dancing\",\"swing dancing\",\"swing dancing\",\"swing dancing\",\"swing dancing\",\"swing dancing\",\"swing dancing\",\"swing dancing\",\"swing dancing\",\"swing dancing\",\"swing dancing\",\"swing dancing\",\"swing dancing\",\"swing dancing\",\"swing dancing\",\"swing dancing\",\"swing dancing\",\"swing dancing\",\"swing dancing\",\"swing dancing\",\"swing dancing\",\"swing dancing\",\"swing dancing\",\"swing dancing\",\"swing dancing\",\"swing dancing\",\"swing dancing\",\"swing dancing\",\"swing dancing\",\"swing dancing\",\"swing dancing\",\"swing dancing\",\"swing dancing\",\"swing dancing\",\"swing dancing\",\"swing dancing\",\"swing dancing\",\"swing dancing\",\"swing dancing\",\"tango dancing\",\"tango dancing\",\"tango dancing\",\"tango dancing\",\"tango dancing\",\"tango dancing\",\"tango dancing\",\"tango dancing\",\"tango dancing\",\"tango dancing\",\"tango dancing\",\"tango dancing\",\"tango dancing\",\"tango dancing\",\"tango dancing\",\"tango dancing\",\"tango dancing\",\"tango dancing\",\"tango dancing\",\"tango dancing\",\"tango dancing\",\"tango dancing\",\"tango dancing\",\"tango dancing\",\"tango dancing\",\"tango dancing\",\"tango dancing\",\"tango dancing\",\"tango dancing\",\"tango dancing\",\"tango dancing\",\"tango dancing\",\"tango dancing\",\"tango dancing\",\"tango dancing\",\"tango dancing\",\"tango dancing\",\"tango dancing\",\"tango dancing\",\"tango dancing\",\"tango dancing\",\"tango dancing\",\"tango dancing\",\"tango dancing\",\"tango dancing\",\"tango dancing\",\"tango dancing\",\"tango dancing\",\"tango dancing\",\"tango dancing\",\"tango dancing\",\"tango dancing\",\"tango dancing\",\"tango dancing\",\"tango dancing\",\"tango dancing\",\"tango dancing\",\"tango dancing\",\"tango dancing\",\"tango dancing\",\"tango dancing\",\"tango dancing\",\"tango dancing\",\"tango dancing\",\"tango dancing\",\"tango dancing\",\"tango dancing\",\"tango dancing\",\"tango dancing\",\"tango dancing\",\"tango dancing\",\"tango dancing\",\"tango dancing\",\"tango dancing\",\"tango dancing\",\"tango dancing\",\"tango dancing\",\"tango dancing\",\"tango dancing\",\"tango dancing\",\"tango dancing\",\"tango dancing\",\"tango dancing\",\"tango dancing\",\"tango dancing\",\"tango dancing\",\"tango dancing\",\"tango dancing\",\"tango dancing\",\"tango dancing\",\"tango dancing\",\"tango dancing\",\"tango dancing\",\"tango dancing\",\"tango dancing\",\"tango dancing\",\"tango dancing\",\"tango dancing\",\"tango dancing\",\"tango dancing\",\"tango dancing\",\"tango dancing\",\"tango dancing\",\"tango dancing\",\"tango dancing\",\"tango dancing\",\"tango dancing\",\"tango dancing\",\"tango dancing\",\"tango dancing\",\"tango dancing\",\"tango dancing\",\"tango dancing\",\"tango dancing\",\"tango dancing\",\"tango dancing\",\"tango dancing\",\"tango dancing\",\"tango dancing\",\"tango dancing\",\"tango dancing\",\"tango dancing\",\"tango dancing\",\"tango dancing\",\"tango dancing\",\"tango dancing\",\"tango dancing\",\"tango dancing\",\"tango dancing\",\"tango dancing\",\"tango dancing\",\"tango dancing\",\"tango dancing\",\"tango dancing\",\"tango dancing\",\"tango dancing\",\"tango dancing\",\"tango dancing\",\"tango dancing\",\"tango dancing\",\"tango dancing\",\"tango dancing\",\"tango dancing\",\"tango dancing\",\"tango dancing\",\"tango dancing\",\"tango dancing\",\"tango dancing\",\"tango dancing\",\"tango dancing\",\"tango dancing\",\"tango dancing\",\"tango dancing\",\"tango dancing\",\"tango dancing\",\"tango dancing\",\"tango dancing\",\"tango dancing\",\"tango dancing\",\"tango dancing\",\"tango dancing\",\"tango dancing\",\"tango dancing\",\"tango dancing\",\"tango dancing\",\"tango dancing\",\"tango dancing\",\"tango dancing\",\"tango dancing\",\"tango dancing\",\"tango dancing\",\"tango dancing\",\"tango dancing\",\"tango dancing\",\"tango dancing\",\"tango dancing\",\"tango dancing\",\"tango dancing\",\"tango dancing\",\"tango dancing\",\"tango dancing\",\"tango dancing\",\"tango dancing\",\"tango dancing\",\"tango dancing\",\"tango dancing\",\"tango dancing\",\"tango dancing\",\"tango dancing\",\"tango dancing\",\"tango dancing\",\"tango dancing\",\"tango dancing\",\"tango dancing\",\"tango dancing\",\"tango dancing\",\"tango dancing\",\"tango dancing\",\"tango dancing\",\"tango dancing\",\"tango dancing\",\"tango dancing\",\"tango dancing\",\"tango dancing\",\"tango dancing\",\"tango dancing\",\"tango dancing\",\"tango dancing\",\"tango dancing\",\"tango dancing\",\"tango dancing\",\"tango dancing\",\"tango dancing\",\"tango dancing\",\"tango dancing\",\"tango dancing\",\"tango dancing\",\"tango dancing\",\"tango dancing\",\"tango dancing\",\"tango dancing\",\"tango dancing\",\"tango dancing\",\"tango dancing\",\"tango dancing\",\"tango dancing\",\"tango dancing\",\"tango dancing\",\"tango dancing\",\"tango dancing\",\"tango dancing\",\"tango dancing\",\"tango dancing\",\"tango dancing\",\"tango dancing\",\"tango dancing\",\"tango dancing\",\"tango dancing\",\"tango dancing\",\"tango dancing\",\"tango dancing\",\"tango dancing\",\"tango dancing\",\"tango dancing\",\"tango dancing\",\"tango dancing\",\"tango dancing\",\"tango dancing\",\"tango dancing\",\"tango dancing\",\"tango dancing\",\"tango dancing\",\"tango dancing\",\"tango dancing\",\"tango dancing\",\"tango dancing\",\"tango dancing\",\"tango dancing\",\"tango dancing\",\"tango dancing\",\"tango dancing\",\"tango dancing\",\"tango dancing\",\"tango dancing\",\"tango dancing\",\"tango dancing\",\"tango dancing\",\"tango dancing\",\"tango dancing\",\"tango dancing\",\"tango dancing\",\"tango dancing\",\"tango dancing\",\"tango dancing\",\"tango dancing\",\"tango dancing\",\"tango dancing\",\"tango dancing\",\"tango dancing\",\"tango dancing\",\"tango dancing\",\"tango dancing\",\"tango dancing\",\"tango dancing\",\"tango dancing\",\"tango dancing\",\"tango dancing\",\"tango dancing\",\"tango dancing\",\"tango dancing\",\"tango dancing\",\"tango dancing\",\"tango dancing\",\"tango dancing\",\"tango dancing\",\"tango dancing\",\"tango dancing\",\"tango dancing\",\"tango dancing\",\"tango dancing\",\"tango dancing\",\"tango dancing\",\"tango dancing\",\"tango dancing\",\"tango dancing\",\"tango dancing\",\"tango dancing\",\"tango dancing\",\"tango dancing\",\"tango dancing\",\"tango dancing\",\"tango dancing\",\"tango dancing\",\"tango dancing\",\"tango dancing\",\"tango dancing\",\"tango dancing\",\"tango dancing\",\"tango dancing\",\"tango dancing\",\"tango dancing\",\"tango dancing\",\"tango dancing\",\"tango dancing\",\"tango dancing\",\"tango dancing\",\"tango dancing\",\"tango dancing\",\"tango dancing\",\"tango dancing\",\"tango dancing\",\"tango dancing\",\"tango dancing\",\"tango dancing\",\"tango dancing\",\"tango dancing\",\"tango dancing\",\"tango dancing\",\"tango dancing\",\"tango dancing\",\"tango dancing\",\"tango dancing\",\"tango dancing\",\"tango dancing\",\"tango dancing\",\"tango dancing\",\"tango dancing\",\"tango dancing\",\"tango dancing\",\"tango dancing\",\"tango dancing\",\"tango dancing\",\"tango dancing\",\"tango dancing\",\"tango dancing\",\"tango dancing\",\"tango dancing\",\"tango dancing\",\"tango dancing\",\"tango dancing\",\"tango dancing\",\"tango dancing\",\"tango dancing\",\"tango dancing\",\"tango dancing\",\"tango dancing\",\"tango dancing\",\"tango dancing\",\"tango dancing\",\"tango dancing\",\"tango dancing\",\"tango dancing\",\"tango dancing\",\"tango dancing\",\"tango dancing\",\"tango dancing\",\"tango dancing\",\"tango dancing\",\"tango dancing\",\"tango dancing\",\"tango dancing\",\"tango dancing\",\"tango dancing\",\"tango dancing\",\"tango dancing\",\"tango dancing\",\"tango dancing\",\"tango dancing\",\"tango dancing\",\"tango dancing\",\"tango dancing\",\"tango dancing\",\"tango dancing\",\"tango dancing\",\"tango dancing\",\"tango dancing\",\"tango dancing\",\"tango dancing\",\"tango dancing\",\"tango dancing\",\"tango dancing\",\"tango dancing\",\"tango dancing\",\"tango dancing\",\"tango dancing\",\"tango dancing\",\"tango dancing\",\"tango dancing\",\"tango dancing\",\"tango dancing\",\"tango dancing\",\"tango dancing\",\"tango dancing\",\"tango dancing\",\"tango dancing\",\"tango dancing\",\"tango dancing\",\"tango dancing\",\"tango dancing\",\"tango dancing\",\"tango dancing\",\"tango dancing\",\"tango dancing\",\"tango dancing\",\"tango dancing\",\"tango dancing\",\"tango dancing\",\"tango dancing\",\"tango dancing\",\"tango dancing\",\"tango dancing\",\"tango dancing\",\"tango dancing\",\"tango dancing\",\"tango dancing\",\"tango dancing\",\"tango dancing\",\"tango dancing\",\"tango dancing\",\"tango dancing\",\"tango dancing\",\"tango dancing\",\"tango dancing\",\"tango dancing\",\"tango dancing\",\"tango dancing\",\"tango dancing\",\"tango dancing\",\"tango dancing\",\"tango dancing\",\"tango dancing\",\"tango dancing\",\"tango dancing\",\"tango dancing\",\"tango dancing\",\"tango dancing\",\"tango dancing\",\"tango dancing\",\"tango dancing\",\"tango dancing\",\"tango dancing\",\"tango dancing\",\"tango dancing\",\"tango dancing\",\"tango dancing\",\"tango dancing\",\"tango dancing\",\"tango dancing\",\"tango dancing\",\"tango dancing\",\"tango dancing\",\"tango dancing\",\"tango dancing\",\"tango dancing\",\"tango dancing\",\"tango dancing\",\"tango dancing\",\"tango dancing\",\"tango dancing\",\"tango dancing\",\"tango dancing\",\"tango dancing\",\"tango dancing\",\"tango dancing\",\"tango dancing\",\"tango dancing\",\"tango dancing\",\"tango dancing\",\"tango dancing\",\"tango dancing\",\"tango dancing\",\"tango dancing\",\"tango dancing\",\"tango dancing\",\"tango dancing\",\"tango dancing\",\"tango dancing\",\"tango dancing\",\"tango dancing\",\"tango dancing\",\"tango dancing\",\"tango dancing\",\"tango dancing\",\"tango dancing\",\"tango dancing\",\"tango dancing\",\"tango dancing\",\"tango dancing\",\"tango dancing\",\"tango dancing\",\"tango dancing\",\"tango dancing\",\"tango dancing\",\"tango dancing\",\"tango dancing\",\"tango dancing\",\"tango dancing\",\"tango dancing\",\"tango dancing\",\"tango dancing\",\"tango dancing\",\"tango dancing\",\"tango dancing\",\"tango dancing\",\"tango dancing\",\"tango dancing\",\"tango dancing\",\"tango dancing\",\"tango dancing\",\"tango dancing\",\"tango dancing\",\"tango dancing\",\"tango dancing\",\"tango dancing\",\"tango dancing\",\"tango dancing\",\"tango dancing\",\"tango dancing\",\"tango dancing\",\"tango dancing\",\"tango dancing\",\"tango dancing\",\"tango dancing\",\"tango dancing\",\"tango dancing\",\"tango dancing\",\"tango dancing\",\"tango dancing\",\"tango dancing\",\"tango dancing\",\"tango dancing\",\"tango dancing\",\"tango dancing\",\"tango dancing\",\"tango dancing\",\"tango dancing\",\"tango dancing\",\"tango dancing\",\"tango dancing\",\"tango dancing\",\"tango dancing\",\"tango dancing\",\"tango dancing\",\"tango dancing\",\"tango dancing\",\"tango dancing\",\"tango dancing\",\"tango dancing\",\"tango dancing\",\"tango dancing\",\"tango dancing\",\"tango dancing\",\"tango dancing\",\"tango dancing\",\"tango dancing\",\"tango dancing\",\"tango dancing\",\"tango dancing\",\"tango dancing\",\"tango dancing\",\"tango dancing\",\"tango dancing\",\"tango dancing\",\"tango dancing\",\"tango dancing\",\"tango dancing\",\"tango dancing\",\"tango dancing\",\"tango dancing\",\"tango dancing\",\"tango dancing\",\"tango dancing\",\"tango dancing\",\"tango dancing\",\"tango dancing\",\"tango dancing\",\"tango dancing\",\"tango dancing\",\"tango dancing\",\"tango dancing\",\"tango dancing\",\"tango dancing\",\"tango dancing\",\"tango dancing\",\"tango dancing\",\"tango dancing\",\"tango dancing\",\"tango dancing\",\"tango dancing\",\"tango dancing\",\"tango dancing\",\"tango dancing\",\"tango dancing\",\"tango dancing\",\"tango dancing\",\"tango dancing\",\"tango dancing\",\"tango dancing\",\"tango dancing\",\"tango dancing\",\"tango dancing\",\"tango dancing\",\"tango dancing\",\"tango dancing\",\"tango dancing\",\"tango dancing\",\"tango dancing\",\"tango dancing\",\"tango dancing\",\"tango dancing\",\"tango dancing\",\"tango dancing\",\"tango dancing\",\"tango dancing\",\"tango dancing\",\"tango dancing\",\"tango dancing\",\"tango dancing\",\"tango dancing\",\"tango dancing\",\"tango dancing\",\"tango dancing\",\"tango dancing\",\"tango dancing\",\"tango dancing\",\"tango dancing\",\"tango dancing\",\"tango dancing\",\"tango dancing\",\"tango dancing\",\"tango dancing\",\"tango dancing\",\"tango dancing\",\"tango dancing\",\"tango dancing\",\"tango dancing\",\"tango dancing\",\"tango dancing\",\"tango dancing\",\"tango dancing\",\"tango dancing\",\"tango dancing\",\"tango dancing\",\"tango dancing\",\"tango dancing\",\"tango dancing\",\"tango dancing\",\"tango dancing\",\"tango dancing\",\"tango dancing\",\"tango dancing\",\"tango dancing\",\"tango dancing\",\"tango dancing\",\"tango dancing\",\"tango dancing\",\"tango dancing\",\"tango dancing\",\"tango dancing\",\"tango dancing\",\"tango dancing\",\"tango dancing\",\"tango dancing\",\"tango dancing\",\"tango dancing\",\"tango dancing\",\"tango dancing\",\"tango dancing\",\"tango dancing\",\"tango dancing\",\"tango dancing\",\"tango dancing\",\"tango dancing\",\"tango dancing\",\"tango dancing\",\"tango dancing\",\"tango dancing\",\"tango dancing\",\"tango dancing\",\"tango dancing\",\"tango dancing\",\"tango dancing\",\"tango dancing\",\"tango dancing\",\"tango dancing\",\"tango dancing\",\"tango dancing\",\"tango dancing\",\"tango dancing\",\"tango dancing\",\"tango dancing\",\"tango dancing\",\"tango dancing\",\"tango dancing\",\"tango dancing\",\"tango dancing\",\"tango dancing\",\"tango dancing\",\"tango dancing\",\"tango dancing\",\"tango dancing\",\"tango dancing\",\"tango dancing\",\"tango dancing\",\"tango dancing\",\"tango dancing\",\"tango dancing\",\"tango dancing\",\"tango dancing\",\"tango dancing\",\"tango dancing\",\"tango dancing\",\"tango dancing\",\"tango dancing\",\"tango dancing\",\"tango dancing\",\"tango dancing\",\"tango dancing\",\"tango dancing\",\"tango dancing\",\"tango dancing\",\"tango dancing\",\"tango dancing\",\"tango dancing\",\"tango dancing\",\"tango dancing\",\"tango dancing\",\"tango dancing\",\"tango dancing\",\"tango dancing\",\"tango dancing\",\"tango dancing\",\"tango dancing\",\"tango dancing\",\"tango dancing\",\"tango dancing\",\"tango dancing\",\"tango dancing\",\"tango dancing\",\"tango dancing\",\"tango dancing\",\"tango dancing\",\"tango dancing\",\"tango dancing\",\"tango dancing\",\"tango dancing\",\"tango dancing\",\"tango dancing\",\"tango dancing\",\"tango dancing\",\"tango dancing\",\"tango dancing\",\"tango dancing\",\"tango dancing\",\"tango dancing\",\"tango dancing\",\"tango dancing\",\"tango dancing\",\"tango dancing\",\"tango dancing\",\"tango dancing\",\"tango dancing\",\"tango dancing\",\"tango dancing\",\"tango dancing\",\"tango dancing\",\"tango dancing\",\"tango dancing\",\"tango dancing\",\"tango dancing\",\"tango dancing\",\"tango dancing\",\"tango dancing\",\"tango dancing\",\"tango dancing\",\"tango dancing\",\"tango dancing\",\"tango dancing\",\"tango dancing\",\"tango dancing\",\"tango dancing\",\"tango dancing\",\"tango dancing\",\"tango dancing\",\"tango dancing\",\"tango dancing\",\"tango dancing\",\"tango dancing\",\"tango dancing\",\"tango dancing\",\"tango dancing\",\"tango dancing\",\"tango dancing\",\"tango dancing\",\"tango dancing\",\"tango dancing\",\"tango dancing\",\"tango dancing\",\"tango dancing\",\"tango dancing\",\"tango dancing\",\"tango dancing\",\"tango dancing\",\"tango dancing\",\"tango dancing\",\"tango dancing\",\"tango dancing\",\"tango dancing\",\"tango dancing\",\"tango dancing\",\"tango dancing\",\"tango dancing\",\"tango dancing\",\"tango dancing\",\"tango dancing\",\"tango dancing\",\"tango dancing\",\"tango dancing\",\"tango dancing\",\"tango dancing\",\"tango dancing\",\"tango dancing\",\"tango dancing\",\"tango dancing\",\"tango dancing\",\"tango dancing\",\"tango dancing\",\"tango dancing\",\"tango dancing\",\"tango dancing\",\"tango dancing\",\"tango dancing\",\"tango dancing\",\"tango dancing\",\"tango dancing\",\"tango dancing\",\"tango dancing\",\"tango dancing\",\"tango dancing\",\"tango dancing\",\"tango dancing\",\"tango dancing\",\"tango dancing\",\"tango dancing\",\"tango dancing\",\"tango dancing\",\"tango dancing\",\"tango dancing\",\"tango dancing\",\"tango dancing\",\"tango dancing\",\"tango dancing\",\"tango dancing\",\"tango dancing\",\"tango dancing\",\"tango dancing\",\"tango dancing\",\"tango dancing\",\"tango dancing\",\"tango dancing\",\"tango dancing\",\"tango dancing\",\"tango dancing\",\"tango dancing\",\"tango dancing\",\"tango dancing\",\"tango dancing\",\"tango dancing\",\"tango dancing\",\"tango dancing\",\"tango dancing\",\"tango dancing\",\"tango dancing\",\"tango dancing\",\"tango dancing\",\"tango dancing\",\"tango dancing\",\"tango dancing\",\"tango dancing\",\"tango dancing\",\"tango dancing\",\"tango dancing\",\"tango dancing\",\"tango dancing\",\"tango dancing\",\"tango dancing\",\"tango dancing\",\"tango dancing\",\"tango dancing\",\"tango dancing\",\"tango dancing\",\"tango dancing\",\"tango dancing\",\"tango dancing\",\"tango dancing\",\"tango dancing\",\"tango dancing\",\"tango dancing\",\"tango dancing\",\"tango dancing\",\"tango dancing\",\"tango dancing\",\"tango dancing\",\"tango dancing\",\"tango dancing\",\"tango dancing\",\"tango dancing\",\"tap dancing\",\"tap dancing\",\"tap dancing\",\"tap dancing\",\"tap dancing\",\"tap dancing\",\"tap dancing\",\"tap dancing\",\"tap dancing\",\"tap dancing\",\"tap dancing\",\"tap dancing\",\"tap dancing\",\"tap dancing\",\"tap dancing\",\"tap dancing\",\"tap dancing\",\"tap dancing\",\"tap dancing\",\"tap dancing\",\"tap dancing\",\"tap dancing\",\"tap dancing\",\"tap dancing\",\"tap dancing\",\"tap dancing\",\"tap dancing\",\"tap dancing\",\"tap dancing\",\"tap dancing\",\"tap dancing\",\"tap dancing\",\"tap dancing\",\"tap dancing\",\"tap dancing\",\"tap dancing\",\"tap dancing\",\"tap dancing\",\"tap dancing\",\"tap dancing\",\"tap dancing\",\"tap dancing\",\"tap dancing\",\"tap dancing\",\"tap dancing\",\"tap dancing\",\"tap dancing\",\"tap dancing\",\"tap dancing\",\"tap dancing\",\"tap dancing\",\"tap dancing\",\"tap dancing\",\"tap dancing\",\"tap dancing\",\"tap dancing\",\"tap dancing\",\"tap dancing\",\"tap dancing\",\"tap dancing\",\"tap dancing\",\"tap dancing\",\"tap dancing\",\"tap dancing\",\"tap dancing\",\"tap dancing\",\"tap dancing\",\"tap dancing\",\"tap dancing\",\"tap dancing\",\"tap dancing\",\"tap dancing\",\"tap dancing\",\"tap dancing\",\"tap dancing\",\"tap dancing\",\"tap dancing\",\"tap dancing\",\"tap dancing\",\"tap dancing\",\"tap dancing\",\"tap dancing\",\"tap dancing\",\"tap dancing\",\"tap dancing\",\"tap dancing\",\"tap dancing\",\"tap dancing\",\"tap dancing\",\"tap dancing\",\"tap dancing\",\"tap dancing\",\"tap dancing\",\"tap dancing\",\"tap dancing\",\"tap dancing\",\"tap dancing\",\"tap dancing\",\"tap dancing\",\"tap dancing\",\"tap dancing\",\"tap dancing\",\"tap dancing\",\"tap dancing\",\"tap dancing\",\"tap dancing\",\"tap dancing\",\"tap dancing\",\"tap dancing\",\"tap dancing\",\"tap dancing\",\"tap dancing\",\"tap dancing\",\"tap dancing\",\"tap dancing\",\"tap dancing\",\"tap dancing\",\"tap dancing\",\"tap dancing\",\"tap dancing\",\"tap dancing\",\"tap dancing\",\"tap dancing\",\"tap dancing\",\"tap dancing\",\"tap dancing\",\"tap dancing\",\"tap dancing\",\"tap dancing\",\"tap dancing\",\"tap dancing\",\"tap dancing\",\"tap dancing\",\"tap dancing\",\"tap dancing\",\"tap dancing\",\"tap dancing\",\"tap dancing\",\"tap dancing\",\"tap dancing\",\"tap dancing\",\"tap dancing\",\"tap dancing\",\"tap dancing\",\"tap dancing\",\"tap dancing\",\"tap dancing\",\"tap dancing\",\"tap dancing\",\"tap dancing\",\"tap dancing\",\"tap dancing\",\"tap dancing\",\"tap dancing\",\"tap dancing\",\"tap dancing\",\"tap dancing\",\"tap dancing\",\"tap dancing\",\"tap dancing\",\"tap dancing\",\"tap dancing\",\"tap dancing\",\"tap dancing\",\"tap dancing\",\"tap dancing\",\"tap dancing\",\"tap dancing\",\"tap dancing\",\"tap dancing\",\"tap dancing\",\"tap dancing\",\"tap dancing\",\"tap dancing\",\"tap dancing\",\"tap dancing\",\"tap dancing\",\"tap dancing\",\"tap dancing\",\"tap dancing\",\"tap dancing\",\"tap dancing\",\"tap dancing\",\"tap dancing\",\"tap dancing\",\"tap dancing\",\"tap dancing\",\"tap dancing\",\"tap dancing\",\"tap dancing\",\"tap dancing\",\"tap dancing\",\"tap dancing\",\"tap dancing\",\"tap dancing\",\"tap dancing\",\"tap dancing\",\"tap dancing\",\"tap dancing\",\"tap dancing\",\"tap dancing\",\"tap dancing\",\"tap dancing\",\"tap dancing\",\"tap dancing\",\"tap dancing\",\"tap dancing\",\"tap dancing\",\"tap dancing\",\"tap dancing\",\"tap dancing\",\"tap dancing\",\"tap dancing\",\"tap dancing\",\"tap dancing\",\"tap dancing\",\"tap dancing\",\"tap dancing\",\"tap dancing\",\"tap dancing\",\"tap dancing\",\"tap dancing\",\"tap dancing\",\"tap dancing\",\"tap dancing\",\"tap dancing\",\"tap dancing\",\"tap dancing\",\"tap dancing\",\"tap dancing\",\"tap dancing\",\"tap dancing\",\"tap dancing\",\"tap dancing\",\"tap dancing\",\"tap dancing\",\"tap dancing\",\"tap dancing\",\"tap dancing\",\"tap dancing\",\"tap dancing\",\"tap dancing\",\"tap dancing\",\"tap dancing\",\"tap dancing\",\"tap dancing\",\"tap dancing\",\"tap dancing\",\"tap dancing\",\"tap dancing\",\"tap dancing\",\"tap dancing\",\"tap dancing\",\"tap dancing\",\"tap dancing\",\"tap dancing\",\"tap dancing\",\"tap dancing\",\"tap dancing\",\"tap dancing\",\"tap dancing\",\"tap dancing\",\"tap dancing\",\"tap dancing\",\"tap dancing\",\"tap dancing\",\"tap dancing\",\"tap dancing\",\"tap dancing\",\"tap dancing\",\"tap dancing\",\"tap dancing\",\"tap dancing\",\"tap dancing\",\"tap dancing\",\"tap dancing\",\"tap dancing\",\"tap dancing\",\"tap dancing\",\"tap dancing\",\"tap dancing\",\"tap dancing\",\"tap dancing\",\"tap dancing\",\"tap dancing\",\"tap dancing\",\"tap dancing\",\"tap dancing\",\"tap dancing\",\"tap dancing\",\"tap dancing\",\"tap dancing\",\"tap dancing\",\"tap dancing\",\"tap dancing\",\"tap dancing\",\"tap dancing\",\"tap dancing\",\"tap dancing\",\"tap dancing\",\"tap dancing\",\"tap dancing\",\"tap dancing\",\"tap dancing\",\"tap dancing\",\"tap dancing\",\"tap dancing\",\"tap dancing\",\"tap dancing\",\"tap dancing\",\"tap dancing\",\"tap dancing\",\"tap dancing\",\"tap dancing\",\"tap dancing\",\"tap dancing\",\"tap dancing\",\"tap dancing\",\"tap dancing\",\"tap dancing\",\"tap dancing\",\"tap dancing\",\"tap dancing\",\"tap dancing\",\"tap dancing\",\"tap dancing\",\"tap dancing\",\"tap dancing\",\"tap dancing\",\"tap dancing\",\"tap dancing\",\"tap dancing\",\"tap dancing\",\"tap dancing\",\"tap dancing\",\"tap dancing\",\"tap dancing\",\"tap dancing\",\"tap dancing\",\"tap dancing\",\"tap dancing\",\"tap dancing\",\"tap dancing\",\"tap dancing\",\"tap dancing\",\"tap dancing\",\"tap dancing\",\"tap dancing\",\"tap dancing\",\"tap dancing\",\"tap dancing\",\"tap dancing\",\"tap dancing\",\"tap dancing\",\"tap dancing\",\"tap dancing\",\"tap dancing\",\"tap dancing\",\"tap dancing\",\"tap dancing\",\"tap dancing\",\"tap dancing\",\"tap dancing\",\"tap dancing\",\"tap dancing\",\"tap dancing\",\"tap dancing\",\"tap dancing\",\"tap dancing\",\"tap dancing\",\"tap dancing\",\"tap dancing\",\"tap dancing\",\"tap dancing\",\"tap dancing\",\"tap dancing\",\"tap dancing\",\"tap dancing\",\"tap dancing\",\"tap dancing\",\"tap dancing\",\"tap dancing\",\"tap dancing\",\"tap dancing\",\"tap dancing\",\"tap dancing\",\"tap dancing\",\"tap dancing\",\"tap dancing\",\"tap dancing\",\"tap dancing\",\"tap dancing\",\"tap dancing\",\"tap dancing\",\"tap dancing\",\"tap dancing\",\"tap dancing\",\"tap dancing\",\"tap dancing\",\"tap dancing\",\"tap dancing\",\"tap dancing\",\"tap dancing\",\"tap dancing\",\"tap dancing\",\"tap dancing\",\"tap dancing\",\"tap dancing\",\"tap dancing\",\"tap dancing\",\"tap dancing\",\"tap dancing\",\"tap dancing\",\"tap dancing\",\"tap dancing\",\"tap dancing\",\"tap dancing\",\"tap dancing\",\"tap dancing\",\"tap dancing\",\"tap dancing\",\"tap dancing\",\"tap dancing\",\"tap dancing\",\"tap dancing\",\"tap dancing\",\"tap dancing\",\"tap dancing\",\"tap dancing\",\"tap dancing\",\"tap dancing\",\"tap dancing\",\"tap dancing\",\"tap dancing\",\"tap dancing\",\"tap dancing\",\"tap dancing\",\"tap dancing\",\"tap dancing\",\"tap dancing\",\"tap dancing\",\"tap dancing\",\"tap dancing\",\"tap dancing\",\"tap dancing\",\"tap dancing\",\"tap dancing\",\"tap dancing\",\"tap dancing\",\"tap dancing\",\"tap dancing\",\"tap dancing\",\"tap dancing\",\"tap dancing\",\"tap dancing\",\"tap dancing\",\"tap dancing\",\"tap dancing\",\"tap dancing\",\"tap dancing\",\"tap dancing\",\"tap dancing\",\"tap dancing\",\"tap dancing\",\"tap dancing\",\"tap dancing\",\"tap dancing\",\"tap dancing\",\"tap dancing\",\"tap dancing\",\"tap dancing\",\"tap dancing\",\"tap dancing\",\"tap dancing\",\"tap dancing\",\"tap dancing\",\"tap dancing\",\"tap dancing\",\"tap dancing\",\"tap dancing\",\"tap dancing\",\"tap dancing\",\"tap dancing\",\"tap dancing\",\"tap dancing\",\"tap dancing\",\"tap dancing\",\"tap dancing\",\"tap dancing\",\"tap dancing\",\"tap dancing\",\"tap dancing\",\"tap dancing\",\"tap dancing\",\"tap dancing\",\"tap dancing\",\"tap dancing\",\"tap dancing\",\"tap dancing\",\"tap dancing\",\"tap dancing\",\"tap dancing\",\"tap dancing\",\"tap dancing\",\"tap dancing\",\"tap dancing\",\"tap dancing\",\"tap dancing\",\"tap dancing\",\"tap dancing\",\"tap dancing\",\"tap dancing\",\"tap dancing\",\"tap dancing\",\"tap dancing\",\"tap dancing\",\"tap dancing\",\"tap dancing\",\"tap dancing\",\"tap dancing\",\"tap dancing\",\"tap dancing\",\"tap dancing\",\"tap dancing\",\"tap dancing\",\"tap dancing\",\"tap dancing\",\"tap dancing\",\"tap dancing\",\"tap dancing\",\"tap dancing\",\"tap dancing\",\"tap dancing\",\"tap dancing\",\"tap dancing\",\"tap dancing\",\"tap dancing\",\"tap dancing\",\"tap dancing\",\"tap dancing\",\"tap dancing\",\"tap dancing\",\"tap dancing\",\"tap dancing\",\"tap dancing\",\"tap dancing\",\"tap dancing\",\"tap dancing\",\"tap dancing\",\"tap dancing\",\"tap dancing\",\"tap dancing\",\"tap dancing\",\"tap dancing\",\"tap dancing\",\"tap dancing\",\"tap dancing\",\"tap dancing\",\"tap dancing\",\"tap dancing\",\"tap dancing\",\"tap dancing\",\"tap dancing\",\"tap dancing\",\"tap dancing\",\"tap dancing\",\"tap dancing\",\"tap dancing\",\"tap dancing\",\"tap dancing\",\"tap dancing\",\"tap dancing\",\"tap dancing\",\"tap dancing\",\"tap dancing\",\"tap dancing\",\"tap dancing\",\"tap dancing\",\"tap dancing\",\"tap dancing\",\"tap dancing\",\"tap dancing\",\"tap dancing\",\"tap dancing\",\"tap dancing\",\"tap dancing\",\"tap dancing\",\"tap dancing\",\"tap dancing\",\"tap dancing\",\"tap dancing\",\"tap dancing\",\"tap dancing\",\"tap dancing\",\"tap dancing\",\"tap dancing\",\"tap dancing\",\"tap dancing\",\"tap dancing\",\"tap dancing\",\"tap dancing\",\"tap dancing\",\"tap dancing\",\"tap dancing\",\"tap dancing\",\"tap dancing\",\"tap dancing\",\"tap dancing\",\"tap dancing\",\"tap dancing\",\"tap dancing\",\"tap dancing\",\"tap dancing\",\"tap dancing\",\"tap dancing\",\"tap dancing\",\"tap dancing\",\"tap dancing\",\"tap dancing\",\"tap dancing\",\"tap dancing\",\"tap dancing\",\"tap dancing\",\"tap dancing\",\"tap dancing\",\"tap dancing\",\"tap dancing\",\"tap dancing\",\"tap dancing\",\"tap dancing\",\"tap dancing\",\"tap dancing\",\"tap dancing\",\"tap dancing\",\"tap dancing\",\"tap dancing\",\"tap dancing\",\"tap dancing\",\"tap dancing\",\"tap dancing\",\"tap dancing\",\"tap dancing\",\"tap dancing\",\"tap dancing\",\"tap dancing\",\"tap dancing\",\"tap dancing\",\"tap dancing\",\"tap dancing\",\"tap dancing\",\"tap dancing\",\"tap dancing\",\"tap dancing\",\"tap dancing\",\"tap dancing\",\"tap dancing\",\"tap dancing\",\"tap dancing\",\"tap dancing\",\"tap dancing\",\"tap dancing\",\"tap dancing\",\"tap dancing\",\"tap dancing\",\"tap dancing\",\"tap dancing\",\"tap dancing\",\"tap dancing\",\"tap dancing\",\"tap dancing\",\"tap dancing\",\"tap dancing\",\"tap dancing\",\"tap dancing\",\"tap dancing\",\"tap dancing\",\"tap dancing\",\"tap dancing\",\"tap dancing\",\"tap dancing\",\"tap dancing\",\"tap dancing\",\"tap dancing\",\"tap dancing\",\"tap dancing\",\"tap dancing\",\"tap dancing\",\"tap dancing\",\"tap dancing\",\"tap dancing\",\"tap dancing\",\"tap dancing\",\"tap dancing\",\"tap dancing\",\"tap dancing\",\"tap dancing\",\"tap dancing\",\"tap dancing\",\"tap dancing\",\"tap dancing\",\"tap dancing\",\"tap dancing\",\"tap dancing\",\"tap dancing\",\"tap dancing\",\"tap dancing\",\"tap dancing\",\"tap dancing\",\"tap dancing\",\"tap dancing\",\"tap dancing\",\"tap dancing\",\"tap dancing\",\"tap dancing\",\"tap dancing\",\"tap dancing\",\"tap dancing\",\"tap dancing\",\"tap dancing\",\"tap dancing\",\"tap dancing\",\"tap dancing\",\"tap dancing\",\"tap dancing\",\"tap dancing\",\"tap dancing\",\"tap dancing\",\"tap dancing\",\"tap dancing\",\"tap dancing\",\"tap dancing\",\"tap dancing\",\"tap dancing\",\"tap dancing\",\"tap dancing\",\"tap dancing\",\"tap dancing\",\"tap dancing\",\"tap dancing\",\"tap dancing\",\"tap dancing\",\"tap dancing\",\"tap dancing\",\"tap dancing\",\"tap dancing\",\"tap dancing\",\"tap dancing\",\"tap dancing\",\"tap dancing\",\"tap dancing\",\"tap dancing\",\"tap dancing\",\"tap dancing\",\"tap dancing\",\"tap dancing\",\"tap dancing\",\"tap dancing\",\"tap dancing\",\"tap dancing\",\"tap dancing\",\"tap dancing\",\"tap dancing\",\"tap dancing\",\"tap dancing\",\"tap dancing\",\"tap dancing\",\"tap dancing\",\"tap dancing\",\"tap dancing\",\"tap dancing\",\"tap dancing\",\"tap dancing\",\"tap dancing\",\"tap dancing\",\"tap dancing\",\"tap dancing\",\"tap dancing\",\"tap dancing\",\"tap dancing\",\"tap dancing\",\"tap dancing\",\"tap dancing\",\"tap dancing\",\"tap dancing\",\"tap dancing\",\"tap dancing\",\"tap dancing\",\"tap dancing\",\"tap dancing\",\"tap dancing\",\"tap dancing\",\"tap dancing\",\"tap dancing\",\"tap dancing\",\"tap dancing\",\"tap dancing\",\"tap dancing\",\"tap dancing\",\"tap dancing\",\"tap dancing\",\"tap dancing\",\"tap dancing\",\"tap dancing\",\"tap dancing\",\"tap dancing\",\"tap dancing\",\"tap dancing\",\"tap dancing\",\"tap dancing\",\"tap dancing\",\"tap dancing\",\"tap dancing\",\"tap dancing\",\"tap dancing\",\"tap dancing\",\"tap dancing\",\"tap dancing\",\"tap dancing\",\"tap dancing\",\"tap dancing\",\"tap dancing\",\"tap dancing\",\"tap dancing\",\"tap dancing\",\"tap dancing\",\"tap dancing\",\"tap dancing\",\"tap dancing\",\"tap dancing\",\"tap dancing\",\"tap dancing\",\"tap dancing\",\"tap dancing\",\"tap dancing\",\"tap dancing\",\"tap dancing\",\"tap dancing\",\"tap dancing\",\"tap dancing\",\"tap dancing\",\"tap dancing\",\"tap dancing\",\"tap dancing\",\"tap dancing\",\"tap dancing\",\"tap dancing\",\"tap dancing\",\"tap dancing\",\"tap dancing\",\"tap dancing\",\"tap dancing\",\"tap dancing\",\"tap dancing\",\"tap dancing\",\"tap dancing\",\"tap dancing\",\"tap dancing\",\"tap dancing\",\"tap dancing\",\"tap dancing\",\"tap dancing\",\"tap dancing\",\"tap dancing\",\"tap dancing\",\"tap dancing\",\"tap dancing\",\"tap dancing\",\"tap dancing\",\"tap dancing\",\"tap dancing\",\"tap dancing\",\"tap dancing\",\"tap dancing\",\"tap dancing\",\"tap dancing\",\"tap dancing\",\"tap dancing\",\"tap dancing\",\"tap dancing\",\"tap dancing\",\"tap dancing\",\"tap dancing\",\"tap dancing\",\"tap dancing\",\"tap dancing\",\"tap dancing\",\"tap dancing\",\"tap dancing\",\"tap dancing\",\"tap dancing\",\"tap dancing\",\"tap dancing\",\"tap dancing\",\"tap dancing\",\"tap dancing\",\"tap dancing\",\"tap dancing\",\"tap dancing\",\"tap dancing\",\"tap dancing\",\"tap dancing\",\"tap dancing\",\"tap dancing\",\"tap dancing\",\"tap dancing\",\"tap dancing\",\"tap dancing\",\"tap dancing\",\"tap dancing\",\"tap dancing\",\"tap dancing\",\"tap dancing\",\"tap dancing\",\"tap dancing\",\"tap dancing\",\"tap dancing\",\"tap dancing\",\"tap dancing\",\"tap dancing\",\"tap dancing\",\"tap dancing\",\"tap dancing\",\"tap dancing\",\"tap dancing\",\"tap dancing\",\"tap dancing\",\"tap dancing\",\"tap dancing\",\"tap dancing\",\"tap dancing\",\"tap dancing\",\"tap dancing\",\"tap dancing\",\"tap dancing\",\"tap dancing\",\"tap dancing\",\"tap dancing\",\"tap dancing\",\"tap dancing\",\"tap dancing\",\"tap dancing\",\"tap dancing\",\"tap dancing\",\"tap dancing\",\"tap dancing\",\"tap dancing\",\"tap dancing\",\"tap dancing\",\"tap dancing\",\"tap dancing\",\"tap dancing\",\"tap dancing\",\"tap dancing\",\"tap dancing\",\"tap dancing\",\"tap dancing\",\"tap dancing\",\"tap dancing\",\"tap dancing\",\"tap dancing\",\"tap dancing\",\"tap dancing\",\"tap dancing\",\"tap dancing\",\"tap dancing\",\"tap dancing\",\"tap dancing\",\"tap dancing\",\"tap dancing\",\"tap dancing\"],\"xaxis\":\"x\",\"yaxis\":\"y\",\"type\":\"histogram\"}],                        {\"template\":{\"data\":{\"histogram2dcontour\":[{\"type\":\"histogram2dcontour\",\"colorbar\":{\"outlinewidth\":0,\"ticks\":\"\"},\"colorscale\":[[0.0,\"#0d0887\"],[0.1111111111111111,\"#46039f\"],[0.2222222222222222,\"#7201a8\"],[0.3333333333333333,\"#9c179e\"],[0.4444444444444444,\"#bd3786\"],[0.5555555555555556,\"#d8576b\"],[0.6666666666666666,\"#ed7953\"],[0.7777777777777778,\"#fb9f3a\"],[0.8888888888888888,\"#fdca26\"],[1.0,\"#f0f921\"]]}],\"choropleth\":[{\"type\":\"choropleth\",\"colorbar\":{\"outlinewidth\":0,\"ticks\":\"\"}}],\"histogram2d\":[{\"type\":\"histogram2d\",\"colorbar\":{\"outlinewidth\":0,\"ticks\":\"\"},\"colorscale\":[[0.0,\"#0d0887\"],[0.1111111111111111,\"#46039f\"],[0.2222222222222222,\"#7201a8\"],[0.3333333333333333,\"#9c179e\"],[0.4444444444444444,\"#bd3786\"],[0.5555555555555556,\"#d8576b\"],[0.6666666666666666,\"#ed7953\"],[0.7777777777777778,\"#fb9f3a\"],[0.8888888888888888,\"#fdca26\"],[1.0,\"#f0f921\"]]}],\"heatmap\":[{\"type\":\"heatmap\",\"colorbar\":{\"outlinewidth\":0,\"ticks\":\"\"},\"colorscale\":[[0.0,\"#0d0887\"],[0.1111111111111111,\"#46039f\"],[0.2222222222222222,\"#7201a8\"],[0.3333333333333333,\"#9c179e\"],[0.4444444444444444,\"#bd3786\"],[0.5555555555555556,\"#d8576b\"],[0.6666666666666666,\"#ed7953\"],[0.7777777777777778,\"#fb9f3a\"],[0.8888888888888888,\"#fdca26\"],[1.0,\"#f0f921\"]]}],\"heatmapgl\":[{\"type\":\"heatmapgl\",\"colorbar\":{\"outlinewidth\":0,\"ticks\":\"\"},\"colorscale\":[[0.0,\"#0d0887\"],[0.1111111111111111,\"#46039f\"],[0.2222222222222222,\"#7201a8\"],[0.3333333333333333,\"#9c179e\"],[0.4444444444444444,\"#bd3786\"],[0.5555555555555556,\"#d8576b\"],[0.6666666666666666,\"#ed7953\"],[0.7777777777777778,\"#fb9f3a\"],[0.8888888888888888,\"#fdca26\"],[1.0,\"#f0f921\"]]}],\"contourcarpet\":[{\"type\":\"contourcarpet\",\"colorbar\":{\"outlinewidth\":0,\"ticks\":\"\"}}],\"contour\":[{\"type\":\"contour\",\"colorbar\":{\"outlinewidth\":0,\"ticks\":\"\"},\"colorscale\":[[0.0,\"#0d0887\"],[0.1111111111111111,\"#46039f\"],[0.2222222222222222,\"#7201a8\"],[0.3333333333333333,\"#9c179e\"],[0.4444444444444444,\"#bd3786\"],[0.5555555555555556,\"#d8576b\"],[0.6666666666666666,\"#ed7953\"],[0.7777777777777778,\"#fb9f3a\"],[0.8888888888888888,\"#fdca26\"],[1.0,\"#f0f921\"]]}],\"surface\":[{\"type\":\"surface\",\"colorbar\":{\"outlinewidth\":0,\"ticks\":\"\"},\"colorscale\":[[0.0,\"#0d0887\"],[0.1111111111111111,\"#46039f\"],[0.2222222222222222,\"#7201a8\"],[0.3333333333333333,\"#9c179e\"],[0.4444444444444444,\"#bd3786\"],[0.5555555555555556,\"#d8576b\"],[0.6666666666666666,\"#ed7953\"],[0.7777777777777778,\"#fb9f3a\"],[0.8888888888888888,\"#fdca26\"],[1.0,\"#f0f921\"]]}],\"mesh3d\":[{\"type\":\"mesh3d\",\"colorbar\":{\"outlinewidth\":0,\"ticks\":\"\"}}],\"scatter\":[{\"fillpattern\":{\"fillmode\":\"overlay\",\"size\":10,\"solidity\":0.2},\"type\":\"scatter\"}],\"parcoords\":[{\"type\":\"parcoords\",\"line\":{\"colorbar\":{\"outlinewidth\":0,\"ticks\":\"\"}}}],\"scatterpolargl\":[{\"type\":\"scatterpolargl\",\"marker\":{\"colorbar\":{\"outlinewidth\":0,\"ticks\":\"\"}}}],\"bar\":[{\"error_x\":{\"color\":\"#2a3f5f\"},\"error_y\":{\"color\":\"#2a3f5f\"},\"marker\":{\"line\":{\"color\":\"#E5ECF6\",\"width\":0.5},\"pattern\":{\"fillmode\":\"overlay\",\"size\":10,\"solidity\":0.2}},\"type\":\"bar\"}],\"scattergeo\":[{\"type\":\"scattergeo\",\"marker\":{\"colorbar\":{\"outlinewidth\":0,\"ticks\":\"\"}}}],\"scatterpolar\":[{\"type\":\"scatterpolar\",\"marker\":{\"colorbar\":{\"outlinewidth\":0,\"ticks\":\"\"}}}],\"histogram\":[{\"marker\":{\"pattern\":{\"fillmode\":\"overlay\",\"size\":10,\"solidity\":0.2}},\"type\":\"histogram\"}],\"scattergl\":[{\"type\":\"scattergl\",\"marker\":{\"colorbar\":{\"outlinewidth\":0,\"ticks\":\"\"}}}],\"scatter3d\":[{\"type\":\"scatter3d\",\"line\":{\"colorbar\":{\"outlinewidth\":0,\"ticks\":\"\"}},\"marker\":{\"colorbar\":{\"outlinewidth\":0,\"ticks\":\"\"}}}],\"scattermapbox\":[{\"type\":\"scattermapbox\",\"marker\":{\"colorbar\":{\"outlinewidth\":0,\"ticks\":\"\"}}}],\"scatterternary\":[{\"type\":\"scatterternary\",\"marker\":{\"colorbar\":{\"outlinewidth\":0,\"ticks\":\"\"}}}],\"scattercarpet\":[{\"type\":\"scattercarpet\",\"marker\":{\"colorbar\":{\"outlinewidth\":0,\"ticks\":\"\"}}}],\"carpet\":[{\"aaxis\":{\"endlinecolor\":\"#2a3f5f\",\"gridcolor\":\"white\",\"linecolor\":\"white\",\"minorgridcolor\":\"white\",\"startlinecolor\":\"#2a3f5f\"},\"baxis\":{\"endlinecolor\":\"#2a3f5f\",\"gridcolor\":\"white\",\"linecolor\":\"white\",\"minorgridcolor\":\"white\",\"startlinecolor\":\"#2a3f5f\"},\"type\":\"carpet\"}],\"table\":[{\"cells\":{\"fill\":{\"color\":\"#EBF0F8\"},\"line\":{\"color\":\"white\"}},\"header\":{\"fill\":{\"color\":\"#C8D4E3\"},\"line\":{\"color\":\"white\"}},\"type\":\"table\"}],\"barpolar\":[{\"marker\":{\"line\":{\"color\":\"#E5ECF6\",\"width\":0.5},\"pattern\":{\"fillmode\":\"overlay\",\"size\":10,\"solidity\":0.2}},\"type\":\"barpolar\"}],\"pie\":[{\"automargin\":true,\"type\":\"pie\"}]},\"layout\":{\"autotypenumbers\":\"strict\",\"colorway\":[\"#636efa\",\"#EF553B\",\"#00cc96\",\"#ab63fa\",\"#FFA15A\",\"#19d3f3\",\"#FF6692\",\"#B6E880\",\"#FF97FF\",\"#FECB52\"],\"font\":{\"color\":\"#2a3f5f\"},\"hovermode\":\"closest\",\"hoverlabel\":{\"align\":\"left\"},\"paper_bgcolor\":\"white\",\"plot_bgcolor\":\"#E5ECF6\",\"polar\":{\"bgcolor\":\"#E5ECF6\",\"angularaxis\":{\"gridcolor\":\"white\",\"linecolor\":\"white\",\"ticks\":\"\"},\"radialaxis\":{\"gridcolor\":\"white\",\"linecolor\":\"white\",\"ticks\":\"\"}},\"ternary\":{\"bgcolor\":\"#E5ECF6\",\"aaxis\":{\"gridcolor\":\"white\",\"linecolor\":\"white\",\"ticks\":\"\"},\"baxis\":{\"gridcolor\":\"white\",\"linecolor\":\"white\",\"ticks\":\"\"},\"caxis\":{\"gridcolor\":\"white\",\"linecolor\":\"white\",\"ticks\":\"\"}},\"coloraxis\":{\"colorbar\":{\"outlinewidth\":0,\"ticks\":\"\"}},\"colorscale\":{\"sequential\":[[0.0,\"#0d0887\"],[0.1111111111111111,\"#46039f\"],[0.2222222222222222,\"#7201a8\"],[0.3333333333333333,\"#9c179e\"],[0.4444444444444444,\"#bd3786\"],[0.5555555555555556,\"#d8576b\"],[0.6666666666666666,\"#ed7953\"],[0.7777777777777778,\"#fb9f3a\"],[0.8888888888888888,\"#fdca26\"],[1.0,\"#f0f921\"]],\"sequentialminus\":[[0.0,\"#0d0887\"],[0.1111111111111111,\"#46039f\"],[0.2222222222222222,\"#7201a8\"],[0.3333333333333333,\"#9c179e\"],[0.4444444444444444,\"#bd3786\"],[0.5555555555555556,\"#d8576b\"],[0.6666666666666666,\"#ed7953\"],[0.7777777777777778,\"#fb9f3a\"],[0.8888888888888888,\"#fdca26\"],[1.0,\"#f0f921\"]],\"diverging\":[[0,\"#8e0152\"],[0.1,\"#c51b7d\"],[0.2,\"#de77ae\"],[0.3,\"#f1b6da\"],[0.4,\"#fde0ef\"],[0.5,\"#f7f7f7\"],[0.6,\"#e6f5d0\"],[0.7,\"#b8e186\"],[0.8,\"#7fbc41\"],[0.9,\"#4d9221\"],[1,\"#276419\"]]},\"xaxis\":{\"gridcolor\":\"white\",\"linecolor\":\"white\",\"ticks\":\"\",\"title\":{\"standoff\":15},\"zerolinecolor\":\"white\",\"automargin\":true,\"zerolinewidth\":2},\"yaxis\":{\"gridcolor\":\"white\",\"linecolor\":\"white\",\"ticks\":\"\",\"title\":{\"standoff\":15},\"zerolinecolor\":\"white\",\"automargin\":true,\"zerolinewidth\":2},\"scene\":{\"xaxis\":{\"backgroundcolor\":\"#E5ECF6\",\"gridcolor\":\"white\",\"linecolor\":\"white\",\"showbackground\":true,\"ticks\":\"\",\"zerolinecolor\":\"white\",\"gridwidth\":2},\"yaxis\":{\"backgroundcolor\":\"#E5ECF6\",\"gridcolor\":\"white\",\"linecolor\":\"white\",\"showbackground\":true,\"ticks\":\"\",\"zerolinecolor\":\"white\",\"gridwidth\":2},\"zaxis\":{\"backgroundcolor\":\"#E5ECF6\",\"gridcolor\":\"white\",\"linecolor\":\"white\",\"showbackground\":true,\"ticks\":\"\",\"zerolinecolor\":\"white\",\"gridwidth\":2}},\"shapedefaults\":{\"line\":{\"color\":\"#2a3f5f\"}},\"annotationdefaults\":{\"arrowcolor\":\"#2a3f5f\",\"arrowhead\":0,\"arrowwidth\":1},\"geo\":{\"bgcolor\":\"white\",\"landcolor\":\"#E5ECF6\",\"subunitcolor\":\"white\",\"showland\":true,\"showlakes\":true,\"lakecolor\":\"white\"},\"title\":{\"x\":0.05},\"mapbox\":{\"style\":\"light\"}}},\"xaxis\":{\"anchor\":\"y\",\"domain\":[0.0,1.0],\"title\":{\"text\":\"label\"},\"categoryorder\":\"total descending\"},\"yaxis\":{\"anchor\":\"x\",\"domain\":[0.0,1.0],\"title\":{\"text\":\"count\"}},\"legend\":{\"tracegroupgap\":0},\"margin\":{\"t\":60},\"barmode\":\"relative\",\"title\":{\"text\":\"Distribution of Labels\"}},                        {\"responsive\": true}                    ).then(function(){\n",
              "                            \n",
              "var gd = document.getElementById('e0db65f0-c5df-4c28-82c6-c3e92685a303');\n",
              "var x = new MutationObserver(function (mutations, observer) {{\n",
              "        var display = window.getComputedStyle(gd).display;\n",
              "        if (!display || display === 'none') {{\n",
              "            console.log([gd, 'removed!']);\n",
              "            Plotly.purge(gd);\n",
              "            observer.disconnect();\n",
              "        }}\n",
              "}});\n",
              "\n",
              "// Listen for the removal of the full notebook cells\n",
              "var notebookContainer = gd.closest('#notebook-container');\n",
              "if (notebookContainer) {{\n",
              "    x.observe(notebookContainer, {childList: true});\n",
              "}}\n",
              "\n",
              "// Listen for the clearing of the current output cell\n",
              "var outputEl = gd.closest('.output');\n",
              "if (outputEl) {{\n",
              "    x.observe(outputEl, {childList: true});\n",
              "}}\n",
              "\n",
              "                        })                };                            </script>        </div>\n",
              "</body>\n",
              "</html>"
            ]
          },
          "metadata": {}
        }
      ]
    },
    {
      "cell_type": "code",
      "source": [],
      "metadata": {
        "id": "kJugYSLItTqW"
      },
      "execution_count": null,
      "outputs": []
    },
    {
      "cell_type": "code",
      "source": [
        "# Импорт либ\n",
        "import os\n",
        "import random\n",
        "import time\n",
        "import warnings\n",
        "import timm\n",
        "import av\n",
        "\n",
        "import torch\n",
        "import pandas as pd\n",
        "import numpy as np\n",
        "import torch.nn as nn\n",
        "import torchvision\n",
        "import torchvision.transforms as transforms\n",
        "import torchvision.models as models\n",
        "import torch.nn.functional as F\n",
        "import albumentations as A\n",
        "\n",
        "from box import Box\n",
        "from tqdm import tqdm\n",
        "from torch.optim import lr_scheduler\n",
        "from torch.utils.data import Dataset, DataLoader\n",
        "from sklearn.model_selection import train_test_split\n",
        "from torchvision.io import read_video\n",
        "from albumentations.pytorch.transforms import ToTensorV2\n",
        "\n",
        "warnings.simplefilter(\"ignore\", UserWarning)"
      ],
      "metadata": {
        "id": "E6XH0Qb65bZP"
      },
      "execution_count": 4,
      "outputs": []
    },
    {
      "cell_type": "markdown",
      "source": [
        "# Тренируем на сете предобученную модель"
      ],
      "metadata": {
        "id": "2TYwWlaU5WxP"
      }
    },
    {
      "cell_type": "code",
      "source": [
        "# Посмотрим на обновленную нашу дату\n",
        "df = pd.read_csv(\"data.csv\")\n",
        "df.head()"
      ],
      "metadata": {
        "colab": {
          "base_uri": "https://localhost:8080/",
          "height": 206
        },
        "id": "kMypy9-15e-M",
        "outputId": "cbabc6f8-233f-4fe3-aca0-ac459166c0a5"
      },
      "execution_count": 6,
      "outputs": [
        {
          "output_type": "execute_result",
          "data": {
            "text/plain": [
              "   Unnamed: 0             name_video          label\n",
              "0           0  videos/video_0000.mp4  belly dancing\n",
              "1           1  videos/video_0001.mp4  belly dancing\n",
              "2           2  videos/video_0002.mp4  belly dancing\n",
              "3           3  videos/video_0003.mp4  belly dancing\n",
              "4           4  videos/video_0004.mp4  belly dancing"
            ],
            "text/html": [
              "\n",
              "  <div id=\"df-2fd7982e-104c-4f66-b79d-dc454e320328\" class=\"colab-df-container\">\n",
              "    <div>\n",
              "<style scoped>\n",
              "    .dataframe tbody tr th:only-of-type {\n",
              "        vertical-align: middle;\n",
              "    }\n",
              "\n",
              "    .dataframe tbody tr th {\n",
              "        vertical-align: top;\n",
              "    }\n",
              "\n",
              "    .dataframe thead th {\n",
              "        text-align: right;\n",
              "    }\n",
              "</style>\n",
              "<table border=\"1\" class=\"dataframe\">\n",
              "  <thead>\n",
              "    <tr style=\"text-align: right;\">\n",
              "      <th></th>\n",
              "      <th>Unnamed: 0</th>\n",
              "      <th>name_video</th>\n",
              "      <th>label</th>\n",
              "    </tr>\n",
              "  </thead>\n",
              "  <tbody>\n",
              "    <tr>\n",
              "      <th>0</th>\n",
              "      <td>0</td>\n",
              "      <td>videos/video_0000.mp4</td>\n",
              "      <td>belly dancing</td>\n",
              "    </tr>\n",
              "    <tr>\n",
              "      <th>1</th>\n",
              "      <td>1</td>\n",
              "      <td>videos/video_0001.mp4</td>\n",
              "      <td>belly dancing</td>\n",
              "    </tr>\n",
              "    <tr>\n",
              "      <th>2</th>\n",
              "      <td>2</td>\n",
              "      <td>videos/video_0002.mp4</td>\n",
              "      <td>belly dancing</td>\n",
              "    </tr>\n",
              "    <tr>\n",
              "      <th>3</th>\n",
              "      <td>3</td>\n",
              "      <td>videos/video_0003.mp4</td>\n",
              "      <td>belly dancing</td>\n",
              "    </tr>\n",
              "    <tr>\n",
              "      <th>4</th>\n",
              "      <td>4</td>\n",
              "      <td>videos/video_0004.mp4</td>\n",
              "      <td>belly dancing</td>\n",
              "    </tr>\n",
              "  </tbody>\n",
              "</table>\n",
              "</div>\n",
              "    <div class=\"colab-df-buttons\">\n",
              "\n",
              "  <div class=\"colab-df-container\">\n",
              "    <button class=\"colab-df-convert\" onclick=\"convertToInteractive('df-2fd7982e-104c-4f66-b79d-dc454e320328')\"\n",
              "            title=\"Convert this dataframe to an interactive table.\"\n",
              "            style=\"display:none;\">\n",
              "\n",
              "  <svg xmlns=\"http://www.w3.org/2000/svg\" height=\"24px\" viewBox=\"0 -960 960 960\">\n",
              "    <path d=\"M120-120v-720h720v720H120Zm60-500h600v-160H180v160Zm220 220h160v-160H400v160Zm0 220h160v-160H400v160ZM180-400h160v-160H180v160Zm440 0h160v-160H620v160ZM180-180h160v-160H180v160Zm440 0h160v-160H620v160Z\"/>\n",
              "  </svg>\n",
              "    </button>\n",
              "\n",
              "  <style>\n",
              "    .colab-df-container {\n",
              "      display:flex;\n",
              "      gap: 12px;\n",
              "    }\n",
              "\n",
              "    .colab-df-convert {\n",
              "      background-color: #E8F0FE;\n",
              "      border: none;\n",
              "      border-radius: 50%;\n",
              "      cursor: pointer;\n",
              "      display: none;\n",
              "      fill: #1967D2;\n",
              "      height: 32px;\n",
              "      padding: 0 0 0 0;\n",
              "      width: 32px;\n",
              "    }\n",
              "\n",
              "    .colab-df-convert:hover {\n",
              "      background-color: #E2EBFA;\n",
              "      box-shadow: 0px 1px 2px rgba(60, 64, 67, 0.3), 0px 1px 3px 1px rgba(60, 64, 67, 0.15);\n",
              "      fill: #174EA6;\n",
              "    }\n",
              "\n",
              "    .colab-df-buttons div {\n",
              "      margin-bottom: 4px;\n",
              "    }\n",
              "\n",
              "    [theme=dark] .colab-df-convert {\n",
              "      background-color: #3B4455;\n",
              "      fill: #D2E3FC;\n",
              "    }\n",
              "\n",
              "    [theme=dark] .colab-df-convert:hover {\n",
              "      background-color: #434B5C;\n",
              "      box-shadow: 0px 1px 3px 1px rgba(0, 0, 0, 0.15);\n",
              "      filter: drop-shadow(0px 1px 2px rgba(0, 0, 0, 0.3));\n",
              "      fill: #FFFFFF;\n",
              "    }\n",
              "  </style>\n",
              "\n",
              "    <script>\n",
              "      const buttonEl =\n",
              "        document.querySelector('#df-2fd7982e-104c-4f66-b79d-dc454e320328 button.colab-df-convert');\n",
              "      buttonEl.style.display =\n",
              "        google.colab.kernel.accessAllowed ? 'block' : 'none';\n",
              "\n",
              "      async function convertToInteractive(key) {\n",
              "        const element = document.querySelector('#df-2fd7982e-104c-4f66-b79d-dc454e320328');\n",
              "        const dataTable =\n",
              "          await google.colab.kernel.invokeFunction('convertToInteractive',\n",
              "                                                    [key], {});\n",
              "        if (!dataTable) return;\n",
              "\n",
              "        const docLinkHtml = 'Like what you see? Visit the ' +\n",
              "          '<a target=\"_blank\" href=https://colab.research.google.com/notebooks/data_table.ipynb>data table notebook</a>'\n",
              "          + ' to learn more about interactive tables.';\n",
              "        element.innerHTML = '';\n",
              "        dataTable['output_type'] = 'display_data';\n",
              "        await google.colab.output.renderOutput(dataTable, element);\n",
              "        const docLink = document.createElement('div');\n",
              "        docLink.innerHTML = docLinkHtml;\n",
              "        element.appendChild(docLink);\n",
              "      }\n",
              "    </script>\n",
              "  </div>\n",
              "\n",
              "\n",
              "<div id=\"df-cac52995-4304-4aa6-9c52-eb1ab6c2ff50\">\n",
              "  <button class=\"colab-df-quickchart\" onclick=\"quickchart('df-cac52995-4304-4aa6-9c52-eb1ab6c2ff50')\"\n",
              "            title=\"Suggest charts\"\n",
              "            style=\"display:none;\">\n",
              "\n",
              "<svg xmlns=\"http://www.w3.org/2000/svg\" height=\"24px\"viewBox=\"0 0 24 24\"\n",
              "     width=\"24px\">\n",
              "    <g>\n",
              "        <path d=\"M19 3H5c-1.1 0-2 .9-2 2v14c0 1.1.9 2 2 2h14c1.1 0 2-.9 2-2V5c0-1.1-.9-2-2-2zM9 17H7v-7h2v7zm4 0h-2V7h2v10zm4 0h-2v-4h2v4z\"/>\n",
              "    </g>\n",
              "</svg>\n",
              "  </button>\n",
              "\n",
              "<style>\n",
              "  .colab-df-quickchart {\n",
              "      --bg-color: #E8F0FE;\n",
              "      --fill-color: #1967D2;\n",
              "      --hover-bg-color: #E2EBFA;\n",
              "      --hover-fill-color: #174EA6;\n",
              "      --disabled-fill-color: #AAA;\n",
              "      --disabled-bg-color: #DDD;\n",
              "  }\n",
              "\n",
              "  [theme=dark] .colab-df-quickchart {\n",
              "      --bg-color: #3B4455;\n",
              "      --fill-color: #D2E3FC;\n",
              "      --hover-bg-color: #434B5C;\n",
              "      --hover-fill-color: #FFFFFF;\n",
              "      --disabled-bg-color: #3B4455;\n",
              "      --disabled-fill-color: #666;\n",
              "  }\n",
              "\n",
              "  .colab-df-quickchart {\n",
              "    background-color: var(--bg-color);\n",
              "    border: none;\n",
              "    border-radius: 50%;\n",
              "    cursor: pointer;\n",
              "    display: none;\n",
              "    fill: var(--fill-color);\n",
              "    height: 32px;\n",
              "    padding: 0;\n",
              "    width: 32px;\n",
              "  }\n",
              "\n",
              "  .colab-df-quickchart:hover {\n",
              "    background-color: var(--hover-bg-color);\n",
              "    box-shadow: 0 1px 2px rgba(60, 64, 67, 0.3), 0 1px 3px 1px rgba(60, 64, 67, 0.15);\n",
              "    fill: var(--button-hover-fill-color);\n",
              "  }\n",
              "\n",
              "  .colab-df-quickchart-complete:disabled,\n",
              "  .colab-df-quickchart-complete:disabled:hover {\n",
              "    background-color: var(--disabled-bg-color);\n",
              "    fill: var(--disabled-fill-color);\n",
              "    box-shadow: none;\n",
              "  }\n",
              "\n",
              "  .colab-df-spinner {\n",
              "    border: 2px solid var(--fill-color);\n",
              "    border-color: transparent;\n",
              "    border-bottom-color: var(--fill-color);\n",
              "    animation:\n",
              "      spin 1s steps(1) infinite;\n",
              "  }\n",
              "\n",
              "  @keyframes spin {\n",
              "    0% {\n",
              "      border-color: transparent;\n",
              "      border-bottom-color: var(--fill-color);\n",
              "      border-left-color: var(--fill-color);\n",
              "    }\n",
              "    20% {\n",
              "      border-color: transparent;\n",
              "      border-left-color: var(--fill-color);\n",
              "      border-top-color: var(--fill-color);\n",
              "    }\n",
              "    30% {\n",
              "      border-color: transparent;\n",
              "      border-left-color: var(--fill-color);\n",
              "      border-top-color: var(--fill-color);\n",
              "      border-right-color: var(--fill-color);\n",
              "    }\n",
              "    40% {\n",
              "      border-color: transparent;\n",
              "      border-right-color: var(--fill-color);\n",
              "      border-top-color: var(--fill-color);\n",
              "    }\n",
              "    60% {\n",
              "      border-color: transparent;\n",
              "      border-right-color: var(--fill-color);\n",
              "    }\n",
              "    80% {\n",
              "      border-color: transparent;\n",
              "      border-right-color: var(--fill-color);\n",
              "      border-bottom-color: var(--fill-color);\n",
              "    }\n",
              "    90% {\n",
              "      border-color: transparent;\n",
              "      border-bottom-color: var(--fill-color);\n",
              "    }\n",
              "  }\n",
              "</style>\n",
              "\n",
              "  <script>\n",
              "    async function quickchart(key) {\n",
              "      const quickchartButtonEl =\n",
              "        document.querySelector('#' + key + ' button');\n",
              "      quickchartButtonEl.disabled = true;  // To prevent multiple clicks.\n",
              "      quickchartButtonEl.classList.add('colab-df-spinner');\n",
              "      try {\n",
              "        const charts = await google.colab.kernel.invokeFunction(\n",
              "            'suggestCharts', [key], {});\n",
              "      } catch (error) {\n",
              "        console.error('Error during call to suggestCharts:', error);\n",
              "      }\n",
              "      quickchartButtonEl.classList.remove('colab-df-spinner');\n",
              "      quickchartButtonEl.classList.add('colab-df-quickchart-complete');\n",
              "    }\n",
              "    (() => {\n",
              "      let quickchartButtonEl =\n",
              "        document.querySelector('#df-cac52995-4304-4aa6-9c52-eb1ab6c2ff50 button');\n",
              "      quickchartButtonEl.style.display =\n",
              "        google.colab.kernel.accessAllowed ? 'block' : 'none';\n",
              "    })();\n",
              "  </script>\n",
              "</div>\n",
              "    </div>\n",
              "  </div>\n"
            ],
            "application/vnd.google.colaboratory.intrinsic+json": {
              "type": "dataframe",
              "variable_name": "df",
              "summary": "{\n  \"name\": \"df\",\n  \"rows\": 597,\n  \"fields\": [\n    {\n      \"column\": \"Unnamed: 0\",\n      \"properties\": {\n        \"dtype\": \"number\",\n        \"std\": 172,\n        \"min\": 0,\n        \"max\": 596,\n        \"num_unique_values\": 597,\n        \"samples\": [\n          109,\n          480,\n          135\n        ],\n        \"semantic_type\": \"\",\n        \"description\": \"\"\n      }\n    },\n    {\n      \"column\": \"name_video\",\n      \"properties\": {\n        \"dtype\": \"string\",\n        \"num_unique_values\": 597,\n        \"samples\": [\n          \"videos/video_0109.mp4\",\n          \"videos/video_0480.mp4\",\n          \"videos/video_0135.mp4\"\n        ],\n        \"semantic_type\": \"\",\n        \"description\": \"\"\n      }\n    },\n    {\n      \"column\": \"label\",\n      \"properties\": {\n        \"dtype\": \"category\",\n        \"num_unique_values\": 15,\n        \"samples\": [\n          \"robot dancing\",\n          \"square dancing\",\n          \"belly dancing\"\n        ],\n        \"semantic_type\": \"\",\n        \"description\": \"\"\n      }\n    }\n  ]\n}"
            }
          },
          "metadata": {},
          "execution_count": 6
        }
      ]
    },
    {
      "cell_type": "code",
      "source": [
        "df.iloc[304]"
      ],
      "metadata": {
        "colab": {
          "base_uri": "https://localhost:8080/"
        },
        "id": "ZJr-vOcetauy",
        "outputId": "8b3f06f0-c977-4fff-b1c4-e9ba75509fc5"
      },
      "execution_count": 7,
      "outputs": [
        {
          "output_type": "execute_result",
          "data": {
            "text/plain": [
              "Unnamed: 0                      304\n",
              "name_video    videos/video_0304.mp4\n",
              "label             jumpstyle dancing\n",
              "Name: 304, dtype: object"
            ]
          },
          "metadata": {},
          "execution_count": 7
        }
      ]
    },
    {
      "cell_type": "code",
      "source": [
        "# !ls videos/"
      ],
      "metadata": {
        "id": "2ET_PQBrtDdp"
      },
      "execution_count": null,
      "outputs": []
    },
    {
      "cell_type": "code",
      "source": [
        "# Закодируем лейблы в числовые значения\n",
        "unique_labels = df['label'].unique()\n",
        "label_dict = {label: index for index, label in enumerate(unique_labels)}\n",
        "df['target'] = df.label.map(label_dict)\n",
        "\n",
        "df.head()"
      ],
      "metadata": {
        "colab": {
          "base_uri": "https://localhost:8080/",
          "height": 206
        },
        "id": "e57x8JSr5wBv",
        "outputId": "2c39ffca-ed39-4680-c4da-9c0f0d019938"
      },
      "execution_count": 8,
      "outputs": [
        {
          "output_type": "execute_result",
          "data": {
            "text/plain": [
              "   Unnamed: 0             name_video          label  target\n",
              "0           0  videos/video_0000.mp4  belly dancing       0\n",
              "1           1  videos/video_0001.mp4  belly dancing       0\n",
              "2           2  videos/video_0002.mp4  belly dancing       0\n",
              "3           3  videos/video_0003.mp4  belly dancing       0\n",
              "4           4  videos/video_0004.mp4  belly dancing       0"
            ],
            "text/html": [
              "\n",
              "  <div id=\"df-6c7af43b-cc30-4d4c-b442-c8869805faa0\" class=\"colab-df-container\">\n",
              "    <div>\n",
              "<style scoped>\n",
              "    .dataframe tbody tr th:only-of-type {\n",
              "        vertical-align: middle;\n",
              "    }\n",
              "\n",
              "    .dataframe tbody tr th {\n",
              "        vertical-align: top;\n",
              "    }\n",
              "\n",
              "    .dataframe thead th {\n",
              "        text-align: right;\n",
              "    }\n",
              "</style>\n",
              "<table border=\"1\" class=\"dataframe\">\n",
              "  <thead>\n",
              "    <tr style=\"text-align: right;\">\n",
              "      <th></th>\n",
              "      <th>Unnamed: 0</th>\n",
              "      <th>name_video</th>\n",
              "      <th>label</th>\n",
              "      <th>target</th>\n",
              "    </tr>\n",
              "  </thead>\n",
              "  <tbody>\n",
              "    <tr>\n",
              "      <th>0</th>\n",
              "      <td>0</td>\n",
              "      <td>videos/video_0000.mp4</td>\n",
              "      <td>belly dancing</td>\n",
              "      <td>0</td>\n",
              "    </tr>\n",
              "    <tr>\n",
              "      <th>1</th>\n",
              "      <td>1</td>\n",
              "      <td>videos/video_0001.mp4</td>\n",
              "      <td>belly dancing</td>\n",
              "      <td>0</td>\n",
              "    </tr>\n",
              "    <tr>\n",
              "      <th>2</th>\n",
              "      <td>2</td>\n",
              "      <td>videos/video_0002.mp4</td>\n",
              "      <td>belly dancing</td>\n",
              "      <td>0</td>\n",
              "    </tr>\n",
              "    <tr>\n",
              "      <th>3</th>\n",
              "      <td>3</td>\n",
              "      <td>videos/video_0003.mp4</td>\n",
              "      <td>belly dancing</td>\n",
              "      <td>0</td>\n",
              "    </tr>\n",
              "    <tr>\n",
              "      <th>4</th>\n",
              "      <td>4</td>\n",
              "      <td>videos/video_0004.mp4</td>\n",
              "      <td>belly dancing</td>\n",
              "      <td>0</td>\n",
              "    </tr>\n",
              "  </tbody>\n",
              "</table>\n",
              "</div>\n",
              "    <div class=\"colab-df-buttons\">\n",
              "\n",
              "  <div class=\"colab-df-container\">\n",
              "    <button class=\"colab-df-convert\" onclick=\"convertToInteractive('df-6c7af43b-cc30-4d4c-b442-c8869805faa0')\"\n",
              "            title=\"Convert this dataframe to an interactive table.\"\n",
              "            style=\"display:none;\">\n",
              "\n",
              "  <svg xmlns=\"http://www.w3.org/2000/svg\" height=\"24px\" viewBox=\"0 -960 960 960\">\n",
              "    <path d=\"M120-120v-720h720v720H120Zm60-500h600v-160H180v160Zm220 220h160v-160H400v160Zm0 220h160v-160H400v160ZM180-400h160v-160H180v160Zm440 0h160v-160H620v160ZM180-180h160v-160H180v160Zm440 0h160v-160H620v160Z\"/>\n",
              "  </svg>\n",
              "    </button>\n",
              "\n",
              "  <style>\n",
              "    .colab-df-container {\n",
              "      display:flex;\n",
              "      gap: 12px;\n",
              "    }\n",
              "\n",
              "    .colab-df-convert {\n",
              "      background-color: #E8F0FE;\n",
              "      border: none;\n",
              "      border-radius: 50%;\n",
              "      cursor: pointer;\n",
              "      display: none;\n",
              "      fill: #1967D2;\n",
              "      height: 32px;\n",
              "      padding: 0 0 0 0;\n",
              "      width: 32px;\n",
              "    }\n",
              "\n",
              "    .colab-df-convert:hover {\n",
              "      background-color: #E2EBFA;\n",
              "      box-shadow: 0px 1px 2px rgba(60, 64, 67, 0.3), 0px 1px 3px 1px rgba(60, 64, 67, 0.15);\n",
              "      fill: #174EA6;\n",
              "    }\n",
              "\n",
              "    .colab-df-buttons div {\n",
              "      margin-bottom: 4px;\n",
              "    }\n",
              "\n",
              "    [theme=dark] .colab-df-convert {\n",
              "      background-color: #3B4455;\n",
              "      fill: #D2E3FC;\n",
              "    }\n",
              "\n",
              "    [theme=dark] .colab-df-convert:hover {\n",
              "      background-color: #434B5C;\n",
              "      box-shadow: 0px 1px 3px 1px rgba(0, 0, 0, 0.15);\n",
              "      filter: drop-shadow(0px 1px 2px rgba(0, 0, 0, 0.3));\n",
              "      fill: #FFFFFF;\n",
              "    }\n",
              "  </style>\n",
              "\n",
              "    <script>\n",
              "      const buttonEl =\n",
              "        document.querySelector('#df-6c7af43b-cc30-4d4c-b442-c8869805faa0 button.colab-df-convert');\n",
              "      buttonEl.style.display =\n",
              "        google.colab.kernel.accessAllowed ? 'block' : 'none';\n",
              "\n",
              "      async function convertToInteractive(key) {\n",
              "        const element = document.querySelector('#df-6c7af43b-cc30-4d4c-b442-c8869805faa0');\n",
              "        const dataTable =\n",
              "          await google.colab.kernel.invokeFunction('convertToInteractive',\n",
              "                                                    [key], {});\n",
              "        if (!dataTable) return;\n",
              "\n",
              "        const docLinkHtml = 'Like what you see? Visit the ' +\n",
              "          '<a target=\"_blank\" href=https://colab.research.google.com/notebooks/data_table.ipynb>data table notebook</a>'\n",
              "          + ' to learn more about interactive tables.';\n",
              "        element.innerHTML = '';\n",
              "        dataTable['output_type'] = 'display_data';\n",
              "        await google.colab.output.renderOutput(dataTable, element);\n",
              "        const docLink = document.createElement('div');\n",
              "        docLink.innerHTML = docLinkHtml;\n",
              "        element.appendChild(docLink);\n",
              "      }\n",
              "    </script>\n",
              "  </div>\n",
              "\n",
              "\n",
              "<div id=\"df-9aaa0f4c-c789-4f3a-a90b-eebc205d7186\">\n",
              "  <button class=\"colab-df-quickchart\" onclick=\"quickchart('df-9aaa0f4c-c789-4f3a-a90b-eebc205d7186')\"\n",
              "            title=\"Suggest charts\"\n",
              "            style=\"display:none;\">\n",
              "\n",
              "<svg xmlns=\"http://www.w3.org/2000/svg\" height=\"24px\"viewBox=\"0 0 24 24\"\n",
              "     width=\"24px\">\n",
              "    <g>\n",
              "        <path d=\"M19 3H5c-1.1 0-2 .9-2 2v14c0 1.1.9 2 2 2h14c1.1 0 2-.9 2-2V5c0-1.1-.9-2-2-2zM9 17H7v-7h2v7zm4 0h-2V7h2v10zm4 0h-2v-4h2v4z\"/>\n",
              "    </g>\n",
              "</svg>\n",
              "  </button>\n",
              "\n",
              "<style>\n",
              "  .colab-df-quickchart {\n",
              "      --bg-color: #E8F0FE;\n",
              "      --fill-color: #1967D2;\n",
              "      --hover-bg-color: #E2EBFA;\n",
              "      --hover-fill-color: #174EA6;\n",
              "      --disabled-fill-color: #AAA;\n",
              "      --disabled-bg-color: #DDD;\n",
              "  }\n",
              "\n",
              "  [theme=dark] .colab-df-quickchart {\n",
              "      --bg-color: #3B4455;\n",
              "      --fill-color: #D2E3FC;\n",
              "      --hover-bg-color: #434B5C;\n",
              "      --hover-fill-color: #FFFFFF;\n",
              "      --disabled-bg-color: #3B4455;\n",
              "      --disabled-fill-color: #666;\n",
              "  }\n",
              "\n",
              "  .colab-df-quickchart {\n",
              "    background-color: var(--bg-color);\n",
              "    border: none;\n",
              "    border-radius: 50%;\n",
              "    cursor: pointer;\n",
              "    display: none;\n",
              "    fill: var(--fill-color);\n",
              "    height: 32px;\n",
              "    padding: 0;\n",
              "    width: 32px;\n",
              "  }\n",
              "\n",
              "  .colab-df-quickchart:hover {\n",
              "    background-color: var(--hover-bg-color);\n",
              "    box-shadow: 0 1px 2px rgba(60, 64, 67, 0.3), 0 1px 3px 1px rgba(60, 64, 67, 0.15);\n",
              "    fill: var(--button-hover-fill-color);\n",
              "  }\n",
              "\n",
              "  .colab-df-quickchart-complete:disabled,\n",
              "  .colab-df-quickchart-complete:disabled:hover {\n",
              "    background-color: var(--disabled-bg-color);\n",
              "    fill: var(--disabled-fill-color);\n",
              "    box-shadow: none;\n",
              "  }\n",
              "\n",
              "  .colab-df-spinner {\n",
              "    border: 2px solid var(--fill-color);\n",
              "    border-color: transparent;\n",
              "    border-bottom-color: var(--fill-color);\n",
              "    animation:\n",
              "      spin 1s steps(1) infinite;\n",
              "  }\n",
              "\n",
              "  @keyframes spin {\n",
              "    0% {\n",
              "      border-color: transparent;\n",
              "      border-bottom-color: var(--fill-color);\n",
              "      border-left-color: var(--fill-color);\n",
              "    }\n",
              "    20% {\n",
              "      border-color: transparent;\n",
              "      border-left-color: var(--fill-color);\n",
              "      border-top-color: var(--fill-color);\n",
              "    }\n",
              "    30% {\n",
              "      border-color: transparent;\n",
              "      border-left-color: var(--fill-color);\n",
              "      border-top-color: var(--fill-color);\n",
              "      border-right-color: var(--fill-color);\n",
              "    }\n",
              "    40% {\n",
              "      border-color: transparent;\n",
              "      border-right-color: var(--fill-color);\n",
              "      border-top-color: var(--fill-color);\n",
              "    }\n",
              "    60% {\n",
              "      border-color: transparent;\n",
              "      border-right-color: var(--fill-color);\n",
              "    }\n",
              "    80% {\n",
              "      border-color: transparent;\n",
              "      border-right-color: var(--fill-color);\n",
              "      border-bottom-color: var(--fill-color);\n",
              "    }\n",
              "    90% {\n",
              "      border-color: transparent;\n",
              "      border-bottom-color: var(--fill-color);\n",
              "    }\n",
              "  }\n",
              "</style>\n",
              "\n",
              "  <script>\n",
              "    async function quickchart(key) {\n",
              "      const quickchartButtonEl =\n",
              "        document.querySelector('#' + key + ' button');\n",
              "      quickchartButtonEl.disabled = true;  // To prevent multiple clicks.\n",
              "      quickchartButtonEl.classList.add('colab-df-spinner');\n",
              "      try {\n",
              "        const charts = await google.colab.kernel.invokeFunction(\n",
              "            'suggestCharts', [key], {});\n",
              "      } catch (error) {\n",
              "        console.error('Error during call to suggestCharts:', error);\n",
              "      }\n",
              "      quickchartButtonEl.classList.remove('colab-df-spinner');\n",
              "      quickchartButtonEl.classList.add('colab-df-quickchart-complete');\n",
              "    }\n",
              "    (() => {\n",
              "      let quickchartButtonEl =\n",
              "        document.querySelector('#df-9aaa0f4c-c789-4f3a-a90b-eebc205d7186 button');\n",
              "      quickchartButtonEl.style.display =\n",
              "        google.colab.kernel.accessAllowed ? 'block' : 'none';\n",
              "    })();\n",
              "  </script>\n",
              "</div>\n",
              "    </div>\n",
              "  </div>\n"
            ],
            "application/vnd.google.colaboratory.intrinsic+json": {
              "type": "dataframe",
              "variable_name": "df",
              "summary": "{\n  \"name\": \"df\",\n  \"rows\": 597,\n  \"fields\": [\n    {\n      \"column\": \"Unnamed: 0\",\n      \"properties\": {\n        \"dtype\": \"number\",\n        \"std\": 172,\n        \"min\": 0,\n        \"max\": 596,\n        \"num_unique_values\": 597,\n        \"samples\": [\n          109,\n          480,\n          135\n        ],\n        \"semantic_type\": \"\",\n        \"description\": \"\"\n      }\n    },\n    {\n      \"column\": \"name_video\",\n      \"properties\": {\n        \"dtype\": \"string\",\n        \"num_unique_values\": 597,\n        \"samples\": [\n          \"videos/video_0109.mp4\",\n          \"videos/video_0480.mp4\",\n          \"videos/video_0135.mp4\"\n        ],\n        \"semantic_type\": \"\",\n        \"description\": \"\"\n      }\n    },\n    {\n      \"column\": \"label\",\n      \"properties\": {\n        \"dtype\": \"category\",\n        \"num_unique_values\": 15,\n        \"samples\": [\n          \"robot dancing\",\n          \"square dancing\",\n          \"belly dancing\"\n        ],\n        \"semantic_type\": \"\",\n        \"description\": \"\"\n      }\n    },\n    {\n      \"column\": \"target\",\n      \"properties\": {\n        \"dtype\": \"number\",\n        \"std\": 4,\n        \"min\": 0,\n        \"max\": 14,\n        \"num_unique_values\": 15,\n        \"samples\": [\n          9,\n          11,\n          0\n        ],\n        \"semantic_type\": \"\",\n        \"description\": \"\"\n      }\n    }\n  ]\n}"
            }
          },
          "metadata": {},
          "execution_count": 8
        }
      ]
    },
    {
      "cell_type": "code",
      "source": [
        "# Cоздадим конфиг для предобученной модели\n",
        "config = Box()\n",
        "\n",
        "config.num_workers = 1\n",
        "config.batch_size = 24\n",
        "config.device = torch.device('cuda' if torch.cuda.is_available() else 'cpu')\n",
        "config.seed = 1771\n",
        "config.model_name = 'mc3_18'\n",
        "config.num_features = df.target.nunique()\n",
        "config.optimizer_lr = 0.0001\n",
        "config.epochs = 10\n",
        "config.test_size = 0.2"
      ],
      "metadata": {
        "id": "Iu37hfjaocZh"
      },
      "execution_count": 9,
      "outputs": []
    },
    {
      "cell_type": "code",
      "source": [
        "# Напишем датаcэт для наших данных\n",
        "\n",
        "class DanceDanceDataset(Dataset):\n",
        "    def __init__(self, df, is_train = False):\n",
        "        self.df = df\n",
        "        self.video_path = os.path.abspath(\"../Colab Notebooks/videos\")\n",
        "        self.is_train = is_train\n",
        "\n",
        "    def __len__(self):\n",
        "        return len(self.df)\n",
        "\n",
        "    def __getitem__(self, idx):\n",
        "        row = self.df.loc[idx]\n",
        "        target = row['target']\n",
        "\n",
        "        video_path = os.path.join(self.video_path, row['name_video'])\n",
        "\n",
        "        video, audio, info = read_video(video_path, pts_unit=\"sec\")\n",
        "        # Беру только 16 кадров.\n",
        "        if len(video) > 0:\n",
        "            if len(video) < 48:\n",
        "                video = video[:16]\n",
        "            else:\n",
        "                video = video[:48:3]\n",
        "            if self.is_train:\n",
        "                video = video.numpy()\n",
        "                video = self.aug(video)\n",
        "                video = torch.Tensor(video)\n",
        "            resize_transform = transforms.Resize((112, 112))\n",
        "            video_resized = torch.stack([resize_transform(frame.permute(2, 0, 1)).permute(1, 2, 0) for frame in video])\n",
        "            video_normalized = video_resized.permute(3, 0, 1, 2)\n",
        "\n",
        "            # Лениво нормализую\n",
        "            tensor_3d = video_normalized / 255\n",
        "        else:\n",
        "            tensor_3d = torch.empty(3, 16, 112, 112)\n",
        "\n",
        "        label = torch.tensor(target).long()\n",
        "        return tensor_3d, label"
      ],
      "metadata": {
        "id": "tAUnU0vgocgQ"
      },
      "execution_count": 10,
      "outputs": []
    },
    {
      "cell_type": "code",
      "source": [
        "# Разобьем наши данные на тест и трейн. cоздадим тренеровочный и тестовый датасэт и даталоадэры\n",
        "train_df, val_df = train_test_split(df,\n",
        "                                    test_size=config.test_size,\n",
        "                                    random_state=config.seed,\n",
        "                                    stratify=df['target']\n",
        "                                   )\n",
        "dataset_train = DanceDanceDataset(train_df.reset_index())\n",
        "dataset_test = DanceDanceDataset(val_df.reset_index())\n",
        "\n",
        "train_loader = DataLoader(dataset_train,\n",
        "                          batch_size=config.batch_size,\n",
        "                          shuffle=True,\n",
        "                         )\n",
        "valid_loader = DataLoader(dataset_test,\n",
        "                          batch_size=config.batch_size,\n",
        "                         )"
      ],
      "metadata": {
        "id": "VDhbLgj_pKO1"
      },
      "execution_count": 11,
      "outputs": []
    },
    {
      "cell_type": "code",
      "source": [
        "# Загрузка предобученной модели mc3_18\n",
        "model = models.video.mc3_18(pretrained=True)\n",
        "model.fc = torch.nn.Linear(model.fc.in_features, config.num_features)\n",
        "model.to(config.device)"
      ],
      "metadata": {
        "colab": {
          "base_uri": "https://localhost:8080/"
        },
        "id": "mqAyVxqUpNw-",
        "outputId": "c3388b98-ebf1-4319-c44f-ca2732bddf62"
      },
      "execution_count": null,
      "outputs": [
        {
          "output_type": "stream",
          "name": "stderr",
          "text": [
            "Downloading: \"https://download.pytorch.org/models/mc3_18-a90a0ba3.pth\" to /root/.cache/torch/hub/checkpoints/mc3_18-a90a0ba3.pth\n",
            "100%|██████████| 44.7M/44.7M [00:01<00:00, 35.0MB/s]\n"
          ]
        },
        {
          "output_type": "execute_result",
          "data": {
            "text/plain": [
              "VideoResNet(\n",
              "  (stem): BasicStem(\n",
              "    (0): Conv3d(3, 64, kernel_size=(3, 7, 7), stride=(1, 2, 2), padding=(1, 3, 3), bias=False)\n",
              "    (1): BatchNorm3d(64, eps=1e-05, momentum=0.1, affine=True, track_running_stats=True)\n",
              "    (2): ReLU(inplace=True)\n",
              "  )\n",
              "  (layer1): Sequential(\n",
              "    (0): BasicBlock(\n",
              "      (conv1): Sequential(\n",
              "        (0): Conv3DSimple(64, 64, kernel_size=(3, 3, 3), stride=(1, 1, 1), padding=(1, 1, 1), bias=False)\n",
              "        (1): BatchNorm3d(64, eps=1e-05, momentum=0.1, affine=True, track_running_stats=True)\n",
              "        (2): ReLU(inplace=True)\n",
              "      )\n",
              "      (conv2): Sequential(\n",
              "        (0): Conv3DSimple(64, 64, kernel_size=(3, 3, 3), stride=(1, 1, 1), padding=(1, 1, 1), bias=False)\n",
              "        (1): BatchNorm3d(64, eps=1e-05, momentum=0.1, affine=True, track_running_stats=True)\n",
              "      )\n",
              "      (relu): ReLU(inplace=True)\n",
              "    )\n",
              "    (1): BasicBlock(\n",
              "      (conv1): Sequential(\n",
              "        (0): Conv3DSimple(64, 64, kernel_size=(3, 3, 3), stride=(1, 1, 1), padding=(1, 1, 1), bias=False)\n",
              "        (1): BatchNorm3d(64, eps=1e-05, momentum=0.1, affine=True, track_running_stats=True)\n",
              "        (2): ReLU(inplace=True)\n",
              "      )\n",
              "      (conv2): Sequential(\n",
              "        (0): Conv3DSimple(64, 64, kernel_size=(3, 3, 3), stride=(1, 1, 1), padding=(1, 1, 1), bias=False)\n",
              "        (1): BatchNorm3d(64, eps=1e-05, momentum=0.1, affine=True, track_running_stats=True)\n",
              "      )\n",
              "      (relu): ReLU(inplace=True)\n",
              "    )\n",
              "  )\n",
              "  (layer2): Sequential(\n",
              "    (0): BasicBlock(\n",
              "      (conv1): Sequential(\n",
              "        (0): Conv3DNoTemporal(64, 128, kernel_size=(1, 3, 3), stride=(1, 2, 2), padding=(0, 1, 1), bias=False)\n",
              "        (1): BatchNorm3d(128, eps=1e-05, momentum=0.1, affine=True, track_running_stats=True)\n",
              "        (2): ReLU(inplace=True)\n",
              "      )\n",
              "      (conv2): Sequential(\n",
              "        (0): Conv3DNoTemporal(128, 128, kernel_size=(1, 3, 3), stride=(1, 1, 1), padding=(0, 1, 1), bias=False)\n",
              "        (1): BatchNorm3d(128, eps=1e-05, momentum=0.1, affine=True, track_running_stats=True)\n",
              "      )\n",
              "      (relu): ReLU(inplace=True)\n",
              "      (downsample): Sequential(\n",
              "        (0): Conv3d(64, 128, kernel_size=(1, 1, 1), stride=(1, 2, 2), bias=False)\n",
              "        (1): BatchNorm3d(128, eps=1e-05, momentum=0.1, affine=True, track_running_stats=True)\n",
              "      )\n",
              "    )\n",
              "    (1): BasicBlock(\n",
              "      (conv1): Sequential(\n",
              "        (0): Conv3DNoTemporal(128, 128, kernel_size=(1, 3, 3), stride=(1, 1, 1), padding=(0, 1, 1), bias=False)\n",
              "        (1): BatchNorm3d(128, eps=1e-05, momentum=0.1, affine=True, track_running_stats=True)\n",
              "        (2): ReLU(inplace=True)\n",
              "      )\n",
              "      (conv2): Sequential(\n",
              "        (0): Conv3DNoTemporal(128, 128, kernel_size=(1, 3, 3), stride=(1, 1, 1), padding=(0, 1, 1), bias=False)\n",
              "        (1): BatchNorm3d(128, eps=1e-05, momentum=0.1, affine=True, track_running_stats=True)\n",
              "      )\n",
              "      (relu): ReLU(inplace=True)\n",
              "    )\n",
              "  )\n",
              "  (layer3): Sequential(\n",
              "    (0): BasicBlock(\n",
              "      (conv1): Sequential(\n",
              "        (0): Conv3DNoTemporal(128, 256, kernel_size=(1, 3, 3), stride=(1, 2, 2), padding=(0, 1, 1), bias=False)\n",
              "        (1): BatchNorm3d(256, eps=1e-05, momentum=0.1, affine=True, track_running_stats=True)\n",
              "        (2): ReLU(inplace=True)\n",
              "      )\n",
              "      (conv2): Sequential(\n",
              "        (0): Conv3DNoTemporal(256, 256, kernel_size=(1, 3, 3), stride=(1, 1, 1), padding=(0, 1, 1), bias=False)\n",
              "        (1): BatchNorm3d(256, eps=1e-05, momentum=0.1, affine=True, track_running_stats=True)\n",
              "      )\n",
              "      (relu): ReLU(inplace=True)\n",
              "      (downsample): Sequential(\n",
              "        (0): Conv3d(128, 256, kernel_size=(1, 1, 1), stride=(1, 2, 2), bias=False)\n",
              "        (1): BatchNorm3d(256, eps=1e-05, momentum=0.1, affine=True, track_running_stats=True)\n",
              "      )\n",
              "    )\n",
              "    (1): BasicBlock(\n",
              "      (conv1): Sequential(\n",
              "        (0): Conv3DNoTemporal(256, 256, kernel_size=(1, 3, 3), stride=(1, 1, 1), padding=(0, 1, 1), bias=False)\n",
              "        (1): BatchNorm3d(256, eps=1e-05, momentum=0.1, affine=True, track_running_stats=True)\n",
              "        (2): ReLU(inplace=True)\n",
              "      )\n",
              "      (conv2): Sequential(\n",
              "        (0): Conv3DNoTemporal(256, 256, kernel_size=(1, 3, 3), stride=(1, 1, 1), padding=(0, 1, 1), bias=False)\n",
              "        (1): BatchNorm3d(256, eps=1e-05, momentum=0.1, affine=True, track_running_stats=True)\n",
              "      )\n",
              "      (relu): ReLU(inplace=True)\n",
              "    )\n",
              "  )\n",
              "  (layer4): Sequential(\n",
              "    (0): BasicBlock(\n",
              "      (conv1): Sequential(\n",
              "        (0): Conv3DNoTemporal(256, 512, kernel_size=(1, 3, 3), stride=(1, 2, 2), padding=(0, 1, 1), bias=False)\n",
              "        (1): BatchNorm3d(512, eps=1e-05, momentum=0.1, affine=True, track_running_stats=True)\n",
              "        (2): ReLU(inplace=True)\n",
              "      )\n",
              "      (conv2): Sequential(\n",
              "        (0): Conv3DNoTemporal(512, 512, kernel_size=(1, 3, 3), stride=(1, 1, 1), padding=(0, 1, 1), bias=False)\n",
              "        (1): BatchNorm3d(512, eps=1e-05, momentum=0.1, affine=True, track_running_stats=True)\n",
              "      )\n",
              "      (relu): ReLU(inplace=True)\n",
              "      (downsample): Sequential(\n",
              "        (0): Conv3d(256, 512, kernel_size=(1, 1, 1), stride=(1, 2, 2), bias=False)\n",
              "        (1): BatchNorm3d(512, eps=1e-05, momentum=0.1, affine=True, track_running_stats=True)\n",
              "      )\n",
              "    )\n",
              "    (1): BasicBlock(\n",
              "      (conv1): Sequential(\n",
              "        (0): Conv3DNoTemporal(512, 512, kernel_size=(1, 3, 3), stride=(1, 1, 1), padding=(0, 1, 1), bias=False)\n",
              "        (1): BatchNorm3d(512, eps=1e-05, momentum=0.1, affine=True, track_running_stats=True)\n",
              "        (2): ReLU(inplace=True)\n",
              "      )\n",
              "      (conv2): Sequential(\n",
              "        (0): Conv3DNoTemporal(512, 512, kernel_size=(1, 3, 3), stride=(1, 1, 1), padding=(0, 1, 1), bias=False)\n",
              "        (1): BatchNorm3d(512, eps=1e-05, momentum=0.1, affine=True, track_running_stats=True)\n",
              "      )\n",
              "      (relu): ReLU(inplace=True)\n",
              "    )\n",
              "  )\n",
              "  (avgpool): AdaptiveAvgPool3d(output_size=(1, 1, 1))\n",
              "  (fc): Linear(in_features=512, out_features=15, bias=True)\n",
              ")"
            ]
          },
          "metadata": {},
          "execution_count": 12
        }
      ]
    },
    {
      "cell_type": "code",
      "source": [
        "loss_f = nn.CrossEntropyLoss()\n",
        "optimizer = torch.optim.AdamW(model.parameters(), lr=config.optimizer_lr)\n",
        "scheduler = lr_scheduler.StepLR(optimizer, step_size=3, gamma=0.8)"
      ],
      "metadata": {
        "id": "IXusWp13pYUP"
      },
      "execution_count": null,
      "outputs": []
    },
    {
      "cell_type": "code",
      "source": [
        "# Проведем обучение модели. Для корректной работы и для защиты от сбоев будем сохранять модель после каждой эпохи\n",
        "for epoch_i in range(1, config.epochs + 1):\n",
        "    start = time.time()\n",
        "\n",
        "    print(f'---------------------epoch:{epoch_i}/{config.epochs}---------------------')\n",
        "\n",
        "    # loss\n",
        "    avg_train_loss = 0\n",
        "    avg_val_loss = 0\n",
        "    summa = 0\n",
        "    ############## Train #############\n",
        "    model.train()\n",
        "    train_pbar = tqdm(train_loader, desc=\"Training\")\n",
        "    for X,y in (train_pbar):\n",
        "        X_batch = X.to(config.device)\n",
        "        y_batch = y.to(config.device)\n",
        "\n",
        "        optimizer.zero_grad()\n",
        "        res = model.forward(X_batch)\n",
        "\n",
        "        loss = loss_f(res, y_batch)\n",
        "\n",
        "        if torch.cuda.is_available():\n",
        "            train_pbar.set_postfix(gpu_load=f\"{torch.cuda.memory_allocated() / 1024 ** 3:.2f}GB\",\n",
        "                                   loss=f\"{loss.item():.4f}\")\n",
        "        else:\n",
        "            train_pbar.set_postfix(loss=f\"{loss.item():.4f}\")\n",
        "\n",
        "        loss.backward()\n",
        "        optimizer.step()\n",
        "        avg_train_loss += loss * len(y_batch)\n",
        "\n",
        "        del X, res\n",
        "\n",
        "\n",
        "\n",
        "    ########## VALIDATION ###############\n",
        "    model.eval()\n",
        "    valid_pbar = tqdm(valid_loader, desc=\"Testing\")\n",
        "    with torch.no_grad():\n",
        "        for X,y in (valid_pbar):\n",
        "            X_batch = X.to(config.device)\n",
        "            y_batch = y.to(config.device)\n",
        "\n",
        "            res = model.forward(X_batch)\n",
        "\n",
        "            loss = loss_f(res, y_batch)\n",
        "            avg_val_loss += loss * len(y_batch)\n",
        "            valid_pbar.set_postfix(loss=f\"{loss.item():.4f}\")\n",
        "\n",
        "            res = res.detach().cpu()\n",
        "            y_batch = y_batch.cpu()\n",
        "\n",
        "            preds = torch.max(F.softmax(res, dim=1), dim=1)\n",
        "            correct= torch.eq(preds[1], y_batch)\n",
        "            summa += torch.sum(correct).item()\n",
        "\n",
        "            del X, res\n",
        "\n",
        "\n",
        "    torch.cuda.empty_cache()\n",
        "\n",
        "    avg_train_loss = avg_train_loss / len(dataset_train)\n",
        "    avg_val_loss = avg_val_loss / len(dataset_test)\n",
        "\n",
        "    acc = summa / len(dataset_test)\n",
        "\n",
        "    print(f'epoch: {epoch_i}, lr_rate {optimizer.param_groups[0][\"lr\"]}')\n",
        "\n",
        "    print(\"loss_train: %0.4f| loss_valid: %0.4f|\" % (avg_train_loss, avg_val_loss))\n",
        "    print(f\"metric {acc:.<5g}\")\n",
        "\n",
        "    elapsed_time = time.time() - start\n",
        "    hours = int(elapsed_time // 3600)\n",
        "    minutes = int((elapsed_time % 3600) // 60)\n",
        "    seconds = int(elapsed_time % 60)\n",
        "    print(f\"Elapsed time: {hours:02d}:{minutes:02d}:{seconds:02d}\")\n",
        "    scheduler.step()\n",
        "    torch.save(model, f\"model_ep_{epoch_i}.pt\")"
      ],
      "metadata": {
        "colab": {
          "base_uri": "https://localhost:8080/"
        },
        "id": "d2B3Ehhspd3l",
        "outputId": "d415182a-53e5-4cd3-b99d-52aaf2b54411"
      },
      "execution_count": null,
      "outputs": [
        {
          "metadata": {
            "tags": null
          },
          "name": "stdout",
          "output_type": "stream",
          "text": [
            "---------------------epoch:1/10---------------------\n"
          ]
        },
        {
          "metadata": {
            "tags": null
          },
          "name": "stderr",
          "output_type": "stream",
          "text": [
            "Training: 100%|██████████| 20/20 [10:39<00:00, 31.98s/it, gpu_load=4.74GB, loss=2.4947]\n",
            "Testing: 100%|██████████| 5/5 [02:38<00:00, 31.76s/it, loss=2.3324]\n"
          ]
        },
        {
          "metadata": {
            "tags": null
          },
          "name": "stdout",
          "output_type": "stream",
          "text": [
            "epoch: 1, lr_rate 0.0001\n",
            "loss_train: 2.5659| loss_valid: 2.3468|\n",
            "metric 0.233333\n",
            "Elapsed time: 00:13:18\n",
            "---------------------epoch:2/10---------------------\n"
          ]
        },
        {
          "metadata": {
            "tags": null
          },
          "name": "stderr",
          "output_type": "stream",
          "text": [
            "Training: 100%|██████████| 20/20 [04:25<00:00, 13.27s/it, gpu_load=4.74GB, loss=1.4960]\n",
            "Testing: 100%|██████████| 5/5 [01:05<00:00, 13.06s/it, loss=2.2029]\n"
          ]
        },
        {
          "metadata": {
            "tags": null
          },
          "name": "stdout",
          "output_type": "stream",
          "text": [
            "epoch: 2, lr_rate 0.0001\n",
            "loss_train: 1.5346| loss_valid: 2.1260|\n",
            "metric 0.308333\n",
            "Elapsed time: 00:05:30\n",
            "---------------------epoch:3/10---------------------\n"
          ]
        },
        {
          "metadata": {
            "tags": null
          },
          "name": "stderr",
          "output_type": "stream",
          "text": [
            "Training: 100%|██████████| 20/20 [04:23<00:00, 13.16s/it, gpu_load=4.74GB, loss=0.8768]\n",
            "Testing: 100%|██████████| 5/5 [01:06<00:00, 13.33s/it, loss=2.0112]\n"
          ]
        },
        {
          "metadata": {
            "tags": null
          },
          "name": "stdout",
          "output_type": "stream",
          "text": [
            "epoch: 3, lr_rate 0.0001\n",
            "loss_train: 0.9575| loss_valid: 1.9860|\n",
            "metric 0.35.\n",
            "Elapsed time: 00:05:29\n",
            "---------------------epoch:4/10---------------------\n"
          ]
        },
        {
          "metadata": {
            "tags": null
          },
          "name": "stderr",
          "output_type": "stream",
          "text": [
            "Training: 100%|██████████| 20/20 [04:22<00:00, 13.15s/it, gpu_load=4.74GB, loss=0.5806]\n",
            "Testing: 100%|██████████| 5/5 [01:06<00:00, 13.29s/it, loss=1.9397]\n"
          ]
        },
        {
          "metadata": {
            "tags": null
          },
          "name": "stdout",
          "output_type": "stream",
          "text": [
            "epoch: 4, lr_rate 8e-05\n",
            "loss_train: 0.5612| loss_valid: 1.9362|\n",
            "metric 0.375\n",
            "Elapsed time: 00:05:29\n",
            "---------------------epoch:5/10---------------------\n"
          ]
        },
        {
          "output_type": "stream",
          "name": "stderr",
          "text": [
            "Training: 100%|██████████| 20/20 [04:22<00:00, 13.13s/it, gpu_load=4.74GB, loss=0.4655]\n",
            "Testing: 100%|██████████| 5/5 [01:06<00:00, 13.26s/it, loss=1.9392]\n"
          ]
        },
        {
          "output_type": "stream",
          "name": "stdout",
          "text": [
            "epoch: 5, lr_rate 8e-05\n",
            "loss_train: 0.3502| loss_valid: 1.9044|\n",
            "metric 0.375\n",
            "Elapsed time: 00:05:28\n",
            "---------------------epoch:6/10---------------------\n"
          ]
        },
        {
          "output_type": "stream",
          "name": "stderr",
          "text": [
            "Training: 100%|██████████| 20/20 [04:20<00:00, 13.03s/it, gpu_load=4.74GB, loss=0.1824]\n",
            "Testing: 100%|██████████| 5/5 [01:06<00:00, 13.23s/it, loss=1.9067]\n"
          ]
        },
        {
          "output_type": "stream",
          "name": "stdout",
          "text": [
            "epoch: 6, lr_rate 8e-05\n",
            "loss_train: 0.2224| loss_valid: 1.8778|\n",
            "metric 0.408333\n",
            "Elapsed time: 00:05:26\n",
            "---------------------epoch:7/10---------------------\n"
          ]
        },
        {
          "output_type": "stream",
          "name": "stderr",
          "text": [
            "Training: 100%|██████████| 20/20 [04:22<00:00, 13.13s/it, gpu_load=4.74GB, loss=0.1201]\n",
            "Testing: 100%|██████████| 5/5 [01:05<00:00, 13.18s/it, loss=1.9113]\n"
          ]
        },
        {
          "output_type": "stream",
          "name": "stdout",
          "text": [
            "epoch: 7, lr_rate 6.400000000000001e-05\n",
            "loss_train: 0.1456| loss_valid: 1.8887|\n",
            "metric 0.391667\n",
            "Elapsed time: 00:05:28\n",
            "---------------------epoch:8/10---------------------\n"
          ]
        },
        {
          "output_type": "stream",
          "name": "stderr",
          "text": [
            "Training: 100%|██████████| 20/20 [04:21<00:00, 13.10s/it, gpu_load=4.74GB, loss=0.1151]\n",
            "Testing: 100%|██████████| 5/5 [01:05<00:00, 13.10s/it, loss=1.8991]\n"
          ]
        },
        {
          "output_type": "stream",
          "name": "stdout",
          "text": [
            "epoch: 8, lr_rate 6.400000000000001e-05\n",
            "loss_train: 0.1146| loss_valid: 1.8801|\n",
            "metric 0.408333\n",
            "Elapsed time: 00:05:27\n",
            "---------------------epoch:9/10---------------------\n"
          ]
        },
        {
          "output_type": "stream",
          "name": "stderr",
          "text": [
            "Training: 100%|██████████| 20/20 [04:20<00:00, 13.03s/it, gpu_load=4.68GB, loss=0.1273]\n",
            "Testing: 100%|██████████| 5/5 [01:05<00:00, 13.08s/it, loss=1.9258]\n"
          ]
        },
        {
          "output_type": "stream",
          "name": "stdout",
          "text": [
            "epoch: 9, lr_rate 6.400000000000001e-05\n",
            "loss_train: 0.0962| loss_valid: 1.8740|\n",
            "metric 0.383333\n",
            "Elapsed time: 00:05:26\n",
            "---------------------epoch:10/10---------------------\n"
          ]
        },
        {
          "output_type": "stream",
          "name": "stderr",
          "text": [
            "Training: 100%|██████████| 20/20 [04:18<00:00, 12.95s/it, gpu_load=4.74GB, loss=0.0654]\n",
            "Testing: 100%|██████████| 5/5 [01:05<00:00, 13.05s/it, loss=1.9345]"
          ]
        },
        {
          "output_type": "stream",
          "name": "stdout",
          "text": [
            "epoch: 10, lr_rate 5.120000000000001e-05\n",
            "loss_train: 0.0771| loss_valid: 1.8808|\n",
            "metric 0.4..\n",
            "Elapsed time: 00:05:24\n"
          ]
        },
        {
          "output_type": "stream",
          "name": "stderr",
          "text": [
            "\n"
          ]
        }
      ]
    },
    {
      "cell_type": "markdown",
      "source": [
        "# Модель на кадрах"
      ],
      "metadata": {
        "id": "yBt89oOJpOvu"
      }
    },
    {
      "cell_type": "code",
      "source": [
        "df = pd.read_csv(\"data.csv\")\n",
        "df.head()"
      ],
      "metadata": {
        "colab": {
          "base_uri": "https://localhost:8080/",
          "height": 206
        },
        "id": "Oyt9pRqL-mxL",
        "outputId": "aed36701-dcfb-407a-f4ec-0159645781e3"
      },
      "execution_count": 5,
      "outputs": [
        {
          "output_type": "execute_result",
          "data": {
            "text/plain": [
              "   Unnamed: 0             name_video          label\n",
              "0           0  videos/video_0000.mp4  belly dancing\n",
              "1           1  videos/video_0001.mp4  belly dancing\n",
              "2           2  videos/video_0002.mp4  belly dancing\n",
              "3           3  videos/video_0003.mp4  belly dancing\n",
              "4           4  videos/video_0004.mp4  belly dancing"
            ],
            "text/html": [
              "\n",
              "  <div id=\"df-d7dce0dd-afaa-4cb6-9ed7-6809ed90ef1d\" class=\"colab-df-container\">\n",
              "    <div>\n",
              "<style scoped>\n",
              "    .dataframe tbody tr th:only-of-type {\n",
              "        vertical-align: middle;\n",
              "    }\n",
              "\n",
              "    .dataframe tbody tr th {\n",
              "        vertical-align: top;\n",
              "    }\n",
              "\n",
              "    .dataframe thead th {\n",
              "        text-align: right;\n",
              "    }\n",
              "</style>\n",
              "<table border=\"1\" class=\"dataframe\">\n",
              "  <thead>\n",
              "    <tr style=\"text-align: right;\">\n",
              "      <th></th>\n",
              "      <th>Unnamed: 0</th>\n",
              "      <th>name_video</th>\n",
              "      <th>label</th>\n",
              "    </tr>\n",
              "  </thead>\n",
              "  <tbody>\n",
              "    <tr>\n",
              "      <th>0</th>\n",
              "      <td>0</td>\n",
              "      <td>videos/video_0000.mp4</td>\n",
              "      <td>belly dancing</td>\n",
              "    </tr>\n",
              "    <tr>\n",
              "      <th>1</th>\n",
              "      <td>1</td>\n",
              "      <td>videos/video_0001.mp4</td>\n",
              "      <td>belly dancing</td>\n",
              "    </tr>\n",
              "    <tr>\n",
              "      <th>2</th>\n",
              "      <td>2</td>\n",
              "      <td>videos/video_0002.mp4</td>\n",
              "      <td>belly dancing</td>\n",
              "    </tr>\n",
              "    <tr>\n",
              "      <th>3</th>\n",
              "      <td>3</td>\n",
              "      <td>videos/video_0003.mp4</td>\n",
              "      <td>belly dancing</td>\n",
              "    </tr>\n",
              "    <tr>\n",
              "      <th>4</th>\n",
              "      <td>4</td>\n",
              "      <td>videos/video_0004.mp4</td>\n",
              "      <td>belly dancing</td>\n",
              "    </tr>\n",
              "  </tbody>\n",
              "</table>\n",
              "</div>\n",
              "    <div class=\"colab-df-buttons\">\n",
              "\n",
              "  <div class=\"colab-df-container\">\n",
              "    <button class=\"colab-df-convert\" onclick=\"convertToInteractive('df-d7dce0dd-afaa-4cb6-9ed7-6809ed90ef1d')\"\n",
              "            title=\"Convert this dataframe to an interactive table.\"\n",
              "            style=\"display:none;\">\n",
              "\n",
              "  <svg xmlns=\"http://www.w3.org/2000/svg\" height=\"24px\" viewBox=\"0 -960 960 960\">\n",
              "    <path d=\"M120-120v-720h720v720H120Zm60-500h600v-160H180v160Zm220 220h160v-160H400v160Zm0 220h160v-160H400v160ZM180-400h160v-160H180v160Zm440 0h160v-160H620v160ZM180-180h160v-160H180v160Zm440 0h160v-160H620v160Z\"/>\n",
              "  </svg>\n",
              "    </button>\n",
              "\n",
              "  <style>\n",
              "    .colab-df-container {\n",
              "      display:flex;\n",
              "      gap: 12px;\n",
              "    }\n",
              "\n",
              "    .colab-df-convert {\n",
              "      background-color: #E8F0FE;\n",
              "      border: none;\n",
              "      border-radius: 50%;\n",
              "      cursor: pointer;\n",
              "      display: none;\n",
              "      fill: #1967D2;\n",
              "      height: 32px;\n",
              "      padding: 0 0 0 0;\n",
              "      width: 32px;\n",
              "    }\n",
              "\n",
              "    .colab-df-convert:hover {\n",
              "      background-color: #E2EBFA;\n",
              "      box-shadow: 0px 1px 2px rgba(60, 64, 67, 0.3), 0px 1px 3px 1px rgba(60, 64, 67, 0.15);\n",
              "      fill: #174EA6;\n",
              "    }\n",
              "\n",
              "    .colab-df-buttons div {\n",
              "      margin-bottom: 4px;\n",
              "    }\n",
              "\n",
              "    [theme=dark] .colab-df-convert {\n",
              "      background-color: #3B4455;\n",
              "      fill: #D2E3FC;\n",
              "    }\n",
              "\n",
              "    [theme=dark] .colab-df-convert:hover {\n",
              "      background-color: #434B5C;\n",
              "      box-shadow: 0px 1px 3px 1px rgba(0, 0, 0, 0.15);\n",
              "      filter: drop-shadow(0px 1px 2px rgba(0, 0, 0, 0.3));\n",
              "      fill: #FFFFFF;\n",
              "    }\n",
              "  </style>\n",
              "\n",
              "    <script>\n",
              "      const buttonEl =\n",
              "        document.querySelector('#df-d7dce0dd-afaa-4cb6-9ed7-6809ed90ef1d button.colab-df-convert');\n",
              "      buttonEl.style.display =\n",
              "        google.colab.kernel.accessAllowed ? 'block' : 'none';\n",
              "\n",
              "      async function convertToInteractive(key) {\n",
              "        const element = document.querySelector('#df-d7dce0dd-afaa-4cb6-9ed7-6809ed90ef1d');\n",
              "        const dataTable =\n",
              "          await google.colab.kernel.invokeFunction('convertToInteractive',\n",
              "                                                    [key], {});\n",
              "        if (!dataTable) return;\n",
              "\n",
              "        const docLinkHtml = 'Like what you see? Visit the ' +\n",
              "          '<a target=\"_blank\" href=https://colab.research.google.com/notebooks/data_table.ipynb>data table notebook</a>'\n",
              "          + ' to learn more about interactive tables.';\n",
              "        element.innerHTML = '';\n",
              "        dataTable['output_type'] = 'display_data';\n",
              "        await google.colab.output.renderOutput(dataTable, element);\n",
              "        const docLink = document.createElement('div');\n",
              "        docLink.innerHTML = docLinkHtml;\n",
              "        element.appendChild(docLink);\n",
              "      }\n",
              "    </script>\n",
              "  </div>\n",
              "\n",
              "\n",
              "<div id=\"df-b46360db-0fa0-4d8d-a831-ce3306c30473\">\n",
              "  <button class=\"colab-df-quickchart\" onclick=\"quickchart('df-b46360db-0fa0-4d8d-a831-ce3306c30473')\"\n",
              "            title=\"Suggest charts\"\n",
              "            style=\"display:none;\">\n",
              "\n",
              "<svg xmlns=\"http://www.w3.org/2000/svg\" height=\"24px\"viewBox=\"0 0 24 24\"\n",
              "     width=\"24px\">\n",
              "    <g>\n",
              "        <path d=\"M19 3H5c-1.1 0-2 .9-2 2v14c0 1.1.9 2 2 2h14c1.1 0 2-.9 2-2V5c0-1.1-.9-2-2-2zM9 17H7v-7h2v7zm4 0h-2V7h2v10zm4 0h-2v-4h2v4z\"/>\n",
              "    </g>\n",
              "</svg>\n",
              "  </button>\n",
              "\n",
              "<style>\n",
              "  .colab-df-quickchart {\n",
              "      --bg-color: #E8F0FE;\n",
              "      --fill-color: #1967D2;\n",
              "      --hover-bg-color: #E2EBFA;\n",
              "      --hover-fill-color: #174EA6;\n",
              "      --disabled-fill-color: #AAA;\n",
              "      --disabled-bg-color: #DDD;\n",
              "  }\n",
              "\n",
              "  [theme=dark] .colab-df-quickchart {\n",
              "      --bg-color: #3B4455;\n",
              "      --fill-color: #D2E3FC;\n",
              "      --hover-bg-color: #434B5C;\n",
              "      --hover-fill-color: #FFFFFF;\n",
              "      --disabled-bg-color: #3B4455;\n",
              "      --disabled-fill-color: #666;\n",
              "  }\n",
              "\n",
              "  .colab-df-quickchart {\n",
              "    background-color: var(--bg-color);\n",
              "    border: none;\n",
              "    border-radius: 50%;\n",
              "    cursor: pointer;\n",
              "    display: none;\n",
              "    fill: var(--fill-color);\n",
              "    height: 32px;\n",
              "    padding: 0;\n",
              "    width: 32px;\n",
              "  }\n",
              "\n",
              "  .colab-df-quickchart:hover {\n",
              "    background-color: var(--hover-bg-color);\n",
              "    box-shadow: 0 1px 2px rgba(60, 64, 67, 0.3), 0 1px 3px 1px rgba(60, 64, 67, 0.15);\n",
              "    fill: var(--button-hover-fill-color);\n",
              "  }\n",
              "\n",
              "  .colab-df-quickchart-complete:disabled,\n",
              "  .colab-df-quickchart-complete:disabled:hover {\n",
              "    background-color: var(--disabled-bg-color);\n",
              "    fill: var(--disabled-fill-color);\n",
              "    box-shadow: none;\n",
              "  }\n",
              "\n",
              "  .colab-df-spinner {\n",
              "    border: 2px solid var(--fill-color);\n",
              "    border-color: transparent;\n",
              "    border-bottom-color: var(--fill-color);\n",
              "    animation:\n",
              "      spin 1s steps(1) infinite;\n",
              "  }\n",
              "\n",
              "  @keyframes spin {\n",
              "    0% {\n",
              "      border-color: transparent;\n",
              "      border-bottom-color: var(--fill-color);\n",
              "      border-left-color: var(--fill-color);\n",
              "    }\n",
              "    20% {\n",
              "      border-color: transparent;\n",
              "      border-left-color: var(--fill-color);\n",
              "      border-top-color: var(--fill-color);\n",
              "    }\n",
              "    30% {\n",
              "      border-color: transparent;\n",
              "      border-left-color: var(--fill-color);\n",
              "      border-top-color: var(--fill-color);\n",
              "      border-right-color: var(--fill-color);\n",
              "    }\n",
              "    40% {\n",
              "      border-color: transparent;\n",
              "      border-right-color: var(--fill-color);\n",
              "      border-top-color: var(--fill-color);\n",
              "    }\n",
              "    60% {\n",
              "      border-color: transparent;\n",
              "      border-right-color: var(--fill-color);\n",
              "    }\n",
              "    80% {\n",
              "      border-color: transparent;\n",
              "      border-right-color: var(--fill-color);\n",
              "      border-bottom-color: var(--fill-color);\n",
              "    }\n",
              "    90% {\n",
              "      border-color: transparent;\n",
              "      border-bottom-color: var(--fill-color);\n",
              "    }\n",
              "  }\n",
              "</style>\n",
              "\n",
              "  <script>\n",
              "    async function quickchart(key) {\n",
              "      const quickchartButtonEl =\n",
              "        document.querySelector('#' + key + ' button');\n",
              "      quickchartButtonEl.disabled = true;  // To prevent multiple clicks.\n",
              "      quickchartButtonEl.classList.add('colab-df-spinner');\n",
              "      try {\n",
              "        const charts = await google.colab.kernel.invokeFunction(\n",
              "            'suggestCharts', [key], {});\n",
              "      } catch (error) {\n",
              "        console.error('Error during call to suggestCharts:', error);\n",
              "      }\n",
              "      quickchartButtonEl.classList.remove('colab-df-spinner');\n",
              "      quickchartButtonEl.classList.add('colab-df-quickchart-complete');\n",
              "    }\n",
              "    (() => {\n",
              "      let quickchartButtonEl =\n",
              "        document.querySelector('#df-b46360db-0fa0-4d8d-a831-ce3306c30473 button');\n",
              "      quickchartButtonEl.style.display =\n",
              "        google.colab.kernel.accessAllowed ? 'block' : 'none';\n",
              "    })();\n",
              "  </script>\n",
              "</div>\n",
              "    </div>\n",
              "  </div>\n"
            ],
            "application/vnd.google.colaboratory.intrinsic+json": {
              "type": "dataframe",
              "variable_name": "df",
              "summary": "{\n  \"name\": \"df\",\n  \"rows\": 597,\n  \"fields\": [\n    {\n      \"column\": \"Unnamed: 0\",\n      \"properties\": {\n        \"dtype\": \"number\",\n        \"std\": 172,\n        \"min\": 0,\n        \"max\": 596,\n        \"num_unique_values\": 597,\n        \"samples\": [\n          109,\n          480,\n          135\n        ],\n        \"semantic_type\": \"\",\n        \"description\": \"\"\n      }\n    },\n    {\n      \"column\": \"name_video\",\n      \"properties\": {\n        \"dtype\": \"string\",\n        \"num_unique_values\": 597,\n        \"samples\": [\n          \"videos/video_0109.mp4\",\n          \"videos/video_0480.mp4\",\n          \"videos/video_0135.mp4\"\n        ],\n        \"semantic_type\": \"\",\n        \"description\": \"\"\n      }\n    },\n    {\n      \"column\": \"label\",\n      \"properties\": {\n        \"dtype\": \"category\",\n        \"num_unique_values\": 15,\n        \"samples\": [\n          \"robot dancing\",\n          \"square dancing\",\n          \"belly dancing\"\n        ],\n        \"semantic_type\": \"\",\n        \"description\": \"\"\n      }\n    }\n  ]\n}"
            }
          },
          "metadata": {},
          "execution_count": 5
        }
      ]
    },
    {
      "cell_type": "code",
      "source": [
        "unique_labels = df['label'].unique()\n",
        "label_dict = {label: index for index, label in enumerate(unique_labels)}\n",
        "df['target'] = df.label.map(label_dict)\n",
        "\n",
        "df.head()"
      ],
      "metadata": {
        "colab": {
          "base_uri": "https://localhost:8080/",
          "height": 206
        },
        "id": "NZ5b2qCO-oTU",
        "outputId": "76f6ec04-6a8d-4aa5-badb-3b684cb4ac08"
      },
      "execution_count": 6,
      "outputs": [
        {
          "output_type": "execute_result",
          "data": {
            "text/plain": [
              "   Unnamed: 0             name_video          label  target\n",
              "0           0  videos/video_0000.mp4  belly dancing       0\n",
              "1           1  videos/video_0001.mp4  belly dancing       0\n",
              "2           2  videos/video_0002.mp4  belly dancing       0\n",
              "3           3  videos/video_0003.mp4  belly dancing       0\n",
              "4           4  videos/video_0004.mp4  belly dancing       0"
            ],
            "text/html": [
              "\n",
              "  <div id=\"df-e44f77f2-4a51-4927-a09b-2a504a7b27a3\" class=\"colab-df-container\">\n",
              "    <div>\n",
              "<style scoped>\n",
              "    .dataframe tbody tr th:only-of-type {\n",
              "        vertical-align: middle;\n",
              "    }\n",
              "\n",
              "    .dataframe tbody tr th {\n",
              "        vertical-align: top;\n",
              "    }\n",
              "\n",
              "    .dataframe thead th {\n",
              "        text-align: right;\n",
              "    }\n",
              "</style>\n",
              "<table border=\"1\" class=\"dataframe\">\n",
              "  <thead>\n",
              "    <tr style=\"text-align: right;\">\n",
              "      <th></th>\n",
              "      <th>Unnamed: 0</th>\n",
              "      <th>name_video</th>\n",
              "      <th>label</th>\n",
              "      <th>target</th>\n",
              "    </tr>\n",
              "  </thead>\n",
              "  <tbody>\n",
              "    <tr>\n",
              "      <th>0</th>\n",
              "      <td>0</td>\n",
              "      <td>videos/video_0000.mp4</td>\n",
              "      <td>belly dancing</td>\n",
              "      <td>0</td>\n",
              "    </tr>\n",
              "    <tr>\n",
              "      <th>1</th>\n",
              "      <td>1</td>\n",
              "      <td>videos/video_0001.mp4</td>\n",
              "      <td>belly dancing</td>\n",
              "      <td>0</td>\n",
              "    </tr>\n",
              "    <tr>\n",
              "      <th>2</th>\n",
              "      <td>2</td>\n",
              "      <td>videos/video_0002.mp4</td>\n",
              "      <td>belly dancing</td>\n",
              "      <td>0</td>\n",
              "    </tr>\n",
              "    <tr>\n",
              "      <th>3</th>\n",
              "      <td>3</td>\n",
              "      <td>videos/video_0003.mp4</td>\n",
              "      <td>belly dancing</td>\n",
              "      <td>0</td>\n",
              "    </tr>\n",
              "    <tr>\n",
              "      <th>4</th>\n",
              "      <td>4</td>\n",
              "      <td>videos/video_0004.mp4</td>\n",
              "      <td>belly dancing</td>\n",
              "      <td>0</td>\n",
              "    </tr>\n",
              "  </tbody>\n",
              "</table>\n",
              "</div>\n",
              "    <div class=\"colab-df-buttons\">\n",
              "\n",
              "  <div class=\"colab-df-container\">\n",
              "    <button class=\"colab-df-convert\" onclick=\"convertToInteractive('df-e44f77f2-4a51-4927-a09b-2a504a7b27a3')\"\n",
              "            title=\"Convert this dataframe to an interactive table.\"\n",
              "            style=\"display:none;\">\n",
              "\n",
              "  <svg xmlns=\"http://www.w3.org/2000/svg\" height=\"24px\" viewBox=\"0 -960 960 960\">\n",
              "    <path d=\"M120-120v-720h720v720H120Zm60-500h600v-160H180v160Zm220 220h160v-160H400v160Zm0 220h160v-160H400v160ZM180-400h160v-160H180v160Zm440 0h160v-160H620v160ZM180-180h160v-160H180v160Zm440 0h160v-160H620v160Z\"/>\n",
              "  </svg>\n",
              "    </button>\n",
              "\n",
              "  <style>\n",
              "    .colab-df-container {\n",
              "      display:flex;\n",
              "      gap: 12px;\n",
              "    }\n",
              "\n",
              "    .colab-df-convert {\n",
              "      background-color: #E8F0FE;\n",
              "      border: none;\n",
              "      border-radius: 50%;\n",
              "      cursor: pointer;\n",
              "      display: none;\n",
              "      fill: #1967D2;\n",
              "      height: 32px;\n",
              "      padding: 0 0 0 0;\n",
              "      width: 32px;\n",
              "    }\n",
              "\n",
              "    .colab-df-convert:hover {\n",
              "      background-color: #E2EBFA;\n",
              "      box-shadow: 0px 1px 2px rgba(60, 64, 67, 0.3), 0px 1px 3px 1px rgba(60, 64, 67, 0.15);\n",
              "      fill: #174EA6;\n",
              "    }\n",
              "\n",
              "    .colab-df-buttons div {\n",
              "      margin-bottom: 4px;\n",
              "    }\n",
              "\n",
              "    [theme=dark] .colab-df-convert {\n",
              "      background-color: #3B4455;\n",
              "      fill: #D2E3FC;\n",
              "    }\n",
              "\n",
              "    [theme=dark] .colab-df-convert:hover {\n",
              "      background-color: #434B5C;\n",
              "      box-shadow: 0px 1px 3px 1px rgba(0, 0, 0, 0.15);\n",
              "      filter: drop-shadow(0px 1px 2px rgba(0, 0, 0, 0.3));\n",
              "      fill: #FFFFFF;\n",
              "    }\n",
              "  </style>\n",
              "\n",
              "    <script>\n",
              "      const buttonEl =\n",
              "        document.querySelector('#df-e44f77f2-4a51-4927-a09b-2a504a7b27a3 button.colab-df-convert');\n",
              "      buttonEl.style.display =\n",
              "        google.colab.kernel.accessAllowed ? 'block' : 'none';\n",
              "\n",
              "      async function convertToInteractive(key) {\n",
              "        const element = document.querySelector('#df-e44f77f2-4a51-4927-a09b-2a504a7b27a3');\n",
              "        const dataTable =\n",
              "          await google.colab.kernel.invokeFunction('convertToInteractive',\n",
              "                                                    [key], {});\n",
              "        if (!dataTable) return;\n",
              "\n",
              "        const docLinkHtml = 'Like what you see? Visit the ' +\n",
              "          '<a target=\"_blank\" href=https://colab.research.google.com/notebooks/data_table.ipynb>data table notebook</a>'\n",
              "          + ' to learn more about interactive tables.';\n",
              "        element.innerHTML = '';\n",
              "        dataTable['output_type'] = 'display_data';\n",
              "        await google.colab.output.renderOutput(dataTable, element);\n",
              "        const docLink = document.createElement('div');\n",
              "        docLink.innerHTML = docLinkHtml;\n",
              "        element.appendChild(docLink);\n",
              "      }\n",
              "    </script>\n",
              "  </div>\n",
              "\n",
              "\n",
              "<div id=\"df-d76b4881-1674-47ee-a67a-5bc28c08c698\">\n",
              "  <button class=\"colab-df-quickchart\" onclick=\"quickchart('df-d76b4881-1674-47ee-a67a-5bc28c08c698')\"\n",
              "            title=\"Suggest charts\"\n",
              "            style=\"display:none;\">\n",
              "\n",
              "<svg xmlns=\"http://www.w3.org/2000/svg\" height=\"24px\"viewBox=\"0 0 24 24\"\n",
              "     width=\"24px\">\n",
              "    <g>\n",
              "        <path d=\"M19 3H5c-1.1 0-2 .9-2 2v14c0 1.1.9 2 2 2h14c1.1 0 2-.9 2-2V5c0-1.1-.9-2-2-2zM9 17H7v-7h2v7zm4 0h-2V7h2v10zm4 0h-2v-4h2v4z\"/>\n",
              "    </g>\n",
              "</svg>\n",
              "  </button>\n",
              "\n",
              "<style>\n",
              "  .colab-df-quickchart {\n",
              "      --bg-color: #E8F0FE;\n",
              "      --fill-color: #1967D2;\n",
              "      --hover-bg-color: #E2EBFA;\n",
              "      --hover-fill-color: #174EA6;\n",
              "      --disabled-fill-color: #AAA;\n",
              "      --disabled-bg-color: #DDD;\n",
              "  }\n",
              "\n",
              "  [theme=dark] .colab-df-quickchart {\n",
              "      --bg-color: #3B4455;\n",
              "      --fill-color: #D2E3FC;\n",
              "      --hover-bg-color: #434B5C;\n",
              "      --hover-fill-color: #FFFFFF;\n",
              "      --disabled-bg-color: #3B4455;\n",
              "      --disabled-fill-color: #666;\n",
              "  }\n",
              "\n",
              "  .colab-df-quickchart {\n",
              "    background-color: var(--bg-color);\n",
              "    border: none;\n",
              "    border-radius: 50%;\n",
              "    cursor: pointer;\n",
              "    display: none;\n",
              "    fill: var(--fill-color);\n",
              "    height: 32px;\n",
              "    padding: 0;\n",
              "    width: 32px;\n",
              "  }\n",
              "\n",
              "  .colab-df-quickchart:hover {\n",
              "    background-color: var(--hover-bg-color);\n",
              "    box-shadow: 0 1px 2px rgba(60, 64, 67, 0.3), 0 1px 3px 1px rgba(60, 64, 67, 0.15);\n",
              "    fill: var(--button-hover-fill-color);\n",
              "  }\n",
              "\n",
              "  .colab-df-quickchart-complete:disabled,\n",
              "  .colab-df-quickchart-complete:disabled:hover {\n",
              "    background-color: var(--disabled-bg-color);\n",
              "    fill: var(--disabled-fill-color);\n",
              "    box-shadow: none;\n",
              "  }\n",
              "\n",
              "  .colab-df-spinner {\n",
              "    border: 2px solid var(--fill-color);\n",
              "    border-color: transparent;\n",
              "    border-bottom-color: var(--fill-color);\n",
              "    animation:\n",
              "      spin 1s steps(1) infinite;\n",
              "  }\n",
              "\n",
              "  @keyframes spin {\n",
              "    0% {\n",
              "      border-color: transparent;\n",
              "      border-bottom-color: var(--fill-color);\n",
              "      border-left-color: var(--fill-color);\n",
              "    }\n",
              "    20% {\n",
              "      border-color: transparent;\n",
              "      border-left-color: var(--fill-color);\n",
              "      border-top-color: var(--fill-color);\n",
              "    }\n",
              "    30% {\n",
              "      border-color: transparent;\n",
              "      border-left-color: var(--fill-color);\n",
              "      border-top-color: var(--fill-color);\n",
              "      border-right-color: var(--fill-color);\n",
              "    }\n",
              "    40% {\n",
              "      border-color: transparent;\n",
              "      border-right-color: var(--fill-color);\n",
              "      border-top-color: var(--fill-color);\n",
              "    }\n",
              "    60% {\n",
              "      border-color: transparent;\n",
              "      border-right-color: var(--fill-color);\n",
              "    }\n",
              "    80% {\n",
              "      border-color: transparent;\n",
              "      border-right-color: var(--fill-color);\n",
              "      border-bottom-color: var(--fill-color);\n",
              "    }\n",
              "    90% {\n",
              "      border-color: transparent;\n",
              "      border-bottom-color: var(--fill-color);\n",
              "    }\n",
              "  }\n",
              "</style>\n",
              "\n",
              "  <script>\n",
              "    async function quickchart(key) {\n",
              "      const quickchartButtonEl =\n",
              "        document.querySelector('#' + key + ' button');\n",
              "      quickchartButtonEl.disabled = true;  // To prevent multiple clicks.\n",
              "      quickchartButtonEl.classList.add('colab-df-spinner');\n",
              "      try {\n",
              "        const charts = await google.colab.kernel.invokeFunction(\n",
              "            'suggestCharts', [key], {});\n",
              "      } catch (error) {\n",
              "        console.error('Error during call to suggestCharts:', error);\n",
              "      }\n",
              "      quickchartButtonEl.classList.remove('colab-df-spinner');\n",
              "      quickchartButtonEl.classList.add('colab-df-quickchart-complete');\n",
              "    }\n",
              "    (() => {\n",
              "      let quickchartButtonEl =\n",
              "        document.querySelector('#df-d76b4881-1674-47ee-a67a-5bc28c08c698 button');\n",
              "      quickchartButtonEl.style.display =\n",
              "        google.colab.kernel.accessAllowed ? 'block' : 'none';\n",
              "    })();\n",
              "  </script>\n",
              "</div>\n",
              "    </div>\n",
              "  </div>\n"
            ],
            "application/vnd.google.colaboratory.intrinsic+json": {
              "type": "dataframe",
              "variable_name": "df",
              "summary": "{\n  \"name\": \"df\",\n  \"rows\": 597,\n  \"fields\": [\n    {\n      \"column\": \"Unnamed: 0\",\n      \"properties\": {\n        \"dtype\": \"number\",\n        \"std\": 172,\n        \"min\": 0,\n        \"max\": 596,\n        \"num_unique_values\": 597,\n        \"samples\": [\n          109,\n          480,\n          135\n        ],\n        \"semantic_type\": \"\",\n        \"description\": \"\"\n      }\n    },\n    {\n      \"column\": \"name_video\",\n      \"properties\": {\n        \"dtype\": \"string\",\n        \"num_unique_values\": 597,\n        \"samples\": [\n          \"videos/video_0109.mp4\",\n          \"videos/video_0480.mp4\",\n          \"videos/video_0135.mp4\"\n        ],\n        \"semantic_type\": \"\",\n        \"description\": \"\"\n      }\n    },\n    {\n      \"column\": \"label\",\n      \"properties\": {\n        \"dtype\": \"category\",\n        \"num_unique_values\": 15,\n        \"samples\": [\n          \"robot dancing\",\n          \"square dancing\",\n          \"belly dancing\"\n        ],\n        \"semantic_type\": \"\",\n        \"description\": \"\"\n      }\n    },\n    {\n      \"column\": \"target\",\n      \"properties\": {\n        \"dtype\": \"number\",\n        \"std\": 4,\n        \"min\": 0,\n        \"max\": 14,\n        \"num_unique_values\": 15,\n        \"samples\": [\n          9,\n          11,\n          0\n        ],\n        \"semantic_type\": \"\",\n        \"description\": \"\"\n      }\n    }\n  ]\n}"
            }
          },
          "metadata": {},
          "execution_count": 6
        }
      ]
    },
    {
      "cell_type": "code",
      "source": [
        "# Cоздадим конфиг для обучения модели\n",
        "config = Box()\n",
        "\n",
        "config.num_workers = 1\n",
        "config.batch_size = 24\n",
        "config.device = torch.device('cuda' if torch.cuda.is_available() else 'cpu')\n",
        "config.seed = 1771\n",
        "config.model_name = 'tf_efficientnet_b0_ns'\n",
        "config.num_features = df.target.nunique()\n",
        "config.optimizer_lr = 0.001\n",
        "config.epochs = 10\n",
        "config.test_size = 0.2"
      ],
      "metadata": {
        "id": "5Z1xJQcx51kC"
      },
      "execution_count": 7,
      "outputs": []
    },
    {
      "cell_type": "markdown",
      "source": [
        "Основная идея задания 2 заключается в обучения модели на отдельных кадрах, нужно случайнм образом выбирать кадр из видео, и обрабатывать его как изображение, пытаясь классифицировать действие, которое на нем происходит. То есть мы будем здесь классифицировать отдельные кадры из видео. Для обучения модели попробуем взять сеть tf_efficientnet_b0_ns - это улучшенная версия сети effnet_b0, обученная на большем кол-ве данных и более мощной версии."
      ],
      "metadata": {
        "id": "sBvhmfURWWu0"
      }
    },
    {
      "cell_type": "code",
      "source": [
        "class DanceRndImgSet(Dataset):\n",
        "    def __init__(self, df, is_train = False):\n",
        "        self.df = df\n",
        "        self.video_path = os.path.abspath(\"../Colab Notebooks/videos\")\n",
        "        self.is_train = is_train\n",
        "        if is_train:\n",
        "            self.aug =  A.Compose([\n",
        "                A.Resize(height=224, width=224, always_apply=True),\n",
        "                A.Rotate([-30,30], p=1),\n",
        "                A.CoarseDropout(max_height=int(224 * 0.17), max_width=int(224 * 0.17),\n",
        "                                 min_holes=4, max_holes=9, p=0.7),\n",
        "                A.GaussianBlur(blur_limit=(3, 7), p=0.05),\n",
        "                A.RandomSnow(p=0.05),\n",
        "                A.RandomRain(p=0.05),\n",
        "                A.Normalize(mean=[0.485, 0.456, 0.406], std=[0.229, 0.224, 0.225],),\n",
        "                ToTensorV2(),\n",
        "            ])\n",
        "        else:\n",
        "            self.aug =  A.Compose([\n",
        "                A.Resize(height=224, width=224, always_apply=True),\n",
        "                A.Normalize(mean=[0.485, 0.456, 0.406], std=[0.229, 0.224, 0.225],),\n",
        "                ToTensorV2(),\n",
        "            ])\n",
        "\n",
        "\n",
        "    def __len__(self):\n",
        "        return len(self.df)\n",
        "\n",
        "    def __getitem__(self, idx):\n",
        "        row = self.df.loc[idx]\n",
        "        target = row['target']\n",
        "\n",
        "        video_path = os.path.join(self.video_path, row['name_video'])\n",
        "\n",
        "        video, audio, info = read_video(video_path, pts_unit=\"sec\")\n",
        "        # Беру случайный кадр\n",
        "        if len(video) > 0:\n",
        "            total_frames = video.shape[0]\n",
        "            random_frame_index = torch.randint(0, total_frames, (1,)).item()\n",
        "            random_frame = video[random_frame_index].numpy()\n",
        "            frame_with_aug = self.aug(image=random_frame)['image']\n",
        "\n",
        "        else:\n",
        "            random_frame = torch.randint(0, 256, (244, 244, 3), dtype=torch.uint8).numpy()\n",
        "            frame_with_aug = self.aug(image=random_frame)['image']\n",
        "\n",
        "        if frame_with_aug is not None:\n",
        "            print(f\"Frame shape: {frame_with_aug.shape}, Type: {frame_with_aug.dtype}\")\n",
        "\n",
        "        label = torch.tensor(target).long()\n",
        "        return frame_with_aug, label"
      ],
      "metadata": {
        "id": "HQYSktue6AOh"
      },
      "execution_count": 8,
      "outputs": []
    },
    {
      "cell_type": "code",
      "source": [
        "# Разобьем наши данные на тест и трейн. cоздадим тренеровочный и тестовый датасэт и даталоадэры\n",
        "train_df, val_df = train_test_split(df,\n",
        "                                    test_size=config.test_size,\n",
        "                                    random_state=config.seed,\n",
        "                                    stratify=df['target']\n",
        "                                   )\n",
        "dataset_train = DanceRndImgSet(train_df.reset_index(),\n",
        "                                 is_train=True)\n",
        "dataset_test = DanceRndImgSet(val_df.reset_index())\n",
        "\n",
        "train_loader = DataLoader(dataset_train,\n",
        "                          batch_size=config.batch_size,\n",
        "                          shuffle=True,\n",
        "                         )\n",
        "valid_loader = DataLoader(dataset_test,\n",
        "                          batch_size=config.batch_size,\n",
        "                         )"
      ],
      "metadata": {
        "id": "PPo-1imt6PCg"
      },
      "execution_count": 9,
      "outputs": []
    },
    {
      "cell_type": "code",
      "source": [
        "model_name = config.model_name\n",
        "model = timm.create_model(model_name, pretrained=True)\n",
        "model.classifier = nn.Sequential(\n",
        "    nn.Linear(model.classifier.in_features, config.num_classes)\n",
        ")\n",
        "model.to(config.device)"
      ],
      "metadata": {
        "colab": {
          "base_uri": "https://localhost:8080/",
          "height": 1000,
          "referenced_widgets": [
            "72cad8f7df204116b16499eae7404e73",
            "20a172e53eb9464b9ff3a63baea397ab",
            "be3506641ca44017b5e221d3db49df28",
            "33e80af995074717a11dab53a4302299",
            "a11ca6455580451fb7940847a493b8f2",
            "48083e0278874a87b1bd7615b6a00ba8",
            "c79c35d4276044c6937ee39b7616a6d3",
            "2f89b8c814714ed6993f525a427deed4",
            "c8d328dcf4c94b4d9329ab221f9669ee",
            "9a5f77713dcc4f1fbc23afbd76db7ee6",
            "9ff05bd489c545a1947c64f9c312c490"
          ]
        },
        "id": "o8nAVlcVbi75",
        "outputId": "b6b5c99c-189a-4c94-8bf0-925dddd101d0"
      },
      "execution_count": 10,
      "outputs": [
        {
          "output_type": "display_data",
          "data": {
            "text/plain": [
              "model.safetensors:   0%|          | 0.00/21.4M [00:00<?, ?B/s]"
            ],
            "application/vnd.jupyter.widget-view+json": {
              "version_major": 2,
              "version_minor": 0,
              "model_id": "72cad8f7df204116b16499eae7404e73"
            }
          },
          "metadata": {}
        },
        {
          "output_type": "execute_result",
          "data": {
            "text/plain": [
              "EfficientNet(\n",
              "  (conv_stem): Conv2dSame(3, 32, kernel_size=(3, 3), stride=(2, 2), bias=False)\n",
              "  (bn1): BatchNormAct2d(\n",
              "    32, eps=0.001, momentum=0.1, affine=True, track_running_stats=True\n",
              "    (drop): Identity()\n",
              "    (act): SiLU(inplace=True)\n",
              "  )\n",
              "  (blocks): Sequential(\n",
              "    (0): Sequential(\n",
              "      (0): DepthwiseSeparableConv(\n",
              "        (conv_dw): Conv2d(32, 32, kernel_size=(3, 3), stride=(1, 1), padding=(1, 1), groups=32, bias=False)\n",
              "        (bn1): BatchNormAct2d(\n",
              "          32, eps=0.001, momentum=0.1, affine=True, track_running_stats=True\n",
              "          (drop): Identity()\n",
              "          (act): SiLU(inplace=True)\n",
              "        )\n",
              "        (se): SqueezeExcite(\n",
              "          (conv_reduce): Conv2d(32, 8, kernel_size=(1, 1), stride=(1, 1))\n",
              "          (act1): SiLU(inplace=True)\n",
              "          (conv_expand): Conv2d(8, 32, kernel_size=(1, 1), stride=(1, 1))\n",
              "          (gate): Sigmoid()\n",
              "        )\n",
              "        (conv_pw): Conv2d(32, 16, kernel_size=(1, 1), stride=(1, 1), bias=False)\n",
              "        (bn2): BatchNormAct2d(\n",
              "          16, eps=0.001, momentum=0.1, affine=True, track_running_stats=True\n",
              "          (drop): Identity()\n",
              "          (act): Identity()\n",
              "        )\n",
              "        (drop_path): Identity()\n",
              "      )\n",
              "    )\n",
              "    (1): Sequential(\n",
              "      (0): InvertedResidual(\n",
              "        (conv_pw): Conv2d(16, 96, kernel_size=(1, 1), stride=(1, 1), bias=False)\n",
              "        (bn1): BatchNormAct2d(\n",
              "          96, eps=0.001, momentum=0.1, affine=True, track_running_stats=True\n",
              "          (drop): Identity()\n",
              "          (act): SiLU(inplace=True)\n",
              "        )\n",
              "        (conv_dw): Conv2dSame(96, 96, kernel_size=(3, 3), stride=(2, 2), groups=96, bias=False)\n",
              "        (bn2): BatchNormAct2d(\n",
              "          96, eps=0.001, momentum=0.1, affine=True, track_running_stats=True\n",
              "          (drop): Identity()\n",
              "          (act): SiLU(inplace=True)\n",
              "        )\n",
              "        (se): SqueezeExcite(\n",
              "          (conv_reduce): Conv2d(96, 4, kernel_size=(1, 1), stride=(1, 1))\n",
              "          (act1): SiLU(inplace=True)\n",
              "          (conv_expand): Conv2d(4, 96, kernel_size=(1, 1), stride=(1, 1))\n",
              "          (gate): Sigmoid()\n",
              "        )\n",
              "        (conv_pwl): Conv2d(96, 24, kernel_size=(1, 1), stride=(1, 1), bias=False)\n",
              "        (bn3): BatchNormAct2d(\n",
              "          24, eps=0.001, momentum=0.1, affine=True, track_running_stats=True\n",
              "          (drop): Identity()\n",
              "          (act): Identity()\n",
              "        )\n",
              "        (drop_path): Identity()\n",
              "      )\n",
              "      (1): InvertedResidual(\n",
              "        (conv_pw): Conv2d(24, 144, kernel_size=(1, 1), stride=(1, 1), bias=False)\n",
              "        (bn1): BatchNormAct2d(\n",
              "          144, eps=0.001, momentum=0.1, affine=True, track_running_stats=True\n",
              "          (drop): Identity()\n",
              "          (act): SiLU(inplace=True)\n",
              "        )\n",
              "        (conv_dw): Conv2d(144, 144, kernel_size=(3, 3), stride=(1, 1), padding=(1, 1), groups=144, bias=False)\n",
              "        (bn2): BatchNormAct2d(\n",
              "          144, eps=0.001, momentum=0.1, affine=True, track_running_stats=True\n",
              "          (drop): Identity()\n",
              "          (act): SiLU(inplace=True)\n",
              "        )\n",
              "        (se): SqueezeExcite(\n",
              "          (conv_reduce): Conv2d(144, 6, kernel_size=(1, 1), stride=(1, 1))\n",
              "          (act1): SiLU(inplace=True)\n",
              "          (conv_expand): Conv2d(6, 144, kernel_size=(1, 1), stride=(1, 1))\n",
              "          (gate): Sigmoid()\n",
              "        )\n",
              "        (conv_pwl): Conv2d(144, 24, kernel_size=(1, 1), stride=(1, 1), bias=False)\n",
              "        (bn3): BatchNormAct2d(\n",
              "          24, eps=0.001, momentum=0.1, affine=True, track_running_stats=True\n",
              "          (drop): Identity()\n",
              "          (act): Identity()\n",
              "        )\n",
              "        (drop_path): Identity()\n",
              "      )\n",
              "    )\n",
              "    (2): Sequential(\n",
              "      (0): InvertedResidual(\n",
              "        (conv_pw): Conv2d(24, 144, kernel_size=(1, 1), stride=(1, 1), bias=False)\n",
              "        (bn1): BatchNormAct2d(\n",
              "          144, eps=0.001, momentum=0.1, affine=True, track_running_stats=True\n",
              "          (drop): Identity()\n",
              "          (act): SiLU(inplace=True)\n",
              "        )\n",
              "        (conv_dw): Conv2dSame(144, 144, kernel_size=(5, 5), stride=(2, 2), groups=144, bias=False)\n",
              "        (bn2): BatchNormAct2d(\n",
              "          144, eps=0.001, momentum=0.1, affine=True, track_running_stats=True\n",
              "          (drop): Identity()\n",
              "          (act): SiLU(inplace=True)\n",
              "        )\n",
              "        (se): SqueezeExcite(\n",
              "          (conv_reduce): Conv2d(144, 6, kernel_size=(1, 1), stride=(1, 1))\n",
              "          (act1): SiLU(inplace=True)\n",
              "          (conv_expand): Conv2d(6, 144, kernel_size=(1, 1), stride=(1, 1))\n",
              "          (gate): Sigmoid()\n",
              "        )\n",
              "        (conv_pwl): Conv2d(144, 40, kernel_size=(1, 1), stride=(1, 1), bias=False)\n",
              "        (bn3): BatchNormAct2d(\n",
              "          40, eps=0.001, momentum=0.1, affine=True, track_running_stats=True\n",
              "          (drop): Identity()\n",
              "          (act): Identity()\n",
              "        )\n",
              "        (drop_path): Identity()\n",
              "      )\n",
              "      (1): InvertedResidual(\n",
              "        (conv_pw): Conv2d(40, 240, kernel_size=(1, 1), stride=(1, 1), bias=False)\n",
              "        (bn1): BatchNormAct2d(\n",
              "          240, eps=0.001, momentum=0.1, affine=True, track_running_stats=True\n",
              "          (drop): Identity()\n",
              "          (act): SiLU(inplace=True)\n",
              "        )\n",
              "        (conv_dw): Conv2d(240, 240, kernel_size=(5, 5), stride=(1, 1), padding=(2, 2), groups=240, bias=False)\n",
              "        (bn2): BatchNormAct2d(\n",
              "          240, eps=0.001, momentum=0.1, affine=True, track_running_stats=True\n",
              "          (drop): Identity()\n",
              "          (act): SiLU(inplace=True)\n",
              "        )\n",
              "        (se): SqueezeExcite(\n",
              "          (conv_reduce): Conv2d(240, 10, kernel_size=(1, 1), stride=(1, 1))\n",
              "          (act1): SiLU(inplace=True)\n",
              "          (conv_expand): Conv2d(10, 240, kernel_size=(1, 1), stride=(1, 1))\n",
              "          (gate): Sigmoid()\n",
              "        )\n",
              "        (conv_pwl): Conv2d(240, 40, kernel_size=(1, 1), stride=(1, 1), bias=False)\n",
              "        (bn3): BatchNormAct2d(\n",
              "          40, eps=0.001, momentum=0.1, affine=True, track_running_stats=True\n",
              "          (drop): Identity()\n",
              "          (act): Identity()\n",
              "        )\n",
              "        (drop_path): Identity()\n",
              "      )\n",
              "    )\n",
              "    (3): Sequential(\n",
              "      (0): InvertedResidual(\n",
              "        (conv_pw): Conv2d(40, 240, kernel_size=(1, 1), stride=(1, 1), bias=False)\n",
              "        (bn1): BatchNormAct2d(\n",
              "          240, eps=0.001, momentum=0.1, affine=True, track_running_stats=True\n",
              "          (drop): Identity()\n",
              "          (act): SiLU(inplace=True)\n",
              "        )\n",
              "        (conv_dw): Conv2dSame(240, 240, kernel_size=(3, 3), stride=(2, 2), groups=240, bias=False)\n",
              "        (bn2): BatchNormAct2d(\n",
              "          240, eps=0.001, momentum=0.1, affine=True, track_running_stats=True\n",
              "          (drop): Identity()\n",
              "          (act): SiLU(inplace=True)\n",
              "        )\n",
              "        (se): SqueezeExcite(\n",
              "          (conv_reduce): Conv2d(240, 10, kernel_size=(1, 1), stride=(1, 1))\n",
              "          (act1): SiLU(inplace=True)\n",
              "          (conv_expand): Conv2d(10, 240, kernel_size=(1, 1), stride=(1, 1))\n",
              "          (gate): Sigmoid()\n",
              "        )\n",
              "        (conv_pwl): Conv2d(240, 80, kernel_size=(1, 1), stride=(1, 1), bias=False)\n",
              "        (bn3): BatchNormAct2d(\n",
              "          80, eps=0.001, momentum=0.1, affine=True, track_running_stats=True\n",
              "          (drop): Identity()\n",
              "          (act): Identity()\n",
              "        )\n",
              "        (drop_path): Identity()\n",
              "      )\n",
              "      (1): InvertedResidual(\n",
              "        (conv_pw): Conv2d(80, 480, kernel_size=(1, 1), stride=(1, 1), bias=False)\n",
              "        (bn1): BatchNormAct2d(\n",
              "          480, eps=0.001, momentum=0.1, affine=True, track_running_stats=True\n",
              "          (drop): Identity()\n",
              "          (act): SiLU(inplace=True)\n",
              "        )\n",
              "        (conv_dw): Conv2d(480, 480, kernel_size=(3, 3), stride=(1, 1), padding=(1, 1), groups=480, bias=False)\n",
              "        (bn2): BatchNormAct2d(\n",
              "          480, eps=0.001, momentum=0.1, affine=True, track_running_stats=True\n",
              "          (drop): Identity()\n",
              "          (act): SiLU(inplace=True)\n",
              "        )\n",
              "        (se): SqueezeExcite(\n",
              "          (conv_reduce): Conv2d(480, 20, kernel_size=(1, 1), stride=(1, 1))\n",
              "          (act1): SiLU(inplace=True)\n",
              "          (conv_expand): Conv2d(20, 480, kernel_size=(1, 1), stride=(1, 1))\n",
              "          (gate): Sigmoid()\n",
              "        )\n",
              "        (conv_pwl): Conv2d(480, 80, kernel_size=(1, 1), stride=(1, 1), bias=False)\n",
              "        (bn3): BatchNormAct2d(\n",
              "          80, eps=0.001, momentum=0.1, affine=True, track_running_stats=True\n",
              "          (drop): Identity()\n",
              "          (act): Identity()\n",
              "        )\n",
              "        (drop_path): Identity()\n",
              "      )\n",
              "      (2): InvertedResidual(\n",
              "        (conv_pw): Conv2d(80, 480, kernel_size=(1, 1), stride=(1, 1), bias=False)\n",
              "        (bn1): BatchNormAct2d(\n",
              "          480, eps=0.001, momentum=0.1, affine=True, track_running_stats=True\n",
              "          (drop): Identity()\n",
              "          (act): SiLU(inplace=True)\n",
              "        )\n",
              "        (conv_dw): Conv2d(480, 480, kernel_size=(3, 3), stride=(1, 1), padding=(1, 1), groups=480, bias=False)\n",
              "        (bn2): BatchNormAct2d(\n",
              "          480, eps=0.001, momentum=0.1, affine=True, track_running_stats=True\n",
              "          (drop): Identity()\n",
              "          (act): SiLU(inplace=True)\n",
              "        )\n",
              "        (se): SqueezeExcite(\n",
              "          (conv_reduce): Conv2d(480, 20, kernel_size=(1, 1), stride=(1, 1))\n",
              "          (act1): SiLU(inplace=True)\n",
              "          (conv_expand): Conv2d(20, 480, kernel_size=(1, 1), stride=(1, 1))\n",
              "          (gate): Sigmoid()\n",
              "        )\n",
              "        (conv_pwl): Conv2d(480, 80, kernel_size=(1, 1), stride=(1, 1), bias=False)\n",
              "        (bn3): BatchNormAct2d(\n",
              "          80, eps=0.001, momentum=0.1, affine=True, track_running_stats=True\n",
              "          (drop): Identity()\n",
              "          (act): Identity()\n",
              "        )\n",
              "        (drop_path): Identity()\n",
              "      )\n",
              "    )\n",
              "    (4): Sequential(\n",
              "      (0): InvertedResidual(\n",
              "        (conv_pw): Conv2d(80, 480, kernel_size=(1, 1), stride=(1, 1), bias=False)\n",
              "        (bn1): BatchNormAct2d(\n",
              "          480, eps=0.001, momentum=0.1, affine=True, track_running_stats=True\n",
              "          (drop): Identity()\n",
              "          (act): SiLU(inplace=True)\n",
              "        )\n",
              "        (conv_dw): Conv2d(480, 480, kernel_size=(5, 5), stride=(1, 1), padding=(2, 2), groups=480, bias=False)\n",
              "        (bn2): BatchNormAct2d(\n",
              "          480, eps=0.001, momentum=0.1, affine=True, track_running_stats=True\n",
              "          (drop): Identity()\n",
              "          (act): SiLU(inplace=True)\n",
              "        )\n",
              "        (se): SqueezeExcite(\n",
              "          (conv_reduce): Conv2d(480, 20, kernel_size=(1, 1), stride=(1, 1))\n",
              "          (act1): SiLU(inplace=True)\n",
              "          (conv_expand): Conv2d(20, 480, kernel_size=(1, 1), stride=(1, 1))\n",
              "          (gate): Sigmoid()\n",
              "        )\n",
              "        (conv_pwl): Conv2d(480, 112, kernel_size=(1, 1), stride=(1, 1), bias=False)\n",
              "        (bn3): BatchNormAct2d(\n",
              "          112, eps=0.001, momentum=0.1, affine=True, track_running_stats=True\n",
              "          (drop): Identity()\n",
              "          (act): Identity()\n",
              "        )\n",
              "        (drop_path): Identity()\n",
              "      )\n",
              "      (1): InvertedResidual(\n",
              "        (conv_pw): Conv2d(112, 672, kernel_size=(1, 1), stride=(1, 1), bias=False)\n",
              "        (bn1): BatchNormAct2d(\n",
              "          672, eps=0.001, momentum=0.1, affine=True, track_running_stats=True\n",
              "          (drop): Identity()\n",
              "          (act): SiLU(inplace=True)\n",
              "        )\n",
              "        (conv_dw): Conv2d(672, 672, kernel_size=(5, 5), stride=(1, 1), padding=(2, 2), groups=672, bias=False)\n",
              "        (bn2): BatchNormAct2d(\n",
              "          672, eps=0.001, momentum=0.1, affine=True, track_running_stats=True\n",
              "          (drop): Identity()\n",
              "          (act): SiLU(inplace=True)\n",
              "        )\n",
              "        (se): SqueezeExcite(\n",
              "          (conv_reduce): Conv2d(672, 28, kernel_size=(1, 1), stride=(1, 1))\n",
              "          (act1): SiLU(inplace=True)\n",
              "          (conv_expand): Conv2d(28, 672, kernel_size=(1, 1), stride=(1, 1))\n",
              "          (gate): Sigmoid()\n",
              "        )\n",
              "        (conv_pwl): Conv2d(672, 112, kernel_size=(1, 1), stride=(1, 1), bias=False)\n",
              "        (bn3): BatchNormAct2d(\n",
              "          112, eps=0.001, momentum=0.1, affine=True, track_running_stats=True\n",
              "          (drop): Identity()\n",
              "          (act): Identity()\n",
              "        )\n",
              "        (drop_path): Identity()\n",
              "      )\n",
              "      (2): InvertedResidual(\n",
              "        (conv_pw): Conv2d(112, 672, kernel_size=(1, 1), stride=(1, 1), bias=False)\n",
              "        (bn1): BatchNormAct2d(\n",
              "          672, eps=0.001, momentum=0.1, affine=True, track_running_stats=True\n",
              "          (drop): Identity()\n",
              "          (act): SiLU(inplace=True)\n",
              "        )\n",
              "        (conv_dw): Conv2d(672, 672, kernel_size=(5, 5), stride=(1, 1), padding=(2, 2), groups=672, bias=False)\n",
              "        (bn2): BatchNormAct2d(\n",
              "          672, eps=0.001, momentum=0.1, affine=True, track_running_stats=True\n",
              "          (drop): Identity()\n",
              "          (act): SiLU(inplace=True)\n",
              "        )\n",
              "        (se): SqueezeExcite(\n",
              "          (conv_reduce): Conv2d(672, 28, kernel_size=(1, 1), stride=(1, 1))\n",
              "          (act1): SiLU(inplace=True)\n",
              "          (conv_expand): Conv2d(28, 672, kernel_size=(1, 1), stride=(1, 1))\n",
              "          (gate): Sigmoid()\n",
              "        )\n",
              "        (conv_pwl): Conv2d(672, 112, kernel_size=(1, 1), stride=(1, 1), bias=False)\n",
              "        (bn3): BatchNormAct2d(\n",
              "          112, eps=0.001, momentum=0.1, affine=True, track_running_stats=True\n",
              "          (drop): Identity()\n",
              "          (act): Identity()\n",
              "        )\n",
              "        (drop_path): Identity()\n",
              "      )\n",
              "    )\n",
              "    (5): Sequential(\n",
              "      (0): InvertedResidual(\n",
              "        (conv_pw): Conv2d(112, 672, kernel_size=(1, 1), stride=(1, 1), bias=False)\n",
              "        (bn1): BatchNormAct2d(\n",
              "          672, eps=0.001, momentum=0.1, affine=True, track_running_stats=True\n",
              "          (drop): Identity()\n",
              "          (act): SiLU(inplace=True)\n",
              "        )\n",
              "        (conv_dw): Conv2dSame(672, 672, kernel_size=(5, 5), stride=(2, 2), groups=672, bias=False)\n",
              "        (bn2): BatchNormAct2d(\n",
              "          672, eps=0.001, momentum=0.1, affine=True, track_running_stats=True\n",
              "          (drop): Identity()\n",
              "          (act): SiLU(inplace=True)\n",
              "        )\n",
              "        (se): SqueezeExcite(\n",
              "          (conv_reduce): Conv2d(672, 28, kernel_size=(1, 1), stride=(1, 1))\n",
              "          (act1): SiLU(inplace=True)\n",
              "          (conv_expand): Conv2d(28, 672, kernel_size=(1, 1), stride=(1, 1))\n",
              "          (gate): Sigmoid()\n",
              "        )\n",
              "        (conv_pwl): Conv2d(672, 192, kernel_size=(1, 1), stride=(1, 1), bias=False)\n",
              "        (bn3): BatchNormAct2d(\n",
              "          192, eps=0.001, momentum=0.1, affine=True, track_running_stats=True\n",
              "          (drop): Identity()\n",
              "          (act): Identity()\n",
              "        )\n",
              "        (drop_path): Identity()\n",
              "      )\n",
              "      (1): InvertedResidual(\n",
              "        (conv_pw): Conv2d(192, 1152, kernel_size=(1, 1), stride=(1, 1), bias=False)\n",
              "        (bn1): BatchNormAct2d(\n",
              "          1152, eps=0.001, momentum=0.1, affine=True, track_running_stats=True\n",
              "          (drop): Identity()\n",
              "          (act): SiLU(inplace=True)\n",
              "        )\n",
              "        (conv_dw): Conv2d(1152, 1152, kernel_size=(5, 5), stride=(1, 1), padding=(2, 2), groups=1152, bias=False)\n",
              "        (bn2): BatchNormAct2d(\n",
              "          1152, eps=0.001, momentum=0.1, affine=True, track_running_stats=True\n",
              "          (drop): Identity()\n",
              "          (act): SiLU(inplace=True)\n",
              "        )\n",
              "        (se): SqueezeExcite(\n",
              "          (conv_reduce): Conv2d(1152, 48, kernel_size=(1, 1), stride=(1, 1))\n",
              "          (act1): SiLU(inplace=True)\n",
              "          (conv_expand): Conv2d(48, 1152, kernel_size=(1, 1), stride=(1, 1))\n",
              "          (gate): Sigmoid()\n",
              "        )\n",
              "        (conv_pwl): Conv2d(1152, 192, kernel_size=(1, 1), stride=(1, 1), bias=False)\n",
              "        (bn3): BatchNormAct2d(\n",
              "          192, eps=0.001, momentum=0.1, affine=True, track_running_stats=True\n",
              "          (drop): Identity()\n",
              "          (act): Identity()\n",
              "        )\n",
              "        (drop_path): Identity()\n",
              "      )\n",
              "      (2): InvertedResidual(\n",
              "        (conv_pw): Conv2d(192, 1152, kernel_size=(1, 1), stride=(1, 1), bias=False)\n",
              "        (bn1): BatchNormAct2d(\n",
              "          1152, eps=0.001, momentum=0.1, affine=True, track_running_stats=True\n",
              "          (drop): Identity()\n",
              "          (act): SiLU(inplace=True)\n",
              "        )\n",
              "        (conv_dw): Conv2d(1152, 1152, kernel_size=(5, 5), stride=(1, 1), padding=(2, 2), groups=1152, bias=False)\n",
              "        (bn2): BatchNormAct2d(\n",
              "          1152, eps=0.001, momentum=0.1, affine=True, track_running_stats=True\n",
              "          (drop): Identity()\n",
              "          (act): SiLU(inplace=True)\n",
              "        )\n",
              "        (se): SqueezeExcite(\n",
              "          (conv_reduce): Conv2d(1152, 48, kernel_size=(1, 1), stride=(1, 1))\n",
              "          (act1): SiLU(inplace=True)\n",
              "          (conv_expand): Conv2d(48, 1152, kernel_size=(1, 1), stride=(1, 1))\n",
              "          (gate): Sigmoid()\n",
              "        )\n",
              "        (conv_pwl): Conv2d(1152, 192, kernel_size=(1, 1), stride=(1, 1), bias=False)\n",
              "        (bn3): BatchNormAct2d(\n",
              "          192, eps=0.001, momentum=0.1, affine=True, track_running_stats=True\n",
              "          (drop): Identity()\n",
              "          (act): Identity()\n",
              "        )\n",
              "        (drop_path): Identity()\n",
              "      )\n",
              "      (3): InvertedResidual(\n",
              "        (conv_pw): Conv2d(192, 1152, kernel_size=(1, 1), stride=(1, 1), bias=False)\n",
              "        (bn1): BatchNormAct2d(\n",
              "          1152, eps=0.001, momentum=0.1, affine=True, track_running_stats=True\n",
              "          (drop): Identity()\n",
              "          (act): SiLU(inplace=True)\n",
              "        )\n",
              "        (conv_dw): Conv2d(1152, 1152, kernel_size=(5, 5), stride=(1, 1), padding=(2, 2), groups=1152, bias=False)\n",
              "        (bn2): BatchNormAct2d(\n",
              "          1152, eps=0.001, momentum=0.1, affine=True, track_running_stats=True\n",
              "          (drop): Identity()\n",
              "          (act): SiLU(inplace=True)\n",
              "        )\n",
              "        (se): SqueezeExcite(\n",
              "          (conv_reduce): Conv2d(1152, 48, kernel_size=(1, 1), stride=(1, 1))\n",
              "          (act1): SiLU(inplace=True)\n",
              "          (conv_expand): Conv2d(48, 1152, kernel_size=(1, 1), stride=(1, 1))\n",
              "          (gate): Sigmoid()\n",
              "        )\n",
              "        (conv_pwl): Conv2d(1152, 192, kernel_size=(1, 1), stride=(1, 1), bias=False)\n",
              "        (bn3): BatchNormAct2d(\n",
              "          192, eps=0.001, momentum=0.1, affine=True, track_running_stats=True\n",
              "          (drop): Identity()\n",
              "          (act): Identity()\n",
              "        )\n",
              "        (drop_path): Identity()\n",
              "      )\n",
              "    )\n",
              "    (6): Sequential(\n",
              "      (0): InvertedResidual(\n",
              "        (conv_pw): Conv2d(192, 1152, kernel_size=(1, 1), stride=(1, 1), bias=False)\n",
              "        (bn1): BatchNormAct2d(\n",
              "          1152, eps=0.001, momentum=0.1, affine=True, track_running_stats=True\n",
              "          (drop): Identity()\n",
              "          (act): SiLU(inplace=True)\n",
              "        )\n",
              "        (conv_dw): Conv2d(1152, 1152, kernel_size=(3, 3), stride=(1, 1), padding=(1, 1), groups=1152, bias=False)\n",
              "        (bn2): BatchNormAct2d(\n",
              "          1152, eps=0.001, momentum=0.1, affine=True, track_running_stats=True\n",
              "          (drop): Identity()\n",
              "          (act): SiLU(inplace=True)\n",
              "        )\n",
              "        (se): SqueezeExcite(\n",
              "          (conv_reduce): Conv2d(1152, 48, kernel_size=(1, 1), stride=(1, 1))\n",
              "          (act1): SiLU(inplace=True)\n",
              "          (conv_expand): Conv2d(48, 1152, kernel_size=(1, 1), stride=(1, 1))\n",
              "          (gate): Sigmoid()\n",
              "        )\n",
              "        (conv_pwl): Conv2d(1152, 320, kernel_size=(1, 1), stride=(1, 1), bias=False)\n",
              "        (bn3): BatchNormAct2d(\n",
              "          320, eps=0.001, momentum=0.1, affine=True, track_running_stats=True\n",
              "          (drop): Identity()\n",
              "          (act): Identity()\n",
              "        )\n",
              "        (drop_path): Identity()\n",
              "      )\n",
              "    )\n",
              "  )\n",
              "  (conv_head): Conv2d(320, 1280, kernel_size=(1, 1), stride=(1, 1), bias=False)\n",
              "  (bn2): BatchNormAct2d(\n",
              "    1280, eps=0.001, momentum=0.1, affine=True, track_running_stats=True\n",
              "    (drop): Identity()\n",
              "    (act): SiLU(inplace=True)\n",
              "  )\n",
              "  (global_pool): SelectAdaptivePool2d(pool_type=avg, flatten=Flatten(start_dim=1, end_dim=-1))\n",
              "  (classifier): Linear(in_features=1280, out_features=15, bias=True)\n",
              ")"
            ]
          },
          "metadata": {},
          "execution_count": 10
        }
      ]
    },
    {
      "cell_type": "code",
      "source": [
        "loss_f = nn.CrossEntropyLoss()\n",
        "optimizer = torch.optim.AdamW(model.parameters(), lr=config.optimizer_lr)\n",
        "scheduler = lr_scheduler.StepLR(optimizer, step_size=3, gamma=0.8)"
      ],
      "metadata": {
        "id": "mkFWN6OkWpw_"
      },
      "execution_count": 11,
      "outputs": []
    },
    {
      "cell_type": "code",
      "source": [
        "import os\n",
        "os.environ['CUDA_LAUNCH_BLOCKING'] = \"1\"\n",
        "\n",
        "for epoch_i in range(1, config.epochs + 1):\n",
        "    start = time.time()\n",
        "\n",
        "    print(f'---------------------epoch:{epoch_i}/{config.epochs}---------------------')\n",
        "\n",
        "    # loss\n",
        "    avg_train_loss = 0\n",
        "    avg_val_loss = 0\n",
        "    summa = 0\n",
        "    ############## Train #############\n",
        "    model.train()\n",
        "    train_pbar = tqdm(train_loader, desc=\"Training\")\n",
        "    for X,y in (train_pbar):\n",
        "        X_batch = X.to(config.device)\n",
        "        y_batch = y.to(config.device)\n",
        "\n",
        "        optimizer.zero_grad()\n",
        "        res = model.forward(X_batch)\n",
        "\n",
        "        loss = loss_f(res, y_batch)\n",
        "\n",
        "        if torch.cuda.is_available():\n",
        "            train_pbar.set_postfix(gpu_load=f\"{torch.cuda.memory_allocated() / 1024 ** 3:.2f}GB\",\n",
        "                                   loss=f\"{loss.item():.4f}\")\n",
        "        else:\n",
        "            train_pbar.set_postfix(loss=f\"{loss.item():.4f}\")\n",
        "\n",
        "        loss.backward()\n",
        "        optimizer.step()\n",
        "        avg_train_loss += loss * len(y_batch)\n",
        "\n",
        "        del X, res\n",
        "\n",
        "\n",
        "\n",
        "    ########## VALIDATION ###############\n",
        "    model.eval()\n",
        "    valid_pbar = tqdm(valid_loader, desc=\"Testing\")\n",
        "    with torch.no_grad():\n",
        "        for X,y in (valid_pbar):\n",
        "            X_batch = X.to(config.device)\n",
        "            y_batch = y.to(config.device)\n",
        "\n",
        "            res = model.forward(X_batch)\n",
        "\n",
        "            loss = loss_f(res, y_batch)\n",
        "            avg_val_loss += loss * len(y_batch)\n",
        "            valid_pbar.set_postfix(loss=f\"{loss.item():.4f}\")\n",
        "\n",
        "            res = res.detach().cpu()\n",
        "            y_batch = y_batch.cpu()\n",
        "\n",
        "            preds = torch.max(F.softmax(res, dim=1), dim=1)\n",
        "            correct= torch.eq(preds[1], y_batch)\n",
        "            summa += torch.sum(correct).item()\n",
        "\n",
        "            del X, res\n",
        "\n",
        "\n",
        "    torch.cuda.empty_cache()\n",
        "\n",
        "    avg_train_loss = avg_train_loss / len(dataset_train)\n",
        "    avg_val_loss = avg_val_loss / len(dataset_test)\n",
        "\n",
        "    acc = summa / len(dataset_test)\n",
        "\n",
        "    print(f'epoch: {epoch_i}, lr_rate {optimizer.param_groups[0][\"lr\"]}')\n",
        "\n",
        "    print(\"loss_train: %0.4f| loss_valid: %0.4f|\" % (avg_train_loss, avg_val_loss))\n",
        "    print(f\"metric {acc:.<5g}\")\n",
        "\n",
        "    elapsed_time = time.time() - start\n",
        "    hours = int(elapsed_time // 3600)\n",
        "    minutes = int((elapsed_time % 3600) // 60)\n",
        "    seconds = int(elapsed_time % 60)\n",
        "    print(f\"Elapsed time: {hours:02d}:{minutes:02d}:{seconds:02d}\")\n",
        "    scheduler.step()\n",
        "    torch.save(model, f\"model_ep_{epoch_i}.pt\")"
      ],
      "metadata": {
        "id": "Z9nKj4U3Wuo0",
        "colab": {
          "base_uri": "https://localhost:8080/"
        },
        "outputId": "1894f4e0-34a8-4829-eeb7-7c2a682f4c17"
      },
      "execution_count": 12,
      "outputs": [
        {
          "output_type": "stream",
          "name": "stdout",
          "text": [
            "---------------------epoch:1/10---------------------\n"
          ]
        },
        {
          "output_type": "stream",
          "name": "stderr",
          "text": [
            "\rTraining:   0%|          | 0/20 [00:00<?, ?it/s]"
          ]
        },
        {
          "output_type": "stream",
          "name": "stdout",
          "text": [
            "Frame shape: torch.Size([3, 224, 224]), Type: torch.float32\n",
            "Frame shape: torch.Size([3, 224, 224]), Type: torch.float32\n",
            "Frame shape: torch.Size([3, 224, 224]), Type: torch.float32\n",
            "Frame shape: torch.Size([3, 224, 224]), Type: torch.float32\n",
            "Frame shape: torch.Size([3, 224, 224]), Type: torch.float32\n",
            "Frame shape: torch.Size([3, 224, 224]), Type: torch.float32\n",
            "Frame shape: torch.Size([3, 224, 224]), Type: torch.float32\n",
            "Frame shape: torch.Size([3, 224, 224]), Type: torch.float32\n",
            "Frame shape: torch.Size([3, 224, 224]), Type: torch.float32\n",
            "Frame shape: torch.Size([3, 224, 224]), Type: torch.float32\n",
            "Frame shape: torch.Size([3, 224, 224]), Type: torch.float32\n",
            "Frame shape: torch.Size([3, 224, 224]), Type: torch.float32\n",
            "Frame shape: torch.Size([3, 224, 224]), Type: torch.float32\n",
            "Frame shape: torch.Size([3, 224, 224]), Type: torch.float32\n",
            "Frame shape: torch.Size([3, 224, 224]), Type: torch.float32\n",
            "Frame shape: torch.Size([3, 224, 224]), Type: torch.float32\n",
            "Frame shape: torch.Size([3, 224, 224]), Type: torch.float32\n",
            "Frame shape: torch.Size([3, 224, 224]), Type: torch.float32\n",
            "Frame shape: torch.Size([3, 224, 224]), Type: torch.float32\n",
            "Frame shape: torch.Size([3, 224, 224]), Type: torch.float32\n",
            "Frame shape: torch.Size([3, 224, 224]), Type: torch.float32\n",
            "Frame shape: torch.Size([3, 224, 224]), Type: torch.float32\n",
            "Frame shape: torch.Size([3, 224, 224]), Type: torch.float32\n",
            "Frame shape: torch.Size([3, 224, 224]), Type: torch.float32\n"
          ]
        },
        {
          "output_type": "stream",
          "name": "stderr",
          "text": [
            "Training:   5%|▌         | 1/20 [00:34<10:53, 34.39s/it, gpu_load=2.03GB, loss=2.7286]"
          ]
        },
        {
          "output_type": "stream",
          "name": "stdout",
          "text": [
            "Frame shape: torch.Size([3, 224, 224]), Type: torch.float32\n",
            "Frame shape: torch.Size([3, 224, 224]), Type: torch.float32\n",
            "Frame shape: torch.Size([3, 224, 224]), Type: torch.float32\n",
            "Frame shape: torch.Size([3, 224, 224]), Type: torch.float32\n",
            "Frame shape: torch.Size([3, 224, 224]), Type: torch.float32\n",
            "Frame shape: torch.Size([3, 224, 224]), Type: torch.float32\n",
            "Frame shape: torch.Size([3, 224, 224]), Type: torch.float32\n",
            "Frame shape: torch.Size([3, 224, 224]), Type: torch.float32\n",
            "Frame shape: torch.Size([3, 224, 224]), Type: torch.float32\n",
            "Frame shape: torch.Size([3, 224, 224]), Type: torch.float32\n",
            "Frame shape: torch.Size([3, 224, 224]), Type: torch.float32\n",
            "Frame shape: torch.Size([3, 224, 224]), Type: torch.float32\n",
            "Frame shape: torch.Size([3, 224, 224]), Type: torch.float32\n",
            "Frame shape: torch.Size([3, 224, 224]), Type: torch.float32\n",
            "Frame shape: torch.Size([3, 224, 224]), Type: torch.float32\n",
            "Frame shape: torch.Size([3, 224, 224]), Type: torch.float32\n",
            "Frame shape: torch.Size([3, 224, 224]), Type: torch.float32\n",
            "Frame shape: torch.Size([3, 224, 224]), Type: torch.float32\n",
            "Frame shape: torch.Size([3, 224, 224]), Type: torch.float32\n",
            "Frame shape: torch.Size([3, 224, 224]), Type: torch.float32\n",
            "Frame shape: torch.Size([3, 224, 224]), Type: torch.float32\n",
            "Frame shape: torch.Size([3, 224, 224]), Type: torch.float32\n",
            "Frame shape: torch.Size([3, 224, 224]), Type: torch.float32\n"
          ]
        },
        {
          "output_type": "stream",
          "name": "stderr",
          "text": [
            "Training:  10%|█         | 2/20 [01:02<09:14, 30.82s/it, gpu_load=2.08GB, loss=2.7215]"
          ]
        },
        {
          "output_type": "stream",
          "name": "stdout",
          "text": [
            "Frame shape: torch.Size([3, 224, 224]), Type: torch.float32\n",
            "Frame shape: torch.Size([3, 224, 224]), Type: torch.float32\n",
            "Frame shape: torch.Size([3, 224, 224]), Type: torch.float32\n",
            "Frame shape: torch.Size([3, 224, 224]), Type: torch.float32\n",
            "Frame shape: torch.Size([3, 224, 224]), Type: torch.float32\n",
            "Frame shape: torch.Size([3, 224, 224]), Type: torch.float32\n",
            "Frame shape: torch.Size([3, 224, 224]), Type: torch.float32\n",
            "Frame shape: torch.Size([3, 224, 224]), Type: torch.float32\n",
            "Frame shape: torch.Size([3, 224, 224]), Type: torch.float32\n",
            "Frame shape: torch.Size([3, 224, 224]), Type: torch.float32\n",
            "Frame shape: torch.Size([3, 224, 224]), Type: torch.float32\n",
            "Frame shape: torch.Size([3, 224, 224]), Type: torch.float32\n",
            "Frame shape: torch.Size([3, 224, 224]), Type: torch.float32\n",
            "Frame shape: torch.Size([3, 224, 224]), Type: torch.float32\n",
            "Frame shape: torch.Size([3, 224, 224]), Type: torch.float32\n",
            "Frame shape: torch.Size([3, 224, 224]), Type: torch.float32\n",
            "Frame shape: torch.Size([3, 224, 224]), Type: torch.float32\n",
            "Frame shape: torch.Size([3, 224, 224]), Type: torch.float32\n",
            "Frame shape: torch.Size([3, 224, 224]), Type: torch.float32\n",
            "Frame shape: torch.Size([3, 224, 224]), Type: torch.float32\n",
            "Frame shape: torch.Size([3, 224, 224]), Type: torch.float32\n",
            "Frame shape: torch.Size([3, 224, 224]), Type: torch.float32\n",
            "Frame shape: torch.Size([3, 224, 224]), Type: torch.float32\n",
            "Frame shape: torch.Size([3, 224, 224]), Type: torch.float32\n"
          ]
        },
        {
          "output_type": "stream",
          "name": "stderr",
          "text": [
            "Training:  15%|█▌        | 3/20 [01:30<08:19, 29.41s/it, gpu_load=2.08GB, loss=2.6600]"
          ]
        },
        {
          "output_type": "stream",
          "name": "stdout",
          "text": [
            "Frame shape: torch.Size([3, 224, 224]), Type: torch.float32\n",
            "Frame shape: torch.Size([3, 224, 224]), Type: torch.float32\n",
            "Frame shape: torch.Size([3, 224, 224]), Type: torch.float32\n",
            "Frame shape: torch.Size([3, 224, 224]), Type: torch.float32\n",
            "Frame shape: torch.Size([3, 224, 224]), Type: torch.float32\n",
            "Frame shape: torch.Size([3, 224, 224]), Type: torch.float32\n",
            "Frame shape: torch.Size([3, 224, 224]), Type: torch.float32\n",
            "Frame shape: torch.Size([3, 224, 224]), Type: torch.float32\n",
            "Frame shape: torch.Size([3, 224, 224]), Type: torch.float32\n",
            "Frame shape: torch.Size([3, 224, 224]), Type: torch.float32\n",
            "Frame shape: torch.Size([3, 224, 224]), Type: torch.float32\n",
            "Frame shape: torch.Size([3, 224, 224]), Type: torch.float32\n",
            "Frame shape: torch.Size([3, 224, 224]), Type: torch.float32\n",
            "Frame shape: torch.Size([3, 224, 224]), Type: torch.float32\n",
            "Frame shape: torch.Size([3, 224, 224]), Type: torch.float32\n",
            "Frame shape: torch.Size([3, 224, 224]), Type: torch.float32\n",
            "Frame shape: torch.Size([3, 224, 224]), Type: torch.float32\n",
            "Frame shape: torch.Size([3, 224, 224]), Type: torch.float32\n",
            "Frame shape: torch.Size([3, 224, 224]), Type: torch.float32\n",
            "Frame shape: torch.Size([3, 224, 224]), Type: torch.float32\n",
            "Frame shape: torch.Size([3, 224, 224]), Type: torch.float32\n",
            "Frame shape: torch.Size([3, 224, 224]), Type: torch.float32\n",
            "Frame shape: torch.Size([3, 224, 224]), Type: torch.float32\n",
            "Frame shape: torch.Size([3, 224, 224]), Type: torch.float32\n"
          ]
        },
        {
          "output_type": "stream",
          "name": "stderr",
          "text": [
            "Training:  20%|██        | 4/20 [02:01<08:02, 30.14s/it, gpu_load=2.07GB, loss=2.7607]"
          ]
        },
        {
          "output_type": "stream",
          "name": "stdout",
          "text": [
            "Frame shape: torch.Size([3, 224, 224]), Type: torch.float32\n",
            "Frame shape: torch.Size([3, 224, 224]), Type: torch.float32\n",
            "Frame shape: torch.Size([3, 224, 224]), Type: torch.float32\n",
            "Frame shape: torch.Size([3, 224, 224]), Type: torch.float32\n",
            "Frame shape: torch.Size([3, 224, 224]), Type: torch.float32\n",
            "Frame shape: torch.Size([3, 224, 224]), Type: torch.float32\n",
            "Frame shape: torch.Size([3, 224, 224]), Type: torch.float32\n",
            "Frame shape: torch.Size([3, 224, 224]), Type: torch.float32\n",
            "Frame shape: torch.Size([3, 224, 224]), Type: torch.float32\n",
            "Frame shape: torch.Size([3, 224, 224]), Type: torch.float32\n",
            "Frame shape: torch.Size([3, 224, 224]), Type: torch.float32\n",
            "Frame shape: torch.Size([3, 224, 224]), Type: torch.float32\n",
            "Frame shape: torch.Size([3, 224, 224]), Type: torch.float32\n",
            "Frame shape: torch.Size([3, 224, 224]), Type: torch.float32\n",
            "Frame shape: torch.Size([3, 224, 224]), Type: torch.float32\n",
            "Frame shape: torch.Size([3, 224, 224]), Type: torch.float32\n",
            "Frame shape: torch.Size([3, 224, 224]), Type: torch.float32\n",
            "Frame shape: torch.Size([3, 224, 224]), Type: torch.float32\n",
            "Frame shape: torch.Size([3, 224, 224]), Type: torch.float32\n",
            "Frame shape: torch.Size([3, 224, 224]), Type: torch.float32\n",
            "Frame shape: torch.Size([3, 224, 224]), Type: torch.float32\n",
            "Frame shape: torch.Size([3, 224, 224]), Type: torch.float32\n",
            "Frame shape: torch.Size([3, 224, 224]), Type: torch.float32\n",
            "Frame shape: torch.Size([3, 224, 224]), Type: torch.float32\n"
          ]
        },
        {
          "output_type": "stream",
          "name": "stderr",
          "text": [
            "Training:  25%|██▌       | 5/20 [02:28<07:13, 28.87s/it, gpu_load=2.08GB, loss=2.5949]"
          ]
        },
        {
          "output_type": "stream",
          "name": "stdout",
          "text": [
            "Frame shape: torch.Size([3, 224, 224]), Type: torch.float32\n",
            "Frame shape: torch.Size([3, 224, 224]), Type: torch.float32\n",
            "Frame shape: torch.Size([3, 224, 224]), Type: torch.float32\n",
            "Frame shape: torch.Size([3, 224, 224]), Type: torch.float32\n",
            "Frame shape: torch.Size([3, 224, 224]), Type: torch.float32\n",
            "Frame shape: torch.Size([3, 224, 224]), Type: torch.float32\n",
            "Frame shape: torch.Size([3, 224, 224]), Type: torch.float32\n",
            "Frame shape: torch.Size([3, 224, 224]), Type: torch.float32\n",
            "Frame shape: torch.Size([3, 224, 224]), Type: torch.float32\n",
            "Frame shape: torch.Size([3, 224, 224]), Type: torch.float32\n",
            "Frame shape: torch.Size([3, 224, 224]), Type: torch.float32\n",
            "Frame shape: torch.Size([3, 224, 224]), Type: torch.float32\n",
            "Frame shape: torch.Size([3, 224, 224]), Type: torch.float32\n",
            "Frame shape: torch.Size([3, 224, 224]), Type: torch.float32\n",
            "Frame shape: torch.Size([3, 224, 224]), Type: torch.float32\n",
            "Frame shape: torch.Size([3, 224, 224]), Type: torch.float32\n",
            "Frame shape: torch.Size([3, 224, 224]), Type: torch.float32\n",
            "Frame shape: torch.Size([3, 224, 224]), Type: torch.float32\n",
            "Frame shape: torch.Size([3, 224, 224]), Type: torch.float32\n",
            "Frame shape: torch.Size([3, 224, 224]), Type: torch.float32\n",
            "Frame shape: torch.Size([3, 224, 224]), Type: torch.float32\n",
            "Frame shape: torch.Size([3, 224, 224]), Type: torch.float32\n",
            "Frame shape: torch.Size([3, 224, 224]), Type: torch.float32\n",
            "Frame shape: torch.Size([3, 224, 224]), Type: torch.float32\n"
          ]
        },
        {
          "output_type": "stream",
          "name": "stderr",
          "text": [
            "Training:  30%|███       | 6/20 [03:00<06:58, 29.86s/it, gpu_load=2.08GB, loss=2.6686]"
          ]
        },
        {
          "output_type": "stream",
          "name": "stdout",
          "text": [
            "Frame shape: torch.Size([3, 224, 224]), Type: torch.float32\n",
            "Frame shape: torch.Size([3, 224, 224]), Type: torch.float32\n",
            "Frame shape: torch.Size([3, 224, 224]), Type: torch.float32\n",
            "Frame shape: torch.Size([3, 224, 224]), Type: torch.float32\n",
            "Frame shape: torch.Size([3, 224, 224]), Type: torch.float32\n",
            "Frame shape: torch.Size([3, 224, 224]), Type: torch.float32\n",
            "Frame shape: torch.Size([3, 224, 224]), Type: torch.float32\n",
            "Frame shape: torch.Size([3, 224, 224]), Type: torch.float32\n",
            "Frame shape: torch.Size([3, 224, 224]), Type: torch.float32\n",
            "Frame shape: torch.Size([3, 224, 224]), Type: torch.float32\n",
            "Frame shape: torch.Size([3, 224, 224]), Type: torch.float32\n",
            "Frame shape: torch.Size([3, 224, 224]), Type: torch.float32\n",
            "Frame shape: torch.Size([3, 224, 224]), Type: torch.float32\n",
            "Frame shape: torch.Size([3, 224, 224]), Type: torch.float32\n",
            "Frame shape: torch.Size([3, 224, 224]), Type: torch.float32\n",
            "Frame shape: torch.Size([3, 224, 224]), Type: torch.float32\n",
            "Frame shape: torch.Size([3, 224, 224]), Type: torch.float32\n",
            "Frame shape: torch.Size([3, 224, 224]), Type: torch.float32\n",
            "Frame shape: torch.Size([3, 224, 224]), Type: torch.float32\n",
            "Frame shape: torch.Size([3, 224, 224]), Type: torch.float32\n",
            "Frame shape: torch.Size([3, 224, 224]), Type: torch.float32\n",
            "Frame shape: torch.Size([3, 224, 224]), Type: torch.float32\n",
            "Frame shape: torch.Size([3, 224, 224]), Type: torch.float32\n",
            "Frame shape: torch.Size([3, 224, 224]), Type: torch.float32\n"
          ]
        },
        {
          "output_type": "stream",
          "name": "stderr",
          "text": [
            "Training:  35%|███▌      | 7/20 [03:27<06:19, 29.17s/it, gpu_load=2.07GB, loss=2.6745]"
          ]
        },
        {
          "output_type": "stream",
          "name": "stdout",
          "text": [
            "Frame shape: torch.Size([3, 224, 224]), Type: torch.float32\n",
            "Frame shape: torch.Size([3, 224, 224]), Type: torch.float32\n",
            "Frame shape: torch.Size([3, 224, 224]), Type: torch.float32\n",
            "Frame shape: torch.Size([3, 224, 224]), Type: torch.float32\n",
            "Frame shape: torch.Size([3, 224, 224]), Type: torch.float32\n",
            "Frame shape: torch.Size([3, 224, 224]), Type: torch.float32\n",
            "Frame shape: torch.Size([3, 224, 224]), Type: torch.float32\n",
            "Frame shape: torch.Size([3, 224, 224]), Type: torch.float32\n",
            "Frame shape: torch.Size([3, 224, 224]), Type: torch.float32\n",
            "Frame shape: torch.Size([3, 224, 224]), Type: torch.float32\n",
            "Frame shape: torch.Size([3, 224, 224]), Type: torch.float32\n",
            "Frame shape: torch.Size([3, 224, 224]), Type: torch.float32\n",
            "Frame shape: torch.Size([3, 224, 224]), Type: torch.float32\n",
            "Frame shape: torch.Size([3, 224, 224]), Type: torch.float32\n",
            "Frame shape: torch.Size([3, 224, 224]), Type: torch.float32\n",
            "Frame shape: torch.Size([3, 224, 224]), Type: torch.float32\n",
            "Frame shape: torch.Size([3, 224, 224]), Type: torch.float32\n",
            "Frame shape: torch.Size([3, 224, 224]), Type: torch.float32\n",
            "Frame shape: torch.Size([3, 224, 224]), Type: torch.float32\n",
            "Frame shape: torch.Size([3, 224, 224]), Type: torch.float32\n",
            "Frame shape: torch.Size([3, 224, 224]), Type: torch.float32\n",
            "Frame shape: torch.Size([3, 224, 224]), Type: torch.float32\n",
            "Frame shape: torch.Size([3, 224, 224]), Type: torch.float32\n",
            "Frame shape: torch.Size([3, 224, 224]), Type: torch.float32\n"
          ]
        },
        {
          "output_type": "stream",
          "name": "stderr",
          "text": [
            "Training:  40%|████      | 8/20 [03:59<05:58, 29.87s/it, gpu_load=2.08GB, loss=2.7720]"
          ]
        },
        {
          "output_type": "stream",
          "name": "stdout",
          "text": [
            "Frame shape: torch.Size([3, 224, 224]), Type: torch.float32\n",
            "Frame shape: torch.Size([3, 224, 224]), Type: torch.float32\n",
            "Frame shape: torch.Size([3, 224, 224]), Type: torch.float32\n",
            "Frame shape: torch.Size([3, 224, 224]), Type: torch.float32\n",
            "Frame shape: torch.Size([3, 224, 224]), Type: torch.float32\n",
            "Frame shape: torch.Size([3, 224, 224]), Type: torch.float32\n",
            "Frame shape: torch.Size([3, 224, 224]), Type: torch.float32\n",
            "Frame shape: torch.Size([3, 224, 224]), Type: torch.float32\n",
            "Frame shape: torch.Size([3, 224, 224]), Type: torch.float32\n",
            "Frame shape: torch.Size([3, 224, 224]), Type: torch.float32\n",
            "Frame shape: torch.Size([3, 224, 224]), Type: torch.float32\n",
            "Frame shape: torch.Size([3, 224, 224]), Type: torch.float32\n",
            "Frame shape: torch.Size([3, 224, 224]), Type: torch.float32\n",
            "Frame shape: torch.Size([3, 224, 224]), Type: torch.float32\n",
            "Frame shape: torch.Size([3, 224, 224]), Type: torch.float32\n",
            "Frame shape: torch.Size([3, 224, 224]), Type: torch.float32\n",
            "Frame shape: torch.Size([3, 224, 224]), Type: torch.float32\n",
            "Frame shape: torch.Size([3, 224, 224]), Type: torch.float32\n",
            "Frame shape: torch.Size([3, 224, 224]), Type: torch.float32\n",
            "Frame shape: torch.Size([3, 224, 224]), Type: torch.float32\n",
            "Frame shape: torch.Size([3, 224, 224]), Type: torch.float32\n",
            "Frame shape: torch.Size([3, 224, 224]), Type: torch.float32\n",
            "Frame shape: torch.Size([3, 224, 224]), Type: torch.float32\n",
            "Frame shape: torch.Size([3, 224, 224]), Type: torch.float32\n"
          ]
        },
        {
          "output_type": "stream",
          "name": "stderr",
          "text": [
            "Training:  45%|████▌     | 9/20 [04:28<05:27, 29.74s/it, gpu_load=2.08GB, loss=2.6899]"
          ]
        },
        {
          "output_type": "stream",
          "name": "stdout",
          "text": [
            "Frame shape: torch.Size([3, 224, 224]), Type: torch.float32\n",
            "Frame shape: torch.Size([3, 224, 224]), Type: torch.float32\n",
            "Frame shape: torch.Size([3, 224, 224]), Type: torch.float32\n",
            "Frame shape: torch.Size([3, 224, 224]), Type: torch.float32\n",
            "Frame shape: torch.Size([3, 224, 224]), Type: torch.float32\n",
            "Frame shape: torch.Size([3, 224, 224]), Type: torch.float32\n",
            "Frame shape: torch.Size([3, 224, 224]), Type: torch.float32\n",
            "Frame shape: torch.Size([3, 224, 224]), Type: torch.float32\n",
            "Frame shape: torch.Size([3, 224, 224]), Type: torch.float32\n",
            "Frame shape: torch.Size([3, 224, 224]), Type: torch.float32\n",
            "Frame shape: torch.Size([3, 224, 224]), Type: torch.float32\n",
            "Frame shape: torch.Size([3, 224, 224]), Type: torch.float32\n",
            "Frame shape: torch.Size([3, 224, 224]), Type: torch.float32\n",
            "Frame shape: torch.Size([3, 224, 224]), Type: torch.float32\n",
            "Frame shape: torch.Size([3, 224, 224]), Type: torch.float32\n",
            "Frame shape: torch.Size([3, 224, 224]), Type: torch.float32\n",
            "Frame shape: torch.Size([3, 224, 224]), Type: torch.float32\n",
            "Frame shape: torch.Size([3, 224, 224]), Type: torch.float32\n",
            "Frame shape: torch.Size([3, 224, 224]), Type: torch.float32\n",
            "Frame shape: torch.Size([3, 224, 224]), Type: torch.float32\n",
            "Frame shape: torch.Size([3, 224, 224]), Type: torch.float32\n",
            "Frame shape: torch.Size([3, 224, 224]), Type: torch.float32\n",
            "Frame shape: torch.Size([3, 224, 224]), Type: torch.float32\n",
            "Frame shape: torch.Size([3, 224, 224]), Type: torch.float32\n"
          ]
        },
        {
          "output_type": "stream",
          "name": "stderr",
          "text": [
            "Training:  50%|█████     | 10/20 [05:04<05:17, 31.77s/it, gpu_load=2.07GB, loss=2.7630]"
          ]
        },
        {
          "output_type": "stream",
          "name": "stdout",
          "text": [
            "Frame shape: torch.Size([3, 224, 224]), Type: torch.float32\n",
            "Frame shape: torch.Size([3, 224, 224]), Type: torch.float32\n",
            "Frame shape: torch.Size([3, 224, 224]), Type: torch.float32\n",
            "Frame shape: torch.Size([3, 224, 224]), Type: torch.float32\n",
            "Frame shape: torch.Size([3, 224, 224]), Type: torch.float32\n",
            "Frame shape: torch.Size([3, 224, 224]), Type: torch.float32\n",
            "Frame shape: torch.Size([3, 224, 224]), Type: torch.float32\n",
            "Frame shape: torch.Size([3, 224, 224]), Type: torch.float32\n",
            "Frame shape: torch.Size([3, 224, 224]), Type: torch.float32\n",
            "Frame shape: torch.Size([3, 224, 224]), Type: torch.float32\n",
            "Frame shape: torch.Size([3, 224, 224]), Type: torch.float32\n",
            "Frame shape: torch.Size([3, 224, 224]), Type: torch.float32\n",
            "Frame shape: torch.Size([3, 224, 224]), Type: torch.float32\n",
            "Frame shape: torch.Size([3, 224, 224]), Type: torch.float32\n",
            "Frame shape: torch.Size([3, 224, 224]), Type: torch.float32\n",
            "Frame shape: torch.Size([3, 224, 224]), Type: torch.float32\n",
            "Frame shape: torch.Size([3, 224, 224]), Type: torch.float32\n",
            "Frame shape: torch.Size([3, 224, 224]), Type: torch.float32\n",
            "Frame shape: torch.Size([3, 224, 224]), Type: torch.float32\n",
            "Frame shape: torch.Size([3, 224, 224]), Type: torch.float32\n",
            "Frame shape: torch.Size([3, 224, 224]), Type: torch.float32\n",
            "Frame shape: torch.Size([3, 224, 224]), Type: torch.float32\n",
            "Frame shape: torch.Size([3, 224, 224]), Type: torch.float32\n",
            "Frame shape: torch.Size([3, 224, 224]), Type: torch.float32\n"
          ]
        },
        {
          "output_type": "stream",
          "name": "stderr",
          "text": [
            "Training:  55%|█████▌    | 11/20 [05:35<04:42, 31.34s/it, gpu_load=2.08GB, loss=2.6048]"
          ]
        },
        {
          "output_type": "stream",
          "name": "stdout",
          "text": [
            "Frame shape: torch.Size([3, 224, 224]), Type: torch.float32\n",
            "Frame shape: torch.Size([3, 224, 224]), Type: torch.float32\n",
            "Frame shape: torch.Size([3, 224, 224]), Type: torch.float32\n",
            "Frame shape: torch.Size([3, 224, 224]), Type: torch.float32\n",
            "Frame shape: torch.Size([3, 224, 224]), Type: torch.float32\n",
            "Frame shape: torch.Size([3, 224, 224]), Type: torch.float32\n",
            "Frame shape: torch.Size([3, 224, 224]), Type: torch.float32\n",
            "Frame shape: torch.Size([3, 224, 224]), Type: torch.float32\n",
            "Frame shape: torch.Size([3, 224, 224]), Type: torch.float32\n",
            "Frame shape: torch.Size([3, 224, 224]), Type: torch.float32\n",
            "Frame shape: torch.Size([3, 224, 224]), Type: torch.float32\n",
            "Frame shape: torch.Size([3, 224, 224]), Type: torch.float32\n",
            "Frame shape: torch.Size([3, 224, 224]), Type: torch.float32\n",
            "Frame shape: torch.Size([3, 224, 224]), Type: torch.float32\n",
            "Frame shape: torch.Size([3, 224, 224]), Type: torch.float32\n",
            "Frame shape: torch.Size([3, 224, 224]), Type: torch.float32\n",
            "Frame shape: torch.Size([3, 224, 224]), Type: torch.float32\n",
            "Frame shape: torch.Size([3, 224, 224]), Type: torch.float32\n",
            "Frame shape: torch.Size([3, 224, 224]), Type: torch.float32\n",
            "Frame shape: torch.Size([3, 224, 224]), Type: torch.float32\n",
            "Frame shape: torch.Size([3, 224, 224]), Type: torch.float32\n",
            "Frame shape: torch.Size([3, 224, 224]), Type: torch.float32\n",
            "Frame shape: torch.Size([3, 224, 224]), Type: torch.float32\n",
            "Frame shape: torch.Size([3, 224, 224]), Type: torch.float32\n"
          ]
        },
        {
          "output_type": "stream",
          "name": "stderr",
          "text": [
            "Training:  60%|██████    | 12/20 [06:07<04:12, 31.54s/it, gpu_load=2.08GB, loss=2.5702]"
          ]
        },
        {
          "output_type": "stream",
          "name": "stdout",
          "text": [
            "Frame shape: torch.Size([3, 224, 224]), Type: torch.float32\n",
            "Frame shape: torch.Size([3, 224, 224]), Type: torch.float32\n",
            "Frame shape: torch.Size([3, 224, 224]), Type: torch.float32\n",
            "Frame shape: torch.Size([3, 224, 224]), Type: torch.float32\n",
            "Frame shape: torch.Size([3, 224, 224]), Type: torch.float32\n",
            "Frame shape: torch.Size([3, 224, 224]), Type: torch.float32\n",
            "Frame shape: torch.Size([3, 224, 224]), Type: torch.float32\n",
            "Frame shape: torch.Size([3, 224, 224]), Type: torch.float32\n",
            "Frame shape: torch.Size([3, 224, 224]), Type: torch.float32\n",
            "Frame shape: torch.Size([3, 224, 224]), Type: torch.float32\n",
            "Frame shape: torch.Size([3, 224, 224]), Type: torch.float32\n",
            "Frame shape: torch.Size([3, 224, 224]), Type: torch.float32\n",
            "Frame shape: torch.Size([3, 224, 224]), Type: torch.float32\n",
            "Frame shape: torch.Size([3, 224, 224]), Type: torch.float32\n",
            "Frame shape: torch.Size([3, 224, 224]), Type: torch.float32\n",
            "Frame shape: torch.Size([3, 224, 224]), Type: torch.float32\n",
            "Frame shape: torch.Size([3, 224, 224]), Type: torch.float32\n",
            "Frame shape: torch.Size([3, 224, 224]), Type: torch.float32\n",
            "Frame shape: torch.Size([3, 224, 224]), Type: torch.float32\n",
            "Frame shape: torch.Size([3, 224, 224]), Type: torch.float32\n",
            "Frame shape: torch.Size([3, 224, 224]), Type: torch.float32\n",
            "Frame shape: torch.Size([3, 224, 224]), Type: torch.float32\n",
            "Frame shape: torch.Size([3, 224, 224]), Type: torch.float32\n",
            "Frame shape: torch.Size([3, 224, 224]), Type: torch.float32\n"
          ]
        },
        {
          "output_type": "stream",
          "name": "stderr",
          "text": [
            "Training:  65%|██████▌   | 13/20 [06:36<03:35, 30.75s/it, gpu_load=2.08GB, loss=2.6443]"
          ]
        },
        {
          "output_type": "stream",
          "name": "stdout",
          "text": [
            "Frame shape: torch.Size([3, 224, 224]), Type: torch.float32\n",
            "Frame shape: torch.Size([3, 224, 224]), Type: torch.float32\n",
            "Frame shape: torch.Size([3, 224, 224]), Type: torch.float32\n",
            "Frame shape: torch.Size([3, 224, 224]), Type: torch.float32\n",
            "Frame shape: torch.Size([3, 224, 224]), Type: torch.float32\n",
            "Frame shape: torch.Size([3, 224, 224]), Type: torch.float32\n",
            "Frame shape: torch.Size([3, 224, 224]), Type: torch.float32\n",
            "Frame shape: torch.Size([3, 224, 224]), Type: torch.float32\n",
            "Frame shape: torch.Size([3, 224, 224]), Type: torch.float32\n",
            "Frame shape: torch.Size([3, 224, 224]), Type: torch.float32\n",
            "Frame shape: torch.Size([3, 224, 224]), Type: torch.float32\n",
            "Frame shape: torch.Size([3, 224, 224]), Type: torch.float32\n",
            "Frame shape: torch.Size([3, 224, 224]), Type: torch.float32\n",
            "Frame shape: torch.Size([3, 224, 224]), Type: torch.float32\n",
            "Frame shape: torch.Size([3, 224, 224]), Type: torch.float32\n",
            "Frame shape: torch.Size([3, 224, 224]), Type: torch.float32\n",
            "Frame shape: torch.Size([3, 224, 224]), Type: torch.float32\n",
            "Frame shape: torch.Size([3, 224, 224]), Type: torch.float32\n",
            "Frame shape: torch.Size([3, 224, 224]), Type: torch.float32\n",
            "Frame shape: torch.Size([3, 224, 224]), Type: torch.float32\n",
            "Frame shape: torch.Size([3, 224, 224]), Type: torch.float32\n",
            "Frame shape: torch.Size([3, 224, 224]), Type: torch.float32\n",
            "Frame shape: torch.Size([3, 224, 224]), Type: torch.float32\n",
            "Frame shape: torch.Size([3, 224, 224]), Type: torch.float32\n"
          ]
        },
        {
          "output_type": "stream",
          "name": "stderr",
          "text": [
            "Training:  70%|███████   | 14/20 [07:07<03:05, 30.94s/it, gpu_load=2.08GB, loss=2.6778]"
          ]
        },
        {
          "output_type": "stream",
          "name": "stdout",
          "text": [
            "Frame shape: torch.Size([3, 224, 224]), Type: torch.float32\n",
            "Frame shape: torch.Size([3, 224, 224]), Type: torch.float32\n",
            "Frame shape: torch.Size([3, 224, 224]), Type: torch.float32\n",
            "Frame shape: torch.Size([3, 224, 224]), Type: torch.float32\n",
            "Frame shape: torch.Size([3, 224, 224]), Type: torch.float32\n",
            "Frame shape: torch.Size([3, 224, 224]), Type: torch.float32\n",
            "Frame shape: torch.Size([3, 224, 224]), Type: torch.float32\n",
            "Frame shape: torch.Size([3, 224, 224]), Type: torch.float32\n",
            "Frame shape: torch.Size([3, 224, 224]), Type: torch.float32\n",
            "Frame shape: torch.Size([3, 224, 224]), Type: torch.float32\n",
            "Frame shape: torch.Size([3, 224, 224]), Type: torch.float32\n",
            "Frame shape: torch.Size([3, 224, 224]), Type: torch.float32\n",
            "Frame shape: torch.Size([3, 224, 224]), Type: torch.float32\n",
            "Frame shape: torch.Size([3, 224, 224]), Type: torch.float32\n",
            "Frame shape: torch.Size([3, 224, 224]), Type: torch.float32\n",
            "Frame shape: torch.Size([3, 224, 224]), Type: torch.float32\n",
            "Frame shape: torch.Size([3, 224, 224]), Type: torch.float32\n",
            "Frame shape: torch.Size([3, 224, 224]), Type: torch.float32\n",
            "Frame shape: torch.Size([3, 224, 224]), Type: torch.float32\n",
            "Frame shape: torch.Size([3, 224, 224]), Type: torch.float32\n",
            "Frame shape: torch.Size([3, 224, 224]), Type: torch.float32\n",
            "Frame shape: torch.Size([3, 224, 224]), Type: torch.float32\n",
            "Frame shape: torch.Size([3, 224, 224]), Type: torch.float32\n",
            "Frame shape: torch.Size([3, 224, 224]), Type: torch.float32\n"
          ]
        },
        {
          "output_type": "stream",
          "name": "stderr",
          "text": [
            "Training:  75%|███████▌  | 15/20 [07:40<02:36, 31.39s/it, gpu_load=2.08GB, loss=2.5526]"
          ]
        },
        {
          "output_type": "stream",
          "name": "stdout",
          "text": [
            "Frame shape: torch.Size([3, 224, 224]), Type: torch.float32\n",
            "Frame shape: torch.Size([3, 224, 224]), Type: torch.float32\n",
            "Frame shape: torch.Size([3, 224, 224]), Type: torch.float32\n",
            "Frame shape: torch.Size([3, 224, 224]), Type: torch.float32\n",
            "Frame shape: torch.Size([3, 224, 224]), Type: torch.float32\n",
            "Frame shape: torch.Size([3, 224, 224]), Type: torch.float32\n",
            "Frame shape: torch.Size([3, 224, 224]), Type: torch.float32\n",
            "Frame shape: torch.Size([3, 224, 224]), Type: torch.float32\n",
            "Frame shape: torch.Size([3, 224, 224]), Type: torch.float32\n",
            "Frame shape: torch.Size([3, 224, 224]), Type: torch.float32\n",
            "Frame shape: torch.Size([3, 224, 224]), Type: torch.float32\n",
            "Frame shape: torch.Size([3, 224, 224]), Type: torch.float32\n",
            "Frame shape: torch.Size([3, 224, 224]), Type: torch.float32\n",
            "Frame shape: torch.Size([3, 224, 224]), Type: torch.float32\n",
            "Frame shape: torch.Size([3, 224, 224]), Type: torch.float32\n",
            "Frame shape: torch.Size([3, 224, 224]), Type: torch.float32\n",
            "Frame shape: torch.Size([3, 224, 224]), Type: torch.float32\n",
            "Frame shape: torch.Size([3, 224, 224]), Type: torch.float32\n",
            "Frame shape: torch.Size([3, 224, 224]), Type: torch.float32\n",
            "Frame shape: torch.Size([3, 224, 224]), Type: torch.float32\n",
            "Frame shape: torch.Size([3, 224, 224]), Type: torch.float32\n",
            "Frame shape: torch.Size([3, 224, 224]), Type: torch.float32\n",
            "Frame shape: torch.Size([3, 224, 224]), Type: torch.float32\n",
            "Frame shape: torch.Size([3, 224, 224]), Type: torch.float32\n"
          ]
        },
        {
          "output_type": "stream",
          "name": "stderr",
          "text": [
            "Training:  80%|████████  | 16/20 [08:13<02:08, 32.10s/it, gpu_load=2.08GB, loss=2.6711]"
          ]
        },
        {
          "output_type": "stream",
          "name": "stdout",
          "text": [
            "Frame shape: torch.Size([3, 224, 224]), Type: torch.float32\n",
            "Frame shape: torch.Size([3, 224, 224]), Type: torch.float32\n",
            "Frame shape: torch.Size([3, 224, 224]), Type: torch.float32\n",
            "Frame shape: torch.Size([3, 224, 224]), Type: torch.float32\n",
            "Frame shape: torch.Size([3, 224, 224]), Type: torch.float32\n",
            "Frame shape: torch.Size([3, 224, 224]), Type: torch.float32\n",
            "Frame shape: torch.Size([3, 224, 224]), Type: torch.float32\n",
            "Frame shape: torch.Size([3, 224, 224]), Type: torch.float32\n",
            "Frame shape: torch.Size([3, 224, 224]), Type: torch.float32\n",
            "Frame shape: torch.Size([3, 224, 224]), Type: torch.float32\n",
            "Frame shape: torch.Size([3, 224, 224]), Type: torch.float32\n",
            "Frame shape: torch.Size([3, 224, 224]), Type: torch.float32\n",
            "Frame shape: torch.Size([3, 224, 224]), Type: torch.float32\n",
            "Frame shape: torch.Size([3, 224, 224]), Type: torch.float32\n",
            "Frame shape: torch.Size([3, 224, 224]), Type: torch.float32\n",
            "Frame shape: torch.Size([3, 224, 224]), Type: torch.float32\n",
            "Frame shape: torch.Size([3, 224, 224]), Type: torch.float32\n",
            "Frame shape: torch.Size([3, 224, 224]), Type: torch.float32\n",
            "Frame shape: torch.Size([3, 224, 224]), Type: torch.float32\n",
            "Frame shape: torch.Size([3, 224, 224]), Type: torch.float32\n",
            "Frame shape: torch.Size([3, 224, 224]), Type: torch.float32\n",
            "Frame shape: torch.Size([3, 224, 224]), Type: torch.float32\n",
            "Frame shape: torch.Size([3, 224, 224]), Type: torch.float32\n",
            "Frame shape: torch.Size([3, 224, 224]), Type: torch.float32\n"
          ]
        },
        {
          "output_type": "stream",
          "name": "stderr",
          "text": [
            "Training:  85%|████████▌ | 17/20 [08:49<01:39, 33.26s/it, gpu_load=2.08GB, loss=2.6186]"
          ]
        },
        {
          "output_type": "stream",
          "name": "stdout",
          "text": [
            "Frame shape: torch.Size([3, 224, 224]), Type: torch.float32\n",
            "Frame shape: torch.Size([3, 224, 224]), Type: torch.float32\n",
            "Frame shape: torch.Size([3, 224, 224]), Type: torch.float32\n",
            "Frame shape: torch.Size([3, 224, 224]), Type: torch.float32\n",
            "Frame shape: torch.Size([3, 224, 224]), Type: torch.float32\n",
            "Frame shape: torch.Size([3, 224, 224]), Type: torch.float32\n",
            "Frame shape: torch.Size([3, 224, 224]), Type: torch.float32\n",
            "Frame shape: torch.Size([3, 224, 224]), Type: torch.float32\n",
            "Frame shape: torch.Size([3, 224, 224]), Type: torch.float32\n",
            "Frame shape: torch.Size([3, 224, 224]), Type: torch.float32\n",
            "Frame shape: torch.Size([3, 224, 224]), Type: torch.float32\n",
            "Frame shape: torch.Size([3, 224, 224]), Type: torch.float32\n",
            "Frame shape: torch.Size([3, 224, 224]), Type: torch.float32\n",
            "Frame shape: torch.Size([3, 224, 224]), Type: torch.float32\n",
            "Frame shape: torch.Size([3, 224, 224]), Type: torch.float32\n",
            "Frame shape: torch.Size([3, 224, 224]), Type: torch.float32\n",
            "Frame shape: torch.Size([3, 224, 224]), Type: torch.float32\n",
            "Frame shape: torch.Size([3, 224, 224]), Type: torch.float32\n",
            "Frame shape: torch.Size([3, 224, 224]), Type: torch.float32\n",
            "Frame shape: torch.Size([3, 224, 224]), Type: torch.float32\n",
            "Frame shape: torch.Size([3, 224, 224]), Type: torch.float32\n",
            "Frame shape: torch.Size([3, 224, 224]), Type: torch.float32\n",
            "Frame shape: torch.Size([3, 224, 224]), Type: torch.float32\n",
            "Frame shape: torch.Size([3, 224, 224]), Type: torch.float32\n"
          ]
        },
        {
          "output_type": "stream",
          "name": "stderr",
          "text": [
            "Training:  90%|█████████ | 18/20 [09:21<01:05, 32.76s/it, gpu_load=2.08GB, loss=2.7564]"
          ]
        },
        {
          "output_type": "stream",
          "name": "stdout",
          "text": [
            "Frame shape: torch.Size([3, 224, 224]), Type: torch.float32\n",
            "Frame shape: torch.Size([3, 224, 224]), Type: torch.float32\n",
            "Frame shape: torch.Size([3, 224, 224]), Type: torch.float32\n",
            "Frame shape: torch.Size([3, 224, 224]), Type: torch.float32\n",
            "Frame shape: torch.Size([3, 224, 224]), Type: torch.float32\n",
            "Frame shape: torch.Size([3, 224, 224]), Type: torch.float32\n",
            "Frame shape: torch.Size([3, 224, 224]), Type: torch.float32\n",
            "Frame shape: torch.Size([3, 224, 224]), Type: torch.float32\n",
            "Frame shape: torch.Size([3, 224, 224]), Type: torch.float32\n",
            "Frame shape: torch.Size([3, 224, 224]), Type: torch.float32\n",
            "Frame shape: torch.Size([3, 224, 224]), Type: torch.float32\n",
            "Frame shape: torch.Size([3, 224, 224]), Type: torch.float32\n",
            "Frame shape: torch.Size([3, 224, 224]), Type: torch.float32\n",
            "Frame shape: torch.Size([3, 224, 224]), Type: torch.float32\n",
            "Frame shape: torch.Size([3, 224, 224]), Type: torch.float32\n",
            "Frame shape: torch.Size([3, 224, 224]), Type: torch.float32\n",
            "Frame shape: torch.Size([3, 224, 224]), Type: torch.float32\n",
            "Frame shape: torch.Size([3, 224, 224]), Type: torch.float32\n",
            "Frame shape: torch.Size([3, 224, 224]), Type: torch.float32\n",
            "Frame shape: torch.Size([3, 224, 224]), Type: torch.float32\n",
            "Frame shape: torch.Size([3, 224, 224]), Type: torch.float32\n",
            "Frame shape: torch.Size([3, 224, 224]), Type: torch.float32\n",
            "Frame shape: torch.Size([3, 224, 224]), Type: torch.float32\n",
            "Frame shape: torch.Size([3, 224, 224]), Type: torch.float32\n"
          ]
        },
        {
          "output_type": "stream",
          "name": "stderr",
          "text": [
            "Training:  95%|█████████▌| 19/20 [09:52<00:32, 32.16s/it, gpu_load=2.08GB, loss=2.5093]"
          ]
        },
        {
          "output_type": "stream",
          "name": "stdout",
          "text": [
            "Frame shape: torch.Size([3, 224, 224]), Type: torch.float32\n",
            "Frame shape: torch.Size([3, 224, 224]), Type: torch.float32\n",
            "Frame shape: torch.Size([3, 224, 224]), Type: torch.float32\n",
            "Frame shape: torch.Size([3, 224, 224]), Type: torch.float32\n",
            "Frame shape: torch.Size([3, 224, 224]), Type: torch.float32\n",
            "Frame shape: torch.Size([3, 224, 224]), Type: torch.float32\n",
            "Frame shape: torch.Size([3, 224, 224]), Type: torch.float32\n",
            "Frame shape: torch.Size([3, 224, 224]), Type: torch.float32\n",
            "Frame shape: torch.Size([3, 224, 224]), Type: torch.float32\n",
            "Frame shape: torch.Size([3, 224, 224]), Type: torch.float32\n",
            "Frame shape: torch.Size([3, 224, 224]), Type: torch.float32\n",
            "Frame shape: torch.Size([3, 224, 224]), Type: torch.float32\n",
            "Frame shape: torch.Size([3, 224, 224]), Type: torch.float32\n",
            "Frame shape: torch.Size([3, 224, 224]), Type: torch.float32\n",
            "Frame shape: torch.Size([3, 224, 224]), Type: torch.float32\n",
            "Frame shape: torch.Size([3, 224, 224]), Type: torch.float32\n",
            "Frame shape: torch.Size([3, 224, 224]), Type: torch.float32\n",
            "Frame shape: torch.Size([3, 224, 224]), Type: torch.float32\n",
            "Frame shape: torch.Size([3, 224, 224]), Type: torch.float32\n",
            "Frame shape: torch.Size([3, 224, 224]), Type: torch.float32\n",
            "Frame shape: torch.Size([3, 224, 224]), Type: torch.float32\n"
          ]
        },
        {
          "output_type": "stream",
          "name": "stderr",
          "text": [
            "Training: 100%|██████████| 20/20 [10:22<00:00, 31.14s/it, gpu_load=1.83GB, loss=2.7429]\n"
          ]
        },
        {
          "output_type": "stream",
          "name": "stdout",
          "text": [
            "Frame shape: torch.Size([3, 224, 224]), Type: torch.float32\n"
          ]
        },
        {
          "output_type": "stream",
          "name": "stderr",
          "text": [
            "\rTesting:   0%|          | 0/5 [00:00<?, ?it/s]"
          ]
        },
        {
          "output_type": "stream",
          "name": "stdout",
          "text": [
            "Frame shape: torch.Size([3, 224, 224]), Type: torch.float32\n",
            "Frame shape: torch.Size([3, 224, 224]), Type: torch.float32\n",
            "Frame shape: torch.Size([3, 224, 224]), Type: torch.float32\n",
            "Frame shape: torch.Size([3, 224, 224]), Type: torch.float32\n",
            "Frame shape: torch.Size([3, 224, 224]), Type: torch.float32\n",
            "Frame shape: torch.Size([3, 224, 224]), Type: torch.float32\n",
            "Frame shape: torch.Size([3, 224, 224]), Type: torch.float32\n",
            "Frame shape: torch.Size([3, 224, 224]), Type: torch.float32\n",
            "Frame shape: torch.Size([3, 224, 224]), Type: torch.float32\n",
            "Frame shape: torch.Size([3, 224, 224]), Type: torch.float32\n",
            "Frame shape: torch.Size([3, 224, 224]), Type: torch.float32\n",
            "Frame shape: torch.Size([3, 224, 224]), Type: torch.float32\n",
            "Frame shape: torch.Size([3, 224, 224]), Type: torch.float32\n",
            "Frame shape: torch.Size([3, 224, 224]), Type: torch.float32\n",
            "Frame shape: torch.Size([3, 224, 224]), Type: torch.float32\n",
            "Frame shape: torch.Size([3, 224, 224]), Type: torch.float32\n",
            "Frame shape: torch.Size([3, 224, 224]), Type: torch.float32\n",
            "Frame shape: torch.Size([3, 224, 224]), Type: torch.float32\n",
            "Frame shape: torch.Size([3, 224, 224]), Type: torch.float32\n",
            "Frame shape: torch.Size([3, 224, 224]), Type: torch.float32\n",
            "Frame shape: torch.Size([3, 224, 224]), Type: torch.float32\n",
            "Frame shape: torch.Size([3, 224, 224]), Type: torch.float32\n",
            "Frame shape: torch.Size([3, 224, 224]), Type: torch.float32\n"
          ]
        },
        {
          "output_type": "stream",
          "name": "stderr",
          "text": [
            "Testing:  20%|██        | 1/5 [00:33<02:12, 33.17s/it, loss=2.5258]"
          ]
        },
        {
          "output_type": "stream",
          "name": "stdout",
          "text": [
            "Frame shape: torch.Size([3, 224, 224]), Type: torch.float32\n",
            "Frame shape: torch.Size([3, 224, 224]), Type: torch.float32\n",
            "Frame shape: torch.Size([3, 224, 224]), Type: torch.float32\n",
            "Frame shape: torch.Size([3, 224, 224]), Type: torch.float32\n",
            "Frame shape: torch.Size([3, 224, 224]), Type: torch.float32\n",
            "Frame shape: torch.Size([3, 224, 224]), Type: torch.float32\n",
            "Frame shape: torch.Size([3, 224, 224]), Type: torch.float32\n",
            "Frame shape: torch.Size([3, 224, 224]), Type: torch.float32\n",
            "Frame shape: torch.Size([3, 224, 224]), Type: torch.float32\n",
            "Frame shape: torch.Size([3, 224, 224]), Type: torch.float32\n",
            "Frame shape: torch.Size([3, 224, 224]), Type: torch.float32\n",
            "Frame shape: torch.Size([3, 224, 224]), Type: torch.float32\n",
            "Frame shape: torch.Size([3, 224, 224]), Type: torch.float32\n",
            "Frame shape: torch.Size([3, 224, 224]), Type: torch.float32\n",
            "Frame shape: torch.Size([3, 224, 224]), Type: torch.float32\n",
            "Frame shape: torch.Size([3, 224, 224]), Type: torch.float32\n",
            "Frame shape: torch.Size([3, 224, 224]), Type: torch.float32\n",
            "Frame shape: torch.Size([3, 224, 224]), Type: torch.float32\n",
            "Frame shape: torch.Size([3, 224, 224]), Type: torch.float32\n",
            "Frame shape: torch.Size([3, 224, 224]), Type: torch.float32\n",
            "Frame shape: torch.Size([3, 224, 224]), Type: torch.float32\n",
            "Frame shape: torch.Size([3, 224, 224]), Type: torch.float32\n",
            "Frame shape: torch.Size([3, 224, 224]), Type: torch.float32\n",
            "Frame shape: torch.Size([3, 224, 224]), Type: torch.float32\n"
          ]
        },
        {
          "output_type": "stream",
          "name": "stderr",
          "text": [
            "Testing:  40%|████      | 2/5 [01:03<01:34, 31.58s/it, loss=2.5578]"
          ]
        },
        {
          "output_type": "stream",
          "name": "stdout",
          "text": [
            "Frame shape: torch.Size([3, 224, 224]), Type: torch.float32\n",
            "Frame shape: torch.Size([3, 224, 224]), Type: torch.float32\n",
            "Frame shape: torch.Size([3, 224, 224]), Type: torch.float32\n",
            "Frame shape: torch.Size([3, 224, 224]), Type: torch.float32\n",
            "Frame shape: torch.Size([3, 224, 224]), Type: torch.float32\n",
            "Frame shape: torch.Size([3, 224, 224]), Type: torch.float32\n",
            "Frame shape: torch.Size([3, 224, 224]), Type: torch.float32\n",
            "Frame shape: torch.Size([3, 224, 224]), Type: torch.float32\n",
            "Frame shape: torch.Size([3, 224, 224]), Type: torch.float32\n",
            "Frame shape: torch.Size([3, 224, 224]), Type: torch.float32\n",
            "Frame shape: torch.Size([3, 224, 224]), Type: torch.float32\n",
            "Frame shape: torch.Size([3, 224, 224]), Type: torch.float32\n",
            "Frame shape: torch.Size([3, 224, 224]), Type: torch.float32\n",
            "Frame shape: torch.Size([3, 224, 224]), Type: torch.float32\n",
            "Frame shape: torch.Size([3, 224, 224]), Type: torch.float32\n",
            "Frame shape: torch.Size([3, 224, 224]), Type: torch.float32\n",
            "Frame shape: torch.Size([3, 224, 224]), Type: torch.float32\n",
            "Frame shape: torch.Size([3, 224, 224]), Type: torch.float32\n",
            "Frame shape: torch.Size([3, 224, 224]), Type: torch.float32\n",
            "Frame shape: torch.Size([3, 224, 224]), Type: torch.float32\n",
            "Frame shape: torch.Size([3, 224, 224]), Type: torch.float32\n",
            "Frame shape: torch.Size([3, 224, 224]), Type: torch.float32\n",
            "Frame shape: torch.Size([3, 224, 224]), Type: torch.float32\n",
            "Frame shape: torch.Size([3, 224, 224]), Type: torch.float32\n"
          ]
        },
        {
          "output_type": "stream",
          "name": "stderr",
          "text": [
            "Testing:  60%|██████    | 3/5 [01:41<01:09, 34.66s/it, loss=2.5120]"
          ]
        },
        {
          "output_type": "stream",
          "name": "stdout",
          "text": [
            "Frame shape: torch.Size([3, 224, 224]), Type: torch.float32\n",
            "Frame shape: torch.Size([3, 224, 224]), Type: torch.float32\n",
            "Frame shape: torch.Size([3, 224, 224]), Type: torch.float32\n",
            "Frame shape: torch.Size([3, 224, 224]), Type: torch.float32\n",
            "Frame shape: torch.Size([3, 224, 224]), Type: torch.float32\n",
            "Frame shape: torch.Size([3, 224, 224]), Type: torch.float32\n",
            "Frame shape: torch.Size([3, 224, 224]), Type: torch.float32\n",
            "Frame shape: torch.Size([3, 224, 224]), Type: torch.float32\n",
            "Frame shape: torch.Size([3, 224, 224]), Type: torch.float32\n",
            "Frame shape: torch.Size([3, 224, 224]), Type: torch.float32\n",
            "Frame shape: torch.Size([3, 224, 224]), Type: torch.float32\n",
            "Frame shape: torch.Size([3, 224, 224]), Type: torch.float32\n",
            "Frame shape: torch.Size([3, 224, 224]), Type: torch.float32\n",
            "Frame shape: torch.Size([3, 224, 224]), Type: torch.float32\n",
            "Frame shape: torch.Size([3, 224, 224]), Type: torch.float32\n",
            "Frame shape: torch.Size([3, 224, 224]), Type: torch.float32\n",
            "Frame shape: torch.Size([3, 224, 224]), Type: torch.float32\n",
            "Frame shape: torch.Size([3, 224, 224]), Type: torch.float32\n",
            "Frame shape: torch.Size([3, 224, 224]), Type: torch.float32\n",
            "Frame shape: torch.Size([3, 224, 224]), Type: torch.float32\n",
            "Frame shape: torch.Size([3, 224, 224]), Type: torch.float32\n",
            "Frame shape: torch.Size([3, 224, 224]), Type: torch.float32\n",
            "Frame shape: torch.Size([3, 224, 224]), Type: torch.float32\n",
            "Frame shape: torch.Size([3, 224, 224]), Type: torch.float32\n"
          ]
        },
        {
          "output_type": "stream",
          "name": "stderr",
          "text": [
            "Testing:  80%|████████  | 4/5 [02:16<00:34, 34.62s/it, loss=2.6302]"
          ]
        },
        {
          "output_type": "stream",
          "name": "stdout",
          "text": [
            "Frame shape: torch.Size([3, 224, 224]), Type: torch.float32\n",
            "Frame shape: torch.Size([3, 224, 224]), Type: torch.float32\n",
            "Frame shape: torch.Size([3, 224, 224]), Type: torch.float32\n",
            "Frame shape: torch.Size([3, 224, 224]), Type: torch.float32\n",
            "Frame shape: torch.Size([3, 224, 224]), Type: torch.float32\n",
            "Frame shape: torch.Size([3, 224, 224]), Type: torch.float32\n",
            "Frame shape: torch.Size([3, 224, 224]), Type: torch.float32\n",
            "Frame shape: torch.Size([3, 224, 224]), Type: torch.float32\n",
            "Frame shape: torch.Size([3, 224, 224]), Type: torch.float32\n",
            "Frame shape: torch.Size([3, 224, 224]), Type: torch.float32\n",
            "Frame shape: torch.Size([3, 224, 224]), Type: torch.float32\n",
            "Frame shape: torch.Size([3, 224, 224]), Type: torch.float32\n",
            "Frame shape: torch.Size([3, 224, 224]), Type: torch.float32\n",
            "Frame shape: torch.Size([3, 224, 224]), Type: torch.float32\n",
            "Frame shape: torch.Size([3, 224, 224]), Type: torch.float32\n",
            "Frame shape: torch.Size([3, 224, 224]), Type: torch.float32\n",
            "Frame shape: torch.Size([3, 224, 224]), Type: torch.float32\n",
            "Frame shape: torch.Size([3, 224, 224]), Type: torch.float32\n",
            "Frame shape: torch.Size([3, 224, 224]), Type: torch.float32\n",
            "Frame shape: torch.Size([3, 224, 224]), Type: torch.float32\n",
            "Frame shape: torch.Size([3, 224, 224]), Type: torch.float32\n",
            "Frame shape: torch.Size([3, 224, 224]), Type: torch.float32\n",
            "Frame shape: torch.Size([3, 224, 224]), Type: torch.float32\n",
            "Frame shape: torch.Size([3, 224, 224]), Type: torch.float32\n"
          ]
        },
        {
          "output_type": "stream",
          "name": "stderr",
          "text": [
            "Testing: 100%|██████████| 5/5 [02:49<00:00, 33.91s/it, loss=2.6345]"
          ]
        },
        {
          "output_type": "stream",
          "name": "stdout",
          "text": [
            "Frame shape: torch.Size([3, 224, 224]), Type: torch.float32\n",
            "epoch: 1, lr_rate 0.001\n",
            "loss_train: 2.6686| loss_valid: 2.5721|\n",
            "metric 0.183333\n",
            "Elapsed time: 00:13:12\n"
          ]
        },
        {
          "output_type": "stream",
          "name": "stderr",
          "text": [
            "\n"
          ]
        },
        {
          "output_type": "stream",
          "name": "stdout",
          "text": [
            "---------------------epoch:2/10---------------------\n"
          ]
        },
        {
          "output_type": "stream",
          "name": "stderr",
          "text": [
            "\rTraining:   0%|          | 0/20 [00:00<?, ?it/s]"
          ]
        },
        {
          "output_type": "stream",
          "name": "stdout",
          "text": [
            "Frame shape: torch.Size([3, 224, 224]), Type: torch.float32\n",
            "Frame shape: torch.Size([3, 224, 224]), Type: torch.float32\n",
            "Frame shape: torch.Size([3, 224, 224]), Type: torch.float32\n",
            "Frame shape: torch.Size([3, 224, 224]), Type: torch.float32\n",
            "Frame shape: torch.Size([3, 224, 224]), Type: torch.float32\n",
            "Frame shape: torch.Size([3, 224, 224]), Type: torch.float32\n",
            "Frame shape: torch.Size([3, 224, 224]), Type: torch.float32\n",
            "Frame shape: torch.Size([3, 224, 224]), Type: torch.float32\n",
            "Frame shape: torch.Size([3, 224, 224]), Type: torch.float32\n",
            "Frame shape: torch.Size([3, 224, 224]), Type: torch.float32\n",
            "Frame shape: torch.Size([3, 224, 224]), Type: torch.float32\n",
            "Frame shape: torch.Size([3, 224, 224]), Type: torch.float32\n",
            "Frame shape: torch.Size([3, 224, 224]), Type: torch.float32\n",
            "Frame shape: torch.Size([3, 224, 224]), Type: torch.float32\n",
            "Frame shape: torch.Size([3, 224, 224]), Type: torch.float32\n",
            "Frame shape: torch.Size([3, 224, 224]), Type: torch.float32\n",
            "Frame shape: torch.Size([3, 224, 224]), Type: torch.float32\n",
            "Frame shape: torch.Size([3, 224, 224]), Type: torch.float32\n",
            "Frame shape: torch.Size([3, 224, 224]), Type: torch.float32\n",
            "Frame shape: torch.Size([3, 224, 224]), Type: torch.float32\n",
            "Frame shape: torch.Size([3, 224, 224]), Type: torch.float32\n",
            "Frame shape: torch.Size([3, 224, 224]), Type: torch.float32\n",
            "Frame shape: torch.Size([3, 224, 224]), Type: torch.float32\n"
          ]
        },
        {
          "output_type": "stream",
          "name": "stderr",
          "text": [
            "Training:   5%|▌         | 1/20 [00:12<03:54, 12.37s/it, gpu_load=2.08GB, loss=2.2180]"
          ]
        },
        {
          "output_type": "stream",
          "name": "stdout",
          "text": [
            "Frame shape: torch.Size([3, 224, 224]), Type: torch.float32\n",
            "Frame shape: torch.Size([3, 224, 224]), Type: torch.float32\n",
            "Frame shape: torch.Size([3, 224, 224]), Type: torch.float32\n",
            "Frame shape: torch.Size([3, 224, 224]), Type: torch.float32\n",
            "Frame shape: torch.Size([3, 224, 224]), Type: torch.float32\n",
            "Frame shape: torch.Size([3, 224, 224]), Type: torch.float32\n",
            "Frame shape: torch.Size([3, 224, 224]), Type: torch.float32\n",
            "Frame shape: torch.Size([3, 224, 224]), Type: torch.float32\n",
            "Frame shape: torch.Size([3, 224, 224]), Type: torch.float32\n",
            "Frame shape: torch.Size([3, 224, 224]), Type: torch.float32\n",
            "Frame shape: torch.Size([3, 224, 224]), Type: torch.float32\n",
            "Frame shape: torch.Size([3, 224, 224]), Type: torch.float32\n",
            "Frame shape: torch.Size([3, 224, 224]), Type: torch.float32\n",
            "Frame shape: torch.Size([3, 224, 224]), Type: torch.float32\n",
            "Frame shape: torch.Size([3, 224, 224]), Type: torch.float32\n",
            "Frame shape: torch.Size([3, 224, 224]), Type: torch.float32\n",
            "Frame shape: torch.Size([3, 224, 224]), Type: torch.float32\n",
            "Frame shape: torch.Size([3, 224, 224]), Type: torch.float32\n",
            "Frame shape: torch.Size([3, 224, 224]), Type: torch.float32\n",
            "Frame shape: torch.Size([3, 224, 224]), Type: torch.float32\n",
            "Frame shape: torch.Size([3, 224, 224]), Type: torch.float32\n",
            "Frame shape: torch.Size([3, 224, 224]), Type: torch.float32\n",
            "Frame shape: torch.Size([3, 224, 224]), Type: torch.float32\n",
            "Frame shape: torch.Size([3, 224, 224]), Type: torch.float32\n"
          ]
        },
        {
          "output_type": "stream",
          "name": "stderr",
          "text": [
            "Training:  10%|█         | 2/20 [00:24<03:38, 12.12s/it, gpu_load=2.08GB, loss=2.2909]"
          ]
        },
        {
          "output_type": "stream",
          "name": "stdout",
          "text": [
            "Frame shape: torch.Size([3, 224, 224]), Type: torch.float32\n",
            "Frame shape: torch.Size([3, 224, 224]), Type: torch.float32\n",
            "Frame shape: torch.Size([3, 224, 224]), Type: torch.float32\n",
            "Frame shape: torch.Size([3, 224, 224]), Type: torch.float32\n",
            "Frame shape: torch.Size([3, 224, 224]), Type: torch.float32\n",
            "Frame shape: torch.Size([3, 224, 224]), Type: torch.float32\n",
            "Frame shape: torch.Size([3, 224, 224]), Type: torch.float32\n",
            "Frame shape: torch.Size([3, 224, 224]), Type: torch.float32\n",
            "Frame shape: torch.Size([3, 224, 224]), Type: torch.float32\n",
            "Frame shape: torch.Size([3, 224, 224]), Type: torch.float32\n",
            "Frame shape: torch.Size([3, 224, 224]), Type: torch.float32\n",
            "Frame shape: torch.Size([3, 224, 224]), Type: torch.float32\n",
            "Frame shape: torch.Size([3, 224, 224]), Type: torch.float32\n",
            "Frame shape: torch.Size([3, 224, 224]), Type: torch.float32\n",
            "Frame shape: torch.Size([3, 224, 224]), Type: torch.float32\n",
            "Frame shape: torch.Size([3, 224, 224]), Type: torch.float32\n",
            "Frame shape: torch.Size([3, 224, 224]), Type: torch.float32\n",
            "Frame shape: torch.Size([3, 224, 224]), Type: torch.float32\n",
            "Frame shape: torch.Size([3, 224, 224]), Type: torch.float32\n",
            "Frame shape: torch.Size([3, 224, 224]), Type: torch.float32\n",
            "Frame shape: torch.Size([3, 224, 224]), Type: torch.float32\n",
            "Frame shape: torch.Size([3, 224, 224]), Type: torch.float32\n",
            "Frame shape: torch.Size([3, 224, 224]), Type: torch.float32\n",
            "Frame shape: torch.Size([3, 224, 224]), Type: torch.float32\n"
          ]
        },
        {
          "output_type": "stream",
          "name": "stderr",
          "text": [
            "Training:  15%|█▌        | 3/20 [00:35<03:14, 11.47s/it, gpu_load=2.08GB, loss=2.5980]"
          ]
        },
        {
          "output_type": "stream",
          "name": "stdout",
          "text": [
            "Frame shape: torch.Size([3, 224, 224]), Type: torch.float32\n",
            "Frame shape: torch.Size([3, 224, 224]), Type: torch.float32\n",
            "Frame shape: torch.Size([3, 224, 224]), Type: torch.float32\n",
            "Frame shape: torch.Size([3, 224, 224]), Type: torch.float32\n",
            "Frame shape: torch.Size([3, 224, 224]), Type: torch.float32\n",
            "Frame shape: torch.Size([3, 224, 224]), Type: torch.float32\n",
            "Frame shape: torch.Size([3, 224, 224]), Type: torch.float32\n",
            "Frame shape: torch.Size([3, 224, 224]), Type: torch.float32\n",
            "Frame shape: torch.Size([3, 224, 224]), Type: torch.float32\n",
            "Frame shape: torch.Size([3, 224, 224]), Type: torch.float32\n",
            "Frame shape: torch.Size([3, 224, 224]), Type: torch.float32\n",
            "Frame shape: torch.Size([3, 224, 224]), Type: torch.float32\n",
            "Frame shape: torch.Size([3, 224, 224]), Type: torch.float32\n",
            "Frame shape: torch.Size([3, 224, 224]), Type: torch.float32\n",
            "Frame shape: torch.Size([3, 224, 224]), Type: torch.float32\n",
            "Frame shape: torch.Size([3, 224, 224]), Type: torch.float32\n",
            "Frame shape: torch.Size([3, 224, 224]), Type: torch.float32\n",
            "Frame shape: torch.Size([3, 224, 224]), Type: torch.float32\n",
            "Frame shape: torch.Size([3, 224, 224]), Type: torch.float32\n",
            "Frame shape: torch.Size([3, 224, 224]), Type: torch.float32\n",
            "Frame shape: torch.Size([3, 224, 224]), Type: torch.float32\n",
            "Frame shape: torch.Size([3, 224, 224]), Type: torch.float32\n",
            "Frame shape: torch.Size([3, 224, 224]), Type: torch.float32\n",
            "Frame shape: torch.Size([3, 224, 224]), Type: torch.float32\n"
          ]
        },
        {
          "output_type": "stream",
          "name": "stderr",
          "text": [
            "Training:  20%|██        | 4/20 [00:47<03:12, 12.04s/it, gpu_load=2.08GB, loss=2.4192]"
          ]
        },
        {
          "output_type": "stream",
          "name": "stdout",
          "text": [
            "Frame shape: torch.Size([3, 224, 224]), Type: torch.float32\n",
            "Frame shape: torch.Size([3, 224, 224]), Type: torch.float32\n",
            "Frame shape: torch.Size([3, 224, 224]), Type: torch.float32\n",
            "Frame shape: torch.Size([3, 224, 224]), Type: torch.float32\n",
            "Frame shape: torch.Size([3, 224, 224]), Type: torch.float32\n",
            "Frame shape: torch.Size([3, 224, 224]), Type: torch.float32\n",
            "Frame shape: torch.Size([3, 224, 224]), Type: torch.float32\n",
            "Frame shape: torch.Size([3, 224, 224]), Type: torch.float32\n",
            "Frame shape: torch.Size([3, 224, 224]), Type: torch.float32\n",
            "Frame shape: torch.Size([3, 224, 224]), Type: torch.float32\n",
            "Frame shape: torch.Size([3, 224, 224]), Type: torch.float32\n",
            "Frame shape: torch.Size([3, 224, 224]), Type: torch.float32\n",
            "Frame shape: torch.Size([3, 224, 224]), Type: torch.float32\n",
            "Frame shape: torch.Size([3, 224, 224]), Type: torch.float32\n",
            "Frame shape: torch.Size([3, 224, 224]), Type: torch.float32\n",
            "Frame shape: torch.Size([3, 224, 224]), Type: torch.float32\n",
            "Frame shape: torch.Size([3, 224, 224]), Type: torch.float32\n",
            "Frame shape: torch.Size([3, 224, 224]), Type: torch.float32\n",
            "Frame shape: torch.Size([3, 224, 224]), Type: torch.float32\n",
            "Frame shape: torch.Size([3, 224, 224]), Type: torch.float32\n",
            "Frame shape: torch.Size([3, 224, 224]), Type: torch.float32\n",
            "Frame shape: torch.Size([3, 224, 224]), Type: torch.float32\n",
            "Frame shape: torch.Size([3, 224, 224]), Type: torch.float32\n",
            "Frame shape: torch.Size([3, 224, 224]), Type: torch.float32\n"
          ]
        },
        {
          "output_type": "stream",
          "name": "stderr",
          "text": [
            "Training:  25%|██▌       | 5/20 [01:00<03:05, 12.35s/it, gpu_load=2.08GB, loss=2.4320]"
          ]
        },
        {
          "output_type": "stream",
          "name": "stdout",
          "text": [
            "Frame shape: torch.Size([3, 224, 224]), Type: torch.float32\n",
            "Frame shape: torch.Size([3, 224, 224]), Type: torch.float32\n",
            "Frame shape: torch.Size([3, 224, 224]), Type: torch.float32\n",
            "Frame shape: torch.Size([3, 224, 224]), Type: torch.float32\n",
            "Frame shape: torch.Size([3, 224, 224]), Type: torch.float32\n",
            "Frame shape: torch.Size([3, 224, 224]), Type: torch.float32\n",
            "Frame shape: torch.Size([3, 224, 224]), Type: torch.float32\n",
            "Frame shape: torch.Size([3, 224, 224]), Type: torch.float32\n",
            "Frame shape: torch.Size([3, 224, 224]), Type: torch.float32\n",
            "Frame shape: torch.Size([3, 224, 224]), Type: torch.float32\n",
            "Frame shape: torch.Size([3, 224, 224]), Type: torch.float32\n",
            "Frame shape: torch.Size([3, 224, 224]), Type: torch.float32\n",
            "Frame shape: torch.Size([3, 224, 224]), Type: torch.float32\n",
            "Frame shape: torch.Size([3, 224, 224]), Type: torch.float32\n",
            "Frame shape: torch.Size([3, 224, 224]), Type: torch.float32\n",
            "Frame shape: torch.Size([3, 224, 224]), Type: torch.float32\n",
            "Frame shape: torch.Size([3, 224, 224]), Type: torch.float32\n",
            "Frame shape: torch.Size([3, 224, 224]), Type: torch.float32\n",
            "Frame shape: torch.Size([3, 224, 224]), Type: torch.float32\n",
            "Frame shape: torch.Size([3, 224, 224]), Type: torch.float32\n",
            "Frame shape: torch.Size([3, 224, 224]), Type: torch.float32\n",
            "Frame shape: torch.Size([3, 224, 224]), Type: torch.float32\n",
            "Frame shape: torch.Size([3, 224, 224]), Type: torch.float32\n",
            "Frame shape: torch.Size([3, 224, 224]), Type: torch.float32\n"
          ]
        },
        {
          "output_type": "stream",
          "name": "stderr",
          "text": [
            "Training:  30%|███       | 6/20 [01:12<02:48, 12.02s/it, gpu_load=2.08GB, loss=2.6371]"
          ]
        },
        {
          "output_type": "stream",
          "name": "stdout",
          "text": [
            "Frame shape: torch.Size([3, 224, 224]), Type: torch.float32\n",
            "Frame shape: torch.Size([3, 224, 224]), Type: torch.float32\n",
            "Frame shape: torch.Size([3, 224, 224]), Type: torch.float32\n",
            "Frame shape: torch.Size([3, 224, 224]), Type: torch.float32\n",
            "Frame shape: torch.Size([3, 224, 224]), Type: torch.float32\n",
            "Frame shape: torch.Size([3, 224, 224]), Type: torch.float32\n",
            "Frame shape: torch.Size([3, 224, 224]), Type: torch.float32\n",
            "Frame shape: torch.Size([3, 224, 224]), Type: torch.float32\n",
            "Frame shape: torch.Size([3, 224, 224]), Type: torch.float32\n",
            "Frame shape: torch.Size([3, 224, 224]), Type: torch.float32\n",
            "Frame shape: torch.Size([3, 224, 224]), Type: torch.float32\n",
            "Frame shape: torch.Size([3, 224, 224]), Type: torch.float32\n",
            "Frame shape: torch.Size([3, 224, 224]), Type: torch.float32\n",
            "Frame shape: torch.Size([3, 224, 224]), Type: torch.float32\n",
            "Frame shape: torch.Size([3, 224, 224]), Type: torch.float32\n",
            "Frame shape: torch.Size([3, 224, 224]), Type: torch.float32\n",
            "Frame shape: torch.Size([3, 224, 224]), Type: torch.float32\n",
            "Frame shape: torch.Size([3, 224, 224]), Type: torch.float32\n",
            "Frame shape: torch.Size([3, 224, 224]), Type: torch.float32\n",
            "Frame shape: torch.Size([3, 224, 224]), Type: torch.float32\n",
            "Frame shape: torch.Size([3, 224, 224]), Type: torch.float32\n",
            "Frame shape: torch.Size([3, 224, 224]), Type: torch.float32\n",
            "Frame shape: torch.Size([3, 224, 224]), Type: torch.float32\n",
            "Frame shape: torch.Size([3, 224, 224]), Type: torch.float32\n"
          ]
        },
        {
          "output_type": "stream",
          "name": "stderr",
          "text": [
            "Training:  35%|███▌      | 7/20 [01:24<02:36, 12.07s/it, gpu_load=2.08GB, loss=2.3946]"
          ]
        },
        {
          "output_type": "stream",
          "name": "stdout",
          "text": [
            "Frame shape: torch.Size([3, 224, 224]), Type: torch.float32\n",
            "Frame shape: torch.Size([3, 224, 224]), Type: torch.float32\n",
            "Frame shape: torch.Size([3, 224, 224]), Type: torch.float32\n",
            "Frame shape: torch.Size([3, 224, 224]), Type: torch.float32\n",
            "Frame shape: torch.Size([3, 224, 224]), Type: torch.float32\n",
            "Frame shape: torch.Size([3, 224, 224]), Type: torch.float32\n",
            "Frame shape: torch.Size([3, 224, 224]), Type: torch.float32\n",
            "Frame shape: torch.Size([3, 224, 224]), Type: torch.float32\n",
            "Frame shape: torch.Size([3, 224, 224]), Type: torch.float32\n",
            "Frame shape: torch.Size([3, 224, 224]), Type: torch.float32\n",
            "Frame shape: torch.Size([3, 224, 224]), Type: torch.float32\n",
            "Frame shape: torch.Size([3, 224, 224]), Type: torch.float32\n",
            "Frame shape: torch.Size([3, 224, 224]), Type: torch.float32\n",
            "Frame shape: torch.Size([3, 224, 224]), Type: torch.float32\n",
            "Frame shape: torch.Size([3, 224, 224]), Type: torch.float32\n",
            "Frame shape: torch.Size([3, 224, 224]), Type: torch.float32\n",
            "Frame shape: torch.Size([3, 224, 224]), Type: torch.float32\n",
            "Frame shape: torch.Size([3, 224, 224]), Type: torch.float32\n",
            "Frame shape: torch.Size([3, 224, 224]), Type: torch.float32\n",
            "Frame shape: torch.Size([3, 224, 224]), Type: torch.float32\n",
            "Frame shape: torch.Size([3, 224, 224]), Type: torch.float32\n",
            "Frame shape: torch.Size([3, 224, 224]), Type: torch.float32\n",
            "Frame shape: torch.Size([3, 224, 224]), Type: torch.float32\n",
            "Frame shape: torch.Size([3, 224, 224]), Type: torch.float32\n"
          ]
        },
        {
          "output_type": "stream",
          "name": "stderr",
          "text": [
            "Training:  40%|████      | 8/20 [01:36<02:24, 12.08s/it, gpu_load=2.08GB, loss=2.4851]"
          ]
        },
        {
          "output_type": "stream",
          "name": "stdout",
          "text": [
            "Frame shape: torch.Size([3, 224, 224]), Type: torch.float32\n",
            "Frame shape: torch.Size([3, 224, 224]), Type: torch.float32\n",
            "Frame shape: torch.Size([3, 224, 224]), Type: torch.float32\n",
            "Frame shape: torch.Size([3, 224, 224]), Type: torch.float32\n",
            "Frame shape: torch.Size([3, 224, 224]), Type: torch.float32\n",
            "Frame shape: torch.Size([3, 224, 224]), Type: torch.float32\n",
            "Frame shape: torch.Size([3, 224, 224]), Type: torch.float32\n",
            "Frame shape: torch.Size([3, 224, 224]), Type: torch.float32\n",
            "Frame shape: torch.Size([3, 224, 224]), Type: torch.float32\n",
            "Frame shape: torch.Size([3, 224, 224]), Type: torch.float32\n",
            "Frame shape: torch.Size([3, 224, 224]), Type: torch.float32\n",
            "Frame shape: torch.Size([3, 224, 224]), Type: torch.float32\n",
            "Frame shape: torch.Size([3, 224, 224]), Type: torch.float32\n",
            "Frame shape: torch.Size([3, 224, 224]), Type: torch.float32\n",
            "Frame shape: torch.Size([3, 224, 224]), Type: torch.float32\n",
            "Frame shape: torch.Size([3, 224, 224]), Type: torch.float32\n",
            "Frame shape: torch.Size([3, 224, 224]), Type: torch.float32\n",
            "Frame shape: torch.Size([3, 224, 224]), Type: torch.float32\n",
            "Frame shape: torch.Size([3, 224, 224]), Type: torch.float32\n",
            "Frame shape: torch.Size([3, 224, 224]), Type: torch.float32\n",
            "Frame shape: torch.Size([3, 224, 224]), Type: torch.float32\n",
            "Frame shape: torch.Size([3, 224, 224]), Type: torch.float32\n",
            "Frame shape: torch.Size([3, 224, 224]), Type: torch.float32\n",
            "Frame shape: torch.Size([3, 224, 224]), Type: torch.float32\n"
          ]
        },
        {
          "output_type": "stream",
          "name": "stderr",
          "text": [
            "Training:  45%|████▌     | 9/20 [01:48<02:13, 12.16s/it, gpu_load=2.08GB, loss=2.4898]"
          ]
        },
        {
          "output_type": "stream",
          "name": "stdout",
          "text": [
            "Frame shape: torch.Size([3, 224, 224]), Type: torch.float32\n",
            "Frame shape: torch.Size([3, 224, 224]), Type: torch.float32\n",
            "Frame shape: torch.Size([3, 224, 224]), Type: torch.float32\n",
            "Frame shape: torch.Size([3, 224, 224]), Type: torch.float32\n",
            "Frame shape: torch.Size([3, 224, 224]), Type: torch.float32\n",
            "Frame shape: torch.Size([3, 224, 224]), Type: torch.float32\n",
            "Frame shape: torch.Size([3, 224, 224]), Type: torch.float32\n",
            "Frame shape: torch.Size([3, 224, 224]), Type: torch.float32\n",
            "Frame shape: torch.Size([3, 224, 224]), Type: torch.float32\n",
            "Frame shape: torch.Size([3, 224, 224]), Type: torch.float32\n",
            "Frame shape: torch.Size([3, 224, 224]), Type: torch.float32\n",
            "Frame shape: torch.Size([3, 224, 224]), Type: torch.float32\n",
            "Frame shape: torch.Size([3, 224, 224]), Type: torch.float32\n",
            "Frame shape: torch.Size([3, 224, 224]), Type: torch.float32\n",
            "Frame shape: torch.Size([3, 224, 224]), Type: torch.float32\n",
            "Frame shape: torch.Size([3, 224, 224]), Type: torch.float32\n",
            "Frame shape: torch.Size([3, 224, 224]), Type: torch.float32\n",
            "Frame shape: torch.Size([3, 224, 224]), Type: torch.float32\n",
            "Frame shape: torch.Size([3, 224, 224]), Type: torch.float32\n",
            "Frame shape: torch.Size([3, 224, 224]), Type: torch.float32\n",
            "Frame shape: torch.Size([3, 224, 224]), Type: torch.float32\n",
            "Frame shape: torch.Size([3, 224, 224]), Type: torch.float32\n",
            "Frame shape: torch.Size([3, 224, 224]), Type: torch.float32\n",
            "Frame shape: torch.Size([3, 224, 224]), Type: torch.float32\n"
          ]
        },
        {
          "output_type": "stream",
          "name": "stderr",
          "text": [
            "Training:  50%|█████     | 10/20 [02:01<02:03, 12.40s/it, gpu_load=2.08GB, loss=2.1843]"
          ]
        },
        {
          "output_type": "stream",
          "name": "stdout",
          "text": [
            "Frame shape: torch.Size([3, 224, 224]), Type: torch.float32\n",
            "Frame shape: torch.Size([3, 224, 224]), Type: torch.float32\n",
            "Frame shape: torch.Size([3, 224, 224]), Type: torch.float32\n",
            "Frame shape: torch.Size([3, 224, 224]), Type: torch.float32\n",
            "Frame shape: torch.Size([3, 224, 224]), Type: torch.float32\n",
            "Frame shape: torch.Size([3, 224, 224]), Type: torch.float32\n",
            "Frame shape: torch.Size([3, 224, 224]), Type: torch.float32\n",
            "Frame shape: torch.Size([3, 224, 224]), Type: torch.float32\n",
            "Frame shape: torch.Size([3, 224, 224]), Type: torch.float32\n",
            "Frame shape: torch.Size([3, 224, 224]), Type: torch.float32\n",
            "Frame shape: torch.Size([3, 224, 224]), Type: torch.float32\n",
            "Frame shape: torch.Size([3, 224, 224]), Type: torch.float32\n",
            "Frame shape: torch.Size([3, 224, 224]), Type: torch.float32\n",
            "Frame shape: torch.Size([3, 224, 224]), Type: torch.float32\n",
            "Frame shape: torch.Size([3, 224, 224]), Type: torch.float32\n",
            "Frame shape: torch.Size([3, 224, 224]), Type: torch.float32\n",
            "Frame shape: torch.Size([3, 224, 224]), Type: torch.float32\n",
            "Frame shape: torch.Size([3, 224, 224]), Type: torch.float32\n",
            "Frame shape: torch.Size([3, 224, 224]), Type: torch.float32\n",
            "Frame shape: torch.Size([3, 224, 224]), Type: torch.float32\n",
            "Frame shape: torch.Size([3, 224, 224]), Type: torch.float32\n",
            "Frame shape: torch.Size([3, 224, 224]), Type: torch.float32\n",
            "Frame shape: torch.Size([3, 224, 224]), Type: torch.float32\n",
            "Frame shape: torch.Size([3, 224, 224]), Type: torch.float32\n"
          ]
        },
        {
          "output_type": "stream",
          "name": "stderr",
          "text": [
            "Training:  55%|█████▌    | 11/20 [02:14<01:53, 12.62s/it, gpu_load=2.08GB, loss=2.4049]"
          ]
        },
        {
          "output_type": "stream",
          "name": "stdout",
          "text": [
            "Frame shape: torch.Size([3, 224, 224]), Type: torch.float32\n",
            "Frame shape: torch.Size([3, 224, 224]), Type: torch.float32\n",
            "Frame shape: torch.Size([3, 224, 224]), Type: torch.float32\n",
            "Frame shape: torch.Size([3, 224, 224]), Type: torch.float32\n",
            "Frame shape: torch.Size([3, 224, 224]), Type: torch.float32\n",
            "Frame shape: torch.Size([3, 224, 224]), Type: torch.float32\n",
            "Frame shape: torch.Size([3, 224, 224]), Type: torch.float32\n",
            "Frame shape: torch.Size([3, 224, 224]), Type: torch.float32\n",
            "Frame shape: torch.Size([3, 224, 224]), Type: torch.float32\n",
            "Frame shape: torch.Size([3, 224, 224]), Type: torch.float32\n",
            "Frame shape: torch.Size([3, 224, 224]), Type: torch.float32\n",
            "Frame shape: torch.Size([3, 224, 224]), Type: torch.float32\n",
            "Frame shape: torch.Size([3, 224, 224]), Type: torch.float32\n",
            "Frame shape: torch.Size([3, 224, 224]), Type: torch.float32\n",
            "Frame shape: torch.Size([3, 224, 224]), Type: torch.float32\n",
            "Frame shape: torch.Size([3, 224, 224]), Type: torch.float32\n",
            "Frame shape: torch.Size([3, 224, 224]), Type: torch.float32\n",
            "Frame shape: torch.Size([3, 224, 224]), Type: torch.float32\n",
            "Frame shape: torch.Size([3, 224, 224]), Type: torch.float32\n",
            "Frame shape: torch.Size([3, 224, 224]), Type: torch.float32\n",
            "Frame shape: torch.Size([3, 224, 224]), Type: torch.float32\n",
            "Frame shape: torch.Size([3, 224, 224]), Type: torch.float32\n",
            "Frame shape: torch.Size([3, 224, 224]), Type: torch.float32\n",
            "Frame shape: torch.Size([3, 224, 224]), Type: torch.float32\n"
          ]
        },
        {
          "output_type": "stream",
          "name": "stderr",
          "text": [
            "Training:  60%|██████    | 12/20 [02:28<01:42, 12.78s/it, gpu_load=2.08GB, loss=2.5170]"
          ]
        },
        {
          "output_type": "stream",
          "name": "stdout",
          "text": [
            "Frame shape: torch.Size([3, 224, 224]), Type: torch.float32\n",
            "Frame shape: torch.Size([3, 224, 224]), Type: torch.float32\n",
            "Frame shape: torch.Size([3, 224, 224]), Type: torch.float32\n",
            "Frame shape: torch.Size([3, 224, 224]), Type: torch.float32\n",
            "Frame shape: torch.Size([3, 224, 224]), Type: torch.float32\n",
            "Frame shape: torch.Size([3, 224, 224]), Type: torch.float32\n",
            "Frame shape: torch.Size([3, 224, 224]), Type: torch.float32\n",
            "Frame shape: torch.Size([3, 224, 224]), Type: torch.float32\n",
            "Frame shape: torch.Size([3, 224, 224]), Type: torch.float32\n",
            "Frame shape: torch.Size([3, 224, 224]), Type: torch.float32\n",
            "Frame shape: torch.Size([3, 224, 224]), Type: torch.float32\n",
            "Frame shape: torch.Size([3, 224, 224]), Type: torch.float32\n",
            "Frame shape: torch.Size([3, 224, 224]), Type: torch.float32\n",
            "Frame shape: torch.Size([3, 224, 224]), Type: torch.float32\n",
            "Frame shape: torch.Size([3, 224, 224]), Type: torch.float32\n",
            "Frame shape: torch.Size([3, 224, 224]), Type: torch.float32\n",
            "Frame shape: torch.Size([3, 224, 224]), Type: torch.float32\n",
            "Frame shape: torch.Size([3, 224, 224]), Type: torch.float32\n",
            "Frame shape: torch.Size([3, 224, 224]), Type: torch.float32\n",
            "Frame shape: torch.Size([3, 224, 224]), Type: torch.float32\n",
            "Frame shape: torch.Size([3, 224, 224]), Type: torch.float32\n",
            "Frame shape: torch.Size([3, 224, 224]), Type: torch.float32\n",
            "Frame shape: torch.Size([3, 224, 224]), Type: torch.float32\n",
            "Frame shape: torch.Size([3, 224, 224]), Type: torch.float32\n"
          ]
        },
        {
          "output_type": "stream",
          "name": "stderr",
          "text": [
            "Training:  65%|██████▌   | 13/20 [02:40<01:29, 12.79s/it, gpu_load=2.08GB, loss=2.4666]"
          ]
        },
        {
          "output_type": "stream",
          "name": "stdout",
          "text": [
            "Frame shape: torch.Size([3, 224, 224]), Type: torch.float32\n",
            "Frame shape: torch.Size([3, 224, 224]), Type: torch.float32\n",
            "Frame shape: torch.Size([3, 224, 224]), Type: torch.float32\n",
            "Frame shape: torch.Size([3, 224, 224]), Type: torch.float32\n",
            "Frame shape: torch.Size([3, 224, 224]), Type: torch.float32\n",
            "Frame shape: torch.Size([3, 224, 224]), Type: torch.float32\n",
            "Frame shape: torch.Size([3, 224, 224]), Type: torch.float32\n",
            "Frame shape: torch.Size([3, 224, 224]), Type: torch.float32\n",
            "Frame shape: torch.Size([3, 224, 224]), Type: torch.float32\n",
            "Frame shape: torch.Size([3, 224, 224]), Type: torch.float32\n",
            "Frame shape: torch.Size([3, 224, 224]), Type: torch.float32\n",
            "Frame shape: torch.Size([3, 224, 224]), Type: torch.float32\n",
            "Frame shape: torch.Size([3, 224, 224]), Type: torch.float32\n",
            "Frame shape: torch.Size([3, 224, 224]), Type: torch.float32\n",
            "Frame shape: torch.Size([3, 224, 224]), Type: torch.float32\n",
            "Frame shape: torch.Size([3, 224, 224]), Type: torch.float32\n",
            "Frame shape: torch.Size([3, 224, 224]), Type: torch.float32\n",
            "Frame shape: torch.Size([3, 224, 224]), Type: torch.float32\n",
            "Frame shape: torch.Size([3, 224, 224]), Type: torch.float32\n",
            "Frame shape: torch.Size([3, 224, 224]), Type: torch.float32\n",
            "Frame shape: torch.Size([3, 224, 224]), Type: torch.float32\n",
            "Frame shape: torch.Size([3, 224, 224]), Type: torch.float32\n",
            "Frame shape: torch.Size([3, 224, 224]), Type: torch.float32\n",
            "Frame shape: torch.Size([3, 224, 224]), Type: torch.float32\n"
          ]
        },
        {
          "output_type": "stream",
          "name": "stderr",
          "text": [
            "Training:  70%|███████   | 14/20 [02:52<01:14, 12.48s/it, gpu_load=2.08GB, loss=2.4523]"
          ]
        },
        {
          "output_type": "stream",
          "name": "stdout",
          "text": [
            "Frame shape: torch.Size([3, 224, 224]), Type: torch.float32\n",
            "Frame shape: torch.Size([3, 224, 224]), Type: torch.float32\n",
            "Frame shape: torch.Size([3, 224, 224]), Type: torch.float32\n",
            "Frame shape: torch.Size([3, 224, 224]), Type: torch.float32\n",
            "Frame shape: torch.Size([3, 224, 224]), Type: torch.float32\n",
            "Frame shape: torch.Size([3, 224, 224]), Type: torch.float32\n",
            "Frame shape: torch.Size([3, 224, 224]), Type: torch.float32\n",
            "Frame shape: torch.Size([3, 224, 224]), Type: torch.float32\n",
            "Frame shape: torch.Size([3, 224, 224]), Type: torch.float32\n",
            "Frame shape: torch.Size([3, 224, 224]), Type: torch.float32\n",
            "Frame shape: torch.Size([3, 224, 224]), Type: torch.float32\n",
            "Frame shape: torch.Size([3, 224, 224]), Type: torch.float32\n",
            "Frame shape: torch.Size([3, 224, 224]), Type: torch.float32\n",
            "Frame shape: torch.Size([3, 224, 224]), Type: torch.float32\n",
            "Frame shape: torch.Size([3, 224, 224]), Type: torch.float32\n",
            "Frame shape: torch.Size([3, 224, 224]), Type: torch.float32\n",
            "Frame shape: torch.Size([3, 224, 224]), Type: torch.float32\n",
            "Frame shape: torch.Size([3, 224, 224]), Type: torch.float32\n",
            "Frame shape: torch.Size([3, 224, 224]), Type: torch.float32\n",
            "Frame shape: torch.Size([3, 224, 224]), Type: torch.float32\n",
            "Frame shape: torch.Size([3, 224, 224]), Type: torch.float32\n",
            "Frame shape: torch.Size([3, 224, 224]), Type: torch.float32\n",
            "Frame shape: torch.Size([3, 224, 224]), Type: torch.float32\n",
            "Frame shape: torch.Size([3, 224, 224]), Type: torch.float32\n"
          ]
        },
        {
          "output_type": "stream",
          "name": "stderr",
          "text": [
            "Training:  75%|███████▌  | 15/20 [03:05<01:02, 12.60s/it, gpu_load=2.07GB, loss=2.3147]"
          ]
        },
        {
          "output_type": "stream",
          "name": "stdout",
          "text": [
            "Frame shape: torch.Size([3, 224, 224]), Type: torch.float32\n",
            "Frame shape: torch.Size([3, 224, 224]), Type: torch.float32\n",
            "Frame shape: torch.Size([3, 224, 224]), Type: torch.float32\n",
            "Frame shape: torch.Size([3, 224, 224]), Type: torch.float32\n",
            "Frame shape: torch.Size([3, 224, 224]), Type: torch.float32\n",
            "Frame shape: torch.Size([3, 224, 224]), Type: torch.float32\n",
            "Frame shape: torch.Size([3, 224, 224]), Type: torch.float32\n",
            "Frame shape: torch.Size([3, 224, 224]), Type: torch.float32\n",
            "Frame shape: torch.Size([3, 224, 224]), Type: torch.float32\n",
            "Frame shape: torch.Size([3, 224, 224]), Type: torch.float32\n",
            "Frame shape: torch.Size([3, 224, 224]), Type: torch.float32\n",
            "Frame shape: torch.Size([3, 224, 224]), Type: torch.float32\n",
            "Frame shape: torch.Size([3, 224, 224]), Type: torch.float32\n",
            "Frame shape: torch.Size([3, 224, 224]), Type: torch.float32\n",
            "Frame shape: torch.Size([3, 224, 224]), Type: torch.float32\n",
            "Frame shape: torch.Size([3, 224, 224]), Type: torch.float32\n",
            "Frame shape: torch.Size([3, 224, 224]), Type: torch.float32\n",
            "Frame shape: torch.Size([3, 224, 224]), Type: torch.float32\n",
            "Frame shape: torch.Size([3, 224, 224]), Type: torch.float32\n",
            "Frame shape: torch.Size([3, 224, 224]), Type: torch.float32\n",
            "Frame shape: torch.Size([3, 224, 224]), Type: torch.float32\n",
            "Frame shape: torch.Size([3, 224, 224]), Type: torch.float32\n",
            "Frame shape: torch.Size([3, 224, 224]), Type: torch.float32\n",
            "Frame shape: torch.Size([3, 224, 224]), Type: torch.float32\n"
          ]
        },
        {
          "output_type": "stream",
          "name": "stderr",
          "text": [
            "Training:  80%|████████  | 16/20 [03:18<00:50, 12.74s/it, gpu_load=2.08GB, loss=2.4487]"
          ]
        },
        {
          "output_type": "stream",
          "name": "stdout",
          "text": [
            "Frame shape: torch.Size([3, 224, 224]), Type: torch.float32\n",
            "Frame shape: torch.Size([3, 224, 224]), Type: torch.float32\n",
            "Frame shape: torch.Size([3, 224, 224]), Type: torch.float32\n",
            "Frame shape: torch.Size([3, 224, 224]), Type: torch.float32\n",
            "Frame shape: torch.Size([3, 224, 224]), Type: torch.float32\n",
            "Frame shape: torch.Size([3, 224, 224]), Type: torch.float32\n",
            "Frame shape: torch.Size([3, 224, 224]), Type: torch.float32\n",
            "Frame shape: torch.Size([3, 224, 224]), Type: torch.float32\n",
            "Frame shape: torch.Size([3, 224, 224]), Type: torch.float32\n",
            "Frame shape: torch.Size([3, 224, 224]), Type: torch.float32\n",
            "Frame shape: torch.Size([3, 224, 224]), Type: torch.float32\n",
            "Frame shape: torch.Size([3, 224, 224]), Type: torch.float32\n",
            "Frame shape: torch.Size([3, 224, 224]), Type: torch.float32\n",
            "Frame shape: torch.Size([3, 224, 224]), Type: torch.float32\n",
            "Frame shape: torch.Size([3, 224, 224]), Type: torch.float32\n",
            "Frame shape: torch.Size([3, 224, 224]), Type: torch.float32\n",
            "Frame shape: torch.Size([3, 224, 224]), Type: torch.float32\n",
            "Frame shape: torch.Size([3, 224, 224]), Type: torch.float32\n",
            "Frame shape: torch.Size([3, 224, 224]), Type: torch.float32\n",
            "Frame shape: torch.Size([3, 224, 224]), Type: torch.float32\n",
            "Frame shape: torch.Size([3, 224, 224]), Type: torch.float32\n",
            "Frame shape: torch.Size([3, 224, 224]), Type: torch.float32\n",
            "Frame shape: torch.Size([3, 224, 224]), Type: torch.float32\n",
            "Frame shape: torch.Size([3, 224, 224]), Type: torch.float32\n"
          ]
        },
        {
          "output_type": "stream",
          "name": "stderr",
          "text": [
            "Training:  85%|████████▌ | 17/20 [03:31<00:38, 12.94s/it, gpu_load=2.08GB, loss=2.5543]"
          ]
        },
        {
          "output_type": "stream",
          "name": "stdout",
          "text": [
            "Frame shape: torch.Size([3, 224, 224]), Type: torch.float32\n",
            "Frame shape: torch.Size([3, 224, 224]), Type: torch.float32\n",
            "Frame shape: torch.Size([3, 224, 224]), Type: torch.float32\n",
            "Frame shape: torch.Size([3, 224, 224]), Type: torch.float32\n",
            "Frame shape: torch.Size([3, 224, 224]), Type: torch.float32\n",
            "Frame shape: torch.Size([3, 224, 224]), Type: torch.float32\n",
            "Frame shape: torch.Size([3, 224, 224]), Type: torch.float32\n",
            "Frame shape: torch.Size([3, 224, 224]), Type: torch.float32\n",
            "Frame shape: torch.Size([3, 224, 224]), Type: torch.float32\n",
            "Frame shape: torch.Size([3, 224, 224]), Type: torch.float32\n",
            "Frame shape: torch.Size([3, 224, 224]), Type: torch.float32\n",
            "Frame shape: torch.Size([3, 224, 224]), Type: torch.float32\n",
            "Frame shape: torch.Size([3, 224, 224]), Type: torch.float32\n",
            "Frame shape: torch.Size([3, 224, 224]), Type: torch.float32\n",
            "Frame shape: torch.Size([3, 224, 224]), Type: torch.float32\n",
            "Frame shape: torch.Size([3, 224, 224]), Type: torch.float32\n",
            "Frame shape: torch.Size([3, 224, 224]), Type: torch.float32\n",
            "Frame shape: torch.Size([3, 224, 224]), Type: torch.float32\n",
            "Frame shape: torch.Size([3, 224, 224]), Type: torch.float32\n",
            "Frame shape: torch.Size([3, 224, 224]), Type: torch.float32\n",
            "Frame shape: torch.Size([3, 224, 224]), Type: torch.float32\n",
            "Frame shape: torch.Size([3, 224, 224]), Type: torch.float32\n",
            "Frame shape: torch.Size([3, 224, 224]), Type: torch.float32\n",
            "Frame shape: torch.Size([3, 224, 224]), Type: torch.float32\n"
          ]
        },
        {
          "output_type": "stream",
          "name": "stderr",
          "text": [
            "Training:  90%|█████████ | 18/20 [03:41<00:23, 11.88s/it, gpu_load=2.08GB, loss=2.4726]"
          ]
        },
        {
          "output_type": "stream",
          "name": "stdout",
          "text": [
            "Frame shape: torch.Size([3, 224, 224]), Type: torch.float32\n",
            "Frame shape: torch.Size([3, 224, 224]), Type: torch.float32\n",
            "Frame shape: torch.Size([3, 224, 224]), Type: torch.float32\n",
            "Frame shape: torch.Size([3, 224, 224]), Type: torch.float32\n",
            "Frame shape: torch.Size([3, 224, 224]), Type: torch.float32\n",
            "Frame shape: torch.Size([3, 224, 224]), Type: torch.float32\n",
            "Frame shape: torch.Size([3, 224, 224]), Type: torch.float32\n",
            "Frame shape: torch.Size([3, 224, 224]), Type: torch.float32\n",
            "Frame shape: torch.Size([3, 224, 224]), Type: torch.float32\n",
            "Frame shape: torch.Size([3, 224, 224]), Type: torch.float32\n",
            "Frame shape: torch.Size([3, 224, 224]), Type: torch.float32\n",
            "Frame shape: torch.Size([3, 224, 224]), Type: torch.float32\n",
            "Frame shape: torch.Size([3, 224, 224]), Type: torch.float32\n",
            "Frame shape: torch.Size([3, 224, 224]), Type: torch.float32\n",
            "Frame shape: torch.Size([3, 224, 224]), Type: torch.float32\n",
            "Frame shape: torch.Size([3, 224, 224]), Type: torch.float32\n",
            "Frame shape: torch.Size([3, 224, 224]), Type: torch.float32\n",
            "Frame shape: torch.Size([3, 224, 224]), Type: torch.float32\n",
            "Frame shape: torch.Size([3, 224, 224]), Type: torch.float32\n",
            "Frame shape: torch.Size([3, 224, 224]), Type: torch.float32\n",
            "Frame shape: torch.Size([3, 224, 224]), Type: torch.float32\n",
            "Frame shape: torch.Size([3, 224, 224]), Type: torch.float32\n",
            "Frame shape: torch.Size([3, 224, 224]), Type: torch.float32\n",
            "Frame shape: torch.Size([3, 224, 224]), Type: torch.float32\n"
          ]
        },
        {
          "output_type": "stream",
          "name": "stderr",
          "text": [
            "Training:  95%|█████████▌| 19/20 [03:53<00:11, 11.99s/it, gpu_load=2.07GB, loss=2.2466]"
          ]
        },
        {
          "output_type": "stream",
          "name": "stdout",
          "text": [
            "Frame shape: torch.Size([3, 224, 224]), Type: torch.float32\n",
            "Frame shape: torch.Size([3, 224, 224]), Type: torch.float32\n",
            "Frame shape: torch.Size([3, 224, 224]), Type: torch.float32\n",
            "Frame shape: torch.Size([3, 224, 224]), Type: torch.float32\n",
            "Frame shape: torch.Size([3, 224, 224]), Type: torch.float32\n",
            "Frame shape: torch.Size([3, 224, 224]), Type: torch.float32\n",
            "Frame shape: torch.Size([3, 224, 224]), Type: torch.float32\n",
            "Frame shape: torch.Size([3, 224, 224]), Type: torch.float32\n",
            "Frame shape: torch.Size([3, 224, 224]), Type: torch.float32\n",
            "Frame shape: torch.Size([3, 224, 224]), Type: torch.float32\n",
            "Frame shape: torch.Size([3, 224, 224]), Type: torch.float32\n",
            "Frame shape: torch.Size([3, 224, 224]), Type: torch.float32\n",
            "Frame shape: torch.Size([3, 224, 224]), Type: torch.float32\n",
            "Frame shape: torch.Size([3, 224, 224]), Type: torch.float32\n",
            "Frame shape: torch.Size([3, 224, 224]), Type: torch.float32\n",
            "Frame shape: torch.Size([3, 224, 224]), Type: torch.float32\n",
            "Frame shape: torch.Size([3, 224, 224]), Type: torch.float32\n",
            "Frame shape: torch.Size([3, 224, 224]), Type: torch.float32\n",
            "Frame shape: torch.Size([3, 224, 224]), Type: torch.float32\n",
            "Frame shape: torch.Size([3, 224, 224]), Type: torch.float32\n",
            "Frame shape: torch.Size([3, 224, 224]), Type: torch.float32\n"
          ]
        },
        {
          "output_type": "stream",
          "name": "stderr",
          "text": [
            "Training: 100%|██████████| 20/20 [04:04<00:00, 12.23s/it, gpu_load=1.83GB, loss=2.3059]\n"
          ]
        },
        {
          "output_type": "stream",
          "name": "stdout",
          "text": [
            "Frame shape: torch.Size([3, 224, 224]), Type: torch.float32\n"
          ]
        },
        {
          "output_type": "stream",
          "name": "stderr",
          "text": [
            "\rTesting:   0%|          | 0/5 [00:00<?, ?it/s]"
          ]
        },
        {
          "output_type": "stream",
          "name": "stdout",
          "text": [
            "Frame shape: torch.Size([3, 224, 224]), Type: torch.float32\n",
            "Frame shape: torch.Size([3, 224, 224]), Type: torch.float32\n",
            "Frame shape: torch.Size([3, 224, 224]), Type: torch.float32\n",
            "Frame shape: torch.Size([3, 224, 224]), Type: torch.float32\n",
            "Frame shape: torch.Size([3, 224, 224]), Type: torch.float32\n",
            "Frame shape: torch.Size([3, 224, 224]), Type: torch.float32\n",
            "Frame shape: torch.Size([3, 224, 224]), Type: torch.float32\n",
            "Frame shape: torch.Size([3, 224, 224]), Type: torch.float32\n",
            "Frame shape: torch.Size([3, 224, 224]), Type: torch.float32\n",
            "Frame shape: torch.Size([3, 224, 224]), Type: torch.float32\n",
            "Frame shape: torch.Size([3, 224, 224]), Type: torch.float32\n",
            "Frame shape: torch.Size([3, 224, 224]), Type: torch.float32\n",
            "Frame shape: torch.Size([3, 224, 224]), Type: torch.float32\n",
            "Frame shape: torch.Size([3, 224, 224]), Type: torch.float32\n",
            "Frame shape: torch.Size([3, 224, 224]), Type: torch.float32\n",
            "Frame shape: torch.Size([3, 224, 224]), Type: torch.float32\n",
            "Frame shape: torch.Size([3, 224, 224]), Type: torch.float32\n",
            "Frame shape: torch.Size([3, 224, 224]), Type: torch.float32\n",
            "Frame shape: torch.Size([3, 224, 224]), Type: torch.float32\n",
            "Frame shape: torch.Size([3, 224, 224]), Type: torch.float32\n",
            "Frame shape: torch.Size([3, 224, 224]), Type: torch.float32\n",
            "Frame shape: torch.Size([3, 224, 224]), Type: torch.float32\n",
            "Frame shape: torch.Size([3, 224, 224]), Type: torch.float32\n"
          ]
        },
        {
          "output_type": "stream",
          "name": "stderr",
          "text": [
            "Testing:  20%|██        | 1/5 [00:12<00:50, 12.73s/it, loss=2.7003]"
          ]
        },
        {
          "output_type": "stream",
          "name": "stdout",
          "text": [
            "Frame shape: torch.Size([3, 224, 224]), Type: torch.float32\n",
            "Frame shape: torch.Size([3, 224, 224]), Type: torch.float32\n",
            "Frame shape: torch.Size([3, 224, 224]), Type: torch.float32\n",
            "Frame shape: torch.Size([3, 224, 224]), Type: torch.float32\n",
            "Frame shape: torch.Size([3, 224, 224]), Type: torch.float32\n",
            "Frame shape: torch.Size([3, 224, 224]), Type: torch.float32\n",
            "Frame shape: torch.Size([3, 224, 224]), Type: torch.float32\n",
            "Frame shape: torch.Size([3, 224, 224]), Type: torch.float32\n",
            "Frame shape: torch.Size([3, 224, 224]), Type: torch.float32\n",
            "Frame shape: torch.Size([3, 224, 224]), Type: torch.float32\n",
            "Frame shape: torch.Size([3, 224, 224]), Type: torch.float32\n",
            "Frame shape: torch.Size([3, 224, 224]), Type: torch.float32\n",
            "Frame shape: torch.Size([3, 224, 224]), Type: torch.float32\n",
            "Frame shape: torch.Size([3, 224, 224]), Type: torch.float32\n",
            "Frame shape: torch.Size([3, 224, 224]), Type: torch.float32\n",
            "Frame shape: torch.Size([3, 224, 224]), Type: torch.float32\n",
            "Frame shape: torch.Size([3, 224, 224]), Type: torch.float32\n",
            "Frame shape: torch.Size([3, 224, 224]), Type: torch.float32\n",
            "Frame shape: torch.Size([3, 224, 224]), Type: torch.float32\n",
            "Frame shape: torch.Size([3, 224, 224]), Type: torch.float32\n",
            "Frame shape: torch.Size([3, 224, 224]), Type: torch.float32\n",
            "Frame shape: torch.Size([3, 224, 224]), Type: torch.float32\n",
            "Frame shape: torch.Size([3, 224, 224]), Type: torch.float32\n",
            "Frame shape: torch.Size([3, 224, 224]), Type: torch.float32\n"
          ]
        },
        {
          "output_type": "stream",
          "name": "stderr",
          "text": [
            "Testing:  40%|████      | 2/5 [00:23<00:35, 11.84s/it, loss=2.3951]"
          ]
        },
        {
          "output_type": "stream",
          "name": "stdout",
          "text": [
            "Frame shape: torch.Size([3, 224, 224]), Type: torch.float32\n",
            "Frame shape: torch.Size([3, 224, 224]), Type: torch.float32\n",
            "Frame shape: torch.Size([3, 224, 224]), Type: torch.float32\n",
            "Frame shape: torch.Size([3, 224, 224]), Type: torch.float32\n",
            "Frame shape: torch.Size([3, 224, 224]), Type: torch.float32\n",
            "Frame shape: torch.Size([3, 224, 224]), Type: torch.float32\n",
            "Frame shape: torch.Size([3, 224, 224]), Type: torch.float32\n",
            "Frame shape: torch.Size([3, 224, 224]), Type: torch.float32\n",
            "Frame shape: torch.Size([3, 224, 224]), Type: torch.float32\n",
            "Frame shape: torch.Size([3, 224, 224]), Type: torch.float32\n",
            "Frame shape: torch.Size([3, 224, 224]), Type: torch.float32\n",
            "Frame shape: torch.Size([3, 224, 224]), Type: torch.float32\n",
            "Frame shape: torch.Size([3, 224, 224]), Type: torch.float32\n",
            "Frame shape: torch.Size([3, 224, 224]), Type: torch.float32\n",
            "Frame shape: torch.Size([3, 224, 224]), Type: torch.float32\n",
            "Frame shape: torch.Size([3, 224, 224]), Type: torch.float32\n",
            "Frame shape: torch.Size([3, 224, 224]), Type: torch.float32\n",
            "Frame shape: torch.Size([3, 224, 224]), Type: torch.float32\n",
            "Frame shape: torch.Size([3, 224, 224]), Type: torch.float32\n",
            "Frame shape: torch.Size([3, 224, 224]), Type: torch.float32\n",
            "Frame shape: torch.Size([3, 224, 224]), Type: torch.float32\n",
            "Frame shape: torch.Size([3, 224, 224]), Type: torch.float32\n",
            "Frame shape: torch.Size([3, 224, 224]), Type: torch.float32\n",
            "Frame shape: torch.Size([3, 224, 224]), Type: torch.float32\n"
          ]
        },
        {
          "output_type": "stream",
          "name": "stderr",
          "text": [
            "Testing:  60%|██████    | 3/5 [00:37<00:25, 12.58s/it, loss=2.2473]"
          ]
        },
        {
          "output_type": "stream",
          "name": "stdout",
          "text": [
            "Frame shape: torch.Size([3, 224, 224]), Type: torch.float32\n",
            "Frame shape: torch.Size([3, 224, 224]), Type: torch.float32\n",
            "Frame shape: torch.Size([3, 224, 224]), Type: torch.float32\n",
            "Frame shape: torch.Size([3, 224, 224]), Type: torch.float32\n",
            "Frame shape: torch.Size([3, 224, 224]), Type: torch.float32\n",
            "Frame shape: torch.Size([3, 224, 224]), Type: torch.float32\n",
            "Frame shape: torch.Size([3, 224, 224]), Type: torch.float32\n",
            "Frame shape: torch.Size([3, 224, 224]), Type: torch.float32\n",
            "Frame shape: torch.Size([3, 224, 224]), Type: torch.float32\n",
            "Frame shape: torch.Size([3, 224, 224]), Type: torch.float32\n",
            "Frame shape: torch.Size([3, 224, 224]), Type: torch.float32\n",
            "Frame shape: torch.Size([3, 224, 224]), Type: torch.float32\n",
            "Frame shape: torch.Size([3, 224, 224]), Type: torch.float32\n",
            "Frame shape: torch.Size([3, 224, 224]), Type: torch.float32\n",
            "Frame shape: torch.Size([3, 224, 224]), Type: torch.float32\n",
            "Frame shape: torch.Size([3, 224, 224]), Type: torch.float32\n",
            "Frame shape: torch.Size([3, 224, 224]), Type: torch.float32\n",
            "Frame shape: torch.Size([3, 224, 224]), Type: torch.float32\n",
            "Frame shape: torch.Size([3, 224, 224]), Type: torch.float32\n",
            "Frame shape: torch.Size([3, 224, 224]), Type: torch.float32\n",
            "Frame shape: torch.Size([3, 224, 224]), Type: torch.float32\n",
            "Frame shape: torch.Size([3, 224, 224]), Type: torch.float32\n",
            "Frame shape: torch.Size([3, 224, 224]), Type: torch.float32\n",
            "Frame shape: torch.Size([3, 224, 224]), Type: torch.float32\n"
          ]
        },
        {
          "output_type": "stream",
          "name": "stderr",
          "text": [
            "Testing:  80%|████████  | 4/5 [00:49<00:12, 12.38s/it, loss=2.7732]"
          ]
        },
        {
          "output_type": "stream",
          "name": "stdout",
          "text": [
            "Frame shape: torch.Size([3, 224, 224]), Type: torch.float32\n",
            "Frame shape: torch.Size([3, 224, 224]), Type: torch.float32\n",
            "Frame shape: torch.Size([3, 224, 224]), Type: torch.float32\n",
            "Frame shape: torch.Size([3, 224, 224]), Type: torch.float32\n",
            "Frame shape: torch.Size([3, 224, 224]), Type: torch.float32\n",
            "Frame shape: torch.Size([3, 224, 224]), Type: torch.float32\n",
            "Frame shape: torch.Size([3, 224, 224]), Type: torch.float32\n",
            "Frame shape: torch.Size([3, 224, 224]), Type: torch.float32\n",
            "Frame shape: torch.Size([3, 224, 224]), Type: torch.float32\n",
            "Frame shape: torch.Size([3, 224, 224]), Type: torch.float32\n",
            "Frame shape: torch.Size([3, 224, 224]), Type: torch.float32\n",
            "Frame shape: torch.Size([3, 224, 224]), Type: torch.float32\n",
            "Frame shape: torch.Size([3, 224, 224]), Type: torch.float32\n",
            "Frame shape: torch.Size([3, 224, 224]), Type: torch.float32\n",
            "Frame shape: torch.Size([3, 224, 224]), Type: torch.float32\n",
            "Frame shape: torch.Size([3, 224, 224]), Type: torch.float32\n",
            "Frame shape: torch.Size([3, 224, 224]), Type: torch.float32\n",
            "Frame shape: torch.Size([3, 224, 224]), Type: torch.float32\n",
            "Frame shape: torch.Size([3, 224, 224]), Type: torch.float32\n",
            "Frame shape: torch.Size([3, 224, 224]), Type: torch.float32\n",
            "Frame shape: torch.Size([3, 224, 224]), Type: torch.float32\n",
            "Frame shape: torch.Size([3, 224, 224]), Type: torch.float32\n",
            "Frame shape: torch.Size([3, 224, 224]), Type: torch.float32\n",
            "Frame shape: torch.Size([3, 224, 224]), Type: torch.float32\n"
          ]
        },
        {
          "output_type": "stream",
          "name": "stderr",
          "text": [
            "Testing: 100%|██████████| 5/5 [01:01<00:00, 12.22s/it, loss=2.6197]"
          ]
        },
        {
          "output_type": "stream",
          "name": "stdout",
          "text": [
            "Frame shape: torch.Size([3, 224, 224]), Type: torch.float32\n",
            "epoch: 2, lr_rate 0.001\n",
            "loss_train: 2.4173| loss_valid: 2.5471|\n",
            "metric 0.183333\n",
            "Elapsed time: 00:05:05\n"
          ]
        },
        {
          "output_type": "stream",
          "name": "stderr",
          "text": [
            "\n"
          ]
        },
        {
          "output_type": "stream",
          "name": "stdout",
          "text": [
            "---------------------epoch:3/10---------------------\n"
          ]
        },
        {
          "output_type": "stream",
          "name": "stderr",
          "text": [
            "\rTraining:   0%|          | 0/20 [00:00<?, ?it/s]"
          ]
        },
        {
          "output_type": "stream",
          "name": "stdout",
          "text": [
            "Frame shape: torch.Size([3, 224, 224]), Type: torch.float32\n",
            "Frame shape: torch.Size([3, 224, 224]), Type: torch.float32\n",
            "Frame shape: torch.Size([3, 224, 224]), Type: torch.float32\n",
            "Frame shape: torch.Size([3, 224, 224]), Type: torch.float32\n",
            "Frame shape: torch.Size([3, 224, 224]), Type: torch.float32\n",
            "Frame shape: torch.Size([3, 224, 224]), Type: torch.float32\n",
            "Frame shape: torch.Size([3, 224, 224]), Type: torch.float32\n",
            "Frame shape: torch.Size([3, 224, 224]), Type: torch.float32\n",
            "Frame shape: torch.Size([3, 224, 224]), Type: torch.float32\n",
            "Frame shape: torch.Size([3, 224, 224]), Type: torch.float32\n",
            "Frame shape: torch.Size([3, 224, 224]), Type: torch.float32\n",
            "Frame shape: torch.Size([3, 224, 224]), Type: torch.float32\n",
            "Frame shape: torch.Size([3, 224, 224]), Type: torch.float32\n",
            "Frame shape: torch.Size([3, 224, 224]), Type: torch.float32\n",
            "Frame shape: torch.Size([3, 224, 224]), Type: torch.float32\n",
            "Frame shape: torch.Size([3, 224, 224]), Type: torch.float32\n",
            "Frame shape: torch.Size([3, 224, 224]), Type: torch.float32\n",
            "Frame shape: torch.Size([3, 224, 224]), Type: torch.float32\n",
            "Frame shape: torch.Size([3, 224, 224]), Type: torch.float32\n",
            "Frame shape: torch.Size([3, 224, 224]), Type: torch.float32\n",
            "Frame shape: torch.Size([3, 224, 224]), Type: torch.float32\n",
            "Frame shape: torch.Size([3, 224, 224]), Type: torch.float32\n",
            "Frame shape: torch.Size([3, 224, 224]), Type: torch.float32\n"
          ]
        },
        {
          "output_type": "stream",
          "name": "stderr",
          "text": [
            "Training:   5%|▌         | 1/20 [00:12<03:52, 12.22s/it, gpu_load=2.08GB, loss=2.0099]"
          ]
        },
        {
          "output_type": "stream",
          "name": "stdout",
          "text": [
            "Frame shape: torch.Size([3, 224, 224]), Type: torch.float32\n",
            "Frame shape: torch.Size([3, 224, 224]), Type: torch.float32\n",
            "Frame shape: torch.Size([3, 224, 224]), Type: torch.float32\n",
            "Frame shape: torch.Size([3, 224, 224]), Type: torch.float32\n",
            "Frame shape: torch.Size([3, 224, 224]), Type: torch.float32\n",
            "Frame shape: torch.Size([3, 224, 224]), Type: torch.float32\n",
            "Frame shape: torch.Size([3, 224, 224]), Type: torch.float32\n",
            "Frame shape: torch.Size([3, 224, 224]), Type: torch.float32\n",
            "Frame shape: torch.Size([3, 224, 224]), Type: torch.float32\n",
            "Frame shape: torch.Size([3, 224, 224]), Type: torch.float32\n",
            "Frame shape: torch.Size([3, 224, 224]), Type: torch.float32\n",
            "Frame shape: torch.Size([3, 224, 224]), Type: torch.float32\n",
            "Frame shape: torch.Size([3, 224, 224]), Type: torch.float32\n",
            "Frame shape: torch.Size([3, 224, 224]), Type: torch.float32\n",
            "Frame shape: torch.Size([3, 224, 224]), Type: torch.float32\n",
            "Frame shape: torch.Size([3, 224, 224]), Type: torch.float32\n",
            "Frame shape: torch.Size([3, 224, 224]), Type: torch.float32\n",
            "Frame shape: torch.Size([3, 224, 224]), Type: torch.float32\n",
            "Frame shape: torch.Size([3, 224, 224]), Type: torch.float32\n",
            "Frame shape: torch.Size([3, 224, 224]), Type: torch.float32\n",
            "Frame shape: torch.Size([3, 224, 224]), Type: torch.float32\n",
            "Frame shape: torch.Size([3, 224, 224]), Type: torch.float32\n",
            "Frame shape: torch.Size([3, 224, 224]), Type: torch.float32\n",
            "Frame shape: torch.Size([3, 224, 224]), Type: torch.float32\n"
          ]
        },
        {
          "output_type": "stream",
          "name": "stderr",
          "text": [
            "Training:  10%|█         | 2/20 [00:24<03:37, 12.10s/it, gpu_load=2.08GB, loss=2.1918]"
          ]
        },
        {
          "output_type": "stream",
          "name": "stdout",
          "text": [
            "Frame shape: torch.Size([3, 224, 224]), Type: torch.float32\n",
            "Frame shape: torch.Size([3, 224, 224]), Type: torch.float32\n",
            "Frame shape: torch.Size([3, 224, 224]), Type: torch.float32\n",
            "Frame shape: torch.Size([3, 224, 224]), Type: torch.float32\n",
            "Frame shape: torch.Size([3, 224, 224]), Type: torch.float32\n",
            "Frame shape: torch.Size([3, 224, 224]), Type: torch.float32\n",
            "Frame shape: torch.Size([3, 224, 224]), Type: torch.float32\n",
            "Frame shape: torch.Size([3, 224, 224]), Type: torch.float32\n",
            "Frame shape: torch.Size([3, 224, 224]), Type: torch.float32\n",
            "Frame shape: torch.Size([3, 224, 224]), Type: torch.float32\n",
            "Frame shape: torch.Size([3, 224, 224]), Type: torch.float32\n",
            "Frame shape: torch.Size([3, 224, 224]), Type: torch.float32\n",
            "Frame shape: torch.Size([3, 224, 224]), Type: torch.float32\n",
            "Frame shape: torch.Size([3, 224, 224]), Type: torch.float32\n",
            "Frame shape: torch.Size([3, 224, 224]), Type: torch.float32\n",
            "Frame shape: torch.Size([3, 224, 224]), Type: torch.float32\n",
            "Frame shape: torch.Size([3, 224, 224]), Type: torch.float32\n",
            "Frame shape: torch.Size([3, 224, 224]), Type: torch.float32\n",
            "Frame shape: torch.Size([3, 224, 224]), Type: torch.float32\n",
            "Frame shape: torch.Size([3, 224, 224]), Type: torch.float32\n",
            "Frame shape: torch.Size([3, 224, 224]), Type: torch.float32\n",
            "Frame shape: torch.Size([3, 224, 224]), Type: torch.float32\n",
            "Frame shape: torch.Size([3, 224, 224]), Type: torch.float32\n",
            "Frame shape: torch.Size([3, 224, 224]), Type: torch.float32\n"
          ]
        },
        {
          "output_type": "stream",
          "name": "stderr",
          "text": [
            "Training:  15%|█▌        | 3/20 [00:37<03:35, 12.68s/it, gpu_load=2.08GB, loss=2.3021]"
          ]
        },
        {
          "output_type": "stream",
          "name": "stdout",
          "text": [
            "Frame shape: torch.Size([3, 224, 224]), Type: torch.float32\n",
            "Frame shape: torch.Size([3, 224, 224]), Type: torch.float32\n",
            "Frame shape: torch.Size([3, 224, 224]), Type: torch.float32\n",
            "Frame shape: torch.Size([3, 224, 224]), Type: torch.float32\n",
            "Frame shape: torch.Size([3, 224, 224]), Type: torch.float32\n",
            "Frame shape: torch.Size([3, 224, 224]), Type: torch.float32\n",
            "Frame shape: torch.Size([3, 224, 224]), Type: torch.float32\n",
            "Frame shape: torch.Size([3, 224, 224]), Type: torch.float32\n",
            "Frame shape: torch.Size([3, 224, 224]), Type: torch.float32\n",
            "Frame shape: torch.Size([3, 224, 224]), Type: torch.float32\n",
            "Frame shape: torch.Size([3, 224, 224]), Type: torch.float32\n",
            "Frame shape: torch.Size([3, 224, 224]), Type: torch.float32\n",
            "Frame shape: torch.Size([3, 224, 224]), Type: torch.float32\n",
            "Frame shape: torch.Size([3, 224, 224]), Type: torch.float32\n",
            "Frame shape: torch.Size([3, 224, 224]), Type: torch.float32\n",
            "Frame shape: torch.Size([3, 224, 224]), Type: torch.float32\n",
            "Frame shape: torch.Size([3, 224, 224]), Type: torch.float32\n",
            "Frame shape: torch.Size([3, 224, 224]), Type: torch.float32\n",
            "Frame shape: torch.Size([3, 224, 224]), Type: torch.float32\n",
            "Frame shape: torch.Size([3, 224, 224]), Type: torch.float32\n",
            "Frame shape: torch.Size([3, 224, 224]), Type: torch.float32\n",
            "Frame shape: torch.Size([3, 224, 224]), Type: torch.float32\n",
            "Frame shape: torch.Size([3, 224, 224]), Type: torch.float32\n",
            "Frame shape: torch.Size([3, 224, 224]), Type: torch.float32\n"
          ]
        },
        {
          "output_type": "stream",
          "name": "stderr",
          "text": [
            "Training:  20%|██        | 4/20 [00:49<03:16, 12.27s/it, gpu_load=2.08GB, loss=2.1366]"
          ]
        },
        {
          "output_type": "stream",
          "name": "stdout",
          "text": [
            "Frame shape: torch.Size([3, 224, 224]), Type: torch.float32\n",
            "Frame shape: torch.Size([3, 224, 224]), Type: torch.float32\n",
            "Frame shape: torch.Size([3, 224, 224]), Type: torch.float32\n",
            "Frame shape: torch.Size([3, 224, 224]), Type: torch.float32\n",
            "Frame shape: torch.Size([3, 224, 224]), Type: torch.float32\n",
            "Frame shape: torch.Size([3, 224, 224]), Type: torch.float32\n",
            "Frame shape: torch.Size([3, 224, 224]), Type: torch.float32\n",
            "Frame shape: torch.Size([3, 224, 224]), Type: torch.float32\n",
            "Frame shape: torch.Size([3, 224, 224]), Type: torch.float32\n",
            "Frame shape: torch.Size([3, 224, 224]), Type: torch.float32\n",
            "Frame shape: torch.Size([3, 224, 224]), Type: torch.float32\n",
            "Frame shape: torch.Size([3, 224, 224]), Type: torch.float32\n",
            "Frame shape: torch.Size([3, 224, 224]), Type: torch.float32\n",
            "Frame shape: torch.Size([3, 224, 224]), Type: torch.float32\n",
            "Frame shape: torch.Size([3, 224, 224]), Type: torch.float32\n",
            "Frame shape: torch.Size([3, 224, 224]), Type: torch.float32\n",
            "Frame shape: torch.Size([3, 224, 224]), Type: torch.float32\n",
            "Frame shape: torch.Size([3, 224, 224]), Type: torch.float32\n",
            "Frame shape: torch.Size([3, 224, 224]), Type: torch.float32\n",
            "Frame shape: torch.Size([3, 224, 224]), Type: torch.float32\n",
            "Frame shape: torch.Size([3, 224, 224]), Type: torch.float32\n",
            "Frame shape: torch.Size([3, 224, 224]), Type: torch.float32\n",
            "Frame shape: torch.Size([3, 224, 224]), Type: torch.float32\n",
            "Frame shape: torch.Size([3, 224, 224]), Type: torch.float32\n"
          ]
        },
        {
          "output_type": "stream",
          "name": "stderr",
          "text": [
            "Training:  25%|██▌       | 5/20 [01:01<03:03, 12.22s/it, gpu_load=2.08GB, loss=2.1895]"
          ]
        },
        {
          "output_type": "stream",
          "name": "stdout",
          "text": [
            "Frame shape: torch.Size([3, 224, 224]), Type: torch.float32\n",
            "Frame shape: torch.Size([3, 224, 224]), Type: torch.float32\n",
            "Frame shape: torch.Size([3, 224, 224]), Type: torch.float32\n",
            "Frame shape: torch.Size([3, 224, 224]), Type: torch.float32\n",
            "Frame shape: torch.Size([3, 224, 224]), Type: torch.float32\n",
            "Frame shape: torch.Size([3, 224, 224]), Type: torch.float32\n",
            "Frame shape: torch.Size([3, 224, 224]), Type: torch.float32\n",
            "Frame shape: torch.Size([3, 224, 224]), Type: torch.float32\n",
            "Frame shape: torch.Size([3, 224, 224]), Type: torch.float32\n",
            "Frame shape: torch.Size([3, 224, 224]), Type: torch.float32\n",
            "Frame shape: torch.Size([3, 224, 224]), Type: torch.float32\n",
            "Frame shape: torch.Size([3, 224, 224]), Type: torch.float32\n",
            "Frame shape: torch.Size([3, 224, 224]), Type: torch.float32\n",
            "Frame shape: torch.Size([3, 224, 224]), Type: torch.float32\n",
            "Frame shape: torch.Size([3, 224, 224]), Type: torch.float32\n",
            "Frame shape: torch.Size([3, 224, 224]), Type: torch.float32\n",
            "Frame shape: torch.Size([3, 224, 224]), Type: torch.float32\n",
            "Frame shape: torch.Size([3, 224, 224]), Type: torch.float32\n",
            "Frame shape: torch.Size([3, 224, 224]), Type: torch.float32\n",
            "Frame shape: torch.Size([3, 224, 224]), Type: torch.float32\n",
            "Frame shape: torch.Size([3, 224, 224]), Type: torch.float32\n",
            "Frame shape: torch.Size([3, 224, 224]), Type: torch.float32\n",
            "Frame shape: torch.Size([3, 224, 224]), Type: torch.float32\n",
            "Frame shape: torch.Size([3, 224, 224]), Type: torch.float32\n"
          ]
        },
        {
          "output_type": "stream",
          "name": "stderr",
          "text": [
            "Training:  30%|███       | 6/20 [01:12<02:45, 11.79s/it, gpu_load=2.08GB, loss=2.2995]"
          ]
        },
        {
          "output_type": "stream",
          "name": "stdout",
          "text": [
            "Frame shape: torch.Size([3, 224, 224]), Type: torch.float32\n",
            "Frame shape: torch.Size([3, 224, 224]), Type: torch.float32\n",
            "Frame shape: torch.Size([3, 224, 224]), Type: torch.float32\n",
            "Frame shape: torch.Size([3, 224, 224]), Type: torch.float32\n",
            "Frame shape: torch.Size([3, 224, 224]), Type: torch.float32\n",
            "Frame shape: torch.Size([3, 224, 224]), Type: torch.float32\n",
            "Frame shape: torch.Size([3, 224, 224]), Type: torch.float32\n",
            "Frame shape: torch.Size([3, 224, 224]), Type: torch.float32\n",
            "Frame shape: torch.Size([3, 224, 224]), Type: torch.float32\n",
            "Frame shape: torch.Size([3, 224, 224]), Type: torch.float32\n",
            "Frame shape: torch.Size([3, 224, 224]), Type: torch.float32\n",
            "Frame shape: torch.Size([3, 224, 224]), Type: torch.float32\n",
            "Frame shape: torch.Size([3, 224, 224]), Type: torch.float32\n",
            "Frame shape: torch.Size([3, 224, 224]), Type: torch.float32\n",
            "Frame shape: torch.Size([3, 224, 224]), Type: torch.float32\n",
            "Frame shape: torch.Size([3, 224, 224]), Type: torch.float32\n",
            "Frame shape: torch.Size([3, 224, 224]), Type: torch.float32\n",
            "Frame shape: torch.Size([3, 224, 224]), Type: torch.float32\n",
            "Frame shape: torch.Size([3, 224, 224]), Type: torch.float32\n",
            "Frame shape: torch.Size([3, 224, 224]), Type: torch.float32\n",
            "Frame shape: torch.Size([3, 224, 224]), Type: torch.float32\n",
            "Frame shape: torch.Size([3, 224, 224]), Type: torch.float32\n",
            "Frame shape: torch.Size([3, 224, 224]), Type: torch.float32\n",
            "Frame shape: torch.Size([3, 224, 224]), Type: torch.float32\n"
          ]
        },
        {
          "output_type": "stream",
          "name": "stderr",
          "text": [
            "Training:  35%|███▌      | 7/20 [01:25<02:37, 12.14s/it, gpu_load=2.08GB, loss=2.2340]"
          ]
        },
        {
          "output_type": "stream",
          "name": "stdout",
          "text": [
            "Frame shape: torch.Size([3, 224, 224]), Type: torch.float32\n",
            "Frame shape: torch.Size([3, 224, 224]), Type: torch.float32\n",
            "Frame shape: torch.Size([3, 224, 224]), Type: torch.float32\n",
            "Frame shape: torch.Size([3, 224, 224]), Type: torch.float32\n",
            "Frame shape: torch.Size([3, 224, 224]), Type: torch.float32\n",
            "Frame shape: torch.Size([3, 224, 224]), Type: torch.float32\n",
            "Frame shape: torch.Size([3, 224, 224]), Type: torch.float32\n",
            "Frame shape: torch.Size([3, 224, 224]), Type: torch.float32\n",
            "Frame shape: torch.Size([3, 224, 224]), Type: torch.float32\n",
            "Frame shape: torch.Size([3, 224, 224]), Type: torch.float32\n",
            "Frame shape: torch.Size([3, 224, 224]), Type: torch.float32\n",
            "Frame shape: torch.Size([3, 224, 224]), Type: torch.float32\n",
            "Frame shape: torch.Size([3, 224, 224]), Type: torch.float32\n",
            "Frame shape: torch.Size([3, 224, 224]), Type: torch.float32\n",
            "Frame shape: torch.Size([3, 224, 224]), Type: torch.float32\n",
            "Frame shape: torch.Size([3, 224, 224]), Type: torch.float32\n",
            "Frame shape: torch.Size([3, 224, 224]), Type: torch.float32\n",
            "Frame shape: torch.Size([3, 224, 224]), Type: torch.float32\n",
            "Frame shape: torch.Size([3, 224, 224]), Type: torch.float32\n",
            "Frame shape: torch.Size([3, 224, 224]), Type: torch.float32\n",
            "Frame shape: torch.Size([3, 224, 224]), Type: torch.float32\n",
            "Frame shape: torch.Size([3, 224, 224]), Type: torch.float32\n",
            "Frame shape: torch.Size([3, 224, 224]), Type: torch.float32\n",
            "Frame shape: torch.Size([3, 224, 224]), Type: torch.float32\n",
            "Frame shape: torch.Size([3, 224, 224]), Type: torch.float32\n"
          ]
        },
        {
          "output_type": "stream",
          "name": "stderr",
          "text": [
            "Training:  40%|████      | 8/20 [01:37<02:25, 12.09s/it, gpu_load=2.08GB, loss=1.9950]"
          ]
        },
        {
          "output_type": "stream",
          "name": "stdout",
          "text": [
            "Frame shape: torch.Size([3, 224, 224]), Type: torch.float32\n",
            "Frame shape: torch.Size([3, 224, 224]), Type: torch.float32\n",
            "Frame shape: torch.Size([3, 224, 224]), Type: torch.float32\n",
            "Frame shape: torch.Size([3, 224, 224]), Type: torch.float32\n",
            "Frame shape: torch.Size([3, 224, 224]), Type: torch.float32\n",
            "Frame shape: torch.Size([3, 224, 224]), Type: torch.float32\n",
            "Frame shape: torch.Size([3, 224, 224]), Type: torch.float32\n",
            "Frame shape: torch.Size([3, 224, 224]), Type: torch.float32\n",
            "Frame shape: torch.Size([3, 224, 224]), Type: torch.float32\n",
            "Frame shape: torch.Size([3, 224, 224]), Type: torch.float32\n",
            "Frame shape: torch.Size([3, 224, 224]), Type: torch.float32\n",
            "Frame shape: torch.Size([3, 224, 224]), Type: torch.float32\n",
            "Frame shape: torch.Size([3, 224, 224]), Type: torch.float32\n",
            "Frame shape: torch.Size([3, 224, 224]), Type: torch.float32\n",
            "Frame shape: torch.Size([3, 224, 224]), Type: torch.float32\n",
            "Frame shape: torch.Size([3, 224, 224]), Type: torch.float32\n",
            "Frame shape: torch.Size([3, 224, 224]), Type: torch.float32\n",
            "Frame shape: torch.Size([3, 224, 224]), Type: torch.float32\n",
            "Frame shape: torch.Size([3, 224, 224]), Type: torch.float32\n",
            "Frame shape: torch.Size([3, 224, 224]), Type: torch.float32\n",
            "Frame shape: torch.Size([3, 224, 224]), Type: torch.float32\n",
            "Frame shape: torch.Size([3, 224, 224]), Type: torch.float32\n",
            "Frame shape: torch.Size([3, 224, 224]), Type: torch.float32\n"
          ]
        },
        {
          "output_type": "stream",
          "name": "stderr",
          "text": [
            "Training:  45%|████▌     | 9/20 [01:50<02:18, 12.62s/it, gpu_load=2.08GB, loss=1.9429]"
          ]
        },
        {
          "output_type": "stream",
          "name": "stdout",
          "text": [
            "Frame shape: torch.Size([3, 224, 224]), Type: torch.float32\n",
            "Frame shape: torch.Size([3, 224, 224]), Type: torch.float32\n",
            "Frame shape: torch.Size([3, 224, 224]), Type: torch.float32\n",
            "Frame shape: torch.Size([3, 224, 224]), Type: torch.float32\n",
            "Frame shape: torch.Size([3, 224, 224]), Type: torch.float32\n",
            "Frame shape: torch.Size([3, 224, 224]), Type: torch.float32\n",
            "Frame shape: torch.Size([3, 224, 224]), Type: torch.float32\n",
            "Frame shape: torch.Size([3, 224, 224]), Type: torch.float32\n",
            "Frame shape: torch.Size([3, 224, 224]), Type: torch.float32\n",
            "Frame shape: torch.Size([3, 224, 224]), Type: torch.float32\n",
            "Frame shape: torch.Size([3, 224, 224]), Type: torch.float32\n",
            "Frame shape: torch.Size([3, 224, 224]), Type: torch.float32\n",
            "Frame shape: torch.Size([3, 224, 224]), Type: torch.float32\n",
            "Frame shape: torch.Size([3, 224, 224]), Type: torch.float32\n",
            "Frame shape: torch.Size([3, 224, 224]), Type: torch.float32\n",
            "Frame shape: torch.Size([3, 224, 224]), Type: torch.float32\n",
            "Frame shape: torch.Size([3, 224, 224]), Type: torch.float32\n",
            "Frame shape: torch.Size([3, 224, 224]), Type: torch.float32\n",
            "Frame shape: torch.Size([3, 224, 224]), Type: torch.float32\n",
            "Frame shape: torch.Size([3, 224, 224]), Type: torch.float32\n",
            "Frame shape: torch.Size([3, 224, 224]), Type: torch.float32\n",
            "Frame shape: torch.Size([3, 224, 224]), Type: torch.float32\n",
            "Frame shape: torch.Size([3, 224, 224]), Type: torch.float32\n",
            "Frame shape: torch.Size([3, 224, 224]), Type: torch.float32\n"
          ]
        },
        {
          "output_type": "stream",
          "name": "stderr",
          "text": [
            "Training:  50%|█████     | 10/20 [02:02<02:02, 12.28s/it, gpu_load=2.08GB, loss=2.1641]"
          ]
        },
        {
          "output_type": "stream",
          "name": "stdout",
          "text": [
            "Frame shape: torch.Size([3, 224, 224]), Type: torch.float32\n",
            "Frame shape: torch.Size([3, 224, 224]), Type: torch.float32\n",
            "Frame shape: torch.Size([3, 224, 224]), Type: torch.float32\n",
            "Frame shape: torch.Size([3, 224, 224]), Type: torch.float32\n",
            "Frame shape: torch.Size([3, 224, 224]), Type: torch.float32\n",
            "Frame shape: torch.Size([3, 224, 224]), Type: torch.float32\n",
            "Frame shape: torch.Size([3, 224, 224]), Type: torch.float32\n",
            "Frame shape: torch.Size([3, 224, 224]), Type: torch.float32\n",
            "Frame shape: torch.Size([3, 224, 224]), Type: torch.float32\n",
            "Frame shape: torch.Size([3, 224, 224]), Type: torch.float32\n",
            "Frame shape: torch.Size([3, 224, 224]), Type: torch.float32\n",
            "Frame shape: torch.Size([3, 224, 224]), Type: torch.float32\n",
            "Frame shape: torch.Size([3, 224, 224]), Type: torch.float32\n",
            "Frame shape: torch.Size([3, 224, 224]), Type: torch.float32\n",
            "Frame shape: torch.Size([3, 224, 224]), Type: torch.float32\n",
            "Frame shape: torch.Size([3, 224, 224]), Type: torch.float32\n",
            "Frame shape: torch.Size([3, 224, 224]), Type: torch.float32\n",
            "Frame shape: torch.Size([3, 224, 224]), Type: torch.float32\n",
            "Frame shape: torch.Size([3, 224, 224]), Type: torch.float32\n",
            "Frame shape: torch.Size([3, 224, 224]), Type: torch.float32\n",
            "Frame shape: torch.Size([3, 224, 224]), Type: torch.float32\n",
            "Frame shape: torch.Size([3, 224, 224]), Type: torch.float32\n",
            "Frame shape: torch.Size([3, 224, 224]), Type: torch.float32\n",
            "Frame shape: torch.Size([3, 224, 224]), Type: torch.float32\n"
          ]
        },
        {
          "output_type": "stream",
          "name": "stderr",
          "text": [
            "Training:  55%|█████▌    | 11/20 [02:14<01:49, 12.22s/it, gpu_load=2.08GB, loss=1.7914]"
          ]
        },
        {
          "output_type": "stream",
          "name": "stdout",
          "text": [
            "Frame shape: torch.Size([3, 224, 224]), Type: torch.float32\n",
            "Frame shape: torch.Size([3, 224, 224]), Type: torch.float32\n",
            "Frame shape: torch.Size([3, 224, 224]), Type: torch.float32\n",
            "Frame shape: torch.Size([3, 224, 224]), Type: torch.float32\n",
            "Frame shape: torch.Size([3, 224, 224]), Type: torch.float32\n",
            "Frame shape: torch.Size([3, 224, 224]), Type: torch.float32\n",
            "Frame shape: torch.Size([3, 224, 224]), Type: torch.float32\n",
            "Frame shape: torch.Size([3, 224, 224]), Type: torch.float32\n",
            "Frame shape: torch.Size([3, 224, 224]), Type: torch.float32\n",
            "Frame shape: torch.Size([3, 224, 224]), Type: torch.float32\n",
            "Frame shape: torch.Size([3, 224, 224]), Type: torch.float32\n",
            "Frame shape: torch.Size([3, 224, 224]), Type: torch.float32\n",
            "Frame shape: torch.Size([3, 224, 224]), Type: torch.float32\n",
            "Frame shape: torch.Size([3, 224, 224]), Type: torch.float32\n",
            "Frame shape: torch.Size([3, 224, 224]), Type: torch.float32\n",
            "Frame shape: torch.Size([3, 224, 224]), Type: torch.float32\n",
            "Frame shape: torch.Size([3, 224, 224]), Type: torch.float32\n",
            "Frame shape: torch.Size([3, 224, 224]), Type: torch.float32\n",
            "Frame shape: torch.Size([3, 224, 224]), Type: torch.float32\n",
            "Frame shape: torch.Size([3, 224, 224]), Type: torch.float32\n",
            "Frame shape: torch.Size([3, 224, 224]), Type: torch.float32\n",
            "Frame shape: torch.Size([3, 224, 224]), Type: torch.float32\n",
            "Frame shape: torch.Size([3, 224, 224]), Type: torch.float32\n",
            "Frame shape: torch.Size([3, 224, 224]), Type: torch.float32\n"
          ]
        },
        {
          "output_type": "stream",
          "name": "stderr",
          "text": [
            "Training:  60%|██████    | 12/20 [02:26<01:37, 12.17s/it, gpu_load=2.08GB, loss=2.4798]"
          ]
        },
        {
          "output_type": "stream",
          "name": "stdout",
          "text": [
            "Frame shape: torch.Size([3, 224, 224]), Type: torch.float32\n",
            "Frame shape: torch.Size([3, 224, 224]), Type: torch.float32\n",
            "Frame shape: torch.Size([3, 224, 224]), Type: torch.float32\n",
            "Frame shape: torch.Size([3, 224, 224]), Type: torch.float32\n",
            "Frame shape: torch.Size([3, 224, 224]), Type: torch.float32\n",
            "Frame shape: torch.Size([3, 224, 224]), Type: torch.float32\n",
            "Frame shape: torch.Size([3, 224, 224]), Type: torch.float32\n",
            "Frame shape: torch.Size([3, 224, 224]), Type: torch.float32\n",
            "Frame shape: torch.Size([3, 224, 224]), Type: torch.float32\n",
            "Frame shape: torch.Size([3, 224, 224]), Type: torch.float32\n",
            "Frame shape: torch.Size([3, 224, 224]), Type: torch.float32\n",
            "Frame shape: torch.Size([3, 224, 224]), Type: torch.float32\n",
            "Frame shape: torch.Size([3, 224, 224]), Type: torch.float32\n",
            "Frame shape: torch.Size([3, 224, 224]), Type: torch.float32\n",
            "Frame shape: torch.Size([3, 224, 224]), Type: torch.float32\n",
            "Frame shape: torch.Size([3, 224, 224]), Type: torch.float32\n",
            "Frame shape: torch.Size([3, 224, 224]), Type: torch.float32\n",
            "Frame shape: torch.Size([3, 224, 224]), Type: torch.float32\n",
            "Frame shape: torch.Size([3, 224, 224]), Type: torch.float32\n",
            "Frame shape: torch.Size([3, 224, 224]), Type: torch.float32\n",
            "Frame shape: torch.Size([3, 224, 224]), Type: torch.float32\n",
            "Frame shape: torch.Size([3, 224, 224]), Type: torch.float32\n",
            "Frame shape: torch.Size([3, 224, 224]), Type: torch.float32\n",
            "Frame shape: torch.Size([3, 224, 224]), Type: torch.float32\n"
          ]
        },
        {
          "output_type": "stream",
          "name": "stderr",
          "text": [
            "Training:  65%|██████▌   | 13/20 [02:38<01:24, 12.06s/it, gpu_load=2.08GB, loss=2.1655]"
          ]
        },
        {
          "output_type": "stream",
          "name": "stdout",
          "text": [
            "Frame shape: torch.Size([3, 224, 224]), Type: torch.float32\n",
            "Frame shape: torch.Size([3, 224, 224]), Type: torch.float32\n",
            "Frame shape: torch.Size([3, 224, 224]), Type: torch.float32\n",
            "Frame shape: torch.Size([3, 224, 224]), Type: torch.float32\n",
            "Frame shape: torch.Size([3, 224, 224]), Type: torch.float32\n",
            "Frame shape: torch.Size([3, 224, 224]), Type: torch.float32\n",
            "Frame shape: torch.Size([3, 224, 224]), Type: torch.float32\n",
            "Frame shape: torch.Size([3, 224, 224]), Type: torch.float32\n",
            "Frame shape: torch.Size([3, 224, 224]), Type: torch.float32\n",
            "Frame shape: torch.Size([3, 224, 224]), Type: torch.float32\n",
            "Frame shape: torch.Size([3, 224, 224]), Type: torch.float32\n",
            "Frame shape: torch.Size([3, 224, 224]), Type: torch.float32\n",
            "Frame shape: torch.Size([3, 224, 224]), Type: torch.float32\n",
            "Frame shape: torch.Size([3, 224, 224]), Type: torch.float32\n",
            "Frame shape: torch.Size([3, 224, 224]), Type: torch.float32\n",
            "Frame shape: torch.Size([3, 224, 224]), Type: torch.float32\n",
            "Frame shape: torch.Size([3, 224, 224]), Type: torch.float32\n",
            "Frame shape: torch.Size([3, 224, 224]), Type: torch.float32\n",
            "Frame shape: torch.Size([3, 224, 224]), Type: torch.float32\n",
            "Frame shape: torch.Size([3, 224, 224]), Type: torch.float32\n",
            "Frame shape: torch.Size([3, 224, 224]), Type: torch.float32\n",
            "Frame shape: torch.Size([3, 224, 224]), Type: torch.float32\n",
            "Frame shape: torch.Size([3, 224, 224]), Type: torch.float32\n",
            "Frame shape: torch.Size([3, 224, 224]), Type: torch.float32\n"
          ]
        },
        {
          "output_type": "stream",
          "name": "stderr",
          "text": [
            "Training:  70%|███████   | 14/20 [02:50<01:11, 11.96s/it, gpu_load=2.08GB, loss=1.8835]"
          ]
        },
        {
          "output_type": "stream",
          "name": "stdout",
          "text": [
            "Frame shape: torch.Size([3, 224, 224]), Type: torch.float32\n",
            "Frame shape: torch.Size([3, 224, 224]), Type: torch.float32\n",
            "Frame shape: torch.Size([3, 224, 224]), Type: torch.float32\n",
            "Frame shape: torch.Size([3, 224, 224]), Type: torch.float32\n",
            "Frame shape: torch.Size([3, 224, 224]), Type: torch.float32\n",
            "Frame shape: torch.Size([3, 224, 224]), Type: torch.float32\n",
            "Frame shape: torch.Size([3, 224, 224]), Type: torch.float32\n",
            "Frame shape: torch.Size([3, 224, 224]), Type: torch.float32\n",
            "Frame shape: torch.Size([3, 224, 224]), Type: torch.float32\n",
            "Frame shape: torch.Size([3, 224, 224]), Type: torch.float32\n",
            "Frame shape: torch.Size([3, 224, 224]), Type: torch.float32\n",
            "Frame shape: torch.Size([3, 224, 224]), Type: torch.float32\n",
            "Frame shape: torch.Size([3, 224, 224]), Type: torch.float32\n",
            "Frame shape: torch.Size([3, 224, 224]), Type: torch.float32\n",
            "Frame shape: torch.Size([3, 224, 224]), Type: torch.float32\n",
            "Frame shape: torch.Size([3, 224, 224]), Type: torch.float32\n",
            "Frame shape: torch.Size([3, 224, 224]), Type: torch.float32\n",
            "Frame shape: torch.Size([3, 224, 224]), Type: torch.float32\n",
            "Frame shape: torch.Size([3, 224, 224]), Type: torch.float32\n",
            "Frame shape: torch.Size([3, 224, 224]), Type: torch.float32\n",
            "Frame shape: torch.Size([3, 224, 224]), Type: torch.float32\n",
            "Frame shape: torch.Size([3, 224, 224]), Type: torch.float32\n",
            "Frame shape: torch.Size([3, 224, 224]), Type: torch.float32\n",
            "Frame shape: torch.Size([3, 224, 224]), Type: torch.float32\n"
          ]
        },
        {
          "output_type": "stream",
          "name": "stderr",
          "text": [
            "Training:  75%|███████▌  | 15/20 [03:02<00:59, 11.99s/it, gpu_load=2.08GB, loss=2.2908]"
          ]
        },
        {
          "output_type": "stream",
          "name": "stdout",
          "text": [
            "Frame shape: torch.Size([3, 224, 224]), Type: torch.float32\n",
            "Frame shape: torch.Size([3, 224, 224]), Type: torch.float32\n",
            "Frame shape: torch.Size([3, 224, 224]), Type: torch.float32\n",
            "Frame shape: torch.Size([3, 224, 224]), Type: torch.float32\n",
            "Frame shape: torch.Size([3, 224, 224]), Type: torch.float32\n",
            "Frame shape: torch.Size([3, 224, 224]), Type: torch.float32\n",
            "Frame shape: torch.Size([3, 224, 224]), Type: torch.float32\n",
            "Frame shape: torch.Size([3, 224, 224]), Type: torch.float32\n",
            "Frame shape: torch.Size([3, 224, 224]), Type: torch.float32\n",
            "Frame shape: torch.Size([3, 224, 224]), Type: torch.float32\n",
            "Frame shape: torch.Size([3, 224, 224]), Type: torch.float32\n",
            "Frame shape: torch.Size([3, 224, 224]), Type: torch.float32\n",
            "Frame shape: torch.Size([3, 224, 224]), Type: torch.float32\n",
            "Frame shape: torch.Size([3, 224, 224]), Type: torch.float32\n",
            "Frame shape: torch.Size([3, 224, 224]), Type: torch.float32\n",
            "Frame shape: torch.Size([3, 224, 224]), Type: torch.float32\n",
            "Frame shape: torch.Size([3, 224, 224]), Type: torch.float32\n",
            "Frame shape: torch.Size([3, 224, 224]), Type: torch.float32\n",
            "Frame shape: torch.Size([3, 224, 224]), Type: torch.float32\n",
            "Frame shape: torch.Size([3, 224, 224]), Type: torch.float32\n",
            "Frame shape: torch.Size([3, 224, 224]), Type: torch.float32\n",
            "Frame shape: torch.Size([3, 224, 224]), Type: torch.float32\n",
            "Frame shape: torch.Size([3, 224, 224]), Type: torch.float32\n",
            "Frame shape: torch.Size([3, 224, 224]), Type: torch.float32\n"
          ]
        },
        {
          "output_type": "stream",
          "name": "stderr",
          "text": [
            "Training:  80%|████████  | 16/20 [03:14<00:48, 12.11s/it, gpu_load=2.08GB, loss=2.1138]"
          ]
        },
        {
          "output_type": "stream",
          "name": "stdout",
          "text": [
            "Frame shape: torch.Size([3, 224, 224]), Type: torch.float32\n",
            "Frame shape: torch.Size([3, 224, 224]), Type: torch.float32\n",
            "Frame shape: torch.Size([3, 224, 224]), Type: torch.float32\n",
            "Frame shape: torch.Size([3, 224, 224]), Type: torch.float32\n",
            "Frame shape: torch.Size([3, 224, 224]), Type: torch.float32\n",
            "Frame shape: torch.Size([3, 224, 224]), Type: torch.float32\n",
            "Frame shape: torch.Size([3, 224, 224]), Type: torch.float32\n",
            "Frame shape: torch.Size([3, 224, 224]), Type: torch.float32\n",
            "Frame shape: torch.Size([3, 224, 224]), Type: torch.float32\n",
            "Frame shape: torch.Size([3, 224, 224]), Type: torch.float32\n",
            "Frame shape: torch.Size([3, 224, 224]), Type: torch.float32\n",
            "Frame shape: torch.Size([3, 224, 224]), Type: torch.float32\n",
            "Frame shape: torch.Size([3, 224, 224]), Type: torch.float32\n",
            "Frame shape: torch.Size([3, 224, 224]), Type: torch.float32\n",
            "Frame shape: torch.Size([3, 224, 224]), Type: torch.float32\n",
            "Frame shape: torch.Size([3, 224, 224]), Type: torch.float32\n",
            "Frame shape: torch.Size([3, 224, 224]), Type: torch.float32\n",
            "Frame shape: torch.Size([3, 224, 224]), Type: torch.float32\n",
            "Frame shape: torch.Size([3, 224, 224]), Type: torch.float32\n",
            "Frame shape: torch.Size([3, 224, 224]), Type: torch.float32\n",
            "Frame shape: torch.Size([3, 224, 224]), Type: torch.float32\n",
            "Frame shape: torch.Size([3, 224, 224]), Type: torch.float32\n",
            "Frame shape: torch.Size([3, 224, 224]), Type: torch.float32\n",
            "Frame shape: torch.Size([3, 224, 224]), Type: torch.float32\n"
          ]
        },
        {
          "output_type": "stream",
          "name": "stderr",
          "text": [
            "Training:  85%|████████▌ | 17/20 [03:27<00:36, 12.20s/it, gpu_load=2.08GB, loss=1.7896]"
          ]
        },
        {
          "output_type": "stream",
          "name": "stdout",
          "text": [
            "Frame shape: torch.Size([3, 224, 224]), Type: torch.float32\n",
            "Frame shape: torch.Size([3, 224, 224]), Type: torch.float32\n",
            "Frame shape: torch.Size([3, 224, 224]), Type: torch.float32\n",
            "Frame shape: torch.Size([3, 224, 224]), Type: torch.float32\n",
            "Frame shape: torch.Size([3, 224, 224]), Type: torch.float32\n",
            "Frame shape: torch.Size([3, 224, 224]), Type: torch.float32\n",
            "Frame shape: torch.Size([3, 224, 224]), Type: torch.float32\n",
            "Frame shape: torch.Size([3, 224, 224]), Type: torch.float32\n",
            "Frame shape: torch.Size([3, 224, 224]), Type: torch.float32\n",
            "Frame shape: torch.Size([3, 224, 224]), Type: torch.float32\n",
            "Frame shape: torch.Size([3, 224, 224]), Type: torch.float32\n",
            "Frame shape: torch.Size([3, 224, 224]), Type: torch.float32\n",
            "Frame shape: torch.Size([3, 224, 224]), Type: torch.float32\n",
            "Frame shape: torch.Size([3, 224, 224]), Type: torch.float32\n",
            "Frame shape: torch.Size([3, 224, 224]), Type: torch.float32\n",
            "Frame shape: torch.Size([3, 224, 224]), Type: torch.float32\n",
            "Frame shape: torch.Size([3, 224, 224]), Type: torch.float32\n",
            "Frame shape: torch.Size([3, 224, 224]), Type: torch.float32\n",
            "Frame shape: torch.Size([3, 224, 224]), Type: torch.float32\n",
            "Frame shape: torch.Size([3, 224, 224]), Type: torch.float32\n",
            "Frame shape: torch.Size([3, 224, 224]), Type: torch.float32\n",
            "Frame shape: torch.Size([3, 224, 224]), Type: torch.float32\n",
            "Frame shape: torch.Size([3, 224, 224]), Type: torch.float32\n",
            "Frame shape: torch.Size([3, 224, 224]), Type: torch.float32\n"
          ]
        },
        {
          "output_type": "stream",
          "name": "stderr",
          "text": [
            "Training:  90%|█████████ | 18/20 [03:39<00:24, 12.40s/it, gpu_load=2.08GB, loss=2.1998]"
          ]
        },
        {
          "output_type": "stream",
          "name": "stdout",
          "text": [
            "Frame shape: torch.Size([3, 224, 224]), Type: torch.float32\n",
            "Frame shape: torch.Size([3, 224, 224]), Type: torch.float32\n",
            "Frame shape: torch.Size([3, 224, 224]), Type: torch.float32\n",
            "Frame shape: torch.Size([3, 224, 224]), Type: torch.float32\n",
            "Frame shape: torch.Size([3, 224, 224]), Type: torch.float32\n",
            "Frame shape: torch.Size([3, 224, 224]), Type: torch.float32\n",
            "Frame shape: torch.Size([3, 224, 224]), Type: torch.float32\n",
            "Frame shape: torch.Size([3, 224, 224]), Type: torch.float32\n",
            "Frame shape: torch.Size([3, 224, 224]), Type: torch.float32\n",
            "Frame shape: torch.Size([3, 224, 224]), Type: torch.float32\n",
            "Frame shape: torch.Size([3, 224, 224]), Type: torch.float32\n",
            "Frame shape: torch.Size([3, 224, 224]), Type: torch.float32\n",
            "Frame shape: torch.Size([3, 224, 224]), Type: torch.float32\n",
            "Frame shape: torch.Size([3, 224, 224]), Type: torch.float32\n",
            "Frame shape: torch.Size([3, 224, 224]), Type: torch.float32\n",
            "Frame shape: torch.Size([3, 224, 224]), Type: torch.float32\n",
            "Frame shape: torch.Size([3, 224, 224]), Type: torch.float32\n",
            "Frame shape: torch.Size([3, 224, 224]), Type: torch.float32\n",
            "Frame shape: torch.Size([3, 224, 224]), Type: torch.float32\n",
            "Frame shape: torch.Size([3, 224, 224]), Type: torch.float32\n",
            "Frame shape: torch.Size([3, 224, 224]), Type: torch.float32\n",
            "Frame shape: torch.Size([3, 224, 224]), Type: torch.float32\n",
            "Frame shape: torch.Size([3, 224, 224]), Type: torch.float32\n",
            "Frame shape: torch.Size([3, 224, 224]), Type: torch.float32\n"
          ]
        },
        {
          "output_type": "stream",
          "name": "stderr",
          "text": [
            "Training:  95%|█████████▌| 19/20 [03:52<00:12, 12.58s/it, gpu_load=2.08GB, loss=1.8471]"
          ]
        },
        {
          "output_type": "stream",
          "name": "stdout",
          "text": [
            "Frame shape: torch.Size([3, 224, 224]), Type: torch.float32\n",
            "Frame shape: torch.Size([3, 224, 224]), Type: torch.float32\n",
            "Frame shape: torch.Size([3, 224, 224]), Type: torch.float32\n",
            "Frame shape: torch.Size([3, 224, 224]), Type: torch.float32\n",
            "Frame shape: torch.Size([3, 224, 224]), Type: torch.float32\n",
            "Frame shape: torch.Size([3, 224, 224]), Type: torch.float32\n",
            "Frame shape: torch.Size([3, 224, 224]), Type: torch.float32\n",
            "Frame shape: torch.Size([3, 224, 224]), Type: torch.float32\n",
            "Frame shape: torch.Size([3, 224, 224]), Type: torch.float32\n",
            "Frame shape: torch.Size([3, 224, 224]), Type: torch.float32\n",
            "Frame shape: torch.Size([3, 224, 224]), Type: torch.float32\n",
            "Frame shape: torch.Size([3, 224, 224]), Type: torch.float32\n",
            "Frame shape: torch.Size([3, 224, 224]), Type: torch.float32\n",
            "Frame shape: torch.Size([3, 224, 224]), Type: torch.float32\n",
            "Frame shape: torch.Size([3, 224, 224]), Type: torch.float32\n",
            "Frame shape: torch.Size([3, 224, 224]), Type: torch.float32\n",
            "Frame shape: torch.Size([3, 224, 224]), Type: torch.float32\n",
            "Frame shape: torch.Size([3, 224, 224]), Type: torch.float32\n",
            "Frame shape: torch.Size([3, 224, 224]), Type: torch.float32\n",
            "Frame shape: torch.Size([3, 224, 224]), Type: torch.float32\n",
            "Frame shape: torch.Size([3, 224, 224]), Type: torch.float32\n"
          ]
        },
        {
          "output_type": "stream",
          "name": "stderr",
          "text": [
            "Training: 100%|██████████| 20/20 [04:04<00:00, 12.21s/it, gpu_load=1.83GB, loss=2.2621]\n"
          ]
        },
        {
          "output_type": "stream",
          "name": "stdout",
          "text": [
            "Frame shape: torch.Size([3, 224, 224]), Type: torch.float32\n"
          ]
        },
        {
          "output_type": "stream",
          "name": "stderr",
          "text": [
            "\rTesting:   0%|          | 0/5 [00:00<?, ?it/s]"
          ]
        },
        {
          "output_type": "stream",
          "name": "stdout",
          "text": [
            "Frame shape: torch.Size([3, 224, 224]), Type: torch.float32\n",
            "Frame shape: torch.Size([3, 224, 224]), Type: torch.float32\n",
            "Frame shape: torch.Size([3, 224, 224]), Type: torch.float32\n",
            "Frame shape: torch.Size([3, 224, 224]), Type: torch.float32\n",
            "Frame shape: torch.Size([3, 224, 224]), Type: torch.float32\n",
            "Frame shape: torch.Size([3, 224, 224]), Type: torch.float32\n",
            "Frame shape: torch.Size([3, 224, 224]), Type: torch.float32\n",
            "Frame shape: torch.Size([3, 224, 224]), Type: torch.float32\n",
            "Frame shape: torch.Size([3, 224, 224]), Type: torch.float32\n",
            "Frame shape: torch.Size([3, 224, 224]), Type: torch.float32\n",
            "Frame shape: torch.Size([3, 224, 224]), Type: torch.float32\n",
            "Frame shape: torch.Size([3, 224, 224]), Type: torch.float32\n",
            "Frame shape: torch.Size([3, 224, 224]), Type: torch.float32\n",
            "Frame shape: torch.Size([3, 224, 224]), Type: torch.float32\n",
            "Frame shape: torch.Size([3, 224, 224]), Type: torch.float32\n",
            "Frame shape: torch.Size([3, 224, 224]), Type: torch.float32\n",
            "Frame shape: torch.Size([3, 224, 224]), Type: torch.float32\n",
            "Frame shape: torch.Size([3, 224, 224]), Type: torch.float32\n",
            "Frame shape: torch.Size([3, 224, 224]), Type: torch.float32\n",
            "Frame shape: torch.Size([3, 224, 224]), Type: torch.float32\n",
            "Frame shape: torch.Size([3, 224, 224]), Type: torch.float32\n",
            "Frame shape: torch.Size([3, 224, 224]), Type: torch.float32\n",
            "Frame shape: torch.Size([3, 224, 224]), Type: torch.float32\n"
          ]
        },
        {
          "output_type": "stream",
          "name": "stderr",
          "text": [
            "Testing:  20%|██        | 1/5 [00:12<00:50, 12.75s/it, loss=2.4221]"
          ]
        },
        {
          "output_type": "stream",
          "name": "stdout",
          "text": [
            "Frame shape: torch.Size([3, 224, 224]), Type: torch.float32\n",
            "Frame shape: torch.Size([3, 224, 224]), Type: torch.float32\n",
            "Frame shape: torch.Size([3, 224, 224]), Type: torch.float32\n",
            "Frame shape: torch.Size([3, 224, 224]), Type: torch.float32\n",
            "Frame shape: torch.Size([3, 224, 224]), Type: torch.float32\n",
            "Frame shape: torch.Size([3, 224, 224]), Type: torch.float32\n",
            "Frame shape: torch.Size([3, 224, 224]), Type: torch.float32\n",
            "Frame shape: torch.Size([3, 224, 224]), Type: torch.float32\n",
            "Frame shape: torch.Size([3, 224, 224]), Type: torch.float32\n",
            "Frame shape: torch.Size([3, 224, 224]), Type: torch.float32\n",
            "Frame shape: torch.Size([3, 224, 224]), Type: torch.float32\n",
            "Frame shape: torch.Size([3, 224, 224]), Type: torch.float32\n",
            "Frame shape: torch.Size([3, 224, 224]), Type: torch.float32\n",
            "Frame shape: torch.Size([3, 224, 224]), Type: torch.float32\n",
            "Frame shape: torch.Size([3, 224, 224]), Type: torch.float32\n",
            "Frame shape: torch.Size([3, 224, 224]), Type: torch.float32\n",
            "Frame shape: torch.Size([3, 224, 224]), Type: torch.float32\n",
            "Frame shape: torch.Size([3, 224, 224]), Type: torch.float32\n",
            "Frame shape: torch.Size([3, 224, 224]), Type: torch.float32\n",
            "Frame shape: torch.Size([3, 224, 224]), Type: torch.float32\n",
            "Frame shape: torch.Size([3, 224, 224]), Type: torch.float32\n",
            "Frame shape: torch.Size([3, 224, 224]), Type: torch.float32\n",
            "Frame shape: torch.Size([3, 224, 224]), Type: torch.float32\n",
            "Frame shape: torch.Size([3, 224, 224]), Type: torch.float32\n"
          ]
        },
        {
          "output_type": "stream",
          "name": "stderr",
          "text": [
            "Testing:  40%|████      | 2/5 [00:23<00:35, 11.80s/it, loss=2.1423]"
          ]
        },
        {
          "output_type": "stream",
          "name": "stdout",
          "text": [
            "Frame shape: torch.Size([3, 224, 224]), Type: torch.float32\n",
            "Frame shape: torch.Size([3, 224, 224]), Type: torch.float32\n",
            "Frame shape: torch.Size([3, 224, 224]), Type: torch.float32\n",
            "Frame shape: torch.Size([3, 224, 224]), Type: torch.float32\n",
            "Frame shape: torch.Size([3, 224, 224]), Type: torch.float32\n",
            "Frame shape: torch.Size([3, 224, 224]), Type: torch.float32\n",
            "Frame shape: torch.Size([3, 224, 224]), Type: torch.float32\n",
            "Frame shape: torch.Size([3, 224, 224]), Type: torch.float32\n",
            "Frame shape: torch.Size([3, 224, 224]), Type: torch.float32\n",
            "Frame shape: torch.Size([3, 224, 224]), Type: torch.float32\n",
            "Frame shape: torch.Size([3, 224, 224]), Type: torch.float32\n",
            "Frame shape: torch.Size([3, 224, 224]), Type: torch.float32\n",
            "Frame shape: torch.Size([3, 224, 224]), Type: torch.float32\n",
            "Frame shape: torch.Size([3, 224, 224]), Type: torch.float32\n",
            "Frame shape: torch.Size([3, 224, 224]), Type: torch.float32\n",
            "Frame shape: torch.Size([3, 224, 224]), Type: torch.float32\n",
            "Frame shape: torch.Size([3, 224, 224]), Type: torch.float32\n",
            "Frame shape: torch.Size([3, 224, 224]), Type: torch.float32\n",
            "Frame shape: torch.Size([3, 224, 224]), Type: torch.float32\n",
            "Frame shape: torch.Size([3, 224, 224]), Type: torch.float32\n",
            "Frame shape: torch.Size([3, 224, 224]), Type: torch.float32\n",
            "Frame shape: torch.Size([3, 224, 224]), Type: torch.float32\n",
            "Frame shape: torch.Size([3, 224, 224]), Type: torch.float32\n",
            "Frame shape: torch.Size([3, 224, 224]), Type: torch.float32\n"
          ]
        },
        {
          "output_type": "stream",
          "name": "stderr",
          "text": [
            "Testing:  60%|██████    | 3/5 [00:37<00:25, 12.58s/it, loss=2.0008]"
          ]
        },
        {
          "output_type": "stream",
          "name": "stdout",
          "text": [
            "Frame shape: torch.Size([3, 224, 224]), Type: torch.float32\n",
            "Frame shape: torch.Size([3, 224, 224]), Type: torch.float32\n",
            "Frame shape: torch.Size([3, 224, 224]), Type: torch.float32\n",
            "Frame shape: torch.Size([3, 224, 224]), Type: torch.float32\n",
            "Frame shape: torch.Size([3, 224, 224]), Type: torch.float32\n",
            "Frame shape: torch.Size([3, 224, 224]), Type: torch.float32\n",
            "Frame shape: torch.Size([3, 224, 224]), Type: torch.float32\n",
            "Frame shape: torch.Size([3, 224, 224]), Type: torch.float32\n",
            "Frame shape: torch.Size([3, 224, 224]), Type: torch.float32\n",
            "Frame shape: torch.Size([3, 224, 224]), Type: torch.float32\n",
            "Frame shape: torch.Size([3, 224, 224]), Type: torch.float32\n",
            "Frame shape: torch.Size([3, 224, 224]), Type: torch.float32\n",
            "Frame shape: torch.Size([3, 224, 224]), Type: torch.float32\n",
            "Frame shape: torch.Size([3, 224, 224]), Type: torch.float32\n",
            "Frame shape: torch.Size([3, 224, 224]), Type: torch.float32\n",
            "Frame shape: torch.Size([3, 224, 224]), Type: torch.float32\n",
            "Frame shape: torch.Size([3, 224, 224]), Type: torch.float32\n",
            "Frame shape: torch.Size([3, 224, 224]), Type: torch.float32\n",
            "Frame shape: torch.Size([3, 224, 224]), Type: torch.float32\n",
            "Frame shape: torch.Size([3, 224, 224]), Type: torch.float32\n",
            "Frame shape: torch.Size([3, 224, 224]), Type: torch.float32\n",
            "Frame shape: torch.Size([3, 224, 224]), Type: torch.float32\n",
            "Frame shape: torch.Size([3, 224, 224]), Type: torch.float32\n",
            "Frame shape: torch.Size([3, 224, 224]), Type: torch.float32\n",
            "Frame shape: torch.Size([3, 224, 224]), Type: torch.float32\n"
          ]
        },
        {
          "output_type": "stream",
          "name": "stderr",
          "text": [
            "Testing:  80%|████████  | 4/5 [00:49<00:12, 12.38s/it, loss=2.5149]"
          ]
        },
        {
          "output_type": "stream",
          "name": "stdout",
          "text": [
            "Frame shape: torch.Size([3, 224, 224]), Type: torch.float32\n",
            "Frame shape: torch.Size([3, 224, 224]), Type: torch.float32\n",
            "Frame shape: torch.Size([3, 224, 224]), Type: torch.float32\n",
            "Frame shape: torch.Size([3, 224, 224]), Type: torch.float32\n",
            "Frame shape: torch.Size([3, 224, 224]), Type: torch.float32\n",
            "Frame shape: torch.Size([3, 224, 224]), Type: torch.float32\n",
            "Frame shape: torch.Size([3, 224, 224]), Type: torch.float32\n",
            "Frame shape: torch.Size([3, 224, 224]), Type: torch.float32\n",
            "Frame shape: torch.Size([3, 224, 224]), Type: torch.float32\n",
            "Frame shape: torch.Size([3, 224, 224]), Type: torch.float32\n",
            "Frame shape: torch.Size([3, 224, 224]), Type: torch.float32\n",
            "Frame shape: torch.Size([3, 224, 224]), Type: torch.float32\n",
            "Frame shape: torch.Size([3, 224, 224]), Type: torch.float32\n",
            "Frame shape: torch.Size([3, 224, 224]), Type: torch.float32\n",
            "Frame shape: torch.Size([3, 224, 224]), Type: torch.float32\n",
            "Frame shape: torch.Size([3, 224, 224]), Type: torch.float32\n",
            "Frame shape: torch.Size([3, 224, 224]), Type: torch.float32\n",
            "Frame shape: torch.Size([3, 224, 224]), Type: torch.float32\n",
            "Frame shape: torch.Size([3, 224, 224]), Type: torch.float32\n",
            "Frame shape: torch.Size([3, 224, 224]), Type: torch.float32\n",
            "Frame shape: torch.Size([3, 224, 224]), Type: torch.float32\n",
            "Frame shape: torch.Size([3, 224, 224]), Type: torch.float32\n",
            "Frame shape: torch.Size([3, 224, 224]), Type: torch.float32\n"
          ]
        },
        {
          "output_type": "stream",
          "name": "stderr",
          "text": [
            "Testing: 100%|██████████| 5/5 [01:01<00:00, 12.21s/it, loss=2.5411]"
          ]
        },
        {
          "output_type": "stream",
          "name": "stdout",
          "text": [
            "Frame shape: torch.Size([3, 224, 224]), Type: torch.float32\n",
            "epoch: 3, lr_rate 0.001\n",
            "loss_train: 2.1135| loss_valid: 2.3242|\n",
            "metric 0.241667\n",
            "Elapsed time: 00:05:05\n"
          ]
        },
        {
          "output_type": "stream",
          "name": "stderr",
          "text": [
            "\n"
          ]
        },
        {
          "output_type": "stream",
          "name": "stdout",
          "text": [
            "---------------------epoch:4/10---------------------\n"
          ]
        },
        {
          "output_type": "stream",
          "name": "stderr",
          "text": [
            "\rTraining:   0%|          | 0/20 [00:00<?, ?it/s]"
          ]
        },
        {
          "output_type": "stream",
          "name": "stdout",
          "text": [
            "Frame shape: torch.Size([3, 224, 224]), Type: torch.float32\n",
            "Frame shape: torch.Size([3, 224, 224]), Type: torch.float32\n",
            "Frame shape: torch.Size([3, 224, 224]), Type: torch.float32\n",
            "Frame shape: torch.Size([3, 224, 224]), Type: torch.float32\n",
            "Frame shape: torch.Size([3, 224, 224]), Type: torch.float32\n",
            "Frame shape: torch.Size([3, 224, 224]), Type: torch.float32\n",
            "Frame shape: torch.Size([3, 224, 224]), Type: torch.float32\n",
            "Frame shape: torch.Size([3, 224, 224]), Type: torch.float32\n",
            "Frame shape: torch.Size([3, 224, 224]), Type: torch.float32\n",
            "Frame shape: torch.Size([3, 224, 224]), Type: torch.float32\n",
            "Frame shape: torch.Size([3, 224, 224]), Type: torch.float32\n",
            "Frame shape: torch.Size([3, 224, 224]), Type: torch.float32\n",
            "Frame shape: torch.Size([3, 224, 224]), Type: torch.float32\n",
            "Frame shape: torch.Size([3, 224, 224]), Type: torch.float32\n",
            "Frame shape: torch.Size([3, 224, 224]), Type: torch.float32\n",
            "Frame shape: torch.Size([3, 224, 224]), Type: torch.float32\n",
            "Frame shape: torch.Size([3, 224, 224]), Type: torch.float32\n",
            "Frame shape: torch.Size([3, 224, 224]), Type: torch.float32\n",
            "Frame shape: torch.Size([3, 224, 224]), Type: torch.float32\n",
            "Frame shape: torch.Size([3, 224, 224]), Type: torch.float32\n",
            "Frame shape: torch.Size([3, 224, 224]), Type: torch.float32\n",
            "Frame shape: torch.Size([3, 224, 224]), Type: torch.float32\n",
            "Frame shape: torch.Size([3, 224, 224]), Type: torch.float32\n"
          ]
        },
        {
          "output_type": "stream",
          "name": "stderr",
          "text": [
            "Training:   5%|▌         | 1/20 [00:13<04:23, 13.89s/it, gpu_load=2.08GB, loss=1.7490]"
          ]
        },
        {
          "output_type": "stream",
          "name": "stdout",
          "text": [
            "Frame shape: torch.Size([3, 224, 224]), Type: torch.float32\n",
            "Frame shape: torch.Size([3, 224, 224]), Type: torch.float32\n",
            "Frame shape: torch.Size([3, 224, 224]), Type: torch.float32\n",
            "Frame shape: torch.Size([3, 224, 224]), Type: torch.float32\n",
            "Frame shape: torch.Size([3, 224, 224]), Type: torch.float32\n",
            "Frame shape: torch.Size([3, 224, 224]), Type: torch.float32\n",
            "Frame shape: torch.Size([3, 224, 224]), Type: torch.float32\n",
            "Frame shape: torch.Size([3, 224, 224]), Type: torch.float32\n",
            "Frame shape: torch.Size([3, 224, 224]), Type: torch.float32\n",
            "Frame shape: torch.Size([3, 224, 224]), Type: torch.float32\n",
            "Frame shape: torch.Size([3, 224, 224]), Type: torch.float32\n",
            "Frame shape: torch.Size([3, 224, 224]), Type: torch.float32\n",
            "Frame shape: torch.Size([3, 224, 224]), Type: torch.float32\n",
            "Frame shape: torch.Size([3, 224, 224]), Type: torch.float32\n",
            "Frame shape: torch.Size([3, 224, 224]), Type: torch.float32\n",
            "Frame shape: torch.Size([3, 224, 224]), Type: torch.float32\n",
            "Frame shape: torch.Size([3, 224, 224]), Type: torch.float32\n",
            "Frame shape: torch.Size([3, 224, 224]), Type: torch.float32\n",
            "Frame shape: torch.Size([3, 224, 224]), Type: torch.float32\n",
            "Frame shape: torch.Size([3, 224, 224]), Type: torch.float32\n",
            "Frame shape: torch.Size([3, 224, 224]), Type: torch.float32\n",
            "Frame shape: torch.Size([3, 224, 224]), Type: torch.float32\n",
            "Frame shape: torch.Size([3, 224, 224]), Type: torch.float32\n",
            "Frame shape: torch.Size([3, 224, 224]), Type: torch.float32\n"
          ]
        },
        {
          "output_type": "stream",
          "name": "stderr",
          "text": [
            "Training:  10%|█         | 2/20 [00:26<03:54, 13.04s/it, gpu_load=2.08GB, loss=2.2274]"
          ]
        },
        {
          "output_type": "stream",
          "name": "stdout",
          "text": [
            "Frame shape: torch.Size([3, 224, 224]), Type: torch.float32\n",
            "Frame shape: torch.Size([3, 224, 224]), Type: torch.float32\n",
            "Frame shape: torch.Size([3, 224, 224]), Type: torch.float32\n",
            "Frame shape: torch.Size([3, 224, 224]), Type: torch.float32\n",
            "Frame shape: torch.Size([3, 224, 224]), Type: torch.float32\n",
            "Frame shape: torch.Size([3, 224, 224]), Type: torch.float32\n",
            "Frame shape: torch.Size([3, 224, 224]), Type: torch.float32\n",
            "Frame shape: torch.Size([3, 224, 224]), Type: torch.float32\n",
            "Frame shape: torch.Size([3, 224, 224]), Type: torch.float32\n",
            "Frame shape: torch.Size([3, 224, 224]), Type: torch.float32\n",
            "Frame shape: torch.Size([3, 224, 224]), Type: torch.float32\n",
            "Frame shape: torch.Size([3, 224, 224]), Type: torch.float32\n",
            "Frame shape: torch.Size([3, 224, 224]), Type: torch.float32\n",
            "Frame shape: torch.Size([3, 224, 224]), Type: torch.float32\n",
            "Frame shape: torch.Size([3, 224, 224]), Type: torch.float32\n",
            "Frame shape: torch.Size([3, 224, 224]), Type: torch.float32\n",
            "Frame shape: torch.Size([3, 224, 224]), Type: torch.float32\n",
            "Frame shape: torch.Size([3, 224, 224]), Type: torch.float32\n",
            "Frame shape: torch.Size([3, 224, 224]), Type: torch.float32\n",
            "Frame shape: torch.Size([3, 224, 224]), Type: torch.float32\n",
            "Frame shape: torch.Size([3, 224, 224]), Type: torch.float32\n",
            "Frame shape: torch.Size([3, 224, 224]), Type: torch.float32\n",
            "Frame shape: torch.Size([3, 224, 224]), Type: torch.float32\n",
            "Frame shape: torch.Size([3, 224, 224]), Type: torch.float32\n"
          ]
        },
        {
          "output_type": "stream",
          "name": "stderr",
          "text": [
            "Training:  15%|█▌        | 3/20 [00:40<03:51, 13.61s/it, gpu_load=2.08GB, loss=1.8428]"
          ]
        },
        {
          "output_type": "stream",
          "name": "stdout",
          "text": [
            "Frame shape: torch.Size([3, 224, 224]), Type: torch.float32\n",
            "Frame shape: torch.Size([3, 224, 224]), Type: torch.float32\n",
            "Frame shape: torch.Size([3, 224, 224]), Type: torch.float32\n",
            "Frame shape: torch.Size([3, 224, 224]), Type: torch.float32\n",
            "Frame shape: torch.Size([3, 224, 224]), Type: torch.float32\n",
            "Frame shape: torch.Size([3, 224, 224]), Type: torch.float32\n",
            "Frame shape: torch.Size([3, 224, 224]), Type: torch.float32\n",
            "Frame shape: torch.Size([3, 224, 224]), Type: torch.float32\n",
            "Frame shape: torch.Size([3, 224, 224]), Type: torch.float32\n",
            "Frame shape: torch.Size([3, 224, 224]), Type: torch.float32\n",
            "Frame shape: torch.Size([3, 224, 224]), Type: torch.float32\n",
            "Frame shape: torch.Size([3, 224, 224]), Type: torch.float32\n",
            "Frame shape: torch.Size([3, 224, 224]), Type: torch.float32\n",
            "Frame shape: torch.Size([3, 224, 224]), Type: torch.float32\n",
            "Frame shape: torch.Size([3, 224, 224]), Type: torch.float32\n",
            "Frame shape: torch.Size([3, 224, 224]), Type: torch.float32\n",
            "Frame shape: torch.Size([3, 224, 224]), Type: torch.float32\n",
            "Frame shape: torch.Size([3, 224, 224]), Type: torch.float32\n",
            "Frame shape: torch.Size([3, 224, 224]), Type: torch.float32\n",
            "Frame shape: torch.Size([3, 224, 224]), Type: torch.float32\n",
            "Frame shape: torch.Size([3, 224, 224]), Type: torch.float32\n",
            "Frame shape: torch.Size([3, 224, 224]), Type: torch.float32\n",
            "Frame shape: torch.Size([3, 224, 224]), Type: torch.float32\n",
            "Frame shape: torch.Size([3, 224, 224]), Type: torch.float32\n",
            "Frame shape: torch.Size([3, 224, 224]), Type: torch.float32\n"
          ]
        },
        {
          "output_type": "stream",
          "name": "stderr",
          "text": [
            "Training:  20%|██        | 4/20 [00:52<03:24, 12.78s/it, gpu_load=2.08GB, loss=1.9430]"
          ]
        },
        {
          "output_type": "stream",
          "name": "stdout",
          "text": [
            "Frame shape: torch.Size([3, 224, 224]), Type: torch.float32\n",
            "Frame shape: torch.Size([3, 224, 224]), Type: torch.float32\n",
            "Frame shape: torch.Size([3, 224, 224]), Type: torch.float32\n",
            "Frame shape: torch.Size([3, 224, 224]), Type: torch.float32\n",
            "Frame shape: torch.Size([3, 224, 224]), Type: torch.float32\n",
            "Frame shape: torch.Size([3, 224, 224]), Type: torch.float32\n",
            "Frame shape: torch.Size([3, 224, 224]), Type: torch.float32\n",
            "Frame shape: torch.Size([3, 224, 224]), Type: torch.float32\n",
            "Frame shape: torch.Size([3, 224, 224]), Type: torch.float32\n",
            "Frame shape: torch.Size([3, 224, 224]), Type: torch.float32\n",
            "Frame shape: torch.Size([3, 224, 224]), Type: torch.float32\n",
            "Frame shape: torch.Size([3, 224, 224]), Type: torch.float32\n",
            "Frame shape: torch.Size([3, 224, 224]), Type: torch.float32\n",
            "Frame shape: torch.Size([3, 224, 224]), Type: torch.float32\n",
            "Frame shape: torch.Size([3, 224, 224]), Type: torch.float32\n",
            "Frame shape: torch.Size([3, 224, 224]), Type: torch.float32\n",
            "Frame shape: torch.Size([3, 224, 224]), Type: torch.float32\n",
            "Frame shape: torch.Size([3, 224, 224]), Type: torch.float32\n",
            "Frame shape: torch.Size([3, 224, 224]), Type: torch.float32\n",
            "Frame shape: torch.Size([3, 224, 224]), Type: torch.float32\n",
            "Frame shape: torch.Size([3, 224, 224]), Type: torch.float32\n",
            "Frame shape: torch.Size([3, 224, 224]), Type: torch.float32\n",
            "Frame shape: torch.Size([3, 224, 224]), Type: torch.float32\n"
          ]
        },
        {
          "output_type": "stream",
          "name": "stderr",
          "text": [
            "Training:  25%|██▌       | 5/20 [01:03<03:05, 12.37s/it, gpu_load=2.08GB, loss=1.8723]"
          ]
        },
        {
          "output_type": "stream",
          "name": "stdout",
          "text": [
            "Frame shape: torch.Size([3, 224, 224]), Type: torch.float32\n",
            "Frame shape: torch.Size([3, 224, 224]), Type: torch.float32\n",
            "Frame shape: torch.Size([3, 224, 224]), Type: torch.float32\n",
            "Frame shape: torch.Size([3, 224, 224]), Type: torch.float32\n",
            "Frame shape: torch.Size([3, 224, 224]), Type: torch.float32\n",
            "Frame shape: torch.Size([3, 224, 224]), Type: torch.float32\n",
            "Frame shape: torch.Size([3, 224, 224]), Type: torch.float32\n",
            "Frame shape: torch.Size([3, 224, 224]), Type: torch.float32\n",
            "Frame shape: torch.Size([3, 224, 224]), Type: torch.float32\n",
            "Frame shape: torch.Size([3, 224, 224]), Type: torch.float32\n",
            "Frame shape: torch.Size([3, 224, 224]), Type: torch.float32\n",
            "Frame shape: torch.Size([3, 224, 224]), Type: torch.float32\n",
            "Frame shape: torch.Size([3, 224, 224]), Type: torch.float32\n",
            "Frame shape: torch.Size([3, 224, 224]), Type: torch.float32\n",
            "Frame shape: torch.Size([3, 224, 224]), Type: torch.float32\n",
            "Frame shape: torch.Size([3, 224, 224]), Type: torch.float32\n",
            "Frame shape: torch.Size([3, 224, 224]), Type: torch.float32\n",
            "Frame shape: torch.Size([3, 224, 224]), Type: torch.float32\n",
            "Frame shape: torch.Size([3, 224, 224]), Type: torch.float32\n",
            "Frame shape: torch.Size([3, 224, 224]), Type: torch.float32\n",
            "Frame shape: torch.Size([3, 224, 224]), Type: torch.float32\n",
            "Frame shape: torch.Size([3, 224, 224]), Type: torch.float32\n",
            "Frame shape: torch.Size([3, 224, 224]), Type: torch.float32\n",
            "Frame shape: torch.Size([3, 224, 224]), Type: torch.float32\n"
          ]
        },
        {
          "output_type": "stream",
          "name": "stderr",
          "text": [
            "Training:  30%|███       | 6/20 [01:16<02:55, 12.51s/it, gpu_load=2.08GB, loss=1.8092]"
          ]
        },
        {
          "output_type": "stream",
          "name": "stdout",
          "text": [
            "Frame shape: torch.Size([3, 224, 224]), Type: torch.float32\n",
            "Frame shape: torch.Size([3, 224, 224]), Type: torch.float32\n",
            "Frame shape: torch.Size([3, 224, 224]), Type: torch.float32\n",
            "Frame shape: torch.Size([3, 224, 224]), Type: torch.float32\n",
            "Frame shape: torch.Size([3, 224, 224]), Type: torch.float32\n",
            "Frame shape: torch.Size([3, 224, 224]), Type: torch.float32\n",
            "Frame shape: torch.Size([3, 224, 224]), Type: torch.float32\n",
            "Frame shape: torch.Size([3, 224, 224]), Type: torch.float32\n",
            "Frame shape: torch.Size([3, 224, 224]), Type: torch.float32\n",
            "Frame shape: torch.Size([3, 224, 224]), Type: torch.float32\n",
            "Frame shape: torch.Size([3, 224, 224]), Type: torch.float32\n",
            "Frame shape: torch.Size([3, 224, 224]), Type: torch.float32\n",
            "Frame shape: torch.Size([3, 224, 224]), Type: torch.float32\n",
            "Frame shape: torch.Size([3, 224, 224]), Type: torch.float32\n",
            "Frame shape: torch.Size([3, 224, 224]), Type: torch.float32\n",
            "Frame shape: torch.Size([3, 224, 224]), Type: torch.float32\n",
            "Frame shape: torch.Size([3, 224, 224]), Type: torch.float32\n",
            "Frame shape: torch.Size([3, 224, 224]), Type: torch.float32\n",
            "Frame shape: torch.Size([3, 224, 224]), Type: torch.float32\n",
            "Frame shape: torch.Size([3, 224, 224]), Type: torch.float32\n",
            "Frame shape: torch.Size([3, 224, 224]), Type: torch.float32\n",
            "Frame shape: torch.Size([3, 224, 224]), Type: torch.float32\n",
            "Frame shape: torch.Size([3, 224, 224]), Type: torch.float32\n",
            "Frame shape: torch.Size([3, 224, 224]), Type: torch.float32\n"
          ]
        },
        {
          "output_type": "stream",
          "name": "stderr",
          "text": [
            "Training:  35%|███▌      | 7/20 [01:28<02:39, 12.30s/it, gpu_load=2.07GB, loss=1.8042]"
          ]
        },
        {
          "output_type": "stream",
          "name": "stdout",
          "text": [
            "Frame shape: torch.Size([3, 224, 224]), Type: torch.float32\n",
            "Frame shape: torch.Size([3, 224, 224]), Type: torch.float32\n",
            "Frame shape: torch.Size([3, 224, 224]), Type: torch.float32\n",
            "Frame shape: torch.Size([3, 224, 224]), Type: torch.float32\n",
            "Frame shape: torch.Size([3, 224, 224]), Type: torch.float32\n",
            "Frame shape: torch.Size([3, 224, 224]), Type: torch.float32\n",
            "Frame shape: torch.Size([3, 224, 224]), Type: torch.float32\n",
            "Frame shape: torch.Size([3, 224, 224]), Type: torch.float32\n",
            "Frame shape: torch.Size([3, 224, 224]), Type: torch.float32\n",
            "Frame shape: torch.Size([3, 224, 224]), Type: torch.float32\n",
            "Frame shape: torch.Size([3, 224, 224]), Type: torch.float32\n",
            "Frame shape: torch.Size([3, 224, 224]), Type: torch.float32\n",
            "Frame shape: torch.Size([3, 224, 224]), Type: torch.float32\n",
            "Frame shape: torch.Size([3, 224, 224]), Type: torch.float32\n",
            "Frame shape: torch.Size([3, 224, 224]), Type: torch.float32\n",
            "Frame shape: torch.Size([3, 224, 224]), Type: torch.float32\n",
            "Frame shape: torch.Size([3, 224, 224]), Type: torch.float32\n",
            "Frame shape: torch.Size([3, 224, 224]), Type: torch.float32\n",
            "Frame shape: torch.Size([3, 224, 224]), Type: torch.float32\n",
            "Frame shape: torch.Size([3, 224, 224]), Type: torch.float32\n",
            "Frame shape: torch.Size([3, 224, 224]), Type: torch.float32\n",
            "Frame shape: torch.Size([3, 224, 224]), Type: torch.float32\n",
            "Frame shape: torch.Size([3, 224, 224]), Type: torch.float32\n",
            "Frame shape: torch.Size([3, 224, 224]), Type: torch.float32\n"
          ]
        },
        {
          "output_type": "stream",
          "name": "stderr",
          "text": [
            "Training:  40%|████      | 8/20 [01:41<02:29, 12.47s/it, gpu_load=2.08GB, loss=1.9204]"
          ]
        },
        {
          "output_type": "stream",
          "name": "stdout",
          "text": [
            "Frame shape: torch.Size([3, 224, 224]), Type: torch.float32\n",
            "Frame shape: torch.Size([3, 224, 224]), Type: torch.float32\n",
            "Frame shape: torch.Size([3, 224, 224]), Type: torch.float32\n",
            "Frame shape: torch.Size([3, 224, 224]), Type: torch.float32\n",
            "Frame shape: torch.Size([3, 224, 224]), Type: torch.float32\n",
            "Frame shape: torch.Size([3, 224, 224]), Type: torch.float32\n",
            "Frame shape: torch.Size([3, 224, 224]), Type: torch.float32\n",
            "Frame shape: torch.Size([3, 224, 224]), Type: torch.float32\n",
            "Frame shape: torch.Size([3, 224, 224]), Type: torch.float32\n",
            "Frame shape: torch.Size([3, 224, 224]), Type: torch.float32\n",
            "Frame shape: torch.Size([3, 224, 224]), Type: torch.float32\n",
            "Frame shape: torch.Size([3, 224, 224]), Type: torch.float32\n",
            "Frame shape: torch.Size([3, 224, 224]), Type: torch.float32\n",
            "Frame shape: torch.Size([3, 224, 224]), Type: torch.float32\n",
            "Frame shape: torch.Size([3, 224, 224]), Type: torch.float32\n",
            "Frame shape: torch.Size([3, 224, 224]), Type: torch.float32\n",
            "Frame shape: torch.Size([3, 224, 224]), Type: torch.float32\n",
            "Frame shape: torch.Size([3, 224, 224]), Type: torch.float32\n",
            "Frame shape: torch.Size([3, 224, 224]), Type: torch.float32\n",
            "Frame shape: torch.Size([3, 224, 224]), Type: torch.float32\n",
            "Frame shape: torch.Size([3, 224, 224]), Type: torch.float32\n",
            "Frame shape: torch.Size([3, 224, 224]), Type: torch.float32\n",
            "Frame shape: torch.Size([3, 224, 224]), Type: torch.float32\n",
            "Frame shape: torch.Size([3, 224, 224]), Type: torch.float32\n"
          ]
        },
        {
          "output_type": "stream",
          "name": "stderr",
          "text": [
            "Training:  45%|████▌     | 9/20 [01:54<02:19, 12.72s/it, gpu_load=2.08GB, loss=2.0958]"
          ]
        },
        {
          "output_type": "stream",
          "name": "stdout",
          "text": [
            "Frame shape: torch.Size([3, 224, 224]), Type: torch.float32\n",
            "Frame shape: torch.Size([3, 224, 224]), Type: torch.float32\n",
            "Frame shape: torch.Size([3, 224, 224]), Type: torch.float32\n",
            "Frame shape: torch.Size([3, 224, 224]), Type: torch.float32\n",
            "Frame shape: torch.Size([3, 224, 224]), Type: torch.float32\n",
            "Frame shape: torch.Size([3, 224, 224]), Type: torch.float32\n",
            "Frame shape: torch.Size([3, 224, 224]), Type: torch.float32\n",
            "Frame shape: torch.Size([3, 224, 224]), Type: torch.float32\n",
            "Frame shape: torch.Size([3, 224, 224]), Type: torch.float32\n",
            "Frame shape: torch.Size([3, 224, 224]), Type: torch.float32\n",
            "Frame shape: torch.Size([3, 224, 224]), Type: torch.float32\n",
            "Frame shape: torch.Size([3, 224, 224]), Type: torch.float32\n",
            "Frame shape: torch.Size([3, 224, 224]), Type: torch.float32\n",
            "Frame shape: torch.Size([3, 224, 224]), Type: torch.float32\n",
            "Frame shape: torch.Size([3, 224, 224]), Type: torch.float32\n",
            "Frame shape: torch.Size([3, 224, 224]), Type: torch.float32\n",
            "Frame shape: torch.Size([3, 224, 224]), Type: torch.float32\n",
            "Frame shape: torch.Size([3, 224, 224]), Type: torch.float32\n",
            "Frame shape: torch.Size([3, 224, 224]), Type: torch.float32\n",
            "Frame shape: torch.Size([3, 224, 224]), Type: torch.float32\n",
            "Frame shape: torch.Size([3, 224, 224]), Type: torch.float32\n",
            "Frame shape: torch.Size([3, 224, 224]), Type: torch.float32\n",
            "Frame shape: torch.Size([3, 224, 224]), Type: torch.float32\n",
            "Frame shape: torch.Size([3, 224, 224]), Type: torch.float32\n"
          ]
        },
        {
          "output_type": "stream",
          "name": "stderr",
          "text": [
            "Training:  50%|█████     | 10/20 [02:06<02:04, 12.50s/it, gpu_load=2.08GB, loss=1.6339]"
          ]
        },
        {
          "output_type": "stream",
          "name": "stdout",
          "text": [
            "Frame shape: torch.Size([3, 224, 224]), Type: torch.float32\n",
            "Frame shape: torch.Size([3, 224, 224]), Type: torch.float32\n",
            "Frame shape: torch.Size([3, 224, 224]), Type: torch.float32\n",
            "Frame shape: torch.Size([3, 224, 224]), Type: torch.float32\n",
            "Frame shape: torch.Size([3, 224, 224]), Type: torch.float32\n",
            "Frame shape: torch.Size([3, 224, 224]), Type: torch.float32\n",
            "Frame shape: torch.Size([3, 224, 224]), Type: torch.float32\n",
            "Frame shape: torch.Size([3, 224, 224]), Type: torch.float32\n",
            "Frame shape: torch.Size([3, 224, 224]), Type: torch.float32\n",
            "Frame shape: torch.Size([3, 224, 224]), Type: torch.float32\n",
            "Frame shape: torch.Size([3, 224, 224]), Type: torch.float32\n",
            "Frame shape: torch.Size([3, 224, 224]), Type: torch.float32\n",
            "Frame shape: torch.Size([3, 224, 224]), Type: torch.float32\n",
            "Frame shape: torch.Size([3, 224, 224]), Type: torch.float32\n",
            "Frame shape: torch.Size([3, 224, 224]), Type: torch.float32\n",
            "Frame shape: torch.Size([3, 224, 224]), Type: torch.float32\n",
            "Frame shape: torch.Size([3, 224, 224]), Type: torch.float32\n",
            "Frame shape: torch.Size([3, 224, 224]), Type: torch.float32\n",
            "Frame shape: torch.Size([3, 224, 224]), Type: torch.float32\n",
            "Frame shape: torch.Size([3, 224, 224]), Type: torch.float32\n",
            "Frame shape: torch.Size([3, 224, 224]), Type: torch.float32\n",
            "Frame shape: torch.Size([3, 224, 224]), Type: torch.float32\n",
            "Frame shape: torch.Size([3, 224, 224]), Type: torch.float32\n",
            "Frame shape: torch.Size([3, 224, 224]), Type: torch.float32\n"
          ]
        },
        {
          "output_type": "stream",
          "name": "stderr",
          "text": [
            "Training:  55%|█████▌    | 11/20 [02:17<01:48, 12.10s/it, gpu_load=2.08GB, loss=1.8426]"
          ]
        },
        {
          "output_type": "stream",
          "name": "stdout",
          "text": [
            "Frame shape: torch.Size([3, 224, 224]), Type: torch.float32\n",
            "Frame shape: torch.Size([3, 224, 224]), Type: torch.float32\n",
            "Frame shape: torch.Size([3, 224, 224]), Type: torch.float32\n",
            "Frame shape: torch.Size([3, 224, 224]), Type: torch.float32\n",
            "Frame shape: torch.Size([3, 224, 224]), Type: torch.float32\n",
            "Frame shape: torch.Size([3, 224, 224]), Type: torch.float32\n",
            "Frame shape: torch.Size([3, 224, 224]), Type: torch.float32\n",
            "Frame shape: torch.Size([3, 224, 224]), Type: torch.float32\n",
            "Frame shape: torch.Size([3, 224, 224]), Type: torch.float32\n",
            "Frame shape: torch.Size([3, 224, 224]), Type: torch.float32\n",
            "Frame shape: torch.Size([3, 224, 224]), Type: torch.float32\n",
            "Frame shape: torch.Size([3, 224, 224]), Type: torch.float32\n",
            "Frame shape: torch.Size([3, 224, 224]), Type: torch.float32\n",
            "Frame shape: torch.Size([3, 224, 224]), Type: torch.float32\n",
            "Frame shape: torch.Size([3, 224, 224]), Type: torch.float32\n",
            "Frame shape: torch.Size([3, 224, 224]), Type: torch.float32\n",
            "Frame shape: torch.Size([3, 224, 224]), Type: torch.float32\n",
            "Frame shape: torch.Size([3, 224, 224]), Type: torch.float32\n",
            "Frame shape: torch.Size([3, 224, 224]), Type: torch.float32\n",
            "Frame shape: torch.Size([3, 224, 224]), Type: torch.float32\n",
            "Frame shape: torch.Size([3, 224, 224]), Type: torch.float32\n",
            "Frame shape: torch.Size([3, 224, 224]), Type: torch.float32\n",
            "Frame shape: torch.Size([3, 224, 224]), Type: torch.float32\n",
            "Frame shape: torch.Size([3, 224, 224]), Type: torch.float32\n"
          ]
        },
        {
          "output_type": "stream",
          "name": "stderr",
          "text": [
            "Training:  60%|██████    | 12/20 [02:29<01:35, 11.98s/it, gpu_load=2.08GB, loss=1.7516]"
          ]
        },
        {
          "output_type": "stream",
          "name": "stdout",
          "text": [
            "Frame shape: torch.Size([3, 224, 224]), Type: torch.float32\n",
            "Frame shape: torch.Size([3, 224, 224]), Type: torch.float32\n",
            "Frame shape: torch.Size([3, 224, 224]), Type: torch.float32\n",
            "Frame shape: torch.Size([3, 224, 224]), Type: torch.float32\n",
            "Frame shape: torch.Size([3, 224, 224]), Type: torch.float32\n",
            "Frame shape: torch.Size([3, 224, 224]), Type: torch.float32\n",
            "Frame shape: torch.Size([3, 224, 224]), Type: torch.float32\n",
            "Frame shape: torch.Size([3, 224, 224]), Type: torch.float32\n",
            "Frame shape: torch.Size([3, 224, 224]), Type: torch.float32\n",
            "Frame shape: torch.Size([3, 224, 224]), Type: torch.float32\n",
            "Frame shape: torch.Size([3, 224, 224]), Type: torch.float32\n",
            "Frame shape: torch.Size([3, 224, 224]), Type: torch.float32\n",
            "Frame shape: torch.Size([3, 224, 224]), Type: torch.float32\n",
            "Frame shape: torch.Size([3, 224, 224]), Type: torch.float32\n",
            "Frame shape: torch.Size([3, 224, 224]), Type: torch.float32\n",
            "Frame shape: torch.Size([3, 224, 224]), Type: torch.float32\n",
            "Frame shape: torch.Size([3, 224, 224]), Type: torch.float32\n",
            "Frame shape: torch.Size([3, 224, 224]), Type: torch.float32\n",
            "Frame shape: torch.Size([3, 224, 224]), Type: torch.float32\n",
            "Frame shape: torch.Size([3, 224, 224]), Type: torch.float32\n",
            "Frame shape: torch.Size([3, 224, 224]), Type: torch.float32\n",
            "Frame shape: torch.Size([3, 224, 224]), Type: torch.float32\n",
            "Frame shape: torch.Size([3, 224, 224]), Type: torch.float32\n",
            "Frame shape: torch.Size([3, 224, 224]), Type: torch.float32\n"
          ]
        },
        {
          "output_type": "stream",
          "name": "stderr",
          "text": [
            "Training:  65%|██████▌   | 13/20 [02:41<01:23, 11.95s/it, gpu_load=2.07GB, loss=1.9752]"
          ]
        },
        {
          "output_type": "stream",
          "name": "stdout",
          "text": [
            "Frame shape: torch.Size([3, 224, 224]), Type: torch.float32\n",
            "Frame shape: torch.Size([3, 224, 224]), Type: torch.float32\n",
            "Frame shape: torch.Size([3, 224, 224]), Type: torch.float32\n",
            "Frame shape: torch.Size([3, 224, 224]), Type: torch.float32\n",
            "Frame shape: torch.Size([3, 224, 224]), Type: torch.float32\n",
            "Frame shape: torch.Size([3, 224, 224]), Type: torch.float32\n",
            "Frame shape: torch.Size([3, 224, 224]), Type: torch.float32\n",
            "Frame shape: torch.Size([3, 224, 224]), Type: torch.float32\n",
            "Frame shape: torch.Size([3, 224, 224]), Type: torch.float32\n",
            "Frame shape: torch.Size([3, 224, 224]), Type: torch.float32\n",
            "Frame shape: torch.Size([3, 224, 224]), Type: torch.float32\n",
            "Frame shape: torch.Size([3, 224, 224]), Type: torch.float32\n",
            "Frame shape: torch.Size([3, 224, 224]), Type: torch.float32\n",
            "Frame shape: torch.Size([3, 224, 224]), Type: torch.float32\n",
            "Frame shape: torch.Size([3, 224, 224]), Type: torch.float32\n",
            "Frame shape: torch.Size([3, 224, 224]), Type: torch.float32\n",
            "Frame shape: torch.Size([3, 224, 224]), Type: torch.float32\n",
            "Frame shape: torch.Size([3, 224, 224]), Type: torch.float32\n",
            "Frame shape: torch.Size([3, 224, 224]), Type: torch.float32\n",
            "Frame shape: torch.Size([3, 224, 224]), Type: torch.float32\n",
            "Frame shape: torch.Size([3, 224, 224]), Type: torch.float32\n",
            "Frame shape: torch.Size([3, 224, 224]), Type: torch.float32\n",
            "Frame shape: torch.Size([3, 224, 224]), Type: torch.float32\n",
            "Frame shape: torch.Size([3, 224, 224]), Type: torch.float32\n"
          ]
        },
        {
          "output_type": "stream",
          "name": "stderr",
          "text": [
            "Training:  70%|███████   | 14/20 [02:54<01:13, 12.28s/it, gpu_load=2.08GB, loss=1.5887]"
          ]
        },
        {
          "output_type": "stream",
          "name": "stdout",
          "text": [
            "Frame shape: torch.Size([3, 224, 224]), Type: torch.float32\n",
            "Frame shape: torch.Size([3, 224, 224]), Type: torch.float32\n",
            "Frame shape: torch.Size([3, 224, 224]), Type: torch.float32\n",
            "Frame shape: torch.Size([3, 224, 224]), Type: torch.float32\n",
            "Frame shape: torch.Size([3, 224, 224]), Type: torch.float32\n",
            "Frame shape: torch.Size([3, 224, 224]), Type: torch.float32\n",
            "Frame shape: torch.Size([3, 224, 224]), Type: torch.float32\n",
            "Frame shape: torch.Size([3, 224, 224]), Type: torch.float32\n",
            "Frame shape: torch.Size([3, 224, 224]), Type: torch.float32\n",
            "Frame shape: torch.Size([3, 224, 224]), Type: torch.float32\n",
            "Frame shape: torch.Size([3, 224, 224]), Type: torch.float32\n",
            "Frame shape: torch.Size([3, 224, 224]), Type: torch.float32\n",
            "Frame shape: torch.Size([3, 224, 224]), Type: torch.float32\n",
            "Frame shape: torch.Size([3, 224, 224]), Type: torch.float32\n",
            "Frame shape: torch.Size([3, 224, 224]), Type: torch.float32\n",
            "Frame shape: torch.Size([3, 224, 224]), Type: torch.float32\n",
            "Frame shape: torch.Size([3, 224, 224]), Type: torch.float32\n",
            "Frame shape: torch.Size([3, 224, 224]), Type: torch.float32\n",
            "Frame shape: torch.Size([3, 224, 224]), Type: torch.float32\n",
            "Frame shape: torch.Size([3, 224, 224]), Type: torch.float32\n",
            "Frame shape: torch.Size([3, 224, 224]), Type: torch.float32\n",
            "Frame shape: torch.Size([3, 224, 224]), Type: torch.float32\n",
            "Frame shape: torch.Size([3, 224, 224]), Type: torch.float32\n",
            "Frame shape: torch.Size([3, 224, 224]), Type: torch.float32\n"
          ]
        },
        {
          "output_type": "stream",
          "name": "stderr",
          "text": [
            "Training:  75%|███████▌  | 15/20 [03:06<01:00, 12.13s/it, gpu_load=2.08GB, loss=1.9318]"
          ]
        },
        {
          "output_type": "stream",
          "name": "stdout",
          "text": [
            "Frame shape: torch.Size([3, 224, 224]), Type: torch.float32\n",
            "Frame shape: torch.Size([3, 224, 224]), Type: torch.float32\n",
            "Frame shape: torch.Size([3, 224, 224]), Type: torch.float32\n",
            "Frame shape: torch.Size([3, 224, 224]), Type: torch.float32\n",
            "Frame shape: torch.Size([3, 224, 224]), Type: torch.float32\n",
            "Frame shape: torch.Size([3, 224, 224]), Type: torch.float32\n",
            "Frame shape: torch.Size([3, 224, 224]), Type: torch.float32\n",
            "Frame shape: torch.Size([3, 224, 224]), Type: torch.float32\n",
            "Frame shape: torch.Size([3, 224, 224]), Type: torch.float32\n",
            "Frame shape: torch.Size([3, 224, 224]), Type: torch.float32\n",
            "Frame shape: torch.Size([3, 224, 224]), Type: torch.float32\n",
            "Frame shape: torch.Size([3, 224, 224]), Type: torch.float32\n",
            "Frame shape: torch.Size([3, 224, 224]), Type: torch.float32\n",
            "Frame shape: torch.Size([3, 224, 224]), Type: torch.float32\n",
            "Frame shape: torch.Size([3, 224, 224]), Type: torch.float32\n",
            "Frame shape: torch.Size([3, 224, 224]), Type: torch.float32\n",
            "Frame shape: torch.Size([3, 224, 224]), Type: torch.float32\n",
            "Frame shape: torch.Size([3, 224, 224]), Type: torch.float32\n",
            "Frame shape: torch.Size([3, 224, 224]), Type: torch.float32\n",
            "Frame shape: torch.Size([3, 224, 224]), Type: torch.float32\n",
            "Frame shape: torch.Size([3, 224, 224]), Type: torch.float32\n",
            "Frame shape: torch.Size([3, 224, 224]), Type: torch.float32\n",
            "Frame shape: torch.Size([3, 224, 224]), Type: torch.float32\n",
            "Frame shape: torch.Size([3, 224, 224]), Type: torch.float32\n"
          ]
        },
        {
          "output_type": "stream",
          "name": "stderr",
          "text": [
            "Training:  80%|████████  | 16/20 [03:18<00:48, 12.16s/it, gpu_load=2.08GB, loss=1.6260]"
          ]
        },
        {
          "output_type": "stream",
          "name": "stdout",
          "text": [
            "Frame shape: torch.Size([3, 224, 224]), Type: torch.float32\n",
            "Frame shape: torch.Size([3, 224, 224]), Type: torch.float32\n",
            "Frame shape: torch.Size([3, 224, 224]), Type: torch.float32\n",
            "Frame shape: torch.Size([3, 224, 224]), Type: torch.float32\n",
            "Frame shape: torch.Size([3, 224, 224]), Type: torch.float32\n",
            "Frame shape: torch.Size([3, 224, 224]), Type: torch.float32\n",
            "Frame shape: torch.Size([3, 224, 224]), Type: torch.float32\n",
            "Frame shape: torch.Size([3, 224, 224]), Type: torch.float32\n",
            "Frame shape: torch.Size([3, 224, 224]), Type: torch.float32\n",
            "Frame shape: torch.Size([3, 224, 224]), Type: torch.float32\n",
            "Frame shape: torch.Size([3, 224, 224]), Type: torch.float32\n",
            "Frame shape: torch.Size([3, 224, 224]), Type: torch.float32\n",
            "Frame shape: torch.Size([3, 224, 224]), Type: torch.float32\n",
            "Frame shape: torch.Size([3, 224, 224]), Type: torch.float32\n",
            "Frame shape: torch.Size([3, 224, 224]), Type: torch.float32\n",
            "Frame shape: torch.Size([3, 224, 224]), Type: torch.float32\n",
            "Frame shape: torch.Size([3, 224, 224]), Type: torch.float32\n",
            "Frame shape: torch.Size([3, 224, 224]), Type: torch.float32\n",
            "Frame shape: torch.Size([3, 224, 224]), Type: torch.float32\n",
            "Frame shape: torch.Size([3, 224, 224]), Type: torch.float32\n",
            "Frame shape: torch.Size([3, 224, 224]), Type: torch.float32\n",
            "Frame shape: torch.Size([3, 224, 224]), Type: torch.float32\n",
            "Frame shape: torch.Size([3, 224, 224]), Type: torch.float32\n",
            "Frame shape: torch.Size([3, 224, 224]), Type: torch.float32\n"
          ]
        },
        {
          "output_type": "stream",
          "name": "stderr",
          "text": [
            "Training:  85%|████████▌ | 17/20 [03:29<00:35, 11.88s/it, gpu_load=2.08GB, loss=1.9966]"
          ]
        },
        {
          "output_type": "stream",
          "name": "stdout",
          "text": [
            "Frame shape: torch.Size([3, 224, 224]), Type: torch.float32\n",
            "Frame shape: torch.Size([3, 224, 224]), Type: torch.float32\n",
            "Frame shape: torch.Size([3, 224, 224]), Type: torch.float32\n",
            "Frame shape: torch.Size([3, 224, 224]), Type: torch.float32\n",
            "Frame shape: torch.Size([3, 224, 224]), Type: torch.float32\n",
            "Frame shape: torch.Size([3, 224, 224]), Type: torch.float32\n",
            "Frame shape: torch.Size([3, 224, 224]), Type: torch.float32\n",
            "Frame shape: torch.Size([3, 224, 224]), Type: torch.float32\n",
            "Frame shape: torch.Size([3, 224, 224]), Type: torch.float32\n",
            "Frame shape: torch.Size([3, 224, 224]), Type: torch.float32\n",
            "Frame shape: torch.Size([3, 224, 224]), Type: torch.float32\n",
            "Frame shape: torch.Size([3, 224, 224]), Type: torch.float32\n",
            "Frame shape: torch.Size([3, 224, 224]), Type: torch.float32\n",
            "Frame shape: torch.Size([3, 224, 224]), Type: torch.float32\n",
            "Frame shape: torch.Size([3, 224, 224]), Type: torch.float32\n",
            "Frame shape: torch.Size([3, 224, 224]), Type: torch.float32\n",
            "Frame shape: torch.Size([3, 224, 224]), Type: torch.float32\n",
            "Frame shape: torch.Size([3, 224, 224]), Type: torch.float32\n",
            "Frame shape: torch.Size([3, 224, 224]), Type: torch.float32\n",
            "Frame shape: torch.Size([3, 224, 224]), Type: torch.float32\n",
            "Frame shape: torch.Size([3, 224, 224]), Type: torch.float32\n",
            "Frame shape: torch.Size([3, 224, 224]), Type: torch.float32\n",
            "Frame shape: torch.Size([3, 224, 224]), Type: torch.float32\n",
            "Frame shape: torch.Size([3, 224, 224]), Type: torch.float32\n"
          ]
        },
        {
          "output_type": "stream",
          "name": "stderr",
          "text": [
            "Training:  90%|█████████ | 18/20 [03:42<00:24, 12.16s/it, gpu_load=2.08GB, loss=1.8451]"
          ]
        },
        {
          "output_type": "stream",
          "name": "stdout",
          "text": [
            "Frame shape: torch.Size([3, 224, 224]), Type: torch.float32\n",
            "Frame shape: torch.Size([3, 224, 224]), Type: torch.float32\n",
            "Frame shape: torch.Size([3, 224, 224]), Type: torch.float32\n",
            "Frame shape: torch.Size([3, 224, 224]), Type: torch.float32\n",
            "Frame shape: torch.Size([3, 224, 224]), Type: torch.float32\n",
            "Frame shape: torch.Size([3, 224, 224]), Type: torch.float32\n",
            "Frame shape: torch.Size([3, 224, 224]), Type: torch.float32\n",
            "Frame shape: torch.Size([3, 224, 224]), Type: torch.float32\n",
            "Frame shape: torch.Size([3, 224, 224]), Type: torch.float32\n",
            "Frame shape: torch.Size([3, 224, 224]), Type: torch.float32\n",
            "Frame shape: torch.Size([3, 224, 224]), Type: torch.float32\n",
            "Frame shape: torch.Size([3, 224, 224]), Type: torch.float32\n",
            "Frame shape: torch.Size([3, 224, 224]), Type: torch.float32\n",
            "Frame shape: torch.Size([3, 224, 224]), Type: torch.float32\n",
            "Frame shape: torch.Size([3, 224, 224]), Type: torch.float32\n",
            "Frame shape: torch.Size([3, 224, 224]), Type: torch.float32\n",
            "Frame shape: torch.Size([3, 224, 224]), Type: torch.float32\n",
            "Frame shape: torch.Size([3, 224, 224]), Type: torch.float32\n",
            "Frame shape: torch.Size([3, 224, 224]), Type: torch.float32\n",
            "Frame shape: torch.Size([3, 224, 224]), Type: torch.float32\n",
            "Frame shape: torch.Size([3, 224, 224]), Type: torch.float32\n",
            "Frame shape: torch.Size([3, 224, 224]), Type: torch.float32\n",
            "Frame shape: torch.Size([3, 224, 224]), Type: torch.float32\n",
            "Frame shape: torch.Size([3, 224, 224]), Type: torch.float32\n"
          ]
        },
        {
          "output_type": "stream",
          "name": "stderr",
          "text": [
            "Training:  95%|█████████▌| 19/20 [03:54<00:12, 12.17s/it, gpu_load=2.08GB, loss=1.6892]"
          ]
        },
        {
          "output_type": "stream",
          "name": "stdout",
          "text": [
            "Frame shape: torch.Size([3, 224, 224]), Type: torch.float32\n",
            "Frame shape: torch.Size([3, 224, 224]), Type: torch.float32\n",
            "Frame shape: torch.Size([3, 224, 224]), Type: torch.float32\n",
            "Frame shape: torch.Size([3, 224, 224]), Type: torch.float32\n",
            "Frame shape: torch.Size([3, 224, 224]), Type: torch.float32\n",
            "Frame shape: torch.Size([3, 224, 224]), Type: torch.float32\n",
            "Frame shape: torch.Size([3, 224, 224]), Type: torch.float32\n",
            "Frame shape: torch.Size([3, 224, 224]), Type: torch.float32\n",
            "Frame shape: torch.Size([3, 224, 224]), Type: torch.float32\n",
            "Frame shape: torch.Size([3, 224, 224]), Type: torch.float32\n",
            "Frame shape: torch.Size([3, 224, 224]), Type: torch.float32\n",
            "Frame shape: torch.Size([3, 224, 224]), Type: torch.float32\n",
            "Frame shape: torch.Size([3, 224, 224]), Type: torch.float32\n",
            "Frame shape: torch.Size([3, 224, 224]), Type: torch.float32\n",
            "Frame shape: torch.Size([3, 224, 224]), Type: torch.float32\n",
            "Frame shape: torch.Size([3, 224, 224]), Type: torch.float32\n",
            "Frame shape: torch.Size([3, 224, 224]), Type: torch.float32\n",
            "Frame shape: torch.Size([3, 224, 224]), Type: torch.float32\n",
            "Frame shape: torch.Size([3, 224, 224]), Type: torch.float32\n",
            "Frame shape: torch.Size([3, 224, 224]), Type: torch.float32\n",
            "Frame shape: torch.Size([3, 224, 224]), Type: torch.float32\n"
          ]
        },
        {
          "output_type": "stream",
          "name": "stderr",
          "text": [
            "Training: 100%|██████████| 20/20 [04:05<00:00, 12.27s/it, gpu_load=1.83GB, loss=1.7967]\n"
          ]
        },
        {
          "output_type": "stream",
          "name": "stdout",
          "text": [
            "Frame shape: torch.Size([3, 224, 224]), Type: torch.float32\n"
          ]
        },
        {
          "output_type": "stream",
          "name": "stderr",
          "text": [
            "\rTesting:   0%|          | 0/5 [00:00<?, ?it/s]"
          ]
        },
        {
          "output_type": "stream",
          "name": "stdout",
          "text": [
            "Frame shape: torch.Size([3, 224, 224]), Type: torch.float32\n",
            "Frame shape: torch.Size([3, 224, 224]), Type: torch.float32\n",
            "Frame shape: torch.Size([3, 224, 224]), Type: torch.float32\n",
            "Frame shape: torch.Size([3, 224, 224]), Type: torch.float32\n",
            "Frame shape: torch.Size([3, 224, 224]), Type: torch.float32\n",
            "Frame shape: torch.Size([3, 224, 224]), Type: torch.float32\n",
            "Frame shape: torch.Size([3, 224, 224]), Type: torch.float32\n",
            "Frame shape: torch.Size([3, 224, 224]), Type: torch.float32\n",
            "Frame shape: torch.Size([3, 224, 224]), Type: torch.float32\n",
            "Frame shape: torch.Size([3, 224, 224]), Type: torch.float32\n",
            "Frame shape: torch.Size([3, 224, 224]), Type: torch.float32\n",
            "Frame shape: torch.Size([3, 224, 224]), Type: torch.float32\n",
            "Frame shape: torch.Size([3, 224, 224]), Type: torch.float32\n",
            "Frame shape: torch.Size([3, 224, 224]), Type: torch.float32\n",
            "Frame shape: torch.Size([3, 224, 224]), Type: torch.float32\n",
            "Frame shape: torch.Size([3, 224, 224]), Type: torch.float32\n",
            "Frame shape: torch.Size([3, 224, 224]), Type: torch.float32\n",
            "Frame shape: torch.Size([3, 224, 224]), Type: torch.float32\n",
            "Frame shape: torch.Size([3, 224, 224]), Type: torch.float32\n",
            "Frame shape: torch.Size([3, 224, 224]), Type: torch.float32\n",
            "Frame shape: torch.Size([3, 224, 224]), Type: torch.float32\n",
            "Frame shape: torch.Size([3, 224, 224]), Type: torch.float32\n",
            "Frame shape: torch.Size([3, 224, 224]), Type: torch.float32\n"
          ]
        },
        {
          "output_type": "stream",
          "name": "stderr",
          "text": [
            "Testing:  20%|██        | 1/5 [00:12<00:51, 12.89s/it, loss=2.6886]"
          ]
        },
        {
          "output_type": "stream",
          "name": "stdout",
          "text": [
            "Frame shape: torch.Size([3, 224, 224]), Type: torch.float32\n",
            "Frame shape: torch.Size([3, 224, 224]), Type: torch.float32\n",
            "Frame shape: torch.Size([3, 224, 224]), Type: torch.float32\n",
            "Frame shape: torch.Size([3, 224, 224]), Type: torch.float32\n",
            "Frame shape: torch.Size([3, 224, 224]), Type: torch.float32\n",
            "Frame shape: torch.Size([3, 224, 224]), Type: torch.float32\n",
            "Frame shape: torch.Size([3, 224, 224]), Type: torch.float32\n",
            "Frame shape: torch.Size([3, 224, 224]), Type: torch.float32\n",
            "Frame shape: torch.Size([3, 224, 224]), Type: torch.float32\n",
            "Frame shape: torch.Size([3, 224, 224]), Type: torch.float32\n",
            "Frame shape: torch.Size([3, 224, 224]), Type: torch.float32\n",
            "Frame shape: torch.Size([3, 224, 224]), Type: torch.float32\n",
            "Frame shape: torch.Size([3, 224, 224]), Type: torch.float32\n",
            "Frame shape: torch.Size([3, 224, 224]), Type: torch.float32\n",
            "Frame shape: torch.Size([3, 224, 224]), Type: torch.float32\n",
            "Frame shape: torch.Size([3, 224, 224]), Type: torch.float32\n",
            "Frame shape: torch.Size([3, 224, 224]), Type: torch.float32\n",
            "Frame shape: torch.Size([3, 224, 224]), Type: torch.float32\n",
            "Frame shape: torch.Size([3, 224, 224]), Type: torch.float32\n",
            "Frame shape: torch.Size([3, 224, 224]), Type: torch.float32\n",
            "Frame shape: torch.Size([3, 224, 224]), Type: torch.float32\n",
            "Frame shape: torch.Size([3, 224, 224]), Type: torch.float32\n",
            "Frame shape: torch.Size([3, 224, 224]), Type: torch.float32\n",
            "Frame shape: torch.Size([3, 224, 224]), Type: torch.float32\n"
          ]
        },
        {
          "output_type": "stream",
          "name": "stderr",
          "text": [
            "Testing:  40%|████      | 2/5 [00:24<00:35, 11.94s/it, loss=2.2856]"
          ]
        },
        {
          "output_type": "stream",
          "name": "stdout",
          "text": [
            "Frame shape: torch.Size([3, 224, 224]), Type: torch.float32\n",
            "Frame shape: torch.Size([3, 224, 224]), Type: torch.float32\n",
            "Frame shape: torch.Size([3, 224, 224]), Type: torch.float32\n",
            "Frame shape: torch.Size([3, 224, 224]), Type: torch.float32\n",
            "Frame shape: torch.Size([3, 224, 224]), Type: torch.float32\n",
            "Frame shape: torch.Size([3, 224, 224]), Type: torch.float32\n",
            "Frame shape: torch.Size([3, 224, 224]), Type: torch.float32\n",
            "Frame shape: torch.Size([3, 224, 224]), Type: torch.float32\n",
            "Frame shape: torch.Size([3, 224, 224]), Type: torch.float32\n",
            "Frame shape: torch.Size([3, 224, 224]), Type: torch.float32\n",
            "Frame shape: torch.Size([3, 224, 224]), Type: torch.float32\n",
            "Frame shape: torch.Size([3, 224, 224]), Type: torch.float32\n",
            "Frame shape: torch.Size([3, 224, 224]), Type: torch.float32\n",
            "Frame shape: torch.Size([3, 224, 224]), Type: torch.float32\n",
            "Frame shape: torch.Size([3, 224, 224]), Type: torch.float32\n",
            "Frame shape: torch.Size([3, 224, 224]), Type: torch.float32\n",
            "Frame shape: torch.Size([3, 224, 224]), Type: torch.float32\n",
            "Frame shape: torch.Size([3, 224, 224]), Type: torch.float32\n",
            "Frame shape: torch.Size([3, 224, 224]), Type: torch.float32\n",
            "Frame shape: torch.Size([3, 224, 224]), Type: torch.float32\n",
            "Frame shape: torch.Size([3, 224, 224]), Type: torch.float32\n",
            "Frame shape: torch.Size([3, 224, 224]), Type: torch.float32\n",
            "Frame shape: torch.Size([3, 224, 224]), Type: torch.float32\n",
            "Frame shape: torch.Size([3, 224, 224]), Type: torch.float32\n"
          ]
        },
        {
          "output_type": "stream",
          "name": "stderr",
          "text": [
            "Testing:  60%|██████    | 3/5 [00:37<00:25, 12.65s/it, loss=1.9975]"
          ]
        },
        {
          "output_type": "stream",
          "name": "stdout",
          "text": [
            "Frame shape: torch.Size([3, 224, 224]), Type: torch.float32\n",
            "Frame shape: torch.Size([3, 224, 224]), Type: torch.float32\n",
            "Frame shape: torch.Size([3, 224, 224]), Type: torch.float32\n",
            "Frame shape: torch.Size([3, 224, 224]), Type: torch.float32\n",
            "Frame shape: torch.Size([3, 224, 224]), Type: torch.float32\n",
            "Frame shape: torch.Size([3, 224, 224]), Type: torch.float32\n",
            "Frame shape: torch.Size([3, 224, 224]), Type: torch.float32\n",
            "Frame shape: torch.Size([3, 224, 224]), Type: torch.float32\n",
            "Frame shape: torch.Size([3, 224, 224]), Type: torch.float32\n",
            "Frame shape: torch.Size([3, 224, 224]), Type: torch.float32\n",
            "Frame shape: torch.Size([3, 224, 224]), Type: torch.float32\n",
            "Frame shape: torch.Size([3, 224, 224]), Type: torch.float32\n",
            "Frame shape: torch.Size([3, 224, 224]), Type: torch.float32\n",
            "Frame shape: torch.Size([3, 224, 224]), Type: torch.float32\n",
            "Frame shape: torch.Size([3, 224, 224]), Type: torch.float32\n",
            "Frame shape: torch.Size([3, 224, 224]), Type: torch.float32\n",
            "Frame shape: torch.Size([3, 224, 224]), Type: torch.float32\n",
            "Frame shape: torch.Size([3, 224, 224]), Type: torch.float32\n",
            "Frame shape: torch.Size([3, 224, 224]), Type: torch.float32\n",
            "Frame shape: torch.Size([3, 224, 224]), Type: torch.float32\n",
            "Frame shape: torch.Size([3, 224, 224]), Type: torch.float32\n",
            "Frame shape: torch.Size([3, 224, 224]), Type: torch.float32\n",
            "Frame shape: torch.Size([3, 224, 224]), Type: torch.float32\n",
            "Frame shape: torch.Size([3, 224, 224]), Type: torch.float32\n",
            "Frame shape: torch.Size([3, 224, 224]), Type: torch.float32\n"
          ]
        },
        {
          "output_type": "stream",
          "name": "stderr",
          "text": [
            "Testing:  80%|████████  | 4/5 [00:50<00:12, 12.79s/it, loss=2.4891]"
          ]
        },
        {
          "output_type": "stream",
          "name": "stdout",
          "text": [
            "Frame shape: torch.Size([3, 224, 224]), Type: torch.float32\n",
            "Frame shape: torch.Size([3, 224, 224]), Type: torch.float32\n",
            "Frame shape: torch.Size([3, 224, 224]), Type: torch.float32\n",
            "Frame shape: torch.Size([3, 224, 224]), Type: torch.float32\n",
            "Frame shape: torch.Size([3, 224, 224]), Type: torch.float32\n",
            "Frame shape: torch.Size([3, 224, 224]), Type: torch.float32\n",
            "Frame shape: torch.Size([3, 224, 224]), Type: torch.float32\n",
            "Frame shape: torch.Size([3, 224, 224]), Type: torch.float32\n",
            "Frame shape: torch.Size([3, 224, 224]), Type: torch.float32\n",
            "Frame shape: torch.Size([3, 224, 224]), Type: torch.float32\n",
            "Frame shape: torch.Size([3, 224, 224]), Type: torch.float32\n",
            "Frame shape: torch.Size([3, 224, 224]), Type: torch.float32\n",
            "Frame shape: torch.Size([3, 224, 224]), Type: torch.float32\n",
            "Frame shape: torch.Size([3, 224, 224]), Type: torch.float32\n",
            "Frame shape: torch.Size([3, 224, 224]), Type: torch.float32\n",
            "Frame shape: torch.Size([3, 224, 224]), Type: torch.float32\n",
            "Frame shape: torch.Size([3, 224, 224]), Type: torch.float32\n",
            "Frame shape: torch.Size([3, 224, 224]), Type: torch.float32\n",
            "Frame shape: torch.Size([3, 224, 224]), Type: torch.float32\n",
            "Frame shape: torch.Size([3, 224, 224]), Type: torch.float32\n",
            "Frame shape: torch.Size([3, 224, 224]), Type: torch.float32\n",
            "Frame shape: torch.Size([3, 224, 224]), Type: torch.float32\n",
            "Frame shape: torch.Size([3, 224, 224]), Type: torch.float32\n"
          ]
        },
        {
          "output_type": "stream",
          "name": "stderr",
          "text": [
            "Testing: 100%|██████████| 5/5 [01:01<00:00, 12.33s/it, loss=2.5422]"
          ]
        },
        {
          "output_type": "stream",
          "name": "stdout",
          "text": [
            "Frame shape: torch.Size([3, 224, 224]), Type: torch.float32\n",
            "epoch: 4, lr_rate 0.0008\n",
            "loss_train: 1.8474| loss_valid: 2.4006|\n",
            "metric 0.25.\n",
            "Elapsed time: 00:05:07\n"
          ]
        },
        {
          "output_type": "stream",
          "name": "stderr",
          "text": [
            "\n"
          ]
        },
        {
          "output_type": "stream",
          "name": "stdout",
          "text": [
            "---------------------epoch:5/10---------------------\n"
          ]
        },
        {
          "output_type": "stream",
          "name": "stderr",
          "text": [
            "\rTraining:   0%|          | 0/20 [00:00<?, ?it/s]"
          ]
        },
        {
          "output_type": "stream",
          "name": "stdout",
          "text": [
            "Frame shape: torch.Size([3, 224, 224]), Type: torch.float32\n",
            "Frame shape: torch.Size([3, 224, 224]), Type: torch.float32\n",
            "Frame shape: torch.Size([3, 224, 224]), Type: torch.float32\n",
            "Frame shape: torch.Size([3, 224, 224]), Type: torch.float32\n",
            "Frame shape: torch.Size([3, 224, 224]), Type: torch.float32\n",
            "Frame shape: torch.Size([3, 224, 224]), Type: torch.float32\n",
            "Frame shape: torch.Size([3, 224, 224]), Type: torch.float32\n",
            "Frame shape: torch.Size([3, 224, 224]), Type: torch.float32\n",
            "Frame shape: torch.Size([3, 224, 224]), Type: torch.float32\n",
            "Frame shape: torch.Size([3, 224, 224]), Type: torch.float32\n",
            "Frame shape: torch.Size([3, 224, 224]), Type: torch.float32\n",
            "Frame shape: torch.Size([3, 224, 224]), Type: torch.float32\n",
            "Frame shape: torch.Size([3, 224, 224]), Type: torch.float32\n",
            "Frame shape: torch.Size([3, 224, 224]), Type: torch.float32\n",
            "Frame shape: torch.Size([3, 224, 224]), Type: torch.float32\n",
            "Frame shape: torch.Size([3, 224, 224]), Type: torch.float32\n",
            "Frame shape: torch.Size([3, 224, 224]), Type: torch.float32\n",
            "Frame shape: torch.Size([3, 224, 224]), Type: torch.float32\n",
            "Frame shape: torch.Size([3, 224, 224]), Type: torch.float32\n",
            "Frame shape: torch.Size([3, 224, 224]), Type: torch.float32\n",
            "Frame shape: torch.Size([3, 224, 224]), Type: torch.float32\n",
            "Frame shape: torch.Size([3, 224, 224]), Type: torch.float32\n",
            "Frame shape: torch.Size([3, 224, 224]), Type: torch.float32\n"
          ]
        },
        {
          "output_type": "stream",
          "name": "stderr",
          "text": [
            "Training:   5%|▌         | 1/20 [00:12<03:58, 12.54s/it, gpu_load=2.08GB, loss=1.3660]"
          ]
        },
        {
          "output_type": "stream",
          "name": "stdout",
          "text": [
            "Frame shape: torch.Size([3, 224, 224]), Type: torch.float32\n",
            "Frame shape: torch.Size([3, 224, 224]), Type: torch.float32\n",
            "Frame shape: torch.Size([3, 224, 224]), Type: torch.float32\n",
            "Frame shape: torch.Size([3, 224, 224]), Type: torch.float32\n",
            "Frame shape: torch.Size([3, 224, 224]), Type: torch.float32\n",
            "Frame shape: torch.Size([3, 224, 224]), Type: torch.float32\n",
            "Frame shape: torch.Size([3, 224, 224]), Type: torch.float32\n",
            "Frame shape: torch.Size([3, 224, 224]), Type: torch.float32\n",
            "Frame shape: torch.Size([3, 224, 224]), Type: torch.float32\n",
            "Frame shape: torch.Size([3, 224, 224]), Type: torch.float32\n",
            "Frame shape: torch.Size([3, 224, 224]), Type: torch.float32\n",
            "Frame shape: torch.Size([3, 224, 224]), Type: torch.float32\n",
            "Frame shape: torch.Size([3, 224, 224]), Type: torch.float32\n",
            "Frame shape: torch.Size([3, 224, 224]), Type: torch.float32\n",
            "Frame shape: torch.Size([3, 224, 224]), Type: torch.float32\n",
            "Frame shape: torch.Size([3, 224, 224]), Type: torch.float32\n",
            "Frame shape: torch.Size([3, 224, 224]), Type: torch.float32\n",
            "Frame shape: torch.Size([3, 224, 224]), Type: torch.float32\n",
            "Frame shape: torch.Size([3, 224, 224]), Type: torch.float32\n",
            "Frame shape: torch.Size([3, 224, 224]), Type: torch.float32\n",
            "Frame shape: torch.Size([3, 224, 224]), Type: torch.float32\n",
            "Frame shape: torch.Size([3, 224, 224]), Type: torch.float32\n",
            "Frame shape: torch.Size([3, 224, 224]), Type: torch.float32\n",
            "Frame shape: torch.Size([3, 224, 224]), Type: torch.float32\n"
          ]
        },
        {
          "output_type": "stream",
          "name": "stderr",
          "text": [
            "Training:  10%|█         | 2/20 [00:24<03:40, 12.25s/it, gpu_load=2.08GB, loss=1.6833]"
          ]
        },
        {
          "output_type": "stream",
          "name": "stdout",
          "text": [
            "Frame shape: torch.Size([3, 224, 224]), Type: torch.float32\n",
            "Frame shape: torch.Size([3, 224, 224]), Type: torch.float32\n",
            "Frame shape: torch.Size([3, 224, 224]), Type: torch.float32\n",
            "Frame shape: torch.Size([3, 224, 224]), Type: torch.float32\n",
            "Frame shape: torch.Size([3, 224, 224]), Type: torch.float32\n",
            "Frame shape: torch.Size([3, 224, 224]), Type: torch.float32\n",
            "Frame shape: torch.Size([3, 224, 224]), Type: torch.float32\n",
            "Frame shape: torch.Size([3, 224, 224]), Type: torch.float32\n",
            "Frame shape: torch.Size([3, 224, 224]), Type: torch.float32\n",
            "Frame shape: torch.Size([3, 224, 224]), Type: torch.float32\n",
            "Frame shape: torch.Size([3, 224, 224]), Type: torch.float32\n",
            "Frame shape: torch.Size([3, 224, 224]), Type: torch.float32\n",
            "Frame shape: torch.Size([3, 224, 224]), Type: torch.float32\n",
            "Frame shape: torch.Size([3, 224, 224]), Type: torch.float32\n",
            "Frame shape: torch.Size([3, 224, 224]), Type: torch.float32\n",
            "Frame shape: torch.Size([3, 224, 224]), Type: torch.float32\n",
            "Frame shape: torch.Size([3, 224, 224]), Type: torch.float32\n",
            "Frame shape: torch.Size([3, 224, 224]), Type: torch.float32\n",
            "Frame shape: torch.Size([3, 224, 224]), Type: torch.float32\n",
            "Frame shape: torch.Size([3, 224, 224]), Type: torch.float32\n",
            "Frame shape: torch.Size([3, 224, 224]), Type: torch.float32\n",
            "Frame shape: torch.Size([3, 224, 224]), Type: torch.float32\n",
            "Frame shape: torch.Size([3, 224, 224]), Type: torch.float32\n",
            "Frame shape: torch.Size([3, 224, 224]), Type: torch.float32\n"
          ]
        },
        {
          "output_type": "stream",
          "name": "stderr",
          "text": [
            "Training:  15%|█▌        | 3/20 [00:36<03:23, 11.96s/it, gpu_load=2.08GB, loss=1.6939]"
          ]
        },
        {
          "output_type": "stream",
          "name": "stdout",
          "text": [
            "Frame shape: torch.Size([3, 224, 224]), Type: torch.float32\n",
            "Frame shape: torch.Size([3, 224, 224]), Type: torch.float32\n",
            "Frame shape: torch.Size([3, 224, 224]), Type: torch.float32\n",
            "Frame shape: torch.Size([3, 224, 224]), Type: torch.float32\n",
            "Frame shape: torch.Size([3, 224, 224]), Type: torch.float32\n",
            "Frame shape: torch.Size([3, 224, 224]), Type: torch.float32\n",
            "Frame shape: torch.Size([3, 224, 224]), Type: torch.float32\n",
            "Frame shape: torch.Size([3, 224, 224]), Type: torch.float32\n",
            "Frame shape: torch.Size([3, 224, 224]), Type: torch.float32\n",
            "Frame shape: torch.Size([3, 224, 224]), Type: torch.float32\n",
            "Frame shape: torch.Size([3, 224, 224]), Type: torch.float32\n",
            "Frame shape: torch.Size([3, 224, 224]), Type: torch.float32\n",
            "Frame shape: torch.Size([3, 224, 224]), Type: torch.float32\n",
            "Frame shape: torch.Size([3, 224, 224]), Type: torch.float32\n",
            "Frame shape: torch.Size([3, 224, 224]), Type: torch.float32\n",
            "Frame shape: torch.Size([3, 224, 224]), Type: torch.float32\n",
            "Frame shape: torch.Size([3, 224, 224]), Type: torch.float32\n",
            "Frame shape: torch.Size([3, 224, 224]), Type: torch.float32\n",
            "Frame shape: torch.Size([3, 224, 224]), Type: torch.float32\n",
            "Frame shape: torch.Size([3, 224, 224]), Type: torch.float32\n",
            "Frame shape: torch.Size([3, 224, 224]), Type: torch.float32\n",
            "Frame shape: torch.Size([3, 224, 224]), Type: torch.float32\n",
            "Frame shape: torch.Size([3, 224, 224]), Type: torch.float32\n",
            "Frame shape: torch.Size([3, 224, 224]), Type: torch.float32\n"
          ]
        },
        {
          "output_type": "stream",
          "name": "stderr",
          "text": [
            "Training:  20%|██        | 4/20 [00:48<03:16, 12.26s/it, gpu_load=2.07GB, loss=1.4263]"
          ]
        },
        {
          "output_type": "stream",
          "name": "stdout",
          "text": [
            "Frame shape: torch.Size([3, 224, 224]), Type: torch.float32\n",
            "Frame shape: torch.Size([3, 224, 224]), Type: torch.float32\n",
            "Frame shape: torch.Size([3, 224, 224]), Type: torch.float32\n",
            "Frame shape: torch.Size([3, 224, 224]), Type: torch.float32\n",
            "Frame shape: torch.Size([3, 224, 224]), Type: torch.float32\n",
            "Frame shape: torch.Size([3, 224, 224]), Type: torch.float32\n",
            "Frame shape: torch.Size([3, 224, 224]), Type: torch.float32\n",
            "Frame shape: torch.Size([3, 224, 224]), Type: torch.float32\n",
            "Frame shape: torch.Size([3, 224, 224]), Type: torch.float32\n",
            "Frame shape: torch.Size([3, 224, 224]), Type: torch.float32\n",
            "Frame shape: torch.Size([3, 224, 224]), Type: torch.float32\n",
            "Frame shape: torch.Size([3, 224, 224]), Type: torch.float32\n",
            "Frame shape: torch.Size([3, 224, 224]), Type: torch.float32\n",
            "Frame shape: torch.Size([3, 224, 224]), Type: torch.float32\n",
            "Frame shape: torch.Size([3, 224, 224]), Type: torch.float32\n",
            "Frame shape: torch.Size([3, 224, 224]), Type: torch.float32\n",
            "Frame shape: torch.Size([3, 224, 224]), Type: torch.float32\n",
            "Frame shape: torch.Size([3, 224, 224]), Type: torch.float32\n",
            "Frame shape: torch.Size([3, 224, 224]), Type: torch.float32\n",
            "Frame shape: torch.Size([3, 224, 224]), Type: torch.float32\n",
            "Frame shape: torch.Size([3, 224, 224]), Type: torch.float32\n",
            "Frame shape: torch.Size([3, 224, 224]), Type: torch.float32\n",
            "Frame shape: torch.Size([3, 224, 224]), Type: torch.float32\n",
            "Frame shape: torch.Size([3, 224, 224]), Type: torch.float32\n"
          ]
        },
        {
          "output_type": "stream",
          "name": "stderr",
          "text": [
            "Training:  25%|██▌       | 5/20 [00:59<02:56, 11.78s/it, gpu_load=2.08GB, loss=1.3753]"
          ]
        },
        {
          "output_type": "stream",
          "name": "stdout",
          "text": [
            "Frame shape: torch.Size([3, 224, 224]), Type: torch.float32\n",
            "Frame shape: torch.Size([3, 224, 224]), Type: torch.float32\n",
            "Frame shape: torch.Size([3, 224, 224]), Type: torch.float32\n",
            "Frame shape: torch.Size([3, 224, 224]), Type: torch.float32\n",
            "Frame shape: torch.Size([3, 224, 224]), Type: torch.float32\n",
            "Frame shape: torch.Size([3, 224, 224]), Type: torch.float32\n",
            "Frame shape: torch.Size([3, 224, 224]), Type: torch.float32\n",
            "Frame shape: torch.Size([3, 224, 224]), Type: torch.float32\n",
            "Frame shape: torch.Size([3, 224, 224]), Type: torch.float32\n",
            "Frame shape: torch.Size([3, 224, 224]), Type: torch.float32\n",
            "Frame shape: torch.Size([3, 224, 224]), Type: torch.float32\n",
            "Frame shape: torch.Size([3, 224, 224]), Type: torch.float32\n",
            "Frame shape: torch.Size([3, 224, 224]), Type: torch.float32\n",
            "Frame shape: torch.Size([3, 224, 224]), Type: torch.float32\n",
            "Frame shape: torch.Size([3, 224, 224]), Type: torch.float32\n",
            "Frame shape: torch.Size([3, 224, 224]), Type: torch.float32\n",
            "Frame shape: torch.Size([3, 224, 224]), Type: torch.float32\n",
            "Frame shape: torch.Size([3, 224, 224]), Type: torch.float32\n",
            "Frame shape: torch.Size([3, 224, 224]), Type: torch.float32\n",
            "Frame shape: torch.Size([3, 224, 224]), Type: torch.float32\n",
            "Frame shape: torch.Size([3, 224, 224]), Type: torch.float32\n",
            "Frame shape: torch.Size([3, 224, 224]), Type: torch.float32\n",
            "Frame shape: torch.Size([3, 224, 224]), Type: torch.float32\n",
            "Frame shape: torch.Size([3, 224, 224]), Type: torch.float32\n"
          ]
        },
        {
          "output_type": "stream",
          "name": "stderr",
          "text": [
            "Training:  30%|███       | 6/20 [01:11<02:42, 11.61s/it, gpu_load=2.08GB, loss=1.4275]"
          ]
        },
        {
          "output_type": "stream",
          "name": "stdout",
          "text": [
            "Frame shape: torch.Size([3, 224, 224]), Type: torch.float32\n",
            "Frame shape: torch.Size([3, 224, 224]), Type: torch.float32\n",
            "Frame shape: torch.Size([3, 224, 224]), Type: torch.float32\n",
            "Frame shape: torch.Size([3, 224, 224]), Type: torch.float32\n",
            "Frame shape: torch.Size([3, 224, 224]), Type: torch.float32\n",
            "Frame shape: torch.Size([3, 224, 224]), Type: torch.float32\n",
            "Frame shape: torch.Size([3, 224, 224]), Type: torch.float32\n",
            "Frame shape: torch.Size([3, 224, 224]), Type: torch.float32\n",
            "Frame shape: torch.Size([3, 224, 224]), Type: torch.float32\n",
            "Frame shape: torch.Size([3, 224, 224]), Type: torch.float32\n",
            "Frame shape: torch.Size([3, 224, 224]), Type: torch.float32\n",
            "Frame shape: torch.Size([3, 224, 224]), Type: torch.float32\n",
            "Frame shape: torch.Size([3, 224, 224]), Type: torch.float32\n",
            "Frame shape: torch.Size([3, 224, 224]), Type: torch.float32\n",
            "Frame shape: torch.Size([3, 224, 224]), Type: torch.float32\n",
            "Frame shape: torch.Size([3, 224, 224]), Type: torch.float32\n",
            "Frame shape: torch.Size([3, 224, 224]), Type: torch.float32\n",
            "Frame shape: torch.Size([3, 224, 224]), Type: torch.float32\n",
            "Frame shape: torch.Size([3, 224, 224]), Type: torch.float32\n",
            "Frame shape: torch.Size([3, 224, 224]), Type: torch.float32\n",
            "Frame shape: torch.Size([3, 224, 224]), Type: torch.float32\n",
            "Frame shape: torch.Size([3, 224, 224]), Type: torch.float32\n",
            "Frame shape: torch.Size([3, 224, 224]), Type: torch.float32\n",
            "Frame shape: torch.Size([3, 224, 224]), Type: torch.float32\n"
          ]
        },
        {
          "output_type": "stream",
          "name": "stderr",
          "text": [
            "Training:  35%|███▌      | 7/20 [01:23<02:34, 11.88s/it, gpu_load=2.08GB, loss=1.5168]"
          ]
        },
        {
          "output_type": "stream",
          "name": "stdout",
          "text": [
            "Frame shape: torch.Size([3, 224, 224]), Type: torch.float32\n",
            "Frame shape: torch.Size([3, 224, 224]), Type: torch.float32\n",
            "Frame shape: torch.Size([3, 224, 224]), Type: torch.float32\n",
            "Frame shape: torch.Size([3, 224, 224]), Type: torch.float32\n",
            "Frame shape: torch.Size([3, 224, 224]), Type: torch.float32\n",
            "Frame shape: torch.Size([3, 224, 224]), Type: torch.float32\n",
            "Frame shape: torch.Size([3, 224, 224]), Type: torch.float32\n",
            "Frame shape: torch.Size([3, 224, 224]), Type: torch.float32\n",
            "Frame shape: torch.Size([3, 224, 224]), Type: torch.float32\n",
            "Frame shape: torch.Size([3, 224, 224]), Type: torch.float32\n",
            "Frame shape: torch.Size([3, 224, 224]), Type: torch.float32\n",
            "Frame shape: torch.Size([3, 224, 224]), Type: torch.float32\n",
            "Frame shape: torch.Size([3, 224, 224]), Type: torch.float32\n",
            "Frame shape: torch.Size([3, 224, 224]), Type: torch.float32\n",
            "Frame shape: torch.Size([3, 224, 224]), Type: torch.float32\n",
            "Frame shape: torch.Size([3, 224, 224]), Type: torch.float32\n",
            "Frame shape: torch.Size([3, 224, 224]), Type: torch.float32\n",
            "Frame shape: torch.Size([3, 224, 224]), Type: torch.float32\n",
            "Frame shape: torch.Size([3, 224, 224]), Type: torch.float32\n",
            "Frame shape: torch.Size([3, 224, 224]), Type: torch.float32\n",
            "Frame shape: torch.Size([3, 224, 224]), Type: torch.float32\n",
            "Frame shape: torch.Size([3, 224, 224]), Type: torch.float32\n",
            "Frame shape: torch.Size([3, 224, 224]), Type: torch.float32\n",
            "Frame shape: torch.Size([3, 224, 224]), Type: torch.float32\n"
          ]
        },
        {
          "output_type": "stream",
          "name": "stderr",
          "text": [
            "Training:  40%|████      | 8/20 [01:35<02:24, 12.03s/it, gpu_load=2.08GB, loss=1.3932]"
          ]
        },
        {
          "output_type": "stream",
          "name": "stdout",
          "text": [
            "Frame shape: torch.Size([3, 224, 224]), Type: torch.float32\n",
            "Frame shape: torch.Size([3, 224, 224]), Type: torch.float32\n",
            "Frame shape: torch.Size([3, 224, 224]), Type: torch.float32\n",
            "Frame shape: torch.Size([3, 224, 224]), Type: torch.float32\n",
            "Frame shape: torch.Size([3, 224, 224]), Type: torch.float32\n",
            "Frame shape: torch.Size([3, 224, 224]), Type: torch.float32\n",
            "Frame shape: torch.Size([3, 224, 224]), Type: torch.float32\n",
            "Frame shape: torch.Size([3, 224, 224]), Type: torch.float32\n",
            "Frame shape: torch.Size([3, 224, 224]), Type: torch.float32\n",
            "Frame shape: torch.Size([3, 224, 224]), Type: torch.float32\n",
            "Frame shape: torch.Size([3, 224, 224]), Type: torch.float32\n",
            "Frame shape: torch.Size([3, 224, 224]), Type: torch.float32\n",
            "Frame shape: torch.Size([3, 224, 224]), Type: torch.float32\n",
            "Frame shape: torch.Size([3, 224, 224]), Type: torch.float32\n",
            "Frame shape: torch.Size([3, 224, 224]), Type: torch.float32\n",
            "Frame shape: torch.Size([3, 224, 224]), Type: torch.float32\n",
            "Frame shape: torch.Size([3, 224, 224]), Type: torch.float32\n",
            "Frame shape: torch.Size([3, 224, 224]), Type: torch.float32\n",
            "Frame shape: torch.Size([3, 224, 224]), Type: torch.float32\n",
            "Frame shape: torch.Size([3, 224, 224]), Type: torch.float32\n",
            "Frame shape: torch.Size([3, 224, 224]), Type: torch.float32\n",
            "Frame shape: torch.Size([3, 224, 224]), Type: torch.float32\n",
            "Frame shape: torch.Size([3, 224, 224]), Type: torch.float32\n",
            "Frame shape: torch.Size([3, 224, 224]), Type: torch.float32\n"
          ]
        },
        {
          "output_type": "stream",
          "name": "stderr",
          "text": [
            "Training:  45%|████▌     | 9/20 [01:48<02:15, 12.33s/it, gpu_load=2.08GB, loss=1.7102]"
          ]
        },
        {
          "output_type": "stream",
          "name": "stdout",
          "text": [
            "Frame shape: torch.Size([3, 224, 224]), Type: torch.float32\n",
            "Frame shape: torch.Size([3, 224, 224]), Type: torch.float32\n",
            "Frame shape: torch.Size([3, 224, 224]), Type: torch.float32\n",
            "Frame shape: torch.Size([3, 224, 224]), Type: torch.float32\n",
            "Frame shape: torch.Size([3, 224, 224]), Type: torch.float32\n",
            "Frame shape: torch.Size([3, 224, 224]), Type: torch.float32\n",
            "Frame shape: torch.Size([3, 224, 224]), Type: torch.float32\n",
            "Frame shape: torch.Size([3, 224, 224]), Type: torch.float32\n",
            "Frame shape: torch.Size([3, 224, 224]), Type: torch.float32\n",
            "Frame shape: torch.Size([3, 224, 224]), Type: torch.float32\n",
            "Frame shape: torch.Size([3, 224, 224]), Type: torch.float32\n",
            "Frame shape: torch.Size([3, 224, 224]), Type: torch.float32\n",
            "Frame shape: torch.Size([3, 224, 224]), Type: torch.float32\n",
            "Frame shape: torch.Size([3, 224, 224]), Type: torch.float32\n",
            "Frame shape: torch.Size([3, 224, 224]), Type: torch.float32\n",
            "Frame shape: torch.Size([3, 224, 224]), Type: torch.float32\n",
            "Frame shape: torch.Size([3, 224, 224]), Type: torch.float32\n",
            "Frame shape: torch.Size([3, 224, 224]), Type: torch.float32\n",
            "Frame shape: torch.Size([3, 224, 224]), Type: torch.float32\n",
            "Frame shape: torch.Size([3, 224, 224]), Type: torch.float32\n",
            "Frame shape: torch.Size([3, 224, 224]), Type: torch.float32\n",
            "Frame shape: torch.Size([3, 224, 224]), Type: torch.float32\n",
            "Frame shape: torch.Size([3, 224, 224]), Type: torch.float32\n",
            "Frame shape: torch.Size([3, 224, 224]), Type: torch.float32\n"
          ]
        },
        {
          "output_type": "stream",
          "name": "stderr",
          "text": [
            "Training:  50%|█████     | 10/20 [02:01<02:04, 12.42s/it, gpu_load=2.08GB, loss=1.6823]"
          ]
        },
        {
          "output_type": "stream",
          "name": "stdout",
          "text": [
            "Frame shape: torch.Size([3, 224, 224]), Type: torch.float32\n",
            "Frame shape: torch.Size([3, 224, 224]), Type: torch.float32\n",
            "Frame shape: torch.Size([3, 224, 224]), Type: torch.float32\n",
            "Frame shape: torch.Size([3, 224, 224]), Type: torch.float32\n",
            "Frame shape: torch.Size([3, 224, 224]), Type: torch.float32\n",
            "Frame shape: torch.Size([3, 224, 224]), Type: torch.float32\n",
            "Frame shape: torch.Size([3, 224, 224]), Type: torch.float32\n",
            "Frame shape: torch.Size([3, 224, 224]), Type: torch.float32\n",
            "Frame shape: torch.Size([3, 224, 224]), Type: torch.float32\n",
            "Frame shape: torch.Size([3, 224, 224]), Type: torch.float32\n",
            "Frame shape: torch.Size([3, 224, 224]), Type: torch.float32\n",
            "Frame shape: torch.Size([3, 224, 224]), Type: torch.float32\n",
            "Frame shape: torch.Size([3, 224, 224]), Type: torch.float32\n",
            "Frame shape: torch.Size([3, 224, 224]), Type: torch.float32\n",
            "Frame shape: torch.Size([3, 224, 224]), Type: torch.float32\n",
            "Frame shape: torch.Size([3, 224, 224]), Type: torch.float32\n",
            "Frame shape: torch.Size([3, 224, 224]), Type: torch.float32\n",
            "Frame shape: torch.Size([3, 224, 224]), Type: torch.float32\n",
            "Frame shape: torch.Size([3, 224, 224]), Type: torch.float32\n",
            "Frame shape: torch.Size([3, 224, 224]), Type: torch.float32\n",
            "Frame shape: torch.Size([3, 224, 224]), Type: torch.float32\n",
            "Frame shape: torch.Size([3, 224, 224]), Type: torch.float32\n",
            "Frame shape: torch.Size([3, 224, 224]), Type: torch.float32\n",
            "Frame shape: torch.Size([3, 224, 224]), Type: torch.float32\n"
          ]
        },
        {
          "output_type": "stream",
          "name": "stderr",
          "text": [
            "Training:  55%|█████▌    | 11/20 [02:13<01:49, 12.18s/it, gpu_load=2.08GB, loss=1.5508]"
          ]
        },
        {
          "output_type": "stream",
          "name": "stdout",
          "text": [
            "Frame shape: torch.Size([3, 224, 224]), Type: torch.float32\n",
            "Frame shape: torch.Size([3, 224, 224]), Type: torch.float32\n",
            "Frame shape: torch.Size([3, 224, 224]), Type: torch.float32\n",
            "Frame shape: torch.Size([3, 224, 224]), Type: torch.float32\n",
            "Frame shape: torch.Size([3, 224, 224]), Type: torch.float32\n",
            "Frame shape: torch.Size([3, 224, 224]), Type: torch.float32\n",
            "Frame shape: torch.Size([3, 224, 224]), Type: torch.float32\n",
            "Frame shape: torch.Size([3, 224, 224]), Type: torch.float32\n",
            "Frame shape: torch.Size([3, 224, 224]), Type: torch.float32\n",
            "Frame shape: torch.Size([3, 224, 224]), Type: torch.float32\n",
            "Frame shape: torch.Size([3, 224, 224]), Type: torch.float32\n",
            "Frame shape: torch.Size([3, 224, 224]), Type: torch.float32\n",
            "Frame shape: torch.Size([3, 224, 224]), Type: torch.float32\n",
            "Frame shape: torch.Size([3, 224, 224]), Type: torch.float32\n",
            "Frame shape: torch.Size([3, 224, 224]), Type: torch.float32\n",
            "Frame shape: torch.Size([3, 224, 224]), Type: torch.float32\n",
            "Frame shape: torch.Size([3, 224, 224]), Type: torch.float32\n",
            "Frame shape: torch.Size([3, 224, 224]), Type: torch.float32\n",
            "Frame shape: torch.Size([3, 224, 224]), Type: torch.float32\n",
            "Frame shape: torch.Size([3, 224, 224]), Type: torch.float32\n",
            "Frame shape: torch.Size([3, 224, 224]), Type: torch.float32\n",
            "Frame shape: torch.Size([3, 224, 224]), Type: torch.float32\n",
            "Frame shape: torch.Size([3, 224, 224]), Type: torch.float32\n",
            "Frame shape: torch.Size([3, 224, 224]), Type: torch.float32\n"
          ]
        },
        {
          "output_type": "stream",
          "name": "stderr",
          "text": [
            "Training:  60%|██████    | 12/20 [02:24<01:36, 12.05s/it, gpu_load=2.08GB, loss=1.7630]"
          ]
        },
        {
          "output_type": "stream",
          "name": "stdout",
          "text": [
            "Frame shape: torch.Size([3, 224, 224]), Type: torch.float32\n",
            "Frame shape: torch.Size([3, 224, 224]), Type: torch.float32\n",
            "Frame shape: torch.Size([3, 224, 224]), Type: torch.float32\n",
            "Frame shape: torch.Size([3, 224, 224]), Type: torch.float32\n",
            "Frame shape: torch.Size([3, 224, 224]), Type: torch.float32\n",
            "Frame shape: torch.Size([3, 224, 224]), Type: torch.float32\n",
            "Frame shape: torch.Size([3, 224, 224]), Type: torch.float32\n",
            "Frame shape: torch.Size([3, 224, 224]), Type: torch.float32\n",
            "Frame shape: torch.Size([3, 224, 224]), Type: torch.float32\n",
            "Frame shape: torch.Size([3, 224, 224]), Type: torch.float32\n",
            "Frame shape: torch.Size([3, 224, 224]), Type: torch.float32\n",
            "Frame shape: torch.Size([3, 224, 224]), Type: torch.float32\n",
            "Frame shape: torch.Size([3, 224, 224]), Type: torch.float32\n",
            "Frame shape: torch.Size([3, 224, 224]), Type: torch.float32\n",
            "Frame shape: torch.Size([3, 224, 224]), Type: torch.float32\n",
            "Frame shape: torch.Size([3, 224, 224]), Type: torch.float32\n",
            "Frame shape: torch.Size([3, 224, 224]), Type: torch.float32\n",
            "Frame shape: torch.Size([3, 224, 224]), Type: torch.float32\n",
            "Frame shape: torch.Size([3, 224, 224]), Type: torch.float32\n",
            "Frame shape: torch.Size([3, 224, 224]), Type: torch.float32\n",
            "Frame shape: torch.Size([3, 224, 224]), Type: torch.float32\n",
            "Frame shape: torch.Size([3, 224, 224]), Type: torch.float32\n",
            "Frame shape: torch.Size([3, 224, 224]), Type: torch.float32\n",
            "Frame shape: torch.Size([3, 224, 224]), Type: torch.float32\n"
          ]
        },
        {
          "output_type": "stream",
          "name": "stderr",
          "text": [
            "Training:  65%|██████▌   | 13/20 [02:38<01:27, 12.49s/it, gpu_load=2.08GB, loss=1.6706]"
          ]
        },
        {
          "output_type": "stream",
          "name": "stdout",
          "text": [
            "Frame shape: torch.Size([3, 224, 224]), Type: torch.float32\n",
            "Frame shape: torch.Size([3, 224, 224]), Type: torch.float32\n",
            "Frame shape: torch.Size([3, 224, 224]), Type: torch.float32\n",
            "Frame shape: torch.Size([3, 224, 224]), Type: torch.float32\n",
            "Frame shape: torch.Size([3, 224, 224]), Type: torch.float32\n",
            "Frame shape: torch.Size([3, 224, 224]), Type: torch.float32\n",
            "Frame shape: torch.Size([3, 224, 224]), Type: torch.float32\n",
            "Frame shape: torch.Size([3, 224, 224]), Type: torch.float32\n",
            "Frame shape: torch.Size([3, 224, 224]), Type: torch.float32\n",
            "Frame shape: torch.Size([3, 224, 224]), Type: torch.float32\n",
            "Frame shape: torch.Size([3, 224, 224]), Type: torch.float32\n",
            "Frame shape: torch.Size([3, 224, 224]), Type: torch.float32\n",
            "Frame shape: torch.Size([3, 224, 224]), Type: torch.float32\n",
            "Frame shape: torch.Size([3, 224, 224]), Type: torch.float32\n",
            "Frame shape: torch.Size([3, 224, 224]), Type: torch.float32\n",
            "Frame shape: torch.Size([3, 224, 224]), Type: torch.float32\n",
            "Frame shape: torch.Size([3, 224, 224]), Type: torch.float32\n",
            "Frame shape: torch.Size([3, 224, 224]), Type: torch.float32\n",
            "Frame shape: torch.Size([3, 224, 224]), Type: torch.float32\n",
            "Frame shape: torch.Size([3, 224, 224]), Type: torch.float32\n",
            "Frame shape: torch.Size([3, 224, 224]), Type: torch.float32\n",
            "Frame shape: torch.Size([3, 224, 224]), Type: torch.float32\n",
            "Frame shape: torch.Size([3, 224, 224]), Type: torch.float32\n",
            "Frame shape: torch.Size([3, 224, 224]), Type: torch.float32\n"
          ]
        },
        {
          "output_type": "stream",
          "name": "stderr",
          "text": [
            "Training:  70%|███████   | 14/20 [02:50<01:13, 12.21s/it, gpu_load=2.08GB, loss=1.2519]"
          ]
        },
        {
          "output_type": "stream",
          "name": "stdout",
          "text": [
            "Frame shape: torch.Size([3, 224, 224]), Type: torch.float32\n",
            "Frame shape: torch.Size([3, 224, 224]), Type: torch.float32\n",
            "Frame shape: torch.Size([3, 224, 224]), Type: torch.float32\n",
            "Frame shape: torch.Size([3, 224, 224]), Type: torch.float32\n",
            "Frame shape: torch.Size([3, 224, 224]), Type: torch.float32\n",
            "Frame shape: torch.Size([3, 224, 224]), Type: torch.float32\n",
            "Frame shape: torch.Size([3, 224, 224]), Type: torch.float32\n",
            "Frame shape: torch.Size([3, 224, 224]), Type: torch.float32\n",
            "Frame shape: torch.Size([3, 224, 224]), Type: torch.float32\n",
            "Frame shape: torch.Size([3, 224, 224]), Type: torch.float32\n",
            "Frame shape: torch.Size([3, 224, 224]), Type: torch.float32\n",
            "Frame shape: torch.Size([3, 224, 224]), Type: torch.float32\n",
            "Frame shape: torch.Size([3, 224, 224]), Type: torch.float32\n",
            "Frame shape: torch.Size([3, 224, 224]), Type: torch.float32\n",
            "Frame shape: torch.Size([3, 224, 224]), Type: torch.float32\n",
            "Frame shape: torch.Size([3, 224, 224]), Type: torch.float32\n",
            "Frame shape: torch.Size([3, 224, 224]), Type: torch.float32\n",
            "Frame shape: torch.Size([3, 224, 224]), Type: torch.float32\n",
            "Frame shape: torch.Size([3, 224, 224]), Type: torch.float32\n",
            "Frame shape: torch.Size([3, 224, 224]), Type: torch.float32\n",
            "Frame shape: torch.Size([3, 224, 224]), Type: torch.float32\n",
            "Frame shape: torch.Size([3, 224, 224]), Type: torch.float32\n",
            "Frame shape: torch.Size([3, 224, 224]), Type: torch.float32\n",
            "Frame shape: torch.Size([3, 224, 224]), Type: torch.float32\n"
          ]
        },
        {
          "output_type": "stream",
          "name": "stderr",
          "text": [
            "Training:  75%|███████▌  | 15/20 [03:02<01:01, 12.39s/it, gpu_load=2.08GB, loss=1.6918]"
          ]
        },
        {
          "output_type": "stream",
          "name": "stdout",
          "text": [
            "Frame shape: torch.Size([3, 224, 224]), Type: torch.float32\n",
            "Frame shape: torch.Size([3, 224, 224]), Type: torch.float32\n",
            "Frame shape: torch.Size([3, 224, 224]), Type: torch.float32\n",
            "Frame shape: torch.Size([3, 224, 224]), Type: torch.float32\n",
            "Frame shape: torch.Size([3, 224, 224]), Type: torch.float32\n",
            "Frame shape: torch.Size([3, 224, 224]), Type: torch.float32\n",
            "Frame shape: torch.Size([3, 224, 224]), Type: torch.float32\n",
            "Frame shape: torch.Size([3, 224, 224]), Type: torch.float32\n",
            "Frame shape: torch.Size([3, 224, 224]), Type: torch.float32\n",
            "Frame shape: torch.Size([3, 224, 224]), Type: torch.float32\n",
            "Frame shape: torch.Size([3, 224, 224]), Type: torch.float32\n",
            "Frame shape: torch.Size([3, 224, 224]), Type: torch.float32\n",
            "Frame shape: torch.Size([3, 224, 224]), Type: torch.float32\n",
            "Frame shape: torch.Size([3, 224, 224]), Type: torch.float32\n",
            "Frame shape: torch.Size([3, 224, 224]), Type: torch.float32\n",
            "Frame shape: torch.Size([3, 224, 224]), Type: torch.float32\n",
            "Frame shape: torch.Size([3, 224, 224]), Type: torch.float32\n",
            "Frame shape: torch.Size([3, 224, 224]), Type: torch.float32\n",
            "Frame shape: torch.Size([3, 224, 224]), Type: torch.float32\n",
            "Frame shape: torch.Size([3, 224, 224]), Type: torch.float32\n",
            "Frame shape: torch.Size([3, 224, 224]), Type: torch.float32\n",
            "Frame shape: torch.Size([3, 224, 224]), Type: torch.float32\n",
            "Frame shape: torch.Size([3, 224, 224]), Type: torch.float32\n",
            "Frame shape: torch.Size([3, 224, 224]), Type: torch.float32\n"
          ]
        },
        {
          "output_type": "stream",
          "name": "stderr",
          "text": [
            "Training:  80%|████████  | 16/20 [03:15<00:49, 12.43s/it, gpu_load=2.08GB, loss=1.4752]"
          ]
        },
        {
          "output_type": "stream",
          "name": "stdout",
          "text": [
            "Frame shape: torch.Size([3, 224, 224]), Type: torch.float32\n",
            "Frame shape: torch.Size([3, 224, 224]), Type: torch.float32\n",
            "Frame shape: torch.Size([3, 224, 224]), Type: torch.float32\n",
            "Frame shape: torch.Size([3, 224, 224]), Type: torch.float32\n",
            "Frame shape: torch.Size([3, 224, 224]), Type: torch.float32\n",
            "Frame shape: torch.Size([3, 224, 224]), Type: torch.float32\n",
            "Frame shape: torch.Size([3, 224, 224]), Type: torch.float32\n",
            "Frame shape: torch.Size([3, 224, 224]), Type: torch.float32\n",
            "Frame shape: torch.Size([3, 224, 224]), Type: torch.float32\n",
            "Frame shape: torch.Size([3, 224, 224]), Type: torch.float32\n",
            "Frame shape: torch.Size([3, 224, 224]), Type: torch.float32\n",
            "Frame shape: torch.Size([3, 224, 224]), Type: torch.float32\n",
            "Frame shape: torch.Size([3, 224, 224]), Type: torch.float32\n",
            "Frame shape: torch.Size([3, 224, 224]), Type: torch.float32\n",
            "Frame shape: torch.Size([3, 224, 224]), Type: torch.float32\n",
            "Frame shape: torch.Size([3, 224, 224]), Type: torch.float32\n",
            "Frame shape: torch.Size([3, 224, 224]), Type: torch.float32\n",
            "Frame shape: torch.Size([3, 224, 224]), Type: torch.float32\n",
            "Frame shape: torch.Size([3, 224, 224]), Type: torch.float32\n",
            "Frame shape: torch.Size([3, 224, 224]), Type: torch.float32\n",
            "Frame shape: torch.Size([3, 224, 224]), Type: torch.float32\n",
            "Frame shape: torch.Size([3, 224, 224]), Type: torch.float32\n",
            "Frame shape: torch.Size([3, 224, 224]), Type: torch.float32\n",
            "Frame shape: torch.Size([3, 224, 224]), Type: torch.float32\n"
          ]
        },
        {
          "output_type": "stream",
          "name": "stderr",
          "text": [
            "Training:  85%|████████▌ | 17/20 [03:27<00:37, 12.33s/it, gpu_load=2.08GB, loss=1.3584]"
          ]
        },
        {
          "output_type": "stream",
          "name": "stdout",
          "text": [
            "Frame shape: torch.Size([3, 224, 224]), Type: torch.float32\n",
            "Frame shape: torch.Size([3, 224, 224]), Type: torch.float32\n",
            "Frame shape: torch.Size([3, 224, 224]), Type: torch.float32\n",
            "Frame shape: torch.Size([3, 224, 224]), Type: torch.float32\n",
            "Frame shape: torch.Size([3, 224, 224]), Type: torch.float32\n",
            "Frame shape: torch.Size([3, 224, 224]), Type: torch.float32\n",
            "Frame shape: torch.Size([3, 224, 224]), Type: torch.float32\n",
            "Frame shape: torch.Size([3, 224, 224]), Type: torch.float32\n",
            "Frame shape: torch.Size([3, 224, 224]), Type: torch.float32\n",
            "Frame shape: torch.Size([3, 224, 224]), Type: torch.float32\n",
            "Frame shape: torch.Size([3, 224, 224]), Type: torch.float32\n",
            "Frame shape: torch.Size([3, 224, 224]), Type: torch.float32\n",
            "Frame shape: torch.Size([3, 224, 224]), Type: torch.float32\n",
            "Frame shape: torch.Size([3, 224, 224]), Type: torch.float32\n",
            "Frame shape: torch.Size([3, 224, 224]), Type: torch.float32\n",
            "Frame shape: torch.Size([3, 224, 224]), Type: torch.float32\n",
            "Frame shape: torch.Size([3, 224, 224]), Type: torch.float32\n",
            "Frame shape: torch.Size([3, 224, 224]), Type: torch.float32\n",
            "Frame shape: torch.Size([3, 224, 224]), Type: torch.float32\n",
            "Frame shape: torch.Size([3, 224, 224]), Type: torch.float32\n",
            "Frame shape: torch.Size([3, 224, 224]), Type: torch.float32\n",
            "Frame shape: torch.Size([3, 224, 224]), Type: torch.float32\n",
            "Frame shape: torch.Size([3, 224, 224]), Type: torch.float32\n",
            "Frame shape: torch.Size([3, 224, 224]), Type: torch.float32\n"
          ]
        },
        {
          "output_type": "stream",
          "name": "stderr",
          "text": [
            "Training:  90%|█████████ | 18/20 [03:38<00:24, 12.00s/it, gpu_load=2.08GB, loss=1.3920]"
          ]
        },
        {
          "output_type": "stream",
          "name": "stdout",
          "text": [
            "Frame shape: torch.Size([3, 224, 224]), Type: torch.float32\n",
            "Frame shape: torch.Size([3, 224, 224]), Type: torch.float32\n",
            "Frame shape: torch.Size([3, 224, 224]), Type: torch.float32\n",
            "Frame shape: torch.Size([3, 224, 224]), Type: torch.float32\n",
            "Frame shape: torch.Size([3, 224, 224]), Type: torch.float32\n",
            "Frame shape: torch.Size([3, 224, 224]), Type: torch.float32\n",
            "Frame shape: torch.Size([3, 224, 224]), Type: torch.float32\n",
            "Frame shape: torch.Size([3, 224, 224]), Type: torch.float32\n",
            "Frame shape: torch.Size([3, 224, 224]), Type: torch.float32\n",
            "Frame shape: torch.Size([3, 224, 224]), Type: torch.float32\n",
            "Frame shape: torch.Size([3, 224, 224]), Type: torch.float32\n",
            "Frame shape: torch.Size([3, 224, 224]), Type: torch.float32\n",
            "Frame shape: torch.Size([3, 224, 224]), Type: torch.float32\n",
            "Frame shape: torch.Size([3, 224, 224]), Type: torch.float32\n",
            "Frame shape: torch.Size([3, 224, 224]), Type: torch.float32\n",
            "Frame shape: torch.Size([3, 224, 224]), Type: torch.float32\n",
            "Frame shape: torch.Size([3, 224, 224]), Type: torch.float32\n",
            "Frame shape: torch.Size([3, 224, 224]), Type: torch.float32\n",
            "Frame shape: torch.Size([3, 224, 224]), Type: torch.float32\n",
            "Frame shape: torch.Size([3, 224, 224]), Type: torch.float32\n",
            "Frame shape: torch.Size([3, 224, 224]), Type: torch.float32\n",
            "Frame shape: torch.Size([3, 224, 224]), Type: torch.float32\n",
            "Frame shape: torch.Size([3, 224, 224]), Type: torch.float32\n",
            "Frame shape: torch.Size([3, 224, 224]), Type: torch.float32\n"
          ]
        },
        {
          "output_type": "stream",
          "name": "stderr",
          "text": [
            "Training:  95%|█████████▌| 19/20 [03:51<00:12, 12.15s/it, gpu_load=2.08GB, loss=1.0940]"
          ]
        },
        {
          "output_type": "stream",
          "name": "stdout",
          "text": [
            "Frame shape: torch.Size([3, 224, 224]), Type: torch.float32\n",
            "Frame shape: torch.Size([3, 224, 224]), Type: torch.float32\n",
            "Frame shape: torch.Size([3, 224, 224]), Type: torch.float32\n",
            "Frame shape: torch.Size([3, 224, 224]), Type: torch.float32\n",
            "Frame shape: torch.Size([3, 224, 224]), Type: torch.float32\n",
            "Frame shape: torch.Size([3, 224, 224]), Type: torch.float32\n",
            "Frame shape: torch.Size([3, 224, 224]), Type: torch.float32\n",
            "Frame shape: torch.Size([3, 224, 224]), Type: torch.float32\n",
            "Frame shape: torch.Size([3, 224, 224]), Type: torch.float32\n",
            "Frame shape: torch.Size([3, 224, 224]), Type: torch.float32\n",
            "Frame shape: torch.Size([3, 224, 224]), Type: torch.float32\n",
            "Frame shape: torch.Size([3, 224, 224]), Type: torch.float32\n",
            "Frame shape: torch.Size([3, 224, 224]), Type: torch.float32\n",
            "Frame shape: torch.Size([3, 224, 224]), Type: torch.float32\n",
            "Frame shape: torch.Size([3, 224, 224]), Type: torch.float32\n",
            "Frame shape: torch.Size([3, 224, 224]), Type: torch.float32\n",
            "Frame shape: torch.Size([3, 224, 224]), Type: torch.float32\n",
            "Frame shape: torch.Size([3, 224, 224]), Type: torch.float32\n",
            "Frame shape: torch.Size([3, 224, 224]), Type: torch.float32\n",
            "Frame shape: torch.Size([3, 224, 224]), Type: torch.float32\n",
            "Frame shape: torch.Size([3, 224, 224]), Type: torch.float32\n"
          ]
        },
        {
          "output_type": "stream",
          "name": "stderr",
          "text": [
            "Training: 100%|██████████| 20/20 [04:02<00:00, 12.15s/it, gpu_load=1.81GB, loss=1.7380]\n"
          ]
        },
        {
          "output_type": "stream",
          "name": "stdout",
          "text": [
            "Frame shape: torch.Size([3, 224, 224]), Type: torch.float32\n"
          ]
        },
        {
          "output_type": "stream",
          "name": "stderr",
          "text": [
            "\rTesting:   0%|          | 0/5 [00:00<?, ?it/s]"
          ]
        },
        {
          "output_type": "stream",
          "name": "stdout",
          "text": [
            "Frame shape: torch.Size([3, 224, 224]), Type: torch.float32\n",
            "Frame shape: torch.Size([3, 224, 224]), Type: torch.float32\n",
            "Frame shape: torch.Size([3, 224, 224]), Type: torch.float32\n",
            "Frame shape: torch.Size([3, 224, 224]), Type: torch.float32\n",
            "Frame shape: torch.Size([3, 224, 224]), Type: torch.float32\n",
            "Frame shape: torch.Size([3, 224, 224]), Type: torch.float32\n",
            "Frame shape: torch.Size([3, 224, 224]), Type: torch.float32\n",
            "Frame shape: torch.Size([3, 224, 224]), Type: torch.float32\n",
            "Frame shape: torch.Size([3, 224, 224]), Type: torch.float32\n",
            "Frame shape: torch.Size([3, 224, 224]), Type: torch.float32\n",
            "Frame shape: torch.Size([3, 224, 224]), Type: torch.float32\n",
            "Frame shape: torch.Size([3, 224, 224]), Type: torch.float32\n",
            "Frame shape: torch.Size([3, 224, 224]), Type: torch.float32\n",
            "Frame shape: torch.Size([3, 224, 224]), Type: torch.float32\n",
            "Frame shape: torch.Size([3, 224, 224]), Type: torch.float32\n",
            "Frame shape: torch.Size([3, 224, 224]), Type: torch.float32\n",
            "Frame shape: torch.Size([3, 224, 224]), Type: torch.float32\n",
            "Frame shape: torch.Size([3, 224, 224]), Type: torch.float32\n",
            "Frame shape: torch.Size([3, 224, 224]), Type: torch.float32\n",
            "Frame shape: torch.Size([3, 224, 224]), Type: torch.float32\n",
            "Frame shape: torch.Size([3, 224, 224]), Type: torch.float32\n",
            "Frame shape: torch.Size([3, 224, 224]), Type: torch.float32\n",
            "Frame shape: torch.Size([3, 224, 224]), Type: torch.float32\n"
          ]
        },
        {
          "output_type": "stream",
          "name": "stderr",
          "text": [
            "Testing:  20%|██        | 1/5 [00:12<00:51, 12.77s/it, loss=2.8069]"
          ]
        },
        {
          "output_type": "stream",
          "name": "stdout",
          "text": [
            "Frame shape: torch.Size([3, 224, 224]), Type: torch.float32\n",
            "Frame shape: torch.Size([3, 224, 224]), Type: torch.float32\n",
            "Frame shape: torch.Size([3, 224, 224]), Type: torch.float32\n",
            "Frame shape: torch.Size([3, 224, 224]), Type: torch.float32\n",
            "Frame shape: torch.Size([3, 224, 224]), Type: torch.float32\n",
            "Frame shape: torch.Size([3, 224, 224]), Type: torch.float32\n",
            "Frame shape: torch.Size([3, 224, 224]), Type: torch.float32\n",
            "Frame shape: torch.Size([3, 224, 224]), Type: torch.float32\n",
            "Frame shape: torch.Size([3, 224, 224]), Type: torch.float32\n",
            "Frame shape: torch.Size([3, 224, 224]), Type: torch.float32\n",
            "Frame shape: torch.Size([3, 224, 224]), Type: torch.float32\n",
            "Frame shape: torch.Size([3, 224, 224]), Type: torch.float32\n",
            "Frame shape: torch.Size([3, 224, 224]), Type: torch.float32\n",
            "Frame shape: torch.Size([3, 224, 224]), Type: torch.float32\n",
            "Frame shape: torch.Size([3, 224, 224]), Type: torch.float32\n",
            "Frame shape: torch.Size([3, 224, 224]), Type: torch.float32\n",
            "Frame shape: torch.Size([3, 224, 224]), Type: torch.float32\n",
            "Frame shape: torch.Size([3, 224, 224]), Type: torch.float32\n",
            "Frame shape: torch.Size([3, 224, 224]), Type: torch.float32\n",
            "Frame shape: torch.Size([3, 224, 224]), Type: torch.float32\n",
            "Frame shape: torch.Size([3, 224, 224]), Type: torch.float32\n",
            "Frame shape: torch.Size([3, 224, 224]), Type: torch.float32\n",
            "Frame shape: torch.Size([3, 224, 224]), Type: torch.float32\n",
            "Frame shape: torch.Size([3, 224, 224]), Type: torch.float32\n"
          ]
        },
        {
          "output_type": "stream",
          "name": "stderr",
          "text": [
            "Testing:  40%|████      | 2/5 [00:24<00:37, 12.34s/it, loss=2.5342]"
          ]
        },
        {
          "output_type": "stream",
          "name": "stdout",
          "text": [
            "Frame shape: torch.Size([3, 224, 224]), Type: torch.float32\n",
            "Frame shape: torch.Size([3, 224, 224]), Type: torch.float32\n",
            "Frame shape: torch.Size([3, 224, 224]), Type: torch.float32\n",
            "Frame shape: torch.Size([3, 224, 224]), Type: torch.float32\n",
            "Frame shape: torch.Size([3, 224, 224]), Type: torch.float32\n",
            "Frame shape: torch.Size([3, 224, 224]), Type: torch.float32\n",
            "Frame shape: torch.Size([3, 224, 224]), Type: torch.float32\n",
            "Frame shape: torch.Size([3, 224, 224]), Type: torch.float32\n",
            "Frame shape: torch.Size([3, 224, 224]), Type: torch.float32\n",
            "Frame shape: torch.Size([3, 224, 224]), Type: torch.float32\n",
            "Frame shape: torch.Size([3, 224, 224]), Type: torch.float32\n",
            "Frame shape: torch.Size([3, 224, 224]), Type: torch.float32\n",
            "Frame shape: torch.Size([3, 224, 224]), Type: torch.float32\n",
            "Frame shape: torch.Size([3, 224, 224]), Type: torch.float32\n",
            "Frame shape: torch.Size([3, 224, 224]), Type: torch.float32\n",
            "Frame shape: torch.Size([3, 224, 224]), Type: torch.float32\n",
            "Frame shape: torch.Size([3, 224, 224]), Type: torch.float32\n",
            "Frame shape: torch.Size([3, 224, 224]), Type: torch.float32\n",
            "Frame shape: torch.Size([3, 224, 224]), Type: torch.float32\n",
            "Frame shape: torch.Size([3, 224, 224]), Type: torch.float32\n",
            "Frame shape: torch.Size([3, 224, 224]), Type: torch.float32\n",
            "Frame shape: torch.Size([3, 224, 224]), Type: torch.float32\n",
            "Frame shape: torch.Size([3, 224, 224]), Type: torch.float32\n",
            "Frame shape: torch.Size([3, 224, 224]), Type: torch.float32\n"
          ]
        },
        {
          "output_type": "stream",
          "name": "stderr",
          "text": [
            "Testing:  60%|██████    | 3/5 [00:38<00:25, 12.94s/it, loss=1.9300]"
          ]
        },
        {
          "output_type": "stream",
          "name": "stdout",
          "text": [
            "Frame shape: torch.Size([3, 224, 224]), Type: torch.float32\n",
            "Frame shape: torch.Size([3, 224, 224]), Type: torch.float32\n",
            "Frame shape: torch.Size([3, 224, 224]), Type: torch.float32\n",
            "Frame shape: torch.Size([3, 224, 224]), Type: torch.float32\n",
            "Frame shape: torch.Size([3, 224, 224]), Type: torch.float32\n",
            "Frame shape: torch.Size([3, 224, 224]), Type: torch.float32\n",
            "Frame shape: torch.Size([3, 224, 224]), Type: torch.float32\n",
            "Frame shape: torch.Size([3, 224, 224]), Type: torch.float32\n",
            "Frame shape: torch.Size([3, 224, 224]), Type: torch.float32\n",
            "Frame shape: torch.Size([3, 224, 224]), Type: torch.float32\n",
            "Frame shape: torch.Size([3, 224, 224]), Type: torch.float32\n",
            "Frame shape: torch.Size([3, 224, 224]), Type: torch.float32\n",
            "Frame shape: torch.Size([3, 224, 224]), Type: torch.float32\n",
            "Frame shape: torch.Size([3, 224, 224]), Type: torch.float32\n",
            "Frame shape: torch.Size([3, 224, 224]), Type: torch.float32\n",
            "Frame shape: torch.Size([3, 224, 224]), Type: torch.float32\n",
            "Frame shape: torch.Size([3, 224, 224]), Type: torch.float32\n",
            "Frame shape: torch.Size([3, 224, 224]), Type: torch.float32\n",
            "Frame shape: torch.Size([3, 224, 224]), Type: torch.float32\n",
            "Frame shape: torch.Size([3, 224, 224]), Type: torch.float32\n",
            "Frame shape: torch.Size([3, 224, 224]), Type: torch.float32\n",
            "Frame shape: torch.Size([3, 224, 224]), Type: torch.float32\n",
            "Frame shape: torch.Size([3, 224, 224]), Type: torch.float32\n",
            "Frame shape: torch.Size([3, 224, 224]), Type: torch.float32\n",
            "Frame shape: torch.Size([3, 224, 224]), Type: torch.float32\n"
          ]
        },
        {
          "output_type": "stream",
          "name": "stderr",
          "text": [
            "Testing:  80%|████████  | 4/5 [00:50<00:12, 12.61s/it, loss=2.7930]"
          ]
        },
        {
          "output_type": "stream",
          "name": "stdout",
          "text": [
            "Frame shape: torch.Size([3, 224, 224]), Type: torch.float32\n",
            "Frame shape: torch.Size([3, 224, 224]), Type: torch.float32\n",
            "Frame shape: torch.Size([3, 224, 224]), Type: torch.float32\n",
            "Frame shape: torch.Size([3, 224, 224]), Type: torch.float32\n",
            "Frame shape: torch.Size([3, 224, 224]), Type: torch.float32\n",
            "Frame shape: torch.Size([3, 224, 224]), Type: torch.float32\n",
            "Frame shape: torch.Size([3, 224, 224]), Type: torch.float32\n",
            "Frame shape: torch.Size([3, 224, 224]), Type: torch.float32\n",
            "Frame shape: torch.Size([3, 224, 224]), Type: torch.float32\n",
            "Frame shape: torch.Size([3, 224, 224]), Type: torch.float32\n",
            "Frame shape: torch.Size([3, 224, 224]), Type: torch.float32\n",
            "Frame shape: torch.Size([3, 224, 224]), Type: torch.float32\n",
            "Frame shape: torch.Size([3, 224, 224]), Type: torch.float32\n",
            "Frame shape: torch.Size([3, 224, 224]), Type: torch.float32\n",
            "Frame shape: torch.Size([3, 224, 224]), Type: torch.float32\n",
            "Frame shape: torch.Size([3, 224, 224]), Type: torch.float32\n",
            "Frame shape: torch.Size([3, 224, 224]), Type: torch.float32\n",
            "Frame shape: torch.Size([3, 224, 224]), Type: torch.float32\n",
            "Frame shape: torch.Size([3, 224, 224]), Type: torch.float32\n",
            "Frame shape: torch.Size([3, 224, 224]), Type: torch.float32\n",
            "Frame shape: torch.Size([3, 224, 224]), Type: torch.float32\n",
            "Frame shape: torch.Size([3, 224, 224]), Type: torch.float32\n",
            "Frame shape: torch.Size([3, 224, 224]), Type: torch.float32\n"
          ]
        },
        {
          "output_type": "stream",
          "name": "stderr",
          "text": [
            "Testing: 100%|██████████| 5/5 [01:02<00:00, 12.45s/it, loss=2.6117]"
          ]
        },
        {
          "output_type": "stream",
          "name": "stdout",
          "text": [
            "Frame shape: torch.Size([3, 224, 224]), Type: torch.float32\n",
            "epoch: 5, lr_rate 0.0008\n",
            "loss_train: 1.5116| loss_valid: 2.5352|\n",
            "metric 0.216667\n",
            "Elapsed time: 00:05:05\n"
          ]
        },
        {
          "output_type": "stream",
          "name": "stderr",
          "text": [
            "\n"
          ]
        },
        {
          "output_type": "stream",
          "name": "stdout",
          "text": [
            "---------------------epoch:6/10---------------------\n"
          ]
        },
        {
          "output_type": "stream",
          "name": "stderr",
          "text": [
            "\rTraining:   0%|          | 0/20 [00:00<?, ?it/s]"
          ]
        },
        {
          "output_type": "stream",
          "name": "stdout",
          "text": [
            "Frame shape: torch.Size([3, 224, 224]), Type: torch.float32\n",
            "Frame shape: torch.Size([3, 224, 224]), Type: torch.float32\n",
            "Frame shape: torch.Size([3, 224, 224]), Type: torch.float32\n",
            "Frame shape: torch.Size([3, 224, 224]), Type: torch.float32\n",
            "Frame shape: torch.Size([3, 224, 224]), Type: torch.float32\n",
            "Frame shape: torch.Size([3, 224, 224]), Type: torch.float32\n",
            "Frame shape: torch.Size([3, 224, 224]), Type: torch.float32\n",
            "Frame shape: torch.Size([3, 224, 224]), Type: torch.float32\n",
            "Frame shape: torch.Size([3, 224, 224]), Type: torch.float32\n",
            "Frame shape: torch.Size([3, 224, 224]), Type: torch.float32\n",
            "Frame shape: torch.Size([3, 224, 224]), Type: torch.float32\n",
            "Frame shape: torch.Size([3, 224, 224]), Type: torch.float32\n",
            "Frame shape: torch.Size([3, 224, 224]), Type: torch.float32\n",
            "Frame shape: torch.Size([3, 224, 224]), Type: torch.float32\n",
            "Frame shape: torch.Size([3, 224, 224]), Type: torch.float32\n",
            "Frame shape: torch.Size([3, 224, 224]), Type: torch.float32\n",
            "Frame shape: torch.Size([3, 224, 224]), Type: torch.float32\n",
            "Frame shape: torch.Size([3, 224, 224]), Type: torch.float32\n",
            "Frame shape: torch.Size([3, 224, 224]), Type: torch.float32\n",
            "Frame shape: torch.Size([3, 224, 224]), Type: torch.float32\n",
            "Frame shape: torch.Size([3, 224, 224]), Type: torch.float32\n",
            "Frame shape: torch.Size([3, 224, 224]), Type: torch.float32\n",
            "Frame shape: torch.Size([3, 224, 224]), Type: torch.float32\n",
            "Frame shape: torch.Size([3, 224, 224]), Type: torch.float32\n"
          ]
        },
        {
          "output_type": "stream",
          "name": "stderr",
          "text": [
            "Training:   5%|▌         | 1/20 [00:12<03:54, 12.35s/it, gpu_load=2.07GB, loss=1.5023]"
          ]
        },
        {
          "output_type": "stream",
          "name": "stdout",
          "text": [
            "Frame shape: torch.Size([3, 224, 224]), Type: torch.float32\n",
            "Frame shape: torch.Size([3, 224, 224]), Type: torch.float32\n",
            "Frame shape: torch.Size([3, 224, 224]), Type: torch.float32\n",
            "Frame shape: torch.Size([3, 224, 224]), Type: torch.float32\n",
            "Frame shape: torch.Size([3, 224, 224]), Type: torch.float32\n",
            "Frame shape: torch.Size([3, 224, 224]), Type: torch.float32\n",
            "Frame shape: torch.Size([3, 224, 224]), Type: torch.float32\n",
            "Frame shape: torch.Size([3, 224, 224]), Type: torch.float32\n",
            "Frame shape: torch.Size([3, 224, 224]), Type: torch.float32\n",
            "Frame shape: torch.Size([3, 224, 224]), Type: torch.float32\n",
            "Frame shape: torch.Size([3, 224, 224]), Type: torch.float32\n",
            "Frame shape: torch.Size([3, 224, 224]), Type: torch.float32\n",
            "Frame shape: torch.Size([3, 224, 224]), Type: torch.float32\n",
            "Frame shape: torch.Size([3, 224, 224]), Type: torch.float32\n",
            "Frame shape: torch.Size([3, 224, 224]), Type: torch.float32\n",
            "Frame shape: torch.Size([3, 224, 224]), Type: torch.float32\n",
            "Frame shape: torch.Size([3, 224, 224]), Type: torch.float32\n",
            "Frame shape: torch.Size([3, 224, 224]), Type: torch.float32\n",
            "Frame shape: torch.Size([3, 224, 224]), Type: torch.float32\n",
            "Frame shape: torch.Size([3, 224, 224]), Type: torch.float32\n",
            "Frame shape: torch.Size([3, 224, 224]), Type: torch.float32\n",
            "Frame shape: torch.Size([3, 224, 224]), Type: torch.float32\n",
            "Frame shape: torch.Size([3, 224, 224]), Type: torch.float32\n",
            "Frame shape: torch.Size([3, 224, 224]), Type: torch.float32\n"
          ]
        },
        {
          "output_type": "stream",
          "name": "stderr",
          "text": [
            "Training:  10%|█         | 2/20 [00:24<03:44, 12.48s/it, gpu_load=2.08GB, loss=1.1231]"
          ]
        },
        {
          "output_type": "stream",
          "name": "stdout",
          "text": [
            "Frame shape: torch.Size([3, 224, 224]), Type: torch.float32\n",
            "Frame shape: torch.Size([3, 224, 224]), Type: torch.float32\n",
            "Frame shape: torch.Size([3, 224, 224]), Type: torch.float32\n",
            "Frame shape: torch.Size([3, 224, 224]), Type: torch.float32\n",
            "Frame shape: torch.Size([3, 224, 224]), Type: torch.float32\n",
            "Frame shape: torch.Size([3, 224, 224]), Type: torch.float32\n",
            "Frame shape: torch.Size([3, 224, 224]), Type: torch.float32\n",
            "Frame shape: torch.Size([3, 224, 224]), Type: torch.float32\n",
            "Frame shape: torch.Size([3, 224, 224]), Type: torch.float32\n",
            "Frame shape: torch.Size([3, 224, 224]), Type: torch.float32\n",
            "Frame shape: torch.Size([3, 224, 224]), Type: torch.float32\n",
            "Frame shape: torch.Size([3, 224, 224]), Type: torch.float32\n",
            "Frame shape: torch.Size([3, 224, 224]), Type: torch.float32\n",
            "Frame shape: torch.Size([3, 224, 224]), Type: torch.float32\n",
            "Frame shape: torch.Size([3, 224, 224]), Type: torch.float32\n",
            "Frame shape: torch.Size([3, 224, 224]), Type: torch.float32\n",
            "Frame shape: torch.Size([3, 224, 224]), Type: torch.float32\n",
            "Frame shape: torch.Size([3, 224, 224]), Type: torch.float32\n",
            "Frame shape: torch.Size([3, 224, 224]), Type: torch.float32\n",
            "Frame shape: torch.Size([3, 224, 224]), Type: torch.float32\n",
            "Frame shape: torch.Size([3, 224, 224]), Type: torch.float32\n",
            "Frame shape: torch.Size([3, 224, 224]), Type: torch.float32\n",
            "Frame shape: torch.Size([3, 224, 224]), Type: torch.float32\n",
            "Frame shape: torch.Size([3, 224, 224]), Type: torch.float32\n"
          ]
        },
        {
          "output_type": "stream",
          "name": "stderr",
          "text": [
            "Training:  15%|█▌        | 3/20 [00:37<03:33, 12.56s/it, gpu_load=2.08GB, loss=1.3295]"
          ]
        },
        {
          "output_type": "stream",
          "name": "stdout",
          "text": [
            "Frame shape: torch.Size([3, 224, 224]), Type: torch.float32\n",
            "Frame shape: torch.Size([3, 224, 224]), Type: torch.float32\n",
            "Frame shape: torch.Size([3, 224, 224]), Type: torch.float32\n",
            "Frame shape: torch.Size([3, 224, 224]), Type: torch.float32\n",
            "Frame shape: torch.Size([3, 224, 224]), Type: torch.float32\n",
            "Frame shape: torch.Size([3, 224, 224]), Type: torch.float32\n",
            "Frame shape: torch.Size([3, 224, 224]), Type: torch.float32\n",
            "Frame shape: torch.Size([3, 224, 224]), Type: torch.float32\n",
            "Frame shape: torch.Size([3, 224, 224]), Type: torch.float32\n",
            "Frame shape: torch.Size([3, 224, 224]), Type: torch.float32\n",
            "Frame shape: torch.Size([3, 224, 224]), Type: torch.float32\n",
            "Frame shape: torch.Size([3, 224, 224]), Type: torch.float32\n",
            "Frame shape: torch.Size([3, 224, 224]), Type: torch.float32\n",
            "Frame shape: torch.Size([3, 224, 224]), Type: torch.float32\n",
            "Frame shape: torch.Size([3, 224, 224]), Type: torch.float32\n",
            "Frame shape: torch.Size([3, 224, 224]), Type: torch.float32\n",
            "Frame shape: torch.Size([3, 224, 224]), Type: torch.float32\n",
            "Frame shape: torch.Size([3, 224, 224]), Type: torch.float32\n",
            "Frame shape: torch.Size([3, 224, 224]), Type: torch.float32\n",
            "Frame shape: torch.Size([3, 224, 224]), Type: torch.float32\n",
            "Frame shape: torch.Size([3, 224, 224]), Type: torch.float32\n",
            "Frame shape: torch.Size([3, 224, 224]), Type: torch.float32\n",
            "Frame shape: torch.Size([3, 224, 224]), Type: torch.float32\n"
          ]
        },
        {
          "output_type": "stream",
          "name": "stderr",
          "text": [
            "Training:  20%|██        | 4/20 [00:49<03:16, 12.26s/it, gpu_load=2.08GB, loss=1.0622]"
          ]
        },
        {
          "output_type": "stream",
          "name": "stdout",
          "text": [
            "Frame shape: torch.Size([3, 224, 224]), Type: torch.float32\n",
            "Frame shape: torch.Size([3, 224, 224]), Type: torch.float32\n",
            "Frame shape: torch.Size([3, 224, 224]), Type: torch.float32\n",
            "Frame shape: torch.Size([3, 224, 224]), Type: torch.float32\n",
            "Frame shape: torch.Size([3, 224, 224]), Type: torch.float32\n",
            "Frame shape: torch.Size([3, 224, 224]), Type: torch.float32\n",
            "Frame shape: torch.Size([3, 224, 224]), Type: torch.float32\n",
            "Frame shape: torch.Size([3, 224, 224]), Type: torch.float32\n",
            "Frame shape: torch.Size([3, 224, 224]), Type: torch.float32\n",
            "Frame shape: torch.Size([3, 224, 224]), Type: torch.float32\n",
            "Frame shape: torch.Size([3, 224, 224]), Type: torch.float32\n",
            "Frame shape: torch.Size([3, 224, 224]), Type: torch.float32\n",
            "Frame shape: torch.Size([3, 224, 224]), Type: torch.float32\n",
            "Frame shape: torch.Size([3, 224, 224]), Type: torch.float32\n",
            "Frame shape: torch.Size([3, 224, 224]), Type: torch.float32\n",
            "Frame shape: torch.Size([3, 224, 224]), Type: torch.float32\n",
            "Frame shape: torch.Size([3, 224, 224]), Type: torch.float32\n",
            "Frame shape: torch.Size([3, 224, 224]), Type: torch.float32\n",
            "Frame shape: torch.Size([3, 224, 224]), Type: torch.float32\n",
            "Frame shape: torch.Size([3, 224, 224]), Type: torch.float32\n",
            "Frame shape: torch.Size([3, 224, 224]), Type: torch.float32\n",
            "Frame shape: torch.Size([3, 224, 224]), Type: torch.float32\n",
            "Frame shape: torch.Size([3, 224, 224]), Type: torch.float32\n",
            "Frame shape: torch.Size([3, 224, 224]), Type: torch.float32\n"
          ]
        },
        {
          "output_type": "stream",
          "name": "stderr",
          "text": [
            "Training:  25%|██▌       | 5/20 [01:01<03:02, 12.14s/it, gpu_load=2.08GB, loss=0.9850]"
          ]
        },
        {
          "output_type": "stream",
          "name": "stdout",
          "text": [
            "Frame shape: torch.Size([3, 224, 224]), Type: torch.float32\n",
            "Frame shape: torch.Size([3, 224, 224]), Type: torch.float32\n",
            "Frame shape: torch.Size([3, 224, 224]), Type: torch.float32\n",
            "Frame shape: torch.Size([3, 224, 224]), Type: torch.float32\n",
            "Frame shape: torch.Size([3, 224, 224]), Type: torch.float32\n",
            "Frame shape: torch.Size([3, 224, 224]), Type: torch.float32\n",
            "Frame shape: torch.Size([3, 224, 224]), Type: torch.float32\n",
            "Frame shape: torch.Size([3, 224, 224]), Type: torch.float32\n",
            "Frame shape: torch.Size([3, 224, 224]), Type: torch.float32\n",
            "Frame shape: torch.Size([3, 224, 224]), Type: torch.float32\n",
            "Frame shape: torch.Size([3, 224, 224]), Type: torch.float32\n",
            "Frame shape: torch.Size([3, 224, 224]), Type: torch.float32\n",
            "Frame shape: torch.Size([3, 224, 224]), Type: torch.float32\n",
            "Frame shape: torch.Size([3, 224, 224]), Type: torch.float32\n",
            "Frame shape: torch.Size([3, 224, 224]), Type: torch.float32\n",
            "Frame shape: torch.Size([3, 224, 224]), Type: torch.float32\n",
            "Frame shape: torch.Size([3, 224, 224]), Type: torch.float32\n",
            "Frame shape: torch.Size([3, 224, 224]), Type: torch.float32\n",
            "Frame shape: torch.Size([3, 224, 224]), Type: torch.float32\n",
            "Frame shape: torch.Size([3, 224, 224]), Type: torch.float32\n",
            "Frame shape: torch.Size([3, 224, 224]), Type: torch.float32\n",
            "Frame shape: torch.Size([3, 224, 224]), Type: torch.float32\n",
            "Frame shape: torch.Size([3, 224, 224]), Type: torch.float32\n",
            "Frame shape: torch.Size([3, 224, 224]), Type: torch.float32\n"
          ]
        },
        {
          "output_type": "stream",
          "name": "stderr",
          "text": [
            "Training:  30%|███       | 6/20 [01:13<02:52, 12.29s/it, gpu_load=2.08GB, loss=1.4650]"
          ]
        },
        {
          "output_type": "stream",
          "name": "stdout",
          "text": [
            "Frame shape: torch.Size([3, 224, 224]), Type: torch.float32\n",
            "Frame shape: torch.Size([3, 224, 224]), Type: torch.float32\n",
            "Frame shape: torch.Size([3, 224, 224]), Type: torch.float32\n",
            "Frame shape: torch.Size([3, 224, 224]), Type: torch.float32\n",
            "Frame shape: torch.Size([3, 224, 224]), Type: torch.float32\n",
            "Frame shape: torch.Size([3, 224, 224]), Type: torch.float32\n",
            "Frame shape: torch.Size([3, 224, 224]), Type: torch.float32\n",
            "Frame shape: torch.Size([3, 224, 224]), Type: torch.float32\n",
            "Frame shape: torch.Size([3, 224, 224]), Type: torch.float32\n",
            "Frame shape: torch.Size([3, 224, 224]), Type: torch.float32\n",
            "Frame shape: torch.Size([3, 224, 224]), Type: torch.float32\n",
            "Frame shape: torch.Size([3, 224, 224]), Type: torch.float32\n",
            "Frame shape: torch.Size([3, 224, 224]), Type: torch.float32\n",
            "Frame shape: torch.Size([3, 224, 224]), Type: torch.float32\n",
            "Frame shape: torch.Size([3, 224, 224]), Type: torch.float32\n",
            "Frame shape: torch.Size([3, 224, 224]), Type: torch.float32\n",
            "Frame shape: torch.Size([3, 224, 224]), Type: torch.float32\n",
            "Frame shape: torch.Size([3, 224, 224]), Type: torch.float32\n",
            "Frame shape: torch.Size([3, 224, 224]), Type: torch.float32\n",
            "Frame shape: torch.Size([3, 224, 224]), Type: torch.float32\n",
            "Frame shape: torch.Size([3, 224, 224]), Type: torch.float32\n",
            "Frame shape: torch.Size([3, 224, 224]), Type: torch.float32\n",
            "Frame shape: torch.Size([3, 224, 224]), Type: torch.float32\n",
            "Frame shape: torch.Size([3, 224, 224]), Type: torch.float32\n"
          ]
        },
        {
          "output_type": "stream",
          "name": "stderr",
          "text": [
            "Training:  35%|███▌      | 7/20 [01:25<02:38, 12.21s/it, gpu_load=2.08GB, loss=1.2588]"
          ]
        },
        {
          "output_type": "stream",
          "name": "stdout",
          "text": [
            "Frame shape: torch.Size([3, 224, 224]), Type: torch.float32\n",
            "Frame shape: torch.Size([3, 224, 224]), Type: torch.float32\n",
            "Frame shape: torch.Size([3, 224, 224]), Type: torch.float32\n",
            "Frame shape: torch.Size([3, 224, 224]), Type: torch.float32\n",
            "Frame shape: torch.Size([3, 224, 224]), Type: torch.float32\n",
            "Frame shape: torch.Size([3, 224, 224]), Type: torch.float32\n",
            "Frame shape: torch.Size([3, 224, 224]), Type: torch.float32\n",
            "Frame shape: torch.Size([3, 224, 224]), Type: torch.float32\n",
            "Frame shape: torch.Size([3, 224, 224]), Type: torch.float32\n",
            "Frame shape: torch.Size([3, 224, 224]), Type: torch.float32\n",
            "Frame shape: torch.Size([3, 224, 224]), Type: torch.float32\n",
            "Frame shape: torch.Size([3, 224, 224]), Type: torch.float32\n",
            "Frame shape: torch.Size([3, 224, 224]), Type: torch.float32\n",
            "Frame shape: torch.Size([3, 224, 224]), Type: torch.float32\n",
            "Frame shape: torch.Size([3, 224, 224]), Type: torch.float32\n",
            "Frame shape: torch.Size([3, 224, 224]), Type: torch.float32\n",
            "Frame shape: torch.Size([3, 224, 224]), Type: torch.float32\n",
            "Frame shape: torch.Size([3, 224, 224]), Type: torch.float32\n",
            "Frame shape: torch.Size([3, 224, 224]), Type: torch.float32\n",
            "Frame shape: torch.Size([3, 224, 224]), Type: torch.float32\n",
            "Frame shape: torch.Size([3, 224, 224]), Type: torch.float32\n",
            "Frame shape: torch.Size([3, 224, 224]), Type: torch.float32\n",
            "Frame shape: torch.Size([3, 224, 224]), Type: torch.float32\n",
            "Frame shape: torch.Size([3, 224, 224]), Type: torch.float32\n"
          ]
        },
        {
          "output_type": "stream",
          "name": "stderr",
          "text": [
            "Training:  40%|████      | 8/20 [01:38<02:29, 12.47s/it, gpu_load=2.08GB, loss=1.1069]"
          ]
        },
        {
          "output_type": "stream",
          "name": "stdout",
          "text": [
            "Frame shape: torch.Size([3, 224, 224]), Type: torch.float32\n",
            "Frame shape: torch.Size([3, 224, 224]), Type: torch.float32\n",
            "Frame shape: torch.Size([3, 224, 224]), Type: torch.float32\n",
            "Frame shape: torch.Size([3, 224, 224]), Type: torch.float32\n",
            "Frame shape: torch.Size([3, 224, 224]), Type: torch.float32\n",
            "Frame shape: torch.Size([3, 224, 224]), Type: torch.float32\n",
            "Frame shape: torch.Size([3, 224, 224]), Type: torch.float32\n",
            "Frame shape: torch.Size([3, 224, 224]), Type: torch.float32\n",
            "Frame shape: torch.Size([3, 224, 224]), Type: torch.float32\n",
            "Frame shape: torch.Size([3, 224, 224]), Type: torch.float32\n",
            "Frame shape: torch.Size([3, 224, 224]), Type: torch.float32\n",
            "Frame shape: torch.Size([3, 224, 224]), Type: torch.float32\n",
            "Frame shape: torch.Size([3, 224, 224]), Type: torch.float32\n",
            "Frame shape: torch.Size([3, 224, 224]), Type: torch.float32\n",
            "Frame shape: torch.Size([3, 224, 224]), Type: torch.float32\n",
            "Frame shape: torch.Size([3, 224, 224]), Type: torch.float32\n",
            "Frame shape: torch.Size([3, 224, 224]), Type: torch.float32\n",
            "Frame shape: torch.Size([3, 224, 224]), Type: torch.float32\n",
            "Frame shape: torch.Size([3, 224, 224]), Type: torch.float32\n",
            "Frame shape: torch.Size([3, 224, 224]), Type: torch.float32\n",
            "Frame shape: torch.Size([3, 224, 224]), Type: torch.float32\n",
            "Frame shape: torch.Size([3, 224, 224]), Type: torch.float32\n",
            "Frame shape: torch.Size([3, 224, 224]), Type: torch.float32\n",
            "Frame shape: torch.Size([3, 224, 224]), Type: torch.float32\n"
          ]
        },
        {
          "output_type": "stream",
          "name": "stderr",
          "text": [
            "Training:  45%|████▌     | 9/20 [01:50<02:15, 12.32s/it, gpu_load=2.08GB, loss=1.3078]"
          ]
        },
        {
          "output_type": "stream",
          "name": "stdout",
          "text": [
            "Frame shape: torch.Size([3, 224, 224]), Type: torch.float32\n",
            "Frame shape: torch.Size([3, 224, 224]), Type: torch.float32\n",
            "Frame shape: torch.Size([3, 224, 224]), Type: torch.float32\n",
            "Frame shape: torch.Size([3, 224, 224]), Type: torch.float32\n",
            "Frame shape: torch.Size([3, 224, 224]), Type: torch.float32\n",
            "Frame shape: torch.Size([3, 224, 224]), Type: torch.float32\n",
            "Frame shape: torch.Size([3, 224, 224]), Type: torch.float32\n",
            "Frame shape: torch.Size([3, 224, 224]), Type: torch.float32\n",
            "Frame shape: torch.Size([3, 224, 224]), Type: torch.float32\n",
            "Frame shape: torch.Size([3, 224, 224]), Type: torch.float32\n",
            "Frame shape: torch.Size([3, 224, 224]), Type: torch.float32\n",
            "Frame shape: torch.Size([3, 224, 224]), Type: torch.float32\n",
            "Frame shape: torch.Size([3, 224, 224]), Type: torch.float32\n",
            "Frame shape: torch.Size([3, 224, 224]), Type: torch.float32\n",
            "Frame shape: torch.Size([3, 224, 224]), Type: torch.float32\n",
            "Frame shape: torch.Size([3, 224, 224]), Type: torch.float32\n",
            "Frame shape: torch.Size([3, 224, 224]), Type: torch.float32\n",
            "Frame shape: torch.Size([3, 224, 224]), Type: torch.float32\n",
            "Frame shape: torch.Size([3, 224, 224]), Type: torch.float32\n",
            "Frame shape: torch.Size([3, 224, 224]), Type: torch.float32\n",
            "Frame shape: torch.Size([3, 224, 224]), Type: torch.float32\n",
            "Frame shape: torch.Size([3, 224, 224]), Type: torch.float32\n",
            "Frame shape: torch.Size([3, 224, 224]), Type: torch.float32\n",
            "Frame shape: torch.Size([3, 224, 224]), Type: torch.float32\n"
          ]
        },
        {
          "output_type": "stream",
          "name": "stderr",
          "text": [
            "Training:  50%|█████     | 10/20 [02:01<01:58, 11.89s/it, gpu_load=2.08GB, loss=1.1994]"
          ]
        },
        {
          "output_type": "stream",
          "name": "stdout",
          "text": [
            "Frame shape: torch.Size([3, 224, 224]), Type: torch.float32\n",
            "Frame shape: torch.Size([3, 224, 224]), Type: torch.float32\n",
            "Frame shape: torch.Size([3, 224, 224]), Type: torch.float32\n",
            "Frame shape: torch.Size([3, 224, 224]), Type: torch.float32\n",
            "Frame shape: torch.Size([3, 224, 224]), Type: torch.float32\n",
            "Frame shape: torch.Size([3, 224, 224]), Type: torch.float32\n",
            "Frame shape: torch.Size([3, 224, 224]), Type: torch.float32\n",
            "Frame shape: torch.Size([3, 224, 224]), Type: torch.float32\n",
            "Frame shape: torch.Size([3, 224, 224]), Type: torch.float32\n",
            "Frame shape: torch.Size([3, 224, 224]), Type: torch.float32\n",
            "Frame shape: torch.Size([3, 224, 224]), Type: torch.float32\n",
            "Frame shape: torch.Size([3, 224, 224]), Type: torch.float32\n",
            "Frame shape: torch.Size([3, 224, 224]), Type: torch.float32\n",
            "Frame shape: torch.Size([3, 224, 224]), Type: torch.float32\n",
            "Frame shape: torch.Size([3, 224, 224]), Type: torch.float32\n",
            "Frame shape: torch.Size([3, 224, 224]), Type: torch.float32\n",
            "Frame shape: torch.Size([3, 224, 224]), Type: torch.float32\n",
            "Frame shape: torch.Size([3, 224, 224]), Type: torch.float32\n",
            "Frame shape: torch.Size([3, 224, 224]), Type: torch.float32\n",
            "Frame shape: torch.Size([3, 224, 224]), Type: torch.float32\n",
            "Frame shape: torch.Size([3, 224, 224]), Type: torch.float32\n",
            "Frame shape: torch.Size([3, 224, 224]), Type: torch.float32\n",
            "Frame shape: torch.Size([3, 224, 224]), Type: torch.float32\n",
            "Frame shape: torch.Size([3, 224, 224]), Type: torch.float32\n"
          ]
        },
        {
          "output_type": "stream",
          "name": "stderr",
          "text": [
            "Training:  55%|█████▌    | 11/20 [02:13<01:47, 11.92s/it, gpu_load=2.08GB, loss=1.6598]"
          ]
        },
        {
          "output_type": "stream",
          "name": "stdout",
          "text": [
            "Frame shape: torch.Size([3, 224, 224]), Type: torch.float32\n",
            "Frame shape: torch.Size([3, 224, 224]), Type: torch.float32\n",
            "Frame shape: torch.Size([3, 224, 224]), Type: torch.float32\n",
            "Frame shape: torch.Size([3, 224, 224]), Type: torch.float32\n",
            "Frame shape: torch.Size([3, 224, 224]), Type: torch.float32\n",
            "Frame shape: torch.Size([3, 224, 224]), Type: torch.float32\n",
            "Frame shape: torch.Size([3, 224, 224]), Type: torch.float32\n",
            "Frame shape: torch.Size([3, 224, 224]), Type: torch.float32\n",
            "Frame shape: torch.Size([3, 224, 224]), Type: torch.float32\n",
            "Frame shape: torch.Size([3, 224, 224]), Type: torch.float32\n",
            "Frame shape: torch.Size([3, 224, 224]), Type: torch.float32\n",
            "Frame shape: torch.Size([3, 224, 224]), Type: torch.float32\n",
            "Frame shape: torch.Size([3, 224, 224]), Type: torch.float32\n",
            "Frame shape: torch.Size([3, 224, 224]), Type: torch.float32\n",
            "Frame shape: torch.Size([3, 224, 224]), Type: torch.float32\n",
            "Frame shape: torch.Size([3, 224, 224]), Type: torch.float32\n",
            "Frame shape: torch.Size([3, 224, 224]), Type: torch.float32\n",
            "Frame shape: torch.Size([3, 224, 224]), Type: torch.float32\n",
            "Frame shape: torch.Size([3, 224, 224]), Type: torch.float32\n",
            "Frame shape: torch.Size([3, 224, 224]), Type: torch.float32\n",
            "Frame shape: torch.Size([3, 224, 224]), Type: torch.float32\n",
            "Frame shape: torch.Size([3, 224, 224]), Type: torch.float32\n",
            "Frame shape: torch.Size([3, 224, 224]), Type: torch.float32\n",
            "Frame shape: torch.Size([3, 224, 224]), Type: torch.float32\n"
          ]
        },
        {
          "output_type": "stream",
          "name": "stderr",
          "text": [
            "Training:  60%|██████    | 12/20 [02:27<01:39, 12.43s/it, gpu_load=2.08GB, loss=1.3945]"
          ]
        },
        {
          "output_type": "stream",
          "name": "stdout",
          "text": [
            "Frame shape: torch.Size([3, 224, 224]), Type: torch.float32\n",
            "Frame shape: torch.Size([3, 224, 224]), Type: torch.float32\n",
            "Frame shape: torch.Size([3, 224, 224]), Type: torch.float32\n",
            "Frame shape: torch.Size([3, 224, 224]), Type: torch.float32\n",
            "Frame shape: torch.Size([3, 224, 224]), Type: torch.float32\n",
            "Frame shape: torch.Size([3, 224, 224]), Type: torch.float32\n",
            "Frame shape: torch.Size([3, 224, 224]), Type: torch.float32\n",
            "Frame shape: torch.Size([3, 224, 224]), Type: torch.float32\n",
            "Frame shape: torch.Size([3, 224, 224]), Type: torch.float32\n",
            "Frame shape: torch.Size([3, 224, 224]), Type: torch.float32\n",
            "Frame shape: torch.Size([3, 224, 224]), Type: torch.float32\n",
            "Frame shape: torch.Size([3, 224, 224]), Type: torch.float32\n",
            "Frame shape: torch.Size([3, 224, 224]), Type: torch.float32\n",
            "Frame shape: torch.Size([3, 224, 224]), Type: torch.float32\n",
            "Frame shape: torch.Size([3, 224, 224]), Type: torch.float32\n",
            "Frame shape: torch.Size([3, 224, 224]), Type: torch.float32\n",
            "Frame shape: torch.Size([3, 224, 224]), Type: torch.float32\n",
            "Frame shape: torch.Size([3, 224, 224]), Type: torch.float32\n",
            "Frame shape: torch.Size([3, 224, 224]), Type: torch.float32\n",
            "Frame shape: torch.Size([3, 224, 224]), Type: torch.float32\n",
            "Frame shape: torch.Size([3, 224, 224]), Type: torch.float32\n",
            "Frame shape: torch.Size([3, 224, 224]), Type: torch.float32\n",
            "Frame shape: torch.Size([3, 224, 224]), Type: torch.float32\n",
            "Frame shape: torch.Size([3, 224, 224]), Type: torch.float32\n"
          ]
        },
        {
          "output_type": "stream",
          "name": "stderr",
          "text": [
            "Training:  65%|██████▌   | 13/20 [02:39<01:25, 12.19s/it, gpu_load=2.08GB, loss=1.1320]"
          ]
        },
        {
          "output_type": "stream",
          "name": "stdout",
          "text": [
            "Frame shape: torch.Size([3, 224, 224]), Type: torch.float32\n",
            "Frame shape: torch.Size([3, 224, 224]), Type: torch.float32\n",
            "Frame shape: torch.Size([3, 224, 224]), Type: torch.float32\n",
            "Frame shape: torch.Size([3, 224, 224]), Type: torch.float32\n",
            "Frame shape: torch.Size([3, 224, 224]), Type: torch.float32\n",
            "Frame shape: torch.Size([3, 224, 224]), Type: torch.float32\n",
            "Frame shape: torch.Size([3, 224, 224]), Type: torch.float32\n",
            "Frame shape: torch.Size([3, 224, 224]), Type: torch.float32\n",
            "Frame shape: torch.Size([3, 224, 224]), Type: torch.float32\n",
            "Frame shape: torch.Size([3, 224, 224]), Type: torch.float32\n",
            "Frame shape: torch.Size([3, 224, 224]), Type: torch.float32\n",
            "Frame shape: torch.Size([3, 224, 224]), Type: torch.float32\n",
            "Frame shape: torch.Size([3, 224, 224]), Type: torch.float32\n",
            "Frame shape: torch.Size([3, 224, 224]), Type: torch.float32\n",
            "Frame shape: torch.Size([3, 224, 224]), Type: torch.float32\n",
            "Frame shape: torch.Size([3, 224, 224]), Type: torch.float32\n",
            "Frame shape: torch.Size([3, 224, 224]), Type: torch.float32\n",
            "Frame shape: torch.Size([3, 224, 224]), Type: torch.float32\n",
            "Frame shape: torch.Size([3, 224, 224]), Type: torch.float32\n",
            "Frame shape: torch.Size([3, 224, 224]), Type: torch.float32\n",
            "Frame shape: torch.Size([3, 224, 224]), Type: torch.float32\n",
            "Frame shape: torch.Size([3, 224, 224]), Type: torch.float32\n",
            "Frame shape: torch.Size([3, 224, 224]), Type: torch.float32\n",
            "Frame shape: torch.Size([3, 224, 224]), Type: torch.float32\n"
          ]
        },
        {
          "output_type": "stream",
          "name": "stderr",
          "text": [
            "Training:  70%|███████   | 14/20 [02:51<01:14, 12.34s/it, gpu_load=2.08GB, loss=1.1011]"
          ]
        },
        {
          "output_type": "stream",
          "name": "stdout",
          "text": [
            "Frame shape: torch.Size([3, 224, 224]), Type: torch.float32\n",
            "Frame shape: torch.Size([3, 224, 224]), Type: torch.float32\n",
            "Frame shape: torch.Size([3, 224, 224]), Type: torch.float32\n",
            "Frame shape: torch.Size([3, 224, 224]), Type: torch.float32\n",
            "Frame shape: torch.Size([3, 224, 224]), Type: torch.float32\n",
            "Frame shape: torch.Size([3, 224, 224]), Type: torch.float32\n",
            "Frame shape: torch.Size([3, 224, 224]), Type: torch.float32\n",
            "Frame shape: torch.Size([3, 224, 224]), Type: torch.float32\n",
            "Frame shape: torch.Size([3, 224, 224]), Type: torch.float32\n",
            "Frame shape: torch.Size([3, 224, 224]), Type: torch.float32\n",
            "Frame shape: torch.Size([3, 224, 224]), Type: torch.float32\n",
            "Frame shape: torch.Size([3, 224, 224]), Type: torch.float32\n",
            "Frame shape: torch.Size([3, 224, 224]), Type: torch.float32\n",
            "Frame shape: torch.Size([3, 224, 224]), Type: torch.float32\n",
            "Frame shape: torch.Size([3, 224, 224]), Type: torch.float32\n",
            "Frame shape: torch.Size([3, 224, 224]), Type: torch.float32\n",
            "Frame shape: torch.Size([3, 224, 224]), Type: torch.float32\n",
            "Frame shape: torch.Size([3, 224, 224]), Type: torch.float32\n",
            "Frame shape: torch.Size([3, 224, 224]), Type: torch.float32\n",
            "Frame shape: torch.Size([3, 224, 224]), Type: torch.float32\n",
            "Frame shape: torch.Size([3, 224, 224]), Type: torch.float32\n",
            "Frame shape: torch.Size([3, 224, 224]), Type: torch.float32\n",
            "Frame shape: torch.Size([3, 224, 224]), Type: torch.float32\n",
            "Frame shape: torch.Size([3, 224, 224]), Type: torch.float32\n"
          ]
        },
        {
          "output_type": "stream",
          "name": "stderr",
          "text": [
            "Training:  75%|███████▌  | 15/20 [03:04<01:01, 12.37s/it, gpu_load=2.08GB, loss=1.2745]"
          ]
        },
        {
          "output_type": "stream",
          "name": "stdout",
          "text": [
            "Frame shape: torch.Size([3, 224, 224]), Type: torch.float32\n",
            "Frame shape: torch.Size([3, 224, 224]), Type: torch.float32\n",
            "Frame shape: torch.Size([3, 224, 224]), Type: torch.float32\n",
            "Frame shape: torch.Size([3, 224, 224]), Type: torch.float32\n",
            "Frame shape: torch.Size([3, 224, 224]), Type: torch.float32\n",
            "Frame shape: torch.Size([3, 224, 224]), Type: torch.float32\n",
            "Frame shape: torch.Size([3, 224, 224]), Type: torch.float32\n",
            "Frame shape: torch.Size([3, 224, 224]), Type: torch.float32\n",
            "Frame shape: torch.Size([3, 224, 224]), Type: torch.float32\n",
            "Frame shape: torch.Size([3, 224, 224]), Type: torch.float32\n",
            "Frame shape: torch.Size([3, 224, 224]), Type: torch.float32\n",
            "Frame shape: torch.Size([3, 224, 224]), Type: torch.float32\n",
            "Frame shape: torch.Size([3, 224, 224]), Type: torch.float32\n",
            "Frame shape: torch.Size([3, 224, 224]), Type: torch.float32\n",
            "Frame shape: torch.Size([3, 224, 224]), Type: torch.float32\n",
            "Frame shape: torch.Size([3, 224, 224]), Type: torch.float32\n",
            "Frame shape: torch.Size([3, 224, 224]), Type: torch.float32\n",
            "Frame shape: torch.Size([3, 224, 224]), Type: torch.float32\n",
            "Frame shape: torch.Size([3, 224, 224]), Type: torch.float32\n",
            "Frame shape: torch.Size([3, 224, 224]), Type: torch.float32\n",
            "Frame shape: torch.Size([3, 224, 224]), Type: torch.float32\n",
            "Frame shape: torch.Size([3, 224, 224]), Type: torch.float32\n",
            "Frame shape: torch.Size([3, 224, 224]), Type: torch.float32\n",
            "Frame shape: torch.Size([3, 224, 224]), Type: torch.float32\n"
          ]
        },
        {
          "output_type": "stream",
          "name": "stderr",
          "text": [
            "Training:  80%|████████  | 16/20 [03:15<00:48, 12.08s/it, gpu_load=2.08GB, loss=1.6587]"
          ]
        },
        {
          "output_type": "stream",
          "name": "stdout",
          "text": [
            "Frame shape: torch.Size([3, 224, 224]), Type: torch.float32\n",
            "Frame shape: torch.Size([3, 224, 224]), Type: torch.float32\n",
            "Frame shape: torch.Size([3, 224, 224]), Type: torch.float32\n",
            "Frame shape: torch.Size([3, 224, 224]), Type: torch.float32\n",
            "Frame shape: torch.Size([3, 224, 224]), Type: torch.float32\n",
            "Frame shape: torch.Size([3, 224, 224]), Type: torch.float32\n",
            "Frame shape: torch.Size([3, 224, 224]), Type: torch.float32\n",
            "Frame shape: torch.Size([3, 224, 224]), Type: torch.float32\n",
            "Frame shape: torch.Size([3, 224, 224]), Type: torch.float32\n",
            "Frame shape: torch.Size([3, 224, 224]), Type: torch.float32\n",
            "Frame shape: torch.Size([3, 224, 224]), Type: torch.float32\n",
            "Frame shape: torch.Size([3, 224, 224]), Type: torch.float32\n",
            "Frame shape: torch.Size([3, 224, 224]), Type: torch.float32\n",
            "Frame shape: torch.Size([3, 224, 224]), Type: torch.float32\n",
            "Frame shape: torch.Size([3, 224, 224]), Type: torch.float32\n",
            "Frame shape: torch.Size([3, 224, 224]), Type: torch.float32\n",
            "Frame shape: torch.Size([3, 224, 224]), Type: torch.float32\n",
            "Frame shape: torch.Size([3, 224, 224]), Type: torch.float32\n",
            "Frame shape: torch.Size([3, 224, 224]), Type: torch.float32\n",
            "Frame shape: torch.Size([3, 224, 224]), Type: torch.float32\n",
            "Frame shape: torch.Size([3, 224, 224]), Type: torch.float32\n",
            "Frame shape: torch.Size([3, 224, 224]), Type: torch.float32\n",
            "Frame shape: torch.Size([3, 224, 224]), Type: torch.float32\n",
            "Frame shape: torch.Size([3, 224, 224]), Type: torch.float32\n"
          ]
        },
        {
          "output_type": "stream",
          "name": "stderr",
          "text": [
            "Training:  85%|████████▌ | 17/20 [03:28<00:36, 12.23s/it, gpu_load=2.08GB, loss=1.3592]"
          ]
        },
        {
          "output_type": "stream",
          "name": "stdout",
          "text": [
            "Frame shape: torch.Size([3, 224, 224]), Type: torch.float32\n",
            "Frame shape: torch.Size([3, 224, 224]), Type: torch.float32\n",
            "Frame shape: torch.Size([3, 224, 224]), Type: torch.float32\n",
            "Frame shape: torch.Size([3, 224, 224]), Type: torch.float32\n",
            "Frame shape: torch.Size([3, 224, 224]), Type: torch.float32\n",
            "Frame shape: torch.Size([3, 224, 224]), Type: torch.float32\n",
            "Frame shape: torch.Size([3, 224, 224]), Type: torch.float32\n",
            "Frame shape: torch.Size([3, 224, 224]), Type: torch.float32\n",
            "Frame shape: torch.Size([3, 224, 224]), Type: torch.float32\n",
            "Frame shape: torch.Size([3, 224, 224]), Type: torch.float32\n",
            "Frame shape: torch.Size([3, 224, 224]), Type: torch.float32\n",
            "Frame shape: torch.Size([3, 224, 224]), Type: torch.float32\n",
            "Frame shape: torch.Size([3, 224, 224]), Type: torch.float32\n",
            "Frame shape: torch.Size([3, 224, 224]), Type: torch.float32\n",
            "Frame shape: torch.Size([3, 224, 224]), Type: torch.float32\n",
            "Frame shape: torch.Size([3, 224, 224]), Type: torch.float32\n",
            "Frame shape: torch.Size([3, 224, 224]), Type: torch.float32\n",
            "Frame shape: torch.Size([3, 224, 224]), Type: torch.float32\n",
            "Frame shape: torch.Size([3, 224, 224]), Type: torch.float32\n",
            "Frame shape: torch.Size([3, 224, 224]), Type: torch.float32\n",
            "Frame shape: torch.Size([3, 224, 224]), Type: torch.float32\n",
            "Frame shape: torch.Size([3, 224, 224]), Type: torch.float32\n",
            "Frame shape: torch.Size([3, 224, 224]), Type: torch.float32\n",
            "Frame shape: torch.Size([3, 224, 224]), Type: torch.float32\n"
          ]
        },
        {
          "output_type": "stream",
          "name": "stderr",
          "text": [
            "Training:  90%|█████████ | 18/20 [03:41<00:24, 12.44s/it, gpu_load=2.08GB, loss=1.2649]"
          ]
        },
        {
          "output_type": "stream",
          "name": "stdout",
          "text": [
            "Frame shape: torch.Size([3, 224, 224]), Type: torch.float32\n",
            "Frame shape: torch.Size([3, 224, 224]), Type: torch.float32\n",
            "Frame shape: torch.Size([3, 224, 224]), Type: torch.float32\n",
            "Frame shape: torch.Size([3, 224, 224]), Type: torch.float32\n",
            "Frame shape: torch.Size([3, 224, 224]), Type: torch.float32\n",
            "Frame shape: torch.Size([3, 224, 224]), Type: torch.float32\n",
            "Frame shape: torch.Size([3, 224, 224]), Type: torch.float32\n",
            "Frame shape: torch.Size([3, 224, 224]), Type: torch.float32\n",
            "Frame shape: torch.Size([3, 224, 224]), Type: torch.float32\n",
            "Frame shape: torch.Size([3, 224, 224]), Type: torch.float32\n",
            "Frame shape: torch.Size([3, 224, 224]), Type: torch.float32\n",
            "Frame shape: torch.Size([3, 224, 224]), Type: torch.float32\n",
            "Frame shape: torch.Size([3, 224, 224]), Type: torch.float32\n",
            "Frame shape: torch.Size([3, 224, 224]), Type: torch.float32\n",
            "Frame shape: torch.Size([3, 224, 224]), Type: torch.float32\n",
            "Frame shape: torch.Size([3, 224, 224]), Type: torch.float32\n",
            "Frame shape: torch.Size([3, 224, 224]), Type: torch.float32\n",
            "Frame shape: torch.Size([3, 224, 224]), Type: torch.float32\n",
            "Frame shape: torch.Size([3, 224, 224]), Type: torch.float32\n",
            "Frame shape: torch.Size([3, 224, 224]), Type: torch.float32\n",
            "Frame shape: torch.Size([3, 224, 224]), Type: torch.float32\n",
            "Frame shape: torch.Size([3, 224, 224]), Type: torch.float32\n",
            "Frame shape: torch.Size([3, 224, 224]), Type: torch.float32\n",
            "Frame shape: torch.Size([3, 224, 224]), Type: torch.float32\n"
          ]
        },
        {
          "output_type": "stream",
          "name": "stderr",
          "text": [
            "Training:  95%|█████████▌| 19/20 [03:52<00:12, 12.13s/it, gpu_load=2.08GB, loss=1.5700]"
          ]
        },
        {
          "output_type": "stream",
          "name": "stdout",
          "text": [
            "Frame shape: torch.Size([3, 224, 224]), Type: torch.float32\n",
            "Frame shape: torch.Size([3, 224, 224]), Type: torch.float32\n",
            "Frame shape: torch.Size([3, 224, 224]), Type: torch.float32\n",
            "Frame shape: torch.Size([3, 224, 224]), Type: torch.float32\n",
            "Frame shape: torch.Size([3, 224, 224]), Type: torch.float32\n",
            "Frame shape: torch.Size([3, 224, 224]), Type: torch.float32\n",
            "Frame shape: torch.Size([3, 224, 224]), Type: torch.float32\n",
            "Frame shape: torch.Size([3, 224, 224]), Type: torch.float32\n",
            "Frame shape: torch.Size([3, 224, 224]), Type: torch.float32\n",
            "Frame shape: torch.Size([3, 224, 224]), Type: torch.float32\n",
            "Frame shape: torch.Size([3, 224, 224]), Type: torch.float32\n",
            "Frame shape: torch.Size([3, 224, 224]), Type: torch.float32\n",
            "Frame shape: torch.Size([3, 224, 224]), Type: torch.float32\n",
            "Frame shape: torch.Size([3, 224, 224]), Type: torch.float32\n",
            "Frame shape: torch.Size([3, 224, 224]), Type: torch.float32\n",
            "Frame shape: torch.Size([3, 224, 224]), Type: torch.float32\n",
            "Frame shape: torch.Size([3, 224, 224]), Type: torch.float32\n",
            "Frame shape: torch.Size([3, 224, 224]), Type: torch.float32\n",
            "Frame shape: torch.Size([3, 224, 224]), Type: torch.float32\n",
            "Frame shape: torch.Size([3, 224, 224]), Type: torch.float32\n",
            "Frame shape: torch.Size([3, 224, 224]), Type: torch.float32\n"
          ]
        },
        {
          "output_type": "stream",
          "name": "stderr",
          "text": [
            "Training: 100%|██████████| 20/20 [04:05<00:00, 12.28s/it, gpu_load=1.82GB, loss=1.6015]\n"
          ]
        },
        {
          "output_type": "stream",
          "name": "stdout",
          "text": [
            "Frame shape: torch.Size([3, 224, 224]), Type: torch.float32\n"
          ]
        },
        {
          "output_type": "stream",
          "name": "stderr",
          "text": [
            "\rTesting:   0%|          | 0/5 [00:00<?, ?it/s]"
          ]
        },
        {
          "output_type": "stream",
          "name": "stdout",
          "text": [
            "Frame shape: torch.Size([3, 224, 224]), Type: torch.float32\n",
            "Frame shape: torch.Size([3, 224, 224]), Type: torch.float32\n",
            "Frame shape: torch.Size([3, 224, 224]), Type: torch.float32\n",
            "Frame shape: torch.Size([3, 224, 224]), Type: torch.float32\n",
            "Frame shape: torch.Size([3, 224, 224]), Type: torch.float32\n",
            "Frame shape: torch.Size([3, 224, 224]), Type: torch.float32\n",
            "Frame shape: torch.Size([3, 224, 224]), Type: torch.float32\n",
            "Frame shape: torch.Size([3, 224, 224]), Type: torch.float32\n",
            "Frame shape: torch.Size([3, 224, 224]), Type: torch.float32\n",
            "Frame shape: torch.Size([3, 224, 224]), Type: torch.float32\n",
            "Frame shape: torch.Size([3, 224, 224]), Type: torch.float32\n",
            "Frame shape: torch.Size([3, 224, 224]), Type: torch.float32\n",
            "Frame shape: torch.Size([3, 224, 224]), Type: torch.float32\n",
            "Frame shape: torch.Size([3, 224, 224]), Type: torch.float32\n",
            "Frame shape: torch.Size([3, 224, 224]), Type: torch.float32\n",
            "Frame shape: torch.Size([3, 224, 224]), Type: torch.float32\n",
            "Frame shape: torch.Size([3, 224, 224]), Type: torch.float32\n",
            "Frame shape: torch.Size([3, 224, 224]), Type: torch.float32\n",
            "Frame shape: torch.Size([3, 224, 224]), Type: torch.float32\n",
            "Frame shape: torch.Size([3, 224, 224]), Type: torch.float32\n",
            "Frame shape: torch.Size([3, 224, 224]), Type: torch.float32\n",
            "Frame shape: torch.Size([3, 224, 224]), Type: torch.float32\n",
            "Frame shape: torch.Size([3, 224, 224]), Type: torch.float32\n"
          ]
        },
        {
          "output_type": "stream",
          "name": "stderr",
          "text": [
            "Testing:  20%|██        | 1/5 [00:12<00:51, 12.98s/it, loss=3.1503]"
          ]
        },
        {
          "output_type": "stream",
          "name": "stdout",
          "text": [
            "Frame shape: torch.Size([3, 224, 224]), Type: torch.float32\n",
            "Frame shape: torch.Size([3, 224, 224]), Type: torch.float32\n",
            "Frame shape: torch.Size([3, 224, 224]), Type: torch.float32\n",
            "Frame shape: torch.Size([3, 224, 224]), Type: torch.float32\n",
            "Frame shape: torch.Size([3, 224, 224]), Type: torch.float32\n",
            "Frame shape: torch.Size([3, 224, 224]), Type: torch.float32\n",
            "Frame shape: torch.Size([3, 224, 224]), Type: torch.float32\n",
            "Frame shape: torch.Size([3, 224, 224]), Type: torch.float32\n",
            "Frame shape: torch.Size([3, 224, 224]), Type: torch.float32\n",
            "Frame shape: torch.Size([3, 224, 224]), Type: torch.float32\n",
            "Frame shape: torch.Size([3, 224, 224]), Type: torch.float32\n",
            "Frame shape: torch.Size([3, 224, 224]), Type: torch.float32\n",
            "Frame shape: torch.Size([3, 224, 224]), Type: torch.float32\n",
            "Frame shape: torch.Size([3, 224, 224]), Type: torch.float32\n",
            "Frame shape: torch.Size([3, 224, 224]), Type: torch.float32\n",
            "Frame shape: torch.Size([3, 224, 224]), Type: torch.float32\n",
            "Frame shape: torch.Size([3, 224, 224]), Type: torch.float32\n",
            "Frame shape: torch.Size([3, 224, 224]), Type: torch.float32\n",
            "Frame shape: torch.Size([3, 224, 224]), Type: torch.float32\n",
            "Frame shape: torch.Size([3, 224, 224]), Type: torch.float32\n",
            "Frame shape: torch.Size([3, 224, 224]), Type: torch.float32\n",
            "Frame shape: torch.Size([3, 224, 224]), Type: torch.float32\n",
            "Frame shape: torch.Size([3, 224, 224]), Type: torch.float32\n",
            "Frame shape: torch.Size([3, 224, 224]), Type: torch.float32\n"
          ]
        },
        {
          "output_type": "stream",
          "name": "stderr",
          "text": [
            "Testing:  40%|████      | 2/5 [00:24<00:35, 11.99s/it, loss=2.5692]"
          ]
        },
        {
          "output_type": "stream",
          "name": "stdout",
          "text": [
            "Frame shape: torch.Size([3, 224, 224]), Type: torch.float32\n",
            "Frame shape: torch.Size([3, 224, 224]), Type: torch.float32\n",
            "Frame shape: torch.Size([3, 224, 224]), Type: torch.float32\n",
            "Frame shape: torch.Size([3, 224, 224]), Type: torch.float32\n",
            "Frame shape: torch.Size([3, 224, 224]), Type: torch.float32\n",
            "Frame shape: torch.Size([3, 224, 224]), Type: torch.float32\n",
            "Frame shape: torch.Size([3, 224, 224]), Type: torch.float32\n",
            "Frame shape: torch.Size([3, 224, 224]), Type: torch.float32\n",
            "Frame shape: torch.Size([3, 224, 224]), Type: torch.float32\n",
            "Frame shape: torch.Size([3, 224, 224]), Type: torch.float32\n",
            "Frame shape: torch.Size([3, 224, 224]), Type: torch.float32\n",
            "Frame shape: torch.Size([3, 224, 224]), Type: torch.float32\n",
            "Frame shape: torch.Size([3, 224, 224]), Type: torch.float32\n",
            "Frame shape: torch.Size([3, 224, 224]), Type: torch.float32\n",
            "Frame shape: torch.Size([3, 224, 224]), Type: torch.float32\n",
            "Frame shape: torch.Size([3, 224, 224]), Type: torch.float32\n",
            "Frame shape: torch.Size([3, 224, 224]), Type: torch.float32\n",
            "Frame shape: torch.Size([3, 224, 224]), Type: torch.float32\n",
            "Frame shape: torch.Size([3, 224, 224]), Type: torch.float32\n",
            "Frame shape: torch.Size([3, 224, 224]), Type: torch.float32\n",
            "Frame shape: torch.Size([3, 224, 224]), Type: torch.float32\n",
            "Frame shape: torch.Size([3, 224, 224]), Type: torch.float32\n",
            "Frame shape: torch.Size([3, 224, 224]), Type: torch.float32\n",
            "Frame shape: torch.Size([3, 224, 224]), Type: torch.float32\n"
          ]
        },
        {
          "output_type": "stream",
          "name": "stderr",
          "text": [
            "Testing:  60%|██████    | 3/5 [00:37<00:25, 12.64s/it, loss=2.1289]"
          ]
        },
        {
          "output_type": "stream",
          "name": "stdout",
          "text": [
            "Frame shape: torch.Size([3, 224, 224]), Type: torch.float32\n",
            "Frame shape: torch.Size([3, 224, 224]), Type: torch.float32\n",
            "Frame shape: torch.Size([3, 224, 224]), Type: torch.float32\n",
            "Frame shape: torch.Size([3, 224, 224]), Type: torch.float32\n",
            "Frame shape: torch.Size([3, 224, 224]), Type: torch.float32\n",
            "Frame shape: torch.Size([3, 224, 224]), Type: torch.float32\n",
            "Frame shape: torch.Size([3, 224, 224]), Type: torch.float32\n",
            "Frame shape: torch.Size([3, 224, 224]), Type: torch.float32\n",
            "Frame shape: torch.Size([3, 224, 224]), Type: torch.float32\n",
            "Frame shape: torch.Size([3, 224, 224]), Type: torch.float32\n",
            "Frame shape: torch.Size([3, 224, 224]), Type: torch.float32\n",
            "Frame shape: torch.Size([3, 224, 224]), Type: torch.float32\n",
            "Frame shape: torch.Size([3, 224, 224]), Type: torch.float32\n",
            "Frame shape: torch.Size([3, 224, 224]), Type: torch.float32\n",
            "Frame shape: torch.Size([3, 224, 224]), Type: torch.float32\n",
            "Frame shape: torch.Size([3, 224, 224]), Type: torch.float32\n",
            "Frame shape: torch.Size([3, 224, 224]), Type: torch.float32\n",
            "Frame shape: torch.Size([3, 224, 224]), Type: torch.float32\n",
            "Frame shape: torch.Size([3, 224, 224]), Type: torch.float32\n",
            "Frame shape: torch.Size([3, 224, 224]), Type: torch.float32\n",
            "Frame shape: torch.Size([3, 224, 224]), Type: torch.float32\n",
            "Frame shape: torch.Size([3, 224, 224]), Type: torch.float32\n",
            "Frame shape: torch.Size([3, 224, 224]), Type: torch.float32\n",
            "Frame shape: torch.Size([3, 224, 224]), Type: torch.float32\n"
          ]
        },
        {
          "output_type": "stream",
          "name": "stderr",
          "text": [
            "Testing:  80%|████████  | 4/5 [00:49<00:12, 12.26s/it, loss=3.2376]"
          ]
        },
        {
          "output_type": "stream",
          "name": "stdout",
          "text": [
            "Frame shape: torch.Size([3, 224, 224]), Type: torch.float32\n",
            "Frame shape: torch.Size([3, 224, 224]), Type: torch.float32\n",
            "Frame shape: torch.Size([3, 224, 224]), Type: torch.float32\n",
            "Frame shape: torch.Size([3, 224, 224]), Type: torch.float32\n",
            "Frame shape: torch.Size([3, 224, 224]), Type: torch.float32\n",
            "Frame shape: torch.Size([3, 224, 224]), Type: torch.float32\n",
            "Frame shape: torch.Size([3, 224, 224]), Type: torch.float32\n",
            "Frame shape: torch.Size([3, 224, 224]), Type: torch.float32\n",
            "Frame shape: torch.Size([3, 224, 224]), Type: torch.float32\n",
            "Frame shape: torch.Size([3, 224, 224]), Type: torch.float32\n",
            "Frame shape: torch.Size([3, 224, 224]), Type: torch.float32\n",
            "Frame shape: torch.Size([3, 224, 224]), Type: torch.float32\n",
            "Frame shape: torch.Size([3, 224, 224]), Type: torch.float32\n",
            "Frame shape: torch.Size([3, 224, 224]), Type: torch.float32\n",
            "Frame shape: torch.Size([3, 224, 224]), Type: torch.float32\n",
            "Frame shape: torch.Size([3, 224, 224]), Type: torch.float32\n",
            "Frame shape: torch.Size([3, 224, 224]), Type: torch.float32\n",
            "Frame shape: torch.Size([3, 224, 224]), Type: torch.float32\n",
            "Frame shape: torch.Size([3, 224, 224]), Type: torch.float32\n",
            "Frame shape: torch.Size([3, 224, 224]), Type: torch.float32\n",
            "Frame shape: torch.Size([3, 224, 224]), Type: torch.float32\n",
            "Frame shape: torch.Size([3, 224, 224]), Type: torch.float32\n",
            "Frame shape: torch.Size([3, 224, 224]), Type: torch.float32\n",
            "Frame shape: torch.Size([3, 224, 224]), Type: torch.float32\n"
          ]
        },
        {
          "output_type": "stream",
          "name": "stderr",
          "text": [
            "Testing: 100%|██████████| 5/5 [01:00<00:00, 12.11s/it, loss=2.5873]"
          ]
        },
        {
          "output_type": "stream",
          "name": "stdout",
          "text": [
            "Frame shape: torch.Size([3, 224, 224]), Type: torch.float32\n",
            "epoch: 6, lr_rate 0.0008\n",
            "loss_train: 1.3160| loss_valid: 2.7347|\n",
            "metric 0.258333\n",
            "Elapsed time: 00:05:06\n"
          ]
        },
        {
          "output_type": "stream",
          "name": "stderr",
          "text": [
            "\n"
          ]
        },
        {
          "output_type": "stream",
          "name": "stdout",
          "text": [
            "---------------------epoch:7/10---------------------\n"
          ]
        },
        {
          "output_type": "stream",
          "name": "stderr",
          "text": [
            "\rTraining:   0%|          | 0/20 [00:00<?, ?it/s]"
          ]
        },
        {
          "output_type": "stream",
          "name": "stdout",
          "text": [
            "Frame shape: torch.Size([3, 224, 224]), Type: torch.float32\n",
            "Frame shape: torch.Size([3, 224, 224]), Type: torch.float32\n",
            "Frame shape: torch.Size([3, 224, 224]), Type: torch.float32\n",
            "Frame shape: torch.Size([3, 224, 224]), Type: torch.float32\n",
            "Frame shape: torch.Size([3, 224, 224]), Type: torch.float32\n",
            "Frame shape: torch.Size([3, 224, 224]), Type: torch.float32\n",
            "Frame shape: torch.Size([3, 224, 224]), Type: torch.float32\n",
            "Frame shape: torch.Size([3, 224, 224]), Type: torch.float32\n",
            "Frame shape: torch.Size([3, 224, 224]), Type: torch.float32\n",
            "Frame shape: torch.Size([3, 224, 224]), Type: torch.float32\n",
            "Frame shape: torch.Size([3, 224, 224]), Type: torch.float32\n",
            "Frame shape: torch.Size([3, 224, 224]), Type: torch.float32\n",
            "Frame shape: torch.Size([3, 224, 224]), Type: torch.float32\n",
            "Frame shape: torch.Size([3, 224, 224]), Type: torch.float32\n",
            "Frame shape: torch.Size([3, 224, 224]), Type: torch.float32\n",
            "Frame shape: torch.Size([3, 224, 224]), Type: torch.float32\n",
            "Frame shape: torch.Size([3, 224, 224]), Type: torch.float32\n",
            "Frame shape: torch.Size([3, 224, 224]), Type: torch.float32\n",
            "Frame shape: torch.Size([3, 224, 224]), Type: torch.float32\n",
            "Frame shape: torch.Size([3, 224, 224]), Type: torch.float32\n",
            "Frame shape: torch.Size([3, 224, 224]), Type: torch.float32\n",
            "Frame shape: torch.Size([3, 224, 224]), Type: torch.float32\n"
          ]
        },
        {
          "output_type": "stream",
          "name": "stderr",
          "text": [
            "\rTraining:   0%|          | 0/20 [00:10<?, ?it/s, gpu_load=2.08GB, loss=0.9743]"
          ]
        },
        {
          "output_type": "stream",
          "name": "stdout",
          "text": [
            "Frame shape: torch.Size([3, 224, 224]), Type: torch.float32\n",
            "Frame shape: torch.Size([3, 224, 224]), Type: torch.float32\n"
          ]
        },
        {
          "output_type": "stream",
          "name": "stderr",
          "text": [
            "\rTraining:   5%|▌         | 1/20 [00:10<03:26, 10.85s/it, gpu_load=2.08GB, loss=0.9743]"
          ]
        },
        {
          "output_type": "stream",
          "name": "stdout",
          "text": [
            "Frame shape: torch.Size([3, 224, 224]), Type: torch.float32\n",
            "Frame shape: torch.Size([3, 224, 224]), Type: torch.float32\n",
            "Frame shape: torch.Size([3, 224, 224]), Type: torch.float32\n",
            "Frame shape: torch.Size([3, 224, 224]), Type: torch.float32\n",
            "Frame shape: torch.Size([3, 224, 224]), Type: torch.float32\n",
            "Frame shape: torch.Size([3, 224, 224]), Type: torch.float32\n",
            "Frame shape: torch.Size([3, 224, 224]), Type: torch.float32\n",
            "Frame shape: torch.Size([3, 224, 224]), Type: torch.float32\n",
            "Frame shape: torch.Size([3, 224, 224]), Type: torch.float32\n",
            "Frame shape: torch.Size([3, 224, 224]), Type: torch.float32\n",
            "Frame shape: torch.Size([3, 224, 224]), Type: torch.float32\n",
            "Frame shape: torch.Size([3, 224, 224]), Type: torch.float32\n",
            "Frame shape: torch.Size([3, 224, 224]), Type: torch.float32\n",
            "Frame shape: torch.Size([3, 224, 224]), Type: torch.float32\n",
            "Frame shape: torch.Size([3, 224, 224]), Type: torch.float32\n",
            "Frame shape: torch.Size([3, 224, 224]), Type: torch.float32\n",
            "Frame shape: torch.Size([3, 224, 224]), Type: torch.float32\n",
            "Frame shape: torch.Size([3, 224, 224]), Type: torch.float32\n",
            "Frame shape: torch.Size([3, 224, 224]), Type: torch.float32\n",
            "Frame shape: torch.Size([3, 224, 224]), Type: torch.float32\n",
            "Frame shape: torch.Size([3, 224, 224]), Type: torch.float32\n",
            "Frame shape: torch.Size([3, 224, 224]), Type: torch.float32\n",
            "Frame shape: torch.Size([3, 224, 224]), Type: torch.float32\n"
          ]
        },
        {
          "output_type": "stream",
          "name": "stderr",
          "text": [
            "Training:  10%|█         | 2/20 [00:22<03:22, 11.26s/it, gpu_load=2.08GB, loss=0.8377]"
          ]
        },
        {
          "output_type": "stream",
          "name": "stdout",
          "text": [
            "Frame shape: torch.Size([3, 224, 224]), Type: torch.float32\n",
            "Frame shape: torch.Size([3, 224, 224]), Type: torch.float32\n",
            "Frame shape: torch.Size([3, 224, 224]), Type: torch.float32\n",
            "Frame shape: torch.Size([3, 224, 224]), Type: torch.float32\n",
            "Frame shape: torch.Size([3, 224, 224]), Type: torch.float32\n",
            "Frame shape: torch.Size([3, 224, 224]), Type: torch.float32\n",
            "Frame shape: torch.Size([3, 224, 224]), Type: torch.float32\n",
            "Frame shape: torch.Size([3, 224, 224]), Type: torch.float32\n",
            "Frame shape: torch.Size([3, 224, 224]), Type: torch.float32\n",
            "Frame shape: torch.Size([3, 224, 224]), Type: torch.float32\n",
            "Frame shape: torch.Size([3, 224, 224]), Type: torch.float32\n",
            "Frame shape: torch.Size([3, 224, 224]), Type: torch.float32\n",
            "Frame shape: torch.Size([3, 224, 224]), Type: torch.float32\n",
            "Frame shape: torch.Size([3, 224, 224]), Type: torch.float32\n",
            "Frame shape: torch.Size([3, 224, 224]), Type: torch.float32\n",
            "Frame shape: torch.Size([3, 224, 224]), Type: torch.float32\n",
            "Frame shape: torch.Size([3, 224, 224]), Type: torch.float32\n",
            "Frame shape: torch.Size([3, 224, 224]), Type: torch.float32\n",
            "Frame shape: torch.Size([3, 224, 224]), Type: torch.float32\n",
            "Frame shape: torch.Size([3, 224, 224]), Type: torch.float32\n",
            "Frame shape: torch.Size([3, 224, 224]), Type: torch.float32\n",
            "Frame shape: torch.Size([3, 224, 224]), Type: torch.float32\n",
            "Frame shape: torch.Size([3, 224, 224]), Type: torch.float32\n",
            "Frame shape: torch.Size([3, 224, 224]), Type: torch.float32\n"
          ]
        },
        {
          "output_type": "stream",
          "name": "stderr",
          "text": [
            "Training:  15%|█▌        | 3/20 [00:34<03:14, 11.44s/it, gpu_load=2.08GB, loss=0.9910]"
          ]
        },
        {
          "output_type": "stream",
          "name": "stdout",
          "text": [
            "Frame shape: torch.Size([3, 224, 224]), Type: torch.float32\n",
            "Frame shape: torch.Size([3, 224, 224]), Type: torch.float32\n",
            "Frame shape: torch.Size([3, 224, 224]), Type: torch.float32\n",
            "Frame shape: torch.Size([3, 224, 224]), Type: torch.float32\n",
            "Frame shape: torch.Size([3, 224, 224]), Type: torch.float32\n",
            "Frame shape: torch.Size([3, 224, 224]), Type: torch.float32\n",
            "Frame shape: torch.Size([3, 224, 224]), Type: torch.float32\n",
            "Frame shape: torch.Size([3, 224, 224]), Type: torch.float32\n",
            "Frame shape: torch.Size([3, 224, 224]), Type: torch.float32\n",
            "Frame shape: torch.Size([3, 224, 224]), Type: torch.float32\n",
            "Frame shape: torch.Size([3, 224, 224]), Type: torch.float32\n",
            "Frame shape: torch.Size([3, 224, 224]), Type: torch.float32\n",
            "Frame shape: torch.Size([3, 224, 224]), Type: torch.float32\n",
            "Frame shape: torch.Size([3, 224, 224]), Type: torch.float32\n",
            "Frame shape: torch.Size([3, 224, 224]), Type: torch.float32\n",
            "Frame shape: torch.Size([3, 224, 224]), Type: torch.float32\n",
            "Frame shape: torch.Size([3, 224, 224]), Type: torch.float32\n",
            "Frame shape: torch.Size([3, 224, 224]), Type: torch.float32\n",
            "Frame shape: torch.Size([3, 224, 224]), Type: torch.float32\n",
            "Frame shape: torch.Size([3, 224, 224]), Type: torch.float32\n",
            "Frame shape: torch.Size([3, 224, 224]), Type: torch.float32\n",
            "Frame shape: torch.Size([3, 224, 224]), Type: torch.float32\n",
            "Frame shape: torch.Size([3, 224, 224]), Type: torch.float32\n",
            "Frame shape: torch.Size([3, 224, 224]), Type: torch.float32\n"
          ]
        },
        {
          "output_type": "stream",
          "name": "stderr",
          "text": [
            "Training:  20%|██        | 4/20 [00:46<03:11, 11.94s/it, gpu_load=2.08GB, loss=1.2256]"
          ]
        },
        {
          "output_type": "stream",
          "name": "stdout",
          "text": [
            "Frame shape: torch.Size([3, 224, 224]), Type: torch.float32\n",
            "Frame shape: torch.Size([3, 224, 224]), Type: torch.float32\n",
            "Frame shape: torch.Size([3, 224, 224]), Type: torch.float32\n",
            "Frame shape: torch.Size([3, 224, 224]), Type: torch.float32\n",
            "Frame shape: torch.Size([3, 224, 224]), Type: torch.float32\n",
            "Frame shape: torch.Size([3, 224, 224]), Type: torch.float32\n",
            "Frame shape: torch.Size([3, 224, 224]), Type: torch.float32\n",
            "Frame shape: torch.Size([3, 224, 224]), Type: torch.float32\n",
            "Frame shape: torch.Size([3, 224, 224]), Type: torch.float32\n",
            "Frame shape: torch.Size([3, 224, 224]), Type: torch.float32\n",
            "Frame shape: torch.Size([3, 224, 224]), Type: torch.float32\n",
            "Frame shape: torch.Size([3, 224, 224]), Type: torch.float32\n",
            "Frame shape: torch.Size([3, 224, 224]), Type: torch.float32\n",
            "Frame shape: torch.Size([3, 224, 224]), Type: torch.float32\n",
            "Frame shape: torch.Size([3, 224, 224]), Type: torch.float32\n",
            "Frame shape: torch.Size([3, 224, 224]), Type: torch.float32\n",
            "Frame shape: torch.Size([3, 224, 224]), Type: torch.float32\n",
            "Frame shape: torch.Size([3, 224, 224]), Type: torch.float32\n",
            "Frame shape: torch.Size([3, 224, 224]), Type: torch.float32\n",
            "Frame shape: torch.Size([3, 224, 224]), Type: torch.float32\n",
            "Frame shape: torch.Size([3, 224, 224]), Type: torch.float32\n",
            "Frame shape: torch.Size([3, 224, 224]), Type: torch.float32\n",
            "Frame shape: torch.Size([3, 224, 224]), Type: torch.float32\n",
            "Frame shape: torch.Size([3, 224, 224]), Type: torch.float32\n"
          ]
        },
        {
          "output_type": "stream",
          "name": "stderr",
          "text": [
            "Training:  25%|██▌       | 5/20 [01:00<03:09, 12.62s/it, gpu_load=2.08GB, loss=1.1179]"
          ]
        },
        {
          "output_type": "stream",
          "name": "stdout",
          "text": [
            "Frame shape: torch.Size([3, 224, 224]), Type: torch.float32\n",
            "Frame shape: torch.Size([3, 224, 224]), Type: torch.float32\n",
            "Frame shape: torch.Size([3, 224, 224]), Type: torch.float32\n",
            "Frame shape: torch.Size([3, 224, 224]), Type: torch.float32\n",
            "Frame shape: torch.Size([3, 224, 224]), Type: torch.float32\n",
            "Frame shape: torch.Size([3, 224, 224]), Type: torch.float32\n",
            "Frame shape: torch.Size([3, 224, 224]), Type: torch.float32\n",
            "Frame shape: torch.Size([3, 224, 224]), Type: torch.float32\n",
            "Frame shape: torch.Size([3, 224, 224]), Type: torch.float32\n",
            "Frame shape: torch.Size([3, 224, 224]), Type: torch.float32\n",
            "Frame shape: torch.Size([3, 224, 224]), Type: torch.float32\n",
            "Frame shape: torch.Size([3, 224, 224]), Type: torch.float32\n",
            "Frame shape: torch.Size([3, 224, 224]), Type: torch.float32\n",
            "Frame shape: torch.Size([3, 224, 224]), Type: torch.float32\n",
            "Frame shape: torch.Size([3, 224, 224]), Type: torch.float32\n",
            "Frame shape: torch.Size([3, 224, 224]), Type: torch.float32\n",
            "Frame shape: torch.Size([3, 224, 224]), Type: torch.float32\n",
            "Frame shape: torch.Size([3, 224, 224]), Type: torch.float32\n",
            "Frame shape: torch.Size([3, 224, 224]), Type: torch.float32\n",
            "Frame shape: torch.Size([3, 224, 224]), Type: torch.float32\n",
            "Frame shape: torch.Size([3, 224, 224]), Type: torch.float32\n",
            "Frame shape: torch.Size([3, 224, 224]), Type: torch.float32\n",
            "Frame shape: torch.Size([3, 224, 224]), Type: torch.float32\n",
            "Frame shape: torch.Size([3, 224, 224]), Type: torch.float32\n"
          ]
        },
        {
          "output_type": "stream",
          "name": "stderr",
          "text": [
            "Training:  30%|███       | 6/20 [01:14<03:03, 13.09s/it, gpu_load=2.08GB, loss=0.9704]"
          ]
        },
        {
          "output_type": "stream",
          "name": "stdout",
          "text": [
            "Frame shape: torch.Size([3, 224, 224]), Type: torch.float32\n",
            "Frame shape: torch.Size([3, 224, 224]), Type: torch.float32\n",
            "Frame shape: torch.Size([3, 224, 224]), Type: torch.float32\n",
            "Frame shape: torch.Size([3, 224, 224]), Type: torch.float32\n",
            "Frame shape: torch.Size([3, 224, 224]), Type: torch.float32\n",
            "Frame shape: torch.Size([3, 224, 224]), Type: torch.float32\n",
            "Frame shape: torch.Size([3, 224, 224]), Type: torch.float32\n",
            "Frame shape: torch.Size([3, 224, 224]), Type: torch.float32\n",
            "Frame shape: torch.Size([3, 224, 224]), Type: torch.float32\n",
            "Frame shape: torch.Size([3, 224, 224]), Type: torch.float32\n",
            "Frame shape: torch.Size([3, 224, 224]), Type: torch.float32\n",
            "Frame shape: torch.Size([3, 224, 224]), Type: torch.float32\n",
            "Frame shape: torch.Size([3, 224, 224]), Type: torch.float32\n",
            "Frame shape: torch.Size([3, 224, 224]), Type: torch.float32\n",
            "Frame shape: torch.Size([3, 224, 224]), Type: torch.float32\n",
            "Frame shape: torch.Size([3, 224, 224]), Type: torch.float32\n",
            "Frame shape: torch.Size([3, 224, 224]), Type: torch.float32\n",
            "Frame shape: torch.Size([3, 224, 224]), Type: torch.float32\n",
            "Frame shape: torch.Size([3, 224, 224]), Type: torch.float32\n",
            "Frame shape: torch.Size([3, 224, 224]), Type: torch.float32\n",
            "Frame shape: torch.Size([3, 224, 224]), Type: torch.float32\n",
            "Frame shape: torch.Size([3, 224, 224]), Type: torch.float32\n",
            "Frame shape: torch.Size([3, 224, 224]), Type: torch.float32\n",
            "Frame shape: torch.Size([3, 224, 224]), Type: torch.float32\n"
          ]
        },
        {
          "output_type": "stream",
          "name": "stderr",
          "text": [
            "Training:  35%|███▌      | 7/20 [01:26<02:45, 12.77s/it, gpu_load=2.08GB, loss=1.2362]"
          ]
        },
        {
          "output_type": "stream",
          "name": "stdout",
          "text": [
            "Frame shape: torch.Size([3, 224, 224]), Type: torch.float32\n",
            "Frame shape: torch.Size([3, 224, 224]), Type: torch.float32\n",
            "Frame shape: torch.Size([3, 224, 224]), Type: torch.float32\n",
            "Frame shape: torch.Size([3, 224, 224]), Type: torch.float32\n",
            "Frame shape: torch.Size([3, 224, 224]), Type: torch.float32\n",
            "Frame shape: torch.Size([3, 224, 224]), Type: torch.float32\n",
            "Frame shape: torch.Size([3, 224, 224]), Type: torch.float32\n",
            "Frame shape: torch.Size([3, 224, 224]), Type: torch.float32\n",
            "Frame shape: torch.Size([3, 224, 224]), Type: torch.float32\n",
            "Frame shape: torch.Size([3, 224, 224]), Type: torch.float32\n",
            "Frame shape: torch.Size([3, 224, 224]), Type: torch.float32\n",
            "Frame shape: torch.Size([3, 224, 224]), Type: torch.float32\n",
            "Frame shape: torch.Size([3, 224, 224]), Type: torch.float32\n",
            "Frame shape: torch.Size([3, 224, 224]), Type: torch.float32\n",
            "Frame shape: torch.Size([3, 224, 224]), Type: torch.float32\n",
            "Frame shape: torch.Size([3, 224, 224]), Type: torch.float32\n",
            "Frame shape: torch.Size([3, 224, 224]), Type: torch.float32\n",
            "Frame shape: torch.Size([3, 224, 224]), Type: torch.float32\n",
            "Frame shape: torch.Size([3, 224, 224]), Type: torch.float32\n",
            "Frame shape: torch.Size([3, 224, 224]), Type: torch.float32\n",
            "Frame shape: torch.Size([3, 224, 224]), Type: torch.float32\n",
            "Frame shape: torch.Size([3, 224, 224]), Type: torch.float32\n",
            "Frame shape: torch.Size([3, 224, 224]), Type: torch.float32\n",
            "Frame shape: torch.Size([3, 224, 224]), Type: torch.float32\n"
          ]
        },
        {
          "output_type": "stream",
          "name": "stderr",
          "text": [
            "Training:  40%|████      | 8/20 [01:39<02:33, 12.83s/it, gpu_load=2.08GB, loss=0.9944]"
          ]
        },
        {
          "output_type": "stream",
          "name": "stdout",
          "text": [
            "Frame shape: torch.Size([3, 224, 224]), Type: torch.float32\n",
            "Frame shape: torch.Size([3, 224, 224]), Type: torch.float32\n",
            "Frame shape: torch.Size([3, 224, 224]), Type: torch.float32\n",
            "Frame shape: torch.Size([3, 224, 224]), Type: torch.float32\n",
            "Frame shape: torch.Size([3, 224, 224]), Type: torch.float32\n",
            "Frame shape: torch.Size([3, 224, 224]), Type: torch.float32\n",
            "Frame shape: torch.Size([3, 224, 224]), Type: torch.float32\n",
            "Frame shape: torch.Size([3, 224, 224]), Type: torch.float32\n",
            "Frame shape: torch.Size([3, 224, 224]), Type: torch.float32\n",
            "Frame shape: torch.Size([3, 224, 224]), Type: torch.float32\n",
            "Frame shape: torch.Size([3, 224, 224]), Type: torch.float32\n",
            "Frame shape: torch.Size([3, 224, 224]), Type: torch.float32\n",
            "Frame shape: torch.Size([3, 224, 224]), Type: torch.float32\n",
            "Frame shape: torch.Size([3, 224, 224]), Type: torch.float32\n",
            "Frame shape: torch.Size([3, 224, 224]), Type: torch.float32\n",
            "Frame shape: torch.Size([3, 224, 224]), Type: torch.float32\n",
            "Frame shape: torch.Size([3, 224, 224]), Type: torch.float32\n",
            "Frame shape: torch.Size([3, 224, 224]), Type: torch.float32\n",
            "Frame shape: torch.Size([3, 224, 224]), Type: torch.float32\n",
            "Frame shape: torch.Size([3, 224, 224]), Type: torch.float32\n",
            "Frame shape: torch.Size([3, 224, 224]), Type: torch.float32\n",
            "Frame shape: torch.Size([3, 224, 224]), Type: torch.float32\n",
            "Frame shape: torch.Size([3, 224, 224]), Type: torch.float32\n",
            "Frame shape: torch.Size([3, 224, 224]), Type: torch.float32\n"
          ]
        },
        {
          "output_type": "stream",
          "name": "stderr",
          "text": [
            "Training:  45%|████▌     | 9/20 [01:50<02:15, 12.28s/it, gpu_load=2.08GB, loss=0.9906]"
          ]
        },
        {
          "output_type": "stream",
          "name": "stdout",
          "text": [
            "Frame shape: torch.Size([3, 224, 224]), Type: torch.float32\n",
            "Frame shape: torch.Size([3, 224, 224]), Type: torch.float32\n",
            "Frame shape: torch.Size([3, 224, 224]), Type: torch.float32\n",
            "Frame shape: torch.Size([3, 224, 224]), Type: torch.float32\n",
            "Frame shape: torch.Size([3, 224, 224]), Type: torch.float32\n",
            "Frame shape: torch.Size([3, 224, 224]), Type: torch.float32\n",
            "Frame shape: torch.Size([3, 224, 224]), Type: torch.float32\n",
            "Frame shape: torch.Size([3, 224, 224]), Type: torch.float32\n",
            "Frame shape: torch.Size([3, 224, 224]), Type: torch.float32\n",
            "Frame shape: torch.Size([3, 224, 224]), Type: torch.float32\n",
            "Frame shape: torch.Size([3, 224, 224]), Type: torch.float32\n",
            "Frame shape: torch.Size([3, 224, 224]), Type: torch.float32\n",
            "Frame shape: torch.Size([3, 224, 224]), Type: torch.float32\n",
            "Frame shape: torch.Size([3, 224, 224]), Type: torch.float32\n",
            "Frame shape: torch.Size([3, 224, 224]), Type: torch.float32\n",
            "Frame shape: torch.Size([3, 224, 224]), Type: torch.float32\n",
            "Frame shape: torch.Size([3, 224, 224]), Type: torch.float32\n",
            "Frame shape: torch.Size([3, 224, 224]), Type: torch.float32\n",
            "Frame shape: torch.Size([3, 224, 224]), Type: torch.float32\n",
            "Frame shape: torch.Size([3, 224, 224]), Type: torch.float32\n",
            "Frame shape: torch.Size([3, 224, 224]), Type: torch.float32\n",
            "Frame shape: torch.Size([3, 224, 224]), Type: torch.float32\n",
            "Frame shape: torch.Size([3, 224, 224]), Type: torch.float32\n",
            "Frame shape: torch.Size([3, 224, 224]), Type: torch.float32\n"
          ]
        },
        {
          "output_type": "stream",
          "name": "stderr",
          "text": [
            "Training:  50%|█████     | 10/20 [02:02<02:01, 12.16s/it, gpu_load=2.08GB, loss=0.8792]"
          ]
        },
        {
          "output_type": "stream",
          "name": "stdout",
          "text": [
            "Frame shape: torch.Size([3, 224, 224]), Type: torch.float32\n",
            "Frame shape: torch.Size([3, 224, 224]), Type: torch.float32\n",
            "Frame shape: torch.Size([3, 224, 224]), Type: torch.float32\n",
            "Frame shape: torch.Size([3, 224, 224]), Type: torch.float32\n",
            "Frame shape: torch.Size([3, 224, 224]), Type: torch.float32\n",
            "Frame shape: torch.Size([3, 224, 224]), Type: torch.float32\n",
            "Frame shape: torch.Size([3, 224, 224]), Type: torch.float32\n",
            "Frame shape: torch.Size([3, 224, 224]), Type: torch.float32\n",
            "Frame shape: torch.Size([3, 224, 224]), Type: torch.float32\n",
            "Frame shape: torch.Size([3, 224, 224]), Type: torch.float32\n",
            "Frame shape: torch.Size([3, 224, 224]), Type: torch.float32\n",
            "Frame shape: torch.Size([3, 224, 224]), Type: torch.float32\n",
            "Frame shape: torch.Size([3, 224, 224]), Type: torch.float32\n",
            "Frame shape: torch.Size([3, 224, 224]), Type: torch.float32\n",
            "Frame shape: torch.Size([3, 224, 224]), Type: torch.float32\n",
            "Frame shape: torch.Size([3, 224, 224]), Type: torch.float32\n",
            "Frame shape: torch.Size([3, 224, 224]), Type: torch.float32\n",
            "Frame shape: torch.Size([3, 224, 224]), Type: torch.float32\n",
            "Frame shape: torch.Size([3, 224, 224]), Type: torch.float32\n",
            "Frame shape: torch.Size([3, 224, 224]), Type: torch.float32\n",
            "Frame shape: torch.Size([3, 224, 224]), Type: torch.float32\n",
            "Frame shape: torch.Size([3, 224, 224]), Type: torch.float32\n",
            "Frame shape: torch.Size([3, 224, 224]), Type: torch.float32\n",
            "Frame shape: torch.Size([3, 224, 224]), Type: torch.float32\n"
          ]
        },
        {
          "output_type": "stream",
          "name": "stderr",
          "text": [
            "Training:  55%|█████▌    | 11/20 [02:15<01:51, 12.40s/it, gpu_load=2.08GB, loss=1.2457]"
          ]
        },
        {
          "output_type": "stream",
          "name": "stdout",
          "text": [
            "Frame shape: torch.Size([3, 224, 224]), Type: torch.float32\n",
            "Frame shape: torch.Size([3, 224, 224]), Type: torch.float32\n",
            "Frame shape: torch.Size([3, 224, 224]), Type: torch.float32\n",
            "Frame shape: torch.Size([3, 224, 224]), Type: torch.float32\n",
            "Frame shape: torch.Size([3, 224, 224]), Type: torch.float32\n",
            "Frame shape: torch.Size([3, 224, 224]), Type: torch.float32\n",
            "Frame shape: torch.Size([3, 224, 224]), Type: torch.float32\n",
            "Frame shape: torch.Size([3, 224, 224]), Type: torch.float32\n",
            "Frame shape: torch.Size([3, 224, 224]), Type: torch.float32\n",
            "Frame shape: torch.Size([3, 224, 224]), Type: torch.float32\n",
            "Frame shape: torch.Size([3, 224, 224]), Type: torch.float32\n",
            "Frame shape: torch.Size([3, 224, 224]), Type: torch.float32\n",
            "Frame shape: torch.Size([3, 224, 224]), Type: torch.float32\n",
            "Frame shape: torch.Size([3, 224, 224]), Type: torch.float32\n",
            "Frame shape: torch.Size([3, 224, 224]), Type: torch.float32\n",
            "Frame shape: torch.Size([3, 224, 224]), Type: torch.float32\n",
            "Frame shape: torch.Size([3, 224, 224]), Type: torch.float32\n",
            "Frame shape: torch.Size([3, 224, 224]), Type: torch.float32\n",
            "Frame shape: torch.Size([3, 224, 224]), Type: torch.float32\n",
            "Frame shape: torch.Size([3, 224, 224]), Type: torch.float32\n",
            "Frame shape: torch.Size([3, 224, 224]), Type: torch.float32\n",
            "Frame shape: torch.Size([3, 224, 224]), Type: torch.float32\n",
            "Frame shape: torch.Size([3, 224, 224]), Type: torch.float32\n",
            "Frame shape: torch.Size([3, 224, 224]), Type: torch.float32\n"
          ]
        },
        {
          "output_type": "stream",
          "name": "stderr",
          "text": [
            "Training:  60%|██████    | 12/20 [02:28<01:40, 12.62s/it, gpu_load=2.08GB, loss=1.3313]"
          ]
        },
        {
          "output_type": "stream",
          "name": "stdout",
          "text": [
            "Frame shape: torch.Size([3, 224, 224]), Type: torch.float32\n",
            "Frame shape: torch.Size([3, 224, 224]), Type: torch.float32\n",
            "Frame shape: torch.Size([3, 224, 224]), Type: torch.float32\n",
            "Frame shape: torch.Size([3, 224, 224]), Type: torch.float32\n",
            "Frame shape: torch.Size([3, 224, 224]), Type: torch.float32\n",
            "Frame shape: torch.Size([3, 224, 224]), Type: torch.float32\n",
            "Frame shape: torch.Size([3, 224, 224]), Type: torch.float32\n",
            "Frame shape: torch.Size([3, 224, 224]), Type: torch.float32\n",
            "Frame shape: torch.Size([3, 224, 224]), Type: torch.float32\n",
            "Frame shape: torch.Size([3, 224, 224]), Type: torch.float32\n",
            "Frame shape: torch.Size([3, 224, 224]), Type: torch.float32\n",
            "Frame shape: torch.Size([3, 224, 224]), Type: torch.float32\n",
            "Frame shape: torch.Size([3, 224, 224]), Type: torch.float32\n",
            "Frame shape: torch.Size([3, 224, 224]), Type: torch.float32\n",
            "Frame shape: torch.Size([3, 224, 224]), Type: torch.float32\n",
            "Frame shape: torch.Size([3, 224, 224]), Type: torch.float32\n",
            "Frame shape: torch.Size([3, 224, 224]), Type: torch.float32\n",
            "Frame shape: torch.Size([3, 224, 224]), Type: torch.float32\n",
            "Frame shape: torch.Size([3, 224, 224]), Type: torch.float32\n",
            "Frame shape: torch.Size([3, 224, 224]), Type: torch.float32\n",
            "Frame shape: torch.Size([3, 224, 224]), Type: torch.float32\n",
            "Frame shape: torch.Size([3, 224, 224]), Type: torch.float32\n",
            "Frame shape: torch.Size([3, 224, 224]), Type: torch.float32\n",
            "Frame shape: torch.Size([3, 224, 224]), Type: torch.float32\n"
          ]
        },
        {
          "output_type": "stream",
          "name": "stderr",
          "text": [
            "Training:  65%|██████▌   | 13/20 [02:40<01:26, 12.33s/it, gpu_load=2.08GB, loss=0.8642]"
          ]
        },
        {
          "output_type": "stream",
          "name": "stdout",
          "text": [
            "Frame shape: torch.Size([3, 224, 224]), Type: torch.float32\n",
            "Frame shape: torch.Size([3, 224, 224]), Type: torch.float32\n",
            "Frame shape: torch.Size([3, 224, 224]), Type: torch.float32\n",
            "Frame shape: torch.Size([3, 224, 224]), Type: torch.float32\n",
            "Frame shape: torch.Size([3, 224, 224]), Type: torch.float32\n",
            "Frame shape: torch.Size([3, 224, 224]), Type: torch.float32\n",
            "Frame shape: torch.Size([3, 224, 224]), Type: torch.float32\n",
            "Frame shape: torch.Size([3, 224, 224]), Type: torch.float32\n",
            "Frame shape: torch.Size([3, 224, 224]), Type: torch.float32\n",
            "Frame shape: torch.Size([3, 224, 224]), Type: torch.float32\n",
            "Frame shape: torch.Size([3, 224, 224]), Type: torch.float32\n",
            "Frame shape: torch.Size([3, 224, 224]), Type: torch.float32\n",
            "Frame shape: torch.Size([3, 224, 224]), Type: torch.float32\n",
            "Frame shape: torch.Size([3, 224, 224]), Type: torch.float32\n",
            "Frame shape: torch.Size([3, 224, 224]), Type: torch.float32\n",
            "Frame shape: torch.Size([3, 224, 224]), Type: torch.float32\n",
            "Frame shape: torch.Size([3, 224, 224]), Type: torch.float32\n",
            "Frame shape: torch.Size([3, 224, 224]), Type: torch.float32\n",
            "Frame shape: torch.Size([3, 224, 224]), Type: torch.float32\n",
            "Frame shape: torch.Size([3, 224, 224]), Type: torch.float32\n",
            "Frame shape: torch.Size([3, 224, 224]), Type: torch.float32\n",
            "Frame shape: torch.Size([3, 224, 224]), Type: torch.float32\n",
            "Frame shape: torch.Size([3, 224, 224]), Type: torch.float32\n"
          ]
        },
        {
          "output_type": "stream",
          "name": "stderr",
          "text": [
            "Training:  70%|███████   | 14/20 [02:51<01:12, 12.11s/it, gpu_load=2.08GB, loss=1.0073]"
          ]
        },
        {
          "output_type": "stream",
          "name": "stdout",
          "text": [
            "Frame shape: torch.Size([3, 224, 224]), Type: torch.float32\n",
            "Frame shape: torch.Size([3, 224, 224]), Type: torch.float32\n",
            "Frame shape: torch.Size([3, 224, 224]), Type: torch.float32\n",
            "Frame shape: torch.Size([3, 224, 224]), Type: torch.float32\n",
            "Frame shape: torch.Size([3, 224, 224]), Type: torch.float32\n",
            "Frame shape: torch.Size([3, 224, 224]), Type: torch.float32\n",
            "Frame shape: torch.Size([3, 224, 224]), Type: torch.float32\n",
            "Frame shape: torch.Size([3, 224, 224]), Type: torch.float32\n",
            "Frame shape: torch.Size([3, 224, 224]), Type: torch.float32\n",
            "Frame shape: torch.Size([3, 224, 224]), Type: torch.float32\n",
            "Frame shape: torch.Size([3, 224, 224]), Type: torch.float32\n",
            "Frame shape: torch.Size([3, 224, 224]), Type: torch.float32\n",
            "Frame shape: torch.Size([3, 224, 224]), Type: torch.float32\n",
            "Frame shape: torch.Size([3, 224, 224]), Type: torch.float32\n",
            "Frame shape: torch.Size([3, 224, 224]), Type: torch.float32\n",
            "Frame shape: torch.Size([3, 224, 224]), Type: torch.float32\n",
            "Frame shape: torch.Size([3, 224, 224]), Type: torch.float32\n",
            "Frame shape: torch.Size([3, 224, 224]), Type: torch.float32\n",
            "Frame shape: torch.Size([3, 224, 224]), Type: torch.float32\n",
            "Frame shape: torch.Size([3, 224, 224]), Type: torch.float32\n",
            "Frame shape: torch.Size([3, 224, 224]), Type: torch.float32\n",
            "Frame shape: torch.Size([3, 224, 224]), Type: torch.float32\n",
            "Frame shape: torch.Size([3, 224, 224]), Type: torch.float32\n",
            "Frame shape: torch.Size([3, 224, 224]), Type: torch.float32\n",
            "Frame shape: torch.Size([3, 224, 224]), Type: torch.float32\n"
          ]
        },
        {
          "output_type": "stream",
          "name": "stderr",
          "text": [
            "Training:  75%|███████▌  | 15/20 [03:04<01:00, 12.10s/it, gpu_load=2.08GB, loss=1.4610]"
          ]
        },
        {
          "output_type": "stream",
          "name": "stdout",
          "text": [
            "Frame shape: torch.Size([3, 224, 224]), Type: torch.float32\n",
            "Frame shape: torch.Size([3, 224, 224]), Type: torch.float32\n",
            "Frame shape: torch.Size([3, 224, 224]), Type: torch.float32\n",
            "Frame shape: torch.Size([3, 224, 224]), Type: torch.float32\n",
            "Frame shape: torch.Size([3, 224, 224]), Type: torch.float32\n",
            "Frame shape: torch.Size([3, 224, 224]), Type: torch.float32\n",
            "Frame shape: torch.Size([3, 224, 224]), Type: torch.float32\n",
            "Frame shape: torch.Size([3, 224, 224]), Type: torch.float32\n",
            "Frame shape: torch.Size([3, 224, 224]), Type: torch.float32\n",
            "Frame shape: torch.Size([3, 224, 224]), Type: torch.float32\n",
            "Frame shape: torch.Size([3, 224, 224]), Type: torch.float32\n",
            "Frame shape: torch.Size([3, 224, 224]), Type: torch.float32\n",
            "Frame shape: torch.Size([3, 224, 224]), Type: torch.float32\n",
            "Frame shape: torch.Size([3, 224, 224]), Type: torch.float32\n",
            "Frame shape: torch.Size([3, 224, 224]), Type: torch.float32\n",
            "Frame shape: torch.Size([3, 224, 224]), Type: torch.float32\n",
            "Frame shape: torch.Size([3, 224, 224]), Type: torch.float32\n",
            "Frame shape: torch.Size([3, 224, 224]), Type: torch.float32\n",
            "Frame shape: torch.Size([3, 224, 224]), Type: torch.float32\n",
            "Frame shape: torch.Size([3, 224, 224]), Type: torch.float32\n",
            "Frame shape: torch.Size([3, 224, 224]), Type: torch.float32\n",
            "Frame shape: torch.Size([3, 224, 224]), Type: torch.float32\n",
            "Frame shape: torch.Size([3, 224, 224]), Type: torch.float32\n",
            "Frame shape: torch.Size([3, 224, 224]), Type: torch.float32\n"
          ]
        },
        {
          "output_type": "stream",
          "name": "stderr",
          "text": [
            "Training:  80%|████████  | 16/20 [03:17<00:49, 12.38s/it, gpu_load=2.08GB, loss=0.8347]"
          ]
        },
        {
          "output_type": "stream",
          "name": "stdout",
          "text": [
            "Frame shape: torch.Size([3, 224, 224]), Type: torch.float32\n",
            "Frame shape: torch.Size([3, 224, 224]), Type: torch.float32\n",
            "Frame shape: torch.Size([3, 224, 224]), Type: torch.float32\n",
            "Frame shape: torch.Size([3, 224, 224]), Type: torch.float32\n",
            "Frame shape: torch.Size([3, 224, 224]), Type: torch.float32\n",
            "Frame shape: torch.Size([3, 224, 224]), Type: torch.float32\n",
            "Frame shape: torch.Size([3, 224, 224]), Type: torch.float32\n",
            "Frame shape: torch.Size([3, 224, 224]), Type: torch.float32\n",
            "Frame shape: torch.Size([3, 224, 224]), Type: torch.float32\n",
            "Frame shape: torch.Size([3, 224, 224]), Type: torch.float32\n",
            "Frame shape: torch.Size([3, 224, 224]), Type: torch.float32\n",
            "Frame shape: torch.Size([3, 224, 224]), Type: torch.float32\n",
            "Frame shape: torch.Size([3, 224, 224]), Type: torch.float32\n",
            "Frame shape: torch.Size([3, 224, 224]), Type: torch.float32\n",
            "Frame shape: torch.Size([3, 224, 224]), Type: torch.float32\n",
            "Frame shape: torch.Size([3, 224, 224]), Type: torch.float32\n",
            "Frame shape: torch.Size([3, 224, 224]), Type: torch.float32\n",
            "Frame shape: torch.Size([3, 224, 224]), Type: torch.float32\n",
            "Frame shape: torch.Size([3, 224, 224]), Type: torch.float32\n",
            "Frame shape: torch.Size([3, 224, 224]), Type: torch.float32\n",
            "Frame shape: torch.Size([3, 224, 224]), Type: torch.float32\n",
            "Frame shape: torch.Size([3, 224, 224]), Type: torch.float32\n",
            "Frame shape: torch.Size([3, 224, 224]), Type: torch.float32\n",
            "Frame shape: torch.Size([3, 224, 224]), Type: torch.float32\n"
          ]
        },
        {
          "output_type": "stream",
          "name": "stderr",
          "text": [
            "Training:  85%|████████▌ | 17/20 [03:29<00:37, 12.44s/it, gpu_load=2.08GB, loss=1.0779]"
          ]
        },
        {
          "output_type": "stream",
          "name": "stdout",
          "text": [
            "Frame shape: torch.Size([3, 224, 224]), Type: torch.float32\n",
            "Frame shape: torch.Size([3, 224, 224]), Type: torch.float32\n",
            "Frame shape: torch.Size([3, 224, 224]), Type: torch.float32\n",
            "Frame shape: torch.Size([3, 224, 224]), Type: torch.float32\n",
            "Frame shape: torch.Size([3, 224, 224]), Type: torch.float32\n",
            "Frame shape: torch.Size([3, 224, 224]), Type: torch.float32\n",
            "Frame shape: torch.Size([3, 224, 224]), Type: torch.float32\n",
            "Frame shape: torch.Size([3, 224, 224]), Type: torch.float32\n",
            "Frame shape: torch.Size([3, 224, 224]), Type: torch.float32\n",
            "Frame shape: torch.Size([3, 224, 224]), Type: torch.float32\n",
            "Frame shape: torch.Size([3, 224, 224]), Type: torch.float32\n",
            "Frame shape: torch.Size([3, 224, 224]), Type: torch.float32\n",
            "Frame shape: torch.Size([3, 224, 224]), Type: torch.float32\n",
            "Frame shape: torch.Size([3, 224, 224]), Type: torch.float32\n",
            "Frame shape: torch.Size([3, 224, 224]), Type: torch.float32\n",
            "Frame shape: torch.Size([3, 224, 224]), Type: torch.float32\n",
            "Frame shape: torch.Size([3, 224, 224]), Type: torch.float32\n",
            "Frame shape: torch.Size([3, 224, 224]), Type: torch.float32\n",
            "Frame shape: torch.Size([3, 224, 224]), Type: torch.float32\n",
            "Frame shape: torch.Size([3, 224, 224]), Type: torch.float32\n",
            "Frame shape: torch.Size([3, 224, 224]), Type: torch.float32\n",
            "Frame shape: torch.Size([3, 224, 224]), Type: torch.float32\n",
            "Frame shape: torch.Size([3, 224, 224]), Type: torch.float32\n",
            "Frame shape: torch.Size([3, 224, 224]), Type: torch.float32\n"
          ]
        },
        {
          "output_type": "stream",
          "name": "stderr",
          "text": [
            "Training:  90%|█████████ | 18/20 [03:43<00:25, 12.80s/it, gpu_load=2.08GB, loss=0.9250]"
          ]
        },
        {
          "output_type": "stream",
          "name": "stdout",
          "text": [
            "Frame shape: torch.Size([3, 224, 224]), Type: torch.float32\n",
            "Frame shape: torch.Size([3, 224, 224]), Type: torch.float32\n",
            "Frame shape: torch.Size([3, 224, 224]), Type: torch.float32\n",
            "Frame shape: torch.Size([3, 224, 224]), Type: torch.float32\n",
            "Frame shape: torch.Size([3, 224, 224]), Type: torch.float32\n",
            "Frame shape: torch.Size([3, 224, 224]), Type: torch.float32\n",
            "Frame shape: torch.Size([3, 224, 224]), Type: torch.float32\n",
            "Frame shape: torch.Size([3, 224, 224]), Type: torch.float32\n",
            "Frame shape: torch.Size([3, 224, 224]), Type: torch.float32\n",
            "Frame shape: torch.Size([3, 224, 224]), Type: torch.float32\n",
            "Frame shape: torch.Size([3, 224, 224]), Type: torch.float32\n",
            "Frame shape: torch.Size([3, 224, 224]), Type: torch.float32\n",
            "Frame shape: torch.Size([3, 224, 224]), Type: torch.float32\n",
            "Frame shape: torch.Size([3, 224, 224]), Type: torch.float32\n",
            "Frame shape: torch.Size([3, 224, 224]), Type: torch.float32\n",
            "Frame shape: torch.Size([3, 224, 224]), Type: torch.float32\n",
            "Frame shape: torch.Size([3, 224, 224]), Type: torch.float32\n",
            "Frame shape: torch.Size([3, 224, 224]), Type: torch.float32\n",
            "Frame shape: torch.Size([3, 224, 224]), Type: torch.float32\n",
            "Frame shape: torch.Size([3, 224, 224]), Type: torch.float32\n",
            "Frame shape: torch.Size([3, 224, 224]), Type: torch.float32\n",
            "Frame shape: torch.Size([3, 224, 224]), Type: torch.float32\n",
            "Frame shape: torch.Size([3, 224, 224]), Type: torch.float32\n",
            "Frame shape: torch.Size([3, 224, 224]), Type: torch.float32\n"
          ]
        },
        {
          "output_type": "stream",
          "name": "stderr",
          "text": [
            "Training:  95%|█████████▌| 19/20 [03:55<00:12, 12.74s/it, gpu_load=2.08GB, loss=0.8841]"
          ]
        },
        {
          "output_type": "stream",
          "name": "stdout",
          "text": [
            "Frame shape: torch.Size([3, 224, 224]), Type: torch.float32\n",
            "Frame shape: torch.Size([3, 224, 224]), Type: torch.float32\n",
            "Frame shape: torch.Size([3, 224, 224]), Type: torch.float32\n",
            "Frame shape: torch.Size([3, 224, 224]), Type: torch.float32\n",
            "Frame shape: torch.Size([3, 224, 224]), Type: torch.float32\n",
            "Frame shape: torch.Size([3, 224, 224]), Type: torch.float32\n",
            "Frame shape: torch.Size([3, 224, 224]), Type: torch.float32\n",
            "Frame shape: torch.Size([3, 224, 224]), Type: torch.float32\n",
            "Frame shape: torch.Size([3, 224, 224]), Type: torch.float32\n",
            "Frame shape: torch.Size([3, 224, 224]), Type: torch.float32\n",
            "Frame shape: torch.Size([3, 224, 224]), Type: torch.float32\n",
            "Frame shape: torch.Size([3, 224, 224]), Type: torch.float32\n",
            "Frame shape: torch.Size([3, 224, 224]), Type: torch.float32\n",
            "Frame shape: torch.Size([3, 224, 224]), Type: torch.float32\n",
            "Frame shape: torch.Size([3, 224, 224]), Type: torch.float32\n",
            "Frame shape: torch.Size([3, 224, 224]), Type: torch.float32\n",
            "Frame shape: torch.Size([3, 224, 224]), Type: torch.float32\n",
            "Frame shape: torch.Size([3, 224, 224]), Type: torch.float32\n",
            "Frame shape: torch.Size([3, 224, 224]), Type: torch.float32\n",
            "Frame shape: torch.Size([3, 224, 224]), Type: torch.float32\n",
            "Frame shape: torch.Size([3, 224, 224]), Type: torch.float32\n"
          ]
        },
        {
          "output_type": "stream",
          "name": "stderr",
          "text": [
            "Training: 100%|██████████| 20/20 [04:07<00:00, 12.38s/it, gpu_load=1.83GB, loss=1.6968]\n"
          ]
        },
        {
          "output_type": "stream",
          "name": "stdout",
          "text": [
            "Frame shape: torch.Size([3, 224, 224]), Type: torch.float32\n"
          ]
        },
        {
          "output_type": "stream",
          "name": "stderr",
          "text": [
            "\rTesting:   0%|          | 0/5 [00:00<?, ?it/s]"
          ]
        },
        {
          "output_type": "stream",
          "name": "stdout",
          "text": [
            "Frame shape: torch.Size([3, 224, 224]), Type: torch.float32\n",
            "Frame shape: torch.Size([3, 224, 224]), Type: torch.float32\n",
            "Frame shape: torch.Size([3, 224, 224]), Type: torch.float32\n",
            "Frame shape: torch.Size([3, 224, 224]), Type: torch.float32\n",
            "Frame shape: torch.Size([3, 224, 224]), Type: torch.float32\n",
            "Frame shape: torch.Size([3, 224, 224]), Type: torch.float32\n",
            "Frame shape: torch.Size([3, 224, 224]), Type: torch.float32\n",
            "Frame shape: torch.Size([3, 224, 224]), Type: torch.float32\n",
            "Frame shape: torch.Size([3, 224, 224]), Type: torch.float32\n",
            "Frame shape: torch.Size([3, 224, 224]), Type: torch.float32\n",
            "Frame shape: torch.Size([3, 224, 224]), Type: torch.float32\n",
            "Frame shape: torch.Size([3, 224, 224]), Type: torch.float32\n",
            "Frame shape: torch.Size([3, 224, 224]), Type: torch.float32\n",
            "Frame shape: torch.Size([3, 224, 224]), Type: torch.float32\n",
            "Frame shape: torch.Size([3, 224, 224]), Type: torch.float32\n",
            "Frame shape: torch.Size([3, 224, 224]), Type: torch.float32\n",
            "Frame shape: torch.Size([3, 224, 224]), Type: torch.float32\n",
            "Frame shape: torch.Size([3, 224, 224]), Type: torch.float32\n",
            "Frame shape: torch.Size([3, 224, 224]), Type: torch.float32\n",
            "Frame shape: torch.Size([3, 224, 224]), Type: torch.float32\n",
            "Frame shape: torch.Size([3, 224, 224]), Type: torch.float32\n",
            "Frame shape: torch.Size([3, 224, 224]), Type: torch.float32\n",
            "Frame shape: torch.Size([3, 224, 224]), Type: torch.float32\n"
          ]
        },
        {
          "output_type": "stream",
          "name": "stderr",
          "text": [
            "Testing:  20%|██        | 1/5 [00:12<00:51, 13.00s/it, loss=3.0191]"
          ]
        },
        {
          "output_type": "stream",
          "name": "stdout",
          "text": [
            "Frame shape: torch.Size([3, 224, 224]), Type: torch.float32\n",
            "Frame shape: torch.Size([3, 224, 224]), Type: torch.float32\n",
            "Frame shape: torch.Size([3, 224, 224]), Type: torch.float32\n",
            "Frame shape: torch.Size([3, 224, 224]), Type: torch.float32\n",
            "Frame shape: torch.Size([3, 224, 224]), Type: torch.float32\n",
            "Frame shape: torch.Size([3, 224, 224]), Type: torch.float32\n",
            "Frame shape: torch.Size([3, 224, 224]), Type: torch.float32\n",
            "Frame shape: torch.Size([3, 224, 224]), Type: torch.float32\n",
            "Frame shape: torch.Size([3, 224, 224]), Type: torch.float32\n",
            "Frame shape: torch.Size([3, 224, 224]), Type: torch.float32\n",
            "Frame shape: torch.Size([3, 224, 224]), Type: torch.float32\n",
            "Frame shape: torch.Size([3, 224, 224]), Type: torch.float32\n",
            "Frame shape: torch.Size([3, 224, 224]), Type: torch.float32\n",
            "Frame shape: torch.Size([3, 224, 224]), Type: torch.float32\n",
            "Frame shape: torch.Size([3, 224, 224]), Type: torch.float32\n",
            "Frame shape: torch.Size([3, 224, 224]), Type: torch.float32\n",
            "Frame shape: torch.Size([3, 224, 224]), Type: torch.float32\n",
            "Frame shape: torch.Size([3, 224, 224]), Type: torch.float32\n",
            "Frame shape: torch.Size([3, 224, 224]), Type: torch.float32\n",
            "Frame shape: torch.Size([3, 224, 224]), Type: torch.float32\n",
            "Frame shape: torch.Size([3, 224, 224]), Type: torch.float32\n",
            "Frame shape: torch.Size([3, 224, 224]), Type: torch.float32\n",
            "Frame shape: torch.Size([3, 224, 224]), Type: torch.float32\n",
            "Frame shape: torch.Size([3, 224, 224]), Type: torch.float32\n"
          ]
        },
        {
          "output_type": "stream",
          "name": "stderr",
          "text": [
            "Testing:  40%|████      | 2/5 [00:23<00:34, 11.44s/it, loss=2.3084]"
          ]
        },
        {
          "output_type": "stream",
          "name": "stdout",
          "text": [
            "Frame shape: torch.Size([3, 224, 224]), Type: torch.float32\n",
            "Frame shape: torch.Size([3, 224, 224]), Type: torch.float32\n",
            "Frame shape: torch.Size([3, 224, 224]), Type: torch.float32\n",
            "Frame shape: torch.Size([3, 224, 224]), Type: torch.float32\n",
            "Frame shape: torch.Size([3, 224, 224]), Type: torch.float32\n",
            "Frame shape: torch.Size([3, 224, 224]), Type: torch.float32\n",
            "Frame shape: torch.Size([3, 224, 224]), Type: torch.float32\n",
            "Frame shape: torch.Size([3, 224, 224]), Type: torch.float32\n",
            "Frame shape: torch.Size([3, 224, 224]), Type: torch.float32\n",
            "Frame shape: torch.Size([3, 224, 224]), Type: torch.float32\n",
            "Frame shape: torch.Size([3, 224, 224]), Type: torch.float32\n",
            "Frame shape: torch.Size([3, 224, 224]), Type: torch.float32\n",
            "Frame shape: torch.Size([3, 224, 224]), Type: torch.float32\n",
            "Frame shape: torch.Size([3, 224, 224]), Type: torch.float32\n",
            "Frame shape: torch.Size([3, 224, 224]), Type: torch.float32\n",
            "Frame shape: torch.Size([3, 224, 224]), Type: torch.float32\n",
            "Frame shape: torch.Size([3, 224, 224]), Type: torch.float32\n",
            "Frame shape: torch.Size([3, 224, 224]), Type: torch.float32\n",
            "Frame shape: torch.Size([3, 224, 224]), Type: torch.float32\n",
            "Frame shape: torch.Size([3, 224, 224]), Type: torch.float32\n",
            "Frame shape: torch.Size([3, 224, 224]), Type: torch.float32\n",
            "Frame shape: torch.Size([3, 224, 224]), Type: torch.float32\n",
            "Frame shape: torch.Size([3, 224, 224]), Type: torch.float32\n",
            "Frame shape: torch.Size([3, 224, 224]), Type: torch.float32\n"
          ]
        },
        {
          "output_type": "stream",
          "name": "stderr",
          "text": [
            "Testing:  60%|██████    | 3/5 [00:37<00:24, 12.47s/it, loss=1.8213]"
          ]
        },
        {
          "output_type": "stream",
          "name": "stdout",
          "text": [
            "Frame shape: torch.Size([3, 224, 224]), Type: torch.float32\n",
            "Frame shape: torch.Size([3, 224, 224]), Type: torch.float32\n",
            "Frame shape: torch.Size([3, 224, 224]), Type: torch.float32\n",
            "Frame shape: torch.Size([3, 224, 224]), Type: torch.float32\n",
            "Frame shape: torch.Size([3, 224, 224]), Type: torch.float32\n",
            "Frame shape: torch.Size([3, 224, 224]), Type: torch.float32\n",
            "Frame shape: torch.Size([3, 224, 224]), Type: torch.float32\n",
            "Frame shape: torch.Size([3, 224, 224]), Type: torch.float32\n",
            "Frame shape: torch.Size([3, 224, 224]), Type: torch.float32\n",
            "Frame shape: torch.Size([3, 224, 224]), Type: torch.float32\n",
            "Frame shape: torch.Size([3, 224, 224]), Type: torch.float32\n",
            "Frame shape: torch.Size([3, 224, 224]), Type: torch.float32\n",
            "Frame shape: torch.Size([3, 224, 224]), Type: torch.float32\n",
            "Frame shape: torch.Size([3, 224, 224]), Type: torch.float32\n",
            "Frame shape: torch.Size([3, 224, 224]), Type: torch.float32\n",
            "Frame shape: torch.Size([3, 224, 224]), Type: torch.float32\n",
            "Frame shape: torch.Size([3, 224, 224]), Type: torch.float32\n",
            "Frame shape: torch.Size([3, 224, 224]), Type: torch.float32\n",
            "Frame shape: torch.Size([3, 224, 224]), Type: torch.float32\n",
            "Frame shape: torch.Size([3, 224, 224]), Type: torch.float32\n",
            "Frame shape: torch.Size([3, 224, 224]), Type: torch.float32\n",
            "Frame shape: torch.Size([3, 224, 224]), Type: torch.float32\n",
            "Frame shape: torch.Size([3, 224, 224]), Type: torch.float32\n",
            "Frame shape: torch.Size([3, 224, 224]), Type: torch.float32\n"
          ]
        },
        {
          "output_type": "stream",
          "name": "stderr",
          "text": [
            "Testing:  80%|████████  | 4/5 [00:49<00:12, 12.30s/it, loss=3.7342]"
          ]
        },
        {
          "output_type": "stream",
          "name": "stdout",
          "text": [
            "Frame shape: torch.Size([3, 224, 224]), Type: torch.float32\n",
            "Frame shape: torch.Size([3, 224, 224]), Type: torch.float32\n",
            "Frame shape: torch.Size([3, 224, 224]), Type: torch.float32\n",
            "Frame shape: torch.Size([3, 224, 224]), Type: torch.float32\n",
            "Frame shape: torch.Size([3, 224, 224]), Type: torch.float32\n",
            "Frame shape: torch.Size([3, 224, 224]), Type: torch.float32\n",
            "Frame shape: torch.Size([3, 224, 224]), Type: torch.float32\n",
            "Frame shape: torch.Size([3, 224, 224]), Type: torch.float32\n",
            "Frame shape: torch.Size([3, 224, 224]), Type: torch.float32\n",
            "Frame shape: torch.Size([3, 224, 224]), Type: torch.float32\n",
            "Frame shape: torch.Size([3, 224, 224]), Type: torch.float32\n",
            "Frame shape: torch.Size([3, 224, 224]), Type: torch.float32\n",
            "Frame shape: torch.Size([3, 224, 224]), Type: torch.float32\n",
            "Frame shape: torch.Size([3, 224, 224]), Type: torch.float32\n",
            "Frame shape: torch.Size([3, 224, 224]), Type: torch.float32\n",
            "Frame shape: torch.Size([3, 224, 224]), Type: torch.float32\n",
            "Frame shape: torch.Size([3, 224, 224]), Type: torch.float32\n",
            "Frame shape: torch.Size([3, 224, 224]), Type: torch.float32\n",
            "Frame shape: torch.Size([3, 224, 224]), Type: torch.float32\n",
            "Frame shape: torch.Size([3, 224, 224]), Type: torch.float32\n",
            "Frame shape: torch.Size([3, 224, 224]), Type: torch.float32\n",
            "Frame shape: torch.Size([3, 224, 224]), Type: torch.float32\n",
            "Frame shape: torch.Size([3, 224, 224]), Type: torch.float32\n",
            "Frame shape: torch.Size([3, 224, 224]), Type: torch.float32\n"
          ]
        },
        {
          "output_type": "stream",
          "name": "stderr",
          "text": [
            "Testing: 100%|██████████| 5/5 [01:00<00:00, 12.15s/it, loss=2.7655]"
          ]
        },
        {
          "output_type": "stream",
          "name": "stdout",
          "text": [
            "Frame shape: torch.Size([3, 224, 224]), Type: torch.float32\n",
            "epoch: 7, lr_rate 0.00064\n",
            "loss_train: 1.0734| loss_valid: 2.7297|\n",
            "metric 0.25.\n",
            "Elapsed time: 00:05:08\n"
          ]
        },
        {
          "output_type": "stream",
          "name": "stderr",
          "text": [
            "\n"
          ]
        },
        {
          "output_type": "stream",
          "name": "stdout",
          "text": [
            "---------------------epoch:8/10---------------------\n"
          ]
        },
        {
          "output_type": "stream",
          "name": "stderr",
          "text": [
            "\rTraining:   0%|          | 0/20 [00:00<?, ?it/s]"
          ]
        },
        {
          "output_type": "stream",
          "name": "stdout",
          "text": [
            "Frame shape: torch.Size([3, 224, 224]), Type: torch.float32\n",
            "Frame shape: torch.Size([3, 224, 224]), Type: torch.float32\n",
            "Frame shape: torch.Size([3, 224, 224]), Type: torch.float32\n",
            "Frame shape: torch.Size([3, 224, 224]), Type: torch.float32\n",
            "Frame shape: torch.Size([3, 224, 224]), Type: torch.float32\n",
            "Frame shape: torch.Size([3, 224, 224]), Type: torch.float32\n",
            "Frame shape: torch.Size([3, 224, 224]), Type: torch.float32\n",
            "Frame shape: torch.Size([3, 224, 224]), Type: torch.float32\n",
            "Frame shape: torch.Size([3, 224, 224]), Type: torch.float32\n",
            "Frame shape: torch.Size([3, 224, 224]), Type: torch.float32\n",
            "Frame shape: torch.Size([3, 224, 224]), Type: torch.float32\n",
            "Frame shape: torch.Size([3, 224, 224]), Type: torch.float32\n",
            "Frame shape: torch.Size([3, 224, 224]), Type: torch.float32\n",
            "Frame shape: torch.Size([3, 224, 224]), Type: torch.float32\n",
            "Frame shape: torch.Size([3, 224, 224]), Type: torch.float32\n",
            "Frame shape: torch.Size([3, 224, 224]), Type: torch.float32\n",
            "Frame shape: torch.Size([3, 224, 224]), Type: torch.float32\n",
            "Frame shape: torch.Size([3, 224, 224]), Type: torch.float32\n",
            "Frame shape: torch.Size([3, 224, 224]), Type: torch.float32\n",
            "Frame shape: torch.Size([3, 224, 224]), Type: torch.float32\n",
            "Frame shape: torch.Size([3, 224, 224]), Type: torch.float32\n",
            "Frame shape: torch.Size([3, 224, 224]), Type: torch.float32\n",
            "Frame shape: torch.Size([3, 224, 224]), Type: torch.float32\n"
          ]
        },
        {
          "output_type": "stream",
          "name": "stderr",
          "text": [
            "Training:   5%|▌         | 1/20 [00:11<03:44, 11.80s/it, gpu_load=2.08GB, loss=1.0818]"
          ]
        },
        {
          "output_type": "stream",
          "name": "stdout",
          "text": [
            "Frame shape: torch.Size([3, 224, 224]), Type: torch.float32\n",
            "Frame shape: torch.Size([3, 224, 224]), Type: torch.float32\n",
            "Frame shape: torch.Size([3, 224, 224]), Type: torch.float32\n",
            "Frame shape: torch.Size([3, 224, 224]), Type: torch.float32\n",
            "Frame shape: torch.Size([3, 224, 224]), Type: torch.float32\n",
            "Frame shape: torch.Size([3, 224, 224]), Type: torch.float32\n",
            "Frame shape: torch.Size([3, 224, 224]), Type: torch.float32\n",
            "Frame shape: torch.Size([3, 224, 224]), Type: torch.float32\n",
            "Frame shape: torch.Size([3, 224, 224]), Type: torch.float32\n",
            "Frame shape: torch.Size([3, 224, 224]), Type: torch.float32\n",
            "Frame shape: torch.Size([3, 224, 224]), Type: torch.float32\n",
            "Frame shape: torch.Size([3, 224, 224]), Type: torch.float32\n",
            "Frame shape: torch.Size([3, 224, 224]), Type: torch.float32\n",
            "Frame shape: torch.Size([3, 224, 224]), Type: torch.float32\n",
            "Frame shape: torch.Size([3, 224, 224]), Type: torch.float32\n",
            "Frame shape: torch.Size([3, 224, 224]), Type: torch.float32\n",
            "Frame shape: torch.Size([3, 224, 224]), Type: torch.float32\n",
            "Frame shape: torch.Size([3, 224, 224]), Type: torch.float32\n",
            "Frame shape: torch.Size([3, 224, 224]), Type: torch.float32\n",
            "Frame shape: torch.Size([3, 224, 224]), Type: torch.float32\n",
            "Frame shape: torch.Size([3, 224, 224]), Type: torch.float32\n",
            "Frame shape: torch.Size([3, 224, 224]), Type: torch.float32\n",
            "Frame shape: torch.Size([3, 224, 224]), Type: torch.float32\n",
            "Frame shape: torch.Size([3, 224, 224]), Type: torch.float32\n"
          ]
        },
        {
          "output_type": "stream",
          "name": "stderr",
          "text": [
            "Training:  10%|█         | 2/20 [00:24<03:46, 12.59s/it, gpu_load=2.08GB, loss=0.8732]"
          ]
        },
        {
          "output_type": "stream",
          "name": "stdout",
          "text": [
            "Frame shape: torch.Size([3, 224, 224]), Type: torch.float32\n",
            "Frame shape: torch.Size([3, 224, 224]), Type: torch.float32\n",
            "Frame shape: torch.Size([3, 224, 224]), Type: torch.float32\n",
            "Frame shape: torch.Size([3, 224, 224]), Type: torch.float32\n",
            "Frame shape: torch.Size([3, 224, 224]), Type: torch.float32\n",
            "Frame shape: torch.Size([3, 224, 224]), Type: torch.float32\n",
            "Frame shape: torch.Size([3, 224, 224]), Type: torch.float32\n",
            "Frame shape: torch.Size([3, 224, 224]), Type: torch.float32\n",
            "Frame shape: torch.Size([3, 224, 224]), Type: torch.float32\n",
            "Frame shape: torch.Size([3, 224, 224]), Type: torch.float32\n",
            "Frame shape: torch.Size([3, 224, 224]), Type: torch.float32\n",
            "Frame shape: torch.Size([3, 224, 224]), Type: torch.float32\n",
            "Frame shape: torch.Size([3, 224, 224]), Type: torch.float32\n",
            "Frame shape: torch.Size([3, 224, 224]), Type: torch.float32\n",
            "Frame shape: torch.Size([3, 224, 224]), Type: torch.float32\n",
            "Frame shape: torch.Size([3, 224, 224]), Type: torch.float32\n",
            "Frame shape: torch.Size([3, 224, 224]), Type: torch.float32\n",
            "Frame shape: torch.Size([3, 224, 224]), Type: torch.float32\n",
            "Frame shape: torch.Size([3, 224, 224]), Type: torch.float32\n",
            "Frame shape: torch.Size([3, 224, 224]), Type: torch.float32\n",
            "Frame shape: torch.Size([3, 224, 224]), Type: torch.float32\n",
            "Frame shape: torch.Size([3, 224, 224]), Type: torch.float32\n",
            "Frame shape: torch.Size([3, 224, 224]), Type: torch.float32\n",
            "Frame shape: torch.Size([3, 224, 224]), Type: torch.float32\n",
            "Frame shape: torch.Size([3, 224, 224]), Type: torch.float32\n"
          ]
        },
        {
          "output_type": "stream",
          "name": "stderr",
          "text": [
            "Training:  15%|█▌        | 3/20 [00:37<03:34, 12.63s/it, gpu_load=2.08GB, loss=0.7585]"
          ]
        },
        {
          "output_type": "stream",
          "name": "stdout",
          "text": [
            "Frame shape: torch.Size([3, 224, 224]), Type: torch.float32\n",
            "Frame shape: torch.Size([3, 224, 224]), Type: torch.float32\n",
            "Frame shape: torch.Size([3, 224, 224]), Type: torch.float32\n",
            "Frame shape: torch.Size([3, 224, 224]), Type: torch.float32\n",
            "Frame shape: torch.Size([3, 224, 224]), Type: torch.float32\n",
            "Frame shape: torch.Size([3, 224, 224]), Type: torch.float32\n",
            "Frame shape: torch.Size([3, 224, 224]), Type: torch.float32\n",
            "Frame shape: torch.Size([3, 224, 224]), Type: torch.float32\n",
            "Frame shape: torch.Size([3, 224, 224]), Type: torch.float32\n",
            "Frame shape: torch.Size([3, 224, 224]), Type: torch.float32\n",
            "Frame shape: torch.Size([3, 224, 224]), Type: torch.float32\n",
            "Frame shape: torch.Size([3, 224, 224]), Type: torch.float32\n",
            "Frame shape: torch.Size([3, 224, 224]), Type: torch.float32\n",
            "Frame shape: torch.Size([3, 224, 224]), Type: torch.float32\n",
            "Frame shape: torch.Size([3, 224, 224]), Type: torch.float32\n",
            "Frame shape: torch.Size([3, 224, 224]), Type: torch.float32\n",
            "Frame shape: torch.Size([3, 224, 224]), Type: torch.float32\n",
            "Frame shape: torch.Size([3, 224, 224]), Type: torch.float32\n",
            "Frame shape: torch.Size([3, 224, 224]), Type: torch.float32\n",
            "Frame shape: torch.Size([3, 224, 224]), Type: torch.float32\n",
            "Frame shape: torch.Size([3, 224, 224]), Type: torch.float32\n",
            "Frame shape: torch.Size([3, 224, 224]), Type: torch.float32\n",
            "Frame shape: torch.Size([3, 224, 224]), Type: torch.float32\n"
          ]
        },
        {
          "output_type": "stream",
          "name": "stderr",
          "text": [
            "Training:  20%|██        | 4/20 [00:49<03:18, 12.43s/it, gpu_load=2.08GB, loss=0.6484]"
          ]
        },
        {
          "output_type": "stream",
          "name": "stdout",
          "text": [
            "Frame shape: torch.Size([3, 224, 224]), Type: torch.float32\n",
            "Frame shape: torch.Size([3, 224, 224]), Type: torch.float32\n",
            "Frame shape: torch.Size([3, 224, 224]), Type: torch.float32\n",
            "Frame shape: torch.Size([3, 224, 224]), Type: torch.float32\n",
            "Frame shape: torch.Size([3, 224, 224]), Type: torch.float32\n",
            "Frame shape: torch.Size([3, 224, 224]), Type: torch.float32\n",
            "Frame shape: torch.Size([3, 224, 224]), Type: torch.float32\n",
            "Frame shape: torch.Size([3, 224, 224]), Type: torch.float32\n",
            "Frame shape: torch.Size([3, 224, 224]), Type: torch.float32\n",
            "Frame shape: torch.Size([3, 224, 224]), Type: torch.float32\n",
            "Frame shape: torch.Size([3, 224, 224]), Type: torch.float32\n",
            "Frame shape: torch.Size([3, 224, 224]), Type: torch.float32\n",
            "Frame shape: torch.Size([3, 224, 224]), Type: torch.float32\n",
            "Frame shape: torch.Size([3, 224, 224]), Type: torch.float32\n",
            "Frame shape: torch.Size([3, 224, 224]), Type: torch.float32\n",
            "Frame shape: torch.Size([3, 224, 224]), Type: torch.float32\n",
            "Frame shape: torch.Size([3, 224, 224]), Type: torch.float32\n",
            "Frame shape: torch.Size([3, 224, 224]), Type: torch.float32\n",
            "Frame shape: torch.Size([3, 224, 224]), Type: torch.float32\n",
            "Frame shape: torch.Size([3, 224, 224]), Type: torch.float32\n",
            "Frame shape: torch.Size([3, 224, 224]), Type: torch.float32\n",
            "Frame shape: torch.Size([3, 224, 224]), Type: torch.float32\n",
            "Frame shape: torch.Size([3, 224, 224]), Type: torch.float32\n",
            "Frame shape: torch.Size([3, 224, 224]), Type: torch.float32\n"
          ]
        },
        {
          "output_type": "stream",
          "name": "stderr",
          "text": [
            "Training:  25%|██▌       | 5/20 [01:02<03:05, 12.37s/it, gpu_load=2.08GB, loss=0.9461]"
          ]
        },
        {
          "output_type": "stream",
          "name": "stdout",
          "text": [
            "Frame shape: torch.Size([3, 224, 224]), Type: torch.float32\n",
            "Frame shape: torch.Size([3, 224, 224]), Type: torch.float32\n",
            "Frame shape: torch.Size([3, 224, 224]), Type: torch.float32\n",
            "Frame shape: torch.Size([3, 224, 224]), Type: torch.float32\n",
            "Frame shape: torch.Size([3, 224, 224]), Type: torch.float32\n",
            "Frame shape: torch.Size([3, 224, 224]), Type: torch.float32\n",
            "Frame shape: torch.Size([3, 224, 224]), Type: torch.float32\n",
            "Frame shape: torch.Size([3, 224, 224]), Type: torch.float32\n",
            "Frame shape: torch.Size([3, 224, 224]), Type: torch.float32\n",
            "Frame shape: torch.Size([3, 224, 224]), Type: torch.float32\n",
            "Frame shape: torch.Size([3, 224, 224]), Type: torch.float32\n",
            "Frame shape: torch.Size([3, 224, 224]), Type: torch.float32\n",
            "Frame shape: torch.Size([3, 224, 224]), Type: torch.float32\n",
            "Frame shape: torch.Size([3, 224, 224]), Type: torch.float32\n",
            "Frame shape: torch.Size([3, 224, 224]), Type: torch.float32\n",
            "Frame shape: torch.Size([3, 224, 224]), Type: torch.float32\n",
            "Frame shape: torch.Size([3, 224, 224]), Type: torch.float32\n",
            "Frame shape: torch.Size([3, 224, 224]), Type: torch.float32\n",
            "Frame shape: torch.Size([3, 224, 224]), Type: torch.float32\n",
            "Frame shape: torch.Size([3, 224, 224]), Type: torch.float32\n",
            "Frame shape: torch.Size([3, 224, 224]), Type: torch.float32\n",
            "Frame shape: torch.Size([3, 224, 224]), Type: torch.float32\n",
            "Frame shape: torch.Size([3, 224, 224]), Type: torch.float32\n",
            "Frame shape: torch.Size([3, 224, 224]), Type: torch.float32\n"
          ]
        },
        {
          "output_type": "stream",
          "name": "stderr",
          "text": [
            "Training:  30%|███       | 6/20 [01:14<02:55, 12.56s/it, gpu_load=2.07GB, loss=1.0775]"
          ]
        },
        {
          "output_type": "stream",
          "name": "stdout",
          "text": [
            "Frame shape: torch.Size([3, 224, 224]), Type: torch.float32\n",
            "Frame shape: torch.Size([3, 224, 224]), Type: torch.float32\n",
            "Frame shape: torch.Size([3, 224, 224]), Type: torch.float32\n",
            "Frame shape: torch.Size([3, 224, 224]), Type: torch.float32\n",
            "Frame shape: torch.Size([3, 224, 224]), Type: torch.float32\n",
            "Frame shape: torch.Size([3, 224, 224]), Type: torch.float32\n",
            "Frame shape: torch.Size([3, 224, 224]), Type: torch.float32\n",
            "Frame shape: torch.Size([3, 224, 224]), Type: torch.float32\n",
            "Frame shape: torch.Size([3, 224, 224]), Type: torch.float32\n",
            "Frame shape: torch.Size([3, 224, 224]), Type: torch.float32\n",
            "Frame shape: torch.Size([3, 224, 224]), Type: torch.float32\n",
            "Frame shape: torch.Size([3, 224, 224]), Type: torch.float32\n",
            "Frame shape: torch.Size([3, 224, 224]), Type: torch.float32\n",
            "Frame shape: torch.Size([3, 224, 224]), Type: torch.float32\n",
            "Frame shape: torch.Size([3, 224, 224]), Type: torch.float32\n",
            "Frame shape: torch.Size([3, 224, 224]), Type: torch.float32\n",
            "Frame shape: torch.Size([3, 224, 224]), Type: torch.float32\n",
            "Frame shape: torch.Size([3, 224, 224]), Type: torch.float32\n",
            "Frame shape: torch.Size([3, 224, 224]), Type: torch.float32\n",
            "Frame shape: torch.Size([3, 224, 224]), Type: torch.float32\n",
            "Frame shape: torch.Size([3, 224, 224]), Type: torch.float32\n",
            "Frame shape: torch.Size([3, 224, 224]), Type: torch.float32\n",
            "Frame shape: torch.Size([3, 224, 224]), Type: torch.float32\n",
            "Frame shape: torch.Size([3, 224, 224]), Type: torch.float32\n"
          ]
        },
        {
          "output_type": "stream",
          "name": "stderr",
          "text": [
            "Training:  35%|███▌      | 7/20 [01:27<02:43, 12.56s/it, gpu_load=2.08GB, loss=1.0530]"
          ]
        },
        {
          "output_type": "stream",
          "name": "stdout",
          "text": [
            "Frame shape: torch.Size([3, 224, 224]), Type: torch.float32\n",
            "Frame shape: torch.Size([3, 224, 224]), Type: torch.float32\n",
            "Frame shape: torch.Size([3, 224, 224]), Type: torch.float32\n",
            "Frame shape: torch.Size([3, 224, 224]), Type: torch.float32\n",
            "Frame shape: torch.Size([3, 224, 224]), Type: torch.float32\n",
            "Frame shape: torch.Size([3, 224, 224]), Type: torch.float32\n",
            "Frame shape: torch.Size([3, 224, 224]), Type: torch.float32\n",
            "Frame shape: torch.Size([3, 224, 224]), Type: torch.float32\n",
            "Frame shape: torch.Size([3, 224, 224]), Type: torch.float32\n",
            "Frame shape: torch.Size([3, 224, 224]), Type: torch.float32\n",
            "Frame shape: torch.Size([3, 224, 224]), Type: torch.float32\n",
            "Frame shape: torch.Size([3, 224, 224]), Type: torch.float32\n",
            "Frame shape: torch.Size([3, 224, 224]), Type: torch.float32\n",
            "Frame shape: torch.Size([3, 224, 224]), Type: torch.float32\n",
            "Frame shape: torch.Size([3, 224, 224]), Type: torch.float32\n",
            "Frame shape: torch.Size([3, 224, 224]), Type: torch.float32\n",
            "Frame shape: torch.Size([3, 224, 224]), Type: torch.float32\n",
            "Frame shape: torch.Size([3, 224, 224]), Type: torch.float32\n",
            "Frame shape: torch.Size([3, 224, 224]), Type: torch.float32\n",
            "Frame shape: torch.Size([3, 224, 224]), Type: torch.float32\n",
            "Frame shape: torch.Size([3, 224, 224]), Type: torch.float32\n",
            "Frame shape: torch.Size([3, 224, 224]), Type: torch.float32\n",
            "Frame shape: torch.Size([3, 224, 224]), Type: torch.float32\n",
            "Frame shape: torch.Size([3, 224, 224]), Type: torch.float32\n"
          ]
        },
        {
          "output_type": "stream",
          "name": "stderr",
          "text": [
            "Training:  40%|████      | 8/20 [01:40<02:32, 12.73s/it, gpu_load=2.08GB, loss=1.0806]"
          ]
        },
        {
          "output_type": "stream",
          "name": "stdout",
          "text": [
            "Frame shape: torch.Size([3, 224, 224]), Type: torch.float32\n",
            "Frame shape: torch.Size([3, 224, 224]), Type: torch.float32\n",
            "Frame shape: torch.Size([3, 224, 224]), Type: torch.float32\n",
            "Frame shape: torch.Size([3, 224, 224]), Type: torch.float32\n",
            "Frame shape: torch.Size([3, 224, 224]), Type: torch.float32\n",
            "Frame shape: torch.Size([3, 224, 224]), Type: torch.float32\n",
            "Frame shape: torch.Size([3, 224, 224]), Type: torch.float32\n",
            "Frame shape: torch.Size([3, 224, 224]), Type: torch.float32\n",
            "Frame shape: torch.Size([3, 224, 224]), Type: torch.float32\n",
            "Frame shape: torch.Size([3, 224, 224]), Type: torch.float32\n",
            "Frame shape: torch.Size([3, 224, 224]), Type: torch.float32\n",
            "Frame shape: torch.Size([3, 224, 224]), Type: torch.float32\n",
            "Frame shape: torch.Size([3, 224, 224]), Type: torch.float32\n",
            "Frame shape: torch.Size([3, 224, 224]), Type: torch.float32\n",
            "Frame shape: torch.Size([3, 224, 224]), Type: torch.float32\n",
            "Frame shape: torch.Size([3, 224, 224]), Type: torch.float32\n",
            "Frame shape: torch.Size([3, 224, 224]), Type: torch.float32\n",
            "Frame shape: torch.Size([3, 224, 224]), Type: torch.float32\n",
            "Frame shape: torch.Size([3, 224, 224]), Type: torch.float32\n",
            "Frame shape: torch.Size([3, 224, 224]), Type: torch.float32\n",
            "Frame shape: torch.Size([3, 224, 224]), Type: torch.float32\n",
            "Frame shape: torch.Size([3, 224, 224]), Type: torch.float32\n",
            "Frame shape: torch.Size([3, 224, 224]), Type: torch.float32\n",
            "Frame shape: torch.Size([3, 224, 224]), Type: torch.float32\n"
          ]
        },
        {
          "output_type": "stream",
          "name": "stderr",
          "text": [
            "Training:  45%|████▌     | 9/20 [01:52<02:17, 12.52s/it, gpu_load=2.08GB, loss=0.6340]"
          ]
        },
        {
          "output_type": "stream",
          "name": "stdout",
          "text": [
            "Frame shape: torch.Size([3, 224, 224]), Type: torch.float32\n",
            "Frame shape: torch.Size([3, 224, 224]), Type: torch.float32\n",
            "Frame shape: torch.Size([3, 224, 224]), Type: torch.float32\n",
            "Frame shape: torch.Size([3, 224, 224]), Type: torch.float32\n",
            "Frame shape: torch.Size([3, 224, 224]), Type: torch.float32\n",
            "Frame shape: torch.Size([3, 224, 224]), Type: torch.float32\n",
            "Frame shape: torch.Size([3, 224, 224]), Type: torch.float32\n",
            "Frame shape: torch.Size([3, 224, 224]), Type: torch.float32\n",
            "Frame shape: torch.Size([3, 224, 224]), Type: torch.float32\n",
            "Frame shape: torch.Size([3, 224, 224]), Type: torch.float32\n",
            "Frame shape: torch.Size([3, 224, 224]), Type: torch.float32\n",
            "Frame shape: torch.Size([3, 224, 224]), Type: torch.float32\n",
            "Frame shape: torch.Size([3, 224, 224]), Type: torch.float32\n",
            "Frame shape: torch.Size([3, 224, 224]), Type: torch.float32\n",
            "Frame shape: torch.Size([3, 224, 224]), Type: torch.float32\n",
            "Frame shape: torch.Size([3, 224, 224]), Type: torch.float32\n",
            "Frame shape: torch.Size([3, 224, 224]), Type: torch.float32\n",
            "Frame shape: torch.Size([3, 224, 224]), Type: torch.float32\n",
            "Frame shape: torch.Size([3, 224, 224]), Type: torch.float32\n",
            "Frame shape: torch.Size([3, 224, 224]), Type: torch.float32\n",
            "Frame shape: torch.Size([3, 224, 224]), Type: torch.float32\n",
            "Frame shape: torch.Size([3, 224, 224]), Type: torch.float32\n",
            "Frame shape: torch.Size([3, 224, 224]), Type: torch.float32\n",
            "Frame shape: torch.Size([3, 224, 224]), Type: torch.float32\n"
          ]
        },
        {
          "output_type": "stream",
          "name": "stderr",
          "text": [
            "Training:  50%|█████     | 10/20 [02:04<02:04, 12.45s/it, gpu_load=2.08GB, loss=1.0889]"
          ]
        },
        {
          "output_type": "stream",
          "name": "stdout",
          "text": [
            "Frame shape: torch.Size([3, 224, 224]), Type: torch.float32\n",
            "Frame shape: torch.Size([3, 224, 224]), Type: torch.float32\n",
            "Frame shape: torch.Size([3, 224, 224]), Type: torch.float32\n",
            "Frame shape: torch.Size([3, 224, 224]), Type: torch.float32\n",
            "Frame shape: torch.Size([3, 224, 224]), Type: torch.float32\n",
            "Frame shape: torch.Size([3, 224, 224]), Type: torch.float32\n",
            "Frame shape: torch.Size([3, 224, 224]), Type: torch.float32\n",
            "Frame shape: torch.Size([3, 224, 224]), Type: torch.float32\n",
            "Frame shape: torch.Size([3, 224, 224]), Type: torch.float32\n",
            "Frame shape: torch.Size([3, 224, 224]), Type: torch.float32\n",
            "Frame shape: torch.Size([3, 224, 224]), Type: torch.float32\n",
            "Frame shape: torch.Size([3, 224, 224]), Type: torch.float32\n",
            "Frame shape: torch.Size([3, 224, 224]), Type: torch.float32\n",
            "Frame shape: torch.Size([3, 224, 224]), Type: torch.float32\n",
            "Frame shape: torch.Size([3, 224, 224]), Type: torch.float32\n",
            "Frame shape: torch.Size([3, 224, 224]), Type: torch.float32\n",
            "Frame shape: torch.Size([3, 224, 224]), Type: torch.float32\n",
            "Frame shape: torch.Size([3, 224, 224]), Type: torch.float32\n",
            "Frame shape: torch.Size([3, 224, 224]), Type: torch.float32\n",
            "Frame shape: torch.Size([3, 224, 224]), Type: torch.float32\n",
            "Frame shape: torch.Size([3, 224, 224]), Type: torch.float32\n",
            "Frame shape: torch.Size([3, 224, 224]), Type: torch.float32\n",
            "Frame shape: torch.Size([3, 224, 224]), Type: torch.float32\n",
            "Frame shape: torch.Size([3, 224, 224]), Type: torch.float32\n"
          ]
        },
        {
          "output_type": "stream",
          "name": "stderr",
          "text": [
            "Training:  55%|█████▌    | 11/20 [02:17<01:52, 12.52s/it, gpu_load=2.08GB, loss=0.7640]"
          ]
        },
        {
          "output_type": "stream",
          "name": "stdout",
          "text": [
            "Frame shape: torch.Size([3, 224, 224]), Type: torch.float32\n",
            "Frame shape: torch.Size([3, 224, 224]), Type: torch.float32\n",
            "Frame shape: torch.Size([3, 224, 224]), Type: torch.float32\n",
            "Frame shape: torch.Size([3, 224, 224]), Type: torch.float32\n",
            "Frame shape: torch.Size([3, 224, 224]), Type: torch.float32\n",
            "Frame shape: torch.Size([3, 224, 224]), Type: torch.float32\n",
            "Frame shape: torch.Size([3, 224, 224]), Type: torch.float32\n",
            "Frame shape: torch.Size([3, 224, 224]), Type: torch.float32\n",
            "Frame shape: torch.Size([3, 224, 224]), Type: torch.float32\n",
            "Frame shape: torch.Size([3, 224, 224]), Type: torch.float32\n",
            "Frame shape: torch.Size([3, 224, 224]), Type: torch.float32\n",
            "Frame shape: torch.Size([3, 224, 224]), Type: torch.float32\n",
            "Frame shape: torch.Size([3, 224, 224]), Type: torch.float32\n",
            "Frame shape: torch.Size([3, 224, 224]), Type: torch.float32\n",
            "Frame shape: torch.Size([3, 224, 224]), Type: torch.float32\n",
            "Frame shape: torch.Size([3, 224, 224]), Type: torch.float32\n",
            "Frame shape: torch.Size([3, 224, 224]), Type: torch.float32\n",
            "Frame shape: torch.Size([3, 224, 224]), Type: torch.float32\n",
            "Frame shape: torch.Size([3, 224, 224]), Type: torch.float32\n",
            "Frame shape: torch.Size([3, 224, 224]), Type: torch.float32\n",
            "Frame shape: torch.Size([3, 224, 224]), Type: torch.float32\n",
            "Frame shape: torch.Size([3, 224, 224]), Type: torch.float32\n",
            "Frame shape: torch.Size([3, 224, 224]), Type: torch.float32\n",
            "Frame shape: torch.Size([3, 224, 224]), Type: torch.float32\n"
          ]
        },
        {
          "output_type": "stream",
          "name": "stderr",
          "text": [
            "Training:  60%|██████    | 12/20 [02:30<01:41, 12.72s/it, gpu_load=2.08GB, loss=0.9923]"
          ]
        },
        {
          "output_type": "stream",
          "name": "stdout",
          "text": [
            "Frame shape: torch.Size([3, 224, 224]), Type: torch.float32\n",
            "Frame shape: torch.Size([3, 224, 224]), Type: torch.float32\n",
            "Frame shape: torch.Size([3, 224, 224]), Type: torch.float32\n",
            "Frame shape: torch.Size([3, 224, 224]), Type: torch.float32\n",
            "Frame shape: torch.Size([3, 224, 224]), Type: torch.float32\n",
            "Frame shape: torch.Size([3, 224, 224]), Type: torch.float32\n",
            "Frame shape: torch.Size([3, 224, 224]), Type: torch.float32\n",
            "Frame shape: torch.Size([3, 224, 224]), Type: torch.float32\n",
            "Frame shape: torch.Size([3, 224, 224]), Type: torch.float32\n",
            "Frame shape: torch.Size([3, 224, 224]), Type: torch.float32\n",
            "Frame shape: torch.Size([3, 224, 224]), Type: torch.float32\n",
            "Frame shape: torch.Size([3, 224, 224]), Type: torch.float32\n",
            "Frame shape: torch.Size([3, 224, 224]), Type: torch.float32\n",
            "Frame shape: torch.Size([3, 224, 224]), Type: torch.float32\n",
            "Frame shape: torch.Size([3, 224, 224]), Type: torch.float32\n",
            "Frame shape: torch.Size([3, 224, 224]), Type: torch.float32\n",
            "Frame shape: torch.Size([3, 224, 224]), Type: torch.float32\n",
            "Frame shape: torch.Size([3, 224, 224]), Type: torch.float32\n",
            "Frame shape: torch.Size([3, 224, 224]), Type: torch.float32\n",
            "Frame shape: torch.Size([3, 224, 224]), Type: torch.float32\n",
            "Frame shape: torch.Size([3, 224, 224]), Type: torch.float32\n",
            "Frame shape: torch.Size([3, 224, 224]), Type: torch.float32\n",
            "Frame shape: torch.Size([3, 224, 224]), Type: torch.float32\n",
            "Frame shape: torch.Size([3, 224, 224]), Type: torch.float32\n"
          ]
        },
        {
          "output_type": "stream",
          "name": "stderr",
          "text": [
            "Training:  65%|██████▌   | 13/20 [02:42<01:25, 12.28s/it, gpu_load=2.08GB, loss=0.9311]"
          ]
        },
        {
          "output_type": "stream",
          "name": "stdout",
          "text": [
            "Frame shape: torch.Size([3, 224, 224]), Type: torch.float32\n",
            "Frame shape: torch.Size([3, 224, 224]), Type: torch.float32\n",
            "Frame shape: torch.Size([3, 224, 224]), Type: torch.float32\n",
            "Frame shape: torch.Size([3, 224, 224]), Type: torch.float32\n",
            "Frame shape: torch.Size([3, 224, 224]), Type: torch.float32\n",
            "Frame shape: torch.Size([3, 224, 224]), Type: torch.float32\n",
            "Frame shape: torch.Size([3, 224, 224]), Type: torch.float32\n",
            "Frame shape: torch.Size([3, 224, 224]), Type: torch.float32\n",
            "Frame shape: torch.Size([3, 224, 224]), Type: torch.float32\n",
            "Frame shape: torch.Size([3, 224, 224]), Type: torch.float32\n",
            "Frame shape: torch.Size([3, 224, 224]), Type: torch.float32\n",
            "Frame shape: torch.Size([3, 224, 224]), Type: torch.float32\n",
            "Frame shape: torch.Size([3, 224, 224]), Type: torch.float32\n",
            "Frame shape: torch.Size([3, 224, 224]), Type: torch.float32\n",
            "Frame shape: torch.Size([3, 224, 224]), Type: torch.float32\n",
            "Frame shape: torch.Size([3, 224, 224]), Type: torch.float32\n",
            "Frame shape: torch.Size([3, 224, 224]), Type: torch.float32\n",
            "Frame shape: torch.Size([3, 224, 224]), Type: torch.float32\n",
            "Frame shape: torch.Size([3, 224, 224]), Type: torch.float32\n",
            "Frame shape: torch.Size([3, 224, 224]), Type: torch.float32\n",
            "Frame shape: torch.Size([3, 224, 224]), Type: torch.float32\n",
            "Frame shape: torch.Size([3, 224, 224]), Type: torch.float32\n",
            "Frame shape: torch.Size([3, 224, 224]), Type: torch.float32\n",
            "Frame shape: torch.Size([3, 224, 224]), Type: torch.float32\n"
          ]
        },
        {
          "output_type": "stream",
          "name": "stderr",
          "text": [
            "Training:  70%|███████   | 14/20 [02:54<01:14, 12.38s/it, gpu_load=2.08GB, loss=0.4855]"
          ]
        },
        {
          "output_type": "stream",
          "name": "stdout",
          "text": [
            "Frame shape: torch.Size([3, 224, 224]), Type: torch.float32\n",
            "Frame shape: torch.Size([3, 224, 224]), Type: torch.float32\n",
            "Frame shape: torch.Size([3, 224, 224]), Type: torch.float32\n",
            "Frame shape: torch.Size([3, 224, 224]), Type: torch.float32\n",
            "Frame shape: torch.Size([3, 224, 224]), Type: torch.float32\n",
            "Frame shape: torch.Size([3, 224, 224]), Type: torch.float32\n",
            "Frame shape: torch.Size([3, 224, 224]), Type: torch.float32\n",
            "Frame shape: torch.Size([3, 224, 224]), Type: torch.float32\n",
            "Frame shape: torch.Size([3, 224, 224]), Type: torch.float32\n",
            "Frame shape: torch.Size([3, 224, 224]), Type: torch.float32\n",
            "Frame shape: torch.Size([3, 224, 224]), Type: torch.float32\n",
            "Frame shape: torch.Size([3, 224, 224]), Type: torch.float32\n",
            "Frame shape: torch.Size([3, 224, 224]), Type: torch.float32\n",
            "Frame shape: torch.Size([3, 224, 224]), Type: torch.float32\n",
            "Frame shape: torch.Size([3, 224, 224]), Type: torch.float32\n",
            "Frame shape: torch.Size([3, 224, 224]), Type: torch.float32\n",
            "Frame shape: torch.Size([3, 224, 224]), Type: torch.float32\n",
            "Frame shape: torch.Size([3, 224, 224]), Type: torch.float32\n",
            "Frame shape: torch.Size([3, 224, 224]), Type: torch.float32\n",
            "Frame shape: torch.Size([3, 224, 224]), Type: torch.float32\n",
            "Frame shape: torch.Size([3, 224, 224]), Type: torch.float32\n",
            "Frame shape: torch.Size([3, 224, 224]), Type: torch.float32\n",
            "Frame shape: torch.Size([3, 224, 224]), Type: torch.float32\n",
            "Frame shape: torch.Size([3, 224, 224]), Type: torch.float32\n"
          ]
        },
        {
          "output_type": "stream",
          "name": "stderr",
          "text": [
            "Training:  75%|███████▌  | 15/20 [03:05<01:00, 12.04s/it, gpu_load=2.08GB, loss=0.8397]"
          ]
        },
        {
          "output_type": "stream",
          "name": "stdout",
          "text": [
            "Frame shape: torch.Size([3, 224, 224]), Type: torch.float32\n",
            "Frame shape: torch.Size([3, 224, 224]), Type: torch.float32\n",
            "Frame shape: torch.Size([3, 224, 224]), Type: torch.float32\n",
            "Frame shape: torch.Size([3, 224, 224]), Type: torch.float32\n",
            "Frame shape: torch.Size([3, 224, 224]), Type: torch.float32\n",
            "Frame shape: torch.Size([3, 224, 224]), Type: torch.float32\n",
            "Frame shape: torch.Size([3, 224, 224]), Type: torch.float32\n",
            "Frame shape: torch.Size([3, 224, 224]), Type: torch.float32\n",
            "Frame shape: torch.Size([3, 224, 224]), Type: torch.float32\n",
            "Frame shape: torch.Size([3, 224, 224]), Type: torch.float32\n",
            "Frame shape: torch.Size([3, 224, 224]), Type: torch.float32\n",
            "Frame shape: torch.Size([3, 224, 224]), Type: torch.float32\n",
            "Frame shape: torch.Size([3, 224, 224]), Type: torch.float32\n",
            "Frame shape: torch.Size([3, 224, 224]), Type: torch.float32\n",
            "Frame shape: torch.Size([3, 224, 224]), Type: torch.float32\n",
            "Frame shape: torch.Size([3, 224, 224]), Type: torch.float32\n",
            "Frame shape: torch.Size([3, 224, 224]), Type: torch.float32\n",
            "Frame shape: torch.Size([3, 224, 224]), Type: torch.float32\n",
            "Frame shape: torch.Size([3, 224, 224]), Type: torch.float32\n",
            "Frame shape: torch.Size([3, 224, 224]), Type: torch.float32\n",
            "Frame shape: torch.Size([3, 224, 224]), Type: torch.float32\n",
            "Frame shape: torch.Size([3, 224, 224]), Type: torch.float32\n",
            "Frame shape: torch.Size([3, 224, 224]), Type: torch.float32\n",
            "Frame shape: torch.Size([3, 224, 224]), Type: torch.float32\n"
          ]
        },
        {
          "output_type": "stream",
          "name": "stderr",
          "text": [
            "Training:  80%|████████  | 16/20 [03:20<00:50, 12.71s/it, gpu_load=2.08GB, loss=0.9254]"
          ]
        },
        {
          "output_type": "stream",
          "name": "stdout",
          "text": [
            "Frame shape: torch.Size([3, 224, 224]), Type: torch.float32\n",
            "Frame shape: torch.Size([3, 224, 224]), Type: torch.float32\n",
            "Frame shape: torch.Size([3, 224, 224]), Type: torch.float32\n",
            "Frame shape: torch.Size([3, 224, 224]), Type: torch.float32\n",
            "Frame shape: torch.Size([3, 224, 224]), Type: torch.float32\n",
            "Frame shape: torch.Size([3, 224, 224]), Type: torch.float32\n",
            "Frame shape: torch.Size([3, 224, 224]), Type: torch.float32\n",
            "Frame shape: torch.Size([3, 224, 224]), Type: torch.float32\n",
            "Frame shape: torch.Size([3, 224, 224]), Type: torch.float32\n",
            "Frame shape: torch.Size([3, 224, 224]), Type: torch.float32\n",
            "Frame shape: torch.Size([3, 224, 224]), Type: torch.float32\n",
            "Frame shape: torch.Size([3, 224, 224]), Type: torch.float32\n",
            "Frame shape: torch.Size([3, 224, 224]), Type: torch.float32\n",
            "Frame shape: torch.Size([3, 224, 224]), Type: torch.float32\n",
            "Frame shape: torch.Size([3, 224, 224]), Type: torch.float32\n",
            "Frame shape: torch.Size([3, 224, 224]), Type: torch.float32\n",
            "Frame shape: torch.Size([3, 224, 224]), Type: torch.float32\n",
            "Frame shape: torch.Size([3, 224, 224]), Type: torch.float32\n",
            "Frame shape: torch.Size([3, 224, 224]), Type: torch.float32\n",
            "Frame shape: torch.Size([3, 224, 224]), Type: torch.float32\n",
            "Frame shape: torch.Size([3, 224, 224]), Type: torch.float32\n",
            "Frame shape: torch.Size([3, 224, 224]), Type: torch.float32\n",
            "Frame shape: torch.Size([3, 224, 224]), Type: torch.float32\n",
            "Frame shape: torch.Size([3, 224, 224]), Type: torch.float32\n"
          ]
        },
        {
          "output_type": "stream",
          "name": "stderr",
          "text": [
            "Training:  85%|████████▌ | 17/20 [03:31<00:36, 12.17s/it, gpu_load=2.08GB, loss=1.4203]"
          ]
        },
        {
          "output_type": "stream",
          "name": "stdout",
          "text": [
            "Frame shape: torch.Size([3, 224, 224]), Type: torch.float32\n",
            "Frame shape: torch.Size([3, 224, 224]), Type: torch.float32\n",
            "Frame shape: torch.Size([3, 224, 224]), Type: torch.float32\n",
            "Frame shape: torch.Size([3, 224, 224]), Type: torch.float32\n",
            "Frame shape: torch.Size([3, 224, 224]), Type: torch.float32\n",
            "Frame shape: torch.Size([3, 224, 224]), Type: torch.float32\n",
            "Frame shape: torch.Size([3, 224, 224]), Type: torch.float32\n",
            "Frame shape: torch.Size([3, 224, 224]), Type: torch.float32\n",
            "Frame shape: torch.Size([3, 224, 224]), Type: torch.float32\n",
            "Frame shape: torch.Size([3, 224, 224]), Type: torch.float32\n",
            "Frame shape: torch.Size([3, 224, 224]), Type: torch.float32\n",
            "Frame shape: torch.Size([3, 224, 224]), Type: torch.float32\n",
            "Frame shape: torch.Size([3, 224, 224]), Type: torch.float32\n",
            "Frame shape: torch.Size([3, 224, 224]), Type: torch.float32\n",
            "Frame shape: torch.Size([3, 224, 224]), Type: torch.float32\n",
            "Frame shape: torch.Size([3, 224, 224]), Type: torch.float32\n",
            "Frame shape: torch.Size([3, 224, 224]), Type: torch.float32\n",
            "Frame shape: torch.Size([3, 224, 224]), Type: torch.float32\n",
            "Frame shape: torch.Size([3, 224, 224]), Type: torch.float32\n",
            "Frame shape: torch.Size([3, 224, 224]), Type: torch.float32\n",
            "Frame shape: torch.Size([3, 224, 224]), Type: torch.float32\n",
            "Frame shape: torch.Size([3, 224, 224]), Type: torch.float32\n",
            "Frame shape: torch.Size([3, 224, 224]), Type: torch.float32\n",
            "Frame shape: torch.Size([3, 224, 224]), Type: torch.float32\n"
          ]
        },
        {
          "output_type": "stream",
          "name": "stderr",
          "text": [
            "Training:  90%|█████████ | 18/20 [03:42<00:23, 11.86s/it, gpu_load=2.08GB, loss=0.8219]"
          ]
        },
        {
          "output_type": "stream",
          "name": "stdout",
          "text": [
            "Frame shape: torch.Size([3, 224, 224]), Type: torch.float32\n",
            "Frame shape: torch.Size([3, 224, 224]), Type: torch.float32\n",
            "Frame shape: torch.Size([3, 224, 224]), Type: torch.float32\n",
            "Frame shape: torch.Size([3, 224, 224]), Type: torch.float32\n",
            "Frame shape: torch.Size([3, 224, 224]), Type: torch.float32\n",
            "Frame shape: torch.Size([3, 224, 224]), Type: torch.float32\n",
            "Frame shape: torch.Size([3, 224, 224]), Type: torch.float32\n",
            "Frame shape: torch.Size([3, 224, 224]), Type: torch.float32\n",
            "Frame shape: torch.Size([3, 224, 224]), Type: torch.float32\n",
            "Frame shape: torch.Size([3, 224, 224]), Type: torch.float32\n",
            "Frame shape: torch.Size([3, 224, 224]), Type: torch.float32\n",
            "Frame shape: torch.Size([3, 224, 224]), Type: torch.float32\n",
            "Frame shape: torch.Size([3, 224, 224]), Type: torch.float32\n",
            "Frame shape: torch.Size([3, 224, 224]), Type: torch.float32\n",
            "Frame shape: torch.Size([3, 224, 224]), Type: torch.float32\n",
            "Frame shape: torch.Size([3, 224, 224]), Type: torch.float32\n",
            "Frame shape: torch.Size([3, 224, 224]), Type: torch.float32\n",
            "Frame shape: torch.Size([3, 224, 224]), Type: torch.float32\n",
            "Frame shape: torch.Size([3, 224, 224]), Type: torch.float32\n",
            "Frame shape: torch.Size([3, 224, 224]), Type: torch.float32\n",
            "Frame shape: torch.Size([3, 224, 224]), Type: torch.float32\n",
            "Frame shape: torch.Size([3, 224, 224]), Type: torch.float32\n",
            "Frame shape: torch.Size([3, 224, 224]), Type: torch.float32\n",
            "Frame shape: torch.Size([3, 224, 224]), Type: torch.float32\n"
          ]
        },
        {
          "output_type": "stream",
          "name": "stderr",
          "text": [
            "Training:  95%|█████████▌| 19/20 [03:54<00:12, 12.06s/it, gpu_load=2.08GB, loss=0.6610]"
          ]
        },
        {
          "output_type": "stream",
          "name": "stdout",
          "text": [
            "Frame shape: torch.Size([3, 224, 224]), Type: torch.float32\n",
            "Frame shape: torch.Size([3, 224, 224]), Type: torch.float32\n",
            "Frame shape: torch.Size([3, 224, 224]), Type: torch.float32\n",
            "Frame shape: torch.Size([3, 224, 224]), Type: torch.float32\n",
            "Frame shape: torch.Size([3, 224, 224]), Type: torch.float32\n",
            "Frame shape: torch.Size([3, 224, 224]), Type: torch.float32\n",
            "Frame shape: torch.Size([3, 224, 224]), Type: torch.float32\n",
            "Frame shape: torch.Size([3, 224, 224]), Type: torch.float32\n",
            "Frame shape: torch.Size([3, 224, 224]), Type: torch.float32\n",
            "Frame shape: torch.Size([3, 224, 224]), Type: torch.float32\n",
            "Frame shape: torch.Size([3, 224, 224]), Type: torch.float32\n",
            "Frame shape: torch.Size([3, 224, 224]), Type: torch.float32\n",
            "Frame shape: torch.Size([3, 224, 224]), Type: torch.float32\n",
            "Frame shape: torch.Size([3, 224, 224]), Type: torch.float32\n",
            "Frame shape: torch.Size([3, 224, 224]), Type: torch.float32\n",
            "Frame shape: torch.Size([3, 224, 224]), Type: torch.float32\n",
            "Frame shape: torch.Size([3, 224, 224]), Type: torch.float32\n",
            "Frame shape: torch.Size([3, 224, 224]), Type: torch.float32\n",
            "Frame shape: torch.Size([3, 224, 224]), Type: torch.float32\n",
            "Frame shape: torch.Size([3, 224, 224]), Type: torch.float32\n",
            "Frame shape: torch.Size([3, 224, 224]), Type: torch.float32\n",
            "Frame shape: torch.Size([3, 224, 224]), Type: torch.float32\n"
          ]
        },
        {
          "output_type": "stream",
          "name": "stderr",
          "text": [
            "Training: 100%|██████████| 20/20 [04:05<00:00, 12.29s/it, gpu_load=1.83GB, loss=0.8814]\n",
            "Testing:   0%|          | 0/5 [00:00<?, ?it/s]"
          ]
        },
        {
          "output_type": "stream",
          "name": "stdout",
          "text": [
            "Frame shape: torch.Size([3, 224, 224]), Type: torch.float32\n",
            "Frame shape: torch.Size([3, 224, 224]), Type: torch.float32\n",
            "Frame shape: torch.Size([3, 224, 224]), Type: torch.float32\n",
            "Frame shape: torch.Size([3, 224, 224]), Type: torch.float32\n",
            "Frame shape: torch.Size([3, 224, 224]), Type: torch.float32\n",
            "Frame shape: torch.Size([3, 224, 224]), Type: torch.float32\n",
            "Frame shape: torch.Size([3, 224, 224]), Type: torch.float32\n",
            "Frame shape: torch.Size([3, 224, 224]), Type: torch.float32\n",
            "Frame shape: torch.Size([3, 224, 224]), Type: torch.float32\n",
            "Frame shape: torch.Size([3, 224, 224]), Type: torch.float32\n",
            "Frame shape: torch.Size([3, 224, 224]), Type: torch.float32\n",
            "Frame shape: torch.Size([3, 224, 224]), Type: torch.float32\n",
            "Frame shape: torch.Size([3, 224, 224]), Type: torch.float32\n",
            "Frame shape: torch.Size([3, 224, 224]), Type: torch.float32\n",
            "Frame shape: torch.Size([3, 224, 224]), Type: torch.float32\n",
            "Frame shape: torch.Size([3, 224, 224]), Type: torch.float32\n",
            "Frame shape: torch.Size([3, 224, 224]), Type: torch.float32\n",
            "Frame shape: torch.Size([3, 224, 224]), Type: torch.float32\n",
            "Frame shape: torch.Size([3, 224, 224]), Type: torch.float32\n",
            "Frame shape: torch.Size([3, 224, 224]), Type: torch.float32\n",
            "Frame shape: torch.Size([3, 224, 224]), Type: torch.float32\n",
            "Frame shape: torch.Size([3, 224, 224]), Type: torch.float32\n",
            "Frame shape: torch.Size([3, 224, 224]), Type: torch.float32\n"
          ]
        },
        {
          "output_type": "stream",
          "name": "stderr",
          "text": [
            "Testing:  20%|██        | 1/5 [00:12<00:51, 12.84s/it, loss=3.3107]"
          ]
        },
        {
          "output_type": "stream",
          "name": "stdout",
          "text": [
            "Frame shape: torch.Size([3, 224, 224]), Type: torch.float32\n",
            "Frame shape: torch.Size([3, 224, 224]), Type: torch.float32\n",
            "Frame shape: torch.Size([3, 224, 224]), Type: torch.float32\n",
            "Frame shape: torch.Size([3, 224, 224]), Type: torch.float32\n",
            "Frame shape: torch.Size([3, 224, 224]), Type: torch.float32\n",
            "Frame shape: torch.Size([3, 224, 224]), Type: torch.float32\n",
            "Frame shape: torch.Size([3, 224, 224]), Type: torch.float32\n",
            "Frame shape: torch.Size([3, 224, 224]), Type: torch.float32\n",
            "Frame shape: torch.Size([3, 224, 224]), Type: torch.float32\n",
            "Frame shape: torch.Size([3, 224, 224]), Type: torch.float32\n",
            "Frame shape: torch.Size([3, 224, 224]), Type: torch.float32\n",
            "Frame shape: torch.Size([3, 224, 224]), Type: torch.float32\n",
            "Frame shape: torch.Size([3, 224, 224]), Type: torch.float32\n",
            "Frame shape: torch.Size([3, 224, 224]), Type: torch.float32\n",
            "Frame shape: torch.Size([3, 224, 224]), Type: torch.float32\n",
            "Frame shape: torch.Size([3, 224, 224]), Type: torch.float32\n",
            "Frame shape: torch.Size([3, 224, 224]), Type: torch.float32\n",
            "Frame shape: torch.Size([3, 224, 224]), Type: torch.float32\n",
            "Frame shape: torch.Size([3, 224, 224]), Type: torch.float32\n",
            "Frame shape: torch.Size([3, 224, 224]), Type: torch.float32\n",
            "Frame shape: torch.Size([3, 224, 224]), Type: torch.float32\n",
            "Frame shape: torch.Size([3, 224, 224]), Type: torch.float32\n",
            "Frame shape: torch.Size([3, 224, 224]), Type: torch.float32\n",
            "Frame shape: torch.Size([3, 224, 224]), Type: torch.float32\n"
          ]
        },
        {
          "output_type": "stream",
          "name": "stderr",
          "text": [
            "Testing:  40%|████      | 2/5 [00:23<00:35, 11.80s/it, loss=2.6212]"
          ]
        },
        {
          "output_type": "stream",
          "name": "stdout",
          "text": [
            "Frame shape: torch.Size([3, 224, 224]), Type: torch.float32\n",
            "Frame shape: torch.Size([3, 224, 224]), Type: torch.float32\n",
            "Frame shape: torch.Size([3, 224, 224]), Type: torch.float32\n",
            "Frame shape: torch.Size([3, 224, 224]), Type: torch.float32\n",
            "Frame shape: torch.Size([3, 224, 224]), Type: torch.float32\n",
            "Frame shape: torch.Size([3, 224, 224]), Type: torch.float32\n",
            "Frame shape: torch.Size([3, 224, 224]), Type: torch.float32\n",
            "Frame shape: torch.Size([3, 224, 224]), Type: torch.float32\n",
            "Frame shape: torch.Size([3, 224, 224]), Type: torch.float32\n",
            "Frame shape: torch.Size([3, 224, 224]), Type: torch.float32\n",
            "Frame shape: torch.Size([3, 224, 224]), Type: torch.float32\n",
            "Frame shape: torch.Size([3, 224, 224]), Type: torch.float32\n",
            "Frame shape: torch.Size([3, 224, 224]), Type: torch.float32\n",
            "Frame shape: torch.Size([3, 224, 224]), Type: torch.float32\n",
            "Frame shape: torch.Size([3, 224, 224]), Type: torch.float32\n",
            "Frame shape: torch.Size([3, 224, 224]), Type: torch.float32\n",
            "Frame shape: torch.Size([3, 224, 224]), Type: torch.float32\n",
            "Frame shape: torch.Size([3, 224, 224]), Type: torch.float32\n",
            "Frame shape: torch.Size([3, 224, 224]), Type: torch.float32\n",
            "Frame shape: torch.Size([3, 224, 224]), Type: torch.float32\n",
            "Frame shape: torch.Size([3, 224, 224]), Type: torch.float32\n",
            "Frame shape: torch.Size([3, 224, 224]), Type: torch.float32\n",
            "Frame shape: torch.Size([3, 224, 224]), Type: torch.float32\n",
            "Frame shape: torch.Size([3, 224, 224]), Type: torch.float32\n"
          ]
        },
        {
          "output_type": "stream",
          "name": "stderr",
          "text": [
            "Testing:  60%|██████    | 3/5 [00:37<00:25, 12.55s/it, loss=2.0365]"
          ]
        },
        {
          "output_type": "stream",
          "name": "stdout",
          "text": [
            "Frame shape: torch.Size([3, 224, 224]), Type: torch.float32\n",
            "Frame shape: torch.Size([3, 224, 224]), Type: torch.float32\n",
            "Frame shape: torch.Size([3, 224, 224]), Type: torch.float32\n",
            "Frame shape: torch.Size([3, 224, 224]), Type: torch.float32\n",
            "Frame shape: torch.Size([3, 224, 224]), Type: torch.float32\n",
            "Frame shape: torch.Size([3, 224, 224]), Type: torch.float32\n",
            "Frame shape: torch.Size([3, 224, 224]), Type: torch.float32\n",
            "Frame shape: torch.Size([3, 224, 224]), Type: torch.float32\n",
            "Frame shape: torch.Size([3, 224, 224]), Type: torch.float32\n",
            "Frame shape: torch.Size([3, 224, 224]), Type: torch.float32\n",
            "Frame shape: torch.Size([3, 224, 224]), Type: torch.float32\n",
            "Frame shape: torch.Size([3, 224, 224]), Type: torch.float32\n",
            "Frame shape: torch.Size([3, 224, 224]), Type: torch.float32\n",
            "Frame shape: torch.Size([3, 224, 224]), Type: torch.float32\n",
            "Frame shape: torch.Size([3, 224, 224]), Type: torch.float32\n",
            "Frame shape: torch.Size([3, 224, 224]), Type: torch.float32\n",
            "Frame shape: torch.Size([3, 224, 224]), Type: torch.float32\n",
            "Frame shape: torch.Size([3, 224, 224]), Type: torch.float32\n",
            "Frame shape: torch.Size([3, 224, 224]), Type: torch.float32\n",
            "Frame shape: torch.Size([3, 224, 224]), Type: torch.float32\n",
            "Frame shape: torch.Size([3, 224, 224]), Type: torch.float32\n",
            "Frame shape: torch.Size([3, 224, 224]), Type: torch.float32\n",
            "Frame shape: torch.Size([3, 224, 224]), Type: torch.float32\n",
            "Frame shape: torch.Size([3, 224, 224]), Type: torch.float32\n",
            "Frame shape: torch.Size([3, 224, 224]), Type: torch.float32\n"
          ]
        },
        {
          "output_type": "stream",
          "name": "stderr",
          "text": [
            "Testing:  80%|████████  | 4/5 [00:49<00:12, 12.44s/it, loss=4.1585]"
          ]
        },
        {
          "output_type": "stream",
          "name": "stdout",
          "text": [
            "Frame shape: torch.Size([3, 224, 224]), Type: torch.float32\n",
            "Frame shape: torch.Size([3, 224, 224]), Type: torch.float32\n",
            "Frame shape: torch.Size([3, 224, 224]), Type: torch.float32\n",
            "Frame shape: torch.Size([3, 224, 224]), Type: torch.float32\n",
            "Frame shape: torch.Size([3, 224, 224]), Type: torch.float32\n",
            "Frame shape: torch.Size([3, 224, 224]), Type: torch.float32\n",
            "Frame shape: torch.Size([3, 224, 224]), Type: torch.float32\n",
            "Frame shape: torch.Size([3, 224, 224]), Type: torch.float32\n",
            "Frame shape: torch.Size([3, 224, 224]), Type: torch.float32\n",
            "Frame shape: torch.Size([3, 224, 224]), Type: torch.float32\n",
            "Frame shape: torch.Size([3, 224, 224]), Type: torch.float32\n",
            "Frame shape: torch.Size([3, 224, 224]), Type: torch.float32\n",
            "Frame shape: torch.Size([3, 224, 224]), Type: torch.float32\n",
            "Frame shape: torch.Size([3, 224, 224]), Type: torch.float32\n",
            "Frame shape: torch.Size([3, 224, 224]), Type: torch.float32\n",
            "Frame shape: torch.Size([3, 224, 224]), Type: torch.float32\n",
            "Frame shape: torch.Size([3, 224, 224]), Type: torch.float32\n",
            "Frame shape: torch.Size([3, 224, 224]), Type: torch.float32\n",
            "Frame shape: torch.Size([3, 224, 224]), Type: torch.float32\n",
            "Frame shape: torch.Size([3, 224, 224]), Type: torch.float32\n",
            "Frame shape: torch.Size([3, 224, 224]), Type: torch.float32\n",
            "Frame shape: torch.Size([3, 224, 224]), Type: torch.float32\n",
            "Frame shape: torch.Size([3, 224, 224]), Type: torch.float32\n"
          ]
        },
        {
          "output_type": "stream",
          "name": "stderr",
          "text": [
            "Testing: 100%|██████████| 5/5 [01:01<00:00, 12.24s/it, loss=2.9663]"
          ]
        },
        {
          "output_type": "stream",
          "name": "stdout",
          "text": [
            "Frame shape: torch.Size([3, 224, 224]), Type: torch.float32\n",
            "epoch: 8, lr_rate 0.00064\n",
            "loss_train: 0.8983| loss_valid: 3.0186|\n",
            "metric 0.291667\n",
            "Elapsed time: 00:05:07\n"
          ]
        },
        {
          "output_type": "stream",
          "name": "stderr",
          "text": [
            "\n"
          ]
        },
        {
          "output_type": "stream",
          "name": "stdout",
          "text": [
            "---------------------epoch:9/10---------------------\n"
          ]
        },
        {
          "output_type": "stream",
          "name": "stderr",
          "text": [
            "\rTraining:   0%|          | 0/20 [00:00<?, ?it/s]"
          ]
        },
        {
          "output_type": "stream",
          "name": "stdout",
          "text": [
            "Frame shape: torch.Size([3, 224, 224]), Type: torch.float32\n",
            "Frame shape: torch.Size([3, 224, 224]), Type: torch.float32\n",
            "Frame shape: torch.Size([3, 224, 224]), Type: torch.float32\n",
            "Frame shape: torch.Size([3, 224, 224]), Type: torch.float32\n",
            "Frame shape: torch.Size([3, 224, 224]), Type: torch.float32\n",
            "Frame shape: torch.Size([3, 224, 224]), Type: torch.float32\n",
            "Frame shape: torch.Size([3, 224, 224]), Type: torch.float32\n",
            "Frame shape: torch.Size([3, 224, 224]), Type: torch.float32\n",
            "Frame shape: torch.Size([3, 224, 224]), Type: torch.float32\n",
            "Frame shape: torch.Size([3, 224, 224]), Type: torch.float32\n",
            "Frame shape: torch.Size([3, 224, 224]), Type: torch.float32\n",
            "Frame shape: torch.Size([3, 224, 224]), Type: torch.float32\n",
            "Frame shape: torch.Size([3, 224, 224]), Type: torch.float32\n",
            "Frame shape: torch.Size([3, 224, 224]), Type: torch.float32\n",
            "Frame shape: torch.Size([3, 224, 224]), Type: torch.float32\n",
            "Frame shape: torch.Size([3, 224, 224]), Type: torch.float32\n",
            "Frame shape: torch.Size([3, 224, 224]), Type: torch.float32\n",
            "Frame shape: torch.Size([3, 224, 224]), Type: torch.float32\n",
            "Frame shape: torch.Size([3, 224, 224]), Type: torch.float32\n",
            "Frame shape: torch.Size([3, 224, 224]), Type: torch.float32\n",
            "Frame shape: torch.Size([3, 224, 224]), Type: torch.float32\n",
            "Frame shape: torch.Size([3, 224, 224]), Type: torch.float32\n",
            "Frame shape: torch.Size([3, 224, 224]), Type: torch.float32\n"
          ]
        },
        {
          "output_type": "stream",
          "name": "stderr",
          "text": [
            "Training:   5%|▌         | 1/20 [00:12<03:48, 12.01s/it, gpu_load=2.07GB, loss=0.6330]"
          ]
        },
        {
          "output_type": "stream",
          "name": "stdout",
          "text": [
            "Frame shape: torch.Size([3, 224, 224]), Type: torch.float32\n",
            "Frame shape: torch.Size([3, 224, 224]), Type: torch.float32\n",
            "Frame shape: torch.Size([3, 224, 224]), Type: torch.float32\n",
            "Frame shape: torch.Size([3, 224, 224]), Type: torch.float32\n",
            "Frame shape: torch.Size([3, 224, 224]), Type: torch.float32\n",
            "Frame shape: torch.Size([3, 224, 224]), Type: torch.float32\n",
            "Frame shape: torch.Size([3, 224, 224]), Type: torch.float32\n",
            "Frame shape: torch.Size([3, 224, 224]), Type: torch.float32\n",
            "Frame shape: torch.Size([3, 224, 224]), Type: torch.float32\n",
            "Frame shape: torch.Size([3, 224, 224]), Type: torch.float32\n",
            "Frame shape: torch.Size([3, 224, 224]), Type: torch.float32\n",
            "Frame shape: torch.Size([3, 224, 224]), Type: torch.float32\n",
            "Frame shape: torch.Size([3, 224, 224]), Type: torch.float32\n",
            "Frame shape: torch.Size([3, 224, 224]), Type: torch.float32\n",
            "Frame shape: torch.Size([3, 224, 224]), Type: torch.float32\n",
            "Frame shape: torch.Size([3, 224, 224]), Type: torch.float32\n",
            "Frame shape: torch.Size([3, 224, 224]), Type: torch.float32\n",
            "Frame shape: torch.Size([3, 224, 224]), Type: torch.float32\n",
            "Frame shape: torch.Size([3, 224, 224]), Type: torch.float32\n",
            "Frame shape: torch.Size([3, 224, 224]), Type: torch.float32\n",
            "Frame shape: torch.Size([3, 224, 224]), Type: torch.float32\n",
            "Frame shape: torch.Size([3, 224, 224]), Type: torch.float32\n",
            "Frame shape: torch.Size([3, 224, 224]), Type: torch.float32\n",
            "Frame shape: torch.Size([3, 224, 224]), Type: torch.float32\n"
          ]
        },
        {
          "output_type": "stream",
          "name": "stderr",
          "text": [
            "Training:  10%|█         | 2/20 [00:24<03:45, 12.55s/it, gpu_load=2.08GB, loss=0.7675]"
          ]
        },
        {
          "output_type": "stream",
          "name": "stdout",
          "text": [
            "Frame shape: torch.Size([3, 224, 224]), Type: torch.float32\n",
            "Frame shape: torch.Size([3, 224, 224]), Type: torch.float32\n",
            "Frame shape: torch.Size([3, 224, 224]), Type: torch.float32\n",
            "Frame shape: torch.Size([3, 224, 224]), Type: torch.float32\n",
            "Frame shape: torch.Size([3, 224, 224]), Type: torch.float32\n",
            "Frame shape: torch.Size([3, 224, 224]), Type: torch.float32\n",
            "Frame shape: torch.Size([3, 224, 224]), Type: torch.float32\n",
            "Frame shape: torch.Size([3, 224, 224]), Type: torch.float32\n",
            "Frame shape: torch.Size([3, 224, 224]), Type: torch.float32\n",
            "Frame shape: torch.Size([3, 224, 224]), Type: torch.float32\n",
            "Frame shape: torch.Size([3, 224, 224]), Type: torch.float32\n",
            "Frame shape: torch.Size([3, 224, 224]), Type: torch.float32\n",
            "Frame shape: torch.Size([3, 224, 224]), Type: torch.float32\n",
            "Frame shape: torch.Size([3, 224, 224]), Type: torch.float32\n",
            "Frame shape: torch.Size([3, 224, 224]), Type: torch.float32\n",
            "Frame shape: torch.Size([3, 224, 224]), Type: torch.float32\n",
            "Frame shape: torch.Size([3, 224, 224]), Type: torch.float32\n",
            "Frame shape: torch.Size([3, 224, 224]), Type: torch.float32\n",
            "Frame shape: torch.Size([3, 224, 224]), Type: torch.float32\n",
            "Frame shape: torch.Size([3, 224, 224]), Type: torch.float32\n",
            "Frame shape: torch.Size([3, 224, 224]), Type: torch.float32\n",
            "Frame shape: torch.Size([3, 224, 224]), Type: torch.float32\n",
            "Frame shape: torch.Size([3, 224, 224]), Type: torch.float32\n",
            "Frame shape: torch.Size([3, 224, 224]), Type: torch.float32\n"
          ]
        },
        {
          "output_type": "stream",
          "name": "stderr",
          "text": [
            "Training:  15%|█▌        | 3/20 [00:37<03:33, 12.58s/it, gpu_load=2.08GB, loss=0.8136]"
          ]
        },
        {
          "output_type": "stream",
          "name": "stdout",
          "text": [
            "Frame shape: torch.Size([3, 224, 224]), Type: torch.float32\n",
            "Frame shape: torch.Size([3, 224, 224]), Type: torch.float32\n",
            "Frame shape: torch.Size([3, 224, 224]), Type: torch.float32\n",
            "Frame shape: torch.Size([3, 224, 224]), Type: torch.float32\n",
            "Frame shape: torch.Size([3, 224, 224]), Type: torch.float32\n",
            "Frame shape: torch.Size([3, 224, 224]), Type: torch.float32\n",
            "Frame shape: torch.Size([3, 224, 224]), Type: torch.float32\n",
            "Frame shape: torch.Size([3, 224, 224]), Type: torch.float32\n",
            "Frame shape: torch.Size([3, 224, 224]), Type: torch.float32\n",
            "Frame shape: torch.Size([3, 224, 224]), Type: torch.float32\n",
            "Frame shape: torch.Size([3, 224, 224]), Type: torch.float32\n",
            "Frame shape: torch.Size([3, 224, 224]), Type: torch.float32\n",
            "Frame shape: torch.Size([3, 224, 224]), Type: torch.float32\n",
            "Frame shape: torch.Size([3, 224, 224]), Type: torch.float32\n",
            "Frame shape: torch.Size([3, 224, 224]), Type: torch.float32\n",
            "Frame shape: torch.Size([3, 224, 224]), Type: torch.float32\n",
            "Frame shape: torch.Size([3, 224, 224]), Type: torch.float32\n",
            "Frame shape: torch.Size([3, 224, 224]), Type: torch.float32\n",
            "Frame shape: torch.Size([3, 224, 224]), Type: torch.float32\n",
            "Frame shape: torch.Size([3, 224, 224]), Type: torch.float32\n",
            "Frame shape: torch.Size([3, 224, 224]), Type: torch.float32\n",
            "Frame shape: torch.Size([3, 224, 224]), Type: torch.float32\n",
            "Frame shape: torch.Size([3, 224, 224]), Type: torch.float32\n",
            "Frame shape: torch.Size([3, 224, 224]), Type: torch.float32\n"
          ]
        },
        {
          "output_type": "stream",
          "name": "stderr",
          "text": [
            "Training:  20%|██        | 4/20 [00:50<03:23, 12.75s/it, gpu_load=2.08GB, loss=0.7758]"
          ]
        },
        {
          "output_type": "stream",
          "name": "stdout",
          "text": [
            "Frame shape: torch.Size([3, 224, 224]), Type: torch.float32\n",
            "Frame shape: torch.Size([3, 224, 224]), Type: torch.float32\n",
            "Frame shape: torch.Size([3, 224, 224]), Type: torch.float32\n",
            "Frame shape: torch.Size([3, 224, 224]), Type: torch.float32\n",
            "Frame shape: torch.Size([3, 224, 224]), Type: torch.float32\n",
            "Frame shape: torch.Size([3, 224, 224]), Type: torch.float32\n",
            "Frame shape: torch.Size([3, 224, 224]), Type: torch.float32\n",
            "Frame shape: torch.Size([3, 224, 224]), Type: torch.float32\n",
            "Frame shape: torch.Size([3, 224, 224]), Type: torch.float32\n",
            "Frame shape: torch.Size([3, 224, 224]), Type: torch.float32\n",
            "Frame shape: torch.Size([3, 224, 224]), Type: torch.float32\n",
            "Frame shape: torch.Size([3, 224, 224]), Type: torch.float32\n",
            "Frame shape: torch.Size([3, 224, 224]), Type: torch.float32\n",
            "Frame shape: torch.Size([3, 224, 224]), Type: torch.float32\n",
            "Frame shape: torch.Size([3, 224, 224]), Type: torch.float32\n",
            "Frame shape: torch.Size([3, 224, 224]), Type: torch.float32\n",
            "Frame shape: torch.Size([3, 224, 224]), Type: torch.float32\n",
            "Frame shape: torch.Size([3, 224, 224]), Type: torch.float32\n",
            "Frame shape: torch.Size([3, 224, 224]), Type: torch.float32\n",
            "Frame shape: torch.Size([3, 224, 224]), Type: torch.float32\n",
            "Frame shape: torch.Size([3, 224, 224]), Type: torch.float32\n",
            "Frame shape: torch.Size([3, 224, 224]), Type: torch.float32\n",
            "Frame shape: torch.Size([3, 224, 224]), Type: torch.float32\n",
            "Frame shape: torch.Size([3, 224, 224]), Type: torch.float32\n"
          ]
        },
        {
          "output_type": "stream",
          "name": "stderr",
          "text": [
            "Training:  25%|██▌       | 5/20 [01:02<03:08, 12.59s/it, gpu_load=2.08GB, loss=0.7646]"
          ]
        },
        {
          "output_type": "stream",
          "name": "stdout",
          "text": [
            "Frame shape: torch.Size([3, 224, 224]), Type: torch.float32\n",
            "Frame shape: torch.Size([3, 224, 224]), Type: torch.float32\n",
            "Frame shape: torch.Size([3, 224, 224]), Type: torch.float32\n",
            "Frame shape: torch.Size([3, 224, 224]), Type: torch.float32\n",
            "Frame shape: torch.Size([3, 224, 224]), Type: torch.float32\n",
            "Frame shape: torch.Size([3, 224, 224]), Type: torch.float32\n",
            "Frame shape: torch.Size([3, 224, 224]), Type: torch.float32\n",
            "Frame shape: torch.Size([3, 224, 224]), Type: torch.float32\n",
            "Frame shape: torch.Size([3, 224, 224]), Type: torch.float32\n",
            "Frame shape: torch.Size([3, 224, 224]), Type: torch.float32\n",
            "Frame shape: torch.Size([3, 224, 224]), Type: torch.float32\n",
            "Frame shape: torch.Size([3, 224, 224]), Type: torch.float32\n",
            "Frame shape: torch.Size([3, 224, 224]), Type: torch.float32\n",
            "Frame shape: torch.Size([3, 224, 224]), Type: torch.float32\n",
            "Frame shape: torch.Size([3, 224, 224]), Type: torch.float32\n",
            "Frame shape: torch.Size([3, 224, 224]), Type: torch.float32\n",
            "Frame shape: torch.Size([3, 224, 224]), Type: torch.float32\n",
            "Frame shape: torch.Size([3, 224, 224]), Type: torch.float32\n",
            "Frame shape: torch.Size([3, 224, 224]), Type: torch.float32\n",
            "Frame shape: torch.Size([3, 224, 224]), Type: torch.float32\n",
            "Frame shape: torch.Size([3, 224, 224]), Type: torch.float32\n",
            "Frame shape: torch.Size([3, 224, 224]), Type: torch.float32\n",
            "Frame shape: torch.Size([3, 224, 224]), Type: torch.float32\n",
            "Frame shape: torch.Size([3, 224, 224]), Type: torch.float32\n"
          ]
        },
        {
          "output_type": "stream",
          "name": "stderr",
          "text": [
            "Training:  30%|███       | 6/20 [01:15<02:57, 12.64s/it, gpu_load=2.08GB, loss=0.8384]"
          ]
        },
        {
          "output_type": "stream",
          "name": "stdout",
          "text": [
            "Frame shape: torch.Size([3, 224, 224]), Type: torch.float32\n",
            "Frame shape: torch.Size([3, 224, 224]), Type: torch.float32\n",
            "Frame shape: torch.Size([3, 224, 224]), Type: torch.float32\n",
            "Frame shape: torch.Size([3, 224, 224]), Type: torch.float32\n",
            "Frame shape: torch.Size([3, 224, 224]), Type: torch.float32\n",
            "Frame shape: torch.Size([3, 224, 224]), Type: torch.float32\n",
            "Frame shape: torch.Size([3, 224, 224]), Type: torch.float32\n",
            "Frame shape: torch.Size([3, 224, 224]), Type: torch.float32\n",
            "Frame shape: torch.Size([3, 224, 224]), Type: torch.float32\n",
            "Frame shape: torch.Size([3, 224, 224]), Type: torch.float32\n",
            "Frame shape: torch.Size([3, 224, 224]), Type: torch.float32\n",
            "Frame shape: torch.Size([3, 224, 224]), Type: torch.float32\n",
            "Frame shape: torch.Size([3, 224, 224]), Type: torch.float32\n",
            "Frame shape: torch.Size([3, 224, 224]), Type: torch.float32\n",
            "Frame shape: torch.Size([3, 224, 224]), Type: torch.float32\n",
            "Frame shape: torch.Size([3, 224, 224]), Type: torch.float32\n",
            "Frame shape: torch.Size([3, 224, 224]), Type: torch.float32\n",
            "Frame shape: torch.Size([3, 224, 224]), Type: torch.float32\n",
            "Frame shape: torch.Size([3, 224, 224]), Type: torch.float32\n",
            "Frame shape: torch.Size([3, 224, 224]), Type: torch.float32\n",
            "Frame shape: torch.Size([3, 224, 224]), Type: torch.float32\n",
            "Frame shape: torch.Size([3, 224, 224]), Type: torch.float32\n",
            "Frame shape: torch.Size([3, 224, 224]), Type: torch.float32\n",
            "Frame shape: torch.Size([3, 224, 224]), Type: torch.float32\n"
          ]
        },
        {
          "output_type": "stream",
          "name": "stderr",
          "text": [
            "Training:  35%|███▌      | 7/20 [01:28<02:44, 12.66s/it, gpu_load=2.08GB, loss=0.7607]"
          ]
        },
        {
          "output_type": "stream",
          "name": "stdout",
          "text": [
            "Frame shape: torch.Size([3, 224, 224]), Type: torch.float32\n",
            "Frame shape: torch.Size([3, 224, 224]), Type: torch.float32\n",
            "Frame shape: torch.Size([3, 224, 224]), Type: torch.float32\n",
            "Frame shape: torch.Size([3, 224, 224]), Type: torch.float32\n",
            "Frame shape: torch.Size([3, 224, 224]), Type: torch.float32\n",
            "Frame shape: torch.Size([3, 224, 224]), Type: torch.float32\n",
            "Frame shape: torch.Size([3, 224, 224]), Type: torch.float32\n",
            "Frame shape: torch.Size([3, 224, 224]), Type: torch.float32\n",
            "Frame shape: torch.Size([3, 224, 224]), Type: torch.float32\n",
            "Frame shape: torch.Size([3, 224, 224]), Type: torch.float32\n",
            "Frame shape: torch.Size([3, 224, 224]), Type: torch.float32\n",
            "Frame shape: torch.Size([3, 224, 224]), Type: torch.float32\n",
            "Frame shape: torch.Size([3, 224, 224]), Type: torch.float32\n",
            "Frame shape: torch.Size([3, 224, 224]), Type: torch.float32\n",
            "Frame shape: torch.Size([3, 224, 224]), Type: torch.float32\n",
            "Frame shape: torch.Size([3, 224, 224]), Type: torch.float32\n",
            "Frame shape: torch.Size([3, 224, 224]), Type: torch.float32\n",
            "Frame shape: torch.Size([3, 224, 224]), Type: torch.float32\n",
            "Frame shape: torch.Size([3, 224, 224]), Type: torch.float32\n",
            "Frame shape: torch.Size([3, 224, 224]), Type: torch.float32\n",
            "Frame shape: torch.Size([3, 224, 224]), Type: torch.float32\n",
            "Frame shape: torch.Size([3, 224, 224]), Type: torch.float32\n",
            "Frame shape: torch.Size([3, 224, 224]), Type: torch.float32\n",
            "Frame shape: torch.Size([3, 224, 224]), Type: torch.float32\n"
          ]
        },
        {
          "output_type": "stream",
          "name": "stderr",
          "text": [
            "Training:  40%|████      | 8/20 [01:41<02:34, 12.91s/it, gpu_load=2.08GB, loss=0.6456]"
          ]
        },
        {
          "output_type": "stream",
          "name": "stdout",
          "text": [
            "Frame shape: torch.Size([3, 224, 224]), Type: torch.float32\n",
            "Frame shape: torch.Size([3, 224, 224]), Type: torch.float32\n",
            "Frame shape: torch.Size([3, 224, 224]), Type: torch.float32\n",
            "Frame shape: torch.Size([3, 224, 224]), Type: torch.float32\n",
            "Frame shape: torch.Size([3, 224, 224]), Type: torch.float32\n",
            "Frame shape: torch.Size([3, 224, 224]), Type: torch.float32\n",
            "Frame shape: torch.Size([3, 224, 224]), Type: torch.float32\n",
            "Frame shape: torch.Size([3, 224, 224]), Type: torch.float32\n",
            "Frame shape: torch.Size([3, 224, 224]), Type: torch.float32\n",
            "Frame shape: torch.Size([3, 224, 224]), Type: torch.float32\n",
            "Frame shape: torch.Size([3, 224, 224]), Type: torch.float32\n",
            "Frame shape: torch.Size([3, 224, 224]), Type: torch.float32\n",
            "Frame shape: torch.Size([3, 224, 224]), Type: torch.float32\n",
            "Frame shape: torch.Size([3, 224, 224]), Type: torch.float32\n",
            "Frame shape: torch.Size([3, 224, 224]), Type: torch.float32\n",
            "Frame shape: torch.Size([3, 224, 224]), Type: torch.float32\n",
            "Frame shape: torch.Size([3, 224, 224]), Type: torch.float32\n",
            "Frame shape: torch.Size([3, 224, 224]), Type: torch.float32\n",
            "Frame shape: torch.Size([3, 224, 224]), Type: torch.float32\n",
            "Frame shape: torch.Size([3, 224, 224]), Type: torch.float32\n",
            "Frame shape: torch.Size([3, 224, 224]), Type: torch.float32\n",
            "Frame shape: torch.Size([3, 224, 224]), Type: torch.float32\n",
            "Frame shape: torch.Size([3, 224, 224]), Type: torch.float32\n",
            "Frame shape: torch.Size([3, 224, 224]), Type: torch.float32\n"
          ]
        },
        {
          "output_type": "stream",
          "name": "stderr",
          "text": [
            "Training:  45%|████▌     | 9/20 [01:55<02:24, 13.10s/it, gpu_load=2.08GB, loss=1.3075]"
          ]
        },
        {
          "output_type": "stream",
          "name": "stdout",
          "text": [
            "Frame shape: torch.Size([3, 224, 224]), Type: torch.float32\n",
            "Frame shape: torch.Size([3, 224, 224]), Type: torch.float32\n",
            "Frame shape: torch.Size([3, 224, 224]), Type: torch.float32\n",
            "Frame shape: torch.Size([3, 224, 224]), Type: torch.float32\n",
            "Frame shape: torch.Size([3, 224, 224]), Type: torch.float32\n",
            "Frame shape: torch.Size([3, 224, 224]), Type: torch.float32\n",
            "Frame shape: torch.Size([3, 224, 224]), Type: torch.float32\n",
            "Frame shape: torch.Size([3, 224, 224]), Type: torch.float32\n",
            "Frame shape: torch.Size([3, 224, 224]), Type: torch.float32\n",
            "Frame shape: torch.Size([3, 224, 224]), Type: torch.float32\n",
            "Frame shape: torch.Size([3, 224, 224]), Type: torch.float32\n",
            "Frame shape: torch.Size([3, 224, 224]), Type: torch.float32\n",
            "Frame shape: torch.Size([3, 224, 224]), Type: torch.float32\n",
            "Frame shape: torch.Size([3, 224, 224]), Type: torch.float32\n",
            "Frame shape: torch.Size([3, 224, 224]), Type: torch.float32\n",
            "Frame shape: torch.Size([3, 224, 224]), Type: torch.float32\n",
            "Frame shape: torch.Size([3, 224, 224]), Type: torch.float32\n",
            "Frame shape: torch.Size([3, 224, 224]), Type: torch.float32\n",
            "Frame shape: torch.Size([3, 224, 224]), Type: torch.float32\n",
            "Frame shape: torch.Size([3, 224, 224]), Type: torch.float32\n",
            "Frame shape: torch.Size([3, 224, 224]), Type: torch.float32\n",
            "Frame shape: torch.Size([3, 224, 224]), Type: torch.float32\n",
            "Frame shape: torch.Size([3, 224, 224]), Type: torch.float32\n",
            "Frame shape: torch.Size([3, 224, 224]), Type: torch.float32\n",
            "Frame shape: torch.Size([3, 224, 224]), Type: torch.float32\n"
          ]
        },
        {
          "output_type": "stream",
          "name": "stderr",
          "text": [
            "Training:  50%|█████     | 10/20 [02:06<02:04, 12.44s/it, gpu_load=2.07GB, loss=0.8997]"
          ]
        },
        {
          "output_type": "stream",
          "name": "stdout",
          "text": [
            "Frame shape: torch.Size([3, 224, 224]), Type: torch.float32\n",
            "Frame shape: torch.Size([3, 224, 224]), Type: torch.float32\n",
            "Frame shape: torch.Size([3, 224, 224]), Type: torch.float32\n",
            "Frame shape: torch.Size([3, 224, 224]), Type: torch.float32\n",
            "Frame shape: torch.Size([3, 224, 224]), Type: torch.float32\n",
            "Frame shape: torch.Size([3, 224, 224]), Type: torch.float32\n",
            "Frame shape: torch.Size([3, 224, 224]), Type: torch.float32\n",
            "Frame shape: torch.Size([3, 224, 224]), Type: torch.float32\n",
            "Frame shape: torch.Size([3, 224, 224]), Type: torch.float32\n",
            "Frame shape: torch.Size([3, 224, 224]), Type: torch.float32\n",
            "Frame shape: torch.Size([3, 224, 224]), Type: torch.float32\n",
            "Frame shape: torch.Size([3, 224, 224]), Type: torch.float32\n",
            "Frame shape: torch.Size([3, 224, 224]), Type: torch.float32\n",
            "Frame shape: torch.Size([3, 224, 224]), Type: torch.float32\n",
            "Frame shape: torch.Size([3, 224, 224]), Type: torch.float32\n",
            "Frame shape: torch.Size([3, 224, 224]), Type: torch.float32\n",
            "Frame shape: torch.Size([3, 224, 224]), Type: torch.float32\n",
            "Frame shape: torch.Size([3, 224, 224]), Type: torch.float32\n",
            "Frame shape: torch.Size([3, 224, 224]), Type: torch.float32\n",
            "Frame shape: torch.Size([3, 224, 224]), Type: torch.float32\n",
            "Frame shape: torch.Size([3, 224, 224]), Type: torch.float32\n",
            "Frame shape: torch.Size([3, 224, 224]), Type: torch.float32\n",
            "Frame shape: torch.Size([3, 224, 224]), Type: torch.float32\n"
          ]
        },
        {
          "output_type": "stream",
          "name": "stderr",
          "text": [
            "Training:  55%|█████▌    | 11/20 [02:18<01:51, 12.43s/it, gpu_load=2.08GB, loss=0.6096]"
          ]
        },
        {
          "output_type": "stream",
          "name": "stdout",
          "text": [
            "Frame shape: torch.Size([3, 224, 224]), Type: torch.float32\n",
            "Frame shape: torch.Size([3, 224, 224]), Type: torch.float32\n",
            "Frame shape: torch.Size([3, 224, 224]), Type: torch.float32\n",
            "Frame shape: torch.Size([3, 224, 224]), Type: torch.float32\n",
            "Frame shape: torch.Size([3, 224, 224]), Type: torch.float32\n",
            "Frame shape: torch.Size([3, 224, 224]), Type: torch.float32\n",
            "Frame shape: torch.Size([3, 224, 224]), Type: torch.float32\n",
            "Frame shape: torch.Size([3, 224, 224]), Type: torch.float32\n",
            "Frame shape: torch.Size([3, 224, 224]), Type: torch.float32\n",
            "Frame shape: torch.Size([3, 224, 224]), Type: torch.float32\n",
            "Frame shape: torch.Size([3, 224, 224]), Type: torch.float32\n",
            "Frame shape: torch.Size([3, 224, 224]), Type: torch.float32\n",
            "Frame shape: torch.Size([3, 224, 224]), Type: torch.float32\n",
            "Frame shape: torch.Size([3, 224, 224]), Type: torch.float32\n",
            "Frame shape: torch.Size([3, 224, 224]), Type: torch.float32\n",
            "Frame shape: torch.Size([3, 224, 224]), Type: torch.float32\n",
            "Frame shape: torch.Size([3, 224, 224]), Type: torch.float32\n",
            "Frame shape: torch.Size([3, 224, 224]), Type: torch.float32\n",
            "Frame shape: torch.Size([3, 224, 224]), Type: torch.float32\n",
            "Frame shape: torch.Size([3, 224, 224]), Type: torch.float32\n",
            "Frame shape: torch.Size([3, 224, 224]), Type: torch.float32\n",
            "Frame shape: torch.Size([3, 224, 224]), Type: torch.float32\n",
            "Frame shape: torch.Size([3, 224, 224]), Type: torch.float32\n",
            "Frame shape: torch.Size([3, 224, 224]), Type: torch.float32\n",
            "Frame shape: torch.Size([3, 224, 224]), Type: torch.float32\n"
          ]
        },
        {
          "output_type": "stream",
          "name": "stderr",
          "text": [
            "Training:  60%|██████    | 12/20 [02:32<01:42, 12.76s/it, gpu_load=2.08GB, loss=0.6914]"
          ]
        },
        {
          "output_type": "stream",
          "name": "stdout",
          "text": [
            "Frame shape: torch.Size([3, 224, 224]), Type: torch.float32\n",
            "Frame shape: torch.Size([3, 224, 224]), Type: torch.float32\n",
            "Frame shape: torch.Size([3, 224, 224]), Type: torch.float32\n",
            "Frame shape: torch.Size([3, 224, 224]), Type: torch.float32\n",
            "Frame shape: torch.Size([3, 224, 224]), Type: torch.float32\n",
            "Frame shape: torch.Size([3, 224, 224]), Type: torch.float32\n",
            "Frame shape: torch.Size([3, 224, 224]), Type: torch.float32\n",
            "Frame shape: torch.Size([3, 224, 224]), Type: torch.float32\n",
            "Frame shape: torch.Size([3, 224, 224]), Type: torch.float32\n",
            "Frame shape: torch.Size([3, 224, 224]), Type: torch.float32\n",
            "Frame shape: torch.Size([3, 224, 224]), Type: torch.float32\n",
            "Frame shape: torch.Size([3, 224, 224]), Type: torch.float32\n",
            "Frame shape: torch.Size([3, 224, 224]), Type: torch.float32\n",
            "Frame shape: torch.Size([3, 224, 224]), Type: torch.float32\n",
            "Frame shape: torch.Size([3, 224, 224]), Type: torch.float32\n",
            "Frame shape: torch.Size([3, 224, 224]), Type: torch.float32\n",
            "Frame shape: torch.Size([3, 224, 224]), Type: torch.float32\n",
            "Frame shape: torch.Size([3, 224, 224]), Type: torch.float32\n",
            "Frame shape: torch.Size([3, 224, 224]), Type: torch.float32\n",
            "Frame shape: torch.Size([3, 224, 224]), Type: torch.float32\n",
            "Frame shape: torch.Size([3, 224, 224]), Type: torch.float32\n",
            "Frame shape: torch.Size([3, 224, 224]), Type: torch.float32\n",
            "Frame shape: torch.Size([3, 224, 224]), Type: torch.float32\n"
          ]
        },
        {
          "output_type": "stream",
          "name": "stderr",
          "text": [
            "Training:  65%|██████▌   | 13/20 [02:43<01:26, 12.40s/it, gpu_load=2.08GB, loss=0.5964]"
          ]
        },
        {
          "output_type": "stream",
          "name": "stdout",
          "text": [
            "Frame shape: torch.Size([3, 224, 224]), Type: torch.float32\n",
            "Frame shape: torch.Size([3, 224, 224]), Type: torch.float32\n",
            "Frame shape: torch.Size([3, 224, 224]), Type: torch.float32\n",
            "Frame shape: torch.Size([3, 224, 224]), Type: torch.float32\n",
            "Frame shape: torch.Size([3, 224, 224]), Type: torch.float32\n",
            "Frame shape: torch.Size([3, 224, 224]), Type: torch.float32\n",
            "Frame shape: torch.Size([3, 224, 224]), Type: torch.float32\n",
            "Frame shape: torch.Size([3, 224, 224]), Type: torch.float32\n",
            "Frame shape: torch.Size([3, 224, 224]), Type: torch.float32\n",
            "Frame shape: torch.Size([3, 224, 224]), Type: torch.float32\n",
            "Frame shape: torch.Size([3, 224, 224]), Type: torch.float32\n",
            "Frame shape: torch.Size([3, 224, 224]), Type: torch.float32\n",
            "Frame shape: torch.Size([3, 224, 224]), Type: torch.float32\n",
            "Frame shape: torch.Size([3, 224, 224]), Type: torch.float32\n",
            "Frame shape: torch.Size([3, 224, 224]), Type: torch.float32\n",
            "Frame shape: torch.Size([3, 224, 224]), Type: torch.float32\n",
            "Frame shape: torch.Size([3, 224, 224]), Type: torch.float32\n",
            "Frame shape: torch.Size([3, 224, 224]), Type: torch.float32\n",
            "Frame shape: torch.Size([3, 224, 224]), Type: torch.float32\n",
            "Frame shape: torch.Size([3, 224, 224]), Type: torch.float32\n",
            "Frame shape: torch.Size([3, 224, 224]), Type: torch.float32\n",
            "Frame shape: torch.Size([3, 224, 224]), Type: torch.float32\n",
            "Frame shape: torch.Size([3, 224, 224]), Type: torch.float32\n",
            "Frame shape: torch.Size([3, 224, 224]), Type: torch.float32\n"
          ]
        },
        {
          "output_type": "stream",
          "name": "stderr",
          "text": [
            "Training:  70%|███████   | 14/20 [02:56<01:15, 12.59s/it, gpu_load=2.08GB, loss=0.6106]"
          ]
        },
        {
          "output_type": "stream",
          "name": "stdout",
          "text": [
            "Frame shape: torch.Size([3, 224, 224]), Type: torch.float32\n",
            "Frame shape: torch.Size([3, 224, 224]), Type: torch.float32\n",
            "Frame shape: torch.Size([3, 224, 224]), Type: torch.float32\n",
            "Frame shape: torch.Size([3, 224, 224]), Type: torch.float32\n",
            "Frame shape: torch.Size([3, 224, 224]), Type: torch.float32\n",
            "Frame shape: torch.Size([3, 224, 224]), Type: torch.float32\n",
            "Frame shape: torch.Size([3, 224, 224]), Type: torch.float32\n",
            "Frame shape: torch.Size([3, 224, 224]), Type: torch.float32\n",
            "Frame shape: torch.Size([3, 224, 224]), Type: torch.float32\n",
            "Frame shape: torch.Size([3, 224, 224]), Type: torch.float32\n",
            "Frame shape: torch.Size([3, 224, 224]), Type: torch.float32\n",
            "Frame shape: torch.Size([3, 224, 224]), Type: torch.float32\n",
            "Frame shape: torch.Size([3, 224, 224]), Type: torch.float32\n",
            "Frame shape: torch.Size([3, 224, 224]), Type: torch.float32\n",
            "Frame shape: torch.Size([3, 224, 224]), Type: torch.float32\n",
            "Frame shape: torch.Size([3, 224, 224]), Type: torch.float32\n",
            "Frame shape: torch.Size([3, 224, 224]), Type: torch.float32\n",
            "Frame shape: torch.Size([3, 224, 224]), Type: torch.float32\n",
            "Frame shape: torch.Size([3, 224, 224]), Type: torch.float32\n",
            "Frame shape: torch.Size([3, 224, 224]), Type: torch.float32\n",
            "Frame shape: torch.Size([3, 224, 224]), Type: torch.float32\n",
            "Frame shape: torch.Size([3, 224, 224]), Type: torch.float32\n",
            "Frame shape: torch.Size([3, 224, 224]), Type: torch.float32\n",
            "Frame shape: torch.Size([3, 224, 224]), Type: torch.float32\n"
          ]
        },
        {
          "output_type": "stream",
          "name": "stderr",
          "text": [
            "Training:  75%|███████▌  | 15/20 [03:09<01:02, 12.56s/it, gpu_load=2.08GB, loss=0.8993]"
          ]
        },
        {
          "output_type": "stream",
          "name": "stdout",
          "text": [
            "Frame shape: torch.Size([3, 224, 224]), Type: torch.float32\n",
            "Frame shape: torch.Size([3, 224, 224]), Type: torch.float32\n",
            "Frame shape: torch.Size([3, 224, 224]), Type: torch.float32\n",
            "Frame shape: torch.Size([3, 224, 224]), Type: torch.float32\n",
            "Frame shape: torch.Size([3, 224, 224]), Type: torch.float32\n",
            "Frame shape: torch.Size([3, 224, 224]), Type: torch.float32\n",
            "Frame shape: torch.Size([3, 224, 224]), Type: torch.float32\n",
            "Frame shape: torch.Size([3, 224, 224]), Type: torch.float32\n",
            "Frame shape: torch.Size([3, 224, 224]), Type: torch.float32\n",
            "Frame shape: torch.Size([3, 224, 224]), Type: torch.float32\n",
            "Frame shape: torch.Size([3, 224, 224]), Type: torch.float32\n",
            "Frame shape: torch.Size([3, 224, 224]), Type: torch.float32\n",
            "Frame shape: torch.Size([3, 224, 224]), Type: torch.float32\n",
            "Frame shape: torch.Size([3, 224, 224]), Type: torch.float32\n",
            "Frame shape: torch.Size([3, 224, 224]), Type: torch.float32\n",
            "Frame shape: torch.Size([3, 224, 224]), Type: torch.float32\n",
            "Frame shape: torch.Size([3, 224, 224]), Type: torch.float32\n",
            "Frame shape: torch.Size([3, 224, 224]), Type: torch.float32\n",
            "Frame shape: torch.Size([3, 224, 224]), Type: torch.float32\n",
            "Frame shape: torch.Size([3, 224, 224]), Type: torch.float32\n",
            "Frame shape: torch.Size([3, 224, 224]), Type: torch.float32\n",
            "Frame shape: torch.Size([3, 224, 224]), Type: torch.float32\n",
            "Frame shape: torch.Size([3, 224, 224]), Type: torch.float32\n",
            "Frame shape: torch.Size([3, 224, 224]), Type: torch.float32\n"
          ]
        },
        {
          "output_type": "stream",
          "name": "stderr",
          "text": [
            "Training:  80%|████████  | 16/20 [03:23<00:51, 12.98s/it, gpu_load=2.08GB, loss=0.6235]"
          ]
        },
        {
          "output_type": "stream",
          "name": "stdout",
          "text": [
            "Frame shape: torch.Size([3, 224, 224]), Type: torch.float32\n",
            "Frame shape: torch.Size([3, 224, 224]), Type: torch.float32\n",
            "Frame shape: torch.Size([3, 224, 224]), Type: torch.float32\n",
            "Frame shape: torch.Size([3, 224, 224]), Type: torch.float32\n",
            "Frame shape: torch.Size([3, 224, 224]), Type: torch.float32\n",
            "Frame shape: torch.Size([3, 224, 224]), Type: torch.float32\n",
            "Frame shape: torch.Size([3, 224, 224]), Type: torch.float32\n",
            "Frame shape: torch.Size([3, 224, 224]), Type: torch.float32\n",
            "Frame shape: torch.Size([3, 224, 224]), Type: torch.float32\n",
            "Frame shape: torch.Size([3, 224, 224]), Type: torch.float32\n",
            "Frame shape: torch.Size([3, 224, 224]), Type: torch.float32\n",
            "Frame shape: torch.Size([3, 224, 224]), Type: torch.float32\n",
            "Frame shape: torch.Size([3, 224, 224]), Type: torch.float32\n",
            "Frame shape: torch.Size([3, 224, 224]), Type: torch.float32\n",
            "Frame shape: torch.Size([3, 224, 224]), Type: torch.float32\n",
            "Frame shape: torch.Size([3, 224, 224]), Type: torch.float32\n",
            "Frame shape: torch.Size([3, 224, 224]), Type: torch.float32\n",
            "Frame shape: torch.Size([3, 224, 224]), Type: torch.float32\n",
            "Frame shape: torch.Size([3, 224, 224]), Type: torch.float32\n",
            "Frame shape: torch.Size([3, 224, 224]), Type: torch.float32\n",
            "Frame shape: torch.Size([3, 224, 224]), Type: torch.float32\n",
            "Frame shape: torch.Size([3, 224, 224]), Type: torch.float32\n",
            "Frame shape: torch.Size([3, 224, 224]), Type: torch.float32\n",
            "Frame shape: torch.Size([3, 224, 224]), Type: torch.float32\n"
          ]
        },
        {
          "output_type": "stream",
          "name": "stderr",
          "text": [
            "Training:  85%|████████▌ | 17/20 [03:37<00:39, 13.27s/it, gpu_load=2.08GB, loss=0.9320]"
          ]
        },
        {
          "output_type": "stream",
          "name": "stdout",
          "text": [
            "Frame shape: torch.Size([3, 224, 224]), Type: torch.float32\n",
            "Frame shape: torch.Size([3, 224, 224]), Type: torch.float32\n",
            "Frame shape: torch.Size([3, 224, 224]), Type: torch.float32\n",
            "Frame shape: torch.Size([3, 224, 224]), Type: torch.float32\n",
            "Frame shape: torch.Size([3, 224, 224]), Type: torch.float32\n",
            "Frame shape: torch.Size([3, 224, 224]), Type: torch.float32\n",
            "Frame shape: torch.Size([3, 224, 224]), Type: torch.float32\n",
            "Frame shape: torch.Size([3, 224, 224]), Type: torch.float32\n",
            "Frame shape: torch.Size([3, 224, 224]), Type: torch.float32\n",
            "Frame shape: torch.Size([3, 224, 224]), Type: torch.float32\n",
            "Frame shape: torch.Size([3, 224, 224]), Type: torch.float32\n",
            "Frame shape: torch.Size([3, 224, 224]), Type: torch.float32\n",
            "Frame shape: torch.Size([3, 224, 224]), Type: torch.float32\n",
            "Frame shape: torch.Size([3, 224, 224]), Type: torch.float32\n",
            "Frame shape: torch.Size([3, 224, 224]), Type: torch.float32\n",
            "Frame shape: torch.Size([3, 224, 224]), Type: torch.float32\n",
            "Frame shape: torch.Size([3, 224, 224]), Type: torch.float32\n",
            "Frame shape: torch.Size([3, 224, 224]), Type: torch.float32\n",
            "Frame shape: torch.Size([3, 224, 224]), Type: torch.float32\n",
            "Frame shape: torch.Size([3, 224, 224]), Type: torch.float32\n",
            "Frame shape: torch.Size([3, 224, 224]), Type: torch.float32\n",
            "Frame shape: torch.Size([3, 224, 224]), Type: torch.float32\n",
            "Frame shape: torch.Size([3, 224, 224]), Type: torch.float32\n",
            "Frame shape: torch.Size([3, 224, 224]), Type: torch.float32\n"
          ]
        },
        {
          "output_type": "stream",
          "name": "stderr",
          "text": [
            "Training:  90%|█████████ | 18/20 [03:50<00:26, 13.30s/it, gpu_load=2.08GB, loss=0.6618]"
          ]
        },
        {
          "output_type": "stream",
          "name": "stdout",
          "text": [
            "Frame shape: torch.Size([3, 224, 224]), Type: torch.float32\n",
            "Frame shape: torch.Size([3, 224, 224]), Type: torch.float32\n",
            "Frame shape: torch.Size([3, 224, 224]), Type: torch.float32\n",
            "Frame shape: torch.Size([3, 224, 224]), Type: torch.float32\n",
            "Frame shape: torch.Size([3, 224, 224]), Type: torch.float32\n",
            "Frame shape: torch.Size([3, 224, 224]), Type: torch.float32\n",
            "Frame shape: torch.Size([3, 224, 224]), Type: torch.float32\n",
            "Frame shape: torch.Size([3, 224, 224]), Type: torch.float32\n",
            "Frame shape: torch.Size([3, 224, 224]), Type: torch.float32\n",
            "Frame shape: torch.Size([3, 224, 224]), Type: torch.float32\n",
            "Frame shape: torch.Size([3, 224, 224]), Type: torch.float32\n",
            "Frame shape: torch.Size([3, 224, 224]), Type: torch.float32\n",
            "Frame shape: torch.Size([3, 224, 224]), Type: torch.float32\n",
            "Frame shape: torch.Size([3, 224, 224]), Type: torch.float32\n",
            "Frame shape: torch.Size([3, 224, 224]), Type: torch.float32\n",
            "Frame shape: torch.Size([3, 224, 224]), Type: torch.float32\n",
            "Frame shape: torch.Size([3, 224, 224]), Type: torch.float32\n",
            "Frame shape: torch.Size([3, 224, 224]), Type: torch.float32\n",
            "Frame shape: torch.Size([3, 224, 224]), Type: torch.float32\n",
            "Frame shape: torch.Size([3, 224, 224]), Type: torch.float32\n",
            "Frame shape: torch.Size([3, 224, 224]), Type: torch.float32\n",
            "Frame shape: torch.Size([3, 224, 224]), Type: torch.float32\n",
            "Frame shape: torch.Size([3, 224, 224]), Type: torch.float32\n",
            "Frame shape: torch.Size([3, 224, 224]), Type: torch.float32\n"
          ]
        },
        {
          "output_type": "stream",
          "name": "stderr",
          "text": [
            "Training:  95%|█████████▌| 19/20 [04:03<00:13, 13.25s/it, gpu_load=2.08GB, loss=0.7982]"
          ]
        },
        {
          "output_type": "stream",
          "name": "stdout",
          "text": [
            "Frame shape: torch.Size([3, 224, 224]), Type: torch.float32\n",
            "Frame shape: torch.Size([3, 224, 224]), Type: torch.float32\n",
            "Frame shape: torch.Size([3, 224, 224]), Type: torch.float32\n",
            "Frame shape: torch.Size([3, 224, 224]), Type: torch.float32\n",
            "Frame shape: torch.Size([3, 224, 224]), Type: torch.float32\n",
            "Frame shape: torch.Size([3, 224, 224]), Type: torch.float32\n",
            "Frame shape: torch.Size([3, 224, 224]), Type: torch.float32\n",
            "Frame shape: torch.Size([3, 224, 224]), Type: torch.float32\n",
            "Frame shape: torch.Size([3, 224, 224]), Type: torch.float32\n",
            "Frame shape: torch.Size([3, 224, 224]), Type: torch.float32\n",
            "Frame shape: torch.Size([3, 224, 224]), Type: torch.float32\n",
            "Frame shape: torch.Size([3, 224, 224]), Type: torch.float32\n",
            "Frame shape: torch.Size([3, 224, 224]), Type: torch.float32\n",
            "Frame shape: torch.Size([3, 224, 224]), Type: torch.float32\n",
            "Frame shape: torch.Size([3, 224, 224]), Type: torch.float32\n",
            "Frame shape: torch.Size([3, 224, 224]), Type: torch.float32\n",
            "Frame shape: torch.Size([3, 224, 224]), Type: torch.float32\n",
            "Frame shape: torch.Size([3, 224, 224]), Type: torch.float32\n",
            "Frame shape: torch.Size([3, 224, 224]), Type: torch.float32\n",
            "Frame shape: torch.Size([3, 224, 224]), Type: torch.float32\n",
            "Frame shape: torch.Size([3, 224, 224]), Type: torch.float32\n"
          ]
        },
        {
          "output_type": "stream",
          "name": "stderr",
          "text": [
            "Training: 100%|██████████| 20/20 [04:15<00:00, 12.77s/it, gpu_load=1.82GB, loss=0.6402]\n"
          ]
        },
        {
          "output_type": "stream",
          "name": "stdout",
          "text": [
            "Frame shape: torch.Size([3, 224, 224]), Type: torch.float32\n"
          ]
        },
        {
          "output_type": "stream",
          "name": "stderr",
          "text": [
            "\rTesting:   0%|          | 0/5 [00:00<?, ?it/s]"
          ]
        },
        {
          "output_type": "stream",
          "name": "stdout",
          "text": [
            "Frame shape: torch.Size([3, 224, 224]), Type: torch.float32\n",
            "Frame shape: torch.Size([3, 224, 224]), Type: torch.float32\n",
            "Frame shape: torch.Size([3, 224, 224]), Type: torch.float32\n",
            "Frame shape: torch.Size([3, 224, 224]), Type: torch.float32\n",
            "Frame shape: torch.Size([3, 224, 224]), Type: torch.float32\n",
            "Frame shape: torch.Size([3, 224, 224]), Type: torch.float32\n",
            "Frame shape: torch.Size([3, 224, 224]), Type: torch.float32\n",
            "Frame shape: torch.Size([3, 224, 224]), Type: torch.float32\n",
            "Frame shape: torch.Size([3, 224, 224]), Type: torch.float32\n",
            "Frame shape: torch.Size([3, 224, 224]), Type: torch.float32\n",
            "Frame shape: torch.Size([3, 224, 224]), Type: torch.float32\n",
            "Frame shape: torch.Size([3, 224, 224]), Type: torch.float32\n",
            "Frame shape: torch.Size([3, 224, 224]), Type: torch.float32\n",
            "Frame shape: torch.Size([3, 224, 224]), Type: torch.float32\n",
            "Frame shape: torch.Size([3, 224, 224]), Type: torch.float32\n",
            "Frame shape: torch.Size([3, 224, 224]), Type: torch.float32\n",
            "Frame shape: torch.Size([3, 224, 224]), Type: torch.float32\n",
            "Frame shape: torch.Size([3, 224, 224]), Type: torch.float32\n",
            "Frame shape: torch.Size([3, 224, 224]), Type: torch.float32\n",
            "Frame shape: torch.Size([3, 224, 224]), Type: torch.float32\n",
            "Frame shape: torch.Size([3, 224, 224]), Type: torch.float32\n",
            "Frame shape: torch.Size([3, 224, 224]), Type: torch.float32\n",
            "Frame shape: torch.Size([3, 224, 224]), Type: torch.float32\n"
          ]
        },
        {
          "output_type": "stream",
          "name": "stderr",
          "text": [
            "Testing:  20%|██        | 1/5 [00:13<00:54, 13.72s/it, loss=2.7429]"
          ]
        },
        {
          "output_type": "stream",
          "name": "stdout",
          "text": [
            "Frame shape: torch.Size([3, 224, 224]), Type: torch.float32\n",
            "Frame shape: torch.Size([3, 224, 224]), Type: torch.float32\n",
            "Frame shape: torch.Size([3, 224, 224]), Type: torch.float32\n",
            "Frame shape: torch.Size([3, 224, 224]), Type: torch.float32\n",
            "Frame shape: torch.Size([3, 224, 224]), Type: torch.float32\n",
            "Frame shape: torch.Size([3, 224, 224]), Type: torch.float32\n",
            "Frame shape: torch.Size([3, 224, 224]), Type: torch.float32\n",
            "Frame shape: torch.Size([3, 224, 224]), Type: torch.float32\n",
            "Frame shape: torch.Size([3, 224, 224]), Type: torch.float32\n",
            "Frame shape: torch.Size([3, 224, 224]), Type: torch.float32\n",
            "Frame shape: torch.Size([3, 224, 224]), Type: torch.float32\n",
            "Frame shape: torch.Size([3, 224, 224]), Type: torch.float32\n",
            "Frame shape: torch.Size([3, 224, 224]), Type: torch.float32\n",
            "Frame shape: torch.Size([3, 224, 224]), Type: torch.float32\n",
            "Frame shape: torch.Size([3, 224, 224]), Type: torch.float32\n",
            "Frame shape: torch.Size([3, 224, 224]), Type: torch.float32\n",
            "Frame shape: torch.Size([3, 224, 224]), Type: torch.float32\n",
            "Frame shape: torch.Size([3, 224, 224]), Type: torch.float32\n",
            "Frame shape: torch.Size([3, 224, 224]), Type: torch.float32\n",
            "Frame shape: torch.Size([3, 224, 224]), Type: torch.float32\n",
            "Frame shape: torch.Size([3, 224, 224]), Type: torch.float32\n",
            "Frame shape: torch.Size([3, 224, 224]), Type: torch.float32\n",
            "Frame shape: torch.Size([3, 224, 224]), Type: torch.float32\n",
            "Frame shape: torch.Size([3, 224, 224]), Type: torch.float32\n"
          ]
        },
        {
          "output_type": "stream",
          "name": "stderr",
          "text": [
            "Testing:  40%|████      | 2/5 [00:25<00:37, 12.54s/it, loss=2.5398]"
          ]
        },
        {
          "output_type": "stream",
          "name": "stdout",
          "text": [
            "Frame shape: torch.Size([3, 224, 224]), Type: torch.float32\n",
            "Frame shape: torch.Size([3, 224, 224]), Type: torch.float32\n",
            "Frame shape: torch.Size([3, 224, 224]), Type: torch.float32\n",
            "Frame shape: torch.Size([3, 224, 224]), Type: torch.float32\n",
            "Frame shape: torch.Size([3, 224, 224]), Type: torch.float32\n",
            "Frame shape: torch.Size([3, 224, 224]), Type: torch.float32\n",
            "Frame shape: torch.Size([3, 224, 224]), Type: torch.float32\n",
            "Frame shape: torch.Size([3, 224, 224]), Type: torch.float32\n",
            "Frame shape: torch.Size([3, 224, 224]), Type: torch.float32\n",
            "Frame shape: torch.Size([3, 224, 224]), Type: torch.float32\n",
            "Frame shape: torch.Size([3, 224, 224]), Type: torch.float32\n",
            "Frame shape: torch.Size([3, 224, 224]), Type: torch.float32\n",
            "Frame shape: torch.Size([3, 224, 224]), Type: torch.float32\n",
            "Frame shape: torch.Size([3, 224, 224]), Type: torch.float32\n",
            "Frame shape: torch.Size([3, 224, 224]), Type: torch.float32\n",
            "Frame shape: torch.Size([3, 224, 224]), Type: torch.float32\n",
            "Frame shape: torch.Size([3, 224, 224]), Type: torch.float32\n",
            "Frame shape: torch.Size([3, 224, 224]), Type: torch.float32\n",
            "Frame shape: torch.Size([3, 224, 224]), Type: torch.float32\n",
            "Frame shape: torch.Size([3, 224, 224]), Type: torch.float32\n",
            "Frame shape: torch.Size([3, 224, 224]), Type: torch.float32\n",
            "Frame shape: torch.Size([3, 224, 224]), Type: torch.float32\n",
            "Frame shape: torch.Size([3, 224, 224]), Type: torch.float32\n",
            "Frame shape: torch.Size([3, 224, 224]), Type: torch.float32\n"
          ]
        },
        {
          "output_type": "stream",
          "name": "stderr",
          "text": [
            "Testing:  60%|██████    | 3/5 [00:39<00:26, 13.32s/it, loss=1.8140]"
          ]
        },
        {
          "output_type": "stream",
          "name": "stdout",
          "text": [
            "Frame shape: torch.Size([3, 224, 224]), Type: torch.float32\n",
            "Frame shape: torch.Size([3, 224, 224]), Type: torch.float32\n",
            "Frame shape: torch.Size([3, 224, 224]), Type: torch.float32\n",
            "Frame shape: torch.Size([3, 224, 224]), Type: torch.float32\n",
            "Frame shape: torch.Size([3, 224, 224]), Type: torch.float32\n",
            "Frame shape: torch.Size([3, 224, 224]), Type: torch.float32\n",
            "Frame shape: torch.Size([3, 224, 224]), Type: torch.float32\n",
            "Frame shape: torch.Size([3, 224, 224]), Type: torch.float32\n",
            "Frame shape: torch.Size([3, 224, 224]), Type: torch.float32\n",
            "Frame shape: torch.Size([3, 224, 224]), Type: torch.float32\n",
            "Frame shape: torch.Size([3, 224, 224]), Type: torch.float32\n",
            "Frame shape: torch.Size([3, 224, 224]), Type: torch.float32\n",
            "Frame shape: torch.Size([3, 224, 224]), Type: torch.float32\n",
            "Frame shape: torch.Size([3, 224, 224]), Type: torch.float32\n",
            "Frame shape: torch.Size([3, 224, 224]), Type: torch.float32\n",
            "Frame shape: torch.Size([3, 224, 224]), Type: torch.float32\n",
            "Frame shape: torch.Size([3, 224, 224]), Type: torch.float32\n",
            "Frame shape: torch.Size([3, 224, 224]), Type: torch.float32\n",
            "Frame shape: torch.Size([3, 224, 224]), Type: torch.float32\n",
            "Frame shape: torch.Size([3, 224, 224]), Type: torch.float32\n",
            "Frame shape: torch.Size([3, 224, 224]), Type: torch.float32\n",
            "Frame shape: torch.Size([3, 224, 224]), Type: torch.float32\n",
            "Frame shape: torch.Size([3, 224, 224]), Type: torch.float32\n",
            "Frame shape: torch.Size([3, 224, 224]), Type: torch.float32\n",
            "Frame shape: torch.Size([3, 224, 224]), Type: torch.float32\n"
          ]
        },
        {
          "output_type": "stream",
          "name": "stderr",
          "text": [
            "Testing:  80%|████████  | 4/5 [00:52<00:12, 12.99s/it, loss=2.9147]"
          ]
        },
        {
          "output_type": "stream",
          "name": "stdout",
          "text": [
            "Frame shape: torch.Size([3, 224, 224]), Type: torch.float32\n",
            "Frame shape: torch.Size([3, 224, 224]), Type: torch.float32\n",
            "Frame shape: torch.Size([3, 224, 224]), Type: torch.float32\n",
            "Frame shape: torch.Size([3, 224, 224]), Type: torch.float32\n",
            "Frame shape: torch.Size([3, 224, 224]), Type: torch.float32\n",
            "Frame shape: torch.Size([3, 224, 224]), Type: torch.float32\n",
            "Frame shape: torch.Size([3, 224, 224]), Type: torch.float32\n",
            "Frame shape: torch.Size([3, 224, 224]), Type: torch.float32\n",
            "Frame shape: torch.Size([3, 224, 224]), Type: torch.float32\n",
            "Frame shape: torch.Size([3, 224, 224]), Type: torch.float32\n",
            "Frame shape: torch.Size([3, 224, 224]), Type: torch.float32\n",
            "Frame shape: torch.Size([3, 224, 224]), Type: torch.float32\n",
            "Frame shape: torch.Size([3, 224, 224]), Type: torch.float32\n",
            "Frame shape: torch.Size([3, 224, 224]), Type: torch.float32\n",
            "Frame shape: torch.Size([3, 224, 224]), Type: torch.float32\n",
            "Frame shape: torch.Size([3, 224, 224]), Type: torch.float32\n",
            "Frame shape: torch.Size([3, 224, 224]), Type: torch.float32\n",
            "Frame shape: torch.Size([3, 224, 224]), Type: torch.float32\n",
            "Frame shape: torch.Size([3, 224, 224]), Type: torch.float32\n",
            "Frame shape: torch.Size([3, 224, 224]), Type: torch.float32\n",
            "Frame shape: torch.Size([3, 224, 224]), Type: torch.float32\n",
            "Frame shape: torch.Size([3, 224, 224]), Type: torch.float32\n",
            "Frame shape: torch.Size([3, 224, 224]), Type: torch.float32\n"
          ]
        },
        {
          "output_type": "stream",
          "name": "stderr",
          "text": [
            "Testing: 100%|██████████| 5/5 [01:04<00:00, 12.85s/it, loss=3.2349]"
          ]
        },
        {
          "output_type": "stream",
          "name": "stdout",
          "text": [
            "Frame shape: torch.Size([3, 224, 224]), Type: torch.float32\n",
            "epoch: 9, lr_rate 0.00064\n",
            "loss_train: 0.7642| loss_valid: 2.6493|\n",
            "metric 0.266667\n",
            "Elapsed time: 00:05:19\n"
          ]
        },
        {
          "output_type": "stream",
          "name": "stderr",
          "text": [
            "\n"
          ]
        },
        {
          "output_type": "stream",
          "name": "stdout",
          "text": [
            "---------------------epoch:10/10---------------------\n"
          ]
        },
        {
          "output_type": "stream",
          "name": "stderr",
          "text": [
            "\rTraining:   0%|          | 0/20 [00:00<?, ?it/s]"
          ]
        },
        {
          "output_type": "stream",
          "name": "stdout",
          "text": [
            "Frame shape: torch.Size([3, 224, 224]), Type: torch.float32\n",
            "Frame shape: torch.Size([3, 224, 224]), Type: torch.float32\n",
            "Frame shape: torch.Size([3, 224, 224]), Type: torch.float32\n",
            "Frame shape: torch.Size([3, 224, 224]), Type: torch.float32\n",
            "Frame shape: torch.Size([3, 224, 224]), Type: torch.float32\n",
            "Frame shape: torch.Size([3, 224, 224]), Type: torch.float32\n",
            "Frame shape: torch.Size([3, 224, 224]), Type: torch.float32\n",
            "Frame shape: torch.Size([3, 224, 224]), Type: torch.float32\n",
            "Frame shape: torch.Size([3, 224, 224]), Type: torch.float32\n",
            "Frame shape: torch.Size([3, 224, 224]), Type: torch.float32\n",
            "Frame shape: torch.Size([3, 224, 224]), Type: torch.float32\n",
            "Frame shape: torch.Size([3, 224, 224]), Type: torch.float32\n",
            "Frame shape: torch.Size([3, 224, 224]), Type: torch.float32\n",
            "Frame shape: torch.Size([3, 224, 224]), Type: torch.float32\n",
            "Frame shape: torch.Size([3, 224, 224]), Type: torch.float32\n",
            "Frame shape: torch.Size([3, 224, 224]), Type: torch.float32\n",
            "Frame shape: torch.Size([3, 224, 224]), Type: torch.float32\n",
            "Frame shape: torch.Size([3, 224, 224]), Type: torch.float32\n",
            "Frame shape: torch.Size([3, 224, 224]), Type: torch.float32\n",
            "Frame shape: torch.Size([3, 224, 224]), Type: torch.float32\n",
            "Frame shape: torch.Size([3, 224, 224]), Type: torch.float32\n",
            "Frame shape: torch.Size([3, 224, 224]), Type: torch.float32\n",
            "Frame shape: torch.Size([3, 224, 224]), Type: torch.float32\n"
          ]
        },
        {
          "output_type": "stream",
          "name": "stderr",
          "text": [
            "Training:   5%|▌         | 1/20 [00:13<04:21, 13.74s/it, gpu_load=2.08GB, loss=0.5379]"
          ]
        },
        {
          "output_type": "stream",
          "name": "stdout",
          "text": [
            "Frame shape: torch.Size([3, 224, 224]), Type: torch.float32\n",
            "Frame shape: torch.Size([3, 224, 224]), Type: torch.float32\n",
            "Frame shape: torch.Size([3, 224, 224]), Type: torch.float32\n",
            "Frame shape: torch.Size([3, 224, 224]), Type: torch.float32\n",
            "Frame shape: torch.Size([3, 224, 224]), Type: torch.float32\n",
            "Frame shape: torch.Size([3, 224, 224]), Type: torch.float32\n",
            "Frame shape: torch.Size([3, 224, 224]), Type: torch.float32\n",
            "Frame shape: torch.Size([3, 224, 224]), Type: torch.float32\n",
            "Frame shape: torch.Size([3, 224, 224]), Type: torch.float32\n",
            "Frame shape: torch.Size([3, 224, 224]), Type: torch.float32\n",
            "Frame shape: torch.Size([3, 224, 224]), Type: torch.float32\n",
            "Frame shape: torch.Size([3, 224, 224]), Type: torch.float32\n",
            "Frame shape: torch.Size([3, 224, 224]), Type: torch.float32\n",
            "Frame shape: torch.Size([3, 224, 224]), Type: torch.float32\n",
            "Frame shape: torch.Size([3, 224, 224]), Type: torch.float32\n",
            "Frame shape: torch.Size([3, 224, 224]), Type: torch.float32\n",
            "Frame shape: torch.Size([3, 224, 224]), Type: torch.float32\n",
            "Frame shape: torch.Size([3, 224, 224]), Type: torch.float32\n",
            "Frame shape: torch.Size([3, 224, 224]), Type: torch.float32\n",
            "Frame shape: torch.Size([3, 224, 224]), Type: torch.float32\n",
            "Frame shape: torch.Size([3, 224, 224]), Type: torch.float32\n",
            "Frame shape: torch.Size([3, 224, 224]), Type: torch.float32\n",
            "Frame shape: torch.Size([3, 224, 224]), Type: torch.float32\n",
            "Frame shape: torch.Size([3, 224, 224]), Type: torch.float32\n"
          ]
        },
        {
          "output_type": "stream",
          "name": "stderr",
          "text": [
            "Training:  10%|█         | 2/20 [00:25<03:48, 12.69s/it, gpu_load=2.07GB, loss=0.5920]"
          ]
        },
        {
          "output_type": "stream",
          "name": "stdout",
          "text": [
            "Frame shape: torch.Size([3, 224, 224]), Type: torch.float32\n",
            "Frame shape: torch.Size([3, 224, 224]), Type: torch.float32\n",
            "Frame shape: torch.Size([3, 224, 224]), Type: torch.float32\n",
            "Frame shape: torch.Size([3, 224, 224]), Type: torch.float32\n",
            "Frame shape: torch.Size([3, 224, 224]), Type: torch.float32\n",
            "Frame shape: torch.Size([3, 224, 224]), Type: torch.float32\n",
            "Frame shape: torch.Size([3, 224, 224]), Type: torch.float32\n",
            "Frame shape: torch.Size([3, 224, 224]), Type: torch.float32\n",
            "Frame shape: torch.Size([3, 224, 224]), Type: torch.float32\n",
            "Frame shape: torch.Size([3, 224, 224]), Type: torch.float32\n",
            "Frame shape: torch.Size([3, 224, 224]), Type: torch.float32\n",
            "Frame shape: torch.Size([3, 224, 224]), Type: torch.float32\n",
            "Frame shape: torch.Size([3, 224, 224]), Type: torch.float32\n",
            "Frame shape: torch.Size([3, 224, 224]), Type: torch.float32\n",
            "Frame shape: torch.Size([3, 224, 224]), Type: torch.float32\n",
            "Frame shape: torch.Size([3, 224, 224]), Type: torch.float32\n",
            "Frame shape: torch.Size([3, 224, 224]), Type: torch.float32\n",
            "Frame shape: torch.Size([3, 224, 224]), Type: torch.float32\n",
            "Frame shape: torch.Size([3, 224, 224]), Type: torch.float32\n",
            "Frame shape: torch.Size([3, 224, 224]), Type: torch.float32\n",
            "Frame shape: torch.Size([3, 224, 224]), Type: torch.float32\n",
            "Frame shape: torch.Size([3, 224, 224]), Type: torch.float32\n",
            "Frame shape: torch.Size([3, 224, 224]), Type: torch.float32\n",
            "Frame shape: torch.Size([3, 224, 224]), Type: torch.float32\n"
          ]
        },
        {
          "output_type": "stream",
          "name": "stderr",
          "text": [
            "Training:  15%|█▌        | 3/20 [00:37<03:31, 12.46s/it, gpu_load=2.08GB, loss=0.5614]"
          ]
        },
        {
          "output_type": "stream",
          "name": "stdout",
          "text": [
            "Frame shape: torch.Size([3, 224, 224]), Type: torch.float32\n",
            "Frame shape: torch.Size([3, 224, 224]), Type: torch.float32\n",
            "Frame shape: torch.Size([3, 224, 224]), Type: torch.float32\n",
            "Frame shape: torch.Size([3, 224, 224]), Type: torch.float32\n",
            "Frame shape: torch.Size([3, 224, 224]), Type: torch.float32\n",
            "Frame shape: torch.Size([3, 224, 224]), Type: torch.float32\n",
            "Frame shape: torch.Size([3, 224, 224]), Type: torch.float32\n",
            "Frame shape: torch.Size([3, 224, 224]), Type: torch.float32\n",
            "Frame shape: torch.Size([3, 224, 224]), Type: torch.float32\n",
            "Frame shape: torch.Size([3, 224, 224]), Type: torch.float32\n",
            "Frame shape: torch.Size([3, 224, 224]), Type: torch.float32\n",
            "Frame shape: torch.Size([3, 224, 224]), Type: torch.float32\n",
            "Frame shape: torch.Size([3, 224, 224]), Type: torch.float32\n",
            "Frame shape: torch.Size([3, 224, 224]), Type: torch.float32\n",
            "Frame shape: torch.Size([3, 224, 224]), Type: torch.float32\n",
            "Frame shape: torch.Size([3, 224, 224]), Type: torch.float32\n",
            "Frame shape: torch.Size([3, 224, 224]), Type: torch.float32\n",
            "Frame shape: torch.Size([3, 224, 224]), Type: torch.float32\n",
            "Frame shape: torch.Size([3, 224, 224]), Type: torch.float32\n",
            "Frame shape: torch.Size([3, 224, 224]), Type: torch.float32\n",
            "Frame shape: torch.Size([3, 224, 224]), Type: torch.float32\n",
            "Frame shape: torch.Size([3, 224, 224]), Type: torch.float32\n",
            "Frame shape: torch.Size([3, 224, 224]), Type: torch.float32\n",
            "Frame shape: torch.Size([3, 224, 224]), Type: torch.float32\n"
          ]
        },
        {
          "output_type": "stream",
          "name": "stderr",
          "text": [
            "Training:  20%|██        | 4/20 [00:51<03:25, 12.83s/it, gpu_load=2.08GB, loss=0.7761]"
          ]
        },
        {
          "output_type": "stream",
          "name": "stdout",
          "text": [
            "Frame shape: torch.Size([3, 224, 224]), Type: torch.float32\n",
            "Frame shape: torch.Size([3, 224, 224]), Type: torch.float32\n",
            "Frame shape: torch.Size([3, 224, 224]), Type: torch.float32\n",
            "Frame shape: torch.Size([3, 224, 224]), Type: torch.float32\n",
            "Frame shape: torch.Size([3, 224, 224]), Type: torch.float32\n",
            "Frame shape: torch.Size([3, 224, 224]), Type: torch.float32\n",
            "Frame shape: torch.Size([3, 224, 224]), Type: torch.float32\n",
            "Frame shape: torch.Size([3, 224, 224]), Type: torch.float32\n",
            "Frame shape: torch.Size([3, 224, 224]), Type: torch.float32\n",
            "Frame shape: torch.Size([3, 224, 224]), Type: torch.float32\n",
            "Frame shape: torch.Size([3, 224, 224]), Type: torch.float32\n",
            "Frame shape: torch.Size([3, 224, 224]), Type: torch.float32\n",
            "Frame shape: torch.Size([3, 224, 224]), Type: torch.float32\n",
            "Frame shape: torch.Size([3, 224, 224]), Type: torch.float32\n",
            "Frame shape: torch.Size([3, 224, 224]), Type: torch.float32\n",
            "Frame shape: torch.Size([3, 224, 224]), Type: torch.float32\n",
            "Frame shape: torch.Size([3, 224, 224]), Type: torch.float32\n",
            "Frame shape: torch.Size([3, 224, 224]), Type: torch.float32\n",
            "Frame shape: torch.Size([3, 224, 224]), Type: torch.float32\n",
            "Frame shape: torch.Size([3, 224, 224]), Type: torch.float32\n",
            "Frame shape: torch.Size([3, 224, 224]), Type: torch.float32\n",
            "Frame shape: torch.Size([3, 224, 224]), Type: torch.float32\n",
            "Frame shape: torch.Size([3, 224, 224]), Type: torch.float32\n",
            "Frame shape: torch.Size([3, 224, 224]), Type: torch.float32\n"
          ]
        },
        {
          "output_type": "stream",
          "name": "stderr",
          "text": [
            "Training:  25%|██▌       | 5/20 [01:03<03:09, 12.65s/it, gpu_load=2.08GB, loss=0.9089]"
          ]
        },
        {
          "output_type": "stream",
          "name": "stdout",
          "text": [
            "Frame shape: torch.Size([3, 224, 224]), Type: torch.float32\n",
            "Frame shape: torch.Size([3, 224, 224]), Type: torch.float32\n",
            "Frame shape: torch.Size([3, 224, 224]), Type: torch.float32\n",
            "Frame shape: torch.Size([3, 224, 224]), Type: torch.float32\n",
            "Frame shape: torch.Size([3, 224, 224]), Type: torch.float32\n",
            "Frame shape: torch.Size([3, 224, 224]), Type: torch.float32\n",
            "Frame shape: torch.Size([3, 224, 224]), Type: torch.float32\n",
            "Frame shape: torch.Size([3, 224, 224]), Type: torch.float32\n",
            "Frame shape: torch.Size([3, 224, 224]), Type: torch.float32\n",
            "Frame shape: torch.Size([3, 224, 224]), Type: torch.float32\n",
            "Frame shape: torch.Size([3, 224, 224]), Type: torch.float32\n",
            "Frame shape: torch.Size([3, 224, 224]), Type: torch.float32\n",
            "Frame shape: torch.Size([3, 224, 224]), Type: torch.float32\n",
            "Frame shape: torch.Size([3, 224, 224]), Type: torch.float32\n",
            "Frame shape: torch.Size([3, 224, 224]), Type: torch.float32\n",
            "Frame shape: torch.Size([3, 224, 224]), Type: torch.float32\n",
            "Frame shape: torch.Size([3, 224, 224]), Type: torch.float32\n",
            "Frame shape: torch.Size([3, 224, 224]), Type: torch.float32\n",
            "Frame shape: torch.Size([3, 224, 224]), Type: torch.float32\n",
            "Frame shape: torch.Size([3, 224, 224]), Type: torch.float32\n",
            "Frame shape: torch.Size([3, 224, 224]), Type: torch.float32\n",
            "Frame shape: torch.Size([3, 224, 224]), Type: torch.float32\n",
            "Frame shape: torch.Size([3, 224, 224]), Type: torch.float32\n",
            "Frame shape: torch.Size([3, 224, 224]), Type: torch.float32\n"
          ]
        },
        {
          "output_type": "stream",
          "name": "stderr",
          "text": [
            "Training:  30%|███       | 6/20 [01:16<02:57, 12.70s/it, gpu_load=2.07GB, loss=0.6796]"
          ]
        },
        {
          "output_type": "stream",
          "name": "stdout",
          "text": [
            "Frame shape: torch.Size([3, 224, 224]), Type: torch.float32\n",
            "Frame shape: torch.Size([3, 224, 224]), Type: torch.float32\n",
            "Frame shape: torch.Size([3, 224, 224]), Type: torch.float32\n",
            "Frame shape: torch.Size([3, 224, 224]), Type: torch.float32\n",
            "Frame shape: torch.Size([3, 224, 224]), Type: torch.float32\n",
            "Frame shape: torch.Size([3, 224, 224]), Type: torch.float32\n",
            "Frame shape: torch.Size([3, 224, 224]), Type: torch.float32\n",
            "Frame shape: torch.Size([3, 224, 224]), Type: torch.float32\n",
            "Frame shape: torch.Size([3, 224, 224]), Type: torch.float32\n",
            "Frame shape: torch.Size([3, 224, 224]), Type: torch.float32\n",
            "Frame shape: torch.Size([3, 224, 224]), Type: torch.float32\n",
            "Frame shape: torch.Size([3, 224, 224]), Type: torch.float32\n",
            "Frame shape: torch.Size([3, 224, 224]), Type: torch.float32\n",
            "Frame shape: torch.Size([3, 224, 224]), Type: torch.float32\n",
            "Frame shape: torch.Size([3, 224, 224]), Type: torch.float32\n",
            "Frame shape: torch.Size([3, 224, 224]), Type: torch.float32\n",
            "Frame shape: torch.Size([3, 224, 224]), Type: torch.float32\n",
            "Frame shape: torch.Size([3, 224, 224]), Type: torch.float32\n",
            "Frame shape: torch.Size([3, 224, 224]), Type: torch.float32\n",
            "Frame shape: torch.Size([3, 224, 224]), Type: torch.float32\n",
            "Frame shape: torch.Size([3, 224, 224]), Type: torch.float32\n",
            "Frame shape: torch.Size([3, 224, 224]), Type: torch.float32\n",
            "Frame shape: torch.Size([3, 224, 224]), Type: torch.float32\n",
            "Frame shape: torch.Size([3, 224, 224]), Type: torch.float32\n"
          ]
        },
        {
          "output_type": "stream",
          "name": "stderr",
          "text": [
            "Training:  35%|███▌      | 7/20 [01:29<02:48, 12.95s/it, gpu_load=2.08GB, loss=0.3718]"
          ]
        },
        {
          "output_type": "stream",
          "name": "stdout",
          "text": [
            "Frame shape: torch.Size([3, 224, 224]), Type: torch.float32\n",
            "Frame shape: torch.Size([3, 224, 224]), Type: torch.float32\n",
            "Frame shape: torch.Size([3, 224, 224]), Type: torch.float32\n",
            "Frame shape: torch.Size([3, 224, 224]), Type: torch.float32\n",
            "Frame shape: torch.Size([3, 224, 224]), Type: torch.float32\n",
            "Frame shape: torch.Size([3, 224, 224]), Type: torch.float32\n",
            "Frame shape: torch.Size([3, 224, 224]), Type: torch.float32\n",
            "Frame shape: torch.Size([3, 224, 224]), Type: torch.float32\n",
            "Frame shape: torch.Size([3, 224, 224]), Type: torch.float32\n",
            "Frame shape: torch.Size([3, 224, 224]), Type: torch.float32\n",
            "Frame shape: torch.Size([3, 224, 224]), Type: torch.float32\n",
            "Frame shape: torch.Size([3, 224, 224]), Type: torch.float32\n",
            "Frame shape: torch.Size([3, 224, 224]), Type: torch.float32\n",
            "Frame shape: torch.Size([3, 224, 224]), Type: torch.float32\n",
            "Frame shape: torch.Size([3, 224, 224]), Type: torch.float32\n",
            "Frame shape: torch.Size([3, 224, 224]), Type: torch.float32\n",
            "Frame shape: torch.Size([3, 224, 224]), Type: torch.float32\n",
            "Frame shape: torch.Size([3, 224, 224]), Type: torch.float32\n",
            "Frame shape: torch.Size([3, 224, 224]), Type: torch.float32\n",
            "Frame shape: torch.Size([3, 224, 224]), Type: torch.float32\n",
            "Frame shape: torch.Size([3, 224, 224]), Type: torch.float32\n",
            "Frame shape: torch.Size([3, 224, 224]), Type: torch.float32\n",
            "Frame shape: torch.Size([3, 224, 224]), Type: torch.float32\n",
            "Frame shape: torch.Size([3, 224, 224]), Type: torch.float32\n"
          ]
        },
        {
          "output_type": "stream",
          "name": "stderr",
          "text": [
            "Training:  40%|████      | 8/20 [01:42<02:33, 12.82s/it, gpu_load=2.08GB, loss=0.6257]"
          ]
        },
        {
          "output_type": "stream",
          "name": "stdout",
          "text": [
            "Frame shape: torch.Size([3, 224, 224]), Type: torch.float32\n",
            "Frame shape: torch.Size([3, 224, 224]), Type: torch.float32\n",
            "Frame shape: torch.Size([3, 224, 224]), Type: torch.float32\n",
            "Frame shape: torch.Size([3, 224, 224]), Type: torch.float32\n",
            "Frame shape: torch.Size([3, 224, 224]), Type: torch.float32\n",
            "Frame shape: torch.Size([3, 224, 224]), Type: torch.float32\n",
            "Frame shape: torch.Size([3, 224, 224]), Type: torch.float32\n",
            "Frame shape: torch.Size([3, 224, 224]), Type: torch.float32\n",
            "Frame shape: torch.Size([3, 224, 224]), Type: torch.float32\n",
            "Frame shape: torch.Size([3, 224, 224]), Type: torch.float32\n",
            "Frame shape: torch.Size([3, 224, 224]), Type: torch.float32\n",
            "Frame shape: torch.Size([3, 224, 224]), Type: torch.float32\n",
            "Frame shape: torch.Size([3, 224, 224]), Type: torch.float32\n",
            "Frame shape: torch.Size([3, 224, 224]), Type: torch.float32\n",
            "Frame shape: torch.Size([3, 224, 224]), Type: torch.float32\n",
            "Frame shape: torch.Size([3, 224, 224]), Type: torch.float32\n",
            "Frame shape: torch.Size([3, 224, 224]), Type: torch.float32\n",
            "Frame shape: torch.Size([3, 224, 224]), Type: torch.float32\n",
            "Frame shape: torch.Size([3, 224, 224]), Type: torch.float32\n",
            "Frame shape: torch.Size([3, 224, 224]), Type: torch.float32\n",
            "Frame shape: torch.Size([3, 224, 224]), Type: torch.float32\n",
            "Frame shape: torch.Size([3, 224, 224]), Type: torch.float32\n",
            "Frame shape: torch.Size([3, 224, 224]), Type: torch.float32\n",
            "Frame shape: torch.Size([3, 224, 224]), Type: torch.float32\n"
          ]
        },
        {
          "output_type": "stream",
          "name": "stderr",
          "text": [
            "Training:  45%|████▌     | 9/20 [01:55<02:21, 12.84s/it, gpu_load=2.08GB, loss=1.2755]"
          ]
        },
        {
          "output_type": "stream",
          "name": "stdout",
          "text": [
            "Frame shape: torch.Size([3, 224, 224]), Type: torch.float32\n",
            "Frame shape: torch.Size([3, 224, 224]), Type: torch.float32\n",
            "Frame shape: torch.Size([3, 224, 224]), Type: torch.float32\n",
            "Frame shape: torch.Size([3, 224, 224]), Type: torch.float32\n",
            "Frame shape: torch.Size([3, 224, 224]), Type: torch.float32\n",
            "Frame shape: torch.Size([3, 224, 224]), Type: torch.float32\n",
            "Frame shape: torch.Size([3, 224, 224]), Type: torch.float32\n",
            "Frame shape: torch.Size([3, 224, 224]), Type: torch.float32\n",
            "Frame shape: torch.Size([3, 224, 224]), Type: torch.float32\n",
            "Frame shape: torch.Size([3, 224, 224]), Type: torch.float32\n",
            "Frame shape: torch.Size([3, 224, 224]), Type: torch.float32\n",
            "Frame shape: torch.Size([3, 224, 224]), Type: torch.float32\n",
            "Frame shape: torch.Size([3, 224, 224]), Type: torch.float32\n",
            "Frame shape: torch.Size([3, 224, 224]), Type: torch.float32\n",
            "Frame shape: torch.Size([3, 224, 224]), Type: torch.float32\n",
            "Frame shape: torch.Size([3, 224, 224]), Type: torch.float32\n",
            "Frame shape: torch.Size([3, 224, 224]), Type: torch.float32\n",
            "Frame shape: torch.Size([3, 224, 224]), Type: torch.float32\n",
            "Frame shape: torch.Size([3, 224, 224]), Type: torch.float32\n",
            "Frame shape: torch.Size([3, 224, 224]), Type: torch.float32\n",
            "Frame shape: torch.Size([3, 224, 224]), Type: torch.float32\n",
            "Frame shape: torch.Size([3, 224, 224]), Type: torch.float32\n",
            "Frame shape: torch.Size([3, 224, 224]), Type: torch.float32\n",
            "Frame shape: torch.Size([3, 224, 224]), Type: torch.float32\n"
          ]
        },
        {
          "output_type": "stream",
          "name": "stderr",
          "text": [
            "Training:  50%|█████     | 10/20 [02:08<02:10, 13.04s/it, gpu_load=2.08GB, loss=0.6445]"
          ]
        },
        {
          "output_type": "stream",
          "name": "stdout",
          "text": [
            "Frame shape: torch.Size([3, 224, 224]), Type: torch.float32\n",
            "Frame shape: torch.Size([3, 224, 224]), Type: torch.float32\n",
            "Frame shape: torch.Size([3, 224, 224]), Type: torch.float32\n",
            "Frame shape: torch.Size([3, 224, 224]), Type: torch.float32\n",
            "Frame shape: torch.Size([3, 224, 224]), Type: torch.float32\n",
            "Frame shape: torch.Size([3, 224, 224]), Type: torch.float32\n",
            "Frame shape: torch.Size([3, 224, 224]), Type: torch.float32\n",
            "Frame shape: torch.Size([3, 224, 224]), Type: torch.float32\n",
            "Frame shape: torch.Size([3, 224, 224]), Type: torch.float32\n",
            "Frame shape: torch.Size([3, 224, 224]), Type: torch.float32\n",
            "Frame shape: torch.Size([3, 224, 224]), Type: torch.float32\n",
            "Frame shape: torch.Size([3, 224, 224]), Type: torch.float32\n",
            "Frame shape: torch.Size([3, 224, 224]), Type: torch.float32\n",
            "Frame shape: torch.Size([3, 224, 224]), Type: torch.float32\n",
            "Frame shape: torch.Size([3, 224, 224]), Type: torch.float32\n",
            "Frame shape: torch.Size([3, 224, 224]), Type: torch.float32\n",
            "Frame shape: torch.Size([3, 224, 224]), Type: torch.float32\n",
            "Frame shape: torch.Size([3, 224, 224]), Type: torch.float32\n",
            "Frame shape: torch.Size([3, 224, 224]), Type: torch.float32\n",
            "Frame shape: torch.Size([3, 224, 224]), Type: torch.float32\n",
            "Frame shape: torch.Size([3, 224, 224]), Type: torch.float32\n",
            "Frame shape: torch.Size([3, 224, 224]), Type: torch.float32\n",
            "Frame shape: torch.Size([3, 224, 224]), Type: torch.float32\n",
            "Frame shape: torch.Size([3, 224, 224]), Type: torch.float32\n"
          ]
        },
        {
          "output_type": "stream",
          "name": "stderr",
          "text": [
            "Training:  55%|█████▌    | 11/20 [02:20<01:54, 12.76s/it, gpu_load=2.08GB, loss=0.5185]"
          ]
        },
        {
          "output_type": "stream",
          "name": "stdout",
          "text": [
            "Frame shape: torch.Size([3, 224, 224]), Type: torch.float32\n",
            "Frame shape: torch.Size([3, 224, 224]), Type: torch.float32\n",
            "Frame shape: torch.Size([3, 224, 224]), Type: torch.float32\n",
            "Frame shape: torch.Size([3, 224, 224]), Type: torch.float32\n",
            "Frame shape: torch.Size([3, 224, 224]), Type: torch.float32\n",
            "Frame shape: torch.Size([3, 224, 224]), Type: torch.float32\n",
            "Frame shape: torch.Size([3, 224, 224]), Type: torch.float32\n",
            "Frame shape: torch.Size([3, 224, 224]), Type: torch.float32\n",
            "Frame shape: torch.Size([3, 224, 224]), Type: torch.float32\n",
            "Frame shape: torch.Size([3, 224, 224]), Type: torch.float32\n",
            "Frame shape: torch.Size([3, 224, 224]), Type: torch.float32\n",
            "Frame shape: torch.Size([3, 224, 224]), Type: torch.float32\n",
            "Frame shape: torch.Size([3, 224, 224]), Type: torch.float32\n",
            "Frame shape: torch.Size([3, 224, 224]), Type: torch.float32\n",
            "Frame shape: torch.Size([3, 224, 224]), Type: torch.float32\n",
            "Frame shape: torch.Size([3, 224, 224]), Type: torch.float32\n",
            "Frame shape: torch.Size([3, 224, 224]), Type: torch.float32\n",
            "Frame shape: torch.Size([3, 224, 224]), Type: torch.float32\n",
            "Frame shape: torch.Size([3, 224, 224]), Type: torch.float32\n",
            "Frame shape: torch.Size([3, 224, 224]), Type: torch.float32\n",
            "Frame shape: torch.Size([3, 224, 224]), Type: torch.float32\n",
            "Frame shape: torch.Size([3, 224, 224]), Type: torch.float32\n",
            "Frame shape: torch.Size([3, 224, 224]), Type: torch.float32\n",
            "Frame shape: torch.Size([3, 224, 224]), Type: torch.float32\n"
          ]
        },
        {
          "output_type": "stream",
          "name": "stderr",
          "text": [
            "Training:  60%|██████    | 12/20 [02:33<01:41, 12.72s/it, gpu_load=2.08GB, loss=1.1959]"
          ]
        },
        {
          "output_type": "stream",
          "name": "stdout",
          "text": [
            "Frame shape: torch.Size([3, 224, 224]), Type: torch.float32\n",
            "Frame shape: torch.Size([3, 224, 224]), Type: torch.float32\n",
            "Frame shape: torch.Size([3, 224, 224]), Type: torch.float32\n",
            "Frame shape: torch.Size([3, 224, 224]), Type: torch.float32\n",
            "Frame shape: torch.Size([3, 224, 224]), Type: torch.float32\n",
            "Frame shape: torch.Size([3, 224, 224]), Type: torch.float32\n",
            "Frame shape: torch.Size([3, 224, 224]), Type: torch.float32\n",
            "Frame shape: torch.Size([3, 224, 224]), Type: torch.float32\n",
            "Frame shape: torch.Size([3, 224, 224]), Type: torch.float32\n",
            "Frame shape: torch.Size([3, 224, 224]), Type: torch.float32\n",
            "Frame shape: torch.Size([3, 224, 224]), Type: torch.float32\n",
            "Frame shape: torch.Size([3, 224, 224]), Type: torch.float32\n",
            "Frame shape: torch.Size([3, 224, 224]), Type: torch.float32\n",
            "Frame shape: torch.Size([3, 224, 224]), Type: torch.float32\n",
            "Frame shape: torch.Size([3, 224, 224]), Type: torch.float32\n",
            "Frame shape: torch.Size([3, 224, 224]), Type: torch.float32\n",
            "Frame shape: torch.Size([3, 224, 224]), Type: torch.float32\n",
            "Frame shape: torch.Size([3, 224, 224]), Type: torch.float32\n",
            "Frame shape: torch.Size([3, 224, 224]), Type: torch.float32\n",
            "Frame shape: torch.Size([3, 224, 224]), Type: torch.float32\n",
            "Frame shape: torch.Size([3, 224, 224]), Type: torch.float32\n",
            "Frame shape: torch.Size([3, 224, 224]), Type: torch.float32\n",
            "Frame shape: torch.Size([3, 224, 224]), Type: torch.float32\n",
            "Frame shape: torch.Size([3, 224, 224]), Type: torch.float32\n"
          ]
        },
        {
          "output_type": "stream",
          "name": "stderr",
          "text": [
            "Training:  65%|██████▌   | 13/20 [02:47<01:31, 13.03s/it, gpu_load=2.08GB, loss=0.6929]"
          ]
        },
        {
          "output_type": "stream",
          "name": "stdout",
          "text": [
            "Frame shape: torch.Size([3, 224, 224]), Type: torch.float32\n",
            "Frame shape: torch.Size([3, 224, 224]), Type: torch.float32\n",
            "Frame shape: torch.Size([3, 224, 224]), Type: torch.float32\n",
            "Frame shape: torch.Size([3, 224, 224]), Type: torch.float32\n",
            "Frame shape: torch.Size([3, 224, 224]), Type: torch.float32\n",
            "Frame shape: torch.Size([3, 224, 224]), Type: torch.float32\n",
            "Frame shape: torch.Size([3, 224, 224]), Type: torch.float32\n",
            "Frame shape: torch.Size([3, 224, 224]), Type: torch.float32\n",
            "Frame shape: torch.Size([3, 224, 224]), Type: torch.float32\n",
            "Frame shape: torch.Size([3, 224, 224]), Type: torch.float32\n",
            "Frame shape: torch.Size([3, 224, 224]), Type: torch.float32\n",
            "Frame shape: torch.Size([3, 224, 224]), Type: torch.float32\n",
            "Frame shape: torch.Size([3, 224, 224]), Type: torch.float32\n",
            "Frame shape: torch.Size([3, 224, 224]), Type: torch.float32\n",
            "Frame shape: torch.Size([3, 224, 224]), Type: torch.float32\n",
            "Frame shape: torch.Size([3, 224, 224]), Type: torch.float32\n",
            "Frame shape: torch.Size([3, 224, 224]), Type: torch.float32\n",
            "Frame shape: torch.Size([3, 224, 224]), Type: torch.float32\n",
            "Frame shape: torch.Size([3, 224, 224]), Type: torch.float32\n",
            "Frame shape: torch.Size([3, 224, 224]), Type: torch.float32\n",
            "Frame shape: torch.Size([3, 224, 224]), Type: torch.float32\n",
            "Frame shape: torch.Size([3, 224, 224]), Type: torch.float32\n",
            "Frame shape: torch.Size([3, 224, 224]), Type: torch.float32\n",
            "Frame shape: torch.Size([3, 224, 224]), Type: torch.float32\n"
          ]
        },
        {
          "output_type": "stream",
          "name": "stderr",
          "text": [
            "Training:  70%|███████   | 14/20 [02:59<01:16, 12.76s/it, gpu_load=2.08GB, loss=0.6657]"
          ]
        },
        {
          "output_type": "stream",
          "name": "stdout",
          "text": [
            "Frame shape: torch.Size([3, 224, 224]), Type: torch.float32\n",
            "Frame shape: torch.Size([3, 224, 224]), Type: torch.float32\n",
            "Frame shape: torch.Size([3, 224, 224]), Type: torch.float32\n",
            "Frame shape: torch.Size([3, 224, 224]), Type: torch.float32\n",
            "Frame shape: torch.Size([3, 224, 224]), Type: torch.float32\n",
            "Frame shape: torch.Size([3, 224, 224]), Type: torch.float32\n",
            "Frame shape: torch.Size([3, 224, 224]), Type: torch.float32\n",
            "Frame shape: torch.Size([3, 224, 224]), Type: torch.float32\n",
            "Frame shape: torch.Size([3, 224, 224]), Type: torch.float32\n",
            "Frame shape: torch.Size([3, 224, 224]), Type: torch.float32\n",
            "Frame shape: torch.Size([3, 224, 224]), Type: torch.float32\n",
            "Frame shape: torch.Size([3, 224, 224]), Type: torch.float32\n",
            "Frame shape: torch.Size([3, 224, 224]), Type: torch.float32\n",
            "Frame shape: torch.Size([3, 224, 224]), Type: torch.float32\n",
            "Frame shape: torch.Size([3, 224, 224]), Type: torch.float32\n",
            "Frame shape: torch.Size([3, 224, 224]), Type: torch.float32\n",
            "Frame shape: torch.Size([3, 224, 224]), Type: torch.float32\n",
            "Frame shape: torch.Size([3, 224, 224]), Type: torch.float32\n",
            "Frame shape: torch.Size([3, 224, 224]), Type: torch.float32\n",
            "Frame shape: torch.Size([3, 224, 224]), Type: torch.float32\n",
            "Frame shape: torch.Size([3, 224, 224]), Type: torch.float32\n",
            "Frame shape: torch.Size([3, 224, 224]), Type: torch.float32\n",
            "Frame shape: torch.Size([3, 224, 224]), Type: torch.float32\n",
            "Frame shape: torch.Size([3, 224, 224]), Type: torch.float32\n"
          ]
        },
        {
          "output_type": "stream",
          "name": "stderr",
          "text": [
            "Training:  75%|███████▌  | 15/20 [03:12<01:03, 12.74s/it, gpu_load=2.08GB, loss=0.6808]"
          ]
        },
        {
          "output_type": "stream",
          "name": "stdout",
          "text": [
            "Frame shape: torch.Size([3, 224, 224]), Type: torch.float32\n",
            "Frame shape: torch.Size([3, 224, 224]), Type: torch.float32\n",
            "Frame shape: torch.Size([3, 224, 224]), Type: torch.float32\n",
            "Frame shape: torch.Size([3, 224, 224]), Type: torch.float32\n",
            "Frame shape: torch.Size([3, 224, 224]), Type: torch.float32\n",
            "Frame shape: torch.Size([3, 224, 224]), Type: torch.float32\n",
            "Frame shape: torch.Size([3, 224, 224]), Type: torch.float32\n",
            "Frame shape: torch.Size([3, 224, 224]), Type: torch.float32\n",
            "Frame shape: torch.Size([3, 224, 224]), Type: torch.float32\n",
            "Frame shape: torch.Size([3, 224, 224]), Type: torch.float32\n",
            "Frame shape: torch.Size([3, 224, 224]), Type: torch.float32\n",
            "Frame shape: torch.Size([3, 224, 224]), Type: torch.float32\n",
            "Frame shape: torch.Size([3, 224, 224]), Type: torch.float32\n",
            "Frame shape: torch.Size([3, 224, 224]), Type: torch.float32\n",
            "Frame shape: torch.Size([3, 224, 224]), Type: torch.float32\n",
            "Frame shape: torch.Size([3, 224, 224]), Type: torch.float32\n",
            "Frame shape: torch.Size([3, 224, 224]), Type: torch.float32\n",
            "Frame shape: torch.Size([3, 224, 224]), Type: torch.float32\n",
            "Frame shape: torch.Size([3, 224, 224]), Type: torch.float32\n",
            "Frame shape: torch.Size([3, 224, 224]), Type: torch.float32\n",
            "Frame shape: torch.Size([3, 224, 224]), Type: torch.float32\n",
            "Frame shape: torch.Size([3, 224, 224]), Type: torch.float32\n",
            "Frame shape: torch.Size([3, 224, 224]), Type: torch.float32\n",
            "Frame shape: torch.Size([3, 224, 224]), Type: torch.float32\n"
          ]
        },
        {
          "output_type": "stream",
          "name": "stderr",
          "text": [
            "Training:  80%|████████  | 16/20 [03:25<00:51, 12.99s/it, gpu_load=2.08GB, loss=0.8231]"
          ]
        },
        {
          "output_type": "stream",
          "name": "stdout",
          "text": [
            "Frame shape: torch.Size([3, 224, 224]), Type: torch.float32\n",
            "Frame shape: torch.Size([3, 224, 224]), Type: torch.float32\n",
            "Frame shape: torch.Size([3, 224, 224]), Type: torch.float32\n",
            "Frame shape: torch.Size([3, 224, 224]), Type: torch.float32\n",
            "Frame shape: torch.Size([3, 224, 224]), Type: torch.float32\n",
            "Frame shape: torch.Size([3, 224, 224]), Type: torch.float32\n",
            "Frame shape: torch.Size([3, 224, 224]), Type: torch.float32\n",
            "Frame shape: torch.Size([3, 224, 224]), Type: torch.float32\n",
            "Frame shape: torch.Size([3, 224, 224]), Type: torch.float32\n",
            "Frame shape: torch.Size([3, 224, 224]), Type: torch.float32\n",
            "Frame shape: torch.Size([3, 224, 224]), Type: torch.float32\n",
            "Frame shape: torch.Size([3, 224, 224]), Type: torch.float32\n",
            "Frame shape: torch.Size([3, 224, 224]), Type: torch.float32\n",
            "Frame shape: torch.Size([3, 224, 224]), Type: torch.float32\n",
            "Frame shape: torch.Size([3, 224, 224]), Type: torch.float32\n",
            "Frame shape: torch.Size([3, 224, 224]), Type: torch.float32\n",
            "Frame shape: torch.Size([3, 224, 224]), Type: torch.float32\n",
            "Frame shape: torch.Size([3, 224, 224]), Type: torch.float32\n",
            "Frame shape: torch.Size([3, 224, 224]), Type: torch.float32\n",
            "Frame shape: torch.Size([3, 224, 224]), Type: torch.float32\n",
            "Frame shape: torch.Size([3, 224, 224]), Type: torch.float32\n",
            "Frame shape: torch.Size([3, 224, 224]), Type: torch.float32\n",
            "Frame shape: torch.Size([3, 224, 224]), Type: torch.float32\n",
            "Frame shape: torch.Size([3, 224, 224]), Type: torch.float32\n"
          ]
        },
        {
          "output_type": "stream",
          "name": "stderr",
          "text": [
            "Training:  85%|████████▌ | 17/20 [03:39<00:39, 13.26s/it, gpu_load=2.08GB, loss=0.4032]"
          ]
        },
        {
          "output_type": "stream",
          "name": "stdout",
          "text": [
            "Frame shape: torch.Size([3, 224, 224]), Type: torch.float32\n",
            "Frame shape: torch.Size([3, 224, 224]), Type: torch.float32\n",
            "Frame shape: torch.Size([3, 224, 224]), Type: torch.float32\n",
            "Frame shape: torch.Size([3, 224, 224]), Type: torch.float32\n",
            "Frame shape: torch.Size([3, 224, 224]), Type: torch.float32\n",
            "Frame shape: torch.Size([3, 224, 224]), Type: torch.float32\n",
            "Frame shape: torch.Size([3, 224, 224]), Type: torch.float32\n",
            "Frame shape: torch.Size([3, 224, 224]), Type: torch.float32\n",
            "Frame shape: torch.Size([3, 224, 224]), Type: torch.float32\n",
            "Frame shape: torch.Size([3, 224, 224]), Type: torch.float32\n",
            "Frame shape: torch.Size([3, 224, 224]), Type: torch.float32\n",
            "Frame shape: torch.Size([3, 224, 224]), Type: torch.float32\n",
            "Frame shape: torch.Size([3, 224, 224]), Type: torch.float32\n",
            "Frame shape: torch.Size([3, 224, 224]), Type: torch.float32\n",
            "Frame shape: torch.Size([3, 224, 224]), Type: torch.float32\n",
            "Frame shape: torch.Size([3, 224, 224]), Type: torch.float32\n",
            "Frame shape: torch.Size([3, 224, 224]), Type: torch.float32\n",
            "Frame shape: torch.Size([3, 224, 224]), Type: torch.float32\n",
            "Frame shape: torch.Size([3, 224, 224]), Type: torch.float32\n",
            "Frame shape: torch.Size([3, 224, 224]), Type: torch.float32\n",
            "Frame shape: torch.Size([3, 224, 224]), Type: torch.float32\n",
            "Frame shape: torch.Size([3, 224, 224]), Type: torch.float32\n",
            "Frame shape: torch.Size([3, 224, 224]), Type: torch.float32\n",
            "Frame shape: torch.Size([3, 224, 224]), Type: torch.float32\n"
          ]
        },
        {
          "output_type": "stream",
          "name": "stderr",
          "text": [
            "Training:  90%|█████████ | 18/20 [03:52<00:26, 13.12s/it, gpu_load=2.07GB, loss=0.7904]"
          ]
        },
        {
          "output_type": "stream",
          "name": "stdout",
          "text": [
            "Frame shape: torch.Size([3, 224, 224]), Type: torch.float32\n",
            "Frame shape: torch.Size([3, 224, 224]), Type: torch.float32\n",
            "Frame shape: torch.Size([3, 224, 224]), Type: torch.float32\n",
            "Frame shape: torch.Size([3, 224, 224]), Type: torch.float32\n",
            "Frame shape: torch.Size([3, 224, 224]), Type: torch.float32\n",
            "Frame shape: torch.Size([3, 224, 224]), Type: torch.float32\n",
            "Frame shape: torch.Size([3, 224, 224]), Type: torch.float32\n",
            "Frame shape: torch.Size([3, 224, 224]), Type: torch.float32\n",
            "Frame shape: torch.Size([3, 224, 224]), Type: torch.float32\n",
            "Frame shape: torch.Size([3, 224, 224]), Type: torch.float32\n",
            "Frame shape: torch.Size([3, 224, 224]), Type: torch.float32\n",
            "Frame shape: torch.Size([3, 224, 224]), Type: torch.float32\n",
            "Frame shape: torch.Size([3, 224, 224]), Type: torch.float32\n",
            "Frame shape: torch.Size([3, 224, 224]), Type: torch.float32\n",
            "Frame shape: torch.Size([3, 224, 224]), Type: torch.float32\n",
            "Frame shape: torch.Size([3, 224, 224]), Type: torch.float32\n",
            "Frame shape: torch.Size([3, 224, 224]), Type: torch.float32\n",
            "Frame shape: torch.Size([3, 224, 224]), Type: torch.float32\n",
            "Frame shape: torch.Size([3, 224, 224]), Type: torch.float32\n",
            "Frame shape: torch.Size([3, 224, 224]), Type: torch.float32\n",
            "Frame shape: torch.Size([3, 224, 224]), Type: torch.float32\n",
            "Frame shape: torch.Size([3, 224, 224]), Type: torch.float32\n",
            "Frame shape: torch.Size([3, 224, 224]), Type: torch.float32\n",
            "Frame shape: torch.Size([3, 224, 224]), Type: torch.float32\n"
          ]
        },
        {
          "output_type": "stream",
          "name": "stderr",
          "text": [
            "Training:  95%|█████████▌| 19/20 [04:05<00:13, 13.16s/it, gpu_load=2.08GB, loss=0.6337]"
          ]
        },
        {
          "output_type": "stream",
          "name": "stdout",
          "text": [
            "Frame shape: torch.Size([3, 224, 224]), Type: torch.float32\n",
            "Frame shape: torch.Size([3, 224, 224]), Type: torch.float32\n",
            "Frame shape: torch.Size([3, 224, 224]), Type: torch.float32\n",
            "Frame shape: torch.Size([3, 224, 224]), Type: torch.float32\n",
            "Frame shape: torch.Size([3, 224, 224]), Type: torch.float32\n",
            "Frame shape: torch.Size([3, 224, 224]), Type: torch.float32\n",
            "Frame shape: torch.Size([3, 224, 224]), Type: torch.float32\n",
            "Frame shape: torch.Size([3, 224, 224]), Type: torch.float32\n",
            "Frame shape: torch.Size([3, 224, 224]), Type: torch.float32\n",
            "Frame shape: torch.Size([3, 224, 224]), Type: torch.float32\n",
            "Frame shape: torch.Size([3, 224, 224]), Type: torch.float32\n",
            "Frame shape: torch.Size([3, 224, 224]), Type: torch.float32\n",
            "Frame shape: torch.Size([3, 224, 224]), Type: torch.float32\n",
            "Frame shape: torch.Size([3, 224, 224]), Type: torch.float32\n",
            "Frame shape: torch.Size([3, 224, 224]), Type: torch.float32\n",
            "Frame shape: torch.Size([3, 224, 224]), Type: torch.float32\n",
            "Frame shape: torch.Size([3, 224, 224]), Type: torch.float32\n",
            "Frame shape: torch.Size([3, 224, 224]), Type: torch.float32\n",
            "Frame shape: torch.Size([3, 224, 224]), Type: torch.float32\n",
            "Frame shape: torch.Size([3, 224, 224]), Type: torch.float32\n",
            "Frame shape: torch.Size([3, 224, 224]), Type: torch.float32\n"
          ]
        },
        {
          "output_type": "stream",
          "name": "stderr",
          "text": [
            "Training: 100%|██████████| 20/20 [04:18<00:00, 12.91s/it, gpu_load=1.83GB, loss=0.9108]\n"
          ]
        },
        {
          "output_type": "stream",
          "name": "stdout",
          "text": [
            "Frame shape: torch.Size([3, 224, 224]), Type: torch.float32\n"
          ]
        },
        {
          "output_type": "stream",
          "name": "stderr",
          "text": [
            "\rTesting:   0%|          | 0/5 [00:00<?, ?it/s]"
          ]
        },
        {
          "output_type": "stream",
          "name": "stdout",
          "text": [
            "Frame shape: torch.Size([3, 224, 224]), Type: torch.float32\n",
            "Frame shape: torch.Size([3, 224, 224]), Type: torch.float32\n",
            "Frame shape: torch.Size([3, 224, 224]), Type: torch.float32\n",
            "Frame shape: torch.Size([3, 224, 224]), Type: torch.float32\n",
            "Frame shape: torch.Size([3, 224, 224]), Type: torch.float32\n",
            "Frame shape: torch.Size([3, 224, 224]), Type: torch.float32\n",
            "Frame shape: torch.Size([3, 224, 224]), Type: torch.float32\n",
            "Frame shape: torch.Size([3, 224, 224]), Type: torch.float32\n",
            "Frame shape: torch.Size([3, 224, 224]), Type: torch.float32\n",
            "Frame shape: torch.Size([3, 224, 224]), Type: torch.float32\n",
            "Frame shape: torch.Size([3, 224, 224]), Type: torch.float32\n",
            "Frame shape: torch.Size([3, 224, 224]), Type: torch.float32\n",
            "Frame shape: torch.Size([3, 224, 224]), Type: torch.float32\n",
            "Frame shape: torch.Size([3, 224, 224]), Type: torch.float32\n",
            "Frame shape: torch.Size([3, 224, 224]), Type: torch.float32\n",
            "Frame shape: torch.Size([3, 224, 224]), Type: torch.float32\n",
            "Frame shape: torch.Size([3, 224, 224]), Type: torch.float32\n",
            "Frame shape: torch.Size([3, 224, 224]), Type: torch.float32\n",
            "Frame shape: torch.Size([3, 224, 224]), Type: torch.float32\n",
            "Frame shape: torch.Size([3, 224, 224]), Type: torch.float32\n",
            "Frame shape: torch.Size([3, 224, 224]), Type: torch.float32\n",
            "Frame shape: torch.Size([3, 224, 224]), Type: torch.float32\n",
            "Frame shape: torch.Size([3, 224, 224]), Type: torch.float32\n"
          ]
        },
        {
          "output_type": "stream",
          "name": "stderr",
          "text": [
            "Testing:  20%|██        | 1/5 [00:13<00:54, 13.61s/it, loss=3.1657]"
          ]
        },
        {
          "output_type": "stream",
          "name": "stdout",
          "text": [
            "Frame shape: torch.Size([3, 224, 224]), Type: torch.float32\n",
            "Frame shape: torch.Size([3, 224, 224]), Type: torch.float32\n",
            "Frame shape: torch.Size([3, 224, 224]), Type: torch.float32\n",
            "Frame shape: torch.Size([3, 224, 224]), Type: torch.float32\n",
            "Frame shape: torch.Size([3, 224, 224]), Type: torch.float32\n",
            "Frame shape: torch.Size([3, 224, 224]), Type: torch.float32\n",
            "Frame shape: torch.Size([3, 224, 224]), Type: torch.float32\n",
            "Frame shape: torch.Size([3, 224, 224]), Type: torch.float32\n",
            "Frame shape: torch.Size([3, 224, 224]), Type: torch.float32\n",
            "Frame shape: torch.Size([3, 224, 224]), Type: torch.float32\n",
            "Frame shape: torch.Size([3, 224, 224]), Type: torch.float32\n",
            "Frame shape: torch.Size([3, 224, 224]), Type: torch.float32\n",
            "Frame shape: torch.Size([3, 224, 224]), Type: torch.float32\n",
            "Frame shape: torch.Size([3, 224, 224]), Type: torch.float32\n",
            "Frame shape: torch.Size([3, 224, 224]), Type: torch.float32\n",
            "Frame shape: torch.Size([3, 224, 224]), Type: torch.float32\n",
            "Frame shape: torch.Size([3, 224, 224]), Type: torch.float32\n",
            "Frame shape: torch.Size([3, 224, 224]), Type: torch.float32\n",
            "Frame shape: torch.Size([3, 224, 224]), Type: torch.float32\n",
            "Frame shape: torch.Size([3, 224, 224]), Type: torch.float32\n",
            "Frame shape: torch.Size([3, 224, 224]), Type: torch.float32\n",
            "Frame shape: torch.Size([3, 224, 224]), Type: torch.float32\n",
            "Frame shape: torch.Size([3, 224, 224]), Type: torch.float32\n",
            "Frame shape: torch.Size([3, 224, 224]), Type: torch.float32\n"
          ]
        },
        {
          "output_type": "stream",
          "name": "stderr",
          "text": [
            "Testing:  40%|████      | 2/5 [00:25<00:37, 12.36s/it, loss=3.0369]"
          ]
        },
        {
          "output_type": "stream",
          "name": "stdout",
          "text": [
            "Frame shape: torch.Size([3, 224, 224]), Type: torch.float32\n",
            "Frame shape: torch.Size([3, 224, 224]), Type: torch.float32\n",
            "Frame shape: torch.Size([3, 224, 224]), Type: torch.float32\n",
            "Frame shape: torch.Size([3, 224, 224]), Type: torch.float32\n",
            "Frame shape: torch.Size([3, 224, 224]), Type: torch.float32\n",
            "Frame shape: torch.Size([3, 224, 224]), Type: torch.float32\n",
            "Frame shape: torch.Size([3, 224, 224]), Type: torch.float32\n",
            "Frame shape: torch.Size([3, 224, 224]), Type: torch.float32\n",
            "Frame shape: torch.Size([3, 224, 224]), Type: torch.float32\n",
            "Frame shape: torch.Size([3, 224, 224]), Type: torch.float32\n",
            "Frame shape: torch.Size([3, 224, 224]), Type: torch.float32\n",
            "Frame shape: torch.Size([3, 224, 224]), Type: torch.float32\n",
            "Frame shape: torch.Size([3, 224, 224]), Type: torch.float32\n",
            "Frame shape: torch.Size([3, 224, 224]), Type: torch.float32\n",
            "Frame shape: torch.Size([3, 224, 224]), Type: torch.float32\n",
            "Frame shape: torch.Size([3, 224, 224]), Type: torch.float32\n",
            "Frame shape: torch.Size([3, 224, 224]), Type: torch.float32\n",
            "Frame shape: torch.Size([3, 224, 224]), Type: torch.float32\n",
            "Frame shape: torch.Size([3, 224, 224]), Type: torch.float32\n",
            "Frame shape: torch.Size([3, 224, 224]), Type: torch.float32\n",
            "Frame shape: torch.Size([3, 224, 224]), Type: torch.float32\n",
            "Frame shape: torch.Size([3, 224, 224]), Type: torch.float32\n",
            "Frame shape: torch.Size([3, 224, 224]), Type: torch.float32\n",
            "Frame shape: torch.Size([3, 224, 224]), Type: torch.float32\n"
          ]
        },
        {
          "output_type": "stream",
          "name": "stderr",
          "text": [
            "Testing:  60%|██████    | 3/5 [00:39<00:26, 13.10s/it, loss=1.8248]"
          ]
        },
        {
          "output_type": "stream",
          "name": "stdout",
          "text": [
            "Frame shape: torch.Size([3, 224, 224]), Type: torch.float32\n",
            "Frame shape: torch.Size([3, 224, 224]), Type: torch.float32\n",
            "Frame shape: torch.Size([3, 224, 224]), Type: torch.float32\n",
            "Frame shape: torch.Size([3, 224, 224]), Type: torch.float32\n",
            "Frame shape: torch.Size([3, 224, 224]), Type: torch.float32\n",
            "Frame shape: torch.Size([3, 224, 224]), Type: torch.float32\n",
            "Frame shape: torch.Size([3, 224, 224]), Type: torch.float32\n",
            "Frame shape: torch.Size([3, 224, 224]), Type: torch.float32\n",
            "Frame shape: torch.Size([3, 224, 224]), Type: torch.float32\n",
            "Frame shape: torch.Size([3, 224, 224]), Type: torch.float32\n",
            "Frame shape: torch.Size([3, 224, 224]), Type: torch.float32\n",
            "Frame shape: torch.Size([3, 224, 224]), Type: torch.float32\n",
            "Frame shape: torch.Size([3, 224, 224]), Type: torch.float32\n",
            "Frame shape: torch.Size([3, 224, 224]), Type: torch.float32\n",
            "Frame shape: torch.Size([3, 224, 224]), Type: torch.float32\n",
            "Frame shape: torch.Size([3, 224, 224]), Type: torch.float32\n",
            "Frame shape: torch.Size([3, 224, 224]), Type: torch.float32\n",
            "Frame shape: torch.Size([3, 224, 224]), Type: torch.float32\n",
            "Frame shape: torch.Size([3, 224, 224]), Type: torch.float32\n",
            "Frame shape: torch.Size([3, 224, 224]), Type: torch.float32\n",
            "Frame shape: torch.Size([3, 224, 224]), Type: torch.float32\n",
            "Frame shape: torch.Size([3, 224, 224]), Type: torch.float32\n",
            "Frame shape: torch.Size([3, 224, 224]), Type: torch.float32\n",
            "Frame shape: torch.Size([3, 224, 224]), Type: torch.float32\n",
            "Frame shape: torch.Size([3, 224, 224]), Type: torch.float32\n"
          ]
        },
        {
          "output_type": "stream",
          "name": "stderr",
          "text": [
            "Testing:  80%|████████  | 4/5 [00:51<00:12, 12.96s/it, loss=3.7717]"
          ]
        },
        {
          "output_type": "stream",
          "name": "stdout",
          "text": [
            "Frame shape: torch.Size([3, 224, 224]), Type: torch.float32\n",
            "Frame shape: torch.Size([3, 224, 224]), Type: torch.float32\n",
            "Frame shape: torch.Size([3, 224, 224]), Type: torch.float32\n",
            "Frame shape: torch.Size([3, 224, 224]), Type: torch.float32\n",
            "Frame shape: torch.Size([3, 224, 224]), Type: torch.float32\n",
            "Frame shape: torch.Size([3, 224, 224]), Type: torch.float32\n",
            "Frame shape: torch.Size([3, 224, 224]), Type: torch.float32\n",
            "Frame shape: torch.Size([3, 224, 224]), Type: torch.float32\n",
            "Frame shape: torch.Size([3, 224, 224]), Type: torch.float32\n",
            "Frame shape: torch.Size([3, 224, 224]), Type: torch.float32\n",
            "Frame shape: torch.Size([3, 224, 224]), Type: torch.float32\n",
            "Frame shape: torch.Size([3, 224, 224]), Type: torch.float32\n",
            "Frame shape: torch.Size([3, 224, 224]), Type: torch.float32\n",
            "Frame shape: torch.Size([3, 224, 224]), Type: torch.float32\n",
            "Frame shape: torch.Size([3, 224, 224]), Type: torch.float32\n",
            "Frame shape: torch.Size([3, 224, 224]), Type: torch.float32\n",
            "Frame shape: torch.Size([3, 224, 224]), Type: torch.float32\n",
            "Frame shape: torch.Size([3, 224, 224]), Type: torch.float32\n",
            "Frame shape: torch.Size([3, 224, 224]), Type: torch.float32\n",
            "Frame shape: torch.Size([3, 224, 224]), Type: torch.float32\n",
            "Frame shape: torch.Size([3, 224, 224]), Type: torch.float32\n",
            "Frame shape: torch.Size([3, 224, 224]), Type: torch.float32\n",
            "Frame shape: torch.Size([3, 224, 224]), Type: torch.float32\n"
          ]
        },
        {
          "output_type": "stream",
          "name": "stderr",
          "text": [
            "Testing: 100%|██████████| 5/5 [01:04<00:00, 12.83s/it, loss=3.1301]"
          ]
        },
        {
          "output_type": "stream",
          "name": "stdout",
          "text": [
            "Frame shape: torch.Size([3, 224, 224]), Type: torch.float32\n",
            "epoch: 10, lr_rate 0.0005120000000000001\n",
            "loss_train: 0.7132| loss_valid: 2.9858|\n",
            "metric 0.25.\n",
            "Elapsed time: 00:05:22\n"
          ]
        },
        {
          "output_type": "stream",
          "name": "stderr",
          "text": [
            "\n"
          ]
        }
      ]
    },
    {
      "cell_type": "code",
      "source": [],
      "metadata": {
        "id": "OQDigyhGYiHL"
      },
      "execution_count": null,
      "outputs": []
    }
  ]
}